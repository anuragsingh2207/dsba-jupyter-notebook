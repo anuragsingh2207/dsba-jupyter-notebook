{
 "cells": [
  {
   "cell_type": "markdown",
   "id": "df1196fa",
   "metadata": {},
   "source": [
    "### Source from MULTIVARIATE DATA  ANALYSIS Joseph F. Hair Jr., William C. Black, Barry J. Babin, Rolph E. Anderson\n",
    "\n",
    "### To fit a linear regression, lasso regression model understadning which variables play a role in affecting the likelihood of recommending HBAT\n",
    "\n",
    "HBAT sells paper products to two market segments: the newsprint industry and the magazine industry. Also, paper products are sold to these market seg ments either directly to the customer or indirectly through a broker. Two types of information were collected in the surveys, for this case the perceptions of customers are considered \n",
    "\n",
    "### X20 Likelihood of recommending HBAT (Scale given)\n",
    "The folliwng are the variables considred \n",
    "### X1 - Customer type length of time a particular customer has been buying  1 - Less than 1 year, 2 - between 1 and 5 years, 3- longer than 5 years \n",
    "### X2 - Industry type that purchases HBAT prodcts magazine and newspaper industry\n",
    "#### X6 Product Quality Perceived level of quality of HBAT’s paper products\n",
    "#### X7 E-Commerce Activities/Web Site Overall image of HBAT’s Web site, especially  user-friendliness\n",
    "#### X8 Technical Support Extent to which technical support is offered to help solveproduct/service issues\n",
    "#### X9 Complaint Resolution Extent to which any complaints are resolved in a timely and complete manners\n",
    "####  X10 Advertising Perceptions of HBAT’s advertising campaigns in all types of media\n",
    "#### X11 Product Line Depth and breadth of HBAT’s product line to meet  customer needs\n",
    "####  X12 Salesforce Image Overall image of HBAT’s salesforce\n",
    "#### X13 Competitive Pricing Extent to which HBAT offers competitive prices\n",
    "####  X14 Warranty and Claims Extent to which HBAT stands behind its product/service  warranties and claims\n",
    "#### X15 New Products Extent to which HBAT develops and sells new products\n",
    "#### X16 Ordering and Billing Perception that ordering and billing is handled efficiently  and correctly\n",
    "#### X17 Price Flexibility Perceived willingness of HBAT sales reps to negotiate  price on purchases of paper products\n",
    "#### X18 Delivery Speed Amount of time it takes to deliver the paper products once  an order has been confirmed"
   ]
  },
  {
   "cell_type": "code",
   "execution_count": 1,
   "id": "321b6a65",
   "metadata": {},
   "outputs": [],
   "source": [
    "\n",
    "import pandas as pd \n",
    "\n",
    "# import 'Numpy' \n",
    "import numpy as np\n",
    "\n",
    "# import subpackage of Matplotlib\n",
    "import matplotlib.pyplot as plt\n",
    "\n",
    "# import 'Seaborn' \n",
    "import seaborn as sns\n",
    "\n",
    "# to suppress warnings \n",
    "from warnings import filterwarnings\n",
    "filterwarnings('ignore')\n",
    "\n",
    "# display all columns of the dataframe\n",
    "pd.options.display.max_columns = None\n",
    "\n",
    "# display all rows of the dataframe\n",
    "pd.options.display.max_rows = None\n",
    " \n",
    "# to display the float values upto 6 decimal places     \n",
    "pd.options.display.float_format = '{:.6f}'.format\n",
    "\n",
    "# import train-test split \n",
    "from sklearn.model_selection import train_test_split\n",
    "\n",
    "# import various functions from statsmodels\n",
    "import statsmodels\n",
    "import statsmodels.api as sm\n",
    "\n",
    "# import 'stats'\n",
    "from scipy import stats\n",
    "\n",
    "# 'metrics' from sklearn is used for evaluating the model performance\n",
    "from sklearn.metrics import mean_squared_error\n",
    "from sklearn.metrics import mean_absolute_error\n",
    "\n",
    "\n",
    "# import function to perform linear regression\n",
    "from sklearn.linear_model import LinearRegression\n",
    "from statsmodels.stats.outliers_influence import variance_inflation_factor \n",
    "# import StandardScaler to perform scaling\n",
    "from sklearn.preprocessing import StandardScaler \n",
    "\n",
    "# import SGDRegressor from sklearn to perform linear regression with stochastic gradient descent\n",
    "from sklearn.linear_model import SGDRegressor\n",
    "\n",
    "# import function for ridge regression\n",
    "from sklearn.linear_model import Ridge\n",
    "\n",
    "# import function for lasso regression\n",
    "from sklearn.linear_model import Lasso\n",
    "from sklearn.linear_model import LassoCV\n",
    "\n",
    "# import function for elastic net regression\n",
    "from sklearn.linear_model import ElasticNet\n",
    "\n",
    "# import function to perform GridSearchCV\n",
    "from sklearn.model_selection import GridSearchCV"
   ]
  },
  {
   "cell_type": "markdown",
   "id": "c68b4fe6",
   "metadata": {},
   "source": [
    "### Section B "
   ]
  },
  {
   "cell_type": "markdown",
   "id": "fe8f9b08",
   "metadata": {},
   "source": [
    "2a) Consider the data given in the excel file and the note book file. The following needs to be conducted in terms of data cleaning and analysis. \n",
    "Datafile : HBAT data missing1\n",
    "i)\tRead the file and identify the categorical and numerical variable (2 mark)\n",
    "ii)\tIdentify the missing values    (2 marks)\n",
    "iii)\tImpute the missing value accordingly (4 marks)\n",
    "iv)\tEncode the categorical variables   (2 marks)\n"
   ]
  },
  {
   "cell_type": "code",
   "execution_count": 2,
   "id": "bad0a442",
   "metadata": {},
   "outputs": [],
   "source": [
    "df = pd.read_csv(\"./Dataset/HBAT+data+missing1.csv\")"
   ]
  },
  {
   "cell_type": "code",
   "execution_count": 3,
   "id": "90d7ef88",
   "metadata": {},
   "outputs": [
    {
     "data": {
      "text/html": [
       "<div>\n",
       "<style scoped>\n",
       "    .dataframe tbody tr th:only-of-type {\n",
       "        vertical-align: middle;\n",
       "    }\n",
       "\n",
       "    .dataframe tbody tr th {\n",
       "        vertical-align: top;\n",
       "    }\n",
       "\n",
       "    .dataframe thead th {\n",
       "        text-align: right;\n",
       "    }\n",
       "</style>\n",
       "<table border=\"1\" class=\"dataframe\">\n",
       "  <thead>\n",
       "    <tr style=\"text-align: right;\">\n",
       "      <th></th>\n",
       "      <th>X1</th>\n",
       "      <th>X2</th>\n",
       "      <th>X6</th>\n",
       "      <th>X7</th>\n",
       "      <th>X8</th>\n",
       "      <th>X9</th>\n",
       "      <th>X10</th>\n",
       "      <th>X11</th>\n",
       "      <th>X12</th>\n",
       "      <th>X13</th>\n",
       "      <th>X14</th>\n",
       "      <th>X15</th>\n",
       "      <th>X16</th>\n",
       "      <th>X17</th>\n",
       "      <th>X18</th>\n",
       "      <th>X20</th>\n",
       "    </tr>\n",
       "  </thead>\n",
       "  <tbody>\n",
       "    <tr>\n",
       "      <th>0</th>\n",
       "      <td>2</td>\n",
       "      <td>magazine</td>\n",
       "      <td>8.500000</td>\n",
       "      <td>3.900000</td>\n",
       "      <td>2.500000</td>\n",
       "      <td>5.900000</td>\n",
       "      <td>4.800000</td>\n",
       "      <td>4.900000</td>\n",
       "      <td>6.000000</td>\n",
       "      <td>6.800000</td>\n",
       "      <td>4.700000</td>\n",
       "      <td>4.300000</td>\n",
       "      <td>5.000000</td>\n",
       "      <td>5.100000</td>\n",
       "      <td>3.700000</td>\n",
       "      <td>8.000000</td>\n",
       "    </tr>\n",
       "    <tr>\n",
       "      <th>1</th>\n",
       "      <td>3</td>\n",
       "      <td>newsprint</td>\n",
       "      <td>8.200000</td>\n",
       "      <td>2.700000</td>\n",
       "      <td>5.100000</td>\n",
       "      <td>7.200000</td>\n",
       "      <td>3.400000</td>\n",
       "      <td>7.900000</td>\n",
       "      <td>3.100000</td>\n",
       "      <td>5.300000</td>\n",
       "      <td>5.500000</td>\n",
       "      <td>4.000000</td>\n",
       "      <td>3.900000</td>\n",
       "      <td>4.300000</td>\n",
       "      <td>4.900000</td>\n",
       "      <td>6.500000</td>\n",
       "    </tr>\n",
       "    <tr>\n",
       "      <th>2</th>\n",
       "      <td>3</td>\n",
       "      <td>magazine</td>\n",
       "      <td>9.200000</td>\n",
       "      <td>3.400000</td>\n",
       "      <td>5.600000</td>\n",
       "      <td>5.600000</td>\n",
       "      <td>5.400000</td>\n",
       "      <td>7.400000</td>\n",
       "      <td>5.800000</td>\n",
       "      <td>4.500000</td>\n",
       "      <td>6.200000</td>\n",
       "      <td>4.600000</td>\n",
       "      <td>5.400000</td>\n",
       "      <td>4.000000</td>\n",
       "      <td>4.500000</td>\n",
       "      <td>8.400000</td>\n",
       "    </tr>\n",
       "    <tr>\n",
       "      <th>3</th>\n",
       "      <td>1</td>\n",
       "      <td>newsprint</td>\n",
       "      <td>6.400000</td>\n",
       "      <td>3.300000</td>\n",
       "      <td>7.000000</td>\n",
       "      <td>3.700000</td>\n",
       "      <td>4.700000</td>\n",
       "      <td>4.700000</td>\n",
       "      <td>4.500000</td>\n",
       "      <td>8.800000</td>\n",
       "      <td>7.000000</td>\n",
       "      <td>3.600000</td>\n",
       "      <td>4.300000</td>\n",
       "      <td>4.100000</td>\n",
       "      <td>3.000000</td>\n",
       "      <td>6.000000</td>\n",
       "    </tr>\n",
       "    <tr>\n",
       "      <th>4</th>\n",
       "      <td>2</td>\n",
       "      <td>magazine</td>\n",
       "      <td>9.000000</td>\n",
       "      <td>3.400000</td>\n",
       "      <td>5.200000</td>\n",
       "      <td>4.600000</td>\n",
       "      <td>2.200000</td>\n",
       "      <td>6.000000</td>\n",
       "      <td>4.500000</td>\n",
       "      <td>NaN</td>\n",
       "      <td>6.100000</td>\n",
       "      <td>4.500000</td>\n",
       "      <td>4.500000</td>\n",
       "      <td>3.500000</td>\n",
       "      <td>3.500000</td>\n",
       "      <td>6.600000</td>\n",
       "    </tr>\n",
       "  </tbody>\n",
       "</table>\n",
       "</div>"
      ],
      "text/plain": [
       "   X1         X2       X6       X7       X8       X9      X10      X11  \\\n",
       "0   2   magazine 8.500000 3.900000 2.500000 5.900000 4.800000 4.900000   \n",
       "1   3  newsprint 8.200000 2.700000 5.100000 7.200000 3.400000 7.900000   \n",
       "2   3   magazine 9.200000 3.400000 5.600000 5.600000 5.400000 7.400000   \n",
       "3   1  newsprint 6.400000 3.300000 7.000000 3.700000 4.700000 4.700000   \n",
       "4   2   magazine 9.000000 3.400000 5.200000 4.600000 2.200000 6.000000   \n",
       "\n",
       "       X12      X13      X14      X15      X16      X17      X18      X20  \n",
       "0 6.000000 6.800000 4.700000 4.300000 5.000000 5.100000 3.700000 8.000000  \n",
       "1 3.100000 5.300000 5.500000 4.000000 3.900000 4.300000 4.900000 6.500000  \n",
       "2 5.800000 4.500000 6.200000 4.600000 5.400000 4.000000 4.500000 8.400000  \n",
       "3 4.500000 8.800000 7.000000 3.600000 4.300000 4.100000 3.000000 6.000000  \n",
       "4 4.500000      NaN 6.100000 4.500000 4.500000 3.500000 3.500000 6.600000  "
      ]
     },
     "execution_count": 3,
     "metadata": {},
     "output_type": "execute_result"
    }
   ],
   "source": [
    "df.head()"
   ]
  },
  {
   "cell_type": "code",
   "execution_count": 4,
   "id": "4a368698",
   "metadata": {},
   "outputs": [
    {
     "data": {
      "text/plain": [
       "X1       int64\n",
       "X2      object\n",
       "X6     float64\n",
       "X7     float64\n",
       "X8     float64\n",
       "X9     float64\n",
       "X10    float64\n",
       "X11    float64\n",
       "X12    float64\n",
       "X13    float64\n",
       "X14    float64\n",
       "X15    float64\n",
       "X16    float64\n",
       "X17    float64\n",
       "X18    float64\n",
       "X20    float64\n",
       "dtype: object"
      ]
     },
     "execution_count": 4,
     "metadata": {},
     "output_type": "execute_result"
    }
   ],
   "source": [
    "# Checking Missing Values\n",
    "df.dtypes"
   ]
  },
  {
   "cell_type": "markdown",
   "id": "fd97cc0b",
   "metadata": {},
   "source": [
    "###### X2 variable is categorical variable, others are numerical variable. "
   ]
  },
  {
   "cell_type": "code",
   "execution_count": 5,
   "id": "8e17e739",
   "metadata": {},
   "outputs": [
    {
     "data": {
      "text/plain": [
       "X1     0\n",
       "X2     0\n",
       "X6     0\n",
       "X7     0\n",
       "X8     0\n",
       "X9     0\n",
       "X10    5\n",
       "X11    0\n",
       "X12    0\n",
       "X13    6\n",
       "X14    0\n",
       "X15    0\n",
       "X16    0\n",
       "X17    0\n",
       "X18    0\n",
       "X20    0\n",
       "dtype: int64"
      ]
     },
     "execution_count": 5,
     "metadata": {},
     "output_type": "execute_result"
    }
   ],
   "source": [
    "# Checking missing values \n",
    "df.isnull().sum()"
   ]
  },
  {
   "cell_type": "markdown",
   "id": "1d98d94a",
   "metadata": {},
   "source": [
    "##### X10 and X13 are variables having missing values."
   ]
  },
  {
   "cell_type": "code",
   "execution_count": 6,
   "id": "5cc7904c",
   "metadata": {},
   "outputs": [
    {
     "data": {
      "text/plain": [
       "<Axes: xlabel='X10'>"
      ]
     },
     "execution_count": 6,
     "metadata": {},
     "output_type": "execute_result"
    },
    {
     "data": {
      "image/png": "[encoded data removed]",
      "text/plain": [
       "<Figure size 640x480 with 1 Axes>"
      ]
     },
     "metadata": {},
     "output_type": "display_data"
    }
   ],
   "source": [
    "# Missing Value Treatment by visulizing distribution of the data\n",
    "sns.boxplot(df['X10'], orient='h')"
   ]
  },
  {
   "cell_type": "code",
   "execution_count": 7,
   "id": "aa0be287",
   "metadata": {},
   "outputs": [
    {
     "data": {
      "text/plain": [
       "<Axes: xlabel='X13'>"
      ]
     },
     "execution_count": 7,
     "metadata": {},
     "output_type": "execute_result"
    },
    {
     "data": {
      "image/png": "[encoded data removed]",
      "text/plain": [
       "<Figure size 640x480 with 1 Axes>"
      ]
     },
     "metadata": {},
     "output_type": "display_data"
    }
   ],
   "source": [
    "sns.boxplot(df['X13'], orient='h')"
   ]
  },
  {
   "cell_type": "markdown",
   "id": "4c991a72",
   "metadata": {},
   "source": [
    "##### As there are no outliers is the X10 and X13 variables therefore we can use mean while imputing missing values."
   ]
  },
  {
   "cell_type": "code",
   "execution_count": 8,
   "id": "abc01cb7",
   "metadata": {},
   "outputs": [],
   "source": [
    "df['X10'] = df['X10'].fillna(df['X10'].mean())"
   ]
  },
  {
   "cell_type": "code",
   "execution_count": 9,
   "id": "6ca872b1",
   "metadata": {},
   "outputs": [],
   "source": [
    "df['X13'] = df['X13'].fillna(df['X13'].mean())"
   ]
  },
  {
   "cell_type": "code",
   "execution_count": 10,
   "id": "e79719d6",
   "metadata": {},
   "outputs": [
    {
     "data": {
      "text/plain": [
       "X1     0\n",
       "X2     0\n",
       "X6     0\n",
       "X7     0\n",
       "X8     0\n",
       "X9     0\n",
       "X10    0\n",
       "X11    0\n",
       "X12    0\n",
       "X13    0\n",
       "X14    0\n",
       "X15    0\n",
       "X16    0\n",
       "X17    0\n",
       "X18    0\n",
       "X20    0\n",
       "dtype: int64"
      ]
     },
     "execution_count": 10,
     "metadata": {},
     "output_type": "execute_result"
    }
   ],
   "source": [
    "# Validating treatment of missing Values\n",
    "df.isnull().sum()"
   ]
  },
  {
   "cell_type": "markdown",
   "id": "c011a614",
   "metadata": {},
   "source": [
    "##### All missing values have been imputed."
   ]
  },
  {
   "cell_type": "code",
   "execution_count": 11,
   "id": "288363b4",
   "metadata": {},
   "outputs": [],
   "source": [
    "# Encoding the categorical variable using N-1 Encoding\n",
    "df_num = df.select_dtypes(include=['int64','float64'])\n",
    "df_cat = df.select_dtypes(include='object')"
   ]
  },
  {
   "cell_type": "code",
   "execution_count": 12,
   "id": "fa2d16b7",
   "metadata": {},
   "outputs": [],
   "source": [
    "dummy_var = pd.get_dummies(df_cat, drop_first=True)"
   ]
  },
  {
   "cell_type": "code",
   "execution_count": 13,
   "id": "0a7ae28f",
   "metadata": {},
   "outputs": [
    {
     "data": {
      "text/html": [
       "<div>\n",
       "<style scoped>\n",
       "    .dataframe tbody tr th:only-of-type {\n",
       "        vertical-align: middle;\n",
       "    }\n",
       "\n",
       "    .dataframe tbody tr th {\n",
       "        vertical-align: top;\n",
       "    }\n",
       "\n",
       "    .dataframe thead th {\n",
       "        text-align: right;\n",
       "    }\n",
       "</style>\n",
       "<table border=\"1\" class=\"dataframe\">\n",
       "  <thead>\n",
       "    <tr style=\"text-align: right;\">\n",
       "      <th></th>\n",
       "      <th>X2_newsprint</th>\n",
       "    </tr>\n",
       "  </thead>\n",
       "  <tbody>\n",
       "    <tr>\n",
       "      <th>0</th>\n",
       "      <td>False</td>\n",
       "    </tr>\n",
       "    <tr>\n",
       "      <th>1</th>\n",
       "      <td>True</td>\n",
       "    </tr>\n",
       "    <tr>\n",
       "      <th>2</th>\n",
       "      <td>False</td>\n",
       "    </tr>\n",
       "    <tr>\n",
       "      <th>3</th>\n",
       "      <td>True</td>\n",
       "    </tr>\n",
       "    <tr>\n",
       "      <th>4</th>\n",
       "      <td>False</td>\n",
       "    </tr>\n",
       "  </tbody>\n",
       "</table>\n",
       "</div>"
      ],
      "text/plain": [
       "   X2_newsprint\n",
       "0         False\n",
       "1          True\n",
       "2         False\n",
       "3          True\n",
       "4         False"
      ]
     },
     "execution_count": 13,
     "metadata": {},
     "output_type": "execute_result"
    }
   ],
   "source": [
    "dummy_var.head()"
   ]
  },
  {
   "cell_type": "code",
   "execution_count": 14,
   "id": "a7eca1ed",
   "metadata": {},
   "outputs": [],
   "source": [
    "# Converting the Boolean values to integers\n",
    "dummy_var['X2_newsprint'] = dummy_var['X2_newsprint'].astype(int)"
   ]
  },
  {
   "cell_type": "markdown",
   "id": "37f6b97d",
   "metadata": {},
   "source": [
    "2b) \n",
    "I.\tCreate the train and test data set with suitable y and x variables – 4marks\n",
    "II.\tDevelop a linear regression model based on the variables – 6 marks\n",
    "III.\tIs there multicollinearity, based on the output which variables are significant and which are insignificant – 6 marks \n",
    "IV.\tCompute the VIF for the variables – 4 marks\n",
    "V.\tBased on the variables accordingly remove variables and reconduct analysis  - 6 marks \n",
    "VI.\tConclude accordingly using the output and provide which variables would affect the regression model – 4 amrks \n"
   ]
  },
  {
   "cell_type": "code",
   "execution_count": 15,
   "id": "f8fd1d2c",
   "metadata": {},
   "outputs": [],
   "source": [
    "# Train Test Split\n",
    "\n",
    "y = df_num['X20']\n",
    "\n",
    "df_num = df_num.drop('X20', axis =1)"
   ]
  },
  {
   "cell_type": "code",
   "execution_count": 16,
   "id": "460f78ad",
   "metadata": {},
   "outputs": [],
   "source": [
    "X = pd.concat([df_num,dummy_var], axis=1)"
   ]
  },
  {
   "cell_type": "code",
   "execution_count": 17,
   "id": "891e5633",
   "metadata": {},
   "outputs": [],
   "source": [
    "X_train,X_test, y_train, y_test = train_test_split(X,y,test_size=0.3,random_state=2)"
   ]
  },
  {
   "cell_type": "code",
   "execution_count": 18,
   "id": "ba8495de",
   "metadata": {},
   "outputs": [],
   "source": [
    "X_train = sm.add_constant(X_train)"
   ]
  },
  {
   "cell_type": "code",
   "execution_count": 19,
   "id": "1ac3f227",
   "metadata": {},
   "outputs": [],
   "source": [
    "model = sm.OLS(y_train,X_train).fit()"
   ]
  },
  {
   "cell_type": "code",
   "execution_count": 20,
   "id": "15f98c20",
   "metadata": {},
   "outputs": [
    {
     "data": {
      "text/html": [
       "<table class=\"simpletable\">\n",
       "<caption>OLS Regression Results</caption>\n",
       "<tr>\n",
       "  <th>Dep. Variable:</th>           <td>X20</td>       <th>  R-squared:         </th> <td>   0.617</td>\n",
       "</tr>\n",
       "<tr>\n",
       "  <th>Model:</th>                   <td>OLS</td>       <th>  Adj. R-squared:    </th> <td>   0.571</td>\n",
       "</tr>\n",
       "<tr>\n",
       "  <th>Method:</th>             <td>Least Squares</td>  <th>  F-statistic:       </th> <td>   13.34</td>\n",
       "</tr>\n",
       "<tr>\n",
       "  <th>Date:</th>             <td>Wed, 27 Nov 2024</td> <th>  Prob (F-statistic):</th> <td>2.22e-19</td>\n",
       "</tr>\n",
       "<tr>\n",
       "  <th>Time:</th>                 <td>23:29:02</td>     <th>  Log-Likelihood:    </th> <td> -145.63</td>\n",
       "</tr>\n",
       "<tr>\n",
       "  <th>No. Observations:</th>      <td>   140</td>      <th>  AIC:               </th> <td>   323.3</td>\n",
       "</tr>\n",
       "<tr>\n",
       "  <th>Df Residuals:</th>          <td>   124</td>      <th>  BIC:               </th> <td>   370.3</td>\n",
       "</tr>\n",
       "<tr>\n",
       "  <th>Df Model:</th>              <td>    15</td>      <th>                     </th>     <td> </td>   \n",
       "</tr>\n",
       "<tr>\n",
       "  <th>Covariance Type:</th>      <td>nonrobust</td>    <th>                     </th>     <td> </td>   \n",
       "</tr>\n",
       "</table>\n",
       "<table class=\"simpletable\">\n",
       "<tr>\n",
       "        <td></td>          <th>coef</th>     <th>std err</th>      <th>t</th>      <th>P>|t|</th>  <th>[0.025</th>    <th>0.975]</th>  \n",
       "</tr>\n",
       "<tr>\n",
       "  <th>const</th>        <td>   -0.4662</td> <td>    1.293</td> <td>   -0.360</td> <td> 0.719</td> <td>   -3.026</td> <td>    2.094</td>\n",
       "</tr>\n",
       "<tr>\n",
       "  <th>X1</th>           <td>   -0.1503</td> <td>    0.144</td> <td>   -1.041</td> <td> 0.300</td> <td>   -0.436</td> <td>    0.135</td>\n",
       "</tr>\n",
       "<tr>\n",
       "  <th>X6</th>           <td>    0.4105</td> <td>    0.076</td> <td>    5.435</td> <td> 0.000</td> <td>    0.261</td> <td>    0.560</td>\n",
       "</tr>\n",
       "<tr>\n",
       "  <th>X7</th>           <td>    0.0422</td> <td>    0.142</td> <td>    0.297</td> <td> 0.767</td> <td>   -0.239</td> <td>    0.323</td>\n",
       "</tr>\n",
       "<tr>\n",
       "  <th>X8</th>           <td>    0.2537</td> <td>    0.072</td> <td>    3.512</td> <td> 0.001</td> <td>    0.111</td> <td>    0.397</td>\n",
       "</tr>\n",
       "<tr>\n",
       "  <th>X9</th>           <td>    0.0607</td> <td>    0.113</td> <td>    0.537</td> <td> 0.592</td> <td>   -0.163</td> <td>    0.284</td>\n",
       "</tr>\n",
       "<tr>\n",
       "  <th>X10</th>          <td>   -0.1486</td> <td>    0.075</td> <td>   -1.990</td> <td> 0.049</td> <td>   -0.296</td> <td>   -0.001</td>\n",
       "</tr>\n",
       "<tr>\n",
       "  <th>X11</th>          <td>    0.4145</td> <td>    0.278</td> <td>    1.490</td> <td> 0.139</td> <td>   -0.136</td> <td>    0.965</td>\n",
       "</tr>\n",
       "<tr>\n",
       "  <th>X12</th>          <td>    0.4530</td> <td>    0.108</td> <td>    4.209</td> <td> 0.000</td> <td>    0.240</td> <td>    0.666</td>\n",
       "</tr>\n",
       "<tr>\n",
       "  <th>X13</th>          <td>   -0.1019</td> <td>    0.051</td> <td>   -1.985</td> <td> 0.049</td> <td>   -0.204</td> <td>   -0.000</td>\n",
       "</tr>\n",
       "<tr>\n",
       "  <th>X14</th>          <td>   -0.3554</td> <td>    0.139</td> <td>   -2.559</td> <td> 0.012</td> <td>   -0.630</td> <td>   -0.080</td>\n",
       "</tr>\n",
       "<tr>\n",
       "  <th>X15</th>          <td>    0.0803</td> <td>    0.046</td> <td>    1.749</td> <td> 0.083</td> <td>   -0.011</td> <td>    0.171</td>\n",
       "</tr>\n",
       "<tr>\n",
       "  <th>X16</th>          <td>    0.0805</td> <td>    0.115</td> <td>    0.699</td> <td> 0.486</td> <td>   -0.147</td> <td>    0.308</td>\n",
       "</tr>\n",
       "<tr>\n",
       "  <th>X17</th>          <td>    0.4672</td> <td>    0.295</td> <td>    1.581</td> <td> 0.116</td> <td>   -0.118</td> <td>    1.052</td>\n",
       "</tr>\n",
       "<tr>\n",
       "  <th>X18</th>          <td>   -0.4077</td> <td>    0.578</td> <td>   -0.705</td> <td> 0.482</td> <td>   -1.553</td> <td>    0.737</td>\n",
       "</tr>\n",
       "<tr>\n",
       "  <th>X2_newsprint</th> <td>    0.1497</td> <td>    0.137</td> <td>    1.091</td> <td> 0.277</td> <td>   -0.122</td> <td>    0.421</td>\n",
       "</tr>\n",
       "</table>\n",
       "<table class=\"simpletable\">\n",
       "<tr>\n",
       "  <th>Omnibus:</th>       <td> 0.417</td> <th>  Durbin-Watson:     </th> <td>   2.008</td>\n",
       "</tr>\n",
       "<tr>\n",
       "  <th>Prob(Omnibus):</th> <td> 0.812</td> <th>  Jarque-Bera (JB):  </th> <td>   0.312</td>\n",
       "</tr>\n",
       "<tr>\n",
       "  <th>Skew:</th>          <td> 0.116</td> <th>  Prob(JB):          </th> <td>   0.856</td>\n",
       "</tr>\n",
       "<tr>\n",
       "  <th>Kurtosis:</th>      <td> 2.999</td> <th>  Cond. No.          </th> <td>    441.</td>\n",
       "</tr>\n",
       "</table><br/><br/>Notes:<br/>[1] Standard Errors assume that the covariance matrix of the errors is correctly specified."
      ],
      "text/latex": [
       "\\begin{center}\n",
       "\\begin{tabular}{lclc}\n",
       "\\toprule\n",
       "\\textbf{Dep. Variable:}    &       X20        & \\textbf{  R-squared:         } &     0.617   \\\\\n",
       "\\textbf{Model:}            &       OLS        & \\textbf{  Adj. R-squared:    } &     0.571   \\\\\n",
       "\\textbf{Method:}           &  Least Squares   & \\textbf{  F-statistic:       } &     13.34   \\\\\n",
       "\\textbf{Date:}             & Wed, 27 Nov 2024 & \\textbf{  Prob (F-statistic):} &  2.22e-19   \\\\\n",
       "\\textbf{Time:}             &     23:29:02     & \\textbf{  Log-Likelihood:    } &   -145.63   \\\\\n",
       "\\textbf{No. Observations:} &         140      & \\textbf{  AIC:               } &     323.3   \\\\\n",
       "\\textbf{Df Residuals:}     &         124      & \\textbf{  BIC:               } &     370.3   \\\\\n",
       "\\textbf{Df Model:}         &          15      & \\textbf{                     } &             \\\\\n",
       "\\textbf{Covariance Type:}  &    nonrobust     & \\textbf{                     } &             \\\\\n",
       "\\bottomrule\n",
       "\\end{tabular}\n",
       "\\begin{tabular}{lcccccc}\n",
       "                       & \\textbf{coef} & \\textbf{std err} & \\textbf{t} & \\textbf{P$> |$t$|$} & \\textbf{[0.025} & \\textbf{0.975]}  \\\\\n",
       "\\midrule\n",
       "\\textbf{const}         &      -0.4662  &        1.293     &    -0.360  &         0.719        &       -3.026    &        2.094     \\\\\n",
       "\\textbf{X1}            &      -0.1503  &        0.144     &    -1.041  &         0.300        &       -0.436    &        0.135     \\\\\n",
       "\\textbf{X6}            &       0.4105  &        0.076     &     5.435  &         0.000        &        0.261    &        0.560     \\\\\n",
       "\\textbf{X7}            &       0.0422  &        0.142     &     0.297  &         0.767        &       -0.239    &        0.323     \\\\\n",
       "\\textbf{X8}            &       0.2537  &        0.072     &     3.512  &         0.001        &        0.111    &        0.397     \\\\\n",
       "\\textbf{X9}            &       0.0607  &        0.113     &     0.537  &         0.592        &       -0.163    &        0.284     \\\\\n",
       "\\textbf{X10}           &      -0.1486  &        0.075     &    -1.990  &         0.049        &       -0.296    &       -0.001     \\\\\n",
       "\\textbf{X11}           &       0.4145  &        0.278     &     1.490  &         0.139        &       -0.136    &        0.965     \\\\\n",
       "\\textbf{X12}           &       0.4530  &        0.108     &     4.209  &         0.000        &        0.240    &        0.666     \\\\\n",
       "\\textbf{X13}           &      -0.1019  &        0.051     &    -1.985  &         0.049        &       -0.204    &       -0.000     \\\\\n",
       "\\textbf{X14}           &      -0.3554  &        0.139     &    -2.559  &         0.012        &       -0.630    &       -0.080     \\\\\n",
       "\\textbf{X15}           &       0.0803  &        0.046     &     1.749  &         0.083        &       -0.011    &        0.171     \\\\\n",
       "\\textbf{X16}           &       0.0805  &        0.115     &     0.699  &         0.486        &       -0.147    &        0.308     \\\\\n",
       "\\textbf{X17}           &       0.4672  &        0.295     &     1.581  &         0.116        &       -0.118    &        1.052     \\\\\n",
       "\\textbf{X18}           &      -0.4077  &        0.578     &    -0.705  &         0.482        &       -1.553    &        0.737     \\\\\n",
       "\\textbf{X2\\_newsprint} &       0.1497  &        0.137     &     1.091  &         0.277        &       -0.122    &        0.421     \\\\\n",
       "\\bottomrule\n",
       "\\end{tabular}\n",
       "\\begin{tabular}{lclc}\n",
       "\\textbf{Omnibus:}       &  0.417 & \\textbf{  Durbin-Watson:     } &    2.008  \\\\\n",
       "\\textbf{Prob(Omnibus):} &  0.812 & \\textbf{  Jarque-Bera (JB):  } &    0.312  \\\\\n",
       "\\textbf{Skew:}          &  0.116 & \\textbf{  Prob(JB):          } &    0.856  \\\\\n",
       "\\textbf{Kurtosis:}      &  2.999 & \\textbf{  Cond. No.          } &     441.  \\\\\n",
       "\\bottomrule\n",
       "\\end{tabular}\n",
       "%\\caption{OLS Regression Results}\n",
       "\\end{center}\n",
       "\n",
       "Notes: \\newline\n",
       " [1] Standard Errors assume that the covariance matrix of the errors is correctly specified."
      ],
      "text/plain": [
       "<class 'statsmodels.iolib.summary.Summary'>\n",
       "\"\"\"\n",
       "                            OLS Regression Results                            \n",
       "==============================================================================\n",
       "Dep. Variable:                    X20   R-squared:                       0.617\n",
       "Model:                            OLS   Adj. R-squared:                  0.571\n",
       "Method:                 Least Squares   F-statistic:                     13.34\n",
       "Date:                Wed, 27 Nov 2024   Prob (F-statistic):           2.22e-19\n",
       "Time:                        23:29:02   Log-Likelihood:                -145.63\n",
       "No. Observations:                 140   AIC:                             323.3\n",
       "Df Residuals:                     124   BIC:                             370.3\n",
       "Df Model:                          15                                         \n",
       "Covariance Type:            nonrobust                                         \n",
       "================================================================================\n",
       "                   coef    std err          t      P>|t|      [0.025      0.975]\n",
       "--------------------------------------------------------------------------------\n",
       "const           -0.4662      1.293     -0.360      0.719      -3.026       2.094\n",
       "X1              -0.1503      0.144     -1.041      0.300      -0.436       0.135\n",
       "X6               0.4105      0.076      5.435      0.000       0.261       0.560\n",
       "X7               0.0422      0.142      0.297      0.767      -0.239       0.323\n",
       "X8               0.2537      0.072      3.512      0.001       0.111       0.397\n",
       "X9               0.0607      0.113      0.537      0.592      -0.163       0.284\n",
       "X10             -0.1486      0.075     -1.990      0.049      -0.296      -0.001\n",
       "X11              0.4145      0.278      1.490      0.139      -0.136       0.965\n",
       "X12              0.4530      0.108      4.209      0.000       0.240       0.666\n",
       "X13             -0.1019      0.051     -1.985      0.049      -0.204      -0.000\n",
       "X14             -0.3554      0.139     -2.559      0.012      -0.630      -0.080\n",
       "X15              0.0803      0.046      1.749      0.083      -0.011       0.171\n",
       "X16              0.0805      0.115      0.699      0.486      -0.147       0.308\n",
       "X17              0.4672      0.295      1.581      0.116      -0.118       1.052\n",
       "X18             -0.4077      0.578     -0.705      0.482      -1.553       0.737\n",
       "X2_newsprint     0.1497      0.137      1.091      0.277      -0.122       0.421\n",
       "==============================================================================\n",
       "Omnibus:                        0.417   Durbin-Watson:                   2.008\n",
       "Prob(Omnibus):                  0.812   Jarque-Bera (JB):                0.312\n",
       "Skew:                           0.116   Prob(JB):                        0.856\n",
       "Kurtosis:                       2.999   Cond. No.                         441.\n",
       "==============================================================================\n",
       "\n",
       "Notes:\n",
       "[1] Standard Errors assume that the covariance matrix of the errors is correctly specified.\n",
       "\"\"\""
      ]
     },
     "execution_count": 20,
     "metadata": {},
     "output_type": "execute_result"
    }
   ],
   "source": [
    "model.summary()"
   ]
  },
  {
   "cell_type": "markdown",
   "id": "f0e7ac22",
   "metadata": {},
   "source": [
    "##### Observations:\n",
    "###### As the Condition Number is 441 which implies there is  significant multicollinearity among variables.\n",
    "###### Significant variables are X6,X8,X10,X12,X13,X14 as their p value is less than 0.05 (significance level)"
   ]
  },
  {
   "cell_type": "code",
   "execution_count": 21,
   "id": "88e81a55",
   "metadata": {},
   "outputs": [
    {
     "name": "stdout",
     "output_type": "stream",
     "text": [
      "        Variable        VIF\n",
      "0          const 442.429065\n",
      "1             X1   3.661242\n",
      "2             X6   2.818048\n",
      "3             X7   2.886788\n",
      "4             X8   4.342281\n",
      "5             X9   5.193999\n",
      "6            X10   1.816599\n",
      "7            X11  33.972784\n",
      "8            X12   3.707320\n",
      "9            X13   1.803408\n",
      "10           X14   4.389025\n",
      "11           X15   1.152046\n",
      "12           X16   3.142980\n",
      "13           X17  31.317970\n",
      "14           X18  52.800840\n",
      "15  X2_newsprint   1.239522\n"
     ]
    }
   ],
   "source": [
    "X = sm.add_constant(X_train)\n",
    "vif_data = pd.DataFrame()\n",
    "vif_data['Variable'] = X_train.columns\n",
    "vif_data['VIF'] = [variance_inflation_factor(X_train.values, i) for i in range(X_train.shape[1])]\n",
    "print(vif_data)"
   ]
  },
  {
   "cell_type": "markdown",
   "id": "181c7745",
   "metadata": {},
   "source": [
    "##### Conclusion:\n",
    "###### Based on the observations from VIF values, variables X18, X17, X11 can be removed as they have high correlation. \n",
    "###### As (5< VIF >10, means high correlation)\n",
    "###### Combining the result of  p value scores and VIF values, the variable which will be considered are \n",
    "###### X6,X8,X10,X12,X13,X14\n"
   ]
  },
  {
   "cell_type": "markdown",
   "id": "a4f00fd7",
   "metadata": {},
   "source": [
    "2c\n",
    "Apply Lasso regression and determine the insignificant variables – 10 marks"
   ]
  },
  {
   "cell_type": "code",
   "execution_count": 22,
   "id": "661e3d2d",
   "metadata": {},
   "outputs": [
    {
     "name": "stdout",
     "output_type": "stream",
     "text": [
      "Lasso Model Coefficient: [ 0.          0.          0.26907572  0.          0.06649338  0.19403317\n",
      "  0.          0.07050535  0.27919485 -0.03357333 -0.          0.0299473\n",
      "  0.04578235  0.          0.          0.        ]\n"
     ]
    }
   ],
   "source": [
    "# Applying Lasso\n",
    "lasso = Lasso(alpha=0.1)\n",
    "lasso.fit(X_train,y_train)\n",
    "\n",
    "print(\"Lasso Model Coefficient:\",lasso.coef_)"
   ]
  },
  {
   "cell_type": "code",
   "execution_count": 23,
   "id": "52ddaf1b",
   "metadata": {},
   "outputs": [
    {
     "name": "stdout",
     "output_type": "stream",
     "text": [
      "Ridge Model Coefficient: [ 0.         -0.14944805  0.40902304  0.04362562  0.25253951  0.0599892\n",
      " -0.14713299  0.39111505  0.45020013 -0.10135746 -0.35303195  0.0802431\n",
      "  0.07884911  0.44225617 -0.35960041  0.14820541]\n"
     ]
    }
   ],
   "source": [
    "# Applying Ridge\n",
    "ridge = Ridge(alpha=0.1)\n",
    "ridge.fit(X_train,y_train)\n",
    "print(\"Ridge Model Coefficient:\", ridge.coef_)"
   ]
  },
  {
   "cell_type": "markdown",
   "id": "986fd382",
   "metadata": {},
   "source": [
    "### Section C"
   ]
  },
  {
   "cell_type": "markdown",
   "id": "9dda7eed",
   "metadata": {},
   "source": [
    "**The data definition is as follows:** <br>\n",
    "\n",
    "**CreditScore**: Credit score of the customer \n",
    "\n",
    "**Geography**: Resident country of the customer\n",
    "\n",
    "**Gender**: Gender of the customer\n",
    "\n",
    "**Age**: Age of the customer\n",
    "\n",
    "**NumOfYrsWithBank**: Years for which the customer has been with the bank\n",
    "\n",
    "**Balance**: Bank balance of the customer in Euro\n",
    "\n",
    "**NumOfProducts**: Number of bank facilities for which customer has opted\n",
    "\n",
    "**HasCrCard**: Whether the customer has credit card or not (1 = Yes, 0 = No)\n",
    "\n",
    "**Closed_Acc**: Whether the customer has closed the bank account or not (1 = Yes, 0 = No) (target/dependent variable)"
   ]
  },
  {
   "cell_type": "markdown",
   "id": "edaa6fed",
   "metadata": {},
   "source": [
    "Consider the bank churn data set and analysis the factors which affect churn \n",
    "Datafile : bank_churn.csv\n",
    "By using a logistic regression model \n",
    "-\tRead the data set and check for missing values  -4 marks\n",
    "-\tSplit the data set into train and test – 6 marks \n",
    "-\tAnalyze the data set  and calculate the odd for each of the variable – 10 marks \n"
   ]
  },
  {
   "cell_type": "code",
   "execution_count": 24,
   "id": "c890315e",
   "metadata": {},
   "outputs": [],
   "source": [
    "# Reading Dataset\n",
    "bank_data = pd.read_csv(\"./Dataset/bank_churn.csv\")"
   ]
  },
  {
   "cell_type": "code",
   "execution_count": 25,
   "id": "851c47d6",
   "metadata": {},
   "outputs": [
    {
     "data": {
      "text/html": [
       "<div>\n",
       "<style scoped>\n",
       "    .dataframe tbody tr th:only-of-type {\n",
       "        vertical-align: middle;\n",
       "    }\n",
       "\n",
       "    .dataframe tbody tr th {\n",
       "        vertical-align: top;\n",
       "    }\n",
       "\n",
       "    .dataframe thead th {\n",
       "        text-align: right;\n",
       "    }\n",
       "</style>\n",
       "<table border=\"1\" class=\"dataframe\">\n",
       "  <thead>\n",
       "    <tr style=\"text-align: right;\">\n",
       "      <th></th>\n",
       "      <th>CreditScore</th>\n",
       "      <th>Geography</th>\n",
       "      <th>Gender</th>\n",
       "      <th>Age</th>\n",
       "      <th>NumOfYrsWithBank</th>\n",
       "      <th>Balance</th>\n",
       "      <th>NumOfProducts</th>\n",
       "      <th>HasCrCard</th>\n",
       "      <th>Closed_Acc</th>\n",
       "    </tr>\n",
       "  </thead>\n",
       "  <tbody>\n",
       "    <tr>\n",
       "      <th>0</th>\n",
       "      <td>619</td>\n",
       "      <td>France</td>\n",
       "      <td>Female</td>\n",
       "      <td>42</td>\n",
       "      <td>2</td>\n",
       "      <td>0.000000</td>\n",
       "      <td>1</td>\n",
       "      <td>1</td>\n",
       "      <td>1</td>\n",
       "    </tr>\n",
       "    <tr>\n",
       "      <th>1</th>\n",
       "      <td>608</td>\n",
       "      <td>Spain</td>\n",
       "      <td>Female</td>\n",
       "      <td>41</td>\n",
       "      <td>1</td>\n",
       "      <td>83807.860000</td>\n",
       "      <td>1</td>\n",
       "      <td>0</td>\n",
       "      <td>0</td>\n",
       "    </tr>\n",
       "    <tr>\n",
       "      <th>2</th>\n",
       "      <td>502</td>\n",
       "      <td>France</td>\n",
       "      <td>Female</td>\n",
       "      <td>42</td>\n",
       "      <td>8</td>\n",
       "      <td>159660.800000</td>\n",
       "      <td>3</td>\n",
       "      <td>1</td>\n",
       "      <td>1</td>\n",
       "    </tr>\n",
       "    <tr>\n",
       "      <th>3</th>\n",
       "      <td>699</td>\n",
       "      <td>France</td>\n",
       "      <td>Female</td>\n",
       "      <td>39</td>\n",
       "      <td>1</td>\n",
       "      <td>0.000000</td>\n",
       "      <td>2</td>\n",
       "      <td>0</td>\n",
       "      <td>0</td>\n",
       "    </tr>\n",
       "    <tr>\n",
       "      <th>4</th>\n",
       "      <td>850</td>\n",
       "      <td>Spain</td>\n",
       "      <td>Female</td>\n",
       "      <td>43</td>\n",
       "      <td>2</td>\n",
       "      <td>125510.820000</td>\n",
       "      <td>1</td>\n",
       "      <td>1</td>\n",
       "      <td>0</td>\n",
       "    </tr>\n",
       "  </tbody>\n",
       "</table>\n",
       "</div>"
      ],
      "text/plain": [
       "   CreditScore Geography  Gender  Age  NumOfYrsWithBank       Balance  \\\n",
       "0          619    France  Female   42                 2      0.000000   \n",
       "1          608     Spain  Female   41                 1  83807.860000   \n",
       "2          502    France  Female   42                 8 159660.800000   \n",
       "3          699    France  Female   39                 1      0.000000   \n",
       "4          850     Spain  Female   43                 2 125510.820000   \n",
       "\n",
       "   NumOfProducts  HasCrCard  Closed_Acc  \n",
       "0              1          1           1  \n",
       "1              1          0           0  \n",
       "2              3          1           1  \n",
       "3              2          0           0  \n",
       "4              1          1           0  "
      ]
     },
     "execution_count": 25,
     "metadata": {},
     "output_type": "execute_result"
    }
   ],
   "source": [
    "bank_data.head()"
   ]
  },
  {
   "cell_type": "code",
   "execution_count": 26,
   "id": "c3c211fb",
   "metadata": {},
   "outputs": [
    {
     "data": {
      "text/plain": [
       "CreditScore         0\n",
       "Geography           0\n",
       "Gender              0\n",
       "Age                 0\n",
       "NumOfYrsWithBank    0\n",
       "Balance             0\n",
       "NumOfProducts       0\n",
       "HasCrCard           0\n",
       "Closed_Acc          0\n",
       "dtype: int64"
      ]
     },
     "execution_count": 26,
     "metadata": {},
     "output_type": "execute_result"
    }
   ],
   "source": [
    "# Checking for missing Values\n",
    "bank_data.isnull().sum()"
   ]
  },
  {
   "cell_type": "markdown",
   "id": "cd6ac419",
   "metadata": {},
   "source": [
    "#### There are no missing values in the dataset."
   ]
  },
  {
   "cell_type": "code",
   "execution_count": 27,
   "id": "feceb719",
   "metadata": {},
   "outputs": [
    {
     "data": {
      "text/plain": [
       "CreditScore           int64\n",
       "Geography            object\n",
       "Gender               object\n",
       "Age                   int64\n",
       "NumOfYrsWithBank      int64\n",
       "Balance             float64\n",
       "NumOfProducts         int64\n",
       "HasCrCard             int64\n",
       "Closed_Acc            int64\n",
       "dtype: object"
      ]
     },
     "execution_count": 27,
     "metadata": {},
     "output_type": "execute_result"
    }
   ],
   "source": [
    "# Checking Datatypes\n",
    "bank_data.dtypes"
   ]
  },
  {
   "cell_type": "code",
   "execution_count": 28,
   "id": "7b581a78",
   "metadata": {},
   "outputs": [],
   "source": [
    "# Splitting the dataset to Numerical and Categorical Variable \n",
    "data_num = bank_data.select_dtypes(include=['int64','float64'])\n",
    "data_cat = bank_data.select_dtypes(include=['object'])"
   ]
  },
  {
   "cell_type": "code",
   "execution_count": 29,
   "id": "82ea1254",
   "metadata": {},
   "outputs": [],
   "source": [
    "# Encoding the Categorical Variables via N-1 encoding\n",
    "dummy_var = pd.get_dummies(data_cat, drop_first=True)"
   ]
  },
  {
   "cell_type": "code",
   "execution_count": 30,
   "id": "16f180c1",
   "metadata": {},
   "outputs": [
    {
     "data": {
      "text/html": [
       "<div>\n",
       "<style scoped>\n",
       "    .dataframe tbody tr th:only-of-type {\n",
       "        vertical-align: middle;\n",
       "    }\n",
       "\n",
       "    .dataframe tbody tr th {\n",
       "        vertical-align: top;\n",
       "    }\n",
       "\n",
       "    .dataframe thead th {\n",
       "        text-align: right;\n",
       "    }\n",
       "</style>\n",
       "<table border=\"1\" class=\"dataframe\">\n",
       "  <thead>\n",
       "    <tr style=\"text-align: right;\">\n",
       "      <th></th>\n",
       "      <th>Geography_Germany</th>\n",
       "      <th>Geography_Spain</th>\n",
       "      <th>Gender_Male</th>\n",
       "    </tr>\n",
       "  </thead>\n",
       "  <tbody>\n",
       "    <tr>\n",
       "      <th>0</th>\n",
       "      <td>False</td>\n",
       "      <td>False</td>\n",
       "      <td>False</td>\n",
       "    </tr>\n",
       "    <tr>\n",
       "      <th>1</th>\n",
       "      <td>False</td>\n",
       "      <td>True</td>\n",
       "      <td>False</td>\n",
       "    </tr>\n",
       "    <tr>\n",
       "      <th>2</th>\n",
       "      <td>False</td>\n",
       "      <td>False</td>\n",
       "      <td>False</td>\n",
       "    </tr>\n",
       "    <tr>\n",
       "      <th>3</th>\n",
       "      <td>False</td>\n",
       "      <td>False</td>\n",
       "      <td>False</td>\n",
       "    </tr>\n",
       "    <tr>\n",
       "      <th>4</th>\n",
       "      <td>False</td>\n",
       "      <td>True</td>\n",
       "      <td>False</td>\n",
       "    </tr>\n",
       "  </tbody>\n",
       "</table>\n",
       "</div>"
      ],
      "text/plain": [
       "   Geography_Germany  Geography_Spain  Gender_Male\n",
       "0              False            False        False\n",
       "1              False             True        False\n",
       "2              False            False        False\n",
       "3              False            False        False\n",
       "4              False             True        False"
      ]
     },
     "execution_count": 30,
     "metadata": {},
     "output_type": "execute_result"
    }
   ],
   "source": [
    "dummy_var.head()"
   ]
  },
  {
   "cell_type": "code",
   "execution_count": 31,
   "id": "77b6da72",
   "metadata": {},
   "outputs": [
    {
     "data": {
      "text/html": [
       "<div>\n",
       "<style scoped>\n",
       "    .dataframe tbody tr th:only-of-type {\n",
       "        vertical-align: middle;\n",
       "    }\n",
       "\n",
       "    .dataframe tbody tr th {\n",
       "        vertical-align: top;\n",
       "    }\n",
       "\n",
       "    .dataframe thead th {\n",
       "        text-align: right;\n",
       "    }\n",
       "</style>\n",
       "<table border=\"1\" class=\"dataframe\">\n",
       "  <thead>\n",
       "    <tr style=\"text-align: right;\">\n",
       "      <th></th>\n",
       "      <th>Geography_Germany</th>\n",
       "      <th>Geography_Spain</th>\n",
       "      <th>Gender_Male</th>\n",
       "    </tr>\n",
       "  </thead>\n",
       "  <tbody>\n",
       "    <tr>\n",
       "      <th>0</th>\n",
       "      <td>0</td>\n",
       "      <td>0</td>\n",
       "      <td>0</td>\n",
       "    </tr>\n",
       "    <tr>\n",
       "      <th>1</th>\n",
       "      <td>0</td>\n",
       "      <td>1</td>\n",
       "      <td>0</td>\n",
       "    </tr>\n",
       "    <tr>\n",
       "      <th>2</th>\n",
       "      <td>0</td>\n",
       "      <td>0</td>\n",
       "      <td>0</td>\n",
       "    </tr>\n",
       "    <tr>\n",
       "      <th>3</th>\n",
       "      <td>0</td>\n",
       "      <td>0</td>\n",
       "      <td>0</td>\n",
       "    </tr>\n",
       "    <tr>\n",
       "      <th>4</th>\n",
       "      <td>0</td>\n",
       "      <td>1</td>\n",
       "      <td>0</td>\n",
       "    </tr>\n",
       "  </tbody>\n",
       "</table>\n",
       "</div>"
      ],
      "text/plain": [
       "   Geography_Germany  Geography_Spain  Gender_Male\n",
       "0                  0                0            0\n",
       "1                  0                1            0\n",
       "2                  0                0            0\n",
       "3                  0                0            0\n",
       "4                  0                1            0"
      ]
     },
     "execution_count": 31,
     "metadata": {},
     "output_type": "execute_result"
    }
   ],
   "source": [
    "# Converting Boolean values to integers\n",
    "dummy_var= dummy_var.astype(int)\n",
    "dummy_var.head()"
   ]
  },
  {
   "cell_type": "code",
   "execution_count": 32,
   "id": "0384fa9f",
   "metadata": {},
   "outputs": [],
   "source": [
    "# Creating X and Y, Closed_Acc is dependent variable here as this dataset is of Bank churn rate.\n",
    "y = data_num['Closed_Acc']\n",
    "\n",
    "data_num = data_num.drop('Closed_Acc', axis=1)\n",
    "X = pd.concat([data_num,dummy_var], axis=1)"
   ]
  },
  {
   "cell_type": "code",
   "execution_count": 33,
   "id": "05bc3efb",
   "metadata": {},
   "outputs": [],
   "source": [
    "# Train Test Split\n",
    "X_train, X_test, y_train, y_test = train_test_split(X,y,test_size=0.3,random_state=2)"
   ]
  },
  {
   "cell_type": "code",
   "execution_count": 34,
   "id": "e99230c2",
   "metadata": {},
   "outputs": [
    {
     "name": "stdout",
     "output_type": "stream",
     "text": [
      "Optimization terminated successfully.\n",
      "         Current function value: 0.440446\n",
      "         Iterations 6\n"
     ]
    },
    {
     "data": {
      "text/html": [
       "<table class=\"simpletable\">\n",
       "<caption>Logit Regression Results</caption>\n",
       "<tr>\n",
       "  <th>Dep. Variable:</th>      <td>Closed_Acc</td>    <th>  No. Observations:  </th>   <td>  6944</td>  \n",
       "</tr>\n",
       "<tr>\n",
       "  <th>Model:</th>                 <td>Logit</td>      <th>  Df Residuals:      </th>   <td>  6934</td>  \n",
       "</tr>\n",
       "<tr>\n",
       "  <th>Method:</th>                 <td>MLE</td>       <th>  Df Model:          </th>   <td>     9</td>  \n",
       "</tr>\n",
       "<tr>\n",
       "  <th>Date:</th>            <td>Wed, 27 Nov 2024</td> <th>  Pseudo R-squ.:     </th>   <td>0.1220</td>  \n",
       "</tr>\n",
       "<tr>\n",
       "  <th>Time:</th>                <td>23:29:03</td>     <th>  Log-Likelihood:    </th>  <td> -3058.5</td> \n",
       "</tr>\n",
       "<tr>\n",
       "  <th>converged:</th>             <td>True</td>       <th>  LL-Null:           </th>  <td> -3483.4</td> \n",
       "</tr>\n",
       "<tr>\n",
       "  <th>Covariance Type:</th>     <td>nonrobust</td>    <th>  LLR p-value:       </th> <td>3.976e-177</td>\n",
       "</tr>\n",
       "</table>\n",
       "<table class=\"simpletable\">\n",
       "<tr>\n",
       "          <td></td>             <th>coef</th>     <th>std err</th>      <th>z</th>      <th>P>|z|</th>  <th>[0.025</th>    <th>0.975]</th>  \n",
       "</tr>\n",
       "<tr>\n",
       "  <th>const</th>             <td>   -3.7290</td> <td>    0.287</td> <td>  -12.975</td> <td> 0.000</td> <td>   -4.292</td> <td>   -3.166</td>\n",
       "</tr>\n",
       "<tr>\n",
       "  <th>CreditScore</th>       <td>   -0.0005</td> <td>    0.000</td> <td>   -1.527</td> <td> 0.127</td> <td>   -0.001</td> <td>    0.000</td>\n",
       "</tr>\n",
       "<tr>\n",
       "  <th>Age</th>               <td>    0.0673</td> <td>    0.003</td> <td>   22.098</td> <td> 0.000</td> <td>    0.061</td> <td>    0.073</td>\n",
       "</tr>\n",
       "<tr>\n",
       "  <th>NumOfYrsWithBank</th>  <td>   -0.0061</td> <td>    0.011</td> <td>   -0.553</td> <td> 0.580</td> <td>   -0.028</td> <td>    0.016</td>\n",
       "</tr>\n",
       "<tr>\n",
       "  <th>Balance</th>           <td> 2.492e-06</td> <td> 6.16e-07</td> <td>    4.047</td> <td> 0.000</td> <td> 1.28e-06</td> <td>  3.7e-06</td>\n",
       "</tr>\n",
       "<tr>\n",
       "  <th>NumOfProducts</th>     <td>   -0.1370</td> <td>    0.057</td> <td>   -2.413</td> <td> 0.016</td> <td>   -0.248</td> <td>   -0.026</td>\n",
       "</tr>\n",
       "<tr>\n",
       "  <th>HasCrCard</th>         <td>    0.0283</td> <td>    0.071</td> <td>    0.400</td> <td> 0.689</td> <td>   -0.110</td> <td>    0.167</td>\n",
       "</tr>\n",
       "<tr>\n",
       "  <th>Geography_Germany</th> <td>    0.8100</td> <td>    0.080</td> <td>   10.082</td> <td> 0.000</td> <td>    0.652</td> <td>    0.967</td>\n",
       "</tr>\n",
       "<tr>\n",
       "  <th>Geography_Spain</th>   <td>    0.0415</td> <td>    0.084</td> <td>    0.495</td> <td> 0.620</td> <td>   -0.123</td> <td>    0.206</td>\n",
       "</tr>\n",
       "<tr>\n",
       "  <th>Gender_Male</th>       <td>   -0.5969</td> <td>    0.065</td> <td>   -9.241</td> <td> 0.000</td> <td>   -0.724</td> <td>   -0.470</td>\n",
       "</tr>\n",
       "</table>"
      ],
      "text/latex": [
       "\\begin{center}\n",
       "\\begin{tabular}{lclc}\n",
       "\\toprule\n",
       "\\textbf{Dep. Variable:}     &   Closed\\_Acc    & \\textbf{  No. Observations:  } &     6944    \\\\\n",
       "\\textbf{Model:}             &      Logit       & \\textbf{  Df Residuals:      } &     6934    \\\\\n",
       "\\textbf{Method:}            &       MLE        & \\textbf{  Df Model:          } &        9    \\\\\n",
       "\\textbf{Date:}              & Wed, 27 Nov 2024 & \\textbf{  Pseudo R-squ.:     } &   0.1220    \\\\\n",
       "\\textbf{Time:}              &     23:29:03     & \\textbf{  Log-Likelihood:    } &   -3058.5   \\\\\n",
       "\\textbf{converged:}         &       True       & \\textbf{  LL-Null:           } &   -3483.4   \\\\\n",
       "\\textbf{Covariance Type:}   &    nonrobust     & \\textbf{  LLR p-value:       } & 3.976e-177  \\\\\n",
       "\\bottomrule\n",
       "\\end{tabular}\n",
       "\\begin{tabular}{lcccccc}\n",
       "                            & \\textbf{coef} & \\textbf{std err} & \\textbf{z} & \\textbf{P$> |$z$|$} & \\textbf{[0.025} & \\textbf{0.975]}  \\\\\n",
       "\\midrule\n",
       "\\textbf{const}              &      -3.7290  &        0.287     &   -12.975  &         0.000        &       -4.292    &       -3.166     \\\\\n",
       "\\textbf{CreditScore}        &      -0.0005  &        0.000     &    -1.527  &         0.127        &       -0.001    &        0.000     \\\\\n",
       "\\textbf{Age}                &       0.0673  &        0.003     &    22.098  &         0.000        &        0.061    &        0.073     \\\\\n",
       "\\textbf{NumOfYrsWithBank}   &      -0.0061  &        0.011     &    -0.553  &         0.580        &       -0.028    &        0.016     \\\\\n",
       "\\textbf{Balance}            &    2.492e-06  &     6.16e-07     &     4.047  &         0.000        &     1.28e-06    &      3.7e-06     \\\\\n",
       "\\textbf{NumOfProducts}      &      -0.1370  &        0.057     &    -2.413  &         0.016        &       -0.248    &       -0.026     \\\\\n",
       "\\textbf{HasCrCard}          &       0.0283  &        0.071     &     0.400  &         0.689        &       -0.110    &        0.167     \\\\\n",
       "\\textbf{Geography\\_Germany} &       0.8100  &        0.080     &    10.082  &         0.000        &        0.652    &        0.967     \\\\\n",
       "\\textbf{Geography\\_Spain}   &       0.0415  &        0.084     &     0.495  &         0.620        &       -0.123    &        0.206     \\\\\n",
       "\\textbf{Gender\\_Male}       &      -0.5969  &        0.065     &    -9.241  &         0.000        &       -0.724    &       -0.470     \\\\\n",
       "\\bottomrule\n",
       "\\end{tabular}\n",
       "%\\caption{Logit Regression Results}\n",
       "\\end{center}"
      ],
      "text/plain": [
       "<class 'statsmodels.iolib.summary.Summary'>\n",
       "\"\"\"\n",
       "                           Logit Regression Results                           \n",
       "==============================================================================\n",
       "Dep. Variable:             Closed_Acc   No. Observations:                 6944\n",
       "Model:                          Logit   Df Residuals:                     6934\n",
       "Method:                           MLE   Df Model:                            9\n",
       "Date:                Wed, 27 Nov 2024   Pseudo R-squ.:                  0.1220\n",
       "Time:                        23:29:03   Log-Likelihood:                -3058.5\n",
       "converged:                       True   LL-Null:                       -3483.4\n",
       "Covariance Type:            nonrobust   LLR p-value:                3.976e-177\n",
       "=====================================================================================\n",
       "                        coef    std err          z      P>|z|      [0.025      0.975]\n",
       "-------------------------------------------------------------------------------------\n",
       "const                -3.7290      0.287    -12.975      0.000      -4.292      -3.166\n",
       "CreditScore          -0.0005      0.000     -1.527      0.127      -0.001       0.000\n",
       "Age                   0.0673      0.003     22.098      0.000       0.061       0.073\n",
       "NumOfYrsWithBank     -0.0061      0.011     -0.553      0.580      -0.028       0.016\n",
       "Balance            2.492e-06   6.16e-07      4.047      0.000    1.28e-06     3.7e-06\n",
       "NumOfProducts        -0.1370      0.057     -2.413      0.016      -0.248      -0.026\n",
       "HasCrCard             0.0283      0.071      0.400      0.689      -0.110       0.167\n",
       "Geography_Germany     0.8100      0.080     10.082      0.000       0.652       0.967\n",
       "Geography_Spain       0.0415      0.084      0.495      0.620      -0.123       0.206\n",
       "Gender_Male          -0.5969      0.065     -9.241      0.000      -0.724      -0.470\n",
       "=====================================================================================\n",
       "\"\"\""
      ]
     },
     "execution_count": 34,
     "metadata": {},
     "output_type": "execute_result"
    }
   ],
   "source": [
    "# Applying Logistic Regression via Stats model \n",
    "\n",
    "X_train = sm.add_constant(X_train)\n",
    "\n",
    "model = sm.Logit(y_train,X_train).fit()\n",
    "model.summary()\n",
    "\n"
   ]
  },
  {
   "cell_type": "code",
   "execution_count": 35,
   "id": "d8c7a316",
   "metadata": {},
   "outputs": [
    {
     "name": "stdout",
     "output_type": "stream",
     "text": [
      "const               0.024017\n",
      "CreditScore         0.999491\n",
      "Age                 1.069659\n",
      "NumOfYrsWithBank    0.993887\n",
      "Balance             1.000002\n",
      "NumOfProducts       0.872001\n",
      "HasCrCard           1.028718\n",
      "Geography_Germany   2.247797\n",
      "Geography_Spain     1.042391\n",
      "Gender_Male         0.550513\n",
      "dtype: float64\n"
     ]
    }
   ],
   "source": [
    "odds_ratio = np.exp(model.params)\n",
    "print(odds_ratio)"
   ]
  },
  {
   "cell_type": "code",
   "execution_count": 36,
   "id": "e6977b4a",
   "metadata": {},
   "outputs": [
    {
     "name": "stdout",
     "output_type": "stream",
     "text": [
      "VIF Table:\n",
      "            Variables  VIF Value\n",
      "0              const  80.825475\n",
      "1        CreditScore   1.000805\n",
      "2                Age   1.004027\n",
      "3   NumOfYrsWithBank   1.001298\n",
      "4            Balance   1.350079\n",
      "5      NumOfProducts   1.133095\n",
      "6          HasCrCard   1.001660\n",
      "7  Geography_Germany   1.347708\n",
      "8    Geography_Spain   1.127463\n",
      "9        Gender_Male   1.002641\n"
     ]
    }
   ],
   "source": [
    "# VIF \n",
    "vif = pd.DataFrame()\n",
    "vif['Variables'] = X_train.columns\n",
    "vif['VIF Value'] = [variance_inflation_factor(X_train.values, i) for i in range(X_train.shape[1])]\n",
    "print(\"VIF Table:\\n\",vif)"
   ]
  },
  {
   "cell_type": "code",
   "execution_count": 37,
   "id": "3aef8abf",
   "metadata": {},
   "outputs": [
    {
     "name": "stdout",
     "output_type": "stream",
     "text": [
      "0.7849942396313364\n"
     ]
    }
   ],
   "source": [
    "# Naive Bayes Model\n",
    "\n",
    "from sklearn.naive_bayes import GaussianNB\n",
    "\n",
    "NB_model = GaussianNB()\n",
    "NB_model.fit(X_train,y_train)\n",
    "\n",
    "print(NB_model.score(X_train,y_train))"
   ]
  },
  {
   "cell_type": "code",
   "execution_count": 39,
   "id": "a6999cc2",
   "metadata": {},
   "outputs": [],
   "source": [
    "# y_predict_train = NB_model.predict(X_train)\n",
    "# y_predict_test = NB_model.predict(X_test)"
   ]
  },
  {
   "cell_type": "code",
   "execution_count": null,
   "id": "510dcfe7",
   "metadata": {},
   "outputs": [],
   "source": [
    "#from sklear.metrics import classification_report\n",
    "#from sklear.metrics import confusion_matrix\n",
    "\n",
    "#print(\"Measuring metrics of the Model:\")\n",
    "#print(NB_model.classification_report(y_train,y_predict_train))\n",
    "#print(NB_model.classification_report(y_test,y_predict_test))\n",
    "\n",
    "#print(\"Printing Confusion Matrix of the Model:\")\n",
    "#print(NB_model.classification_report(y_test,y_predict_test))\n",
    "\n"
   ]
  }
 ],
 "metadata": {
  "kernelspec": {
   "display_name": "Python 3 (ipykernel)",
   "language": "python",
   "name": "python3"
  },
  "language_info": {
   "codemirror_mode": {
    "name": "ipython",
    "version": 3
   },
   "file_extension": ".py",
   "mimetype": "text/x-python",
   "name": "python",
   "nbconvert_exporter": "python",
   "pygments_lexer": "ipython3",
   "version": "3.11.10"
  }
 },
 "nbformat": 4,
 "nbformat_minor": 5
}
