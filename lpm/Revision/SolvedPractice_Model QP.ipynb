{
 "cells": [
  {
   "cell_type": "code",
   "execution_count": 1,
   "id": "652213fc",
   "metadata": {},
   "outputs": [],
   "source": [
    "# import 'Numpy' \n",
    "import numpy as np\n",
    "import pandas as pd\n",
    "# import subpackage of Matplotlib\n",
    "import matplotlib.pyplot as plt\n",
    "\n",
    "# import 'Seaborn' \n",
    "import seaborn as sns\n",
    "\n",
    "# to suppress warnings \n",
    "from warnings import filterwarnings\n",
    "filterwarnings('ignore')\n",
    "\n",
    "# display all columns of the dataframe\n",
    "pd.options.display.max_columns = None\n",
    "\n",
    "# display all rows of the dataframe\n",
    "pd.options.display.max_rows = None\n",
    " \n",
    "# to display the float values upto 6 decimal places     \n",
    "pd.options.display.float_format = '{:.6f}'.format\n",
    "\n",
    "# import train-test split \n",
    "from sklearn.model_selection import train_test_split\n",
    "\n",
    "# import various functions from statsmodels\n",
    "import statsmodels\n",
    "import statsmodels.api as sm\n",
    "\n",
    "# import 'stats'\n",
    "from scipy import stats\n",
    "\n",
    "# 'metrics' from sklearn is used for evaluating the model performance\n",
    "from sklearn.metrics import mean_squared_error\n",
    "from sklearn.metrics import mean_absolute_error\n",
    "\n",
    "\n",
    "# import function to perform linear regression\n",
    "from sklearn.linear_model import LinearRegression\n",
    "from statsmodels.stats.outliers_influence import variance_inflation_factor \n",
    "# import StandardScaler to perform scaling\n",
    "from sklearn.preprocessing import StandardScaler \n",
    "\n",
    "# import SGDRegressor from sklearn to perform linear regression with stochastic gradient descent\n",
    "from sklearn.linear_model import SGDRegressor\n",
    "\n",
    "# import function for ridge regression\n",
    "from sklearn.linear_model import Ridge\n",
    "\n",
    "# import function for lasso regression\n",
    "from sklearn.linear_model import Lasso\n",
    "from sklearn.linear_model import LassoCV\n",
    "\n",
    "# import function for elastic net regression\n",
    "from sklearn.linear_model import ElasticNet\n",
    "\n",
    "# import function to perform GridSearchCV\n",
    "from sklearn.model_selection import GridSearchCV"
   ]
  },
  {
   "cell_type": "markdown",
   "id": "f0d13e61",
   "metadata": {},
   "source": [
    "### Section B"
   ]
  },
  {
   "cell_type": "markdown",
   "id": "4caf3148",
   "metadata": {},
   "source": [
    "### Question 5"
   ]
  },
  {
   "cell_type": "markdown",
   "id": "f8781eb9",
   "metadata": {},
   "source": [
    "**The data definition is as follows:** <br>\n",
    "\n",
    "**Y**: Y =0 if bankruptcy after 2 years, 1 if solvent after 2 years\n",
    "\n",
    "**X1**:  Retained Earnings/Total Assets\n",
    "\n",
    "**X2**: Earnings before Interest and Taxes/Total Assets\n",
    "\n",
    "**X3**: Sales / Total Assets"
   ]
  },
  {
   "cell_type": "raw",
   "id": "3b32ee9c",
   "metadata": {},
   "source": [
    "3a) \n",
    "Consider the operating financial ratio data of 33 frims which went bankrupt after 2 years and the other 33 remained insolvent during the same period  \n",
    "Datafile : bankruptcy.csv\n",
    "Perform below steps and build a logistic regression model\n",
    "\n",
    "-Read the data set and check for missing values, split into train and test - 4marks\n",
    "- Analyze the data set  based on the output - 4marks\n",
    "- Use alpha = .05, to identify the significant variables, what do you conclude about the model - 8\n",
    "- Calculate the odd for each of the variable and interpret the meaning – 4 marks "
   ]
  },
  {
   "cell_type": "code",
   "execution_count": 2,
   "id": "c92c3018",
   "metadata": {},
   "outputs": [],
   "source": [
    "#a) \n",
    "df_bank = pd.read_csv(\"./Dataset/Bankruptcy.csv\")"
   ]
  },
  {
   "cell_type": "code",
   "execution_count": 3,
   "id": "64496e2b",
   "metadata": {},
   "outputs": [
    {
     "data": {
      "text/html": [
       "<div>\n",
       "<style scoped>\n",
       "    .dataframe tbody tr th:only-of-type {\n",
       "        vertical-align: middle;\n",
       "    }\n",
       "\n",
       "    .dataframe tbody tr th {\n",
       "        vertical-align: top;\n",
       "    }\n",
       "\n",
       "    .dataframe thead th {\n",
       "        text-align: right;\n",
       "    }\n",
       "</style>\n",
       "<table border=\"1\" class=\"dataframe\">\n",
       "  <thead>\n",
       "    <tr style=\"text-align: right;\">\n",
       "      <th></th>\n",
       "      <th>Y</th>\n",
       "      <th>X1</th>\n",
       "      <th>X2</th>\n",
       "      <th>X3</th>\n",
       "    </tr>\n",
       "  </thead>\n",
       "  <tbody>\n",
       "    <tr>\n",
       "      <th>0</th>\n",
       "      <td>0</td>\n",
       "      <td>-62.800000</td>\n",
       "      <td>-89.500000</td>\n",
       "      <td>1.700000</td>\n",
       "    </tr>\n",
       "    <tr>\n",
       "      <th>1</th>\n",
       "      <td>0</td>\n",
       "      <td>3.300000</td>\n",
       "      <td>-3.500000</td>\n",
       "      <td>1.100000</td>\n",
       "    </tr>\n",
       "    <tr>\n",
       "      <th>2</th>\n",
       "      <td>0</td>\n",
       "      <td>-120.800000</td>\n",
       "      <td>-103.200000</td>\n",
       "      <td>2.500000</td>\n",
       "    </tr>\n",
       "    <tr>\n",
       "      <th>3</th>\n",
       "      <td>0</td>\n",
       "      <td>-18.100000</td>\n",
       "      <td>-28.800000</td>\n",
       "      <td>1.100000</td>\n",
       "    </tr>\n",
       "    <tr>\n",
       "      <th>4</th>\n",
       "      <td>0</td>\n",
       "      <td>-3.800000</td>\n",
       "      <td>-50.600000</td>\n",
       "      <td>0.900000</td>\n",
       "    </tr>\n",
       "  </tbody>\n",
       "</table>\n",
       "</div>"
      ],
      "text/plain": [
       "   Y          X1          X2       X3\n",
       "0  0  -62.800000  -89.500000 1.700000\n",
       "1  0    3.300000   -3.500000 1.100000\n",
       "2  0 -120.800000 -103.200000 2.500000\n",
       "3  0  -18.100000  -28.800000 1.100000\n",
       "4  0   -3.800000  -50.600000 0.900000"
      ]
     },
     "execution_count": 3,
     "metadata": {},
     "output_type": "execute_result"
    }
   ],
   "source": [
    "df_bank.head()"
   ]
  },
  {
   "cell_type": "code",
   "execution_count": 6,
   "id": "3102ddf7",
   "metadata": {},
   "outputs": [
    {
     "data": {
      "text/plain": [
       "Y     0\n",
       "X1    0\n",
       "X2    0\n",
       "X3    0\n",
       "dtype: int64"
      ]
     },
     "execution_count": 6,
     "metadata": {},
     "output_type": "execute_result"
    }
   ],
   "source": [
    "df_bank.isnull().sum()"
   ]
  },
  {
   "cell_type": "markdown",
   "id": "290dd431",
   "metadata": {},
   "source": [
    "###### There are no missing values."
   ]
  },
  {
   "cell_type": "code",
   "execution_count": 7,
   "id": "d0821351",
   "metadata": {},
   "outputs": [],
   "source": [
    "y = df_bank['Y']\n",
    "X = df_bank.drop('Y', axis=1)"
   ]
  },
  {
   "cell_type": "markdown",
   "id": "8bf96dc6",
   "metadata": {},
   "source": [
    "##### As there are just 66 rows in the dataset, therefore we need atleast 30 rows for train and test. So we will split dataset in 50:50 for train and test."
   ]
  },
  {
   "cell_type": "code",
   "execution_count": 8,
   "id": "fca65481",
   "metadata": {},
   "outputs": [],
   "source": [
    "X_train, X_test, y_train, y_test = train_test_split(X,y, test_size=0.5, random_state=2 )"
   ]
  },
  {
   "cell_type": "code",
   "execution_count": null,
   "id": "c952a114",
   "metadata": {},
   "outputs": [],
   "source": [
    "#b)"
   ]
  },
  {
   "cell_type": "code",
   "execution_count": 5,
   "id": "8c35dccc",
   "metadata": {},
   "outputs": [
    {
     "data": {
      "text/plain": [
       "Y       int64\n",
       "X1    float64\n",
       "X2    float64\n",
       "X3    float64\n",
       "dtype: object"
      ]
     },
     "execution_count": 5,
     "metadata": {},
     "output_type": "execute_result"
    }
   ],
   "source": [
    "df_bank.dtypes"
   ]
  },
  {
   "cell_type": "code",
   "execution_count": 4,
   "id": "873d1beb",
   "metadata": {},
   "outputs": [
    {
     "data": {
      "text/plain": [
       "(66, 4)"
      ]
     },
     "execution_count": 4,
     "metadata": {},
     "output_type": "execute_result"
    }
   ],
   "source": [
    "df_bank.shape"
   ]
  },
  {
   "cell_type": "code",
   "execution_count": 15,
   "id": "1bcdcdd0",
   "metadata": {},
   "outputs": [
    {
     "data": {
      "text/html": [
       "<div>\n",
       "<style scoped>\n",
       "    .dataframe tbody tr th:only-of-type {\n",
       "        vertical-align: middle;\n",
       "    }\n",
       "\n",
       "    .dataframe tbody tr th {\n",
       "        vertical-align: top;\n",
       "    }\n",
       "\n",
       "    .dataframe thead th {\n",
       "        text-align: right;\n",
       "    }\n",
       "</style>\n",
       "<table border=\"1\" class=\"dataframe\">\n",
       "  <thead>\n",
       "    <tr style=\"text-align: right;\">\n",
       "      <th></th>\n",
       "      <th>count</th>\n",
       "      <th>mean</th>\n",
       "      <th>std</th>\n",
       "      <th>min</th>\n",
       "      <th>25%</th>\n",
       "      <th>50%</th>\n",
       "      <th>75%</th>\n",
       "      <th>max</th>\n",
       "    </tr>\n",
       "  </thead>\n",
       "  <tbody>\n",
       "    <tr>\n",
       "      <th>Y</th>\n",
       "      <td>66.000000</td>\n",
       "      <td>0.500000</td>\n",
       "      <td>0.503831</td>\n",
       "      <td>0.000000</td>\n",
       "      <td>0.000000</td>\n",
       "      <td>0.500000</td>\n",
       "      <td>1.000000</td>\n",
       "      <td>1.000000</td>\n",
       "    </tr>\n",
       "    <tr>\n",
       "      <th>X1</th>\n",
       "      <td>66.000000</td>\n",
       "      <td>-13.630303</td>\n",
       "      <td>71.161567</td>\n",
       "      <td>-308.900000</td>\n",
       "      <td>-39.050000</td>\n",
       "      <td>7.850000</td>\n",
       "      <td>35.750000</td>\n",
       "      <td>68.600000</td>\n",
       "    </tr>\n",
       "    <tr>\n",
       "      <th>X2</th>\n",
       "      <td>66.000000</td>\n",
       "      <td>-8.225758</td>\n",
       "      <td>43.806309</td>\n",
       "      <td>-280.000000</td>\n",
       "      <td>-17.675000</td>\n",
       "      <td>4.100000</td>\n",
       "      <td>14.400000</td>\n",
       "      <td>34.100000</td>\n",
       "    </tr>\n",
       "    <tr>\n",
       "      <th>X3</th>\n",
       "      <td>66.000000</td>\n",
       "      <td>1.721212</td>\n",
       "      <td>1.067350</td>\n",
       "      <td>0.100000</td>\n",
       "      <td>1.025000</td>\n",
       "      <td>1.550000</td>\n",
       "      <td>1.975000</td>\n",
       "      <td>6.700000</td>\n",
       "    </tr>\n",
       "  </tbody>\n",
       "</table>\n",
       "</div>"
      ],
      "text/plain": [
       "       count       mean       std         min        25%      50%       75%  \\\n",
       "Y  66.000000   0.500000  0.503831    0.000000   0.000000 0.500000  1.000000   \n",
       "X1 66.000000 -13.630303 71.161567 -308.900000 -39.050000 7.850000 35.750000   \n",
       "X2 66.000000  -8.225758 43.806309 -280.000000 -17.675000 4.100000 14.400000   \n",
       "X3 66.000000   1.721212  1.067350    0.100000   1.025000 1.550000  1.975000   \n",
       "\n",
       "         max  \n",
       "Y   1.000000  \n",
       "X1 68.600000  \n",
       "X2 34.100000  \n",
       "X3  6.700000  "
      ]
     },
     "execution_count": 15,
     "metadata": {},
     "output_type": "execute_result"
    }
   ],
   "source": [
    "df_bank.describe().T"
   ]
  },
  {
   "cell_type": "code",
   "execution_count": 11,
   "id": "7e215f14",
   "metadata": {},
   "outputs": [],
   "source": [
    "#c)\n",
    "X = sm.add_constant(X)"
   ]
  },
  {
   "cell_type": "code",
   "execution_count": 12,
   "id": "d2a64264",
   "metadata": {},
   "outputs": [],
   "source": [
    "model = sm.Logit(y_train,X_train)"
   ]
  },
  {
   "cell_type": "code",
   "execution_count": 13,
   "id": "6421bb0f",
   "metadata": {},
   "outputs": [
    {
     "name": "stdout",
     "output_type": "stream",
     "text": [
      "Optimization terminated successfully.\n",
      "         Current function value: 0.062777\n",
      "         Iterations 12\n"
     ]
    }
   ],
   "source": [
    "result = model.fit()"
   ]
  },
  {
   "cell_type": "code",
   "execution_count": 14,
   "id": "18c11b20",
   "metadata": {},
   "outputs": [
    {
     "data": {
      "text/html": [
       "<table class=\"simpletable\">\n",
       "<caption>Logit Regression Results</caption>\n",
       "<tr>\n",
       "  <th>Dep. Variable:</th>           <td>Y</td>        <th>  No. Observations:  </th>  <td>    33</td>  \n",
       "</tr>\n",
       "<tr>\n",
       "  <th>Model:</th>                 <td>Logit</td>      <th>  Df Residuals:      </th>  <td>    30</td>  \n",
       "</tr>\n",
       "<tr>\n",
       "  <th>Method:</th>                 <td>MLE</td>       <th>  Df Model:          </th>  <td>     2</td>  \n",
       "</tr>\n",
       "<tr>\n",
       "  <th>Date:</th>            <td>Tue, 26 Nov 2024</td> <th>  Pseudo R-squ.:     </th>  <td>0.9089</td>  \n",
       "</tr>\n",
       "<tr>\n",
       "  <th>Time:</th>                <td>22:51:43</td>     <th>  Log-Likelihood:    </th> <td> -2.0716</td> \n",
       "</tr>\n",
       "<tr>\n",
       "  <th>converged:</th>             <td>True</td>       <th>  LL-Null:           </th> <td> -22.737</td> \n",
       "</tr>\n",
       "<tr>\n",
       "  <th>Covariance Type:</th>     <td>nonrobust</td>    <th>  LLR p-value:       </th> <td>1.059e-09</td>\n",
       "</tr>\n",
       "</table>\n",
       "<table class=\"simpletable\">\n",
       "<tr>\n",
       "   <td></td>     <th>coef</th>     <th>std err</th>      <th>z</th>      <th>P>|z|</th>  <th>[0.025</th>    <th>0.975]</th>  \n",
       "</tr>\n",
       "<tr>\n",
       "  <th>X1</th> <td>    0.0970</td> <td>    0.066</td> <td>    1.479</td> <td> 0.139</td> <td>   -0.032</td> <td>    0.226</td>\n",
       "</tr>\n",
       "<tr>\n",
       "  <th>X2</th> <td>    0.2647</td> <td>    0.234</td> <td>    1.133</td> <td> 0.257</td> <td>   -0.193</td> <td>    0.722</td>\n",
       "</tr>\n",
       "<tr>\n",
       "  <th>X3</th> <td>    0.0624</td> <td>    1.023</td> <td>    0.061</td> <td> 0.951</td> <td>   -1.942</td> <td>    2.066</td>\n",
       "</tr>\n",
       "</table><br/><br/>Possibly complete quasi-separation: A fraction 0.45 of observations can be<br/>perfectly predicted. This might indicate that there is complete<br/>quasi-separation. In this case some parameters will not be identified."
      ],
      "text/latex": [
       "\\begin{center}\n",
       "\\begin{tabular}{lclc}\n",
       "\\toprule\n",
       "\\textbf{Dep. Variable:}   &        Y         & \\textbf{  No. Observations:  } &       33    \\\\\n",
       "\\textbf{Model:}           &      Logit       & \\textbf{  Df Residuals:      } &       30    \\\\\n",
       "\\textbf{Method:}          &       MLE        & \\textbf{  Df Model:          } &        2    \\\\\n",
       "\\textbf{Date:}            & Tue, 26 Nov 2024 & \\textbf{  Pseudo R-squ.:     } &   0.9089    \\\\\n",
       "\\textbf{Time:}            &     22:51:43     & \\textbf{  Log-Likelihood:    } &   -2.0716   \\\\\n",
       "\\textbf{converged:}       &       True       & \\textbf{  LL-Null:           } &   -22.737   \\\\\n",
       "\\textbf{Covariance Type:} &    nonrobust     & \\textbf{  LLR p-value:       } & 1.059e-09   \\\\\n",
       "\\bottomrule\n",
       "\\end{tabular}\n",
       "\\begin{tabular}{lcccccc}\n",
       "            & \\textbf{coef} & \\textbf{std err} & \\textbf{z} & \\textbf{P$> |$z$|$} & \\textbf{[0.025} & \\textbf{0.975]}  \\\\\n",
       "\\midrule\n",
       "\\textbf{X1} &       0.0970  &        0.066     &     1.479  &         0.139        &       -0.032    &        0.226     \\\\\n",
       "\\textbf{X2} &       0.2647  &        0.234     &     1.133  &         0.257        &       -0.193    &        0.722     \\\\\n",
       "\\textbf{X3} &       0.0624  &        1.023     &     0.061  &         0.951        &       -1.942    &        2.066     \\\\\n",
       "\\bottomrule\n",
       "\\end{tabular}\n",
       "%\\caption{Logit Regression Results}\n",
       "\\end{center}\n",
       "\n",
       "Possibly complete quasi-separation: A fraction 0.45 of observations can be \\newline\n",
       " perfectly predicted. This might indicate that there is complete \\newline\n",
       " quasi-separation. In this case some parameters will not be identified."
      ],
      "text/plain": [
       "<class 'statsmodels.iolib.summary.Summary'>\n",
       "\"\"\"\n",
       "                           Logit Regression Results                           \n",
       "==============================================================================\n",
       "Dep. Variable:                      Y   No. Observations:                   33\n",
       "Model:                          Logit   Df Residuals:                       30\n",
       "Method:                           MLE   Df Model:                            2\n",
       "Date:                Tue, 26 Nov 2024   Pseudo R-squ.:                  0.9089\n",
       "Time:                        22:51:43   Log-Likelihood:                -2.0716\n",
       "converged:                       True   LL-Null:                       -22.737\n",
       "Covariance Type:            nonrobust   LLR p-value:                 1.059e-09\n",
       "==============================================================================\n",
       "                 coef    std err          z      P>|z|      [0.025      0.975]\n",
       "------------------------------------------------------------------------------\n",
       "X1             0.0970      0.066      1.479      0.139      -0.032       0.226\n",
       "X2             0.2647      0.234      1.133      0.257      -0.193       0.722\n",
       "X3             0.0624      1.023      0.061      0.951      -1.942       2.066\n",
       "==============================================================================\n",
       "\n",
       "Possibly complete quasi-separation: A fraction 0.45 of observations can be\n",
       "perfectly predicted. This might indicate that there is complete\n",
       "quasi-separation. In this case some parameters will not be identified.\n",
       "\"\"\""
      ]
     },
     "execution_count": 14,
     "metadata": {},
     "output_type": "execute_result"
    }
   ],
   "source": [
    "result.summary()"
   ]
  },
  {
   "cell_type": "markdown",
   "id": "566f2729",
   "metadata": {},
   "source": [
    "#### Observations:\n",
    "###### All the variables have p value > 0.05, therefore none of them are significant. \n",
    "###### The inferences which can be drawn from thr model  are: \n",
    "###### Weak relationship between predictor and response, lack of enough data, model is too simple, re-evaluation of significance level."
   ]
  },
  {
   "cell_type": "code",
   "execution_count": 18,
   "id": "8bb849e9",
   "metadata": {},
   "outputs": [
    {
     "name": "stdout",
     "output_type": "stream",
     "text": [
      "X1   1.101837\n",
      "X2   1.302981\n",
      "X3   1.064375\n",
      "dtype: float64\n"
     ]
    }
   ],
   "source": [
    "#d)\n",
    "\n",
    "odds_ratio = np.exp(result.params)\n",
    "print(odds_ratio)"
   ]
  },
  {
   "cell_type": "markdown",
   "id": "dc64a633",
   "metadata": {},
   "source": [
    "##### Observations:\n",
    "##### As the Odds Ratio is >1 for all variables, this means odds of bankruptcy for a firm increase with one unit increase in predictor variables."
   ]
  },
  {
   "cell_type": "code",
   "execution_count": null,
   "id": "8badadd9",
   "metadata": {},
   "outputs": [],
   "source": []
  }
 ],
 "metadata": {
  "kernelspec": {
   "display_name": "Python 3 (ipykernel)",
   "language": "python",
   "name": "python3"
  },
  "language_info": {
   "codemirror_mode": {
    "name": "ipython",
    "version": 3
   },
   "file_extension": ".py",
   "mimetype": "text/x-python",
   "name": "python",
   "nbconvert_exporter": "python",
   "pygments_lexer": "ipython3",
   "version": "3.11.10"
  }
 },
 "nbformat": 4,
 "nbformat_minor": 5
}
