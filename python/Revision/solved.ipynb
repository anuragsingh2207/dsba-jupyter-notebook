{
 "cells": [
  {
   "cell_type": "markdown",
   "metadata": {},
   "source": [
    "<h1 class=\"list-group-item list-group-item-action active\" data-toggle=\"list\"  role=\"tab\" aria-controls=\"home\"> Business Toolkit -Python-  End Sem Exam - Total - 60 Marks</h1>\n",
    "     \n"
   ]
  },
  {
   "cell_type": "markdown",
   "metadata": {},
   "source": [
    "<h3 class=\"list-group-item list-group-item-action active\" data-toggle=\"list\"  role=\"tab\" aria-controls=\"home\"> SECTION A - 20 marks</h3>\n",
    "     \n",
    ">#### Each question carries 2 marks\n",
    "\n",
    ">#### 1. a)What are the differences between the lambda and def with respect to Python functions?\n",
    ">#### 1. b)What are some of the advantages of using list comprehensions? (Write at least 2)\n",
    ">#### 1. c)Explain the \"Break\" statement with examples.\n",
    ">#### 1. d)What is Boolean in python?\n",
    ">#### 1. e)Explain negative indexing in python with example.\n",
    "\n",
    "\n",
    "\n"
   ]
  },
  {
   "cell_type": "markdown",
   "metadata": {},
   "source": [
    "\n",
    "\n",
    ">#### 2.a)What is the use of Shape() function in Numpy array?\n",
    ">#### 2.b)What is the difference in Pandas series and Numpy array?\n",
    ">#### 2.c)Define the different ways in which a DataFrame can be created in pandas?\n",
    ">#### 2.d)Which function can be used to remove a column from DataFrame?\n",
    ">#### 2.e)How to Rename the Index or Columns of a Pandas DataFrame?\n",
    "\n"
   ]
  },
  {
   "cell_type": "markdown",
   "metadata": {},
   "source": [
    ">#### 1. a) What are the differences between the lambda and def with respect to Python functions?\n"
   ]
  },
  {
   "cell_type": "markdown",
   "metadata": {},
   "source": [
    "* Def can hold multiple expressions while lambda is a uni-expression function.\n",
    "* Def generates a function and designates a name to call it later. Lambda forms a function object and returns it.\n",
    "* Def can have a return statement. Lambda can’t have return statements.\n",
    "* Lambda is used get used inside a list and dictionary.\n",
    "* Lambda can be used with map, reduce and filter to process the data containers"
   ]
  },
  {
   "cell_type": "markdown",
   "metadata": {},
   "source": [
    ">#### 1. b)What are some of the advantages of using list comprehensions? (Write at least 2)\n",
    "\n"
   ]
  },
  {
   "cell_type": "markdown",
   "metadata": {},
   "source": [
    "* List comprehension is generally more compact and faster than normal functions and loops for creating list.\n",
    "* It is more readable (when you get used to it).\n",
    "* The intent is clear - to initialise a list. A loop could be doing anything, you have to read it to check that it doesn't have any other side effects. A list comprehension just sets up the list, you know it isn't up to anything else.\n",
    "* For that reason, it is less error prone.\n",
    "* It is a Python expression, so you can incorporate it into other statements to keep you code short and readable."
   ]
  },
  {
   "cell_type": "markdown",
   "metadata": {},
   "source": [
    ">#### 1. c)Explain the \"Break\" statement with examples.\n"
   ]
  },
  {
   "cell_type": "markdown",
   "metadata": {},
   "source": [
    "The break statement terminates the loop containing it. Control of the program flows to the statement immediately after the body of the loop.\n",
    "\n",
    "If the break statement is inside a nested loop (loop inside another loop), the break statement will terminate the innermost loop."
   ]
  },
  {
   "cell_type": "code",
   "execution_count": 69,
   "metadata": {},
   "outputs": [
    {
     "name": "stdout",
     "output_type": "stream",
     "text": [
      "1\n",
      "2\n",
      "3\n",
      "4\n",
      "The end\n"
     ]
    }
   ],
   "source": [
    "# Use of break statement inside the loop\n",
    "\n",
    "for val in range(1,11):\n",
    "    if val == 5:\n",
    "        break\n",
    "    print(val)\n",
    "\n",
    "print(\"The end\")"
   ]
  },
  {
   "cell_type": "markdown",
   "metadata": {},
   "source": [
    ">#### 1. d)What is Boolean in python?\n",
    "\n"
   ]
  },
  {
   "cell_type": "markdown",
   "metadata": {},
   "source": [
    "Boolean is one of the built-in data types in Python, it mainly contains two values, and they are true and false. "
   ]
  },
  {
   "cell_type": "markdown",
   "metadata": {},
   "source": [
    ">#### 1. e)Explain negative indexing in python with example\n"
   ]
  },
  {
   "cell_type": "markdown",
   "metadata": {},
   "source": [
    "Python sequences can be index in positive and negative numbers. For negative index, (-1) is the last index and (-2) is the second last index and so forth."
   ]
  },
  {
   "cell_type": "code",
   "execution_count": 2,
   "metadata": {},
   "outputs": [
    {
     "name": "stdout",
     "output_type": "stream",
     "text": [
      "7  : Last element in list\n",
      "6  : Second last element in list\n"
     ]
    }
   ],
   "source": [
    "#Example of negative indexing\n",
    "l = [0,7,4,2,6,7]\n",
    "\n",
    "print(l[-1], ' : Last element in list')\n",
    "\n",
    "print(l[-2], ' : Second last element in list')"
   ]
  },
  {
   "cell_type": "markdown",
   "metadata": {},
   "source": [
    ">#### 2.a)What is the use of Shape() function in Numpy array?\n",
    "\n",
    "\n"
   ]
  },
  {
   "cell_type": "markdown",
   "metadata": {},
   "source": [
    "shape() function is used to find the shape of the numpy array"
   ]
  },
  {
   "cell_type": "markdown",
   "metadata": {},
   "source": [
    ">#### 2.b)What is the difference in Pandas series and Numpy array\n",
    "\n"
   ]
  },
  {
   "cell_type": "markdown",
   "metadata": {},
   "source": [
    "* The essential difference is the presence of the index: while the Numpy Array has an implicitly defined integer index used to access the values, the Pandas Series has an explicitly defined index associated with the values.\n",
    "* Index in series is customizable where as index in numpy array is predefined and can not be changed.\n",
    "* we can have duplicate entries in series index but can never have duplicate entries in array index."
   ]
  },
  {
   "cell_type": "markdown",
   "metadata": {},
   "source": [
    ">#### 2.c)Define the different ways in which a DataFrame can be created in pandas?\n",
    "\n"
   ]
  },
  {
   "cell_type": "markdown",
   "metadata": {},
   "source": [
    "We can create a DataFrame using following ways:\n",
    "\n",
    "Lists <br>\n",
    "Dict of ndarrays"
   ]
  },
  {
   "cell_type": "markdown",
   "metadata": {},
   "source": [
    ">#### 2.d)Which function can be used to remove a column from DataFrame?\n",
    "\n",
    "\n"
   ]
  },
  {
   "cell_type": "markdown",
   "metadata": {},
   "source": [
    "drop() can be used to drop the columns from DataFrames"
   ]
  },
  {
   "cell_type": "code",
   "execution_count": null,
   "metadata": {},
   "outputs": [],
   "source": [
    "df.drop()"
   ]
  },
  {
   "cell_type": "markdown",
   "metadata": {},
   "source": [
    ">#### 2.e)How to Rename the Index or Columns of a Pandas DataFrame?"
   ]
  },
  {
   "cell_type": "markdown",
   "metadata": {},
   "source": [
    "We can use the .rename method to give different values to the columns or the index values of DataFrame."
   ]
  },
  {
   "cell_type": "markdown",
   "metadata": {},
   "source": [
    "<h3 class=\"list-group-item list-group-item-action active\" data-toggle=\"list\"  role=\"tab\" aria-controls=\"home\"> SECTION B  - 20 Marks</h3>\n",
    "     \n",
    ">#### 3a) Using the list of tree names = [\"Mango tree\", \"Coconut tree\", \"papaya tree\" , \"Apple tree\", \"Banana tree\", \"Blackberry tree\"] answer the below questions\n",
    "\n",
    "Step1: Using tree names remove items at indexes [2,3,4] by replacing with an empty list.(2 Mark)\n",
    "\n",
    "Step2: Add the items[Neem Tree, Peepal Tree] starting at index [3]. (3 Mark)\n",
    "\n",
    "Step3: Write a function determine how many times a given letter \"n\" occurs in a string= (\" Banana tree\") (5 Marks)\n",
    "\n",
    "##### Sample Output \n",
    "\n",
    "Step1: ['Mango tree', 'Coconut tree', 'Blackberry tree']\n",
    "    \n",
    "\n",
    "Step2: ['Mango tree', 'Coconut tree', 'Banana tree', 'Neem Tree', ' Peepal Tree', 'Blackberry tree']\n",
    "\n",
    "\n",
    "Step3: \n",
    "\n",
    "Letter:n\n",
    "\n",
    "Count is:\n",
    "\n",
    "2\n",
    "\n",
    "\n",
    "\n",
    "\n",
    ">#### 3b) \n",
    "\n",
    "#### i). One way to solve math equations is by trial and error. Computers can help with that. The equation $21x^2- x^3 + 21904 = 0$ has an integer solution between 1 and 100. Print that x value which satisfies this equation (5 Marks)\n",
    "\n",
    "\n",
    "#### ii). Write a program that asks the user to enter a string of at least six characters. Then print out the following: (5 Marks)\n",
    "\n",
    "(a) Every character of the string except the last one\n",
    "\n",
    "(b) Every character of the string except the first and last\n",
    "\n",
    "(c) If the string contains a lowercase letter 'a', print out the index of the first 'a'. Otherwise print that there is no lowercase letter 'a'\n",
    "\n",
    "(d) The string in all caps\n",
    "\n",
    "(e) The string with every space replaced with an underscore\n",
    "\n",
    "\n",
    "***\n",
    "#### Sample Input/Output:\n",
    "\n",
    "Enter a string: ABCDE aGHI\n",
    "\n",
    "a. Every character of the string except the last one:  ABCDE aGH\n",
    "\n",
    "b. Every character of the string except the first and last:  BCDE aGH\n",
    "\n",
    "c. Index of the first a :  6\n",
    "\n",
    "d. The string in all caps:  ABCDE AGHI\n",
    "\n",
    "e. The string with every space replaced with an underscore:  ABCDE_aGHI\n",
    "\n",
    "\n",
    "***"
   ]
  },
  {
   "cell_type": "markdown",
   "metadata": {},
   "source": [
    ">#### 3a) Using the list of tree names = [\"Mango tree\", \"Coconut tree\", \"papaya tree\" , \"Apple tree\", \"Banana tree\", \"Blackberry tree\"] answer the below questions\n",
    "\n",
    "Step1: Using tree names remove items at indexes [2,3,4] by replacing with an empty list.(2 Mark)\n",
    "\n",
    "Step2: Add the items[Neem Tree, Peepal Tree] starting at index [3]. (3 Mark)\n",
    "\n",
    "Step3: Write a function determine how many times a given letter is \"n\" occurs in a string= (\" Banana tree\") (5 Marks)\n"
   ]
  },
  {
   "cell_type": "markdown",
   "metadata": {},
   "source": [
    "##### Sample Output \n",
    "\n",
    "Step1: ['Mango tree', 'Coconut tree', 'Blackberry tree']\n",
    "    \n",
    "\n",
    "Step2: ['Mango tree', 'Coconut tree', 'Banana tree', 'Neem Tree', ' Peepal Tree', 'Blackberry tree']\n",
    "\n",
    "\n",
    "Step3: \n",
    "\n",
    "Letter:n\n",
    "\n",
    "Count is:\n",
    "\n",
    "2"
   ]
  },
  {
   "cell_type": "code",
   "execution_count": 3,
   "metadata": {},
   "outputs": [],
   "source": [
    "Tree_names = [\"Mango tree\", \"Coconut tree\", \"papaya tree\" , \"Apple tree\", \"Banana tree\", \"Blackberry tree\"]"
   ]
  },
  {
   "cell_type": "markdown",
   "metadata": {},
   "source": [
    "#####  Step1 : Remove the tree names at indexs [2,3,4] by replacing with an empty list (2 Mark)"
   ]
  },
  {
   "cell_type": "code",
   "execution_count": 4,
   "metadata": {},
   "outputs": [
    {
     "name": "stdout",
     "output_type": "stream",
     "text": [
      "['Mango tree', 'Coconut tree', 'Blackberry tree']\n"
     ]
    }
   ],
   "source": [
    "Tree_names[2:5] = []\n",
    "print(Tree_names)"
   ]
  },
  {
   "cell_type": "markdown",
   "metadata": {},
   "source": [
    "##### Step2: Add the items[Neem Tree, Peepal Tree] starting at index 3 by replacing an empty slice with non-empty list. (3 Mark)"
   ]
  },
  {
   "cell_type": "code",
   "execution_count": 5,
   "metadata": {},
   "outputs": [
    {
     "name": "stdout",
     "output_type": "stream",
     "text": [
      "['Mango tree', 'Coconut tree', 'Blackberry tree', 'Neem Tree', ' Peepal Tree']\n"
     ]
    }
   ],
   "source": [
    "Tree_names[3:3] = [\"Neem Tree\",\" Peepal Tree\"]\n",
    "print(Tree_names)"
   ]
  },
  {
   "cell_type": "markdown",
   "metadata": {},
   "source": [
    "##### Step3:  Write a function to determine how many times a given letter \"n\" occurs in a string= (\" Banana tree\") (5 Marks)"
   ]
  },
  {
   "cell_type": "code",
   "execution_count": 39,
   "metadata": {},
   "outputs": [
    {
     "name": "stdout",
     "output_type": "stream",
     "text": [
      "n in Banana tree is: 2\n"
     ]
    }
   ],
   "source": [
    "def count_letter_occurrences(input_string, target_letter):\n",
    "    # Count the occurrences of the target letter\n",
    "    count = input_string.count(target_letter)\n",
    "    return count\n",
    "\n",
    "# Example usage\n",
    "input_string = \"Banana tree\"\n",
    "target_letter = \"n\"\n",
    "occurrences_of_n = count_letter_occurrences(input_string, target_letter)\n",
    "print(target_letter,\"in\",input_string,\"is:\",occurrences_of_n)"
   ]
  },
  {
   "cell_type": "markdown",
   "metadata": {},
   "source": [
    ">#### 3b) \n",
    "\n"
   ]
  },
  {
   "cell_type": "markdown",
   "metadata": {},
   "source": [
    "#### i). One way to solve math equations is by trial and error. Computers can help with that. The equation $21x^2- x^3 + 21904 = 0$ has an integer solution between 1 and 100. Print that x value which satisfies this equation (5 Marks)"
   ]
  },
  {
   "cell_type": "code",
   "execution_count": 7,
   "metadata": {},
   "outputs": [
    {
     "name": "stdout",
     "output_type": "stream",
     "text": [
      "value of x:  37\n"
     ]
    }
   ],
   "source": [
    "for i in range(1,101):\n",
    "    ans = 21 * i**2 - i**3 + 21904\n",
    "    if ans == 0:\n",
    "        print('value of x: ',i)"
   ]
  },
  {
   "cell_type": "markdown",
   "metadata": {},
   "source": [
    "#### ii). Write a program that asks the user to enter a string of at least six characters. Then print out the following: (5 Marks)\n",
    "\n",
    "(a) Every character of the string except the last one\n",
    "\n",
    "(b) Every character of the string except the first and last\n",
    "\n",
    "(c) If the string contains a lowercase letter 'a', print out the index of the first a. Otherwise print that there is no lowercase letter 'a'\n",
    "\n",
    "(d) The string in all caps\n",
    "\n",
    "(e) The string with every space replaced with an underscore\n",
    "\n",
    "\n",
    "***\n",
    "#### Sample Input/Output:\n",
    "\n",
    "Enter a string: ABCDE aGHI\n",
    "\n",
    "a. Every character of the string except the last one:  ABCDE aGH\n",
    "\n",
    "b. Every character of the string except the first and last:  BCDE aGH\n",
    "\n",
    "c. index of the first a :  6\n",
    "\n",
    "d. The string in all caps:  ABCDE AGHI\n",
    "\n",
    "e. The string with every space replaced with an underscore:  ABCDE_aGHI\n",
    "\n",
    "\n",
    "***"
   ]
  },
  {
   "cell_type": "code",
   "execution_count": 8,
   "metadata": {},
   "outputs": [
    {
     "name": "stdout",
     "output_type": "stream",
     "text": [
      "Enter a string: ABCDE aGHI\n",
      "a. Every character of the string except the last one:  ABCDE aGH\n",
      "b. Every character of the string except the first and last:  BCDE aGH\n",
      "c. index of the first a :  6\n",
      "d. The string in all caps:  ABCDE AGHI\n",
      "e. The string with every space replaced with an underscore:  ABCDE_aGHI\n"
     ]
    }
   ],
   "source": [
    "s = input('Enter a string: ')\n",
    "#s= 'ABCDE aGHI'\n",
    "\n",
    "if len(s) < 6:\n",
    "    print('Enter a string of at least six characters')\n",
    "else:\n",
    "    s1= s[:-1]\n",
    "    print('a. Every character of the string except the last one: ', s1)\n",
    "    s1= s[1:-1]\n",
    "    print('b. Every character of the string except the first and last: ',s1)\n",
    "    if 'a'in s:\n",
    "        print('c. index of the first a : ',s.index('a'))\n",
    "    else:\n",
    "        print('c. There is no lowercase a')\n",
    "    print('d. The string in all caps: ', s.upper())\n",
    "    print('e. The string with every space replaced with an underscore: ', s.replace(' ','_'))"
   ]
  },
  {
   "cell_type": "markdown",
   "metadata": {},
   "source": [
    "<h3 class=\"list-group-item list-group-item-action active\" data-toggle=\"list\"  role=\"tab\" aria-controls=\"home\">SECTION C (Case Study/Coding) - 20 Marks</h3>\n",
    "     \n",
    ">#### Each Question carries 15 marks\n",
    "\n",
    "\n",
    "\n",
    "\n",
    "\n",
    ">### We combined Two datasets in single CSV file and mention below columns belongs to \n",
    "\n",
    "\n",
    "\n",
    "\n",
    ">### **kc_house_data_mini** \n",
    "\n",
    "The dataset consists of house prices from King County an area in the US State of Washington, this data also covers Seattle\n",
    "\n",
    "\n",
    "\n",
    "\n",
    "* id\t\n",
    "* date\t\n",
    "* price\t\n",
    "* bedrooms\t\n",
    "* bathrooms\t\n",
    "* sqft_living\t\n",
    "* sqft_lot\t\n",
    "* sqft_above\t\n",
    "* sqft_basement\t\n",
    "* yr_built\t\n",
    "* yr_renovated\n",
    "\n",
    ">###  blockbusters\n",
    "\n",
    "The highest grossing movies of each year are not necessarily the best movies of that year. And more often than not, the ones scooping up all the awards don't end up as the highest grossing ones or box-office hits. \n",
    "\n",
    "* Main_Genre - The most relevant genre of the film.\n",
    "* Genre_2 - The most relevant sub-genre of the film.\n",
    "* Genre_3 - The lesser relevant sub-genre of the film.\n",
    "* imdb_rating - The IMDb rating of the film, scraped from the official IMDb website.\n",
    "* length - The length of the film in minutes.\n",
    "* rank_in_year - The rank of the film (1 to 10) in that year, according to higher gross.\n",
    "* rating - The maturity index of a film, namely G, PG, PG-13 and R, given by Motion Picture Association of America.\n",
    "* studio - The studio house that distributes the film worldwide. While cleaning the data, I replaced every studio name with its * parent studio to avoid sparsity. All the studios which are not present now, or have been bought by other studios, are also * replaced.\n",
    "* title - Obviously, the name of the film.\n",
    "* worldwide_gross - The total gross of the film, Domestic and Worldwide, in dollars, from Box Office Mojo.\n",
    "* year - The year of release for the film.\n",
    "\n",
    "\n",
    "\n",
    ">####  4a) Read the Dataset 'kc_house_data_mini.csv' and answer the following questions.\n",
    "\n",
    "A. Convert date column in datetime object (1 Mark)\n",
    "\n",
    "B. Create a new column for Apartment_age in years of an apartment as difference between the year in which apartment is built and date column in dataset. (2 Marks)\n",
    "\n",
    "C. Find out 5 most recently renovated apartments (2 Marks)\n",
    "\n",
    "D. Count the number of apartments for each bedroom’s category. Plot it using count plot. (2 Marks)\n",
    "\n",
    "E. What is mean price for the 3 Bedroom apartment with at least 3 bathrooms. (3 Marks)\n",
    "\n",
    "\n",
    "\n",
    ">#### 4b)Read the dataset blockbusters and Answer the below questions \n",
    "\n",
    "A. Identify the number of blockbuster movies under the Main Genre Comedy. (1 Mark)\n",
    "\n",
    "B. List all the names of all the blockbuster movies with imdb ratings above 8. (1 Mark)\n",
    "\n",
    "C. Display the details of all the movies which were produced by Walt Disney Pictures and suitable to be viewed by General Audiences. (3 Marks)\n",
    "\n",
    "D. Plot a bar graph to show the total worldwide gross for year. (5 Marks)\n",
    "\n"
   ]
  },
  {
   "cell_type": "code",
   "execution_count": 9,
   "metadata": {
    "colab_type": "raw",
    "id": "wEgYP9-oW0cg"
   },
   "outputs": [],
   "source": [
    "## Kindly change the below cells from markdown to code and execute it "
   ]
  },
  {
   "cell_type": "markdown",
   "metadata": {},
   "source": [
    "import pandas as pd\n",
    "\n",
    "import csv\n",
    "\n",
    "with open(\"data_set.csv\",\"r\")as file:\n",
    "\n",
    "reader=csv.reader(file)\n",
    "df=pd.read_csv(\"data_set.csv\")\n",
    "\n",
    "df.head()"
   ]
  },
  {
   "cell_type": "code",
   "execution_count": 10,
   "metadata": {
    "colab_type": "raw",
    "id": "VQ_WA9jKW0ch"
   },
   "outputs": [],
   "source": [
    "import pandas as pd\n",
    "import matplotlib.pyplot as plt\n",
    "import seaborn as sns"
   ]
  },
  {
   "cell_type": "code",
   "execution_count": 40,
   "metadata": {},
   "outputs": [
    {
     "data": {
      "text/html": [
       "<div>\n",
       "<style scoped>\n",
       "    .dataframe tbody tr th:only-of-type {\n",
       "        vertical-align: middle;\n",
       "    }\n",
       "\n",
       "    .dataframe tbody tr th {\n",
       "        vertical-align: top;\n",
       "    }\n",
       "\n",
       "    .dataframe thead th {\n",
       "        text-align: right;\n",
       "    }\n",
       "</style>\n",
       "<table border=\"1\" class=\"dataframe\">\n",
       "  <thead>\n",
       "    <tr style=\"text-align: right;\">\n",
       "      <th></th>\n",
       "      <th>id</th>\n",
       "      <th>date</th>\n",
       "      <th>price</th>\n",
       "      <th>bedrooms</th>\n",
       "      <th>bathrooms</th>\n",
       "      <th>sqft_living</th>\n",
       "      <th>sqft_lot</th>\n",
       "      <th>sqft_above</th>\n",
       "      <th>sqft_basement</th>\n",
       "      <th>yr_built</th>\n",
       "      <th>...</th>\n",
       "      <th>Genre_2</th>\n",
       "      <th>Genre_3</th>\n",
       "      <th>imdb_rating</th>\n",
       "      <th>length</th>\n",
       "      <th>rank_in_year</th>\n",
       "      <th>rating</th>\n",
       "      <th>studio</th>\n",
       "      <th>title</th>\n",
       "      <th>worldwide_gross</th>\n",
       "      <th>year</th>\n",
       "    </tr>\n",
       "  </thead>\n",
       "  <tbody>\n",
       "    <tr>\n",
       "      <th>0</th>\n",
       "      <td>5652600427</td>\n",
       "      <td>20150224T000000</td>\n",
       "      <td>420000</td>\n",
       "      <td>4</td>\n",
       "      <td>2.00</td>\n",
       "      <td>1700</td>\n",
       "      <td>6375</td>\n",
       "      <td>850</td>\n",
       "      <td>850</td>\n",
       "      <td>1950</td>\n",
       "      <td>...</td>\n",
       "      <td>Adventure</td>\n",
       "      <td>Drama</td>\n",
       "      <td>7.4</td>\n",
       "      <td>135</td>\n",
       "      <td>1</td>\n",
       "      <td>PG-13</td>\n",
       "      <td>Walt Disney Pictures</td>\n",
       "      <td>Black Panther</td>\n",
       "      <td>700059566</td>\n",
       "      <td>2018</td>\n",
       "    </tr>\n",
       "    <tr>\n",
       "      <th>1</th>\n",
       "      <td>7888000390</td>\n",
       "      <td>20140627T000000</td>\n",
       "      <td>140000</td>\n",
       "      <td>3</td>\n",
       "      <td>1.00</td>\n",
       "      <td>1060</td>\n",
       "      <td>7473</td>\n",
       "      <td>1060</td>\n",
       "      <td>0</td>\n",
       "      <td>1959</td>\n",
       "      <td>...</td>\n",
       "      <td>Adventure</td>\n",
       "      <td>Sci-Fi</td>\n",
       "      <td>8.5</td>\n",
       "      <td>156</td>\n",
       "      <td>2</td>\n",
       "      <td>PG-13</td>\n",
       "      <td>Walt Disney Pictures</td>\n",
       "      <td>Avengers: Infinity War</td>\n",
       "      <td>678815482</td>\n",
       "      <td>2018</td>\n",
       "    </tr>\n",
       "    <tr>\n",
       "      <th>2</th>\n",
       "      <td>5318101695</td>\n",
       "      <td>20150409T000000</td>\n",
       "      <td>940000</td>\n",
       "      <td>4</td>\n",
       "      <td>1.50</td>\n",
       "      <td>2430</td>\n",
       "      <td>3600</td>\n",
       "      <td>2430</td>\n",
       "      <td>0</td>\n",
       "      <td>1980</td>\n",
       "      <td>...</td>\n",
       "      <td>Action</td>\n",
       "      <td>Adventure</td>\n",
       "      <td>7.8</td>\n",
       "      <td>118</td>\n",
       "      <td>3</td>\n",
       "      <td>PG</td>\n",
       "      <td>Pixar</td>\n",
       "      <td>Incredibles 2</td>\n",
       "      <td>608581744</td>\n",
       "      <td>2018</td>\n",
       "    </tr>\n",
       "    <tr>\n",
       "      <th>3</th>\n",
       "      <td>4039000050</td>\n",
       "      <td>20140714T000000</td>\n",
       "      <td>516130</td>\n",
       "      <td>3</td>\n",
       "      <td>1.75</td>\n",
       "      <td>1510</td>\n",
       "      <td>8250</td>\n",
       "      <td>1510</td>\n",
       "      <td>0</td>\n",
       "      <td>1962</td>\n",
       "      <td>...</td>\n",
       "      <td>Adventure</td>\n",
       "      <td>Drama</td>\n",
       "      <td>6.2</td>\n",
       "      <td>129</td>\n",
       "      <td>4</td>\n",
       "      <td>PG-13</td>\n",
       "      <td>Universal Pictures</td>\n",
       "      <td>Jurassic World: Fallen Kingdom</td>\n",
       "      <td>416769345</td>\n",
       "      <td>2018</td>\n",
       "    </tr>\n",
       "    <tr>\n",
       "      <th>4</th>\n",
       "      <td>7853230590</td>\n",
       "      <td>20141029T000000</td>\n",
       "      <td>435000</td>\n",
       "      <td>4</td>\n",
       "      <td>2.50</td>\n",
       "      <td>2190</td>\n",
       "      <td>6578</td>\n",
       "      <td>2190</td>\n",
       "      <td>0</td>\n",
       "      <td>2004</td>\n",
       "      <td>...</td>\n",
       "      <td>Comedy</td>\n",
       "      <td>NaN</td>\n",
       "      <td>7.8</td>\n",
       "      <td>119</td>\n",
       "      <td>5</td>\n",
       "      <td>R</td>\n",
       "      <td>20th Century Fox</td>\n",
       "      <td>Deadpool 2</td>\n",
       "      <td>318491426</td>\n",
       "      <td>2018</td>\n",
       "    </tr>\n",
       "  </tbody>\n",
       "</table>\n",
       "<p>5 rows × 22 columns</p>\n",
       "</div>"
      ],
      "text/plain": [
       "           id             date   price  bedrooms  bathrooms  sqft_living  \\\n",
       "0  5652600427  20150224T000000  420000         4       2.00         1700   \n",
       "1  7888000390  20140627T000000  140000         3       1.00         1060   \n",
       "2  5318101695  20150409T000000  940000         4       1.50         2430   \n",
       "3  4039000050  20140714T000000  516130         3       1.75         1510   \n",
       "4  7853230590  20141029T000000  435000         4       2.50         2190   \n",
       "\n",
       "   sqft_lot  sqft_above  sqft_basement  yr_built  ...    Genre_2    Genre_3  \\\n",
       "0      6375         850            850      1950  ...  Adventure      Drama   \n",
       "1      7473        1060              0      1959  ...  Adventure     Sci-Fi   \n",
       "2      3600        2430              0      1980  ...     Action  Adventure   \n",
       "3      8250        1510              0      1962  ...  Adventure      Drama   \n",
       "4      6578        2190              0      2004  ...     Comedy        NaN   \n",
       "\n",
       "  imdb_rating length  rank_in_year  rating                studio  \\\n",
       "0         7.4    135             1   PG-13  Walt Disney Pictures   \n",
       "1         8.5    156             2   PG-13  Walt Disney Pictures   \n",
       "2         7.8    118             3      PG                 Pixar   \n",
       "3         6.2    129             4   PG-13    Universal Pictures   \n",
       "4         7.8    119             5       R      20th Century Fox   \n",
       "\n",
       "                            title worldwide_gross  year  \n",
       "0                   Black Panther       700059566  2018  \n",
       "1          Avengers: Infinity War       678815482  2018  \n",
       "2                   Incredibles 2       608581744  2018  \n",
       "3  Jurassic World: Fallen Kingdom       416769345  2018  \n",
       "4                      Deadpool 2       318491426  2018  \n",
       "\n",
       "[5 rows x 22 columns]"
      ]
     },
     "execution_count": 40,
     "metadata": {},
     "output_type": "execute_result"
    }
   ],
   "source": [
    "df=pd.read_csv(\"KC_BL_DATASET.csv\")\n",
    "df.head()"
   ]
  },
  {
   "cell_type": "code",
   "execution_count": 12,
   "metadata": {
    "colab": {},
    "colab_type": "code",
    "id": "QYbukIDmW0cl",
    "scrolled": true
   },
   "outputs": [
    {
     "data": {
      "text/html": [
       "<div>\n",
       "<style scoped>\n",
       "    .dataframe tbody tr th:only-of-type {\n",
       "        vertical-align: middle;\n",
       "    }\n",
       "\n",
       "    .dataframe tbody tr th {\n",
       "        vertical-align: top;\n",
       "    }\n",
       "\n",
       "    .dataframe thead th {\n",
       "        text-align: right;\n",
       "    }\n",
       "</style>\n",
       "<table border=\"1\" class=\"dataframe\">\n",
       "  <thead>\n",
       "    <tr style=\"text-align: right;\">\n",
       "      <th></th>\n",
       "      <th>id</th>\n",
       "      <th>date</th>\n",
       "      <th>price</th>\n",
       "      <th>bedrooms</th>\n",
       "      <th>bathrooms</th>\n",
       "      <th>sqft_living</th>\n",
       "      <th>sqft_lot</th>\n",
       "      <th>sqft_above</th>\n",
       "      <th>sqft_basement</th>\n",
       "      <th>yr_built</th>\n",
       "      <th>yr_renovated</th>\n",
       "    </tr>\n",
       "  </thead>\n",
       "  <tbody>\n",
       "    <tr>\n",
       "      <th>0</th>\n",
       "      <td>5652600427</td>\n",
       "      <td>20150224T000000</td>\n",
       "      <td>420000</td>\n",
       "      <td>4</td>\n",
       "      <td>2.0</td>\n",
       "      <td>1700</td>\n",
       "      <td>6375</td>\n",
       "      <td>850</td>\n",
       "      <td>850</td>\n",
       "      <td>1950</td>\n",
       "      <td>0</td>\n",
       "    </tr>\n",
       "  </tbody>\n",
       "</table>\n",
       "</div>"
      ],
      "text/plain": [
       "           id             date   price  bedrooms  bathrooms  sqft_living  \\\n",
       "0  5652600427  20150224T000000  420000         4        2.0         1700   \n",
       "\n",
       "   sqft_lot  sqft_above  sqft_basement  yr_built  yr_renovated  \n",
       "0      6375         850            850      1950             0  "
      ]
     },
     "execution_count": 12,
     "metadata": {},
     "output_type": "execute_result"
    }
   ],
   "source": [
    "kc_house_data_mini = df.iloc[:, :11]\n",
    "kc_house_data_mini.head(1)"
   ]
  },
  {
   "cell_type": "code",
   "execution_count": 13,
   "metadata": {
    "colab": {},
    "colab_type": "code",
    "id": "BM-deEV0W0cn",
    "scrolled": false
   },
   "outputs": [
    {
     "data": {
      "text/html": [
       "<div>\n",
       "<style scoped>\n",
       "    .dataframe tbody tr th:only-of-type {\n",
       "        vertical-align: middle;\n",
       "    }\n",
       "\n",
       "    .dataframe tbody tr th {\n",
       "        vertical-align: top;\n",
       "    }\n",
       "\n",
       "    .dataframe thead th {\n",
       "        text-align: right;\n",
       "    }\n",
       "</style>\n",
       "<table border=\"1\" class=\"dataframe\">\n",
       "  <thead>\n",
       "    <tr style=\"text-align: right;\">\n",
       "      <th></th>\n",
       "      <th>Main_Genre</th>\n",
       "      <th>Genre_2</th>\n",
       "      <th>Genre_3</th>\n",
       "      <th>imdb_rating</th>\n",
       "      <th>length</th>\n",
       "      <th>rank_in_year</th>\n",
       "      <th>rating</th>\n",
       "      <th>studio</th>\n",
       "      <th>title</th>\n",
       "      <th>worldwide_gross</th>\n",
       "      <th>year</th>\n",
       "    </tr>\n",
       "  </thead>\n",
       "  <tbody>\n",
       "    <tr>\n",
       "      <th>0</th>\n",
       "      <td>Action</td>\n",
       "      <td>Adventure</td>\n",
       "      <td>Drama</td>\n",
       "      <td>7.4</td>\n",
       "      <td>135</td>\n",
       "      <td>1</td>\n",
       "      <td>PG-13</td>\n",
       "      <td>Walt Disney Pictures</td>\n",
       "      <td>Black Panther</td>\n",
       "      <td>700059566</td>\n",
       "      <td>2018</td>\n",
       "    </tr>\n",
       "  </tbody>\n",
       "</table>\n",
       "</div>"
      ],
      "text/plain": [
       "  Main_Genre    Genre_2 Genre_3  imdb_rating  length  rank_in_year rating  \\\n",
       "0     Action  Adventure   Drama          7.4     135             1  PG-13   \n",
       "\n",
       "                 studio          title  worldwide_gross  year  \n",
       "0  Walt Disney Pictures  Black Panther        700059566  2018  "
      ]
     },
     "execution_count": 13,
     "metadata": {},
     "output_type": "execute_result"
    }
   ],
   "source": [
    "blockbusters = df.iloc[:, 11:]\n",
    "blockbusters.head(1)"
   ]
  },
  {
   "cell_type": "markdown",
   "metadata": {
    "colab_type": "text",
    "id": "l6YnGKTRW0cz"
   },
   "source": [
    " _________________"
   ]
  },
  {
   "cell_type": "markdown",
   "metadata": {},
   "source": [
    ">#### 4a) Read the Dataset 'kc_house_data_mini.csv' and answer the following questions.\n",
    "\n",
    "A. Convert date column in datetime object (1 Mark)\n",
    "\n",
    "B. Create a new column for Apartment_age in years of an apartment as difference between the year in which apartment is built and date column in dataset. (2 Marks)\n",
    "\n",
    "C. Find out 5 most recently renovated apartments (2 Marks)\n",
    "\n",
    "D. Count the number of apartments for each bedroom’s category. Plot it using count plot. (2 Marks)\n",
    "\n",
    "E. What is mean price for the 3 Bedroom apartment with at least 3 bathrooms. (3 Marks)"
   ]
  },
  {
   "cell_type": "code",
   "execution_count": 42,
   "metadata": {},
   "outputs": [
    {
     "data": {
      "text/html": [
       "<div>\n",
       "<style scoped>\n",
       "    .dataframe tbody tr th:only-of-type {\n",
       "        vertical-align: middle;\n",
       "    }\n",
       "\n",
       "    .dataframe tbody tr th {\n",
       "        vertical-align: top;\n",
       "    }\n",
       "\n",
       "    .dataframe thead th {\n",
       "        text-align: right;\n",
       "    }\n",
       "</style>\n",
       "<table border=\"1\" class=\"dataframe\">\n",
       "  <thead>\n",
       "    <tr style=\"text-align: right;\">\n",
       "      <th></th>\n",
       "      <th>id</th>\n",
       "      <th>date</th>\n",
       "      <th>price</th>\n",
       "      <th>bedrooms</th>\n",
       "      <th>bathrooms</th>\n",
       "      <th>sqft_living</th>\n",
       "      <th>sqft_lot</th>\n",
       "      <th>sqft_above</th>\n",
       "      <th>sqft_basement</th>\n",
       "      <th>yr_built</th>\n",
       "      <th>yr_renovated</th>\n",
       "      <th>Apartment_age</th>\n",
       "    </tr>\n",
       "  </thead>\n",
       "  <tbody>\n",
       "    <tr>\n",
       "      <th>0</th>\n",
       "      <td>5652600427</td>\n",
       "      <td>2015-02-24</td>\n",
       "      <td>420000</td>\n",
       "      <td>4</td>\n",
       "      <td>2.00</td>\n",
       "      <td>1700</td>\n",
       "      <td>6375</td>\n",
       "      <td>850</td>\n",
       "      <td>850</td>\n",
       "      <td>1950</td>\n",
       "      <td>0</td>\n",
       "      <td>65</td>\n",
       "    </tr>\n",
       "    <tr>\n",
       "      <th>1</th>\n",
       "      <td>7888000390</td>\n",
       "      <td>2014-06-27</td>\n",
       "      <td>140000</td>\n",
       "      <td>3</td>\n",
       "      <td>1.00</td>\n",
       "      <td>1060</td>\n",
       "      <td>7473</td>\n",
       "      <td>1060</td>\n",
       "      <td>0</td>\n",
       "      <td>1959</td>\n",
       "      <td>0</td>\n",
       "      <td>55</td>\n",
       "    </tr>\n",
       "    <tr>\n",
       "      <th>2</th>\n",
       "      <td>5318101695</td>\n",
       "      <td>2015-04-09</td>\n",
       "      <td>940000</td>\n",
       "      <td>4</td>\n",
       "      <td>1.50</td>\n",
       "      <td>2430</td>\n",
       "      <td>3600</td>\n",
       "      <td>2430</td>\n",
       "      <td>0</td>\n",
       "      <td>1980</td>\n",
       "      <td>0</td>\n",
       "      <td>35</td>\n",
       "    </tr>\n",
       "    <tr>\n",
       "      <th>3</th>\n",
       "      <td>4039000050</td>\n",
       "      <td>2014-07-14</td>\n",
       "      <td>516130</td>\n",
       "      <td>3</td>\n",
       "      <td>1.75</td>\n",
       "      <td>1510</td>\n",
       "      <td>8250</td>\n",
       "      <td>1510</td>\n",
       "      <td>0</td>\n",
       "      <td>1962</td>\n",
       "      <td>0</td>\n",
       "      <td>52</td>\n",
       "    </tr>\n",
       "    <tr>\n",
       "      <th>4</th>\n",
       "      <td>7853230590</td>\n",
       "      <td>2014-10-29</td>\n",
       "      <td>435000</td>\n",
       "      <td>4</td>\n",
       "      <td>2.50</td>\n",
       "      <td>2190</td>\n",
       "      <td>6578</td>\n",
       "      <td>2190</td>\n",
       "      <td>0</td>\n",
       "      <td>2004</td>\n",
       "      <td>0</td>\n",
       "      <td>10</td>\n",
       "    </tr>\n",
       "  </tbody>\n",
       "</table>\n",
       "</div>"
      ],
      "text/plain": [
       "           id       date   price  bedrooms  bathrooms  sqft_living  sqft_lot  \\\n",
       "0  5652600427 2015-02-24  420000         4       2.00         1700      6375   \n",
       "1  7888000390 2014-06-27  140000         3       1.00         1060      7473   \n",
       "2  5318101695 2015-04-09  940000         4       1.50         2430      3600   \n",
       "3  4039000050 2014-07-14  516130         3       1.75         1510      8250   \n",
       "4  7853230590 2014-10-29  435000         4       2.50         2190      6578   \n",
       "\n",
       "   sqft_above  sqft_basement  yr_built  yr_renovated  Apartment_age  \n",
       "0         850            850      1950             0             65  \n",
       "1        1060              0      1959             0             55  \n",
       "2        2430              0      1980             0             35  \n",
       "3        1510              0      1962             0             52  \n",
       "4        2190              0      2004             0             10  "
      ]
     },
     "execution_count": 42,
     "metadata": {},
     "output_type": "execute_result"
    }
   ],
   "source": [
    "df=kc_house_data_mini\n",
    "df.head()"
   ]
  },
  {
   "cell_type": "code",
   "execution_count": 43,
   "metadata": {},
   "outputs": [
    {
     "data": {
      "text/plain": [
       "(437, 12)"
      ]
     },
     "execution_count": 43,
     "metadata": {},
     "output_type": "execute_result"
    }
   ],
   "source": [
    "df.shape"
   ]
  },
  {
   "cell_type": "code",
   "execution_count": 44,
   "metadata": {},
   "outputs": [
    {
     "name": "stdout",
     "output_type": "stream",
     "text": [
      "<class 'pandas.core.frame.DataFrame'>\n",
      "RangeIndex: 437 entries, 0 to 436\n",
      "Data columns (total 12 columns):\n",
      " #   Column         Non-Null Count  Dtype         \n",
      "---  ------         --------------  -----         \n",
      " 0   id             437 non-null    int64         \n",
      " 1   date           437 non-null    datetime64[ns]\n",
      " 2   price          437 non-null    int64         \n",
      " 3   bedrooms       437 non-null    int64         \n",
      " 4   bathrooms      437 non-null    float64       \n",
      " 5   sqft_living    437 non-null    int64         \n",
      " 6   sqft_lot       437 non-null    int64         \n",
      " 7   sqft_above     437 non-null    int64         \n",
      " 8   sqft_basement  437 non-null    int64         \n",
      " 9   yr_built       437 non-null    int64         \n",
      " 10  yr_renovated   437 non-null    int64         \n",
      " 11  Apartment_age  437 non-null    int64         \n",
      "dtypes: datetime64[ns](1), float64(1), int64(10)\n",
      "memory usage: 41.1 KB\n"
     ]
    }
   ],
   "source": [
    "df.info()"
   ]
  },
  {
   "cell_type": "markdown",
   "metadata": {},
   "source": [
    "##### A.Convert  date column in datetime object (1 Mark)"
   ]
  },
  {
   "cell_type": "code",
   "execution_count": 45,
   "metadata": {},
   "outputs": [
    {
     "name": "stdout",
     "output_type": "stream",
     "text": [
      "<class 'pandas.core.frame.DataFrame'>\n",
      "RangeIndex: 437 entries, 0 to 436\n",
      "Data columns (total 12 columns):\n",
      " #   Column         Non-Null Count  Dtype         \n",
      "---  ------         --------------  -----         \n",
      " 0   id             437 non-null    int64         \n",
      " 1   date           437 non-null    datetime64[ns]\n",
      " 2   price          437 non-null    int64         \n",
      " 3   bedrooms       437 non-null    int64         \n",
      " 4   bathrooms      437 non-null    float64       \n",
      " 5   sqft_living    437 non-null    int64         \n",
      " 6   sqft_lot       437 non-null    int64         \n",
      " 7   sqft_above     437 non-null    int64         \n",
      " 8   sqft_basement  437 non-null    int64         \n",
      " 9   yr_built       437 non-null    int64         \n",
      " 10  yr_renovated   437 non-null    int64         \n",
      " 11  Apartment_age  437 non-null    int64         \n",
      "dtypes: datetime64[ns](1), float64(1), int64(10)\n",
      "memory usage: 41.1 KB\n"
     ]
    }
   ],
   "source": [
    "df.info()"
   ]
  },
  {
   "cell_type": "code",
   "execution_count": 46,
   "metadata": {},
   "outputs": [],
   "source": [
    "df['date'] = df['date'].astype('datetime64[ns]') "
   ]
  },
  {
   "cell_type": "code",
   "execution_count": 47,
   "metadata": {},
   "outputs": [
    {
     "name": "stdout",
     "output_type": "stream",
     "text": [
      "<class 'pandas.core.frame.DataFrame'>\n",
      "RangeIndex: 437 entries, 0 to 436\n",
      "Data columns (total 12 columns):\n",
      " #   Column         Non-Null Count  Dtype         \n",
      "---  ------         --------------  -----         \n",
      " 0   id             437 non-null    int64         \n",
      " 1   date           437 non-null    datetime64[ns]\n",
      " 2   price          437 non-null    int64         \n",
      " 3   bedrooms       437 non-null    int64         \n",
      " 4   bathrooms      437 non-null    float64       \n",
      " 5   sqft_living    437 non-null    int64         \n",
      " 6   sqft_lot       437 non-null    int64         \n",
      " 7   sqft_above     437 non-null    int64         \n",
      " 8   sqft_basement  437 non-null    int64         \n",
      " 9   yr_built       437 non-null    int64         \n",
      " 10  yr_renovated   437 non-null    int64         \n",
      " 11  Apartment_age  437 non-null    int64         \n",
      "dtypes: datetime64[ns](1), float64(1), int64(10)\n",
      "memory usage: 41.1 KB\n"
     ]
    }
   ],
   "source": [
    "# Check the format of 'Date' column after converting\n",
    "df.info() "
   ]
  },
  {
   "cell_type": "markdown",
   "metadata": {},
   "source": [
    "##### B Create a new column for Apartment_age in years of an apartment as difference between the year in which apartment is built and date column in dataset. (2 Marks)"
   ]
  },
  {
   "cell_type": "code",
   "execution_count": 49,
   "metadata": {},
   "outputs": [],
   "source": [
    "df['Apartment_age']= pd.DatetimeIndex(df['date']).year - df['yr_built']\n",
    "df['Apartment_age']= df['Apartment_age'] "
   ]
  },
  {
   "cell_type": "code",
   "execution_count": 21,
   "metadata": {},
   "outputs": [
    {
     "data": {
      "text/plain": [
       "count    437.000000\n",
       "mean      41.466819\n",
       "std       27.768240\n",
       "min        0.000000\n",
       "25%       18.000000\n",
       "50%       37.000000\n",
       "75%       60.000000\n",
       "max      115.000000\n",
       "Name: Apartment_age, dtype: float64"
      ]
     },
     "execution_count": 21,
     "metadata": {},
     "output_type": "execute_result"
    }
   ],
   "source": [
    "df.Apartment_age.describe()"
   ]
  },
  {
   "cell_type": "markdown",
   "metadata": {},
   "source": [
    "##### C. Find out 5 most recently renovated apartments (2 Marks)"
   ]
  },
  {
   "cell_type": "code",
   "execution_count": 22,
   "metadata": {},
   "outputs": [
    {
     "data": {
      "text/html": [
       "<div>\n",
       "<style scoped>\n",
       "    .dataframe tbody tr th:only-of-type {\n",
       "        vertical-align: middle;\n",
       "    }\n",
       "\n",
       "    .dataframe tbody tr th {\n",
       "        vertical-align: top;\n",
       "    }\n",
       "\n",
       "    .dataframe thead th {\n",
       "        text-align: right;\n",
       "    }\n",
       "</style>\n",
       "<table border=\"1\" class=\"dataframe\">\n",
       "  <thead>\n",
       "    <tr style=\"text-align: right;\">\n",
       "      <th></th>\n",
       "      <th>id</th>\n",
       "      <th>date</th>\n",
       "      <th>price</th>\n",
       "      <th>bedrooms</th>\n",
       "      <th>bathrooms</th>\n",
       "      <th>sqft_living</th>\n",
       "      <th>sqft_lot</th>\n",
       "      <th>sqft_above</th>\n",
       "      <th>sqft_basement</th>\n",
       "      <th>yr_built</th>\n",
       "      <th>yr_renovated</th>\n",
       "      <th>Apartment_age</th>\n",
       "    </tr>\n",
       "  </thead>\n",
       "  <tbody>\n",
       "    <tr>\n",
       "      <th>111</th>\n",
       "      <td>2473100450</td>\n",
       "      <td>2014-09-09</td>\n",
       "      <td>330000</td>\n",
       "      <td>4</td>\n",
       "      <td>2.00</td>\n",
       "      <td>1590</td>\n",
       "      <td>9100</td>\n",
       "      <td>1040</td>\n",
       "      <td>550</td>\n",
       "      <td>1967</td>\n",
       "      <td>2014</td>\n",
       "      <td>47</td>\n",
       "    </tr>\n",
       "    <tr>\n",
       "      <th>214</th>\n",
       "      <td>9187200275</td>\n",
       "      <td>2015-04-20</td>\n",
       "      <td>905000</td>\n",
       "      <td>4</td>\n",
       "      <td>2.25</td>\n",
       "      <td>2240</td>\n",
       "      <td>5000</td>\n",
       "      <td>1770</td>\n",
       "      <td>470</td>\n",
       "      <td>1900</td>\n",
       "      <td>2014</td>\n",
       "      <td>115</td>\n",
       "    </tr>\n",
       "    <tr>\n",
       "      <th>432</th>\n",
       "      <td>9274201006</td>\n",
       "      <td>2014-05-07</td>\n",
       "      <td>705000</td>\n",
       "      <td>4</td>\n",
       "      <td>2.50</td>\n",
       "      <td>2650</td>\n",
       "      <td>4316</td>\n",
       "      <td>1520</td>\n",
       "      <td>1130</td>\n",
       "      <td>1905</td>\n",
       "      <td>2013</td>\n",
       "      <td>109</td>\n",
       "    </tr>\n",
       "    <tr>\n",
       "      <th>140</th>\n",
       "      <td>7284900385</td>\n",
       "      <td>2014-05-21</td>\n",
       "      <td>970000</td>\n",
       "      <td>4</td>\n",
       "      <td>3.25</td>\n",
       "      <td>2790</td>\n",
       "      <td>5420</td>\n",
       "      <td>1130</td>\n",
       "      <td>1660</td>\n",
       "      <td>1963</td>\n",
       "      <td>2013</td>\n",
       "      <td>51</td>\n",
       "    </tr>\n",
       "    <tr>\n",
       "      <th>141</th>\n",
       "      <td>2944500330</td>\n",
       "      <td>2014-08-25</td>\n",
       "      <td>330000</td>\n",
       "      <td>4</td>\n",
       "      <td>2.50</td>\n",
       "      <td>2510</td>\n",
       "      <td>8580</td>\n",
       "      <td>2510</td>\n",
       "      <td>0</td>\n",
       "      <td>1991</td>\n",
       "      <td>2012</td>\n",
       "      <td>23</td>\n",
       "    </tr>\n",
       "    <tr>\n",
       "      <th>435</th>\n",
       "      <td>1118001560</td>\n",
       "      <td>2014-07-10</td>\n",
       "      <td>1910000</td>\n",
       "      <td>4</td>\n",
       "      <td>3.00</td>\n",
       "      <td>4460</td>\n",
       "      <td>6833</td>\n",
       "      <td>3140</td>\n",
       "      <td>1320</td>\n",
       "      <td>1955</td>\n",
       "      <td>2007</td>\n",
       "      <td>59</td>\n",
       "    </tr>\n",
       "    <tr>\n",
       "      <th>148</th>\n",
       "      <td>1797500600</td>\n",
       "      <td>2014-08-25</td>\n",
       "      <td>850000</td>\n",
       "      <td>5</td>\n",
       "      <td>3.50</td>\n",
       "      <td>3150</td>\n",
       "      <td>4120</td>\n",
       "      <td>2460</td>\n",
       "      <td>690</td>\n",
       "      <td>1911</td>\n",
       "      <td>2007</td>\n",
       "      <td>103</td>\n",
       "    </tr>\n",
       "    <tr>\n",
       "      <th>218</th>\n",
       "      <td>3013300085</td>\n",
       "      <td>2014-05-15</td>\n",
       "      <td>744000</td>\n",
       "      <td>4</td>\n",
       "      <td>3.00</td>\n",
       "      <td>1980</td>\n",
       "      <td>5352</td>\n",
       "      <td>1980</td>\n",
       "      <td>0</td>\n",
       "      <td>1941</td>\n",
       "      <td>2005</td>\n",
       "      <td>73</td>\n",
       "    </tr>\n",
       "    <tr>\n",
       "      <th>316</th>\n",
       "      <td>5457801925</td>\n",
       "      <td>2015-04-11</td>\n",
       "      <td>885000</td>\n",
       "      <td>4</td>\n",
       "      <td>3.75</td>\n",
       "      <td>2400</td>\n",
       "      <td>3520</td>\n",
       "      <td>1370</td>\n",
       "      <td>1030</td>\n",
       "      <td>1924</td>\n",
       "      <td>2005</td>\n",
       "      <td>91</td>\n",
       "    </tr>\n",
       "    <tr>\n",
       "      <th>257</th>\n",
       "      <td>1454600266</td>\n",
       "      <td>2014-10-27</td>\n",
       "      <td>925000</td>\n",
       "      <td>4</td>\n",
       "      <td>3.75</td>\n",
       "      <td>4420</td>\n",
       "      <td>9492</td>\n",
       "      <td>3420</td>\n",
       "      <td>1000</td>\n",
       "      <td>1962</td>\n",
       "      <td>2005</td>\n",
       "      <td>52</td>\n",
       "    </tr>\n",
       "  </tbody>\n",
       "</table>\n",
       "</div>"
      ],
      "text/plain": [
       "             id       date    price  bedrooms  bathrooms  sqft_living  \\\n",
       "111  2473100450 2014-09-09   330000         4       2.00         1590   \n",
       "214  9187200275 2015-04-20   905000         4       2.25         2240   \n",
       "432  9274201006 2014-05-07   705000         4       2.50         2650   \n",
       "140  7284900385 2014-05-21   970000         4       3.25         2790   \n",
       "141  2944500330 2014-08-25   330000         4       2.50         2510   \n",
       "435  1118001560 2014-07-10  1910000         4       3.00         4460   \n",
       "148  1797500600 2014-08-25   850000         5       3.50         3150   \n",
       "218  3013300085 2014-05-15   744000         4       3.00         1980   \n",
       "316  5457801925 2015-04-11   885000         4       3.75         2400   \n",
       "257  1454600266 2014-10-27   925000         4       3.75         4420   \n",
       "\n",
       "     sqft_lot  sqft_above  sqft_basement  yr_built  yr_renovated  \\\n",
       "111      9100        1040            550      1967          2014   \n",
       "214      5000        1770            470      1900          2014   \n",
       "432      4316        1520           1130      1905          2013   \n",
       "140      5420        1130           1660      1963          2013   \n",
       "141      8580        2510              0      1991          2012   \n",
       "435      6833        3140           1320      1955          2007   \n",
       "148      4120        2460            690      1911          2007   \n",
       "218      5352        1980              0      1941          2005   \n",
       "316      3520        1370           1030      1924          2005   \n",
       "257      9492        3420           1000      1962          2005   \n",
       "\n",
       "     Apartment_age  \n",
       "111             47  \n",
       "214            115  \n",
       "432            109  \n",
       "140             51  \n",
       "141             23  \n",
       "435             59  \n",
       "148            103  \n",
       "218             73  \n",
       "316             91  \n",
       "257             52  "
      ]
     },
     "execution_count": 22,
     "metadata": {},
     "output_type": "execute_result"
    }
   ],
   "source": [
    "df_sort=df.sort_values(by=['yr_renovated'], ascending=False)\n",
    "df_sort.head(10)"
   ]
  },
  {
   "cell_type": "markdown",
   "metadata": {},
   "source": [
    "##### D.\tCount the number of apartments for each bedroom’s category. Plot it using count plot.. (2 Marks)"
   ]
  },
  {
   "cell_type": "code",
   "execution_count": 57,
   "metadata": {},
   "outputs": [
    {
     "data": {
      "text/plain": [
       "bedrooms\n",
       "3    206\n",
       "4    137\n",
       "2     48\n",
       "5     31\n",
       "6      9\n",
       "1      2\n",
       "8      2\n",
       "0      1\n",
       "7      1\n",
       "Name: count, dtype: int64"
      ]
     },
     "execution_count": 57,
     "metadata": {},
     "output_type": "execute_result"
    }
   ],
   "source": [
    "a =df.bedrooms.value_counts()\n",
    "a"
   ]
  },
  {
   "cell_type": "code",
   "execution_count": 58,
   "metadata": {},
   "outputs": [
    {
     "data": {
      "text/plain": [
       "<Axes: ylabel='count'>"
      ]
     },
     "execution_count": 58,
     "metadata": {},
     "output_type": "execute_result"
    },
    {
     "data": {
      "image/png": "[encoded data removed]",
      "text/plain": [
       "<Figure size 640x480 with 1 Axes>"
      ]
     },
     "metadata": {},
     "output_type": "display_data"
    }
   ],
   "source": [
    "sns.countplot(a)"
   ]
  },
  {
   "cell_type": "code",
   "execution_count": 54,
   "metadata": {},
   "outputs": [
    {
     "data": {
      "text/plain": [
       "<Axes: xlabel='bedrooms'>"
      ]
     },
     "execution_count": 54,
     "metadata": {},
     "output_type": "execute_result"
    },
    {
     "data": {
      "image/png": "[encoded data removed]",
      "text/plain": [
       "<Figure size 640x480 with 1 Axes>"
      ]
     },
     "metadata": {},
     "output_type": "display_data"
    }
   ],
   "source": [
    "a.plot(kind='bar')"
   ]
  },
  {
   "cell_type": "markdown",
   "metadata": {},
   "source": [
    "##### E. What is mean price for the 3 Bedroom apartment with atleast 3 bathrooms. (3 Marks)"
   ]
  },
  {
   "cell_type": "code",
   "execution_count": 25,
   "metadata": {},
   "outputs": [
    {
     "data": {
      "text/plain": [
       "811495.0"
      ]
     },
     "execution_count": 25,
     "metadata": {},
     "output_type": "execute_result"
    }
   ],
   "source": [
    "df[ (df['bedrooms'] == 3) & (df['bathrooms'] >=3)]['price'].mean()"
   ]
  },
  {
   "cell_type": "markdown",
   "metadata": {},
   "source": [
    ">#### 4b)Read the dataset blockbusters and Answer the below questions \n",
    "\n",
    "A.Identify the number of blockbuster movies under the Main Genre Comedy. (1 Mark)\n",
    "\n",
    "B. List all the names of all the blockbuster movies with imdb ratings above 8. (1 Mark)\n",
    "\n",
    "C. Display the details of all the movies which were produced by Walt Disney Pictures and suitable to be viewed by General Audiences. (3 Marks)\n",
    "\n",
    "D. Plot a bar graph to show the total worldwide gross for year. (5 Marks)"
   ]
  },
  {
   "cell_type": "code",
   "execution_count": 59,
   "metadata": {
    "scrolled": true
   },
   "outputs": [
    {
     "data": {
      "text/html": [
       "<div>\n",
       "<style scoped>\n",
       "    .dataframe tbody tr th:only-of-type {\n",
       "        vertical-align: middle;\n",
       "    }\n",
       "\n",
       "    .dataframe tbody tr th {\n",
       "        vertical-align: top;\n",
       "    }\n",
       "\n",
       "    .dataframe thead th {\n",
       "        text-align: right;\n",
       "    }\n",
       "</style>\n",
       "<table border=\"1\" class=\"dataframe\">\n",
       "  <thead>\n",
       "    <tr style=\"text-align: right;\">\n",
       "      <th></th>\n",
       "      <th>Main_Genre</th>\n",
       "      <th>Genre_2</th>\n",
       "      <th>Genre_3</th>\n",
       "      <th>imdb_rating</th>\n",
       "      <th>length</th>\n",
       "      <th>rank_in_year</th>\n",
       "      <th>rating</th>\n",
       "      <th>studio</th>\n",
       "      <th>title</th>\n",
       "      <th>worldwide_gross</th>\n",
       "      <th>year</th>\n",
       "    </tr>\n",
       "  </thead>\n",
       "  <tbody>\n",
       "    <tr>\n",
       "      <th>0</th>\n",
       "      <td>Action</td>\n",
       "      <td>Adventure</td>\n",
       "      <td>Drama</td>\n",
       "      <td>7.4</td>\n",
       "      <td>135</td>\n",
       "      <td>1</td>\n",
       "      <td>PG-13</td>\n",
       "      <td>Walt Disney Pictures</td>\n",
       "      <td>Black Panther</td>\n",
       "      <td>700059566</td>\n",
       "      <td>2018</td>\n",
       "    </tr>\n",
       "    <tr>\n",
       "      <th>1</th>\n",
       "      <td>Action</td>\n",
       "      <td>Adventure</td>\n",
       "      <td>Sci-Fi</td>\n",
       "      <td>8.5</td>\n",
       "      <td>156</td>\n",
       "      <td>2</td>\n",
       "      <td>PG-13</td>\n",
       "      <td>Walt Disney Pictures</td>\n",
       "      <td>Avengers: Infinity War</td>\n",
       "      <td>678815482</td>\n",
       "      <td>2018</td>\n",
       "    </tr>\n",
       "    <tr>\n",
       "      <th>2</th>\n",
       "      <td>Animation</td>\n",
       "      <td>Action</td>\n",
       "      <td>Adventure</td>\n",
       "      <td>7.8</td>\n",
       "      <td>118</td>\n",
       "      <td>3</td>\n",
       "      <td>PG</td>\n",
       "      <td>Pixar</td>\n",
       "      <td>Incredibles 2</td>\n",
       "      <td>608581744</td>\n",
       "      <td>2018</td>\n",
       "    </tr>\n",
       "    <tr>\n",
       "      <th>3</th>\n",
       "      <td>Action</td>\n",
       "      <td>Adventure</td>\n",
       "      <td>Drama</td>\n",
       "      <td>6.2</td>\n",
       "      <td>129</td>\n",
       "      <td>4</td>\n",
       "      <td>PG-13</td>\n",
       "      <td>Universal Pictures</td>\n",
       "      <td>Jurassic World: Fallen Kingdom</td>\n",
       "      <td>416769345</td>\n",
       "      <td>2018</td>\n",
       "    </tr>\n",
       "    <tr>\n",
       "      <th>4</th>\n",
       "      <td>Action</td>\n",
       "      <td>Comedy</td>\n",
       "      <td>NaN</td>\n",
       "      <td>7.8</td>\n",
       "      <td>119</td>\n",
       "      <td>5</td>\n",
       "      <td>R</td>\n",
       "      <td>20th Century Fox</td>\n",
       "      <td>Deadpool 2</td>\n",
       "      <td>318491426</td>\n",
       "      <td>2018</td>\n",
       "    </tr>\n",
       "  </tbody>\n",
       "</table>\n",
       "</div>"
      ],
      "text/plain": [
       "  Main_Genre    Genre_2    Genre_3  imdb_rating  length  rank_in_year rating  \\\n",
       "0     Action  Adventure      Drama          7.4     135             1  PG-13   \n",
       "1     Action  Adventure     Sci-Fi          8.5     156             2  PG-13   \n",
       "2  Animation     Action  Adventure          7.8     118             3     PG   \n",
       "3     Action  Adventure      Drama          6.2     129             4  PG-13   \n",
       "4     Action     Comedy        NaN          7.8     119             5      R   \n",
       "\n",
       "                 studio                           title  worldwide_gross  year  \n",
       "0  Walt Disney Pictures                   Black Panther        700059566  2018  \n",
       "1  Walt Disney Pictures          Avengers: Infinity War        678815482  2018  \n",
       "2                 Pixar                   Incredibles 2        608581744  2018  \n",
       "3    Universal Pictures  Jurassic World: Fallen Kingdom        416769345  2018  \n",
       "4      20th Century Fox                      Deadpool 2        318491426  2018  "
      ]
     },
     "execution_count": 59,
     "metadata": {},
     "output_type": "execute_result"
    }
   ],
   "source": [
    "blockbusters=blockbusters\n",
    "blockbusters.head()"
   ]
  },
  {
   "cell_type": "markdown",
   "metadata": {},
   "source": [
    "##### A.\tIdentify the number of blockbuster movies under the Main Genre Comedy. (1 Mark)"
   ]
  },
  {
   "cell_type": "code",
   "execution_count": 60,
   "metadata": {},
   "outputs": [
    {
     "data": {
      "text/plain": [
       "55"
      ]
     },
     "execution_count": 60,
     "metadata": {},
     "output_type": "execute_result"
    }
   ],
   "source": [
    "blockbusters[blockbusters['Main_Genre']=='Comedy']['title'].count()"
   ]
  },
  {
   "cell_type": "markdown",
   "metadata": {},
   "source": [
    "##### B.\tList all the names of all the blockbuster movies with imdb ratings above 8. (1 Mark)"
   ]
  },
  {
   "cell_type": "code",
   "execution_count": 61,
   "metadata": {},
   "outputs": [
    {
     "data": {
      "text/plain": [
       "1         Avengers: Infinity War\n",
       "9                A Star is Born \n",
       "33                    Inside Out\n",
       "42       Guardians of the Galaxy\n",
       "45    X-Men: Days of Future Past\n",
       "Name: title, dtype: object"
      ]
     },
     "execution_count": 61,
     "metadata": {},
     "output_type": "execute_result"
    }
   ],
   "source": [
    "blockbusters[blockbusters['imdb_rating']>8]['title'].head()"
   ]
  },
  {
   "cell_type": "markdown",
   "metadata": {},
   "source": [
    "##### C.\tDisplay the details of all the movies which were produced by Walt Disney Pictures and suitable to be viewed by General Audiences. (3 Marks)"
   ]
  },
  {
   "cell_type": "code",
   "execution_count": 62,
   "metadata": {
    "scrolled": false
   },
   "outputs": [
    {
     "data": {
      "text/html": [
       "<div>\n",
       "<style scoped>\n",
       "    .dataframe tbody tr th:only-of-type {\n",
       "        vertical-align: middle;\n",
       "    }\n",
       "\n",
       "    .dataframe tbody tr th {\n",
       "        vertical-align: top;\n",
       "    }\n",
       "\n",
       "    .dataframe thead th {\n",
       "        text-align: right;\n",
       "    }\n",
       "</style>\n",
       "<table border=\"1\" class=\"dataframe\">\n",
       "  <thead>\n",
       "    <tr style=\"text-align: right;\">\n",
       "      <th></th>\n",
       "      <th>Main_Genre</th>\n",
       "      <th>Genre_2</th>\n",
       "      <th>Genre_3</th>\n",
       "      <th>imdb_rating</th>\n",
       "      <th>length</th>\n",
       "      <th>rank_in_year</th>\n",
       "      <th>rating</th>\n",
       "      <th>studio</th>\n",
       "      <th>title</th>\n",
       "      <th>worldwide_gross</th>\n",
       "      <th>year</th>\n",
       "    </tr>\n",
       "  </thead>\n",
       "  <tbody>\n",
       "    <tr>\n",
       "      <th>56</th>\n",
       "      <td>Comedy</td>\n",
       "      <td>Animation</td>\n",
       "      <td>Adventure</td>\n",
       "      <td>7.4</td>\n",
       "      <td>104</td>\n",
       "      <td>7</td>\n",
       "      <td>G</td>\n",
       "      <td>Walt Disney Pictures</td>\n",
       "      <td>Monsters University</td>\n",
       "      <td>743559607</td>\n",
       "      <td>2013</td>\n",
       "    </tr>\n",
       "    <tr>\n",
       "      <th>79</th>\n",
       "      <td>Comedy</td>\n",
       "      <td>Animation</td>\n",
       "      <td>Adventure</td>\n",
       "      <td>6.3</td>\n",
       "      <td>106</td>\n",
       "      <td>10</td>\n",
       "      <td>G</td>\n",
       "      <td>Walt Disney Pictures</td>\n",
       "      <td>Cars 2</td>\n",
       "      <td>559852396</td>\n",
       "      <td>2011</td>\n",
       "    </tr>\n",
       "    <tr>\n",
       "      <th>80</th>\n",
       "      <td>Comedy</td>\n",
       "      <td>Animation</td>\n",
       "      <td>Adventure</td>\n",
       "      <td>8.4</td>\n",
       "      <td>103</td>\n",
       "      <td>1</td>\n",
       "      <td>G</td>\n",
       "      <td>Walt Disney Pictures</td>\n",
       "      <td>Toy Story 3</td>\n",
       "      <td>1063171911</td>\n",
       "      <td>2010</td>\n",
       "    </tr>\n",
       "    <tr>\n",
       "      <th>192</th>\n",
       "      <td>Comedy</td>\n",
       "      <td>Animation</td>\n",
       "      <td>Adventure</td>\n",
       "      <td>7.9</td>\n",
       "      <td>92</td>\n",
       "      <td>3</td>\n",
       "      <td>G</td>\n",
       "      <td>Walt Disney Pictures</td>\n",
       "      <td>Toy Story 2</td>\n",
       "      <td>485015179</td>\n",
       "      <td>1999</td>\n",
       "    </tr>\n",
       "    <tr>\n",
       "      <th>194</th>\n",
       "      <td>Drama</td>\n",
       "      <td>Animation</td>\n",
       "      <td>Adventure</td>\n",
       "      <td>7.2</td>\n",
       "      <td>88</td>\n",
       "      <td>5</td>\n",
       "      <td>G</td>\n",
       "      <td>Walt Disney Pictures</td>\n",
       "      <td>Tarzan</td>\n",
       "      <td>448191819</td>\n",
       "      <td>1999</td>\n",
       "    </tr>\n",
       "    <tr>\n",
       "      <th>204</th>\n",
       "      <td>Comedy</td>\n",
       "      <td>Animation</td>\n",
       "      <td>Adventure</td>\n",
       "      <td>7.2</td>\n",
       "      <td>95</td>\n",
       "      <td>5</td>\n",
       "      <td>G</td>\n",
       "      <td>Walt Disney Pictures</td>\n",
       "      <td>A Bug's Life</td>\n",
       "      <td>363398565</td>\n",
       "      <td>1998</td>\n",
       "    </tr>\n",
       "    <tr>\n",
       "      <th>206</th>\n",
       "      <td>Family</td>\n",
       "      <td>Animation</td>\n",
       "      <td>Adventure</td>\n",
       "      <td>7.5</td>\n",
       "      <td>88</td>\n",
       "      <td>7</td>\n",
       "      <td>G</td>\n",
       "      <td>Walt Disney Pictures</td>\n",
       "      <td>Mulan</td>\n",
       "      <td>304320254</td>\n",
       "      <td>1998</td>\n",
       "    </tr>\n",
       "    <tr>\n",
       "      <th>224</th>\n",
       "      <td>Family</td>\n",
       "      <td>Drama</td>\n",
       "      <td>Animation</td>\n",
       "      <td>6.9</td>\n",
       "      <td>91</td>\n",
       "      <td>5</td>\n",
       "      <td>G</td>\n",
       "      <td>Walt Disney Pictures</td>\n",
       "      <td>The Hunchback of Notre Dame</td>\n",
       "      <td>325338851</td>\n",
       "      <td>1996</td>\n",
       "    </tr>\n",
       "    <tr>\n",
       "      <th>225</th>\n",
       "      <td>Family</td>\n",
       "      <td>Comedy</td>\n",
       "      <td>Adventure</td>\n",
       "      <td>5.6</td>\n",
       "      <td>103</td>\n",
       "      <td>6</td>\n",
       "      <td>G</td>\n",
       "      <td>Walt Disney Pictures</td>\n",
       "      <td>101 Dalmatians</td>\n",
       "      <td>320689294</td>\n",
       "      <td>1996</td>\n",
       "    </tr>\n",
       "    <tr>\n",
       "      <th>231</th>\n",
       "      <td>Comedy</td>\n",
       "      <td>Animation</td>\n",
       "      <td>Adventure</td>\n",
       "      <td>8.3</td>\n",
       "      <td>81</td>\n",
       "      <td>2</td>\n",
       "      <td>G</td>\n",
       "      <td>Walt Disney Pictures</td>\n",
       "      <td>Toy Story</td>\n",
       "      <td>361958736</td>\n",
       "      <td>1995</td>\n",
       "    </tr>\n",
       "    <tr>\n",
       "      <th>234</th>\n",
       "      <td>Drama</td>\n",
       "      <td>Animation</td>\n",
       "      <td>Adventure</td>\n",
       "      <td>6.6</td>\n",
       "      <td>81</td>\n",
       "      <td>5</td>\n",
       "      <td>G</td>\n",
       "      <td>Walt Disney Pictures</td>\n",
       "      <td>Pocahontas</td>\n",
       "      <td>346079773</td>\n",
       "      <td>1995</td>\n",
       "    </tr>\n",
       "    <tr>\n",
       "      <th>240</th>\n",
       "      <td>Drama</td>\n",
       "      <td>Animation</td>\n",
       "      <td>Adventure</td>\n",
       "      <td>8.5</td>\n",
       "      <td>89</td>\n",
       "      <td>1</td>\n",
       "      <td>G</td>\n",
       "      <td>Walt Disney Pictures</td>\n",
       "      <td>The Lion King</td>\n",
       "      <td>768625889</td>\n",
       "      <td>1994</td>\n",
       "    </tr>\n",
       "    <tr>\n",
       "      <th>260</th>\n",
       "      <td>Comedy</td>\n",
       "      <td>Animation</td>\n",
       "      <td>Adventure</td>\n",
       "      <td>8.0</td>\n",
       "      <td>90</td>\n",
       "      <td>1</td>\n",
       "      <td>G</td>\n",
       "      <td>Walt Disney Pictures</td>\n",
       "      <td>Aladdin</td>\n",
       "      <td>504050219</td>\n",
       "      <td>1992</td>\n",
       "    </tr>\n",
       "    <tr>\n",
       "      <th>272</th>\n",
       "      <td>Fantasy</td>\n",
       "      <td>Family</td>\n",
       "      <td>Animation</td>\n",
       "      <td>8.0</td>\n",
       "      <td>84</td>\n",
       "      <td>3</td>\n",
       "      <td>G</td>\n",
       "      <td>Walt Disney Pictures</td>\n",
       "      <td>Beauty and the Beast</td>\n",
       "      <td>351863363</td>\n",
       "      <td>1991</td>\n",
       "    </tr>\n",
       "    <tr>\n",
       "      <th>298</th>\n",
       "      <td>Fantasy</td>\n",
       "      <td>Family</td>\n",
       "      <td>Animation</td>\n",
       "      <td>7.6</td>\n",
       "      <td>83</td>\n",
       "      <td>9</td>\n",
       "      <td>G</td>\n",
       "      <td>Walt Disney Pictures</td>\n",
       "      <td>The Little Mermaid</td>\n",
       "      <td>184155863</td>\n",
       "      <td>1989</td>\n",
       "    </tr>\n",
       "    <tr>\n",
       "      <th>434</th>\n",
       "      <td>Family</td>\n",
       "      <td>Western</td>\n",
       "      <td>Comedy</td>\n",
       "      <td>6.2</td>\n",
       "      <td>100</td>\n",
       "      <td>8</td>\n",
       "      <td>G</td>\n",
       "      <td>Walt Disney Pictures</td>\n",
       "      <td>The Apple Dumpling Gang</td>\n",
       "      <td>36853000</td>\n",
       "      <td>1975</td>\n",
       "    </tr>\n",
       "  </tbody>\n",
       "</table>\n",
       "</div>"
      ],
      "text/plain": [
       "    Main_Genre    Genre_2    Genre_3  imdb_rating  length  rank_in_year  \\\n",
       "56      Comedy  Animation  Adventure          7.4     104             7   \n",
       "79      Comedy  Animation  Adventure          6.3     106            10   \n",
       "80      Comedy  Animation  Adventure          8.4     103             1   \n",
       "192     Comedy  Animation  Adventure          7.9      92             3   \n",
       "194      Drama  Animation  Adventure          7.2      88             5   \n",
       "204     Comedy  Animation  Adventure          7.2      95             5   \n",
       "206     Family  Animation  Adventure          7.5      88             7   \n",
       "224     Family      Drama  Animation          6.9      91             5   \n",
       "225     Family     Comedy  Adventure          5.6     103             6   \n",
       "231     Comedy  Animation  Adventure          8.3      81             2   \n",
       "234      Drama  Animation  Adventure          6.6      81             5   \n",
       "240      Drama  Animation  Adventure          8.5      89             1   \n",
       "260     Comedy  Animation  Adventure          8.0      90             1   \n",
       "272    Fantasy     Family  Animation          8.0      84             3   \n",
       "298    Fantasy     Family  Animation          7.6      83             9   \n",
       "434     Family    Western     Comedy          6.2     100             8   \n",
       "\n",
       "    rating                studio                        title  \\\n",
       "56       G  Walt Disney Pictures          Monsters University   \n",
       "79       G  Walt Disney Pictures                       Cars 2   \n",
       "80       G  Walt Disney Pictures                  Toy Story 3   \n",
       "192      G  Walt Disney Pictures                  Toy Story 2   \n",
       "194      G  Walt Disney Pictures                       Tarzan   \n",
       "204      G  Walt Disney Pictures                 A Bug's Life   \n",
       "206      G  Walt Disney Pictures                        Mulan   \n",
       "224      G  Walt Disney Pictures  The Hunchback of Notre Dame   \n",
       "225      G  Walt Disney Pictures               101 Dalmatians   \n",
       "231      G  Walt Disney Pictures                    Toy Story   \n",
       "234      G  Walt Disney Pictures                   Pocahontas   \n",
       "240      G  Walt Disney Pictures                The Lion King   \n",
       "260      G  Walt Disney Pictures                      Aladdin   \n",
       "272      G  Walt Disney Pictures         Beauty and the Beast   \n",
       "298      G  Walt Disney Pictures           The Little Mermaid   \n",
       "434      G  Walt Disney Pictures      The Apple Dumpling Gang   \n",
       "\n",
       "     worldwide_gross  year  \n",
       "56         743559607  2013  \n",
       "79         559852396  2011  \n",
       "80        1063171911  2010  \n",
       "192        485015179  1999  \n",
       "194        448191819  1999  \n",
       "204        363398565  1998  \n",
       "206        304320254  1998  \n",
       "224        325338851  1996  \n",
       "225        320689294  1996  \n",
       "231        361958736  1995  \n",
       "234        346079773  1995  \n",
       "240        768625889  1994  \n",
       "260        504050219  1992  \n",
       "272        351863363  1991  \n",
       "298        184155863  1989  \n",
       "434         36853000  1975  "
      ]
     },
     "execution_count": 62,
     "metadata": {},
     "output_type": "execute_result"
    }
   ],
   "source": [
    "blockbusters[(blockbusters['rating']=='G') & (blockbusters['studio']=='Walt Disney Pictures')]"
   ]
  },
  {
   "cell_type": "markdown",
   "metadata": {},
   "source": [
    "##### D. Plot a bar graph to show the total worldwide gross for year. (5 Marks)"
   ]
  },
  {
   "cell_type": "code",
   "execution_count": 67,
   "metadata": {},
   "outputs": [],
   "source": [
    "x=blockbusters[['year','worldwide_gross']].groupby('year').sum()\n",
    "y=blockbusters[['year','worldwide_gross']].groupby('year').sum()"
   ]
  },
  {
   "cell_type": "code",
   "execution_count": 68,
   "metadata": {},
   "outputs": [
    {
     "ename": "TypeError",
     "evalue": "float() argument must be a string or a real number, not 'NoneType'",
     "output_type": "error",
     "traceback": [
      "\u001b[1;31m---------------------------------------------------------------------------\u001b[0m",
      "\u001b[1;31mTypeError\u001b[0m                                 Traceback (most recent call last)",
      "Cell \u001b[1;32mIn[68], line 1\u001b[0m\n\u001b[1;32m----> 1\u001b[0m plt\u001b[38;5;241m.\u001b[39mbar(x, y, width\u001b[38;5;241m=\u001b[39m\u001b[38;5;241m0.8\u001b[39m)\n",
      "File \u001b[1;32m~\\anaconda3\\Lib\\site-packages\\matplotlib\\pyplot.py:2439\u001b[0m, in \u001b[0;36mbar\u001b[1;34m(x, height, width, bottom, align, data, **kwargs)\u001b[0m\n\u001b[0;32m   2435\u001b[0m \u001b[38;5;129m@_copy_docstring_and_deprecators\u001b[39m(Axes\u001b[38;5;241m.\u001b[39mbar)\n\u001b[0;32m   2436\u001b[0m \u001b[38;5;28;01mdef\u001b[39;00m \u001b[38;5;21mbar\u001b[39m(\n\u001b[0;32m   2437\u001b[0m         x, height, width\u001b[38;5;241m=\u001b[39m\u001b[38;5;241m0.8\u001b[39m, bottom\u001b[38;5;241m=\u001b[39m\u001b[38;5;28;01mNone\u001b[39;00m, \u001b[38;5;241m*\u001b[39m, align\u001b[38;5;241m=\u001b[39m\u001b[38;5;124m'\u001b[39m\u001b[38;5;124mcenter\u001b[39m\u001b[38;5;124m'\u001b[39m,\n\u001b[0;32m   2438\u001b[0m         data\u001b[38;5;241m=\u001b[39m\u001b[38;5;28;01mNone\u001b[39;00m, \u001b[38;5;241m*\u001b[39m\u001b[38;5;241m*\u001b[39mkwargs):\n\u001b[1;32m-> 2439\u001b[0m     \u001b[38;5;28;01mreturn\u001b[39;00m gca()\u001b[38;5;241m.\u001b[39mbar(\n\u001b[0;32m   2440\u001b[0m         x, height, width\u001b[38;5;241m=\u001b[39mwidth, bottom\u001b[38;5;241m=\u001b[39mbottom, align\u001b[38;5;241m=\u001b[39malign,\n\u001b[0;32m   2441\u001b[0m         \u001b[38;5;241m*\u001b[39m\u001b[38;5;241m*\u001b[39m({\u001b[38;5;124m\"\u001b[39m\u001b[38;5;124mdata\u001b[39m\u001b[38;5;124m\"\u001b[39m: data} \u001b[38;5;28;01mif\u001b[39;00m data \u001b[38;5;129;01mis\u001b[39;00m \u001b[38;5;129;01mnot\u001b[39;00m \u001b[38;5;28;01mNone\u001b[39;00m \u001b[38;5;28;01melse\u001b[39;00m {}), \u001b[38;5;241m*\u001b[39m\u001b[38;5;241m*\u001b[39mkwargs)\n",
      "File \u001b[1;32m~\\anaconda3\\Lib\\site-packages\\matplotlib\\__init__.py:1446\u001b[0m, in \u001b[0;36m_preprocess_data.<locals>.inner\u001b[1;34m(ax, data, *args, **kwargs)\u001b[0m\n\u001b[0;32m   1443\u001b[0m \u001b[38;5;129m@functools\u001b[39m\u001b[38;5;241m.\u001b[39mwraps(func)\n\u001b[0;32m   1444\u001b[0m \u001b[38;5;28;01mdef\u001b[39;00m \u001b[38;5;21minner\u001b[39m(ax, \u001b[38;5;241m*\u001b[39margs, data\u001b[38;5;241m=\u001b[39m\u001b[38;5;28;01mNone\u001b[39;00m, \u001b[38;5;241m*\u001b[39m\u001b[38;5;241m*\u001b[39mkwargs):\n\u001b[0;32m   1445\u001b[0m     \u001b[38;5;28;01mif\u001b[39;00m data \u001b[38;5;129;01mis\u001b[39;00m \u001b[38;5;28;01mNone\u001b[39;00m:\n\u001b[1;32m-> 1446\u001b[0m         \u001b[38;5;28;01mreturn\u001b[39;00m func(ax, \u001b[38;5;241m*\u001b[39m\u001b[38;5;28mmap\u001b[39m(sanitize_sequence, args), \u001b[38;5;241m*\u001b[39m\u001b[38;5;241m*\u001b[39mkwargs)\n\u001b[0;32m   1448\u001b[0m     bound \u001b[38;5;241m=\u001b[39m new_sig\u001b[38;5;241m.\u001b[39mbind(ax, \u001b[38;5;241m*\u001b[39margs, \u001b[38;5;241m*\u001b[39m\u001b[38;5;241m*\u001b[39mkwargs)\n\u001b[0;32m   1449\u001b[0m     auto_label \u001b[38;5;241m=\u001b[39m (bound\u001b[38;5;241m.\u001b[39marguments\u001b[38;5;241m.\u001b[39mget(label_namer)\n\u001b[0;32m   1450\u001b[0m                   \u001b[38;5;129;01mor\u001b[39;00m bound\u001b[38;5;241m.\u001b[39mkwargs\u001b[38;5;241m.\u001b[39mget(label_namer))\n",
      "File \u001b[1;32m~\\anaconda3\\Lib\\site-packages\\matplotlib\\axes\\_axes.py:2472\u001b[0m, in \u001b[0;36mAxes.bar\u001b[1;34m(self, x, height, width, bottom, align, **kwargs)\u001b[0m\n\u001b[0;32m   2469\u001b[0m args \u001b[38;5;241m=\u001b[39m \u001b[38;5;28mzip\u001b[39m(left, bottom, width, height, color, edgecolor, linewidth,\n\u001b[0;32m   2470\u001b[0m            hatch, patch_labels)\n\u001b[0;32m   2471\u001b[0m \u001b[38;5;28;01mfor\u001b[39;00m l, b, w, h, c, e, lw, htch, lbl \u001b[38;5;129;01min\u001b[39;00m args:\n\u001b[1;32m-> 2472\u001b[0m     r \u001b[38;5;241m=\u001b[39m mpatches\u001b[38;5;241m.\u001b[39mRectangle(\n\u001b[0;32m   2473\u001b[0m         xy\u001b[38;5;241m=\u001b[39m(l, b), width\u001b[38;5;241m=\u001b[39mw, height\u001b[38;5;241m=\u001b[39mh,\n\u001b[0;32m   2474\u001b[0m         facecolor\u001b[38;5;241m=\u001b[39mc,\n\u001b[0;32m   2475\u001b[0m         edgecolor\u001b[38;5;241m=\u001b[39me,\n\u001b[0;32m   2476\u001b[0m         linewidth\u001b[38;5;241m=\u001b[39mlw,\n\u001b[0;32m   2477\u001b[0m         label\u001b[38;5;241m=\u001b[39mlbl,\n\u001b[0;32m   2478\u001b[0m         hatch\u001b[38;5;241m=\u001b[39mhtch,\n\u001b[0;32m   2479\u001b[0m         )\n\u001b[0;32m   2480\u001b[0m     r\u001b[38;5;241m.\u001b[39m_internal_update(kwargs)\n\u001b[0;32m   2481\u001b[0m     r\u001b[38;5;241m.\u001b[39mget_path()\u001b[38;5;241m.\u001b[39m_interpolation_steps \u001b[38;5;241m=\u001b[39m \u001b[38;5;241m100\u001b[39m\n",
      "File \u001b[1;32m~\\anaconda3\\Lib\\site-packages\\matplotlib\\_api\\deprecation.py:454\u001b[0m, in \u001b[0;36mmake_keyword_only.<locals>.wrapper\u001b[1;34m(*args, **kwargs)\u001b[0m\n\u001b[0;32m    448\u001b[0m \u001b[38;5;28;01mif\u001b[39;00m \u001b[38;5;28mlen\u001b[39m(args) \u001b[38;5;241m>\u001b[39m name_idx:\n\u001b[0;32m    449\u001b[0m     warn_deprecated(\n\u001b[0;32m    450\u001b[0m         since, message\u001b[38;5;241m=\u001b[39m\u001b[38;5;124m\"\u001b[39m\u001b[38;5;124mPassing the \u001b[39m\u001b[38;5;132;01m%(name)s\u001b[39;00m\u001b[38;5;124m \u001b[39m\u001b[38;5;132;01m%(obj_type)s\u001b[39;00m\u001b[38;5;124m \u001b[39m\u001b[38;5;124m\"\u001b[39m\n\u001b[0;32m    451\u001b[0m         \u001b[38;5;124m\"\u001b[39m\u001b[38;5;124mpositionally is deprecated since Matplotlib \u001b[39m\u001b[38;5;132;01m%(since)s\u001b[39;00m\u001b[38;5;124m; the \u001b[39m\u001b[38;5;124m\"\u001b[39m\n\u001b[0;32m    452\u001b[0m         \u001b[38;5;124m\"\u001b[39m\u001b[38;5;124mparameter will become keyword-only \u001b[39m\u001b[38;5;132;01m%(removal)s\u001b[39;00m\u001b[38;5;124m.\u001b[39m\u001b[38;5;124m\"\u001b[39m,\n\u001b[0;32m    453\u001b[0m         name\u001b[38;5;241m=\u001b[39mname, obj_type\u001b[38;5;241m=\u001b[39m\u001b[38;5;124mf\u001b[39m\u001b[38;5;124m\"\u001b[39m\u001b[38;5;124mparameter of \u001b[39m\u001b[38;5;132;01m{\u001b[39;00mfunc\u001b[38;5;241m.\u001b[39m\u001b[38;5;18m__name__\u001b[39m\u001b[38;5;132;01m}\u001b[39;00m\u001b[38;5;124m()\u001b[39m\u001b[38;5;124m\"\u001b[39m)\n\u001b[1;32m--> 454\u001b[0m \u001b[38;5;28;01mreturn\u001b[39;00m func(\u001b[38;5;241m*\u001b[39margs, \u001b[38;5;241m*\u001b[39m\u001b[38;5;241m*\u001b[39mkwargs)\n",
      "File \u001b[1;32m~\\anaconda3\\Lib\\site-packages\\matplotlib\\patches.py:714\u001b[0m, in \u001b[0;36mRectangle.__init__\u001b[1;34m(self, xy, width, height, angle, rotation_point, **kwargs)\u001b[0m\n\u001b[0;32m    689\u001b[0m \u001b[38;5;129m@_docstring\u001b[39m\u001b[38;5;241m.\u001b[39mdedent_interpd\n\u001b[0;32m    690\u001b[0m \u001b[38;5;129m@_api\u001b[39m\u001b[38;5;241m.\u001b[39mmake_keyword_only(\u001b[38;5;124m\"\u001b[39m\u001b[38;5;124m3.6\u001b[39m\u001b[38;5;124m\"\u001b[39m, name\u001b[38;5;241m=\u001b[39m\u001b[38;5;124m\"\u001b[39m\u001b[38;5;124mangle\u001b[39m\u001b[38;5;124m\"\u001b[39m)\n\u001b[0;32m    691\u001b[0m \u001b[38;5;28;01mdef\u001b[39;00m \u001b[38;5;21m__init__\u001b[39m(\u001b[38;5;28mself\u001b[39m, xy, width, height, angle\u001b[38;5;241m=\u001b[39m\u001b[38;5;241m0.0\u001b[39m, \u001b[38;5;241m*\u001b[39m,\n\u001b[0;32m    692\u001b[0m              rotation_point\u001b[38;5;241m=\u001b[39m\u001b[38;5;124m'\u001b[39m\u001b[38;5;124mxy\u001b[39m\u001b[38;5;124m'\u001b[39m, \u001b[38;5;241m*\u001b[39m\u001b[38;5;241m*\u001b[39mkwargs):\n\u001b[0;32m    693\u001b[0m \u001b[38;5;250m    \u001b[39m\u001b[38;5;124;03m\"\"\"\u001b[39;00m\n\u001b[0;32m    694\u001b[0m \u001b[38;5;124;03m    Parameters\u001b[39;00m\n\u001b[0;32m    695\u001b[0m \u001b[38;5;124;03m    ----------\u001b[39;00m\n\u001b[1;32m   (...)\u001b[0m\n\u001b[0;32m    712\u001b[0m \u001b[38;5;124;03m        %(Patch:kwdoc)s\u001b[39;00m\n\u001b[0;32m    713\u001b[0m \u001b[38;5;124;03m    \"\"\"\u001b[39;00m\n\u001b[1;32m--> 714\u001b[0m     \u001b[38;5;28msuper\u001b[39m()\u001b[38;5;241m.\u001b[39m\u001b[38;5;21m__init__\u001b[39m(\u001b[38;5;241m*\u001b[39m\u001b[38;5;241m*\u001b[39mkwargs)\n\u001b[0;32m    715\u001b[0m     \u001b[38;5;28mself\u001b[39m\u001b[38;5;241m.\u001b[39m_x0 \u001b[38;5;241m=\u001b[39m xy[\u001b[38;5;241m0\u001b[39m]\n\u001b[0;32m    716\u001b[0m     \u001b[38;5;28mself\u001b[39m\u001b[38;5;241m.\u001b[39m_y0 \u001b[38;5;241m=\u001b[39m xy[\u001b[38;5;241m1\u001b[39m]\n",
      "File \u001b[1;32m~\\anaconda3\\Lib\\site-packages\\matplotlib\\_api\\deprecation.py:454\u001b[0m, in \u001b[0;36mmake_keyword_only.<locals>.wrapper\u001b[1;34m(*args, **kwargs)\u001b[0m\n\u001b[0;32m    448\u001b[0m \u001b[38;5;28;01mif\u001b[39;00m \u001b[38;5;28mlen\u001b[39m(args) \u001b[38;5;241m>\u001b[39m name_idx:\n\u001b[0;32m    449\u001b[0m     warn_deprecated(\n\u001b[0;32m    450\u001b[0m         since, message\u001b[38;5;241m=\u001b[39m\u001b[38;5;124m\"\u001b[39m\u001b[38;5;124mPassing the \u001b[39m\u001b[38;5;132;01m%(name)s\u001b[39;00m\u001b[38;5;124m \u001b[39m\u001b[38;5;132;01m%(obj_type)s\u001b[39;00m\u001b[38;5;124m \u001b[39m\u001b[38;5;124m\"\u001b[39m\n\u001b[0;32m    451\u001b[0m         \u001b[38;5;124m\"\u001b[39m\u001b[38;5;124mpositionally is deprecated since Matplotlib \u001b[39m\u001b[38;5;132;01m%(since)s\u001b[39;00m\u001b[38;5;124m; the \u001b[39m\u001b[38;5;124m\"\u001b[39m\n\u001b[0;32m    452\u001b[0m         \u001b[38;5;124m\"\u001b[39m\u001b[38;5;124mparameter will become keyword-only \u001b[39m\u001b[38;5;132;01m%(removal)s\u001b[39;00m\u001b[38;5;124m.\u001b[39m\u001b[38;5;124m\"\u001b[39m,\n\u001b[0;32m    453\u001b[0m         name\u001b[38;5;241m=\u001b[39mname, obj_type\u001b[38;5;241m=\u001b[39m\u001b[38;5;124mf\u001b[39m\u001b[38;5;124m\"\u001b[39m\u001b[38;5;124mparameter of \u001b[39m\u001b[38;5;132;01m{\u001b[39;00mfunc\u001b[38;5;241m.\u001b[39m\u001b[38;5;18m__name__\u001b[39m\u001b[38;5;132;01m}\u001b[39;00m\u001b[38;5;124m()\u001b[39m\u001b[38;5;124m\"\u001b[39m)\n\u001b[1;32m--> 454\u001b[0m \u001b[38;5;28;01mreturn\u001b[39;00m func(\u001b[38;5;241m*\u001b[39margs, \u001b[38;5;241m*\u001b[39m\u001b[38;5;241m*\u001b[39mkwargs)\n",
      "File \u001b[1;32m~\\anaconda3\\Lib\\site-packages\\matplotlib\\patches.py:93\u001b[0m, in \u001b[0;36mPatch.__init__\u001b[1;34m(self, edgecolor, facecolor, color, linewidth, linestyle, antialiased, hatch, fill, capstyle, joinstyle, **kwargs)\u001b[0m\n\u001b[0;32m     91\u001b[0m \u001b[38;5;28mself\u001b[39m\u001b[38;5;241m.\u001b[39mset_fill(fill)\n\u001b[0;32m     92\u001b[0m \u001b[38;5;28mself\u001b[39m\u001b[38;5;241m.\u001b[39mset_linestyle(linestyle)\n\u001b[1;32m---> 93\u001b[0m \u001b[38;5;28mself\u001b[39m\u001b[38;5;241m.\u001b[39mset_linewidth(linewidth)\n\u001b[0;32m     94\u001b[0m \u001b[38;5;28mself\u001b[39m\u001b[38;5;241m.\u001b[39mset_antialiased(antialiased)\n\u001b[0;32m     95\u001b[0m \u001b[38;5;28mself\u001b[39m\u001b[38;5;241m.\u001b[39mset_hatch(hatch)\n",
      "File \u001b[1;32m~\\anaconda3\\Lib\\site-packages\\matplotlib\\patches.py:394\u001b[0m, in \u001b[0;36mPatch.set_linewidth\u001b[1;34m(self, w)\u001b[0m\n\u001b[0;32m    392\u001b[0m \u001b[38;5;28;01mif\u001b[39;00m w \u001b[38;5;129;01mis\u001b[39;00m \u001b[38;5;28;01mNone\u001b[39;00m:\n\u001b[0;32m    393\u001b[0m     w \u001b[38;5;241m=\u001b[39m mpl\u001b[38;5;241m.\u001b[39mrcParams[\u001b[38;5;124m'\u001b[39m\u001b[38;5;124mpatch.linewidth\u001b[39m\u001b[38;5;124m'\u001b[39m]\n\u001b[1;32m--> 394\u001b[0m \u001b[38;5;28mself\u001b[39m\u001b[38;5;241m.\u001b[39m_linewidth \u001b[38;5;241m=\u001b[39m \u001b[38;5;28mfloat\u001b[39m(w)\n\u001b[0;32m    395\u001b[0m \u001b[38;5;28mself\u001b[39m\u001b[38;5;241m.\u001b[39m_dash_pattern \u001b[38;5;241m=\u001b[39m mlines\u001b[38;5;241m.\u001b[39m_scale_dashes(\n\u001b[0;32m    396\u001b[0m     \u001b[38;5;241m*\u001b[39m\u001b[38;5;28mself\u001b[39m\u001b[38;5;241m.\u001b[39m_unscaled_dash_pattern, w)\n\u001b[0;32m    397\u001b[0m \u001b[38;5;28mself\u001b[39m\u001b[38;5;241m.\u001b[39mstale \u001b[38;5;241m=\u001b[39m \u001b[38;5;28;01mTrue\u001b[39;00m\n",
      "\u001b[1;31mTypeError\u001b[0m: float() argument must be a string or a real number, not 'NoneType'"
     ]
    },
    {
     "data": {
      "image/png": "[encoded data removed]",
      "text/plain": [
       "<Figure size 640x480 with 1 Axes>"
      ]
     },
     "metadata": {},
     "output_type": "display_data"
    }
   ],
   "source": [
    "plt.bar(x, y, width=0.8)"
   ]
  },
  {
   "cell_type": "markdown",
   "metadata": {},
   "source": [
    "**** All The best ****"
   ]
  }
 ],
 "metadata": {
  "kernelspec": {
   "display_name": "Python 3 (ipykernel)",
   "language": "python",
   "name": "python3"
  },
  "language_info": {
   "codemirror_mode": {
    "name": "ipython",
    "version": 3
   },
   "file_extension": ".py",
   "mimetype": "text/x-python",
   "name": "python",
   "nbconvert_exporter": "python",
   "pygments_lexer": "ipython3",
   "version": "3.11.9"
  }
 },
 "nbformat": 4,
 "nbformat_minor": 4
}
