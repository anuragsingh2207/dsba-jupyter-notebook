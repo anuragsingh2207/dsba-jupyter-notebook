{
 "cells": [
  {
   "cell_type": "markdown",
   "metadata": {
    "colab_type": "text",
    "id": "RYzl6Uxso9NV"
   },
   "source": [
    "##  MBA Graded Assignment -2\n",
    "## Subject : Python\n",
    "## Marks: 10\n",
    "## Time : 1 Hour\n"
   ]
  },
  {
   "cell_type": "markdown",
   "metadata": {},
   "source": [
    "## Section A--Numpy   Total--(2 marks)"
   ]
  },
  {
   "cell_type": "code",
   "execution_count": 55,
   "metadata": {},
   "outputs": [],
   "source": [
    "%matplotlib inline\n",
    "import matplotlib.pyplot as plt\n",
    "import numpy as np\n",
    "import pandas as pd\n",
    "import math\n"
   ]
  },
  {
   "cell_type": "markdown",
   "metadata": {},
   "source": [
    "1.Create a null vector of size 7 and replace the fifth value with '1'"
   ]
  },
  {
   "cell_type": "code",
   "execution_count": 56,
   "metadata": {},
   "outputs": [
    {
     "name": "stdout",
     "output_type": "stream",
     "text": [
      "[0. 0. 0. 0. 0. 0. 0.]\n",
      "[0. 0. 0. 0. 1. 0. 0.]\n"
     ]
    }
   ],
   "source": [
    "#Null Vector of Size 7\n",
    "x=np.zeros(7)\n",
    "print(x)\n",
    "\n",
    "#Replaced the 5th Value with 1\n",
    "x[4]=1\n",
    "print(x)"
   ]
  },
  {
   "cell_type": "markdown",
   "metadata": {},
   "source": [
    "2.Create a random vector of size 100 and find the mean value."
   ]
  },
  {
   "cell_type": "code",
   "execution_count": 57,
   "metadata": {},
   "outputs": [
    {
     "name": "stdout",
     "output_type": "stream",
     "text": [
      "[0.71527287 0.90259237 0.44540129 0.97608585 0.80856889 0.30162842\n",
      " 0.83801406 0.87114708 0.13927673 0.38106904 0.55552889 0.30933618\n",
      " 0.69613982 0.81329452 0.1306063  0.63554651 0.65680869 0.06170578\n",
      " 0.31621245 0.09697235 0.22684726 0.63085587 0.64038977 0.86823766\n",
      " 0.01582544 0.787612   0.84161074 0.29799282 0.21443486 0.82001838\n",
      " 0.72081153 0.98725432 0.64746514 0.74235224 0.20928531 0.15770782\n",
      " 0.18179238 0.79699093 0.91435963 0.62695919 0.48596402 0.92533334\n",
      " 0.46196118 0.7267054  0.58579585 0.47615614 0.44771257 0.32647734\n",
      " 0.81155695 0.95527729 0.46917268 0.42206946 0.49329911 0.56281043\n",
      " 0.95711073 0.5314847  0.47010777 0.40606249 0.60180281 0.59356024\n",
      " 0.9827329  0.39815772 0.45837957 0.65246824 0.96613212 0.82222553\n",
      " 0.48696859 0.13268042 0.35278347 0.9333264  0.01266891 0.85854905\n",
      " 0.42722572 0.31793854 0.23015319 0.29932609 0.93021623 0.60928404\n",
      " 0.20788652 0.07004149 0.96200856 0.64569897 0.93133574 0.6138612\n",
      " 0.64879108 0.63487167 0.59690232 0.67588758 0.27307599 0.31379399\n",
      " 0.03600738 0.04179077 0.23976405 0.85498231 0.57839252 0.99898779\n",
      " 0.76235056 0.84194273 0.81393227 0.54303006]\n"
     ]
    }
   ],
   "source": [
    "#Random Vector of Size 100\n",
    "x=np.random.random(100)\n",
    "print(x)"
   ]
  },
  {
   "cell_type": "markdown",
   "metadata": {},
   "source": [
    "## Section B--Pandas Total--(8 marks)"
   ]
  },
  {
   "cell_type": "markdown",
   "metadata": {
    "colab_type": "text",
    "id": "g70gEUMU84VB"
   },
   "source": [
    "<span style=\"font-family: Arial; font-weight:bold;font-size:1.5em;color:#db0b49;\">1. Read the given Dataset UK_Flight_2018.\n",
    "\n",
    "A.\t Find the number of rows and columns present in it. (1 Marks)\n",
    "\n",
    "B.\tIdentify the airline names flying in the UK. (1 Marks)\n",
    "\n",
    "C.\tFind the list of flights that origin from Vietnam. (1 Marks)\n",
    "\n",
    "D.\tFind the number of airlines under each reporting airport.  (1 Marks)\n",
    "\n",
    "\n"
   ]
  },
  {
   "cell_type": "code",
   "execution_count": 11,
   "metadata": {},
   "outputs": [
    {
     "data": {
      "text/html": [
       "<div>\n",
       "<style scoped>\n",
       "    .dataframe tbody tr th:only-of-type {\n",
       "        vertical-align: middle;\n",
       "    }\n",
       "\n",
       "    .dataframe tbody tr th {\n",
       "        vertical-align: top;\n",
       "    }\n",
       "\n",
       "    .dataframe thead th {\n",
       "        text-align: right;\n",
       "    }\n",
       "</style>\n",
       "<table border=\"1\" class=\"dataframe\">\n",
       "  <thead>\n",
       "    <tr style=\"text-align: right;\">\n",
       "      <th></th>\n",
       "      <th>run_date</th>\n",
       "      <th>reporting_period</th>\n",
       "      <th>reporting_airport</th>\n",
       "      <th>origin_destination_country</th>\n",
       "      <th>origin_destination</th>\n",
       "      <th>airline_name</th>\n",
       "      <th>scheduled_charter</th>\n",
       "      <th>number_flights_matched</th>\n",
       "      <th>actual_flights_unmatched</th>\n",
       "      <th>number_flights_cancelled</th>\n",
       "      <th>...</th>\n",
       "      <th>flights_between_61_and_120_minutes_late_percent</th>\n",
       "      <th>flights_between_121_and_180_minutes_late_percent</th>\n",
       "      <th>flights_between_181_and_360_minutes_late_percent</th>\n",
       "      <th>flights_more_than_360_minutes_late_percent</th>\n",
       "      <th>flights_unmatched_percent</th>\n",
       "      <th>flights_cancelled_percent</th>\n",
       "      <th>average_delay_mins</th>\n",
       "      <th>previous_year_month_flights_matched</th>\n",
       "      <th>previous_year_month_early_to_15_mins_late_percent</th>\n",
       "      <th>previous_year_month_average_delay</th>\n",
       "    </tr>\n",
       "  </thead>\n",
       "  <tbody>\n",
       "    <tr>\n",
       "      <th>0</th>\n",
       "      <td>30-04-2018 13:48</td>\n",
       "      <td>201801</td>\n",
       "      <td>ABERDEEN</td>\n",
       "      <td>POLAND</td>\n",
       "      <td>GDANSK</td>\n",
       "      <td>WIZZ AIR</td>\n",
       "      <td>S</td>\n",
       "      <td>18</td>\n",
       "      <td>0</td>\n",
       "      <td>2</td>\n",
       "      <td>...</td>\n",
       "      <td>0.000000</td>\n",
       "      <td>5.000000</td>\n",
       "      <td>0.000000</td>\n",
       "      <td>0.0</td>\n",
       "      <td>0.0</td>\n",
       "      <td>10.000000</td>\n",
       "      <td>11.000000</td>\n",
       "      <td>19</td>\n",
       "      <td>63.157895</td>\n",
       "      <td>33.736842</td>\n",
       "    </tr>\n",
       "    <tr>\n",
       "      <th>1</th>\n",
       "      <td>30-04-2018 13:48</td>\n",
       "      <td>201801</td>\n",
       "      <td>ABERDEEN</td>\n",
       "      <td>POLAND</td>\n",
       "      <td>WARSAW (CHOPIN)</td>\n",
       "      <td>WIZZ AIR</td>\n",
       "      <td>S</td>\n",
       "      <td>12</td>\n",
       "      <td>0</td>\n",
       "      <td>0</td>\n",
       "      <td>...</td>\n",
       "      <td>8.333333</td>\n",
       "      <td>0.000000</td>\n",
       "      <td>0.000000</td>\n",
       "      <td>0.0</td>\n",
       "      <td>0.0</td>\n",
       "      <td>0.000000</td>\n",
       "      <td>21.583333</td>\n",
       "      <td>18</td>\n",
       "      <td>83.333333</td>\n",
       "      <td>7.055556</td>\n",
       "    </tr>\n",
       "    <tr>\n",
       "      <th>2</th>\n",
       "      <td>30-04-2018 13:48</td>\n",
       "      <td>201801</td>\n",
       "      <td>ABERDEEN</td>\n",
       "      <td>UNITED KINGDOM</td>\n",
       "      <td>BELFAST CITY (GEORGE BEST)</td>\n",
       "      <td>FLYBE LTD</td>\n",
       "      <td>S</td>\n",
       "      <td>60</td>\n",
       "      <td>0</td>\n",
       "      <td>2</td>\n",
       "      <td>...</td>\n",
       "      <td>1.612903</td>\n",
       "      <td>0.000000</td>\n",
       "      <td>0.000000</td>\n",
       "      <td>0.0</td>\n",
       "      <td>0.0</td>\n",
       "      <td>3.225806</td>\n",
       "      <td>5.683333</td>\n",
       "      <td>62</td>\n",
       "      <td>82.258065</td>\n",
       "      <td>12.161290</td>\n",
       "    </tr>\n",
       "    <tr>\n",
       "      <th>3</th>\n",
       "      <td>30-04-2018 13:48</td>\n",
       "      <td>201801</td>\n",
       "      <td>ABERDEEN</td>\n",
       "      <td>UNITED KINGDOM</td>\n",
       "      <td>BIRMINGHAM</td>\n",
       "      <td>FLYBE LTD</td>\n",
       "      <td>S</td>\n",
       "      <td>145</td>\n",
       "      <td>0</td>\n",
       "      <td>1</td>\n",
       "      <td>...</td>\n",
       "      <td>2.054795</td>\n",
       "      <td>0.000000</td>\n",
       "      <td>0.000000</td>\n",
       "      <td>0.0</td>\n",
       "      <td>0.0</td>\n",
       "      <td>0.684932</td>\n",
       "      <td>4.000000</td>\n",
       "      <td>176</td>\n",
       "      <td>81.818182</td>\n",
       "      <td>14.835227</td>\n",
       "    </tr>\n",
       "    <tr>\n",
       "      <th>4</th>\n",
       "      <td>30-04-2018 13:48</td>\n",
       "      <td>201801</td>\n",
       "      <td>ABERDEEN</td>\n",
       "      <td>UNITED KINGDOM</td>\n",
       "      <td>BRISTOL</td>\n",
       "      <td>BMI REGIONAL</td>\n",
       "      <td>S</td>\n",
       "      <td>57</td>\n",
       "      <td>0</td>\n",
       "      <td>2</td>\n",
       "      <td>...</td>\n",
       "      <td>11.864407</td>\n",
       "      <td>1.694915</td>\n",
       "      <td>1.694915</td>\n",
       "      <td>0.0</td>\n",
       "      <td>0.0</td>\n",
       "      <td>3.389831</td>\n",
       "      <td>23.403509</td>\n",
       "      <td>65</td>\n",
       "      <td>80.000000</td>\n",
       "      <td>22.384615</td>\n",
       "    </tr>\n",
       "  </tbody>\n",
       "</table>\n",
       "<p>5 rows × 25 columns</p>\n",
       "</div>"
      ],
      "text/plain": [
       "           run_date  reporting_period reporting_airport  \\\n",
       "0  30-04-2018 13:48            201801          ABERDEEN   \n",
       "1  30-04-2018 13:48            201801          ABERDEEN   \n",
       "2  30-04-2018 13:48            201801          ABERDEEN   \n",
       "3  30-04-2018 13:48            201801          ABERDEEN   \n",
       "4  30-04-2018 13:48            201801          ABERDEEN   \n",
       "\n",
       "  origin_destination_country          origin_destination  airline_name  \\\n",
       "0                     POLAND                      GDANSK      WIZZ AIR   \n",
       "1                     POLAND             WARSAW (CHOPIN)      WIZZ AIR   \n",
       "2             UNITED KINGDOM  BELFAST CITY (GEORGE BEST)     FLYBE LTD   \n",
       "3             UNITED KINGDOM                  BIRMINGHAM     FLYBE LTD   \n",
       "4             UNITED KINGDOM                     BRISTOL  BMI REGIONAL   \n",
       "\n",
       "  scheduled_charter  number_flights_matched  actual_flights_unmatched  \\\n",
       "0                 S                      18                         0   \n",
       "1                 S                      12                         0   \n",
       "2                 S                      60                         0   \n",
       "3                 S                     145                         0   \n",
       "4                 S                      57                         0   \n",
       "\n",
       "   number_flights_cancelled  ...  \\\n",
       "0                         2  ...   \n",
       "1                         0  ...   \n",
       "2                         2  ...   \n",
       "3                         1  ...   \n",
       "4                         2  ...   \n",
       "\n",
       "   flights_between_61_and_120_minutes_late_percent  \\\n",
       "0                                         0.000000   \n",
       "1                                         8.333333   \n",
       "2                                         1.612903   \n",
       "3                                         2.054795   \n",
       "4                                        11.864407   \n",
       "\n",
       "   flights_between_121_and_180_minutes_late_percent  \\\n",
       "0                                          5.000000   \n",
       "1                                          0.000000   \n",
       "2                                          0.000000   \n",
       "3                                          0.000000   \n",
       "4                                          1.694915   \n",
       "\n",
       "   flights_between_181_and_360_minutes_late_percent  \\\n",
       "0                                          0.000000   \n",
       "1                                          0.000000   \n",
       "2                                          0.000000   \n",
       "3                                          0.000000   \n",
       "4                                          1.694915   \n",
       "\n",
       "   flights_more_than_360_minutes_late_percent  flights_unmatched_percent  \\\n",
       "0                                         0.0                        0.0   \n",
       "1                                         0.0                        0.0   \n",
       "2                                         0.0                        0.0   \n",
       "3                                         0.0                        0.0   \n",
       "4                                         0.0                        0.0   \n",
       "\n",
       "   flights_cancelled_percent  average_delay_mins  \\\n",
       "0                  10.000000           11.000000   \n",
       "1                   0.000000           21.583333   \n",
       "2                   3.225806            5.683333   \n",
       "3                   0.684932            4.000000   \n",
       "4                   3.389831           23.403509   \n",
       "\n",
       "   previous_year_month_flights_matched  \\\n",
       "0                                   19   \n",
       "1                                   18   \n",
       "2                                   62   \n",
       "3                                  176   \n",
       "4                                   65   \n",
       "\n",
       "   previous_year_month_early_to_15_mins_late_percent  \\\n",
       "0                                          63.157895   \n",
       "1                                          83.333333   \n",
       "2                                          82.258065   \n",
       "3                                          81.818182   \n",
       "4                                          80.000000   \n",
       "\n",
       "   previous_year_month_average_delay  \n",
       "0                          33.736842  \n",
       "1                           7.055556  \n",
       "2                          12.161290  \n",
       "3                          14.835227  \n",
       "4                          22.384615  \n",
       "\n",
       "[5 rows x 25 columns]"
      ]
     },
     "execution_count": 11,
     "metadata": {},
     "output_type": "execute_result"
    }
   ],
   "source": [
    "#Import Dataset\n",
    "uk=pd.read_csv('UK_Flight_2018.csv')\n",
    "uk.head()"
   ]
  },
  {
   "cell_type": "markdown",
   "metadata": {
    "colab_type": "text",
    "id": "zpoC2aM084VC"
   },
   "source": [
    "#### A.  Find the number of rows and columns present in it. (1 Marks)"
   ]
  },
  {
   "cell_type": "code",
   "execution_count": 36,
   "metadata": {},
   "outputs": [
    {
     "name": "stdout",
     "output_type": "stream",
     "text": [
      "<class 'pandas.core.frame.DataFrame'>\n",
      "RangeIndex: 3208 entries, 0 to 3207\n",
      "Data columns (total 25 columns):\n",
      " #   Column                                              Non-Null Count  Dtype  \n",
      "---  ------                                              --------------  -----  \n",
      " 0   run_date                                            3208 non-null   object \n",
      " 1   reporting_period                                    3208 non-null   int64  \n",
      " 2   reporting_airport                                   3208 non-null   object \n",
      " 3   origin_destination_country                          3208 non-null   object \n",
      " 4   origin_destination                                  3208 non-null   object \n",
      " 5   airline_name                                        3208 non-null   object \n",
      " 6   scheduled_charter                                   3208 non-null   object \n",
      " 7   number_flights_matched                              3208 non-null   int64  \n",
      " 8   actual_flights_unmatched                            3208 non-null   int64  \n",
      " 9   number_flights_cancelled                            3208 non-null   int64  \n",
      " 10  flights_more_than_15_minutes_early_percent          3208 non-null   float64\n",
      " 11  flights_15_minutes_early_to_1_minute_early_percent  3208 non-null   float64\n",
      " 12  flights_0_to_15_minutes_late_percent                3208 non-null   float64\n",
      " 13  flights_between_16_and_30_minutes_late_percent      3208 non-null   float64\n",
      " 14  flights_between_31_and_60_minutes_late_percent      3208 non-null   float64\n",
      " 15  flights_between_61_and_120_minutes_late_percent     3208 non-null   float64\n",
      " 16  flights_between_121_and_180_minutes_late_percent    3208 non-null   float64\n",
      " 17  flights_between_181_and_360_minutes_late_percent    3208 non-null   float64\n",
      " 18  flights_more_than_360_minutes_late_percent          3208 non-null   float64\n",
      " 19  flights_unmatched_percent                           3208 non-null   float64\n",
      " 20  flights_cancelled_percent                           3208 non-null   float64\n",
      " 21  average_delay_mins                                  3208 non-null   float64\n",
      " 22  previous_year_month_flights_matched                 3208 non-null   int64  \n",
      " 23  previous_year_month_early_to_15_mins_late_percent   3208 non-null   float64\n",
      " 24  previous_year_month_average_delay                   3208 non-null   float64\n",
      "dtypes: float64(14), int64(5), object(6)\n",
      "memory usage: 626.7+ KB\n",
      "\n",
      "\n",
      "As per above output no. of rows 3208 and no. of columns 25\n"
     ]
    }
   ],
   "source": [
    "#Check Datset size (No. of rows and columns)\n",
    "uk.info()"
   ]
  },
  {
   "cell_type": "markdown",
   "metadata": {
    "colab_type": "text",
    "id": "FP5aW2sf84VZ"
   },
   "source": [
    "#### B. Identify the airline names flying in UK. (1 Marks)"
   ]
  },
  {
   "cell_type": "code",
   "execution_count": 52,
   "metadata": {},
   "outputs": [
    {
     "data": {
      "text/plain": [
       "array(['WIZZ AIR', 'FLYBE LTD', 'BMI REGIONAL', 'EASTERN AIRWAYS',\n",
       "       'LOGANAIR LTD', 'EASYJET AIRLINE COMPANY LTD',\n",
       "       'BRITISH AIRWAYS PLC', 'EASYJET SWITZERLAND', 'SAS', 'AIR FRANCE',\n",
       "       'LUFTHANSA', 'FLUGFELAG ISLANDS(AIR ICELAND)', 'AER LINGUS', 'KLM',\n",
       "       'KLM CITYHOPPER', 'WIDEROE FLYVESELSKAP A/S', 'RYANAIR',\n",
       "       'TUI AIRWAYS LTD', 'AIR HAMBURG', 'SAXONAIR CHARTER LTD',\n",
       "       'VANAIR EUROPE AS', 'AIR ALSIE', 'NETJETS TRANSPORTES AEREOS',\n",
       "       'BRUSSELS AIRLINES', 'TAG AVIATION (UK) LTD',\n",
       "       'THOMAS COOK AIRLINES LTD', 'JET2.COM LTD', 'VISTAJET LTD MALTA',\n",
       "       'UNITED AIRLINES', 'NORWEGIAN AIR INTERNATIONAL',\n",
       "       'GERMANIA FLUGGESELLSCHAFT', 'EUROPE AIRPOST',\n",
       "       'CSA CZECH AIRLINES', 'BLUE AIR TRANSPORT AERIAN', 'Unknown',\n",
       "       'TURKMENISTAN AIRLINES', 'AIR INDIA', 'PAKISTAN INTL AIRLINES',\n",
       "       'QATAR AIRWAYS', 'EMIRATES', 'ENTER AIR', 'MONARCH AIRLINES',\n",
       "       'EDELWEISS AIR', 'CELLO AVIATION LTD', 'AMERICAN AIRLINES',\n",
       "       'AUSTRIAN AIRLINES', 'EUROWINGS LUFTVERKEHRS', 'COBALT',\n",
       "       'TITAN AIRWAYS LTD', 'ADRIA AIRWAYS', 'VUELING AIRLINES',\n",
       "       'GERMANWINGS', 'AIRTANKER SERVICES LTD', 'SMALL PLANET AIRLINES',\n",
       "       'ICELANDAIR', 'STOBART AIR', 'CARPATAIR', 'CONDOR',\n",
       "       'IBERIA EXPRESS', 'CITY JET', 'SWISS AIRLINES',\n",
       "       'FREEBIRD AIRLINES', 'THY TURKISH AIRLINES', 'GAINJET AVIATION',\n",
       "       'MALETH AERO', 'JOTA AVIATION LTD', 'AURIGNY AIR SERVICES',\n",
       "       'AERO4M', 'WOW AIR', 'PAN EUROPEAN AIR SERVICE',\n",
       "       'THOMAS COOK BELGIUM', 'SIAVIA', 'GAMA AVIATION (UK) LTD',\n",
       "       'FAI FLIGHT- AMBULANCE SERVICE', 'ETIHAD AIRWAYS',\n",
       "       'BA CITYFLYER LTD', 'DELTA AIRLINES', 'NORWEGIAN AIR SHUTTLE',\n",
       "       'ATLANTIC AIRWAYS', 'FINNAIR', 'SMARTWINGS', 'TRANSAVIA FRANCE',\n",
       "       'AEGEAN AIRLINES', 'AIR TRANSAT', 'BLUE ISLANDS LIMITED',\n",
       "       'VOLOTEA', 'WEST JET AIRLINES', 'VIRGIN ATLANTIC AIRWAYS LTD',\n",
       "       'RWANDAIR EXPRESS', 'SILK WAY AIRLINES',\n",
       "       'BELAVIA (BELARUSSIAN AIRLINES)', 'ABS JET', 'GEORGIAN AIRWAYS',\n",
       "       'ALBA STAR', 'AIR BALTIC', 'AEROFLOT',\n",
       "       'UKRAINE INTERNATIONAL AIRLINES', 'TIANJIN AIRLINES',\n",
       "       'CATHAY PACIFIC AIRWAYS', 'NORWEGIAN AIR UK LTD', 'CHINA AIRLINES',\n",
       "       'IRAQI AIRWAYS', 'ROYAL AIR MAROC', 'AIR ARABIA MAROC',\n",
       "       'AIR X CHARTER', 'TUNISAIR', 'MED-VIEW AIRLINE', 'LUXAVIATION',\n",
       "       'GERMANIA FLUG', 'ALBA SERVIZI TRASPORTI', 'AIR MALTA',\n",
       "       'AIR PORTUGAL', 'AIR EUROPA', 'AIR NOSTRUM', 'DC AVIATION',\n",
       "       'PEGASUS AIRLINES', 'QANTAS', 'AIR NEW ZEALAND LTD', 'AIR CANADA',\n",
       "       'AEROMEXICO', 'ETHIOPIAN AIRLINES', 'KENYA AIRWAYS',\n",
       "       'AZERBAIJAN AIRLINES (AZAL)', 'BULGARIA AIR', 'AIR ASTANA',\n",
       "       'LOT-POLISH AIRLINES', 'TAROM', 'UZBEKISTAN AIRLINES',\n",
       "       'ROYAL BRUNEI AIRLINES', 'AIR CHINA', 'CHINA SOUTHERN',\n",
       "       'CHINA EASTERN AIRLINES', 'HAINAN AIRLINES', 'GARUDA INDONESIA',\n",
       "       'ALL NIPPON AIRWAYS', 'JAPAN AIRLINES',\n",
       "       'MALAYSIAN AIRLINES SYSTEM-MAS', 'PHILIPPINE AIRLINES',\n",
       "       'ASIANA AIRLINES', 'KOREAN AIR', 'SINGAPORE AIRLINES', 'EVA AIR',\n",
       "       'THAI AIRWAYS INTERNATIONAL', 'VIETNAM AIRLINES',\n",
       "       'AIR MAURITIUS LTD', 'BIMAN BANGLADESH AIRLINES', 'JET AIRWAYS',\n",
       "       'SRILANKAN AIRLINES', 'GULF AIR', 'IRAN AIR', 'KUWAIT AIRWAYS',\n",
       "       'OMAN AIR', 'SAUDI ARABIAN AIRLINES', 'EL AL', 'ROYAL JORDANIAN',\n",
       "       'MIDDLE EAST AIRLINES (AIR LIBAN S A L)', 'AIR ALGERIE',\n",
       "       'EGYPT AIR', 'TAM LINHAS AEREAS', 'AVIANCA COLOMBIA',\n",
       "       'SOUTH AFRICAN AIRWAYS', 'ATLAS AIR  INC', 'ARIK AIR',\n",
       "       'CROATIA AIRLINES', 'ALITALIA (CAI)', 'AIR SERBIA', 'IBERIA',\n",
       "       'SUN AIR OF SCANDINAVIA', 'TYROLEAN AIRWAYS', 'LUXAIR',\n",
       "       'SKY WORK AG', 'AVCON JET AG', 'COMLUX AVIATION (MALTA)',\n",
       "       'CROSSAIR EUROPE', 'IJM INTERNATIONAL JET MANAGEMENT GMBH',\n",
       "       'MHS AVIATION GMBH GRUENWALD', 'ARKIA', 'ISRAIR LTD',\n",
       "       'ITALI AIRLINES', 'KAISER AIR', 'SWISS AIR AMBULANCE',\n",
       "       'HOP - AIRLINAIR', 'FLYING SERVICE', 'ALBINATI AVIATION',\n",
       "       'MJET GMBH', 'EUROPEAN AIR TRANSPORT LEIPZIG (EAT)',\n",
       "       'EXECUTIVE AIRLINES', 'EXECUJET SCANDINAVIA',\n",
       "       'AIR MOLDOVA INTERNATIONAL', 'TRANSAVIA', 'TUIFLY  (GERMANY)',\n",
       "       'ATLASJET INTERNATIONAL', 'SHAHEEN AIR', 'THOMAS COOK SCANDANAVIA',\n",
       "       'AIR CONTRACTORS'], dtype=object)"
      ]
     },
     "execution_count": 52,
     "metadata": {},
     "output_type": "execute_result"
    }
   ],
   "source": [
    "#Airlines names flying in UK\n",
    "uk['airline_name'].unique()"
   ]
  },
  {
   "cell_type": "markdown",
   "metadata": {
    "colab_type": "text",
    "id": "vRnPwjAc84Vm"
   },
   "source": [
    "#### C. Find the list of flights that origin from vietnam. (1 Marks)"
   ]
  },
  {
   "cell_type": "code",
   "execution_count": 51,
   "metadata": {},
   "outputs": [
    {
     "data": {
      "text/html": [
       "<div>\n",
       "<style scoped>\n",
       "    .dataframe tbody tr th:only-of-type {\n",
       "        vertical-align: middle;\n",
       "    }\n",
       "\n",
       "    .dataframe tbody tr th {\n",
       "        vertical-align: top;\n",
       "    }\n",
       "\n",
       "    .dataframe thead th {\n",
       "        text-align: right;\n",
       "    }\n",
       "</style>\n",
       "<table border=\"1\" class=\"dataframe\">\n",
       "  <thead>\n",
       "    <tr style=\"text-align: right;\">\n",
       "      <th></th>\n",
       "      <th>run_date</th>\n",
       "      <th>reporting_period</th>\n",
       "      <th>reporting_airport</th>\n",
       "      <th>origin_destination_country</th>\n",
       "      <th>origin_destination</th>\n",
       "      <th>airline_name</th>\n",
       "      <th>scheduled_charter</th>\n",
       "      <th>number_flights_matched</th>\n",
       "      <th>actual_flights_unmatched</th>\n",
       "      <th>number_flights_cancelled</th>\n",
       "      <th>...</th>\n",
       "      <th>flights_between_61_and_120_minutes_late_percent</th>\n",
       "      <th>flights_between_121_and_180_minutes_late_percent</th>\n",
       "      <th>flights_between_181_and_360_minutes_late_percent</th>\n",
       "      <th>flights_more_than_360_minutes_late_percent</th>\n",
       "      <th>flights_unmatched_percent</th>\n",
       "      <th>flights_cancelled_percent</th>\n",
       "      <th>average_delay_mins</th>\n",
       "      <th>previous_year_month_flights_matched</th>\n",
       "      <th>previous_year_month_early_to_15_mins_late_percent</th>\n",
       "      <th>previous_year_month_average_delay</th>\n",
       "    </tr>\n",
       "  </thead>\n",
       "  <tbody>\n",
       "    <tr>\n",
       "      <th>1398</th>\n",
       "      <td>30-04-2018 13:48</td>\n",
       "      <td>201801</td>\n",
       "      <td>GATWICK</td>\n",
       "      <td>VIETNAM</td>\n",
       "      <td>PHU QUOC INTERNATIONAL</td>\n",
       "      <td>TUI AIRWAYS LTD</td>\n",
       "      <td>C</td>\n",
       "      <td>9</td>\n",
       "      <td>0</td>\n",
       "      <td>0</td>\n",
       "      <td>...</td>\n",
       "      <td>11.111111</td>\n",
       "      <td>0.0</td>\n",
       "      <td>0.0</td>\n",
       "      <td>0.0</td>\n",
       "      <td>0.0</td>\n",
       "      <td>0.0</td>\n",
       "      <td>25.888889</td>\n",
       "      <td>0</td>\n",
       "      <td>0.000000</td>\n",
       "      <td>0.000000</td>\n",
       "    </tr>\n",
       "    <tr>\n",
       "      <th>1858</th>\n",
       "      <td>30-04-2018 13:48</td>\n",
       "      <td>201801</td>\n",
       "      <td>HEATHROW</td>\n",
       "      <td>VIETNAM</td>\n",
       "      <td>HANOI</td>\n",
       "      <td>VIETNAM AIRLINES</td>\n",
       "      <td>S</td>\n",
       "      <td>34</td>\n",
       "      <td>0</td>\n",
       "      <td>0</td>\n",
       "      <td>...</td>\n",
       "      <td>0.000000</td>\n",
       "      <td>0.0</td>\n",
       "      <td>0.0</td>\n",
       "      <td>0.0</td>\n",
       "      <td>0.0</td>\n",
       "      <td>0.0</td>\n",
       "      <td>6.558824</td>\n",
       "      <td>36</td>\n",
       "      <td>63.888889</td>\n",
       "      <td>16.277778</td>\n",
       "    </tr>\n",
       "    <tr>\n",
       "      <th>1859</th>\n",
       "      <td>30-04-2018 13:48</td>\n",
       "      <td>201801</td>\n",
       "      <td>HEATHROW</td>\n",
       "      <td>VIETNAM</td>\n",
       "      <td>HO CHI MINH CITY</td>\n",
       "      <td>VIETNAM AIRLINES</td>\n",
       "      <td>S</td>\n",
       "      <td>28</td>\n",
       "      <td>0</td>\n",
       "      <td>0</td>\n",
       "      <td>...</td>\n",
       "      <td>3.571429</td>\n",
       "      <td>0.0</td>\n",
       "      <td>0.0</td>\n",
       "      <td>0.0</td>\n",
       "      <td>0.0</td>\n",
       "      <td>0.0</td>\n",
       "      <td>12.321429</td>\n",
       "      <td>26</td>\n",
       "      <td>76.923077</td>\n",
       "      <td>8.653846</td>\n",
       "    </tr>\n",
       "  </tbody>\n",
       "</table>\n",
       "<p>3 rows × 25 columns</p>\n",
       "</div>"
      ],
      "text/plain": [
       "              run_date  reporting_period reporting_airport  \\\n",
       "1398  30-04-2018 13:48            201801           GATWICK   \n",
       "1858  30-04-2018 13:48            201801          HEATHROW   \n",
       "1859  30-04-2018 13:48            201801          HEATHROW   \n",
       "\n",
       "     origin_destination_country      origin_destination      airline_name  \\\n",
       "1398                    VIETNAM  PHU QUOC INTERNATIONAL   TUI AIRWAYS LTD   \n",
       "1858                    VIETNAM                   HANOI  VIETNAM AIRLINES   \n",
       "1859                    VIETNAM        HO CHI MINH CITY  VIETNAM AIRLINES   \n",
       "\n",
       "     scheduled_charter  number_flights_matched  actual_flights_unmatched  \\\n",
       "1398                 C                       9                         0   \n",
       "1858                 S                      34                         0   \n",
       "1859                 S                      28                         0   \n",
       "\n",
       "      number_flights_cancelled  ...  \\\n",
       "1398                         0  ...   \n",
       "1858                         0  ...   \n",
       "1859                         0  ...   \n",
       "\n",
       "      flights_between_61_and_120_minutes_late_percent  \\\n",
       "1398                                        11.111111   \n",
       "1858                                         0.000000   \n",
       "1859                                         3.571429   \n",
       "\n",
       "      flights_between_121_and_180_minutes_late_percent  \\\n",
       "1398                                               0.0   \n",
       "1858                                               0.0   \n",
       "1859                                               0.0   \n",
       "\n",
       "      flights_between_181_and_360_minutes_late_percent  \\\n",
       "1398                                               0.0   \n",
       "1858                                               0.0   \n",
       "1859                                               0.0   \n",
       "\n",
       "      flights_more_than_360_minutes_late_percent  flights_unmatched_percent  \\\n",
       "1398                                         0.0                        0.0   \n",
       "1858                                         0.0                        0.0   \n",
       "1859                                         0.0                        0.0   \n",
       "\n",
       "      flights_cancelled_percent  average_delay_mins  \\\n",
       "1398                        0.0           25.888889   \n",
       "1858                        0.0            6.558824   \n",
       "1859                        0.0           12.321429   \n",
       "\n",
       "      previous_year_month_flights_matched  \\\n",
       "1398                                    0   \n",
       "1858                                   36   \n",
       "1859                                   26   \n",
       "\n",
       "      previous_year_month_early_to_15_mins_late_percent  \\\n",
       "1398                                           0.000000   \n",
       "1858                                          63.888889   \n",
       "1859                                          76.923077   \n",
       "\n",
       "      previous_year_month_average_delay  \n",
       "1398                           0.000000  \n",
       "1858                          16.277778  \n",
       "1859                           8.653846  \n",
       "\n",
       "[3 rows x 25 columns]"
      ]
     },
     "execution_count": 51,
     "metadata": {},
     "output_type": "execute_result"
    }
   ],
   "source": [
    "#List of Flights that origin from Vietnam\"\n",
    "uk[uk['origin_destination_country']=='VIETNAM']"
   ]
  },
  {
   "cell_type": "markdown",
   "metadata": {
    "colab_type": "text",
    "id": "qUUhTr8084Vu"
   },
   "source": [
    "#### D.Find the number of airlines under each reporting airport. (1 Marks)"
   ]
  },
  {
   "cell_type": "code",
   "execution_count": 54,
   "metadata": {},
   "outputs": [],
   "source": [
    "#Airlines per Airport\n",
    "airlines_per_airport = uk.groupby('reporting_airport')['airline_name'].nunique()"
   ]
  },
  {
   "cell_type": "markdown",
   "metadata": {
    "colab_type": "text",
    "id": "tT-O8cc584V0"
   },
   "source": [
    "<span style=\"font-family: Arial; font-weight:bold;font-size:1.5em;color:#db0b49;\">2.Continue with the UK_Flight_2018 for below A,B,C Questions.\n",
    "\n",
    "A.\tFind the total number of flights matched, unmatched and cancelled. (1 Marks)\n",
    "\n",
    "B.\tFor flights originating from the USA and find the average delay in minutes for every airline. (2 Marks)\n",
    "\n",
    "C. Count the categories in \"scheduled charter\" namely 'S' and 'C'.Plot horizontally using matplotlib and label and Title of chart should be used appropriately. (1 marks)\n",
    "    \n",
    "\n"
   ]
  },
  {
   "cell_type": "markdown",
   "metadata": {
    "colab_type": "text",
    "id": "X3c19YGg84V1"
   },
   "source": [
    "#### A. Find the total number of matched, unmatched and cancelled flights. (1 Marks)"
   ]
  },
  {
   "cell_type": "code",
   "execution_count": 29,
   "metadata": {},
   "outputs": [
    {
     "name": "stdout",
     "output_type": "stream",
     "text": [
      "Total no. of matched flights: 146462\n",
      "Total no. of matched flights: 31\n",
      "Total no. of matched flights: 1815\n"
     ]
    }
   ],
   "source": [
    "print(\"Total no. of matched flights:\", uk['number_flights_matched'].sum())\n",
    "print(\"Total no. of matched flights:\", uk['actual_flights_unmatched'].sum())\n",
    "print(\"Total no. of matched flights:\", uk['number_flights_cancelled'].sum())\n"
   ]
  },
  {
   "cell_type": "markdown",
   "metadata": {
    "colab_type": "text",
    "id": "EFHv3LMc84V3"
   },
   "source": [
    "#### B. Find the average delay in minutes for every airline considering all the flights that are originating from USA. (2 Marks)"
   ]
  },
  {
   "cell_type": "code",
   "execution_count": 39,
   "metadata": {},
   "outputs": [
    {
     "name": "stdout",
     "output_type": "stream",
     "text": [
      "Average delay in minutes for every airline having flights originating from USA:  88\n"
     ]
    }
   ],
   "source": [
    "avg_delay_mins = uk[uk['origin_destination_country']== 'USA']['average_delay_mins'].nunique()\n",
    "print(\"Average delay in minutes for every airline having flights originating from USA: \",avg_delay_mins)\n"
   ]
  },
  {
   "cell_type": "markdown",
   "metadata": {},
   "source": [
    "#### C. Count the categories in \"scheduled charter\" namely 'S' and 'C'.Plot horizontally using matplotlib and label and Title of chart should be used appropriately.(1 marks)"
   ]
  },
  {
   "cell_type": "code",
   "execution_count": 49,
   "metadata": {},
   "outputs": [
    {
     "data": {
      "image/png": "[encoded data removed]",
      "text/plain": [
       "<Figure size 640x480 with 1 Axes>"
      ]
     },
     "metadata": {},
     "output_type": "display_data"
    }
   ],
   "source": [
    "# Count the occurrences of 'S' and 'C'\n",
    "count_S = (uk['scheduled_charter'] == 'S').sum()\n",
    "count_C = (uk['scheduled_charter'] == 'C').sum()\n",
    "\n",
    "# Prepare data for plotting\n",
    "categories = ['S', 'C']\n",
    "counts = [count_S, count_C]\n",
    "\n",
    "\n",
    "# Plotting\n",
    "plt.barh(categories, counts, color=['blue', 'green'])\n",
    "\n",
    "# Labels and Title\n",
    "plt.xlabel('Count')\n",
    "plt.ylabel('Category')\n",
    "plt.title('Count of Categories in Scheduled Charter')\n",
    "plt.show()\n"
   ]
  },
  {
   "cell_type": "markdown",
   "metadata": {},
   "source": [
    "####                         *****   ALL THE BEST *****"
   ]
  }
 ],
 "metadata": {
  "kernelspec": {
   "display_name": "Python 3 (ipykernel)",
   "language": "python",
   "name": "python3"
  },
  "language_info": {
   "codemirror_mode": {
    "name": "ipython",
    "version": 3
   },
   "file_extension": ".py",
   "mimetype": "text/x-python",
   "name": "python",
   "nbconvert_exporter": "python",
   "pygments_lexer": "ipython3",
   "version": "3.11.9"
  }
 },
 "nbformat": 4,
 "nbformat_minor": 4
}
