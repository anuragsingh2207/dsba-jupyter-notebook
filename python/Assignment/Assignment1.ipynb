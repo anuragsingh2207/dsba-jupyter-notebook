{
 "cells": [
  {
   "cell_type": "markdown",
   "metadata": {},
   "source": [
    "#                 MBA Graded Assignment -1\n",
    "                          \n",
    "## Subject : Python\n",
    "## Marks: 10\n",
    "## Time : 1 Hour"
   ]
  },
  {
   "cell_type": "markdown",
   "metadata": {
    "colab_type": "text",
    "id": "qIQx7oj2amXX"
   },
   "source": [
    "### 1. Write a code to replace ‘hai’ into ‘hello’ in the given list.(2 marks)\n",
    "lis=['hai','world',43,56]"
   ]
  },
  {
   "cell_type": "code",
   "execution_count": 1,
   "metadata": {},
   "outputs": [],
   "source": [
    "lis=['hai','world',43,56]"
   ]
  },
  {
   "cell_type": "code",
   "execution_count": 2,
   "metadata": {},
   "outputs": [
    {
     "name": "stdout",
     "output_type": "stream",
     "text": [
      "['hello', 'world', 43, 56]\n"
     ]
    }
   ],
   "source": [
    "lis[0]='hello'\n",
    "print(lis)"
   ]
  },
  {
   "cell_type": "markdown",
   "metadata": {},
   "source": [
    "### 2.Write a Python Program to swap the first and last elements in the list.(3 marks)\n",
    "1.\tGet the input count of \"number of elements in a list\" \n",
    "2.\tGet the input of the elements one by one and create a list\n",
    "3.\tCreate a  program to swap the first and last elements in the list\n",
    "4.\tDisplay the results of the list before and after\n"
   ]
  },
  {
   "cell_type": "code",
   "execution_count": 7,
   "metadata": {
    "colab": {},
    "colab_type": "code",
    "id": "b0k27TOnamYN",
    "outputId": "a8e053b5-921a-4242-dc33-781dac458cf2"
   },
   "outputs": [
    {
     "name": "stdout",
     "output_type": "stream",
     "text": [
      "Enter number of input elements in a list :5\n",
      "Enter elements: 1\n",
      "Enter elements: hi\n",
      "Enter elements: 2\n",
      "Enter elements: 33\n",
      "Enter elements: 14.5\n",
      "['1', 'hi', '2', '33', '14.5']\n",
      "List before swapping first and last elements: ['1', 'hi', '2', '33', '14.5']\n",
      "List after swapping first and last elements: ['14.5', 'hi', '2', '33', '1']\n"
     ]
    }
   ],
   "source": [
    "#1.Get the input count of \"number of elements in a list\"\n",
    "n=int(input(\"Enter number of input elements in a list :\"))\n",
    "\n",
    "#2.Get the input of the elements one by one and create a list\n",
    "l=[]\n",
    "\n",
    "for i in range(0,n):\n",
    "    x=input(\"Enter elements: \")\n",
    "    l.append(x)\n",
    "print(l)\n",
    "\n",
    "#3.Create a program to swap the first and last elements in the list\n",
    "#and \n",
    "#4.Display the results of the list before and after\n",
    "print(\"List before swapping first and last elements:\",l)\n",
    "temp=l[0]\n",
    "l[0]=l[-1]\n",
    "l[-1]=temp\n",
    "print(\"List after swapping first and last elements:\",l)"
   ]
  },
  {
   "cell_type": "markdown",
   "metadata": {},
   "source": [
    "### 3. A superstore has multiple items to sell. **(5 Marks)**\n",
    "These items are categorised as category A and category B. For a festival time, the superstore decided to declare some discount, as given below. For category A items, it charges Rs.15 per item if you buy less than 30 quantities of an item. If you buy between 30 and 99 quantity of an item, the cost is Rs.12 per item. If the buying quantity is 100 or more for an item, the cost is Rs.10 per item.\n",
    "\n",
    "For category B items, it charges Rs.30 per item if you buy less than 50 quantity of an item. If you buy between 50 and 99 quantity of an item, the cost is Rs.25 per item. If the buying quantity is 100 or more for an item, the cost is Rs.20 per item. Further, it also gives a discount of 5% if the total bill exceeds 1000 and 10% if the bill exceeds 1500.\n",
    "\n",
    "Write a program that repeatedly asks the user to enter no of items and their category. If the user enters 'STOP' it shows the user has done with the purchase, now calculate the total payable amount, and display it to the user \n",
    "\n",
    "Sample Input/Output:\n",
    "\n",
    "Enter no of items and its category: 23,A\n",
    "\n",
    "Enter no of items and its category: 56, b\n",
    "\n",
    "Enter no of items and its category: 67,b\n",
    "\n",
    "Enter no of items and its category: 110,a\n",
    "\n",
    "Enter no of items and its category: STOP\n",
    "\n",
    "Total amount payable is : 2808.0"
   ]
  },
  {
   "cell_type": "code",
   "execution_count": 9,
   "metadata": {},
   "outputs": [
    {
     "name": "stdout",
     "output_type": "stream",
     "text": [
      "Enter no of items and its category: 23,A\n",
      "Enter no of items and its category: 56,b\n",
      "Enter no of items and its category: 67,b\n",
      "Enter no of items and its category: 110,a\n",
      "Enter no of items and its category: STOP\n",
      "Total amount payable is: 4068.0\n"
     ]
    }
   ],
   "source": [
    "total=0\n",
    "while True:\n",
    "    user_input=input(\"Enter no of items and its category: \")\n",
    "    if user_input!=\"STOP\":\n",
    "        qty,category=user_input.split(',')\n",
    "        qty=int(qty)\n",
    "        if category=='A' or category=='a':\n",
    "            if qty>0 and qty<30:\n",
    "                total=total+(15*qty)\n",
    "            elif qty>=30 and qty<=99:\n",
    "                total=total+(12*qty)\n",
    "            elif qty>100:\n",
    "                total=total+(10*qty)\n",
    "        elif category=='B' or category=='b':\n",
    "            if qty>0 and qty<50:\n",
    "                total=total+(30*qty)\n",
    "            elif qty>=50 and qty<=99:\n",
    "                total=total+(25*qty)\n",
    "            elif qty>100:\n",
    "                total=total+(20*qty)\n",
    "    elif user_input==\"STOP\":\n",
    "        if total>1500:\n",
    "            total=total-(total*0.10)\n",
    "            print(\"Total amount payable is:\", total)\n",
    "        elif total>1000:\n",
    "            total=total-(total*0.05)\n",
    "            print(\"Total amount payable is:\", total)\n",
    "        else:\n",
    "            print(\"Total amount payable is:\", total)\n",
    "        break\n",
    "    else:\n",
    "        print(\"Invalid Input\")\n",
    "        break"
   ]
  },
  {
   "cell_type": "code",
   "execution_count": null,
   "metadata": {},
   "outputs": [],
   "source": []
  }
 ],
 "metadata": {
  "colab": {
   "name": "ITP Assessment_Solutions.ipynb",
   "provenance": []
  },
  "kernelspec": {
   "display_name": "Python 3 (ipykernel)",
   "language": "python",
   "name": "python3"
  },
  "language_info": {
   "codemirror_mode": {
    "name": "ipython",
    "version": 3
   },
   "file_extension": ".py",
   "mimetype": "text/x-python",
   "name": "python",
   "nbconvert_exporter": "python",
   "pygments_lexer": "ipython3",
   "version": "3.11.9"
  }
 },
 "nbformat": 4,
 "nbformat_minor": 1
}
