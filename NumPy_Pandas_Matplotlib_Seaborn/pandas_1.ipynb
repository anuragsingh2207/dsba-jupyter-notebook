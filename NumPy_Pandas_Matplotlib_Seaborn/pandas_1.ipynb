{
 "cells": [
  {
   "cell_type": "code",
   "execution_count": 1,
   "metadata": {},
   "outputs": [],
   "source": [
    "import numpy as np\n",
    "import pandas as pd\n",
    "import matplotlib.pyplot as plt\n",
    "%matplotlib inline\n",
    "import seaborn as sns\n",
    "from warnings import filterwarnings\n",
    "filterwarnings(\"ignore\")\n"
   ]
  },
  {
   "cell_type": "code",
   "execution_count": 2,
   "metadata": {},
   "outputs": [
    {
     "data": {
      "text/html": [
       "<div>\n",
       "<style scoped>\n",
       "    .dataframe tbody tr th:only-of-type {\n",
       "        vertical-align: middle;\n",
       "    }\n",
       "\n",
       "    .dataframe tbody tr th {\n",
       "        vertical-align: top;\n",
       "    }\n",
       "\n",
       "    .dataframe thead th {\n",
       "        text-align: right;\n",
       "    }\n",
       "</style>\n",
       "<table border=\"1\" class=\"dataframe\">\n",
       "  <thead>\n",
       "    <tr style=\"text-align: right;\">\n",
       "      <th></th>\n",
       "      <th>Unnamed: 0</th>\n",
       "      <th>RunsScored</th>\n",
       "      <th>x -xbar</th>\n",
       "      <th>(x-xbar)^2</th>\n",
       "      <th>z score</th>\n",
       "      <th>Unnamed: 5</th>\n",
       "      <th>Unnamed: 6</th>\n",
       "      <th>Unnamed: 7</th>\n",
       "      <th>Unnamed: 8</th>\n",
       "      <th>Unnamed: 9</th>\n",
       "      <th>BallsFaced</th>\n",
       "      <th>BattingPosition</th>\n",
       "      <th>Dismissal</th>\n",
       "      <th>Inning</th>\n",
       "      <th>Opposition</th>\n",
       "      <th>Year</th>\n",
       "    </tr>\n",
       "  </thead>\n",
       "  <tbody>\n",
       "    <tr>\n",
       "      <th>0</th>\n",
       "      <td>NaN</td>\n",
       "      <td>0.0</td>\n",
       "      <td>-38.25</td>\n",
       "      <td>1463.0625</td>\n",
       "      <td>-0.204504</td>\n",
       "      <td>NaN</td>\n",
       "      <td>NaN</td>\n",
       "      <td>NaN</td>\n",
       "      <td>NaN</td>\n",
       "      <td>NaN</td>\n",
       "      <td>24.0</td>\n",
       "      <td>4.0</td>\n",
       "      <td>Caught</td>\n",
       "      <td>2.0</td>\n",
       "      <td>Pakistan</td>\n",
       "      <td>2009.0</td>\n",
       "    </tr>\n",
       "    <tr>\n",
       "      <th>1</th>\n",
       "      <td>NaN</td>\n",
       "      <td>5.0</td>\n",
       "      <td>-33.25</td>\n",
       "      <td>1105.5625</td>\n",
       "      <td>-0.177771</td>\n",
       "      <td>NaN</td>\n",
       "      <td>NaN</td>\n",
       "      <td>NaN</td>\n",
       "      <td>NaN</td>\n",
       "      <td>NaN</td>\n",
       "      <td>27.0</td>\n",
       "      <td>3.0</td>\n",
       "      <td>Bowled</td>\n",
       "      <td>2.0</td>\n",
       "      <td>Pakistan</td>\n",
       "      <td>2010.0</td>\n",
       "    </tr>\n",
       "    <tr>\n",
       "      <th>2</th>\n",
       "      <td>NaN</td>\n",
       "      <td>5.0</td>\n",
       "      <td>-33.25</td>\n",
       "      <td>1105.5625</td>\n",
       "      <td>-0.177771</td>\n",
       "      <td>NaN</td>\n",
       "      <td>NaN</td>\n",
       "      <td>NaN</td>\n",
       "      <td>NaN</td>\n",
       "      <td>NaN</td>\n",
       "      <td>21.0</td>\n",
       "      <td>4.0</td>\n",
       "      <td>Caught</td>\n",
       "      <td>1.0</td>\n",
       "      <td>Pakistan</td>\n",
       "      <td>2011.0</td>\n",
       "    </tr>\n",
       "    <tr>\n",
       "      <th>3</th>\n",
       "      <td>NaN</td>\n",
       "      <td>6.0</td>\n",
       "      <td>-32.25</td>\n",
       "      <td>1040.0625</td>\n",
       "      <td>-0.172425</td>\n",
       "      <td>NaN</td>\n",
       "      <td>NaN</td>\n",
       "      <td>NaN</td>\n",
       "      <td>NaN</td>\n",
       "      <td>NaN</td>\n",
       "      <td>148.0</td>\n",
       "      <td>3.0</td>\n",
       "      <td>Caught</td>\n",
       "      <td>2.0</td>\n",
       "      <td>Pakistan</td>\n",
       "      <td>2012.0</td>\n",
       "    </tr>\n",
       "    <tr>\n",
       "      <th>4</th>\n",
       "      <td>NaN</td>\n",
       "      <td>7.0</td>\n",
       "      <td>-31.25</td>\n",
       "      <td>976.5625</td>\n",
       "      <td>-0.167078</td>\n",
       "      <td>NaN</td>\n",
       "      <td>NaN</td>\n",
       "      <td>NaN</td>\n",
       "      <td>NaN</td>\n",
       "      <td>NaN</td>\n",
       "      <td>5.0</td>\n",
       "      <td>3.0</td>\n",
       "      <td>Bowled</td>\n",
       "      <td>1.0</td>\n",
       "      <td>Pakistan</td>\n",
       "      <td>2012.0</td>\n",
       "    </tr>\n",
       "  </tbody>\n",
       "</table>\n",
       "</div>"
      ],
      "text/plain": [
       "  Unnamed: 0  RunsScored  x -xbar  (x-xbar)^2  z score   Unnamed: 5  \\\n",
       "0        NaN         0.0   -38.25   1463.0625 -0.204504         NaN   \n",
       "1        NaN         5.0   -33.25   1105.5625 -0.177771         NaN   \n",
       "2        NaN         5.0   -33.25   1105.5625 -0.177771         NaN   \n",
       "3        NaN         6.0   -32.25   1040.0625 -0.172425         NaN   \n",
       "4        NaN         7.0   -31.25    976.5625 -0.167078         NaN   \n",
       "\n",
       "   Unnamed: 6  Unnamed: 7  Unnamed: 8  Unnamed: 9  BallsFaced  \\\n",
       "0         NaN         NaN         NaN         NaN        24.0   \n",
       "1         NaN         NaN         NaN         NaN        27.0   \n",
       "2         NaN         NaN         NaN         NaN        21.0   \n",
       "3         NaN         NaN         NaN         NaN       148.0   \n",
       "4         NaN         NaN         NaN         NaN         5.0   \n",
       "\n",
       "   BattingPosition Dismissal  Inning Opposition    Year  \n",
       "0              4.0    Caught     2.0   Pakistan  2009.0  \n",
       "1              3.0    Bowled     2.0   Pakistan  2010.0  \n",
       "2              4.0    Caught     1.0   Pakistan  2011.0  \n",
       "3              3.0    Caught     2.0   Pakistan  2012.0  \n",
       "4              3.0    Bowled     1.0   Pakistan  2012.0  "
      ]
     },
     "execution_count": 2,
     "metadata": {},
     "output_type": "execute_result"
    }
   ],
   "source": [
    "mydata = pd.read_csv('./Dataset/Batsman.csv')\n",
    "\n",
    "mydata.head()"
   ]
  },
  {
   "cell_type": "code",
   "execution_count": 3,
   "metadata": {},
   "outputs": [
    {
     "data": {
      "text/plain": [
       "(16, 16)"
      ]
     },
     "execution_count": 3,
     "metadata": {},
     "output_type": "execute_result"
    }
   ],
   "source": [
    "mydata.shape"
   ]
  },
  {
   "cell_type": "code",
   "execution_count": 4,
   "metadata": {},
   "outputs": [
    {
     "name": "stdout",
     "output_type": "stream",
     "text": [
      "<class 'pandas.core.frame.DataFrame'>\n",
      "RangeIndex: 16 entries, 0 to 15\n",
      "Data columns (total 16 columns):\n",
      " #   Column           Non-Null Count  Dtype  \n",
      "---  ------           --------------  -----  \n",
      " 0   Unnamed: 0       3 non-null      object \n",
      " 1   RunsScored       14 non-null     float64\n",
      " 2   x -xbar          12 non-null     float64\n",
      " 3   (x-xbar)^2       13 non-null     float64\n",
      " 4   z score          12 non-null     float64\n",
      " 5   Unnamed: 5       0 non-null      float64\n",
      " 6   Unnamed: 6       0 non-null      float64\n",
      " 7   Unnamed: 7       0 non-null      float64\n",
      " 8   Unnamed: 8       0 non-null      float64\n",
      " 9   Unnamed: 9       0 non-null      float64\n",
      " 10  BallsFaced       12 non-null     float64\n",
      " 11  BattingPosition  12 non-null     float64\n",
      " 12  Dismissal        12 non-null     object \n",
      " 13  Inning           12 non-null     float64\n",
      " 14  Opposition       12 non-null     object \n",
      " 15  Year             12 non-null     float64\n",
      "dtypes: float64(13), object(3)\n",
      "memory usage: 2.1+ KB\n"
     ]
    }
   ],
   "source": [
    "mydata.info()"
   ]
  },
  {
   "cell_type": "markdown",
   "metadata": {},
   "source": [
    "```\n",
    "variables \n",
    "    1> Numercal - int\n",
    "    2> Categorical - object\n",
    "\n",
    "non-null => python's way to identify missing values   \n",
    "``` "
   ]
  },
  {
   "cell_type": "code",
   "execution_count": 5,
   "metadata": {},
   "outputs": [
    {
     "data": {
      "text/html": [
       "<div>\n",
       "<style scoped>\n",
       "    .dataframe tbody tr th:only-of-type {\n",
       "        vertical-align: middle;\n",
       "    }\n",
       "\n",
       "    .dataframe tbody tr th {\n",
       "        vertical-align: top;\n",
       "    }\n",
       "\n",
       "    .dataframe thead th {\n",
       "        text-align: right;\n",
       "    }\n",
       "</style>\n",
       "<table border=\"1\" class=\"dataframe\">\n",
       "  <thead>\n",
       "    <tr style=\"text-align: right;\">\n",
       "      <th></th>\n",
       "      <th>RunsScored</th>\n",
       "      <th>x -xbar</th>\n",
       "      <th>(x-xbar)^2</th>\n",
       "      <th>z score</th>\n",
       "      <th>Unnamed: 5</th>\n",
       "      <th>Unnamed: 6</th>\n",
       "      <th>Unnamed: 7</th>\n",
       "      <th>Unnamed: 8</th>\n",
       "      <th>Unnamed: 9</th>\n",
       "      <th>BallsFaced</th>\n",
       "      <th>BattingPosition</th>\n",
       "      <th>Inning</th>\n",
       "      <th>Year</th>\n",
       "    </tr>\n",
       "  </thead>\n",
       "  <tbody>\n",
       "    <tr>\n",
       "      <th>count</th>\n",
       "      <td>14.000000</td>\n",
       "      <td>12.000000</td>\n",
       "      <td>13.000000</td>\n",
       "      <td>12.000000</td>\n",
       "      <td>0.0</td>\n",
       "      <td>0.0</td>\n",
       "      <td>0.0</td>\n",
       "      <td>0.0</td>\n",
       "      <td>0.0</td>\n",
       "      <td>12.000000</td>\n",
       "      <td>12.000000</td>\n",
       "      <td>12.000000</td>\n",
       "      <td>12.000000</td>\n",
       "    </tr>\n",
       "    <tr>\n",
       "      <th>mean</th>\n",
       "      <td>48.877709</td>\n",
       "      <td>3.187500</td>\n",
       "      <td>5382.028846</td>\n",
       "      <td>0.017042</td>\n",
       "      <td>NaN</td>\n",
       "      <td>NaN</td>\n",
       "      <td>NaN</td>\n",
       "      <td>NaN</td>\n",
       "      <td>NaN</td>\n",
       "      <td>41.000000</td>\n",
       "      <td>3.166667</td>\n",
       "      <td>1.500000</td>\n",
       "      <td>2013.000000</td>\n",
       "    </tr>\n",
       "    <tr>\n",
       "      <th>std</th>\n",
       "      <td>65.503273</td>\n",
       "      <td>56.295701</td>\n",
       "      <td>10486.533065</td>\n",
       "      <td>0.300985</td>\n",
       "      <td>NaN</td>\n",
       "      <td>NaN</td>\n",
       "      <td>NaN</td>\n",
       "      <td>NaN</td>\n",
       "      <td>NaN</td>\n",
       "      <td>47.962106</td>\n",
       "      <td>0.389249</td>\n",
       "      <td>0.522233</td>\n",
       "      <td>2.486326</td>\n",
       "    </tr>\n",
       "    <tr>\n",
       "      <th>min</th>\n",
       "      <td>0.000000</td>\n",
       "      <td>-38.250000</td>\n",
       "      <td>256.000000</td>\n",
       "      <td>-0.204504</td>\n",
       "      <td>NaN</td>\n",
       "      <td>NaN</td>\n",
       "      <td>NaN</td>\n",
       "      <td>NaN</td>\n",
       "      <td>NaN</td>\n",
       "      <td>5.000000</td>\n",
       "      <td>3.000000</td>\n",
       "      <td>1.000000</td>\n",
       "      <td>2009.000000</td>\n",
       "    </tr>\n",
       "    <tr>\n",
       "      <th>25%</th>\n",
       "      <td>6.250000</td>\n",
       "      <td>-32.500000</td>\n",
       "      <td>855.562500</td>\n",
       "      <td>-0.173762</td>\n",
       "      <td>NaN</td>\n",
       "      <td>NaN</td>\n",
       "      <td>NaN</td>\n",
       "      <td>NaN</td>\n",
       "      <td>NaN</td>\n",
       "      <td>10.500000</td>\n",
       "      <td>3.000000</td>\n",
       "      <td>1.000000</td>\n",
       "      <td>2011.750000</td>\n",
       "    </tr>\n",
       "    <tr>\n",
       "      <th>50%</th>\n",
       "      <td>17.000000</td>\n",
       "      <td>-24.750000</td>\n",
       "      <td>1105.562500</td>\n",
       "      <td>-0.132326</td>\n",
       "      <td>NaN</td>\n",
       "      <td>NaN</td>\n",
       "      <td>NaN</td>\n",
       "      <td>NaN</td>\n",
       "      <td>NaN</td>\n",
       "      <td>22.500000</td>\n",
       "      <td>3.000000</td>\n",
       "      <td>1.500000</td>\n",
       "      <td>2013.000000</td>\n",
       "    </tr>\n",
       "    <tr>\n",
       "      <th>75%</th>\n",
       "      <td>70.312500</td>\n",
       "      <td>22.687500</td>\n",
       "      <td>1827.562500</td>\n",
       "      <td>0.121299</td>\n",
       "      <td>NaN</td>\n",
       "      <td>NaN</td>\n",
       "      <td>NaN</td>\n",
       "      <td>NaN</td>\n",
       "      <td>NaN</td>\n",
       "      <td>37.250000</td>\n",
       "      <td>3.000000</td>\n",
       "      <td>2.000000</td>\n",
       "      <td>2014.250000</td>\n",
       "    </tr>\n",
       "    <tr>\n",
       "      <th>max</th>\n",
       "      <td>187.037931</td>\n",
       "      <td>144.750000</td>\n",
       "      <td>34983.187500</td>\n",
       "      <td>0.773907</td>\n",
       "      <td>NaN</td>\n",
       "      <td>NaN</td>\n",
       "      <td>NaN</td>\n",
       "      <td>NaN</td>\n",
       "      <td>NaN</td>\n",
       "      <td>148.000000</td>\n",
       "      <td>4.000000</td>\n",
       "      <td>2.000000</td>\n",
       "      <td>2017.000000</td>\n",
       "    </tr>\n",
       "  </tbody>\n",
       "</table>\n",
       "</div>"
      ],
      "text/plain": [
       "       RunsScored     x -xbar    (x-xbar)^2   z score   Unnamed: 5  \\\n",
       "count   14.000000   12.000000     13.000000  12.000000         0.0   \n",
       "mean    48.877709    3.187500   5382.028846   0.017042         NaN   \n",
       "std     65.503273   56.295701  10486.533065   0.300985         NaN   \n",
       "min      0.000000  -38.250000    256.000000  -0.204504         NaN   \n",
       "25%      6.250000  -32.500000    855.562500  -0.173762         NaN   \n",
       "50%     17.000000  -24.750000   1105.562500  -0.132326         NaN   \n",
       "75%     70.312500   22.687500   1827.562500   0.121299         NaN   \n",
       "max    187.037931  144.750000  34983.187500   0.773907         NaN   \n",
       "\n",
       "       Unnamed: 6  Unnamed: 7  Unnamed: 8  Unnamed: 9  BallsFaced  \\\n",
       "count         0.0         0.0         0.0         0.0   12.000000   \n",
       "mean          NaN         NaN         NaN         NaN   41.000000   \n",
       "std           NaN         NaN         NaN         NaN   47.962106   \n",
       "min           NaN         NaN         NaN         NaN    5.000000   \n",
       "25%           NaN         NaN         NaN         NaN   10.500000   \n",
       "50%           NaN         NaN         NaN         NaN   22.500000   \n",
       "75%           NaN         NaN         NaN         NaN   37.250000   \n",
       "max           NaN         NaN         NaN         NaN  148.000000   \n",
       "\n",
       "       BattingPosition     Inning         Year  \n",
       "count        12.000000  12.000000    12.000000  \n",
       "mean          3.166667   1.500000  2013.000000  \n",
       "std           0.389249   0.522233     2.486326  \n",
       "min           3.000000   1.000000  2009.000000  \n",
       "25%           3.000000   1.000000  2011.750000  \n",
       "50%           3.000000   1.500000  2013.000000  \n",
       "75%           3.000000   2.000000  2014.250000  \n",
       "max           4.000000   2.000000  2017.000000  "
      ]
     },
     "execution_count": 5,
     "metadata": {},
     "output_type": "execute_result"
    }
   ],
   "source": [
    "mydata.describe()"
   ]
  },
  {
   "cell_type": "markdown",
   "metadata": {},
   "source": [
    "#find 5 number summary helpful for exploratory data analysis\n",
    "\n"
   ]
  },
  {
   "cell_type": "code",
   "execution_count": 6,
   "metadata": {},
   "outputs": [
    {
     "data": {
      "text/plain": [
       "Opposition\n",
       "Pakistan    459.0\n",
       "Name: RunsScored, dtype: float64"
      ]
     },
     "execution_count": 6,
     "metadata": {},
     "output_type": "execute_result"
    }
   ],
   "source": [
    "mydata.groupby('Opposition')['RunsScored'].sum().sort_values(ascending=False)\n"
   ]
  },
  {
   "cell_type": "code",
   "execution_count": 7,
   "metadata": {},
   "outputs": [
    {
     "data": {
      "text/plain": [
       "Opposition\n",
       "Pakistan    38.25\n",
       "Name: RunsScored, dtype: float64"
      ]
     },
     "execution_count": 7,
     "metadata": {},
     "output_type": "execute_result"
    }
   ],
   "source": [
    "mydata.groupby('Opposition')['RunsScored'].mean().sort_values(ascending=False)"
   ]
  },
  {
   "cell_type": "code",
   "execution_count": 8,
   "metadata": {},
   "outputs": [
    {
     "data": {
      "text/plain": [
       "Year\n",
       "2017.0    290.0\n",
       "2015.0     81.0\n",
       "2013.0     43.0\n",
       "2014.0     22.0\n",
       "2012.0     13.0\n",
       "2010.0      5.0\n",
       "2011.0      5.0\n",
       "2009.0      0.0\n",
       "Name: RunsScored, dtype: float64"
      ]
     },
     "execution_count": 8,
     "metadata": {},
     "output_type": "execute_result"
    }
   ],
   "source": [
    "mydata.groupby('Year')['RunsScored'].sum().sort_values(ascending=False)"
   ]
  },
  {
   "cell_type": "code",
   "execution_count": 9,
   "metadata": {},
   "outputs": [
    {
     "data": {
      "text/plain": [
       "Year    Opposition\n",
       "2017.0  Pakistan      290.0\n",
       "2015.0  Pakistan       81.0\n",
       "2013.0  Pakistan       43.0\n",
       "2014.0  Pakistan       22.0\n",
       "2012.0  Pakistan       13.0\n",
       "2010.0  Pakistan        5.0\n",
       "2011.0  Pakistan        5.0\n",
       "2009.0  Pakistan        0.0\n",
       "Name: RunsScored, dtype: float64"
      ]
     },
     "execution_count": 9,
     "metadata": {},
     "output_type": "execute_result"
    }
   ],
   "source": [
    "mydata.groupby(['Year', 'Opposition'])['RunsScored'].sum().sort_values(ascending=False)\n"
   ]
  },
  {
   "cell_type": "code",
   "execution_count": 10,
   "metadata": {},
   "outputs": [
    {
     "data": {
      "text/plain": [
       "Dismissal\n",
       "Caught    8\n",
       "Bowled    2\n",
       "NO        2\n",
       "Name: count, dtype: int64"
      ]
     },
     "execution_count": 10,
     "metadata": {},
     "output_type": "execute_result"
    }
   ],
   "source": [
    "mydata['Dismissal'].value_counts()"
   ]
  },
  {
   "cell_type": "code",
   "execution_count": 11,
   "metadata": {},
   "outputs": [
    {
     "data": {
      "text/plain": [
       "Year    Opposition\n",
       "2017.0  Pakistan      290.0\n",
       "Name: RunsScored, dtype: float64"
      ]
     },
     "execution_count": 11,
     "metadata": {},
     "output_type": "execute_result"
    }
   ],
   "source": [
    "mydata.groupby(['Year', 'Opposition'])['RunsScored'].sum().sort_values(ascending=False).head(1)"
   ]
  },
  {
   "cell_type": "code",
   "execution_count": 14,
   "metadata": {},
   "outputs": [],
   "source": [
    "mydata_runs = mydata['RunsScored'].value_counts()"
   ]
  },
  {
   "cell_type": "code",
   "execution_count": 15,
   "metadata": {},
   "outputs": [
    {
     "data": {
      "text/plain": [
       "array(['Pakistan', nan], dtype=object)"
      ]
     },
     "execution_count": 15,
     "metadata": {},
     "output_type": "execute_result"
    }
   ],
   "source": [
    "mydata.Opposition.unique()"
   ]
  },
  {
   "cell_type": "code",
   "execution_count": 16,
   "metadata": {},
   "outputs": [
    {
     "data": {
      "text/plain": [
       "Opposition\n",
       "Pakistan    459.0\n",
       "Name: RunsScored, dtype: float64"
      ]
     },
     "execution_count": 16,
     "metadata": {},
     "output_type": "execute_result"
    }
   ],
   "source": [
    "mydata.groupby(['Opposition'])['RunsScored'].sum().sort_values(ascending=True).head(5)"
   ]
  },
  {
   "cell_type": "code",
   "execution_count": 17,
   "metadata": {},
   "outputs": [
    {
     "data": {
      "text/plain": [
       "Inning\n",
       "1.0    6\n",
       "2.0    6\n",
       "Name: RunsScored, dtype: int64"
      ]
     },
     "execution_count": 17,
     "metadata": {},
     "output_type": "execute_result"
    }
   ],
   "source": [
    "mydata.groupby('Inning')['RunsScored'].nunique()"
   ]
  },
  {
   "cell_type": "code",
   "execution_count": 19,
   "metadata": {},
   "outputs": [
    {
     "data": {
      "text/html": [
       "<div>\n",
       "<style scoped>\n",
       "    .dataframe tbody tr th:only-of-type {\n",
       "        vertical-align: middle;\n",
       "    }\n",
       "\n",
       "    .dataframe tbody tr th {\n",
       "        vertical-align: top;\n",
       "    }\n",
       "\n",
       "    .dataframe thead th {\n",
       "        text-align: right;\n",
       "    }\n",
       "</style>\n",
       "<table border=\"1\" class=\"dataframe\">\n",
       "  <thead>\n",
       "    <tr style=\"text-align: right;\">\n",
       "      <th></th>\n",
       "      <th>sum</th>\n",
       "      <th>median</th>\n",
       "      <th>sum</th>\n",
       "    </tr>\n",
       "    <tr>\n",
       "      <th>Opposition</th>\n",
       "      <th></th>\n",
       "      <th></th>\n",
       "      <th></th>\n",
       "    </tr>\n",
       "  </thead>\n",
       "  <tbody>\n",
       "    <tr>\n",
       "      <th>Pakistan</th>\n",
       "      <td>459.0</td>\n",
       "      <td>12.5</td>\n",
       "      <td>459.0</td>\n",
       "    </tr>\n",
       "  </tbody>\n",
       "</table>\n",
       "</div>"
      ],
      "text/plain": [
       "              sum  median    sum\n",
       "Opposition                      \n",
       "Pakistan    459.0    12.5  459.0"
      ]
     },
     "execution_count": 19,
     "metadata": {},
     "output_type": "execute_result"
    }
   ],
   "source": [
    "mydata.groupby(['Opposition'])['RunsScored'].agg(['sum','median', 'sum'])"
   ]
  },
  {
   "cell_type": "code",
   "execution_count": 20,
   "metadata": {},
   "outputs": [
    {
     "data": {
      "text/html": [
       "<div>\n",
       "<style scoped>\n",
       "    .dataframe tbody tr th:only-of-type {\n",
       "        vertical-align: middle;\n",
       "    }\n",
       "\n",
       "    .dataframe tbody tr th {\n",
       "        vertical-align: top;\n",
       "    }\n",
       "\n",
       "    .dataframe thead th {\n",
       "        text-align: right;\n",
       "    }\n",
       "</style>\n",
       "<table border=\"1\" class=\"dataframe\">\n",
       "  <thead>\n",
       "    <tr style=\"text-align: right;\">\n",
       "      <th>Dismissal</th>\n",
       "      <th>Bowled</th>\n",
       "      <th>Caught</th>\n",
       "      <th>NO</th>\n",
       "      <th>All</th>\n",
       "    </tr>\n",
       "    <tr>\n",
       "      <th>Inning</th>\n",
       "      <th></th>\n",
       "      <th></th>\n",
       "      <th></th>\n",
       "      <th></th>\n",
       "    </tr>\n",
       "  </thead>\n",
       "  <tbody>\n",
       "    <tr>\n",
       "      <th>1.0</th>\n",
       "      <td>1</td>\n",
       "      <td>4</td>\n",
       "      <td>1</td>\n",
       "      <td>6</td>\n",
       "    </tr>\n",
       "    <tr>\n",
       "      <th>2.0</th>\n",
       "      <td>1</td>\n",
       "      <td>4</td>\n",
       "      <td>1</td>\n",
       "      <td>6</td>\n",
       "    </tr>\n",
       "    <tr>\n",
       "      <th>All</th>\n",
       "      <td>2</td>\n",
       "      <td>8</td>\n",
       "      <td>2</td>\n",
       "      <td>12</td>\n",
       "    </tr>\n",
       "  </tbody>\n",
       "</table>\n",
       "</div>"
      ],
      "text/plain": [
       "Dismissal  Bowled  Caught  NO  All\n",
       "Inning                            \n",
       "1.0             1       4   1    6\n",
       "2.0             1       4   1    6\n",
       "All             2       8   2   12"
      ]
     },
     "execution_count": 20,
     "metadata": {},
     "output_type": "execute_result"
    }
   ],
   "source": [
    "pd.crosstab(index = mydata['Inning'],columns=mydata['Dismissal'],values=mydata['Dismissal'],margins=True,aggfunc='count')\n",
    "\n",
    "#margin gives the sum of all \n"
   ]
  },
  {
   "cell_type": "code",
   "execution_count": 20,
   "metadata": {},
   "outputs": [
    {
     "data": {
      "text/html": [
       "<div>\n",
       "<style scoped>\n",
       "    .dataframe tbody tr th:only-of-type {\n",
       "        vertical-align: middle;\n",
       "    }\n",
       "\n",
       "    .dataframe tbody tr th {\n",
       "        vertical-align: top;\n",
       "    }\n",
       "\n",
       "    .dataframe thead th {\n",
       "        text-align: right;\n",
       "    }\n",
       "</style>\n",
       "<table border=\"1\" class=\"dataframe\">\n",
       "  <thead>\n",
       "    <tr style=\"text-align: right;\">\n",
       "      <th>Dismissal</th>\n",
       "      <th>Bowled</th>\n",
       "      <th>Caught</th>\n",
       "      <th>Hit wicket</th>\n",
       "      <th>LBW</th>\n",
       "      <th>NO</th>\n",
       "      <th>Run out</th>\n",
       "      <th>Stumped</th>\n",
       "    </tr>\n",
       "    <tr>\n",
       "      <th>Inning</th>\n",
       "      <th></th>\n",
       "      <th></th>\n",
       "      <th></th>\n",
       "      <th></th>\n",
       "      <th></th>\n",
       "      <th></th>\n",
       "      <th></th>\n",
       "    </tr>\n",
       "  </thead>\n",
       "  <tbody>\n",
       "    <tr>\n",
       "      <th>1</th>\n",
       "      <td>12.0</td>\n",
       "      <td>54.0</td>\n",
       "      <td>1.0</td>\n",
       "      <td>5.0</td>\n",
       "      <td>8.0</td>\n",
       "      <td>10.0</td>\n",
       "      <td>NaN</td>\n",
       "    </tr>\n",
       "    <tr>\n",
       "      <th>2</th>\n",
       "      <td>9.0</td>\n",
       "      <td>67.0</td>\n",
       "      <td>NaN</td>\n",
       "      <td>7.0</td>\n",
       "      <td>29.0</td>\n",
       "      <td>2.0</td>\n",
       "      <td>4.0</td>\n",
       "    </tr>\n",
       "  </tbody>\n",
       "</table>\n",
       "</div>"
      ],
      "text/plain": [
       "Dismissal  Bowled  Caught  Hit wicket  LBW    NO  Run out  Stumped\n",
       "Inning                                                            \n",
       "1            12.0    54.0         1.0  5.0   8.0     10.0      NaN\n",
       "2             9.0    67.0         NaN  7.0  29.0      2.0      4.0"
      ]
     },
     "execution_count": 20,
     "metadata": {},
     "output_type": "execute_result"
    }
   ],
   "source": [
    "pd.crosstab(index = mydata['Inning'],columns=mydata['Dismissal'],values=mydata['Dismissal'],margins=False,aggfunc='count')"
   ]
  },
  {
   "cell_type": "code",
   "execution_count": 19,
   "metadata": {},
   "outputs": [
    {
     "data": {
      "text/html": [
       "<div>\n",
       "<style scoped>\n",
       "    .dataframe tbody tr th:only-of-type {\n",
       "        vertical-align: middle;\n",
       "    }\n",
       "\n",
       "    .dataframe tbody tr th {\n",
       "        vertical-align: top;\n",
       "    }\n",
       "\n",
       "    .dataframe thead th {\n",
       "        text-align: right;\n",
       "    }\n",
       "</style>\n",
       "<table border=\"1\" class=\"dataframe\">\n",
       "  <thead>\n",
       "    <tr style=\"text-align: right;\">\n",
       "      <th></th>\n",
       "      <th>RunsScored</th>\n",
       "      <th>BallsFaced</th>\n",
       "      <th>BattingPosition</th>\n",
       "      <th>Dismissal</th>\n",
       "      <th>Inning</th>\n",
       "      <th>Opposition</th>\n",
       "      <th>Year</th>\n",
       "      <th>Strike_Rate</th>\n",
       "      <th>post_transform</th>\n",
       "    </tr>\n",
       "  </thead>\n",
       "  <tbody>\n",
       "    <tr>\n",
       "      <th>0</th>\n",
       "      <td>12</td>\n",
       "      <td>22</td>\n",
       "      <td>2</td>\n",
       "      <td>LBW</td>\n",
       "      <td>1</td>\n",
       "      <td>Sri Lanka</td>\n",
       "      <td>2008</td>\n",
       "      <td>0.545455</td>\n",
       "      <td>False</td>\n",
       "    </tr>\n",
       "    <tr>\n",
       "      <th>1</th>\n",
       "      <td>37</td>\n",
       "      <td>67</td>\n",
       "      <td>2</td>\n",
       "      <td>Caught</td>\n",
       "      <td>2</td>\n",
       "      <td>Sri Lanka</td>\n",
       "      <td>2008</td>\n",
       "      <td>0.552239</td>\n",
       "      <td>False</td>\n",
       "    </tr>\n",
       "    <tr>\n",
       "      <th>2</th>\n",
       "      <td>25</td>\n",
       "      <td>38</td>\n",
       "      <td>1</td>\n",
       "      <td>Run out</td>\n",
       "      <td>1</td>\n",
       "      <td>Sri Lanka</td>\n",
       "      <td>2008</td>\n",
       "      <td>0.657895</td>\n",
       "      <td>False</td>\n",
       "    </tr>\n",
       "    <tr>\n",
       "      <th>3</th>\n",
       "      <td>54</td>\n",
       "      <td>66</td>\n",
       "      <td>1</td>\n",
       "      <td>Bowled</td>\n",
       "      <td>1</td>\n",
       "      <td>Sri Lanka</td>\n",
       "      <td>2008</td>\n",
       "      <td>0.818182</td>\n",
       "      <td>False</td>\n",
       "    </tr>\n",
       "    <tr>\n",
       "      <th>4</th>\n",
       "      <td>31</td>\n",
       "      <td>46</td>\n",
       "      <td>1</td>\n",
       "      <td>LBW</td>\n",
       "      <td>2</td>\n",
       "      <td>Sri Lanka</td>\n",
       "      <td>2008</td>\n",
       "      <td>0.673913</td>\n",
       "      <td>False</td>\n",
       "    </tr>\n",
       "    <tr>\n",
       "      <th>...</th>\n",
       "      <td>...</td>\n",
       "      <td>...</td>\n",
       "      <td>...</td>\n",
       "      <td>...</td>\n",
       "      <td>...</td>\n",
       "      <td>...</td>\n",
       "      <td>...</td>\n",
       "      <td>...</td>\n",
       "      <td>...</td>\n",
       "    </tr>\n",
       "    <tr>\n",
       "      <th>203</th>\n",
       "      <td>140</td>\n",
       "      <td>107</td>\n",
       "      <td>3</td>\n",
       "      <td>Stumped</td>\n",
       "      <td>2</td>\n",
       "      <td>West Indies</td>\n",
       "      <td>2018</td>\n",
       "      <td>1.308411</td>\n",
       "      <td>True</td>\n",
       "    </tr>\n",
       "    <tr>\n",
       "      <th>204</th>\n",
       "      <td>157</td>\n",
       "      <td>129</td>\n",
       "      <td>3</td>\n",
       "      <td>NO</td>\n",
       "      <td>1</td>\n",
       "      <td>West Indies</td>\n",
       "      <td>2018</td>\n",
       "      <td>1.217054</td>\n",
       "      <td>True</td>\n",
       "    </tr>\n",
       "    <tr>\n",
       "      <th>205</th>\n",
       "      <td>107</td>\n",
       "      <td>119</td>\n",
       "      <td>3</td>\n",
       "      <td>Bowled</td>\n",
       "      <td>2</td>\n",
       "      <td>West Indies</td>\n",
       "      <td>2018</td>\n",
       "      <td>0.899160</td>\n",
       "      <td>True</td>\n",
       "    </tr>\n",
       "    <tr>\n",
       "      <th>206</th>\n",
       "      <td>16</td>\n",
       "      <td>17</td>\n",
       "      <td>3</td>\n",
       "      <td>Caught</td>\n",
       "      <td>1</td>\n",
       "      <td>West Indies</td>\n",
       "      <td>2018</td>\n",
       "      <td>0.941176</td>\n",
       "      <td>True</td>\n",
       "    </tr>\n",
       "    <tr>\n",
       "      <th>207</th>\n",
       "      <td>33</td>\n",
       "      <td>29</td>\n",
       "      <td>3</td>\n",
       "      <td>NO</td>\n",
       "      <td>2</td>\n",
       "      <td>West Indies</td>\n",
       "      <td>2018</td>\n",
       "      <td>1.137931</td>\n",
       "      <td>True</td>\n",
       "    </tr>\n",
       "  </tbody>\n",
       "</table>\n",
       "<p>208 rows × 9 columns</p>\n",
       "</div>"
      ],
      "text/plain": [
       "     RunsScored  BallsFaced  BattingPosition Dismissal  Inning   Opposition  \\\n",
       "0            12          22                2       LBW       1    Sri Lanka   \n",
       "1            37          67                2    Caught       2    Sri Lanka   \n",
       "2            25          38                1   Run out       1    Sri Lanka   \n",
       "3            54          66                1    Bowled       1    Sri Lanka   \n",
       "4            31          46                1       LBW       2    Sri Lanka   \n",
       "..          ...         ...              ...       ...     ...          ...   \n",
       "203         140         107                3   Stumped       2  West Indies   \n",
       "204         157         129                3        NO       1  West Indies   \n",
       "205         107         119                3    Bowled       2  West Indies   \n",
       "206          16          17                3    Caught       1  West Indies   \n",
       "207          33          29                3        NO       2  West Indies   \n",
       "\n",
       "     Year  Strike_Rate  post_transform  \n",
       "0    2008     0.545455           False  \n",
       "1    2008     0.552239           False  \n",
       "2    2008     0.657895           False  \n",
       "3    2008     0.818182           False  \n",
       "4    2008     0.673913           False  \n",
       "..    ...          ...             ...  \n",
       "203  2018     1.308411            True  \n",
       "204  2018     1.217054            True  \n",
       "205  2018     0.899160            True  \n",
       "206  2018     0.941176            True  \n",
       "207  2018     1.137931            True  \n",
       "\n",
       "[208 rows x 9 columns]"
      ]
     },
     "execution_count": 19,
     "metadata": {},
     "output_type": "execute_result"
    }
   ],
   "source": [
    "mydata['Strike_Rate'] = mydata['RunsScored']/mydata['BallsFaced']\n",
    "mydata['post_transform'] = mydata['Year']>2012\n",
    "mydata"
   ]
  },
  {
   "cell_type": "code",
   "execution_count": 25,
   "metadata": {},
   "outputs": [
    {
     "data": {
      "text/plain": [
       "post_transform\n",
       "False    3886\n",
       "True     6346\n",
       "Name: RunsScored, dtype: int64"
      ]
     },
     "execution_count": 25,
     "metadata": {},
     "output_type": "execute_result"
    }
   ],
   "source": [
    "mydata.groupby('post_transform')['RunsScored'].sum()"
   ]
  },
  {
   "cell_type": "code",
   "execution_count": 26,
   "metadata": {},
   "outputs": [
    {
     "data": {
      "text/plain": [
       "post_transform  Inning\n",
       "False           1         36.421053\n",
       "                2         50.040000\n",
       "True            1         51.461538\n",
       "                2         53.970588\n",
       "Name: RunsScored, dtype: float64"
      ]
     },
     "execution_count": 26,
     "metadata": {},
     "output_type": "execute_result"
    }
   ],
   "source": [
    "mydata.groupby(['post_transform','Inning'])['RunsScored'].mean()"
   ]
  },
  {
   "cell_type": "code",
   "execution_count": 28,
   "metadata": {},
   "outputs": [
    {
     "data": {
      "text/html": [
       "<div>\n",
       "<style scoped>\n",
       "    .dataframe tbody tr th:only-of-type {\n",
       "        vertical-align: middle;\n",
       "    }\n",
       "\n",
       "    .dataframe tbody tr th {\n",
       "        vertical-align: top;\n",
       "    }\n",
       "\n",
       "    .dataframe thead th {\n",
       "        text-align: right;\n",
       "    }\n",
       "</style>\n",
       "<table border=\"1\" class=\"dataframe\">\n",
       "  <thead>\n",
       "    <tr style=\"text-align: right;\">\n",
       "      <th>BattingPosition</th>\n",
       "      <th>1</th>\n",
       "      <th>2</th>\n",
       "      <th>3</th>\n",
       "      <th>4</th>\n",
       "      <th>5</th>\n",
       "      <th>6</th>\n",
       "      <th>7</th>\n",
       "      <th>All</th>\n",
       "    </tr>\n",
       "    <tr>\n",
       "      <th>post_transform</th>\n",
       "      <th></th>\n",
       "      <th></th>\n",
       "      <th></th>\n",
       "      <th></th>\n",
       "      <th></th>\n",
       "      <th></th>\n",
       "      <th></th>\n",
       "      <th></th>\n",
       "    </tr>\n",
       "  </thead>\n",
       "  <tbody>\n",
       "    <tr>\n",
       "      <th>False</th>\n",
       "      <td>110.0</td>\n",
       "      <td>49.0</td>\n",
       "      <td>2231.0</td>\n",
       "      <td>1312.0</td>\n",
       "      <td>123.0</td>\n",
       "      <td>23.0</td>\n",
       "      <td>38.0</td>\n",
       "      <td>3886</td>\n",
       "    </tr>\n",
       "    <tr>\n",
       "      <th>True</th>\n",
       "      <td>NaN</td>\n",
       "      <td>2.0</td>\n",
       "      <td>5908.0</td>\n",
       "      <td>432.0</td>\n",
       "      <td>4.0</td>\n",
       "      <td>NaN</td>\n",
       "      <td>NaN</td>\n",
       "      <td>6346</td>\n",
       "    </tr>\n",
       "    <tr>\n",
       "      <th>All</th>\n",
       "      <td>110.0</td>\n",
       "      <td>51.0</td>\n",
       "      <td>8139.0</td>\n",
       "      <td>1744.0</td>\n",
       "      <td>127.0</td>\n",
       "      <td>23.0</td>\n",
       "      <td>38.0</td>\n",
       "      <td>10232</td>\n",
       "    </tr>\n",
       "  </tbody>\n",
       "</table>\n",
       "</div>"
      ],
      "text/plain": [
       "BattingPosition      1     2       3       4      5     6     7    All\n",
       "post_transform                                                        \n",
       "False            110.0  49.0  2231.0  1312.0  123.0  23.0  38.0   3886\n",
       "True               NaN   2.0  5908.0   432.0    4.0   NaN   NaN   6346\n",
       "All              110.0  51.0  8139.0  1744.0  127.0  23.0  38.0  10232"
      ]
     },
     "execution_count": 28,
     "metadata": {},
     "output_type": "execute_result"
    }
   ],
   "source": [
    "pd.crosstab(index = mydata['post_transform'], columns=mydata['BattingPosition'], values=mydata['RunsScored'], margins=True, aggfunc='sum')"
   ]
  }
 ],
 "metadata": {
  "kernelspec": {
   "display_name": "pyenv",
   "language": "python",
   "name": "python3"
  },
  "language_info": {
   "codemirror_mode": {
    "name": "ipython",
    "version": 3
   },
   "file_extension": ".py",
   "mimetype": "text/x-python",
   "name": "python",
   "nbconvert_exporter": "python",
   "pygments_lexer": "ipython3",
   "version": "3.11.6"
  }
 },
 "nbformat": 4,
 "nbformat_minor": 2
}
