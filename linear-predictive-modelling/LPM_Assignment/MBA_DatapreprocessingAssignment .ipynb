{
 "cells": [
  {
   "cell_type": "markdown",
   "metadata": {},
   "source": [
    "<table align=\"center\" width=100%>\n",
    "    <tr>\n",
    "        <td width=\"15%\">\n",
    "            <img src=\"homework.png\">\n",
    "        </td>\n",
    "        <td>\n",
    "            <div align=\"center\">\n",
    "                <font color=\"#21618C\" size=8px>\n",
    "                    <b> Assignment<br>(Data Preprocessing)\n",
    "                    </b>\n",
    "                </font>\n",
    "            </div>\n",
    "        </td>\n",
    "    </tr>\n",
    "</table>"
   ]
  },
  {
   "cell_type": "markdown",
   "metadata": {},
   "source": [
    "### About the dataset (Life Expectancy Data)\n",
    "\n",
    "The dataset contains the health data of 2938 individuals useful for predicting the life expentency of the individuals. The features are related to economical factors, immunity realted factors, social factors and so on.\n",
    "\n",
    "Attribute Information:\n",
    "\n",
    "**Country:** Country of the recorded data\n",
    "\n",
    "**Year:** Year of the recorded data\n",
    "\n",
    "**Status:** Status of the country\n",
    "\n",
    "**Life expectancy:** Life expectancy in age (target/dependent variable)\n",
    "\n",
    "**Adult mortality:** Rate of adult mortality\n",
    "\n",
    "**Infant deaths:** Number of Infant Deaths per 1000 population\n",
    "\n",
    "**Alcohol:** Alcohol consumption (in litres of pure alcohol)\n",
    "\n",
    "**Percentage expenditure:** Expenditure on health as a percentage of GDP\n",
    "\n",
    "**Hepatitis B:** Hepatitis B immunization coverage among 1-year-olds (%)\n",
    "\n",
    "**Measles:** Number of reported cases per 1000 population\n",
    "\n",
    "**BMI:** Average BMI of entire population\n",
    "\n",
    "**Under-five deaths:** Number of under-five deaths per 1000 population\n",
    "\n",
    "**Polio:** Polio immunization coverage among 1-year-olds (%)\n",
    "\n",
    "**Total expenditure:** Government expenditure on health as a percentage of total government expenditure (%)\n",
    "\n",
    "**Diphtheria:** DTP3 immunization coverage among 1-year-olds (%)\n",
    "\n",
    "**HIV/AIDS:** Deaths per 1000 live births HIV/AIDS (0-4 years)\n",
    "\n",
    "**GDP:** Gross Domestic Product per capita (in USD)\n",
    "\n",
    "**Population:** Population of the country\n",
    "\n",
    "**Thinness 1-19 years:** Prevalence of thinness for age 1 to 19 (%)\n",
    "\n",
    "**Thinness 5-9 years:** Prevalence of thinness for age 5 to 9 (%)\n",
    "\n",
    "**Income composition of resources:** Human Development Index in terms of income composition of resources\n",
    "\n",
    "**Schooling:** Number of years of Schooling"
   ]
  },
  {
   "cell_type": "markdown",
   "metadata": {},
   "source": [
    "**Import the required libraries**"
   ]
  },
  {
   "cell_type": "code",
   "execution_count": 1,
   "metadata": {},
   "outputs": [],
   "source": [
    "import numpy as np\n",
    "import pandas as pd\n",
    "import matplotlib.pyplot as plt\n",
    "import seaborn as sns"
   ]
  },
  {
   "cell_type": "markdown",
   "metadata": {},
   "source": [
    "#### Load the life expectancy dataset and print the first five observations"
   ]
  },
  {
   "cell_type": "code",
   "execution_count": 2,
   "metadata": {},
   "outputs": [],
   "source": [
    "data = pd.read_csv(\"Life_Expectancy_Data.csv\")"
   ]
  },
  {
   "cell_type": "code",
   "execution_count": 3,
   "metadata": {},
   "outputs": [
    {
     "data": {
      "text/html": [
       "<div>\n",
       "<style scoped>\n",
       "    .dataframe tbody tr th:only-of-type {\n",
       "        vertical-align: middle;\n",
       "    }\n",
       "\n",
       "    .dataframe tbody tr th {\n",
       "        vertical-align: top;\n",
       "    }\n",
       "\n",
       "    .dataframe thead th {\n",
       "        text-align: right;\n",
       "    }\n",
       "</style>\n",
       "<table border=\"1\" class=\"dataframe\">\n",
       "  <thead>\n",
       "    <tr style=\"text-align: right;\">\n",
       "      <th></th>\n",
       "      <th>Country</th>\n",
       "      <th>Year</th>\n",
       "      <th>Status</th>\n",
       "      <th>Life expectancy</th>\n",
       "      <th>Adult mortality</th>\n",
       "      <th>Infant deaths</th>\n",
       "      <th>Alcohol</th>\n",
       "      <th>Percentage expenditure</th>\n",
       "      <th>Hepatitis B</th>\n",
       "      <th>Measles</th>\n",
       "      <th>...</th>\n",
       "      <th>Polio</th>\n",
       "      <th>Total expenditure</th>\n",
       "      <th>Diphtheria</th>\n",
       "      <th>HIV/AIDS</th>\n",
       "      <th>GDP</th>\n",
       "      <th>Population</th>\n",
       "      <th>Thinness  1-19 years</th>\n",
       "      <th>Thinness 5-9 years</th>\n",
       "      <th>Income composition of resources</th>\n",
       "      <th>Schooling</th>\n",
       "    </tr>\n",
       "  </thead>\n",
       "  <tbody>\n",
       "    <tr>\n",
       "      <th>0</th>\n",
       "      <td>Afghanistan</td>\n",
       "      <td>2015</td>\n",
       "      <td>Developing</td>\n",
       "      <td>65.0</td>\n",
       "      <td>263.0</td>\n",
       "      <td>62</td>\n",
       "      <td>0.01</td>\n",
       "      <td>71.279624</td>\n",
       "      <td>65.0</td>\n",
       "      <td>1154</td>\n",
       "      <td>...</td>\n",
       "      <td>6.0</td>\n",
       "      <td>8.16</td>\n",
       "      <td>65.0</td>\n",
       "      <td>0.1</td>\n",
       "      <td>584.259210</td>\n",
       "      <td>33736494</td>\n",
       "      <td>17.2</td>\n",
       "      <td>17.3</td>\n",
       "      <td>0.479</td>\n",
       "      <td>10.1</td>\n",
       "    </tr>\n",
       "    <tr>\n",
       "      <th>1</th>\n",
       "      <td>Afghanistan</td>\n",
       "      <td>2014</td>\n",
       "      <td>Developing</td>\n",
       "      <td>59.9</td>\n",
       "      <td>271.0</td>\n",
       "      <td>64</td>\n",
       "      <td>0.01</td>\n",
       "      <td>73.523582</td>\n",
       "      <td>62.0</td>\n",
       "      <td>492</td>\n",
       "      <td>...</td>\n",
       "      <td>58.0</td>\n",
       "      <td>8.18</td>\n",
       "      <td>62.0</td>\n",
       "      <td>0.1</td>\n",
       "      <td>612.696514</td>\n",
       "      <td>327582</td>\n",
       "      <td>17.5</td>\n",
       "      <td>17.5</td>\n",
       "      <td>0.476</td>\n",
       "      <td>10.0</td>\n",
       "    </tr>\n",
       "    <tr>\n",
       "      <th>2</th>\n",
       "      <td>Afghanistan</td>\n",
       "      <td>2013</td>\n",
       "      <td>Developing</td>\n",
       "      <td>59.9</td>\n",
       "      <td>268.0</td>\n",
       "      <td>66</td>\n",
       "      <td>0.01</td>\n",
       "      <td>73.219243</td>\n",
       "      <td>64.0</td>\n",
       "      <td>430</td>\n",
       "      <td>...</td>\n",
       "      <td>62.0</td>\n",
       "      <td>8.13</td>\n",
       "      <td>64.0</td>\n",
       "      <td>0.1</td>\n",
       "      <td>631.744976</td>\n",
       "      <td>31731688</td>\n",
       "      <td>17.7</td>\n",
       "      <td>17.7</td>\n",
       "      <td>0.470</td>\n",
       "      <td>9.9</td>\n",
       "    </tr>\n",
       "    <tr>\n",
       "      <th>3</th>\n",
       "      <td>Afghanistan</td>\n",
       "      <td>2012</td>\n",
       "      <td>Developing</td>\n",
       "      <td>59.5</td>\n",
       "      <td>272.0</td>\n",
       "      <td>69</td>\n",
       "      <td>0.01</td>\n",
       "      <td>78.184215</td>\n",
       "      <td>67.0</td>\n",
       "      <td>2787</td>\n",
       "      <td>...</td>\n",
       "      <td>67.0</td>\n",
       "      <td>8.52</td>\n",
       "      <td>67.0</td>\n",
       "      <td>0.1</td>\n",
       "      <td>669.959000</td>\n",
       "      <td>3696958</td>\n",
       "      <td>17.9</td>\n",
       "      <td>18.0</td>\n",
       "      <td>0.463</td>\n",
       "      <td>9.8</td>\n",
       "    </tr>\n",
       "    <tr>\n",
       "      <th>4</th>\n",
       "      <td>Afghanistan</td>\n",
       "      <td>2011</td>\n",
       "      <td>Developing</td>\n",
       "      <td>59.2</td>\n",
       "      <td>275.0</td>\n",
       "      <td>71</td>\n",
       "      <td>0.01</td>\n",
       "      <td>7.097109</td>\n",
       "      <td>68.0</td>\n",
       "      <td>3013</td>\n",
       "      <td>...</td>\n",
       "      <td>68.0</td>\n",
       "      <td>7.87</td>\n",
       "      <td>68.0</td>\n",
       "      <td>0.1</td>\n",
       "      <td>63.537231</td>\n",
       "      <td>2978599</td>\n",
       "      <td>18.2</td>\n",
       "      <td>18.2</td>\n",
       "      <td>0.454</td>\n",
       "      <td>9.5</td>\n",
       "    </tr>\n",
       "  </tbody>\n",
       "</table>\n",
       "<p>5 rows × 22 columns</p>\n",
       "</div>"
      ],
      "text/plain": [
       "       Country  Year      Status  Life expectancy  Adult mortality  \\\n",
       "0  Afghanistan  2015  Developing             65.0            263.0   \n",
       "1  Afghanistan  2014  Developing             59.9            271.0   \n",
       "2  Afghanistan  2013  Developing             59.9            268.0   \n",
       "3  Afghanistan  2012  Developing             59.5            272.0   \n",
       "4  Afghanistan  2011  Developing             59.2            275.0   \n",
       "\n",
       "   Infant deaths  Alcohol  Percentage expenditure  Hepatitis B  Measles  ...  \\\n",
       "0             62     0.01               71.279624         65.0     1154  ...   \n",
       "1             64     0.01               73.523582         62.0      492  ...   \n",
       "2             66     0.01               73.219243         64.0      430  ...   \n",
       "3             69     0.01               78.184215         67.0     2787  ...   \n",
       "4             71     0.01                7.097109         68.0     3013  ...   \n",
       "\n",
       "   Polio  Total expenditure  Diphtheria  HIV/AIDS         GDP  Population  \\\n",
       "0    6.0               8.16        65.0       0.1  584.259210    33736494   \n",
       "1   58.0               8.18        62.0       0.1  612.696514      327582   \n",
       "2   62.0               8.13        64.0       0.1  631.744976    31731688   \n",
       "3   67.0               8.52        67.0       0.1  669.959000     3696958   \n",
       "4   68.0               7.87        68.0       0.1   63.537231     2978599   \n",
       "\n",
       "   Thinness  1-19 years Thinness 5-9 years  Income composition of resources  \\\n",
       "0                  17.2               17.3                            0.479   \n",
       "1                  17.5               17.5                            0.476   \n",
       "2                  17.7               17.7                            0.470   \n",
       "3                  17.9               18.0                            0.463   \n",
       "4                  18.2               18.2                            0.454   \n",
       "\n",
       "   Schooling  \n",
       "0       10.1  \n",
       "1       10.0  \n",
       "2        9.9  \n",
       "3        9.8  \n",
       "4        9.5  \n",
       "\n",
       "[5 rows x 22 columns]"
      ]
     },
     "execution_count": 3,
     "metadata": {},
     "output_type": "execute_result"
    }
   ],
   "source": [
    "data.head()"
   ]
  },
  {
   "cell_type": "markdown",
   "metadata": {},
   "source": [
    "### Let's begin with some hands-on practice exercises"
   ]
  },
  {
   "cell_type": "markdown",
   "metadata": {
    "collapsed": true
   },
   "source": [
    "<table align=\"left\">\n",
    "    <tr>\n",
    "        <td width=\"6%\">\n",
    "            <img src=\"question_icon.png\">\n",
    "        </td>\n",
    "        <td>\n",
    "            <div align=\"left\", style=\"font-size:120%\">\n",
    "                <font color=\"#21618C\">\n",
    "                    <b>1. Check the data type of each variable and if any variable is wrongly identified, do the needful</b>\n",
    "                </font>\n",
    "            </div>\n",
    "        </td>\n",
    "    </tr>\n",
    "</table>"
   ]
  },
  {
   "cell_type": "code",
   "execution_count": 4,
   "metadata": {},
   "outputs": [
    {
     "data": {
      "text/plain": [
       "2938"
      ]
     },
     "execution_count": 4,
     "metadata": {},
     "output_type": "execute_result"
    }
   ],
   "source": [
    "len(data)"
   ]
  },
  {
   "cell_type": "code",
   "execution_count": 5,
   "metadata": {},
   "outputs": [
    {
     "data": {
      "text/plain": [
       "Country                             object\n",
       "Year                                 int64\n",
       "Status                              object\n",
       "Life expectancy                    float64\n",
       "Adult mortality                    float64\n",
       "Infant deaths                        int64\n",
       "Alcohol                            float64\n",
       "Percentage expenditure             float64\n",
       "Hepatitis B                        float64\n",
       "Measles                              int64\n",
       "BMI                                float64\n",
       "Under-five deaths                    int64\n",
       "Polio                              float64\n",
       "Total expenditure                  float64\n",
       "Diphtheria                         float64\n",
       "HIV/AIDS                           float64\n",
       "GDP                                float64\n",
       "Population                          object\n",
       "Thinness  1-19 years               float64\n",
       "Thinness 5-9 years                 float64\n",
       "Income composition of resources    float64\n",
       "Schooling                          float64\n",
       "dtype: object"
      ]
     },
     "execution_count": 5,
     "metadata": {},
     "output_type": "execute_result"
    }
   ],
   "source": [
    "data.dtypes"
   ]
  },
  {
   "cell_type": "markdown",
   "metadata": {
    "collapsed": true
   },
   "source": [
    "<table align=\"left\">\n",
    "    <tr>\n",
    "        <td width=\"6%\">\n",
    "            <img src=\"question_icon.png\">\n",
    "        </td>\n",
    "        <td>\n",
    "            <div align=\"left\", style=\"font-size:120%\">\n",
    "                <font color=\"#21618C\">\n",
    "                    <b>2. Create a DataFrame containing the count and percentage of missing entries in each variable</b>\n",
    "                </font>\n",
    "            </div>\n",
    "        </td>\n",
    "    </tr>\n",
    "</table>"
   ]
  },
  {
   "cell_type": "code",
   "execution_count": 6,
   "metadata": {},
   "outputs": [
    {
     "name": "stdout",
     "output_type": "stream",
     "text": [
      "Count of Missing Values:\n",
      "Country                              0\n",
      "Year                                 0\n",
      "Status                              16\n",
      "Life expectancy                     10\n",
      "Adult mortality                     10\n",
      "Infant deaths                        0\n",
      "Alcohol                            194\n",
      "Percentage expenditure               0\n",
      "Hepatitis B                        553\n",
      "Measles                              0\n",
      "BMI                                 34\n",
      "Under-five deaths                    0\n",
      "Polio                               19\n",
      "Total expenditure                  226\n",
      "Diphtheria                          19\n",
      "HIV/AIDS                             0\n",
      "GDP                                448\n",
      "Population                           0\n",
      "Thinness  1-19 years                34\n",
      "Thinness 5-9 years                  34\n",
      "Income composition of resources    167\n",
      "Schooling                          163\n",
      "dtype: int64\n",
      "\n",
      "\n",
      "Percentage of Missing Values:\n",
      "Country                             0.000000\n",
      "Year                                0.000000\n",
      "Status                              0.544588\n",
      "Life expectancy                     0.340368\n",
      "Adult mortality                     0.340368\n",
      "Infant deaths                       0.000000\n",
      "Alcohol                             6.603131\n",
      "Percentage expenditure              0.000000\n",
      "Hepatitis B                        18.822328\n",
      "Measles                             0.000000\n",
      "BMI                                 1.157250\n",
      "Under-five deaths                   0.000000\n",
      "Polio                               0.646698\n",
      "Total expenditure                   7.692308\n",
      "Diphtheria                          0.646698\n",
      "HIV/AIDS                            0.000000\n",
      "GDP                                15.248468\n",
      "Population                          0.000000\n",
      "Thinness  1-19 years                1.157250\n",
      "Thinness 5-9 years                  1.157250\n",
      "Income composition of resources     5.684139\n",
      "Schooling                           5.547992\n",
      "dtype: float64\n"
     ]
    }
   ],
   "source": [
    "null_count = data.isnull().sum()\n",
    "print(\"Count of Missing Values:\")\n",
    "print(null_count)\n",
    "\n",
    "print(\"\\n\\nPercentage of Missing Values:\")\n",
    "null_percentage = data.isnull().sum()/ len(data) * 100\n",
    "print(null_percentage)"
   ]
  },
  {
   "cell_type": "markdown",
   "metadata": {
    "collapsed": true
   },
   "source": [
    "<table align=\"left\">\n",
    "    <tr>\n",
    "        <td width=\"6%\">\n",
    "            <img src=\"question_icon.png\">\n",
    "        </td>\n",
    "        <td>\n",
    "            <div align=\"left\", style=\"font-size:120%\">\n",
    "                <font color=\"#21618C\">\n",
    "                    <b>3a. Are there any extreme values present in the government's total expenditure on health?\n",
    " </b>\n",
    "                </font>\n",
    "            </div>\n",
    "        </td>\n",
    "    </tr>\n",
    "</table>"
   ]
  },
  {
   "cell_type": "code",
   "execution_count": 7,
   "metadata": {},
   "outputs": [
    {
     "data": {
      "text/html": [
       "<div>\n",
       "<style scoped>\n",
       "    .dataframe tbody tr th:only-of-type {\n",
       "        vertical-align: middle;\n",
       "    }\n",
       "\n",
       "    .dataframe tbody tr th {\n",
       "        vertical-align: top;\n",
       "    }\n",
       "\n",
       "    .dataframe thead th {\n",
       "        text-align: right;\n",
       "    }\n",
       "</style>\n",
       "<table border=\"1\" class=\"dataframe\">\n",
       "  <thead>\n",
       "    <tr style=\"text-align: right;\">\n",
       "      <th></th>\n",
       "      <th>count</th>\n",
       "      <th>mean</th>\n",
       "      <th>std</th>\n",
       "      <th>min</th>\n",
       "      <th>25%</th>\n",
       "      <th>50%</th>\n",
       "      <th>75%</th>\n",
       "      <th>max</th>\n",
       "    </tr>\n",
       "  </thead>\n",
       "  <tbody>\n",
       "    <tr>\n",
       "      <th>Year</th>\n",
       "      <td>2938.0</td>\n",
       "      <td>2007.518720</td>\n",
       "      <td>4.613841</td>\n",
       "      <td>2000.00000</td>\n",
       "      <td>2004.000000</td>\n",
       "      <td>2008.000000</td>\n",
       "      <td>2012.000000</td>\n",
       "      <td>2015.00000</td>\n",
       "    </tr>\n",
       "    <tr>\n",
       "      <th>Life expectancy</th>\n",
       "      <td>2928.0</td>\n",
       "      <td>69.224932</td>\n",
       "      <td>9.523867</td>\n",
       "      <td>36.30000</td>\n",
       "      <td>63.100000</td>\n",
       "      <td>72.100000</td>\n",
       "      <td>75.700000</td>\n",
       "      <td>89.00000</td>\n",
       "    </tr>\n",
       "    <tr>\n",
       "      <th>Adult mortality</th>\n",
       "      <td>2928.0</td>\n",
       "      <td>164.796448</td>\n",
       "      <td>124.292079</td>\n",
       "      <td>1.00000</td>\n",
       "      <td>74.000000</td>\n",
       "      <td>144.000000</td>\n",
       "      <td>228.000000</td>\n",
       "      <td>723.00000</td>\n",
       "    </tr>\n",
       "    <tr>\n",
       "      <th>Infant deaths</th>\n",
       "      <td>2938.0</td>\n",
       "      <td>30.303948</td>\n",
       "      <td>117.926501</td>\n",
       "      <td>0.00000</td>\n",
       "      <td>0.000000</td>\n",
       "      <td>3.000000</td>\n",
       "      <td>22.000000</td>\n",
       "      <td>1800.00000</td>\n",
       "    </tr>\n",
       "    <tr>\n",
       "      <th>Alcohol</th>\n",
       "      <td>2744.0</td>\n",
       "      <td>4.602861</td>\n",
       "      <td>4.052413</td>\n",
       "      <td>0.01000</td>\n",
       "      <td>0.877500</td>\n",
       "      <td>3.755000</td>\n",
       "      <td>7.702500</td>\n",
       "      <td>17.87000</td>\n",
       "    </tr>\n",
       "    <tr>\n",
       "      <th>Percentage expenditure</th>\n",
       "      <td>2938.0</td>\n",
       "      <td>738.251295</td>\n",
       "      <td>1987.914858</td>\n",
       "      <td>0.00000</td>\n",
       "      <td>4.685343</td>\n",
       "      <td>64.912906</td>\n",
       "      <td>441.534144</td>\n",
       "      <td>19479.91161</td>\n",
       "    </tr>\n",
       "    <tr>\n",
       "      <th>Hepatitis B</th>\n",
       "      <td>2385.0</td>\n",
       "      <td>80.940461</td>\n",
       "      <td>25.070016</td>\n",
       "      <td>1.00000</td>\n",
       "      <td>77.000000</td>\n",
       "      <td>92.000000</td>\n",
       "      <td>97.000000</td>\n",
       "      <td>99.00000</td>\n",
       "    </tr>\n",
       "    <tr>\n",
       "      <th>Measles</th>\n",
       "      <td>2938.0</td>\n",
       "      <td>2419.592240</td>\n",
       "      <td>11467.272489</td>\n",
       "      <td>0.00000</td>\n",
       "      <td>0.000000</td>\n",
       "      <td>17.000000</td>\n",
       "      <td>360.250000</td>\n",
       "      <td>212183.00000</td>\n",
       "    </tr>\n",
       "    <tr>\n",
       "      <th>BMI</th>\n",
       "      <td>2904.0</td>\n",
       "      <td>38.321247</td>\n",
       "      <td>20.044034</td>\n",
       "      <td>1.00000</td>\n",
       "      <td>19.300000</td>\n",
       "      <td>43.500000</td>\n",
       "      <td>56.200000</td>\n",
       "      <td>87.30000</td>\n",
       "    </tr>\n",
       "    <tr>\n",
       "      <th>Under-five deaths</th>\n",
       "      <td>2938.0</td>\n",
       "      <td>42.035739</td>\n",
       "      <td>160.445548</td>\n",
       "      <td>0.00000</td>\n",
       "      <td>0.000000</td>\n",
       "      <td>4.000000</td>\n",
       "      <td>28.000000</td>\n",
       "      <td>2500.00000</td>\n",
       "    </tr>\n",
       "    <tr>\n",
       "      <th>Polio</th>\n",
       "      <td>2919.0</td>\n",
       "      <td>82.550188</td>\n",
       "      <td>23.428046</td>\n",
       "      <td>3.00000</td>\n",
       "      <td>78.000000</td>\n",
       "      <td>93.000000</td>\n",
       "      <td>97.000000</td>\n",
       "      <td>99.00000</td>\n",
       "    </tr>\n",
       "    <tr>\n",
       "      <th>Total expenditure</th>\n",
       "      <td>2712.0</td>\n",
       "      <td>5.938190</td>\n",
       "      <td>2.498320</td>\n",
       "      <td>0.37000</td>\n",
       "      <td>4.260000</td>\n",
       "      <td>5.755000</td>\n",
       "      <td>7.492500</td>\n",
       "      <td>17.60000</td>\n",
       "    </tr>\n",
       "    <tr>\n",
       "      <th>Diphtheria</th>\n",
       "      <td>2919.0</td>\n",
       "      <td>82.324084</td>\n",
       "      <td>23.716912</td>\n",
       "      <td>2.00000</td>\n",
       "      <td>78.000000</td>\n",
       "      <td>93.000000</td>\n",
       "      <td>97.000000</td>\n",
       "      <td>99.00000</td>\n",
       "    </tr>\n",
       "    <tr>\n",
       "      <th>HIV/AIDS</th>\n",
       "      <td>2938.0</td>\n",
       "      <td>1.742103</td>\n",
       "      <td>5.077785</td>\n",
       "      <td>0.10000</td>\n",
       "      <td>0.100000</td>\n",
       "      <td>0.100000</td>\n",
       "      <td>0.800000</td>\n",
       "      <td>50.60000</td>\n",
       "    </tr>\n",
       "    <tr>\n",
       "      <th>GDP</th>\n",
       "      <td>2490.0</td>\n",
       "      <td>7483.158469</td>\n",
       "      <td>14270.169342</td>\n",
       "      <td>1.68135</td>\n",
       "      <td>463.935626</td>\n",
       "      <td>1766.947595</td>\n",
       "      <td>5910.806335</td>\n",
       "      <td>119172.74180</td>\n",
       "    </tr>\n",
       "    <tr>\n",
       "      <th>Thinness  1-19 years</th>\n",
       "      <td>2904.0</td>\n",
       "      <td>4.839704</td>\n",
       "      <td>4.420195</td>\n",
       "      <td>0.10000</td>\n",
       "      <td>1.600000</td>\n",
       "      <td>3.300000</td>\n",
       "      <td>7.200000</td>\n",
       "      <td>27.70000</td>\n",
       "    </tr>\n",
       "    <tr>\n",
       "      <th>Thinness 5-9 years</th>\n",
       "      <td>2904.0</td>\n",
       "      <td>4.870317</td>\n",
       "      <td>4.508882</td>\n",
       "      <td>0.10000</td>\n",
       "      <td>1.500000</td>\n",
       "      <td>3.300000</td>\n",
       "      <td>7.200000</td>\n",
       "      <td>28.60000</td>\n",
       "    </tr>\n",
       "    <tr>\n",
       "      <th>Income composition of resources</th>\n",
       "      <td>2771.0</td>\n",
       "      <td>0.627551</td>\n",
       "      <td>0.210904</td>\n",
       "      <td>0.00000</td>\n",
       "      <td>0.493000</td>\n",
       "      <td>0.677000</td>\n",
       "      <td>0.779000</td>\n",
       "      <td>0.94800</td>\n",
       "    </tr>\n",
       "    <tr>\n",
       "      <th>Schooling</th>\n",
       "      <td>2775.0</td>\n",
       "      <td>11.992793</td>\n",
       "      <td>3.358920</td>\n",
       "      <td>0.00000</td>\n",
       "      <td>10.100000</td>\n",
       "      <td>12.300000</td>\n",
       "      <td>14.300000</td>\n",
       "      <td>20.70000</td>\n",
       "    </tr>\n",
       "  </tbody>\n",
       "</table>\n",
       "</div>"
      ],
      "text/plain": [
       "                                  count         mean           std  \\\n",
       "Year                             2938.0  2007.518720      4.613841   \n",
       "Life expectancy                  2928.0    69.224932      9.523867   \n",
       "Adult mortality                  2928.0   164.796448    124.292079   \n",
       "Infant deaths                    2938.0    30.303948    117.926501   \n",
       "Alcohol                          2744.0     4.602861      4.052413   \n",
       "Percentage expenditure           2938.0   738.251295   1987.914858   \n",
       "Hepatitis B                      2385.0    80.940461     25.070016   \n",
       "Measles                          2938.0  2419.592240  11467.272489   \n",
       "BMI                              2904.0    38.321247     20.044034   \n",
       "Under-five deaths                2938.0    42.035739    160.445548   \n",
       "Polio                            2919.0    82.550188     23.428046   \n",
       "Total expenditure                2712.0     5.938190      2.498320   \n",
       "Diphtheria                       2919.0    82.324084     23.716912   \n",
       "HIV/AIDS                         2938.0     1.742103      5.077785   \n",
       "GDP                              2490.0  7483.158469  14270.169342   \n",
       "Thinness  1-19 years             2904.0     4.839704      4.420195   \n",
       "Thinness 5-9 years               2904.0     4.870317      4.508882   \n",
       "Income composition of resources  2771.0     0.627551      0.210904   \n",
       "Schooling                        2775.0    11.992793      3.358920   \n",
       "\n",
       "                                        min          25%          50%  \\\n",
       "Year                             2000.00000  2004.000000  2008.000000   \n",
       "Life expectancy                    36.30000    63.100000    72.100000   \n",
       "Adult mortality                     1.00000    74.000000   144.000000   \n",
       "Infant deaths                       0.00000     0.000000     3.000000   \n",
       "Alcohol                             0.01000     0.877500     3.755000   \n",
       "Percentage expenditure              0.00000     4.685343    64.912906   \n",
       "Hepatitis B                         1.00000    77.000000    92.000000   \n",
       "Measles                             0.00000     0.000000    17.000000   \n",
       "BMI                                 1.00000    19.300000    43.500000   \n",
       "Under-five deaths                   0.00000     0.000000     4.000000   \n",
       "Polio                               3.00000    78.000000    93.000000   \n",
       "Total expenditure                   0.37000     4.260000     5.755000   \n",
       "Diphtheria                          2.00000    78.000000    93.000000   \n",
       "HIV/AIDS                            0.10000     0.100000     0.100000   \n",
       "GDP                                 1.68135   463.935626  1766.947595   \n",
       "Thinness  1-19 years                0.10000     1.600000     3.300000   \n",
       "Thinness 5-9 years                  0.10000     1.500000     3.300000   \n",
       "Income composition of resources     0.00000     0.493000     0.677000   \n",
       "Schooling                           0.00000    10.100000    12.300000   \n",
       "\n",
       "                                         75%           max  \n",
       "Year                             2012.000000    2015.00000  \n",
       "Life expectancy                    75.700000      89.00000  \n",
       "Adult mortality                   228.000000     723.00000  \n",
       "Infant deaths                      22.000000    1800.00000  \n",
       "Alcohol                             7.702500      17.87000  \n",
       "Percentage expenditure            441.534144   19479.91161  \n",
       "Hepatitis B                        97.000000      99.00000  \n",
       "Measles                           360.250000  212183.00000  \n",
       "BMI                                56.200000      87.30000  \n",
       "Under-five deaths                  28.000000    2500.00000  \n",
       "Polio                              97.000000      99.00000  \n",
       "Total expenditure                   7.492500      17.60000  \n",
       "Diphtheria                         97.000000      99.00000  \n",
       "HIV/AIDS                            0.800000      50.60000  \n",
       "GDP                              5910.806335  119172.74180  \n",
       "Thinness  1-19 years                7.200000      27.70000  \n",
       "Thinness 5-9 years                  7.200000      28.60000  \n",
       "Income composition of resources     0.779000       0.94800  \n",
       "Schooling                          14.300000      20.70000  "
      ]
     },
     "execution_count": 7,
     "metadata": {},
     "output_type": "execute_result"
    }
   ],
   "source": [
    "# EDA with 5 number summary\n",
    "data.describe().T"
   ]
  },
  {
   "cell_type": "code",
   "execution_count": 8,
   "metadata": {},
   "outputs": [
    {
     "data": {
      "image/png": "[encoded data removed]",
      "text/plain": [
       "<Figure size 640x480 with 1 Axes>"
      ]
     },
     "metadata": {},
     "output_type": "display_data"
    }
   ],
   "source": [
    "sns.boxplot(data['Total expenditure'], orient='h')\n",
    "plt.title('Box Plot for Total expenditure variable before outliers treatment')\n",
    "plt.show()"
   ]
  },
  {
   "cell_type": "markdown",
   "metadata": {},
   "source": [
    "### Observation:\n",
    "#### Yes, there are extreme values/outliers present in column Total expenditure."
   ]
  },
  {
   "cell_type": "markdown",
   "metadata": {
    "collapsed": true
   },
   "source": [
    "<table align=\"left\">\n",
    "    <tr>\n",
    "        <td width=\"6%\">\n",
    "            <img src=\"question_icon.png\">\n",
    "        </td>\n",
    "        <td>\n",
    "            <div align=\"left\", style=\"font-size:120%\">\n",
    "                <font color=\"#21618C\">\n",
    "                    <b>3b. Remove the outliers present in 'Total expenditure' using the quartiles of the variable\t\n",
    "</b>\n",
    "                </font>\n",
    "            </div>\n",
    "        </td>\n",
    "    </tr>\n",
    "</table>"
   ]
  },
  {
   "cell_type": "code",
   "execution_count": 9,
   "metadata": {},
   "outputs": [
    {
     "name": "stdout",
     "output_type": "stream",
     "text": [
      "Checking missing for Total expenditure variable values before treatment\n"
     ]
    },
    {
     "data": {
      "text/plain": [
       "226"
      ]
     },
     "execution_count": 9,
     "metadata": {},
     "output_type": "execute_result"
    }
   ],
   "source": [
    "# Checking missing values for Total expenditure variable\n",
    "print(\"Checking missing for Total expenditure variable values before treatment\")\n",
    "data['Total expenditure'].isnull().sum()"
   ]
  },
  {
   "cell_type": "code",
   "execution_count": 10,
   "metadata": {},
   "outputs": [
    {
     "name": "stdout",
     "output_type": "stream",
     "text": [
      "Validating missing for Total expenditure variable values after treatment\n"
     ]
    },
    {
     "data": {
      "text/plain": [
       "0"
      ]
     },
     "execution_count": 10,
     "metadata": {},
     "output_type": "execute_result"
    }
   ],
   "source": [
    "# Treat missing values for Total expenditure variable\n",
    "median = data['Total expenditure'].median()\n",
    "data['Total expenditure'] = data['Total expenditure'].fillna(median)\n",
    "\n",
    "print(\"Validating missing for Total expenditure variable values after treatment\")\n",
    "data['Total expenditure'].isnull().sum()"
   ]
  },
  {
   "cell_type": "code",
   "execution_count": 11,
   "metadata": {},
   "outputs": [],
   "source": [
    "def outlier_treatment(col):\n",
    "    Q1, Q3 = np.percentile(col, [25, 75])\n",
    "    IQR = Q3 - Q1\n",
    "    lower_range = Q1 - (1.5 * IQR)\n",
    "    upper_range = Q3 + (1.5 * IQR)\n",
    "    return lower_range, upper_range"
   ]
  },
  {
   "cell_type": "code",
   "execution_count": 12,
   "metadata": {},
   "outputs": [],
   "source": [
    "lower_range, upper_range = outlier_treatment(data['Total expenditure'])\n",
    "\n",
    "data['Total expenditure'] = np.where(data['Total expenditure'] > upper_range, upper_range, data['Total expenditure'])\n",
    "data['Total expenditure'] = np.where(data['Total expenditure'] < lower_range, lower_range, data['Total expenditure'])"
   ]
  },
  {
   "cell_type": "code",
   "execution_count": 13,
   "metadata": {},
   "outputs": [
    {
     "data": {
      "image/png": "[encoded data removed]",
      "text/plain": [
       "<Figure size 640x480 with 1 Axes>"
      ]
     },
     "metadata": {},
     "output_type": "display_data"
    }
   ],
   "source": [
    "# After adjusting, replot to check the outliers\n",
    "sns.boxplot(data['Total expenditure'], orient='h')\n",
    "plt.title('Box Plot for Total expenditure variable after outlier treatment')\n",
    "plt.show()"
   ]
  },
  {
   "cell_type": "markdown",
   "metadata": {
    "collapsed": true
   },
   "source": [
    "<table align=\"left\">\n",
    "    <tr>\n",
    "        <td width=\"6%\">\n",
    "            <img src=\"question_icon.png\">\n",
    "        </td>\n",
    "        <td>\n",
    "            <div align=\"left\", style=\"font-size:120%\">\n",
    "                <font color=\"#21618C\">\n",
    "                    <b>4. Split the data such that 'X' will contain all the indepentdent variables and 'y' will contain the target variable</b>\n",
    "                </font>\n",
    "            </div>\n",
    "        </td>\n",
    "    </tr>\n",
    "</table>"
   ]
  },
  {
   "cell_type": "markdown",
   "metadata": {},
   "source": [
    "**Hint:** 'Life expectancy' is the target variable depending on the remaining variables."
   ]
  },
  {
   "cell_type": "code",
   "execution_count": 14,
   "metadata": {},
   "outputs": [],
   "source": [
    "# Copy all the predictor variables into X dataframe\n",
    "X = data.drop('Life expectancy', axis=1)\n",
    "\n",
    "# Copy target into the y dataframe. \n",
    "y = data[['Life expectancy']]"
   ]
  },
  {
   "cell_type": "markdown",
   "metadata": {
    "collapsed": true
   },
   "source": [
    "<table align=\"left\">\n",
    "    <tr>\n",
    "        <td width=\"6%\">\n",
    "            <img src=\"question_icon.png\">\n",
    "        </td>\n",
    "        <td>\n",
    "            <div align=\"left\", style=\"font-size:120%\">\n",
    "                <font color=\"#21618C\">\n",
    "                    <b>5. Split the independent variables into two sets with the proportion of 70:30</b>\n",
    "                </font>\n",
    "            </div>\n",
    "        </td>\n",
    "    </tr>\n",
    "</table>"
   ]
  },
  {
   "cell_type": "code",
   "execution_count": 15,
   "metadata": {},
   "outputs": [],
   "source": [
    "from sklearn.model_selection import train_test_split\n",
    "X_train, X_test, y_train, y_test = train_test_split(X, y, test_size=0.30 , random_state=10)"
   ]
  },
  {
   "cell_type": "markdown",
   "metadata": {
    "collapsed": true
   },
   "source": [
    "<table align=\"left\">\n",
    "    <tr>\n",
    "        <td width=\"6%\">\n",
    "            <img src=\"question_icon.png\">\n",
    "        </td>\n",
    "        <td>\n",
    "            <div align=\"left\", style=\"font-size:120%\">\n",
    "                <font color=\"#21618C\">\n",
    "                    <b>6. How would you treat the missing values in the variable 'GDP'?</b>\n",
    "                </font>\n",
    "            </div>\n",
    "        </td>\n",
    "    </tr>\n",
    "</table>"
   ]
  },
  {
   "cell_type": "code",
   "execution_count": 16,
   "metadata": {},
   "outputs": [
    {
     "name": "stdout",
     "output_type": "stream",
     "text": [
      "Checking missing for GDP variable values before treatment\n"
     ]
    },
    {
     "data": {
      "text/plain": [
       "448"
      ]
     },
     "execution_count": 16,
     "metadata": {},
     "output_type": "execute_result"
    }
   ],
   "source": [
    "# Checking missing values for GDP variable\n",
    "print(\"Checking missing for GDP variable values before treatment\")\n",
    "data['GDP'].isnull().sum()"
   ]
  },
  {
   "cell_type": "code",
   "execution_count": 17,
   "metadata": {
    "scrolled": false
   },
   "outputs": [
    {
     "data": {
      "image/png": "[encoded data removed]",
      "text/plain": [
       "<Figure size 640x480 with 1 Axes>"
      ]
     },
     "metadata": {},
     "output_type": "display_data"
    }
   ],
   "source": [
    "# Visualizing the data points for GDP Variable via Histogram\n",
    "ax = sns.histplot(data['GDP'], bins=10, kde=True)\n",
    "ax.lines[0].set_color('crimson')\n",
    "plt.title('Histogram for GDP variable' )\n",
    "plt.show()"
   ]
  },
  {
   "cell_type": "markdown",
   "metadata": {},
   "source": [
    "### Observation:\n",
    "#### As the datapoints for GDP Variable does not seem to be normally distributed from above Histogram Plot. Therefore median should be used for imputing the missing values."
   ]
  },
  {
   "cell_type": "code",
   "execution_count": 18,
   "metadata": {},
   "outputs": [
    {
     "name": "stdout",
     "output_type": "stream",
     "text": [
      "Validating missing value for Total expenditure variable values after treatment\n"
     ]
    },
    {
     "data": {
      "text/plain": [
       "0"
      ]
     },
     "execution_count": 18,
     "metadata": {},
     "output_type": "execute_result"
    }
   ],
   "source": [
    "# Treat missing values for GDP variable via median\n",
    "median = data['GDP'].median()\n",
    "data['GDP'] = data['GDP'].fillna(median)\n",
    "\n",
    "print(\"Validating missing value for Total expenditure variable values after treatment\")\n",
    "data['GDP'].isnull().sum()"
   ]
  },
  {
   "cell_type": "markdown",
   "metadata": {
    "collapsed": true
   },
   "source": [
    "<table align=\"left\">\n",
    "    <tr>\n",
    "        <td width=\"6%\">\n",
    "            <img src=\"question_icon.png\">\n",
    "        </td>\n",
    "        <td>\n",
    "            <div align=\"left\", style=\"font-size:120%\">\n",
    "                <font color=\"#21618C\">\n",
    "                    <b>7.There are 16 observations for which the status of the corresponding country is unknown, impute this status with an appropriate values</b>\n",
    "                </font>\n",
    "            </div>\n",
    "        </td>\n",
    "    </tr>\n",
    "</table>"
   ]
  },
  {
   "cell_type": "markdown",
   "metadata": {},
   "source": [
    "#### As Country is a categorical variable therefore best method to impute missing values would be using mode"
   ]
  },
  {
   "cell_type": "code",
   "execution_count": 19,
   "metadata": {},
   "outputs": [
    {
     "data": {
      "text/plain": [
       "0"
      ]
     },
     "execution_count": 19,
     "metadata": {},
     "output_type": "execute_result"
    }
   ],
   "source": [
    "mode = data['Country'].mode()[0]\n",
    "data['Country'] = data['Country'].fillna(mode)\n",
    "\n",
    "data['Country'].isnull().sum()"
   ]
  },
  {
   "cell_type": "markdown",
   "metadata": {
    "collapsed": true
   },
   "source": [
    "<table align=\"left\">\n",
    "    <tr>\n",
    "        <td width=\"6%\">\n",
    "            <img src=\"question_icon.png\">\n",
    "        </td>\n",
    "        <td>\n",
    "            <div align=\"left\", style=\"font-size:120%\">\n",
    "                <font color=\"#21618C\">\n",
    "                    <b>8. Define a function to find the extreme values in alcohol consumption\n",
    "</b>\n",
    "                </font>\n",
    "            </div>\n",
    "        </td>\n",
    "    </tr>\n",
    "</table>"
   ]
  },
  {
   "cell_type": "code",
   "execution_count": 20,
   "metadata": {},
   "outputs": [
    {
     "name": "stdout",
     "output_type": "stream",
     "text": [
      "Checking for missing values for Alcohol Consumption Variable \n"
     ]
    },
    {
     "data": {
      "text/plain": [
       "194"
      ]
     },
     "execution_count": 20,
     "metadata": {},
     "output_type": "execute_result"
    }
   ],
   "source": [
    "print(\"Checking for missing values for Alcohol Consumption Variable \")\n",
    "data['Alcohol'].isnull().sum()"
   ]
  },
  {
   "cell_type": "code",
   "execution_count": 21,
   "metadata": {},
   "outputs": [
    {
     "data": {
      "image/png": "[encoded data removed]",
      "text/plain": [
       "<Figure size 640x480 with 1 Axes>"
      ]
     },
     "metadata": {},
     "output_type": "display_data"
    }
   ],
   "source": [
    "# Visualizing the data points for Alcohol Consumption Variable via Histogram\n",
    "ax = sns.histplot(data['Alcohol'], bins=10, kde=True)\n",
    "ax.lines[0].set_color('crimson')\n",
    "plt.title('Histogram for Alcohol Consumption variable' )\n",
    "plt.show()"
   ]
  },
  {
   "cell_type": "markdown",
   "metadata": {},
   "source": [
    "### Observation:\n",
    "#### As the datapoints for Alcohol Variable does not seem to be normally distributed from above Histogram Plot.Therefore median should be used for imputing the missing values."
   ]
  },
  {
   "cell_type": "code",
   "execution_count": 22,
   "metadata": {},
   "outputs": [],
   "source": [
    "# Imputing missing values \n",
    "median = data['Alcohol'].median()\n",
    "\n",
    "data['Alcohol']= data['Alcohol'].fillna(median)"
   ]
  },
  {
   "cell_type": "code",
   "execution_count": 23,
   "metadata": {},
   "outputs": [
    {
     "name": "stdout",
     "output_type": "stream",
     "text": [
      "Validating missing values Alcohol Consumption Variable after treament \n"
     ]
    },
    {
     "data": {
      "text/plain": [
       "0"
      ]
     },
     "execution_count": 23,
     "metadata": {},
     "output_type": "execute_result"
    }
   ],
   "source": [
    "print(\"Validating missing values Alcohol Consumption Variable after treament \")\n",
    "data['Alcohol'].isnull().sum()"
   ]
  },
  {
   "cell_type": "code",
   "execution_count": 24,
   "metadata": {},
   "outputs": [],
   "source": [
    "def extreme(col):\n",
    "    Q1, Q3 = np.percentile(col, [25, 75])\n",
    "    IQR = Q3 - Q1\n",
    "    lower_range = Q1 - (1.5 * IQR)\n",
    "    upper_range = Q3 + (1.5 * IQR)\n",
    "    return lower_range, upper_range,Q1,Q3, IQR"
   ]
  },
  {
   "cell_type": "code",
   "execution_count": 25,
   "metadata": {},
   "outputs": [
    {
     "name": "stdout",
     "output_type": "stream",
     "text": [
      "Lower Extreme Value in Alcohol Consumption in Litres: -8.35375\n",
      "Higher Extreme Value in Alcohol Consumption in Litres: 16.83625\n",
      "Q1: 1.0925\n",
      "Q3: 7.39\n",
      "IQR: 6.297499999999999\n"
     ]
    }
   ],
   "source": [
    "l,u,q1,q3,iqr = extreme(data['Alcohol'])\n",
    "\n",
    "print(\"Lower Extreme Value in Alcohol Consumption in Litres:\",l)\n",
    "print(\"Higher Extreme Value in Alcohol Consumption in Litres:\",u)\n",
    "print(\"Q1:\",q1)\n",
    "print(\"Q3:\",q3)\n",
    "print(\"IQR:\",iqr)"
   ]
  },
  {
   "cell_type": "markdown",
   "metadata": {
    "collapsed": true
   },
   "source": [
    "<table align=\"left\">\n",
    "    <tr>\n",
    "        <td width=\"6%\">\n",
    "            <img src=\"question_icon.png\">\n",
    "        </td>\n",
    "        <td>\n",
    "            <div align=\"left\", style=\"font-size:120%\">\n",
    "                <font color=\"#21618C\">\n",
    "                    <b>9. Create a column 'Life_expectancy_level' such that it will contain three levels (High, Medium, Low) based on the life expectancy </b>\n",
    "                </font>\n",
    "            </div>\n",
    "        </td>\n",
    "    </tr>\n",
    "</table>"
   ]
  },
  {
   "cell_type": "code",
   "execution_count": 26,
   "metadata": {},
   "outputs": [],
   "source": [
    "conditions = [\n",
    "        (data['Life expectancy'] < 35),\n",
    "        (data['Life expectancy'] >= 35) & (data['Life expectancy'] < 65),\n",
    "        (data['Life expectancy'] >= 65)\n",
    "    ]\n",
    "choices = ['Low', 'Medium', 'High']\n",
    "\n",
    "data['Life_expectancy_level'] = np.select(conditions, choices, default='Unknown')"
   ]
  },
  {
   "cell_type": "code",
   "execution_count": 27,
   "metadata": {},
   "outputs": [
    {
     "data": {
      "text/html": [
       "<div>\n",
       "<style scoped>\n",
       "    .dataframe tbody tr th:only-of-type {\n",
       "        vertical-align: middle;\n",
       "    }\n",
       "\n",
       "    .dataframe tbody tr th {\n",
       "        vertical-align: top;\n",
       "    }\n",
       "\n",
       "    .dataframe thead th {\n",
       "        text-align: right;\n",
       "    }\n",
       "</style>\n",
       "<table border=\"1\" class=\"dataframe\">\n",
       "  <thead>\n",
       "    <tr style=\"text-align: right;\">\n",
       "      <th></th>\n",
       "      <th>Life expectancy</th>\n",
       "      <th>Life_expectancy_level</th>\n",
       "    </tr>\n",
       "  </thead>\n",
       "  <tbody>\n",
       "    <tr>\n",
       "      <th>0</th>\n",
       "      <td>65.0</td>\n",
       "      <td>High</td>\n",
       "    </tr>\n",
       "    <tr>\n",
       "      <th>1</th>\n",
       "      <td>59.9</td>\n",
       "      <td>Medium</td>\n",
       "    </tr>\n",
       "    <tr>\n",
       "      <th>2</th>\n",
       "      <td>59.9</td>\n",
       "      <td>Medium</td>\n",
       "    </tr>\n",
       "    <tr>\n",
       "      <th>3</th>\n",
       "      <td>59.5</td>\n",
       "      <td>Medium</td>\n",
       "    </tr>\n",
       "    <tr>\n",
       "      <th>4</th>\n",
       "      <td>59.2</td>\n",
       "      <td>Medium</td>\n",
       "    </tr>\n",
       "  </tbody>\n",
       "</table>\n",
       "</div>"
      ],
      "text/plain": [
       "   Life expectancy Life_expectancy_level\n",
       "0             65.0                  High\n",
       "1             59.9                Medium\n",
       "2             59.9                Medium\n",
       "3             59.5                Medium\n",
       "4             59.2                Medium"
      ]
     },
     "execution_count": 27,
     "metadata": {},
     "output_type": "execute_result"
    }
   ],
   "source": [
    "data[['Life expectancy', 'Life_expectancy_level']].head()"
   ]
  },
  {
   "cell_type": "markdown",
   "metadata": {
    "collapsed": true
   },
   "source": [
    "<table align=\"left\">\n",
    "    <tr>\n",
    "        <td width=\"6%\">\n",
    "            <img src=\"question_icon.png\">\n",
    "        </td>\n",
    "        <td>\n",
    "            <div align=\"left\", style=\"font-size:120%\">\n",
    "                <font color=\"#21618C\">\n",
    "                    <b>10. Check how life expectancy has changed over the years in China</b>\n",
    "                </font>\n",
    "            </div>\n",
    "        </td>\n",
    "    </tr>\n",
    "</table>"
   ]
  },
  {
   "cell_type": "code",
   "execution_count": 28,
   "metadata": {},
   "outputs": [],
   "source": [
    "china_data = data[data['Country'] == 'China']"
   ]
  },
  {
   "cell_type": "code",
   "execution_count": 29,
   "metadata": {},
   "outputs": [
    {
     "data": {
      "image/png": "[encoded data removed]",
      "text/plain": [
       "<Figure size 640x480 with 1 Axes>"
      ]
     },
     "metadata": {},
     "output_type": "display_data"
    }
   ],
   "source": [
    "sns.lineplot(data=china_data, x='Year', y='Life expectancy', marker='o')\n",
    "plt.title('Life Expectancy Over the Years in China')\n",
    "plt.xlabel('Year')\n",
    "plt.ylabel('Life Expectancy')\n",
    "plt.grid(True)\n",
    "plt.show()"
   ]
  },
  {
   "cell_type": "markdown",
   "metadata": {},
   "source": [
    "### Observation: \n",
    "#### From the above Line Plot it appears that Life Expectancy has increased over the years in China."
   ]
  },
  {
   "cell_type": "markdown",
   "metadata": {},
   "source": [
    "### About the dataset (Iris Data)\n",
    "\n",
    "The dataset contains the information of the three different species of the iris flower. The dataset contains values of four features (sepal length, sepal width, petal length, and petal width) of each flower and the species of iris.\n",
    "\n",
    "Attribute Information:\n",
    "\n",
    "**sepal length:** Sepal length of a flower in cm\n",
    "\n",
    "**sepal width:** Sepal width of a flower in cm\n",
    "\n",
    "**petal length:** Petal length of a flower in cm\n",
    "\n",
    "**petal width:** Petal width of a flower in cm\n",
    "\n",
    "**class:** Species of the iris flower"
   ]
  },
  {
   "cell_type": "markdown",
   "metadata": {},
   "source": [
    "#### Import the required libraries"
   ]
  },
  {
   "cell_type": "code",
   "execution_count": 30,
   "metadata": {},
   "outputs": [],
   "source": [
    "import numpy as np\n",
    "import pandas as pd\n",
    "import matplotlib.pyplot as plt\n",
    "import seaborn as sns"
   ]
  },
  {
   "cell_type": "markdown",
   "metadata": {},
   "source": [
    "#### Load the iris dataset and print the first five observations"
   ]
  },
  {
   "cell_type": "code",
   "execution_count": 31,
   "metadata": {},
   "outputs": [],
   "source": [
    "df = pd.read_csv('flower_types.csv')"
   ]
  },
  {
   "cell_type": "code",
   "execution_count": 32,
   "metadata": {},
   "outputs": [
    {
     "data": {
      "text/html": [
       "<div>\n",
       "<style scoped>\n",
       "    .dataframe tbody tr th:only-of-type {\n",
       "        vertical-align: middle;\n",
       "    }\n",
       "\n",
       "    .dataframe tbody tr th {\n",
       "        vertical-align: top;\n",
       "    }\n",
       "\n",
       "    .dataframe thead th {\n",
       "        text-align: right;\n",
       "    }\n",
       "</style>\n",
       "<table border=\"1\" class=\"dataframe\">\n",
       "  <thead>\n",
       "    <tr style=\"text-align: right;\">\n",
       "      <th></th>\n",
       "      <th>sepal length</th>\n",
       "      <th>sepal width</th>\n",
       "      <th>petal length</th>\n",
       "      <th>petal width</th>\n",
       "      <th>class</th>\n",
       "    </tr>\n",
       "  </thead>\n",
       "  <tbody>\n",
       "    <tr>\n",
       "      <th>0</th>\n",
       "      <td>5.1</td>\n",
       "      <td>3.5</td>\n",
       "      <td>1.4</td>\n",
       "      <td>0.2</td>\n",
       "      <td>setosa</td>\n",
       "    </tr>\n",
       "    <tr>\n",
       "      <th>1</th>\n",
       "      <td>4.9</td>\n",
       "      <td>3.0</td>\n",
       "      <td>1.4</td>\n",
       "      <td>0.2</td>\n",
       "      <td>setosa</td>\n",
       "    </tr>\n",
       "    <tr>\n",
       "      <th>2</th>\n",
       "      <td>4.7</td>\n",
       "      <td>3.2</td>\n",
       "      <td>1.3</td>\n",
       "      <td>0.2</td>\n",
       "      <td>setosa</td>\n",
       "    </tr>\n",
       "    <tr>\n",
       "      <th>3</th>\n",
       "      <td>4.6</td>\n",
       "      <td>3.1</td>\n",
       "      <td>1.5</td>\n",
       "      <td>0.2</td>\n",
       "      <td>setosa</td>\n",
       "    </tr>\n",
       "    <tr>\n",
       "      <th>4</th>\n",
       "      <td>5.0</td>\n",
       "      <td>3.6</td>\n",
       "      <td>1.4</td>\n",
       "      <td>0.2</td>\n",
       "      <td>setosa</td>\n",
       "    </tr>\n",
       "  </tbody>\n",
       "</table>\n",
       "</div>"
      ],
      "text/plain": [
       "   sepal length  sepal width  petal length  petal width   class\n",
       "0           5.1          3.5           1.4          0.2  setosa\n",
       "1           4.9          3.0           1.4          0.2  setosa\n",
       "2           4.7          3.2           1.3          0.2  setosa\n",
       "3           4.6          3.1           1.5          0.2  setosa\n",
       "4           5.0          3.6           1.4          0.2  setosa"
      ]
     },
     "execution_count": 32,
     "metadata": {},
     "output_type": "execute_result"
    }
   ],
   "source": [
    "df.head()"
   ]
  },
  {
   "cell_type": "code",
   "execution_count": 33,
   "metadata": {},
   "outputs": [
    {
     "data": {
      "text/plain": [
       "150"
      ]
     },
     "execution_count": 33,
     "metadata": {},
     "output_type": "execute_result"
    }
   ],
   "source": [
    "len(df)"
   ]
  },
  {
   "cell_type": "markdown",
   "metadata": {},
   "source": [
    "<table align=\"left\">\n",
    "    <tr>\n",
    "        <td width=\"6%\">\n",
    "            <img src=\"question_icon.png\">\n",
    "        </td>\n",
    "        <td>\n",
    "            <div align=\"left\", style=\"font-size:120%\">\n",
    "                <font color=\"#21618C\">\n",
    "                    <b>11. Create two dummy variables for the unique categories of flower species</b>\n",
    "                </font>\n",
    "            </div>\n",
    "        </td>\n",
    "    </tr>\n",
    "</table>"
   ]
  },
  {
   "cell_type": "code",
   "execution_count": 34,
   "metadata": {},
   "outputs": [],
   "source": [
    "# Segregate Categorical and Numerical Variables\n",
    "\n",
    "df_num = df.select_dtypes(include=['float64'])\n",
    "df_cat = df.select_dtypes(include=['object'])"
   ]
  },
  {
   "cell_type": "code",
   "execution_count": 35,
   "metadata": {},
   "outputs": [
    {
     "data": {
      "text/plain": [
       "array(['setosa', 'versicolor', 'virginica'], dtype=object)"
      ]
     },
     "execution_count": 35,
     "metadata": {},
     "output_type": "execute_result"
    }
   ],
   "source": [
    "# Checking the different catgories \n",
    "df_cat['class'].unique()"
   ]
  },
  {
   "cell_type": "markdown",
   "metadata": {},
   "source": [
    "### Observation:\n",
    "#### There are 3 catgeories under class unique categories of flower species.Therefore we can perform one-hot encoding with 2 varaiables."
   ]
  },
  {
   "cell_type": "code",
   "execution_count": 36,
   "metadata": {},
   "outputs": [],
   "source": [
    "# Dummy Encoding for Categorical Variable class which is unique categories of flower species\n",
    "dummy_var = pd.get_dummies(data=df_cat, drop_first=True)"
   ]
  },
  {
   "cell_type": "code",
   "execution_count": 37,
   "metadata": {},
   "outputs": [
    {
     "data": {
      "text/html": [
       "<div>\n",
       "<style scoped>\n",
       "    .dataframe tbody tr th:only-of-type {\n",
       "        vertical-align: middle;\n",
       "    }\n",
       "\n",
       "    .dataframe tbody tr th {\n",
       "        vertical-align: top;\n",
       "    }\n",
       "\n",
       "    .dataframe thead th {\n",
       "        text-align: right;\n",
       "    }\n",
       "</style>\n",
       "<table border=\"1\" class=\"dataframe\">\n",
       "  <thead>\n",
       "    <tr style=\"text-align: right;\">\n",
       "      <th></th>\n",
       "      <th>class_versicolor</th>\n",
       "      <th>class_virginica</th>\n",
       "    </tr>\n",
       "  </thead>\n",
       "  <tbody>\n",
       "    <tr>\n",
       "      <th>0</th>\n",
       "      <td>False</td>\n",
       "      <td>False</td>\n",
       "    </tr>\n",
       "    <tr>\n",
       "      <th>1</th>\n",
       "      <td>False</td>\n",
       "      <td>False</td>\n",
       "    </tr>\n",
       "    <tr>\n",
       "      <th>2</th>\n",
       "      <td>False</td>\n",
       "      <td>False</td>\n",
       "    </tr>\n",
       "    <tr>\n",
       "      <th>3</th>\n",
       "      <td>False</td>\n",
       "      <td>False</td>\n",
       "    </tr>\n",
       "    <tr>\n",
       "      <th>4</th>\n",
       "      <td>False</td>\n",
       "      <td>False</td>\n",
       "    </tr>\n",
       "  </tbody>\n",
       "</table>\n",
       "</div>"
      ],
      "text/plain": [
       "   class_versicolor  class_virginica\n",
       "0             False            False\n",
       "1             False            False\n",
       "2             False            False\n",
       "3             False            False\n",
       "4             False            False"
      ]
     },
     "execution_count": 37,
     "metadata": {},
     "output_type": "execute_result"
    }
   ],
   "source": [
    "dummy_var.head()"
   ]
  },
  {
   "cell_type": "markdown",
   "metadata": {},
   "source": [
    "<table align=\"left\">\n",
    "    <tr>\n",
    "        <td width=\"6%\">\n",
    "            <img src=\"question_icon.png\">\n",
    "        </td>\n",
    "        <td>\n",
    "            <div align=\"left\", style=\"font-size:120%\">\n",
    "                <font color=\"#21618C\">\n",
    "                    <b>12. Is it appropriate to perform the frequency encoding on flower species? Give a suitable reason for your response\n",
    "                    </b>\n",
    "                </font>\n",
    "            </div>\n",
    "        </td>\n",
    "    </tr>\n",
    "</table>"
   ]
  },
  {
   "cell_type": "code",
   "execution_count": 38,
   "metadata": {},
   "outputs": [
    {
     "name": "stdout",
     "output_type": "stream",
     "text": [
      "Categories of flower class: ['setosa' 'versicolor' 'virginica']\n"
     ]
    }
   ],
   "source": [
    "print(\"Categories of flower class:\",df_cat['class'].unique())"
   ]
  },
  {
   "cell_type": "markdown",
   "metadata": {},
   "source": [
    "### Observation:\n",
    "###### The frequency encoding technique can be beneficial when dealing with categorical data that has many levels and where the frequency of these categories could be informative for the model.\n",
    "\n",
    "#### Frequency encoding might help models learn patterns and differentiate between common and rare species based on their frequency. \n",
    "\n",
    "#### It potentially reduces the risk of overfitting in other types of encodings (like one-hot encoding) can be grouped under similar low frequency values.\n",
    "\n",
    "#### If the dataset has a very skewed distribution of species—where some species are very common and others are extremely rare, frequency encoding can provide meaningful information.\n",
    "\n",
    "\n",
    "#### In this case as there are just 3 categories of flower class and 150 rows, therefore we can continue with one-hot encoding method as it does not increase dimensionality too much.\n"
   ]
  },
  {
   "cell_type": "markdown",
   "metadata": {},
   "source": [
    "<table align=\"left\">\n",
    "    <tr>\n",
    "        <td width=\"6%\">\n",
    "            <img src=\"question_icon.png\">\n",
    "        </td>\n",
    "        <td>\n",
    "            <div align=\"left\", style=\"font-size:120%\">\n",
    "                <font color=\"#21618C\">\n",
    "                    <b>13. Does the petal width range from zero to one? If not, transform the values such that they lie between 0 and 1\n",
    "                    </b>\n",
    "                </font>\n",
    "            </div>\n",
    "        </td>\n",
    "    </tr>\n",
    "</table>"
   ]
  },
  {
   "cell_type": "code",
   "execution_count": 39,
   "metadata": {},
   "outputs": [
    {
     "name": "stdout",
     "output_type": "stream",
     "text": [
      "Checking the petal width range:\n",
      "Minimum petal width: 0.1\n",
      "Maximum petal width: 2.5\n"
     ]
    }
   ],
   "source": [
    "print(\"Checking the petal width range:\")\n",
    "print(\"Minimum petal width:\", df['petal width'].min())\n",
    "print(\"Maximum petal width:\", df['petal width'].max())"
   ]
  },
  {
   "cell_type": "markdown",
   "metadata": {},
   "source": [
    "### Observation:\n",
    "#### The petal width does not range between 0 to 1. We need to transform values to lie between 0 and 1."
   ]
  },
  {
   "cell_type": "code",
   "execution_count": 40,
   "metadata": {},
   "outputs": [],
   "source": [
    "# Scaling the petal width variable values between 0 to 1.\n",
    "df['petal width'] = (df['petal width'] - df['petal width'].min()) / (df['petal width'].max() - df['petal width'].min())"
   ]
  },
  {
   "cell_type": "code",
   "execution_count": 41,
   "metadata": {},
   "outputs": [
    {
     "name": "stdout",
     "output_type": "stream",
     "text": [
      "Validating the petal width range after transformation:\n",
      "Minimum petal width: 0.0\n",
      "Maximum petal width: 1.0\n"
     ]
    }
   ],
   "source": [
    "print(\"Validating the petal width range after transformation:\")\n",
    "print(\"Minimum petal width:\", df['petal width'].min())\n",
    "print(\"Maximum petal width:\", df['petal width'].max())"
   ]
  },
  {
   "cell_type": "markdown",
   "metadata": {},
   "source": [
    "<table align=\"left\">\n",
    "    <tr>\n",
    "        <td width=\"6%\">\n",
    "            <img src=\"question_icon.png\">\n",
    "        </td>\n",
    "        <td>\n",
    "            <div align=\"left\", style=\"font-size:120%\">\n",
    "                <font color=\"#21618C\">\n",
    "                    <b>14. Construct a boolean matrix such that it returns 'True' for correlation greater than 0.8</b>\n",
    "                </font>\n",
    "            </div>\n",
    "        </td>\n",
    "    </tr>\n",
    "</table>"
   ]
  },
  {
   "cell_type": "code",
   "execution_count": 42,
   "metadata": {},
   "outputs": [
    {
     "name": "stdout",
     "output_type": "stream",
     "text": [
      "Correlation Matrix:\n",
      "               sepal length  sepal width  petal length  petal width\n",
      "sepal length      1.000000    -0.109369      0.871754     0.817954\n",
      "sepal width      -0.109369     1.000000     -0.420516    -0.356544\n",
      "petal length      0.871754    -0.420516      1.000000     0.962757\n",
      "petal width       0.817954    -0.356544      0.962757     1.000000\n",
      "\n",
      "Boolean Matrix (Correlation > 0.8):\n",
      "               sepal length  sepal width  petal length  petal width\n",
      "sepal length          True        False          True         True\n",
      "sepal width          False         True         False        False\n",
      "petal length          True        False          True         True\n",
      "petal width           True        False          True         True\n"
     ]
    }
   ],
   "source": [
    "corr_matrix = df_num.corr()\n",
    "print(\"Correlation Matrix:\\n\", corr_matrix)\n",
    "\n",
    "# Create boolean matrix for correlations greater than 0.8\n",
    "bool_matrix = corr_matrix > 0.8\n",
    "print(\"\\nBoolean Matrix (Correlation > 0.8):\\n\", bool_matrix)"
   ]
  },
  {
   "cell_type": "markdown",
   "metadata": {},
   "source": [
    "<table align=\"left\">\n",
    "    <tr>\n",
    "        <td width=\"6%\">\n",
    "            <img src=\"question_icon.png\">\n",
    "        </td>\n",
    "        <td>\n",
    "            <div align=\"left\", style=\"font-size:120%\">\n",
    "                <font color=\"#21618C\">\n",
    "                    <b>15. Label the class of each flower with the integer values from 0 to 2</b>\n",
    "                </font>\n",
    "            </div>\n",
    "        </td>\n",
    "    </tr>\n",
    "</table>"
   ]
  },
  {
   "cell_type": "code",
   "execution_count": 43,
   "metadata": {},
   "outputs": [
    {
     "data": {
      "text/html": [
       "<div>\n",
       "<style scoped>\n",
       "    .dataframe tbody tr th:only-of-type {\n",
       "        vertical-align: middle;\n",
       "    }\n",
       "\n",
       "    .dataframe tbody tr th {\n",
       "        vertical-align: top;\n",
       "    }\n",
       "\n",
       "    .dataframe thead th {\n",
       "        text-align: right;\n",
       "    }\n",
       "</style>\n",
       "<table border=\"1\" class=\"dataframe\">\n",
       "  <thead>\n",
       "    <tr style=\"text-align: right;\">\n",
       "      <th></th>\n",
       "      <th>sepal length</th>\n",
       "      <th>sepal width</th>\n",
       "      <th>petal length</th>\n",
       "      <th>petal width</th>\n",
       "      <th>class</th>\n",
       "      <th>label class</th>\n",
       "    </tr>\n",
       "  </thead>\n",
       "  <tbody>\n",
       "    <tr>\n",
       "      <th>0</th>\n",
       "      <td>5.1</td>\n",
       "      <td>3.5</td>\n",
       "      <td>1.4</td>\n",
       "      <td>0.041667</td>\n",
       "      <td>setosa</td>\n",
       "      <td>0</td>\n",
       "    </tr>\n",
       "    <tr>\n",
       "      <th>1</th>\n",
       "      <td>4.9</td>\n",
       "      <td>3.0</td>\n",
       "      <td>1.4</td>\n",
       "      <td>0.041667</td>\n",
       "      <td>setosa</td>\n",
       "      <td>0</td>\n",
       "    </tr>\n",
       "    <tr>\n",
       "      <th>2</th>\n",
       "      <td>4.7</td>\n",
       "      <td>3.2</td>\n",
       "      <td>1.3</td>\n",
       "      <td>0.041667</td>\n",
       "      <td>setosa</td>\n",
       "      <td>0</td>\n",
       "    </tr>\n",
       "    <tr>\n",
       "      <th>3</th>\n",
       "      <td>4.6</td>\n",
       "      <td>3.1</td>\n",
       "      <td>1.5</td>\n",
       "      <td>0.041667</td>\n",
       "      <td>setosa</td>\n",
       "      <td>0</td>\n",
       "    </tr>\n",
       "    <tr>\n",
       "      <th>4</th>\n",
       "      <td>5.0</td>\n",
       "      <td>3.6</td>\n",
       "      <td>1.4</td>\n",
       "      <td>0.041667</td>\n",
       "      <td>setosa</td>\n",
       "      <td>0</td>\n",
       "    </tr>\n",
       "  </tbody>\n",
       "</table>\n",
       "</div>"
      ],
      "text/plain": [
       "   sepal length  sepal width  petal length  petal width   class  label class\n",
       "0           5.1          3.5           1.4     0.041667  setosa            0\n",
       "1           4.9          3.0           1.4     0.041667  setosa            0\n",
       "2           4.7          3.2           1.3     0.041667  setosa            0\n",
       "3           4.6          3.1           1.5     0.041667  setosa            0\n",
       "4           5.0          3.6           1.4     0.041667  setosa            0"
      ]
     },
     "execution_count": 43,
     "metadata": {},
     "output_type": "execute_result"
    }
   ],
   "source": [
    "from sklearn.preprocessing import LabelEncoder\n",
    "\n",
    "# Initializing label encoder\n",
    "le = LabelEncoder()\n",
    "\n",
    "# Applying label encoding to the dataframe\n",
    "df['label class'] = le.fit_transform(df['class'])\n",
    "\n",
    "df.head()"
   ]
  },
  {
   "cell_type": "code",
   "execution_count": 44,
   "metadata": {},
   "outputs": [
    {
     "name": "stdout",
     "output_type": "stream",
     "text": [
      "label class\n",
      "0    50\n",
      "1    50\n",
      "2    50\n",
      "Name: count, dtype: int64\n"
     ]
    }
   ],
   "source": [
    "category_counts = df['label class'].value_counts()\n",
    "print(category_counts)"
   ]
  },
  {
   "cell_type": "code",
   "execution_count": null,
   "metadata": {},
   "outputs": [],
   "source": []
  }
 ],
 "metadata": {
  "kernelspec": {
   "display_name": "Python 3 (ipykernel)",
   "language": "python",
   "name": "python3"
  },
  "language_info": {
   "codemirror_mode": {
    "name": "ipython",
    "version": 3
   },
   "file_extension": ".py",
   "mimetype": "text/x-python",
   "name": "python",
   "nbconvert_exporter": "python",
   "pygments_lexer": "ipython3",
   "version": "3.11.10"
  }
 },
 "nbformat": 4,
 "nbformat_minor": 2
}
