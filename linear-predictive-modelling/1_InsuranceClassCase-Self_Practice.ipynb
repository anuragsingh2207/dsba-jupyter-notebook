{
 "cells": [
  {
   "cell_type": "markdown",
   "metadata": {},
   "source": [
    "# Problem Statement\n",
    "A key challenge for the insurance industry is to charge each customer an appropriate premium for the risk they represent. The ability to predict a correct claim amount has a significant impact on insurer's management decisions and financial statements. Predicting the cost of claims in an insurance company is a real-life problem that needs to be solved in a more accurate and automated way. Several factors determine the cost of claims based on health factors like BMI, age, smoker, health conditions and others. Insurance companies apply numerous techniques for analyzing and predicting health insurance costs"
   ]
  },
  {
   "cell_type": "markdown",
   "metadata": {},
   "source": [
    "# Data Definition\n",
    "\n",
    "**age** : Age of the policyholder (Numeric)\n",
    "\n",
    "**sex:** Gender of policyholder (Categoric)\n",
    "\n",
    "**weight:** Weight of the policyholder (Numeric)\n",
    "\n",
    "**bmi**: Body mass index, providing an understanding of body, weights that are relatively high or low relative to height, objective index of body weight (kg / m ^ 2) using the ratio of height to weight (Numeric)\n",
    "\n",
    "**no_of_dependents:** Number of dependent persons on the policyholder (Numeric)\n",
    "\n",
    "**smoker:** Indicates policyholder is a smoker or a non-smoker (non-smoker=0;smoker=1) (Categoric)\n",
    "\n",
    "**claim:** The amount claimed by the policyholder (Numeric)\n",
    "\n",
    "**bloodpressure:** Bloodpressure reading of policyholder (Numeric)\n",
    "\n",
    "**diabetes:** Indicates policyholder suffers from diabetes or not (non-diabetic=0; diabetic=1) (Categoric)\n",
    "\n",
    "**regular_ex:** A policyholder regularly excercises or not (no-excercise=0; excercise=1) (Categoric)\n",
    "\n",
    "**job_title:** Job profile of the policyholder (Categoric)\n",
    "\n",
    "**city:** The city in which the policyholder resides (Categoric)\n",
    "\n",
    "**hereditary_diseases:**  A policyholder suffering from a hereditary diseases or not (Categoric)"
   ]
  },
  {
   "cell_type": "code",
   "execution_count": 1,
   "metadata": {},
   "outputs": [],
   "source": [
    "import numpy as np\n",
    "import pandas as pd\n",
    "import matplotlib.pyplot as plt\n",
    "import seaborn as sns\n",
    "\n",
    "from sklearn.linear_model import LinearRegression\n",
    "from sklearn.preprocessing import StandardScaler \n",
    "from sklearn.model_selection import train_test_split"
   ]
  },
  {
   "cell_type": "code",
   "execution_count": 2,
   "metadata": {},
   "outputs": [],
   "source": [
    "df = pd.read_csv('./Dataset/healthinsurance.csv')"
   ]
  },
  {
   "cell_type": "code",
   "execution_count": 3,
   "metadata": {},
   "outputs": [
    {
     "data": {
      "text/html": [
       "<div>\n",
       "<style scoped>\n",
       "    .dataframe tbody tr th:only-of-type {\n",
       "        vertical-align: middle;\n",
       "    }\n",
       "\n",
       "    .dataframe tbody tr th {\n",
       "        vertical-align: top;\n",
       "    }\n",
       "\n",
       "    .dataframe thead th {\n",
       "        text-align: right;\n",
       "    }\n",
       "</style>\n",
       "<table border=\"1\" class=\"dataframe\">\n",
       "  <thead>\n",
       "    <tr style=\"text-align: right;\">\n",
       "      <th></th>\n",
       "      <th>age</th>\n",
       "      <th>sex</th>\n",
       "      <th>weight</th>\n",
       "      <th>bmi</th>\n",
       "      <th>hereditary_diseases</th>\n",
       "      <th>no_of_dependents</th>\n",
       "      <th>smoker</th>\n",
       "      <th>city</th>\n",
       "      <th>bloodpressure</th>\n",
       "      <th>diabetes</th>\n",
       "      <th>regular_ex</th>\n",
       "      <th>job_title</th>\n",
       "      <th>claim</th>\n",
       "    </tr>\n",
       "  </thead>\n",
       "  <tbody>\n",
       "    <tr>\n",
       "      <th>0</th>\n",
       "      <td>60.0</td>\n",
       "      <td>male</td>\n",
       "      <td>64</td>\n",
       "      <td>24.3</td>\n",
       "      <td>NoDisease</td>\n",
       "      <td>1</td>\n",
       "      <td>0</td>\n",
       "      <td>NewYork</td>\n",
       "      <td>72</td>\n",
       "      <td>0</td>\n",
       "      <td>0</td>\n",
       "      <td>Actor</td>\n",
       "      <td>13112.6</td>\n",
       "    </tr>\n",
       "    <tr>\n",
       "      <th>1</th>\n",
       "      <td>49.0</td>\n",
       "      <td>female</td>\n",
       "      <td>75</td>\n",
       "      <td>22.6</td>\n",
       "      <td>NoDisease</td>\n",
       "      <td>1</td>\n",
       "      <td>0</td>\n",
       "      <td>Boston</td>\n",
       "      <td>78</td>\n",
       "      <td>1</td>\n",
       "      <td>1</td>\n",
       "      <td>Engineer</td>\n",
       "      <td>9567.0</td>\n",
       "    </tr>\n",
       "    <tr>\n",
       "      <th>2</th>\n",
       "      <td>32.0</td>\n",
       "      <td>female</td>\n",
       "      <td>64</td>\n",
       "      <td>17.8</td>\n",
       "      <td>Epilepsy</td>\n",
       "      <td>2</td>\n",
       "      <td>1</td>\n",
       "      <td>Phildelphia</td>\n",
       "      <td>88</td>\n",
       "      <td>1</td>\n",
       "      <td>1</td>\n",
       "      <td>Academician</td>\n",
       "      <td>32734.2</td>\n",
       "    </tr>\n",
       "    <tr>\n",
       "      <th>3</th>\n",
       "      <td>61.0</td>\n",
       "      <td>female</td>\n",
       "      <td>53</td>\n",
       "      <td>36.4</td>\n",
       "      <td>NoDisease</td>\n",
       "      <td>1</td>\n",
       "      <td>1</td>\n",
       "      <td>Pittsburg</td>\n",
       "      <td>72</td>\n",
       "      <td>1</td>\n",
       "      <td>0</td>\n",
       "      <td>Chef</td>\n",
       "      <td>48517.6</td>\n",
       "    </tr>\n",
       "    <tr>\n",
       "      <th>4</th>\n",
       "      <td>19.0</td>\n",
       "      <td>female</td>\n",
       "      <td>50</td>\n",
       "      <td>20.6</td>\n",
       "      <td>NoDisease</td>\n",
       "      <td>0</td>\n",
       "      <td>0</td>\n",
       "      <td>Buffalo</td>\n",
       "      <td>82</td>\n",
       "      <td>1</td>\n",
       "      <td>0</td>\n",
       "      <td>HomeMakers</td>\n",
       "      <td>1731.7</td>\n",
       "    </tr>\n",
       "  </tbody>\n",
       "</table>\n",
       "</div>"
      ],
      "text/plain": [
       "    age     sex  weight   bmi hereditary_diseases  no_of_dependents  smoker  \\\n",
       "0  60.0    male      64  24.3           NoDisease                 1       0   \n",
       "1  49.0  female      75  22.6           NoDisease                 1       0   \n",
       "2  32.0  female      64  17.8            Epilepsy                 2       1   \n",
       "3  61.0  female      53  36.4           NoDisease                 1       1   \n",
       "4  19.0  female      50  20.6           NoDisease                 0       0   \n",
       "\n",
       "          city  bloodpressure  diabetes  regular_ex    job_title    claim  \n",
       "0      NewYork             72         0           0        Actor  13112.6  \n",
       "1       Boston             78         1           1     Engineer   9567.0  \n",
       "2  Phildelphia             88         1           1  Academician  32734.2  \n",
       "3    Pittsburg             72         1           0         Chef  48517.6  \n",
       "4      Buffalo             82         1           0   HomeMakers   1731.7  "
      ]
     },
     "execution_count": 3,
     "metadata": {},
     "output_type": "execute_result"
    }
   ],
   "source": [
    "df.head()"
   ]
  },
  {
   "cell_type": "code",
   "execution_count": 4,
   "metadata": {},
   "outputs": [
    {
     "data": {
      "text/plain": [
       "age                    float64\n",
       "sex                     object\n",
       "weight                   int64\n",
       "bmi                    float64\n",
       "hereditary_diseases     object\n",
       "no_of_dependents         int64\n",
       "smoker                   int64\n",
       "city                    object\n",
       "bloodpressure            int64\n",
       "diabetes                 int64\n",
       "regular_ex               int64\n",
       "job_title               object\n",
       "claim                  float64\n",
       "dtype: object"
      ]
     },
     "execution_count": 4,
     "metadata": {},
     "output_type": "execute_result"
    }
   ],
   "source": [
    "#Checking the data types\n",
    "df.dtypes"
   ]
  },
  {
   "cell_type": "code",
   "execution_count": 5,
   "metadata": {},
   "outputs": [],
   "source": [
    "#Converting numerical variables to categorical\n",
    "df['smoker']= df['smoker'].astype('object')\n",
    "df['diabetes']= df['diabetes'].astype('object')\n",
    "df['regular_ex']= df['regular_ex'].astype('object')"
   ]
  },
  {
   "cell_type": "code",
   "execution_count": 6,
   "metadata": {},
   "outputs": [
    {
     "data": {
      "text/plain": [
       "age                    float64\n",
       "sex                     object\n",
       "weight                   int64\n",
       "bmi                    float64\n",
       "hereditary_diseases     object\n",
       "no_of_dependents         int64\n",
       "smoker                  object\n",
       "city                    object\n",
       "bloodpressure            int64\n",
       "diabetes                object\n",
       "regular_ex              object\n",
       "job_title               object\n",
       "claim                  float64\n",
       "dtype: object"
      ]
     },
     "execution_count": 6,
     "metadata": {},
     "output_type": "execute_result"
    }
   ],
   "source": [
    "#Validating the data types after conversion\n",
    "df.dtypes"
   ]
  },
  {
   "cell_type": "code",
   "execution_count": 7,
   "metadata": {},
   "outputs": [
    {
     "data": {
      "text/html": [
       "<div>\n",
       "<style scoped>\n",
       "    .dataframe tbody tr th:only-of-type {\n",
       "        vertical-align: middle;\n",
       "    }\n",
       "\n",
       "    .dataframe tbody tr th {\n",
       "        vertical-align: top;\n",
       "    }\n",
       "\n",
       "    .dataframe thead th {\n",
       "        text-align: right;\n",
       "    }\n",
       "</style>\n",
       "<table border=\"1\" class=\"dataframe\">\n",
       "  <thead>\n",
       "    <tr style=\"text-align: right;\">\n",
       "      <th></th>\n",
       "      <th>count</th>\n",
       "      <th>mean</th>\n",
       "      <th>std</th>\n",
       "      <th>min</th>\n",
       "      <th>25%</th>\n",
       "      <th>50%</th>\n",
       "      <th>75%</th>\n",
       "      <th>max</th>\n",
       "    </tr>\n",
       "  </thead>\n",
       "  <tbody>\n",
       "    <tr>\n",
       "      <th>age</th>\n",
       "      <td>14604.0</td>\n",
       "      <td>39.547521</td>\n",
       "      <td>14.015966</td>\n",
       "      <td>18.0</td>\n",
       "      <td>27.0</td>\n",
       "      <td>40.00</td>\n",
       "      <td>52.000</td>\n",
       "      <td>64.0</td>\n",
       "    </tr>\n",
       "    <tr>\n",
       "      <th>weight</th>\n",
       "      <td>15000.0</td>\n",
       "      <td>64.909600</td>\n",
       "      <td>13.701935</td>\n",
       "      <td>34.0</td>\n",
       "      <td>54.0</td>\n",
       "      <td>63.00</td>\n",
       "      <td>76.000</td>\n",
       "      <td>95.0</td>\n",
       "    </tr>\n",
       "    <tr>\n",
       "      <th>bmi</th>\n",
       "      <td>14044.0</td>\n",
       "      <td>30.266413</td>\n",
       "      <td>6.122950</td>\n",
       "      <td>16.0</td>\n",
       "      <td>25.7</td>\n",
       "      <td>29.40</td>\n",
       "      <td>34.400</td>\n",
       "      <td>53.1</td>\n",
       "    </tr>\n",
       "    <tr>\n",
       "      <th>no_of_dependents</th>\n",
       "      <td>15000.0</td>\n",
       "      <td>1.129733</td>\n",
       "      <td>1.228469</td>\n",
       "      <td>0.0</td>\n",
       "      <td>0.0</td>\n",
       "      <td>1.00</td>\n",
       "      <td>2.000</td>\n",
       "      <td>5.0</td>\n",
       "    </tr>\n",
       "    <tr>\n",
       "      <th>bloodpressure</th>\n",
       "      <td>15000.0</td>\n",
       "      <td>68.650133</td>\n",
       "      <td>19.418515</td>\n",
       "      <td>0.0</td>\n",
       "      <td>64.0</td>\n",
       "      <td>71.00</td>\n",
       "      <td>80.000</td>\n",
       "      <td>122.0</td>\n",
       "    </tr>\n",
       "    <tr>\n",
       "      <th>claim</th>\n",
       "      <td>15000.0</td>\n",
       "      <td>13401.437620</td>\n",
       "      <td>12148.239619</td>\n",
       "      <td>1121.9</td>\n",
       "      <td>4846.9</td>\n",
       "      <td>9545.65</td>\n",
       "      <td>16519.125</td>\n",
       "      <td>63770.4</td>\n",
       "    </tr>\n",
       "  </tbody>\n",
       "</table>\n",
       "</div>"
      ],
      "text/plain": [
       "                    count          mean           std     min     25%  \\\n",
       "age               14604.0     39.547521     14.015966    18.0    27.0   \n",
       "weight            15000.0     64.909600     13.701935    34.0    54.0   \n",
       "bmi               14044.0     30.266413      6.122950    16.0    25.7   \n",
       "no_of_dependents  15000.0      1.129733      1.228469     0.0     0.0   \n",
       "bloodpressure     15000.0     68.650133     19.418515     0.0    64.0   \n",
       "claim             15000.0  13401.437620  12148.239619  1121.9  4846.9   \n",
       "\n",
       "                      50%        75%      max  \n",
       "age                 40.00     52.000     64.0  \n",
       "weight              63.00     76.000     95.0  \n",
       "bmi                 29.40     34.400     53.1  \n",
       "no_of_dependents     1.00      2.000      5.0  \n",
       "bloodpressure       71.00     80.000    122.0  \n",
       "claim             9545.65  16519.125  63770.4  "
      ]
     },
     "execution_count": 7,
     "metadata": {},
     "output_type": "execute_result"
    }
   ],
   "source": [
    "#5 Number Summary EDA\n",
    "df.describe().T"
   ]
  },
  {
   "cell_type": "code",
   "execution_count": 8,
   "metadata": {},
   "outputs": [
    {
     "data": {
      "text/plain": [
       "<Axes: xlabel='bloodpressure'>"
      ]
     },
     "execution_count": 8,
     "metadata": {},
     "output_type": "execute_result"
    },
    {
     "data": {
      "image/png": "[encoded data removed]",
      "text/plain": [
       "<Figure size 640x480 with 1 Axes>"
      ]
     },
     "metadata": {},
     "output_type": "display_data"
    }
   ],
   "source": [
    "# Bloodpressure has minimum value as 0, which can be an outlier on minimum side\n",
    "# Taking a deep dive, the median > mean and more data points are beyond median(mode)\n",
    "# It is left or negative skewed as most of the frequency of datapoints is towards right\n",
    "sns.boxplot(df['bloodpressure'], orient='h')"
   ]
  },
  {
   "cell_type": "code",
   "execution_count": 9,
   "metadata": {},
   "outputs": [
    {
     "data": {
      "text/plain": [
       "age                    396\n",
       "sex                      0\n",
       "weight                   0\n",
       "bmi                    956\n",
       "hereditary_diseases      0\n",
       "no_of_dependents         0\n",
       "smoker                   0\n",
       "city                     0\n",
       "bloodpressure            0\n",
       "diabetes                 0\n",
       "regular_ex               0\n",
       "job_title                0\n",
       "claim                    0\n",
       "dtype: int64"
      ]
     },
     "execution_count": 9,
     "metadata": {},
     "output_type": "execute_result"
    }
   ],
   "source": [
    "#Checking missing values\n",
    "df.isnull().sum()"
   ]
  },
  {
   "cell_type": "code",
   "execution_count": 10,
   "metadata": {},
   "outputs": [],
   "source": [
    "# age and bmi has missing values, which needs to be imputed"
   ]
  },
  {
   "cell_type": "code",
   "execution_count": 11,
   "metadata": {},
   "outputs": [
    {
     "data": {
      "text/plain": [
       "<Axes: xlabel='age'>"
      ]
     },
     "execution_count": 11,
     "metadata": {},
     "output_type": "execute_result"
    },
    {
     "data": {
      "image/png": "[encoded data removed]",
      "text/plain": [
       "<Figure size 640x480 with 1 Axes>"
      ]
     },
     "metadata": {},
     "output_type": "display_data"
    }
   ],
   "source": [
    "# Checking the distribution of age \n",
    "sns.boxplot(df['age'],orient='h')"
   ]
  },
  {
   "cell_type": "code",
   "execution_count": 12,
   "metadata": {},
   "outputs": [],
   "source": [
    "# Data points for age variable look normally distributed, \n",
    "# therefore we impute the missing values for age variable by mean"
   ]
  },
  {
   "cell_type": "code",
   "execution_count": 13,
   "metadata": {},
   "outputs": [
    {
     "data": {
      "text/plain": [
       "<Axes: xlabel='bmi'>"
      ]
     },
     "execution_count": 13,
     "metadata": {},
     "output_type": "execute_result"
    },
    {
     "data": {
      "image/png": "[encoded data removed]",
      "text/plain": [
       "<Figure size 640x480 with 1 Axes>"
      ]
     },
     "metadata": {},
     "output_type": "display_data"
    }
   ],
   "source": [
    "# Checking the distribution of bmi\n",
    "sns.boxplot(df['bmi'],orient='h')"
   ]
  },
  {
   "cell_type": "code",
   "execution_count": 14,
   "metadata": {},
   "outputs": [],
   "source": [
    "# Data points for age variable don't look normally distributed, \n",
    "# therefore we impute the missing values for age variable by median"
   ]
  },
  {
   "cell_type": "code",
   "execution_count": 15,
   "metadata": {},
   "outputs": [
    {
     "name": "stderr",
     "output_type": "stream",
     "text": [
      "/var/folders/ts/t0y8j7tn61v2qmfqjwmswtmm0000gn/T/ipykernel_10518/4222645037.py:2: FutureWarning: A value is trying to be set on a copy of a DataFrame or Series through chained assignment using an inplace method.\n",
      "The behavior will change in pandas 3.0. This inplace method will never work because the intermediate object on which we are setting values always behaves as a copy.\n",
      "\n",
      "For example, when doing 'df[col].method(value, inplace=True)', try using 'df.method({col: value}, inplace=True)' or df[col] = df[col].method(value) instead, to perform the operation inplace on the original object.\n",
      "\n",
      "\n",
      "  df['age'].replace(to_replace=np.nan, value=df['age'].mean(), inplace=True)\n",
      "/var/folders/ts/t0y8j7tn61v2qmfqjwmswtmm0000gn/T/ipykernel_10518/4222645037.py:3: FutureWarning: A value is trying to be set on a copy of a DataFrame or Series through chained assignment using an inplace method.\n",
      "The behavior will change in pandas 3.0. This inplace method will never work because the intermediate object on which we are setting values always behaves as a copy.\n",
      "\n",
      "For example, when doing 'df[col].method(value, inplace=True)', try using 'df.method({col: value}, inplace=True)' or df[col] = df[col].method(value) instead, to perform the operation inplace on the original object.\n",
      "\n",
      "\n",
      "  df['bmi'].replace(to_replace=np.nan, value=df['bmi'].median(), inplace=True)\n"
     ]
    }
   ],
   "source": [
    "# Missing Values Treatment\n",
    "df['age'].replace(to_replace=np.nan, value=df['age'].mean(), inplace=True)\n",
    "df['bmi'].replace(to_replace=np.nan, value=df['bmi'].median(), inplace=True)"
   ]
  },
  {
   "cell_type": "code",
   "execution_count": 16,
   "metadata": {},
   "outputs": [
    {
     "data": {
      "text/plain": [
       "age                    0\n",
       "sex                    0\n",
       "weight                 0\n",
       "bmi                    0\n",
       "hereditary_diseases    0\n",
       "no_of_dependents       0\n",
       "smoker                 0\n",
       "city                   0\n",
       "bloodpressure          0\n",
       "diabetes               0\n",
       "regular_ex             0\n",
       "job_title              0\n",
       "claim                  0\n",
       "dtype: int64"
      ]
     },
     "execution_count": 16,
     "metadata": {},
     "output_type": "execute_result"
    }
   ],
   "source": [
    "df.isnull().sum()"
   ]
  },
  {
   "cell_type": "code",
   "execution_count": 17,
   "metadata": {},
   "outputs": [],
   "source": [
    "# Outliers treatment for bloodpressure variable by replacing 0 to median (to bring the values in IQR)\n",
    "df['bloodpressure'] = df['bloodpressure'].replace(0,df['bloodpressure'].median())\n"
   ]
  },
  {
   "cell_type": "code",
   "execution_count": 18,
   "metadata": {},
   "outputs": [
    {
     "data": {
      "text/plain": [
       "91"
      ]
     },
     "execution_count": 18,
     "metadata": {},
     "output_type": "execute_result"
    }
   ],
   "source": [
    "df['city'].nunique()"
   ]
  },
  {
   "cell_type": "code",
   "execution_count": 19,
   "metadata": {},
   "outputs": [],
   "source": [
    "# There are 91 categories for city variable\n",
    "# Replacing the 91 categories West, Mid-West, North-East & Southern Region\n"
   ]
  },
  {
   "cell_type": "code",
   "execution_count": 20,
   "metadata": {},
   "outputs": [],
   "source": [
    "# create a region column and combine the north-east cities\n",
    "df['region'] = df['city'].replace(['NewYork', 'Boston', 'Phildelphia', 'Pittsburg', 'Buffalo',\n",
    "                                                       'AtlanticCity','Portland', 'Cambridge', 'Hartford', \n",
    "                                                       'Springfield', 'Syracuse', 'Baltimore', 'York', 'Trenton',\n",
    "                                                       'Warwick', 'WashingtonDC', 'Providence', 'Harrisburg',\n",
    "                                                       'Newport', 'Stamford', 'Worcester'],\n",
    "                                                      'North-East')"
   ]
  },
  {
   "cell_type": "code",
   "execution_count": 21,
   "metadata": {},
   "outputs": [],
   "source": [
    "# combine all the southern cities into the 'region' column\n",
    "df['region'] = df['region'].replace(['Atlanta', 'Brimingham', 'Charleston', 'Charlotte',\n",
    "                                                         'Louisville', 'Memphis', 'Nashville', 'NewOrleans',\n",
    "                                                         'Raleigh', 'Houston', 'Georgia', 'Oklahoma', 'Orlando',\n",
    "                                                         'Macon', 'Huntsville', 'Knoxville', 'Florence', 'Miami',\n",
    "                                                         'Tampa', 'PanamaCity', 'Kingsport', 'Marshall'],\n",
    "                                                         'Southern')"
   ]
  },
  {
   "cell_type": "code",
   "execution_count": 22,
   "metadata": {},
   "outputs": [],
   "source": [
    "# combine all the mid-west cities into the 'region' column\n",
    "df['region'] = df['region'].replace(['Mandan', 'Waterloo', 'IowaCity', 'Columbia',\n",
    "                                                         'Indianapolis', 'Cincinnati', 'Bloomington', 'Salina',\n",
    "                                                         'KanasCity', 'Brookings', 'Minot', 'Chicago', 'Lincoln',\n",
    "                                                         'FallsCity', 'GrandForks', 'Fargo', 'Cleveland', \n",
    "                                                         'Canton', 'Columbus', 'Rochester', 'Minneapolis', \n",
    "                                                         'JeffersonCity', 'Escabana','Youngstown'],\n",
    "                                                         'Mid-West')"
   ]
  },
  {
   "cell_type": "code",
   "execution_count": 23,
   "metadata": {},
   "outputs": [],
   "source": [
    "# combine all the western cities into the 'region' column\n",
    "df['region'] = df['region'].replace(['SantaRosa', 'Eureka', 'SanFrancisco', 'SanJose',\n",
    "                                                         'LosAngeles', 'Oxnard', 'SanDeigo', 'Oceanside', \n",
    "                                                         'Carlsbad', 'Montrose', 'Prescott', 'Fresno', 'Reno',\n",
    "                                                         'LasVegas', 'Tucson', 'SanLuis', 'Denver', 'Kingman',\n",
    "                                                         'Bakersfield', 'Mexicali', 'SilverCity', 'Pheonix',\n",
    "                                                         'SantaFe', 'Lovelock'],\n",
    "                                                         'West')"
   ]
  },
  {
   "cell_type": "code",
   "execution_count": 24,
   "metadata": {},
   "outputs": [
    {
     "data": {
      "text/plain": [
       "4"
      ]
     },
     "execution_count": 24,
     "metadata": {},
     "output_type": "execute_result"
    }
   ],
   "source": [
    "df['region'].nunique()"
   ]
  },
  {
   "cell_type": "code",
   "execution_count": 25,
   "metadata": {},
   "outputs": [],
   "source": [
    "# Segregating numerical and categorical variables to prepare for one-hot encoding\n",
    "df_num = df.select_dtypes(include = [np.number])\n",
    "df_cat = df.select_dtypes(include = [object])\n",
    "df_cat.drop('city', axis=1, inplace=True)"
   ]
  },
  {
   "cell_type": "code",
   "execution_count": 26,
   "metadata": {},
   "outputs": [],
   "source": [
    "# Dummy One hot encoding for Categorical variables\n",
    "dummy_var = pd.get_dummies(data = df_cat, drop_first = True)"
   ]
  },
  {
   "cell_type": "code",
   "execution_count": 27,
   "metadata": {},
   "outputs": [
    {
     "data": {
      "text/html": [
       "<div>\n",
       "<style scoped>\n",
       "    .dataframe tbody tr th:only-of-type {\n",
       "        vertical-align: middle;\n",
       "    }\n",
       "\n",
       "    .dataframe tbody tr th {\n",
       "        vertical-align: top;\n",
       "    }\n",
       "\n",
       "    .dataframe thead th {\n",
       "        text-align: right;\n",
       "    }\n",
       "</style>\n",
       "<table border=\"1\" class=\"dataframe\">\n",
       "  <thead>\n",
       "    <tr style=\"text-align: right;\">\n",
       "      <th></th>\n",
       "      <th>sex_male</th>\n",
       "      <th>hereditary_diseases_Arthritis</th>\n",
       "      <th>hereditary_diseases_Cancer</th>\n",
       "      <th>hereditary_diseases_Diabetes</th>\n",
       "      <th>hereditary_diseases_Epilepsy</th>\n",
       "      <th>hereditary_diseases_EyeDisease</th>\n",
       "      <th>hereditary_diseases_HeartDisease</th>\n",
       "      <th>hereditary_diseases_High BP</th>\n",
       "      <th>hereditary_diseases_NoDisease</th>\n",
       "      <th>hereditary_diseases_Obesity</th>\n",
       "      <th>...</th>\n",
       "      <th>job_title_Manager</th>\n",
       "      <th>job_title_Photographer</th>\n",
       "      <th>job_title_Police</th>\n",
       "      <th>job_title_Politician</th>\n",
       "      <th>job_title_Singer</th>\n",
       "      <th>job_title_Student</th>\n",
       "      <th>job_title_Technician</th>\n",
       "      <th>region_North-East</th>\n",
       "      <th>region_Southern</th>\n",
       "      <th>region_West</th>\n",
       "    </tr>\n",
       "  </thead>\n",
       "  <tbody>\n",
       "    <tr>\n",
       "      <th>0</th>\n",
       "      <td>True</td>\n",
       "      <td>False</td>\n",
       "      <td>False</td>\n",
       "      <td>False</td>\n",
       "      <td>False</td>\n",
       "      <td>False</td>\n",
       "      <td>False</td>\n",
       "      <td>False</td>\n",
       "      <td>True</td>\n",
       "      <td>False</td>\n",
       "      <td>...</td>\n",
       "      <td>False</td>\n",
       "      <td>False</td>\n",
       "      <td>False</td>\n",
       "      <td>False</td>\n",
       "      <td>False</td>\n",
       "      <td>False</td>\n",
       "      <td>False</td>\n",
       "      <td>True</td>\n",
       "      <td>False</td>\n",
       "      <td>False</td>\n",
       "    </tr>\n",
       "    <tr>\n",
       "      <th>1</th>\n",
       "      <td>False</td>\n",
       "      <td>False</td>\n",
       "      <td>False</td>\n",
       "      <td>False</td>\n",
       "      <td>False</td>\n",
       "      <td>False</td>\n",
       "      <td>False</td>\n",
       "      <td>False</td>\n",
       "      <td>True</td>\n",
       "      <td>False</td>\n",
       "      <td>...</td>\n",
       "      <td>False</td>\n",
       "      <td>False</td>\n",
       "      <td>False</td>\n",
       "      <td>False</td>\n",
       "      <td>False</td>\n",
       "      <td>False</td>\n",
       "      <td>False</td>\n",
       "      <td>True</td>\n",
       "      <td>False</td>\n",
       "      <td>False</td>\n",
       "    </tr>\n",
       "    <tr>\n",
       "      <th>2</th>\n",
       "      <td>False</td>\n",
       "      <td>False</td>\n",
       "      <td>False</td>\n",
       "      <td>False</td>\n",
       "      <td>True</td>\n",
       "      <td>False</td>\n",
       "      <td>False</td>\n",
       "      <td>False</td>\n",
       "      <td>False</td>\n",
       "      <td>False</td>\n",
       "      <td>...</td>\n",
       "      <td>False</td>\n",
       "      <td>False</td>\n",
       "      <td>False</td>\n",
       "      <td>False</td>\n",
       "      <td>False</td>\n",
       "      <td>False</td>\n",
       "      <td>False</td>\n",
       "      <td>True</td>\n",
       "      <td>False</td>\n",
       "      <td>False</td>\n",
       "    </tr>\n",
       "    <tr>\n",
       "      <th>3</th>\n",
       "      <td>False</td>\n",
       "      <td>False</td>\n",
       "      <td>False</td>\n",
       "      <td>False</td>\n",
       "      <td>False</td>\n",
       "      <td>False</td>\n",
       "      <td>False</td>\n",
       "      <td>False</td>\n",
       "      <td>True</td>\n",
       "      <td>False</td>\n",
       "      <td>...</td>\n",
       "      <td>False</td>\n",
       "      <td>False</td>\n",
       "      <td>False</td>\n",
       "      <td>False</td>\n",
       "      <td>False</td>\n",
       "      <td>False</td>\n",
       "      <td>False</td>\n",
       "      <td>True</td>\n",
       "      <td>False</td>\n",
       "      <td>False</td>\n",
       "    </tr>\n",
       "    <tr>\n",
       "      <th>4</th>\n",
       "      <td>False</td>\n",
       "      <td>False</td>\n",
       "      <td>False</td>\n",
       "      <td>False</td>\n",
       "      <td>False</td>\n",
       "      <td>False</td>\n",
       "      <td>False</td>\n",
       "      <td>False</td>\n",
       "      <td>True</td>\n",
       "      <td>False</td>\n",
       "      <td>...</td>\n",
       "      <td>False</td>\n",
       "      <td>False</td>\n",
       "      <td>False</td>\n",
       "      <td>False</td>\n",
       "      <td>False</td>\n",
       "      <td>False</td>\n",
       "      <td>False</td>\n",
       "      <td>True</td>\n",
       "      <td>False</td>\n",
       "      <td>False</td>\n",
       "    </tr>\n",
       "  </tbody>\n",
       "</table>\n",
       "<p>5 rows × 50 columns</p>\n",
       "</div>"
      ],
      "text/plain": [
       "   sex_male  hereditary_diseases_Arthritis  hereditary_diseases_Cancer  \\\n",
       "0      True                          False                       False   \n",
       "1     False                          False                       False   \n",
       "2     False                          False                       False   \n",
       "3     False                          False                       False   \n",
       "4     False                          False                       False   \n",
       "\n",
       "   hereditary_diseases_Diabetes  hereditary_diseases_Epilepsy  \\\n",
       "0                         False                         False   \n",
       "1                         False                         False   \n",
       "2                         False                          True   \n",
       "3                         False                         False   \n",
       "4                         False                         False   \n",
       "\n",
       "   hereditary_diseases_EyeDisease  hereditary_diseases_HeartDisease  \\\n",
       "0                           False                             False   \n",
       "1                           False                             False   \n",
       "2                           False                             False   \n",
       "3                           False                             False   \n",
       "4                           False                             False   \n",
       "\n",
       "   hereditary_diseases_High BP  hereditary_diseases_NoDisease  \\\n",
       "0                        False                           True   \n",
       "1                        False                           True   \n",
       "2                        False                          False   \n",
       "3                        False                           True   \n",
       "4                        False                           True   \n",
       "\n",
       "   hereditary_diseases_Obesity  ...  job_title_Manager  \\\n",
       "0                        False  ...              False   \n",
       "1                        False  ...              False   \n",
       "2                        False  ...              False   \n",
       "3                        False  ...              False   \n",
       "4                        False  ...              False   \n",
       "\n",
       "   job_title_Photographer  job_title_Police  job_title_Politician  \\\n",
       "0                   False             False                 False   \n",
       "1                   False             False                 False   \n",
       "2                   False             False                 False   \n",
       "3                   False             False                 False   \n",
       "4                   False             False                 False   \n",
       "\n",
       "   job_title_Singer  job_title_Student  job_title_Technician  \\\n",
       "0             False              False                 False   \n",
       "1             False              False                 False   \n",
       "2             False              False                 False   \n",
       "3             False              False                 False   \n",
       "4             False              False                 False   \n",
       "\n",
       "   region_North-East  region_Southern  region_West  \n",
       "0               True            False        False  \n",
       "1               True            False        False  \n",
       "2               True            False        False  \n",
       "3               True            False        False  \n",
       "4               True            False        False  \n",
       "\n",
       "[5 rows x 50 columns]"
      ]
     },
     "execution_count": 27,
     "metadata": {},
     "output_type": "execute_result"
    }
   ],
   "source": [
    "dummy_var.head()"
   ]
  },
  {
   "cell_type": "code",
   "execution_count": 28,
   "metadata": {},
   "outputs": [],
   "source": [
    "# Dropping the target column claim\n",
    "df_target = np.log(df_num['claim'])\n",
    "df_num = df_num.drop('claim', axis = 1)"
   ]
  },
  {
   "cell_type": "code",
   "execution_count": 29,
   "metadata": {},
   "outputs": [],
   "source": [
    "# Scaling the numerical varaibles for Standardization\n",
    "# Instantiate Standard Scaler \n",
    "X_scaler = StandardScaler()\n",
    "# Scaling numerical variables\n",
    "df_num_scaled = X_scaler.fit_transform(df_num)\n"
   ]
  },
  {
   "cell_type": "code",
   "execution_count": 30,
   "metadata": {},
   "outputs": [],
   "source": [
    "# Standardize and prepare the target variable \n",
    "# Standardization of the target variable\n",
    "# z = x-mu/sigma \n",
    "y = (df_target - df_target.mean())/df_target.std()"
   ]
  },
  {
   "cell_type": "code",
   "execution_count": 31,
   "metadata": {},
   "outputs": [
    {
     "name": "stdout",
     "output_type": "stream",
     "text": [
      "Checking the Data Type of Scaled Numerical Variable and Dummy Variable\n",
      "<class 'numpy.ndarray'>\n",
      "<class 'pandas.core.frame.DataFrame'>\n",
      "Converting anf Validating the Data Type of Scaled Numerical Variable and Dummy Variable\n",
      "<class 'pandas.core.frame.DataFrame'>\n",
      "<class 'pandas.core.frame.DataFrame'>\n"
     ]
    }
   ],
   "source": [
    "print(\"Checking the Data Type of Scaled Numerical Variable and Dummy Variable\")\n",
    "print(type(df_num_scaled))\n",
    "print(type(dummy_var))\n",
    "print(\"Converting anf Validating the Data Type of Scaled Numerical Variable and Dummy Variable\")\n",
    "df_num_scaled = pd.DataFrame(df_num_scaled)\n",
    "print(type(df_num_scaled))\n",
    "print(type(dummy_var))\n",
    "\n",
    "# Prepare dependent variable\n",
    "X = pd.concat([df_num_scaled, dummy_var], axis=1)"
   ]
  },
  {
   "cell_type": "code",
   "execution_count": 33,
   "metadata": {},
   "outputs": [],
   "source": [
    "# Train Test Split\n",
    "X_train, X_test, y_train, y_test = train_test_split(X,y,random_state=10, test_size=0.3)"
   ]
  },
  {
   "cell_type": "code",
   "execution_count": null,
   "metadata": {},
   "outputs": [],
   "source": [
    "# Get RMSE for train set\n",
    "def get_train_rmse(model):\n",
    "    train_pred = model.predict(X_train)\n",
    "    mse_train = mean_squared_error(y_train, train_pred)\n",
    "    rmse_train = round(np.sqrt(mse_train), 4)\n",
    "    return rmse_train"
   ]
  },
  {
   "cell_type": "code",
   "execution_count": null,
   "metadata": {},
   "outputs": [],
   "source": [
    "# Get RMSE for test set\n",
    "def get_test_rmse(model):\n",
    "    test_pred = model.predict(X_test)\n",
    "    mse_test = mean_squared_error(y_test, test_pred)\n",
    "    rmse_test = round(np.sqrt(mse_test))\n",
    "    return rmse_test"
   ]
  },
  {
   "cell_type": "code",
   "execution_count": 34,
   "metadata": {},
   "outputs": [],
   "source": [
    "def mape(actual, predicted):\n",
    "    return (np.mean(np.abs((actual - predicted) / actual)) * 100)\n",
    "\n",
    "def get_test_mape(model): \n",
    "    test_pred = model.predict(X_test)\n",
    "\n",
    "    mape_test = mape(y_test, test_pred)\n",
    "\n",
    "    return(mape_test)"
   ]
  },
  {
   "cell_type": "code",
   "execution_count": null,
   "metadata": {},
   "outputs": [],
   "source": []
  }
 ],
 "metadata": {
  "kernelspec": {
   "display_name": "Python 3 (ipykernel)",
   "language": "python",
   "name": "python3"
  },
  "language_info": {
   "codemirror_mode": {
    "name": "ipython",
    "version": 3
   },
   "file_extension": ".py",
   "mimetype": "text/x-python",
   "name": "python",
   "nbconvert_exporter": "python",
   "pygments_lexer": "ipython3",
   "version": "3.11.11"
  }
 },
 "nbformat": 4,
 "nbformat_minor": 4
}
