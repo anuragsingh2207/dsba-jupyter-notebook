{
 "cells": [
  {
   "cell_type": "code",
   "execution_count": 9,
   "id": "7bf941fb",
   "metadata": {},
   "outputs": [
    {
     "data": {
      "text/html": [
       "<style>#sk-container-id-1 {color: black;background-color: white;}#sk-container-id-1 pre{padding: 0;}#sk-container-id-1 div.sk-toggleable {background-color: white;}#sk-container-id-1 label.sk-toggleable__label {cursor: pointer;display: block;width: 100%;margin-bottom: 0;padding: 0.3em;box-sizing: border-box;text-align: center;}#sk-container-id-1 label.sk-toggleable__label-arrow:before {content: \"▸\";float: left;margin-right: 0.25em;color: #696969;}#sk-container-id-1 label.sk-toggleable__label-arrow:hover:before {color: black;}#sk-container-id-1 div.sk-estimator:hover label.sk-toggleable__label-arrow:before {color: black;}#sk-container-id-1 div.sk-toggleable__content {max-height: 0;max-width: 0;overflow: hidden;text-align: left;background-color: #f0f8ff;}#sk-container-id-1 div.sk-toggleable__content pre {margin: 0.2em;color: black;border-radius: 0.25em;background-color: #f0f8ff;}#sk-container-id-1 input.sk-toggleable__control:checked~div.sk-toggleable__content {max-height: 200px;max-width: 100%;overflow: auto;}#sk-container-id-1 input.sk-toggleable__control:checked~label.sk-toggleable__label-arrow:before {content: \"▾\";}#sk-container-id-1 div.sk-estimator input.sk-toggleable__control:checked~label.sk-toggleable__label {background-color: #d4ebff;}#sk-container-id-1 div.sk-label input.sk-toggleable__control:checked~label.sk-toggleable__label {background-color: #d4ebff;}#sk-container-id-1 input.sk-hidden--visually {border: 0;clip: rect(1px 1px 1px 1px);clip: rect(1px, 1px, 1px, 1px);height: 1px;margin: -1px;overflow: hidden;padding: 0;position: absolute;width: 1px;}#sk-container-id-1 div.sk-estimator {font-family: monospace;background-color: #f0f8ff;border: 1px dotted black;border-radius: 0.25em;box-sizing: border-box;margin-bottom: 0.5em;}#sk-container-id-1 div.sk-estimator:hover {background-color: #d4ebff;}#sk-container-id-1 div.sk-parallel-item::after {content: \"\";width: 100%;border-bottom: 1px solid gray;flex-grow: 1;}#sk-container-id-1 div.sk-label:hover label.sk-toggleable__label {background-color: #d4ebff;}#sk-container-id-1 div.sk-serial::before {content: \"\";position: absolute;border-left: 1px solid gray;box-sizing: border-box;top: 0;bottom: 0;left: 50%;z-index: 0;}#sk-container-id-1 div.sk-serial {display: flex;flex-direction: column;align-items: center;background-color: white;padding-right: 0.2em;padding-left: 0.2em;position: relative;}#sk-container-id-1 div.sk-item {position: relative;z-index: 1;}#sk-container-id-1 div.sk-parallel {display: flex;align-items: stretch;justify-content: center;background-color: white;position: relative;}#sk-container-id-1 div.sk-item::before, #sk-container-id-1 div.sk-parallel-item::before {content: \"\";position: absolute;border-left: 1px solid gray;box-sizing: border-box;top: 0;bottom: 0;left: 50%;z-index: -1;}#sk-container-id-1 div.sk-parallel-item {display: flex;flex-direction: column;z-index: 1;position: relative;background-color: white;}#sk-container-id-1 div.sk-parallel-item:first-child::after {align-self: flex-end;width: 50%;}#sk-container-id-1 div.sk-parallel-item:last-child::after {align-self: flex-start;width: 50%;}#sk-container-id-1 div.sk-parallel-item:only-child::after {width: 0;}#sk-container-id-1 div.sk-dashed-wrapped {border: 1px dashed gray;margin: 0 0.4em 0.5em 0.4em;box-sizing: border-box;padding-bottom: 0.4em;background-color: white;}#sk-container-id-1 div.sk-label label {font-family: monospace;font-weight: bold;display: inline-block;line-height: 1.2em;}#sk-container-id-1 div.sk-label-container {text-align: center;}#sk-container-id-1 div.sk-container {/* jupyter's `normalize.less` sets `[hidden] { display: none; }` but bootstrap.min.css set `[hidden] { display: none !important; }` so we also need the `!important` here to be able to override the default hidden behavior on the sphinx rendered scikit-learn.org. See: https://github.com/scikit-learn/scikit-learn/issues/21755 */display: inline-block !important;position: relative;}#sk-container-id-1 div.sk-text-repr-fallback {display: none;}</style><div id=\"sk-container-id-1\" class=\"sk-top-container\"><div class=\"sk-text-repr-fallback\"><pre>GridSearchCV(cv=5, estimator=RandomForestRegressor(random_state=42),\n",
       "             param_grid={&#x27;max_depth&#x27;: [None, 2, 3], &#x27;n_estimators&#x27;: [2, 4, 6]},\n",
       "             return_train_score=True)</pre><b>In a Jupyter environment, please rerun this cell to show the HTML representation or trust the notebook. <br />On GitHub, the HTML representation is unable to render, please try loading this page with nbviewer.org.</b></div><div class=\"sk-container\" hidden><div class=\"sk-item sk-dashed-wrapped\"><div class=\"sk-label-container\"><div class=\"sk-label sk-toggleable\"><input class=\"sk-toggleable__control sk-hidden--visually\" id=\"sk-estimator-id-1\" type=\"checkbox\" ><label for=\"sk-estimator-id-1\" class=\"sk-toggleable__label sk-toggleable__label-arrow\">GridSearchCV</label><div class=\"sk-toggleable__content\"><pre>GridSearchCV(cv=5, estimator=RandomForestRegressor(random_state=42),\n",
       "             param_grid={&#x27;max_depth&#x27;: [None, 2, 3], &#x27;n_estimators&#x27;: [2, 4, 6]},\n",
       "             return_train_score=True)</pre></div></div></div><div class=\"sk-parallel\"><div class=\"sk-parallel-item\"><div class=\"sk-item\"><div class=\"sk-label-container\"><div class=\"sk-label sk-toggleable\"><input class=\"sk-toggleable__control sk-hidden--visually\" id=\"sk-estimator-id-2\" type=\"checkbox\" ><label for=\"sk-estimator-id-2\" class=\"sk-toggleable__label sk-toggleable__label-arrow\">estimator: RandomForestRegressor</label><div class=\"sk-toggleable__content\"><pre>RandomForestRegressor(random_state=42)</pre></div></div></div><div class=\"sk-serial\"><div class=\"sk-item\"><div class=\"sk-estimator sk-toggleable\"><input class=\"sk-toggleable__control sk-hidden--visually\" id=\"sk-estimator-id-3\" type=\"checkbox\" ><label for=\"sk-estimator-id-3\" class=\"sk-toggleable__label sk-toggleable__label-arrow\">RandomForestRegressor</label><div class=\"sk-toggleable__content\"><pre>RandomForestRegressor(random_state=42)</pre></div></div></div></div></div></div></div></div></div></div>"
      ],
      "text/plain": [
       "GridSearchCV(cv=5, estimator=RandomForestRegressor(random_state=42),\n",
       "             param_grid={'max_depth': [None, 2, 3], 'n_estimators': [2, 4, 6]},\n",
       "             return_train_score=True)"
      ]
     },
     "execution_count": 9,
     "metadata": {},
     "output_type": "execute_result"
    }
   ],
   "source": [
    "from sklearn.datasets import fetch_california_housing\n",
    "from sklearn.model_selection import GridSearchCV, train_test_split\n",
    "from sklearn.ensemble import RandomForestRegressor\n",
    "from sklearn.metrics import mean_squared_error\n",
    "\n",
    "# Load the California housing dataset\n",
    "data = fetch_california_housing()\n",
    "X, y = data.data, data.target\n",
    "\n",
    "# Split the data into training and test sets\n",
    "X_train, X_test, y_train, y_test = train_test_split(X, y, test_size=0.2, random_state=42)\n",
    "\n",
    "# Define the hyperparameters grid\n",
    "param_grid = {'n_estimators': [2, 4, 6],\n",
    "              'max_depth': [None, 2, 3]}\n",
    "\n",
    "# Create a GridSearchCV object\n",
    "grid_search = GridSearchCV(RandomForestRegressor(random_state=42), param_grid, cv=5,return_train_score=True)\n",
    "\n",
    "# Fit the data\n",
    "grid_search.fit(X_train, y_train)"
   ]
  },
  {
   "cell_type": "code",
   "execution_count": 11,
   "id": "738d8f83",
   "metadata": {},
   "outputs": [],
   "source": [
    "# Access the train and test scores for each hyperparameter combination\n",
    "results = grid_search.cv_results_"
   ]
  },
  {
   "cell_type": "code",
   "execution_count": 12,
   "id": "8361c20b",
   "metadata": {},
   "outputs": [
    {
     "data": {
      "text/plain": [
       "{'mean_fit_time': array([0.3172966 , 0.6445735 , 0.97995162, 0.04541597, 0.07761641,\n",
       "        0.11922016, 0.04680066, 0.13102965, 0.20308442]),\n",
       " 'std_fit_time': array([0.02189459, 0.08194242, 0.08316178, 0.00754615, 0.01079737,\n",
       "        0.01396189, 0.00140921, 0.02258165, 0.02707487]),\n",
       " 'mean_score_time': array([0.00319109, 0.00517654, 0.00650196, 0.00180154, 0.00119572,\n",
       "        0.00220189, 0.00099716, 0.00202942, 0.00267997]),\n",
       " 'std_score_time': array([1.46411878e-03, 1.93838549e-03, 1.11307057e-03, 7.54732492e-04,\n",
       "        4.03402443e-04, 7.35644250e-04, 2.78286676e-06, 1.12495128e-03,\n",
       "        1.04980355e-03]),\n",
       " 'param_max_depth': masked_array(data=[None, None, None, 2, 2, 2, 3, 3, 3],\n",
       "              mask=[False, False, False, False, False, False, False, False,\n",
       "                    False],\n",
       "        fill_value='?',\n",
       "             dtype=object),\n",
       " 'param_n_estimators': masked_array(data=[2, 4, 6, 2, 4, 6, 2, 4, 6],\n",
       "              mask=[False, False, False, False, False, False, False, False,\n",
       "                    False],\n",
       "        fill_value='?',\n",
       "             dtype=object),\n",
       " 'params': [{'max_depth': None, 'n_estimators': 2},\n",
       "  {'max_depth': None, 'n_estimators': 4},\n",
       "  {'max_depth': None, 'n_estimators': 6},\n",
       "  {'max_depth': 2, 'n_estimators': 2},\n",
       "  {'max_depth': 2, 'n_estimators': 4},\n",
       "  {'max_depth': 2, 'n_estimators': 6},\n",
       "  {'max_depth': 3, 'n_estimators': 2},\n",
       "  {'max_depth': 3, 'n_estimators': 4},\n",
       "  {'max_depth': 3, 'n_estimators': 6}],\n",
       " 'split0_test_score': array([0.68559707, 0.74794106, 0.77141282, 0.44874725, 0.45729514,\n",
       "        0.46080949, 0.52911745, 0.54540621, 0.547143  ]),\n",
       " 'split1_test_score': array([0.67749273, 0.73659582, 0.74918453, 0.46326311, 0.46887142,\n",
       "        0.46937815, 0.55933888, 0.5698636 , 0.57138266]),\n",
       " 'split2_test_score': array([0.71331696, 0.7610657 , 0.77546152, 0.45609597, 0.45436466,\n",
       "        0.45290274, 0.54830674, 0.55800484, 0.55670956]),\n",
       " 'split3_test_score': array([0.69999801, 0.74854728, 0.77260321, 0.45575349, 0.45678415,\n",
       "        0.45605778, 0.55191646, 0.5540165 , 0.55484909]),\n",
       " 'split4_test_score': array([0.69375593, 0.74467402, 0.76943821, 0.45884436, 0.4718706 ,\n",
       "        0.47132329, 0.53435564, 0.55907157, 0.55891015]),\n",
       " 'mean_test_score': array([0.69403214, 0.74776478, 0.76762006, 0.45654084, 0.46183719,\n",
       "        0.46209429, 0.54460704, 0.55727254, 0.55779889]),\n",
       " 'std_test_score': array([0.01226601, 0.00789755, 0.0094221 , 0.00473398, 0.00710143,\n",
       "        0.00722224, 0.01121749, 0.0079211 , 0.00786371]),\n",
       " 'rank_test_score': array([3, 2, 1, 9, 8, 7, 6, 5, 4]),\n",
       " 'split0_train_score': array([0.90576281, 0.94094493, 0.95103848, 0.45423186, 0.4630006 ,\n",
       "        0.46640521, 0.54702029, 0.5618477 , 0.56407427]),\n",
       " 'split1_train_score': array([0.90738659, 0.94357385, 0.95388861, 0.46169979, 0.46666767,\n",
       "        0.46701496, 0.5515701 , 0.5645373 , 0.56563489]),\n",
       " 'split2_train_score': array([0.90731457, 0.94220392, 0.9531742 , 0.46593369, 0.46753495,\n",
       "        0.46642074, 0.55541087, 0.56349141, 0.5607606 ]),\n",
       " 'split3_train_score': array([0.90646677, 0.93927044, 0.95015603, 0.46812253, 0.46754459,\n",
       "        0.4678553 , 0.56536721, 0.56563375, 0.56565251]),\n",
       " 'split4_train_score': array([0.90577898, 0.9374918 , 0.94989044, 0.45157137, 0.46912646,\n",
       "        0.46852045, 0.54466021, 0.57205   , 0.57105548]),\n",
       " 'mean_train_score': array([0.90654194, 0.94069699, 0.95162955, 0.46031185, 0.46677485,\n",
       "        0.46724333, 0.55280573, 0.56551203, 0.56543555]),\n",
       " 'std_train_score': array([0.00070784, 0.00214088, 0.00161458, 0.00644826, 0.00204728,\n",
       "        0.00082907, 0.00729281, 0.00349915, 0.00332802])}"
      ]
     },
     "execution_count": 12,
     "metadata": {},
     "output_type": "execute_result"
    }
   ],
   "source": [
    "results"
   ]
  },
  {
   "cell_type": "code",
   "execution_count": 13,
   "id": "64fd2d50",
   "metadata": {},
   "outputs": [
    {
     "name": "stdout",
     "output_type": "stream",
     "text": [
      "Train Scores: [0.90654194 0.94069699 0.95162955 0.46031185 0.46677485 0.46724333\n",
      " 0.55280573 0.56551203 0.56543555]\n",
      "Test Scores: [0.69403214 0.74776478 0.76762006 0.45654084 0.46183719 0.46209429\n",
      " 0.54460704 0.55727254 0.55779889]\n",
      "Best Hyperparameters: {'max_depth': None, 'n_estimators': 6}\n"
     ]
    }
   ],
   "source": [
    "train_scores = results['mean_train_score']\n",
    "test_scores = results['mean_test_score']\n",
    "best_params = grid_search.best_params_\n",
    "\n",
    "print(\"Train Scores:\", train_scores)\n",
    "print(\"Test Scores:\", test_scores)\n",
    "print(\"Best Hyperparameters:\", best_params)"
   ]
  },
  {
   "cell_type": "code",
   "execution_count": null,
   "id": "ddc069be",
   "metadata": {},
   "outputs": [],
   "source": []
  }
 ],
 "metadata": {
  "kernelspec": {
   "display_name": "Python 3 (ipykernel)",
   "language": "python",
   "name": "python3"
  },
  "language_info": {
   "codemirror_mode": {
    "name": "ipython",
    "version": 3
   },
   "file_extension": ".py",
   "mimetype": "text/x-python",
   "name": "python",
   "nbconvert_exporter": "python",
   "pygments_lexer": "ipython3",
   "version": "3.10.9"
  }
 },
 "nbformat": 4,
 "nbformat_minor": 5
}
