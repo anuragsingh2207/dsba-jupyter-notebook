{
 "cells": [
  {
   "cell_type": "code",
   "execution_count": 4,
   "metadata": {},
   "outputs": [
    {
     "name": "stdout",
     "output_type": "stream",
     "text": [
      "Mileage: 20\n",
      "Cost: 5000\n",
      "I am a car\n",
      "Mileage: 40\n",
      "Cost: 1000\n"
     ]
    }
   ],
   "source": [
    "#Single Inheritance\n",
    "\n",
    "#Parent Class\n",
    "class Vehicle():\n",
    "    def __init__(self, mileage, cost):\n",
    "        self.mileage = mileage\n",
    "        self.cost = cost\n",
    "    def show_details(self):\n",
    "        print(\"Mileage:\",self.mileage)\n",
    "        print(\"Cost:\",self.cost)\n",
    "\n",
    "#Instantiating object for base class\n",
    "v1 = Vehicle(20,5000)\n",
    "v1.show_details()\n",
    "\n",
    "\n",
    "#Child Class\n",
    "class Car(Vehicle):\n",
    "    def show_cars(self):\n",
    "        print(\"I am a car\")\n",
    "\n",
    "#Instantiating object for child class and invoking functions\n",
    "c1 = Car(40,1000)\n",
    "c1.show_cars()\n",
    "c1.show_details()"
   ]
  },
  {
   "cell_type": "code",
   "execution_count": 8,
   "metadata": {},
   "outputs": [
    {
     "name": "stdout",
     "output_type": "stream",
     "text": [
      "one\n",
      "two\n",
      "three\n"
     ]
    }
   ],
   "source": [
    "#Multiple Inheritance\n",
    "\n",
    "class Parent1():\n",
    "    def assign_str1(self, str1):\n",
    "        self.str1 = str1\n",
    "    \n",
    "    def show_str1(self):\n",
    "        return self.str1\n",
    "\n",
    "class Parent2():\n",
    "    def assign_str2(self, str2):\n",
    "        self.str2 = str2\n",
    "    \n",
    "    def show_str2(self):\n",
    "        return self.str2\n",
    "\n",
    "class Child (Parent1, Parent2):\n",
    "   def assign_str3(self, str3):\n",
    "        self.str3 = str3\n",
    "\n",
    "   def show_str3(self):\n",
    "        return self.str3\n",
    "    \n",
    "ch1 = Child()\n",
    "\n",
    "ch1.assign_str1(\"one\")\n",
    "ch1.assign_str2(\"two\")\n",
    "ch1.assign_str3(\"three\")\n",
    "\n",
    "print(ch1.show_str1())\n",
    "print(ch1.show_str2())\n",
    "print(ch1.show_str3())"
   ]
  },
  {
   "cell_type": "code",
   "execution_count": 11,
   "metadata": {},
   "outputs": [
    {
     "name": "stdout",
     "output_type": "stream",
     "text": [
      "Mark\n",
      "Steven\n",
      "Matt\n"
     ]
    }
   ],
   "source": [
    "#Multi Level Inheritance\n",
    "\n",
    "class Parent():\n",
    "    def assign_name(self, name):\n",
    "        self.name = name\n",
    "\n",
    "    def show_name(self):\n",
    "        return self.name\n",
    "    \n",
    "class Child(Parent):\n",
    "    def assign_cname(self, cname):\n",
    "        self.cname = cname\n",
    "\n",
    "    def show_cname(self):\n",
    "        return self.cname\n",
    "\n",
    "class GrandChild(Child):\n",
    "    def assign_gcname(self, gcname):\n",
    "        self.gcname = gcname\n",
    "\n",
    "    def show_gcname(self):\n",
    "        return self.gcname\n",
    "    \n",
    "gc1 = GrandChild()\n",
    "\n",
    "gc1.assign_name(\"Mark\")\n",
    "gc1.assign_gcname(\"Matt\")\n",
    "gc1.assign_cname(\"Steven\")\n",
    "\n",
    "print(gc1.show_name())\n",
    "print(gc1.show_cname())\n",
    "print(gc1.show_gcname())"
   ]
  },
  {
   "cell_type": "code",
   "execution_count": 18,
   "metadata": {},
   "outputs": [
    {
     "name": "stdout",
     "output_type": "stream",
     "text": [
      "I am a car\n",
      "Number of Tyres: 4\n",
      "Horse Power: 300\n",
      "Mileage: 40\n",
      "Cost: 1000\n"
     ]
    }
   ],
   "source": [
    "# Overiding init method \n",
    "\n",
    "#Parent Class\n",
    "class Vehicle():\n",
    "    def __init__(self, mileage, cost):\n",
    "        self.mileage = mileage\n",
    "        self.cost = cost\n",
    "    def show_details(self):\n",
    "        print(\"Mileage:\",self.mileage)\n",
    "        print(\"Cost:\",self.cost)\n",
    "\n",
    "\n",
    "#Child Class\n",
    "class Car(Vehicle):\n",
    "    def __init__(self, mileage, cost, tyres, hp):\n",
    "        super().__init__(mileage, cost)   #### Overiding init method\n",
    "        self.tyres = tyres\n",
    "        self.hp = hp\n",
    "\n",
    "    def show_car_details(self):\n",
    "        print(\"I am a car\")\n",
    "        print(\"Number of Tyres:\", self.tyres)\n",
    "        print(\"Horse Power:\", self.hp)\n",
    "\n",
    "\n",
    "c1 = Car(40,1000,4,300)\n",
    "c1.show_car_details()\n",
    "c1.show_details()\n"
   ]
  },
  {
   "cell_type": "code",
   "execution_count": null,
   "metadata": {},
   "outputs": [],
   "source": []
  }
 ],
 "metadata": {
  "kernelspec": {
   "display_name": "pyenv",
   "language": "python",
   "name": "python3"
  },
  "language_info": {
   "codemirror_mode": {
    "name": "ipython",
    "version": 3
   },
   "file_extension": ".py",
   "mimetype": "text/x-python",
   "name": "python",
   "nbconvert_exporter": "python",
   "pygments_lexer": "ipython3",
   "version": "3.11.7"
  }
 },
 "nbformat": 4,
 "nbformat_minor": 2
}
