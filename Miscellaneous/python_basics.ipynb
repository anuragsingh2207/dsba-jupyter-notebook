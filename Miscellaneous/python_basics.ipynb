{
 "cells": [
  {
   "cell_type": "markdown",
   "id": "9363f475",
   "metadata": {},
   "source": [
    "### python basics"
   ]
  },
  {
   "cell_type": "markdown",
   "id": "710a6f48",
   "metadata": {},
   "source": [
    "#### session1"
   ]
  },
  {
   "cell_type": "code",
   "execution_count": 2,
   "id": "74c2313a",
   "metadata": {},
   "outputs": [
    {
     "name": "stdout",
     "output_type": "stream",
     "text": [
      "hello world\n"
     ]
    }
   ],
   "source": [
    "print(\"hello world\")"
   ]
  },
  {
   "cell_type": "markdown",
   "id": "cbb5b38d",
   "metadata": {},
   "source": [
    "### comments"
   ]
  },
  {
   "cell_type": "code",
   "execution_count": 1,
   "id": "0f5c1119",
   "metadata": {},
   "outputs": [
    {
     "name": "stdout",
     "output_type": "stream",
     "text": [
      "hi\n"
     ]
    }
   ],
   "source": [
    "# this progrm is to convert c to f \n",
    "print(\"hi\")"
   ]
  },
  {
   "cell_type": "code",
   "execution_count": 6,
   "id": "59972717",
   "metadata": {},
   "outputs": [
    {
     "ename": "NameError",
     "evalue": "name 'hi' is not defined",
     "output_type": "error",
     "traceback": [
      "\u001b[0;31m---------------------------------------------------------------------------\u001b[0m",
      "\u001b[0;31mNameError\u001b[0m                                 Traceback (most recent call last)",
      "Cell \u001b[0;32mIn[6], line 5\u001b[0m\n\u001b[1;32m      1\u001b[0m \u001b[38;5;66;03m# multiple line comments  ''' '''\u001b[39;00m\n\u001b[1;32m      2\u001b[0m \u001b[38;5;124;03m''' this is an example \u001b[39;00m\n\u001b[1;32m      3\u001b[0m \u001b[38;5;124;03mfor multiple line \u001b[39;00m\n\u001b[1;32m      4\u001b[0m \u001b[38;5;124;03mcomments '''\u001b[39;00m\n\u001b[0;32m----> 5\u001b[0m \u001b[38;5;28mprint\u001b[39m(\u001b[43mhi\u001b[49m)\n",
      "\u001b[0;31mNameError\u001b[0m: name 'hi' is not defined"
     ]
    }
   ],
   "source": [
    "# multiple line comments  ''' '''\n",
    "''' this is an example \n",
    "for multiple line \n",
    "comments '''\n",
    "print(hi)"
   ]
  },
  {
   "cell_type": "code",
   "execution_count": 7,
   "id": "35fc3ecc",
   "metadata": {},
   "outputs": [
    {
     "name": "stdout",
     "output_type": "stream",
     "text": [
      "this is pes university\n"
     ]
    }
   ],
   "source": [
    "a='this is pes university'\n",
    "print(a)"
   ]
  },
  {
   "cell_type": "code",
   "execution_count": 8,
   "id": "13b4377f",
   "metadata": {},
   "outputs": [
    {
     "name": "stdout",
     "output_type": "stream",
     "text": [
      "this is pes university\n"
     ]
    }
   ],
   "source": [
    "s=\"this is pes university\"\n",
    "print(s)"
   ]
  },
  {
   "cell_type": "code",
   "execution_count": 9,
   "id": "cdf18f8b",
   "metadata": {},
   "outputs": [
    {
     "name": "stdout",
     "output_type": "stream",
     "text": [
      "this is  pes university\n"
     ]
    }
   ],
   "source": [
    "s='''this is  pes university'''\n",
    "print(s)"
   ]
  },
  {
   "cell_type": "code",
   "execution_count": 10,
   "id": "8d0374e0",
   "metadata": {},
   "outputs": [
    {
     "name": "stdout",
     "output_type": "stream",
     "text": [
      "203, 17th \n",
      "main sr layout,\n",
      "bangalore\n",
      "karnataka\n"
     ]
    }
   ],
   "source": [
    "s='''203, 17th \n",
    "main sr layout,\n",
    "bangalore\n",
    "karnataka'''\n",
    "print(s)"
   ]
  },
  {
   "cell_type": "code",
   "execution_count": 11,
   "id": "11addcbe",
   "metadata": {},
   "outputs": [
    {
     "ename": "NameError",
     "evalue": "name 'L' is not defined",
     "output_type": "error",
     "traceback": [
      "\u001b[0;31m---------------------------------------------------------------------------\u001b[0m",
      "\u001b[0;31mNameError\u001b[0m                                 Traceback (most recent call last)",
      "Cell \u001b[0;32mIn[11], line 2\u001b[0m\n\u001b[1;32m      1\u001b[0m l\u001b[38;5;241m=\u001b[39m \u001b[38;5;124m'\u001b[39m\u001b[38;5;124mthis is my dad\u001b[39m\u001b[38;5;124m'\u001b[39m\n\u001b[0;32m----> 2\u001b[0m \u001b[38;5;28mprint\u001b[39m(\u001b[43mL\u001b[49m)\n",
      "\u001b[0;31mNameError\u001b[0m: name 'L' is not defined"
     ]
    }
   ],
   "source": [
    "l= 'this is my dad'\n",
    "print(L)"
   ]
  },
  {
   "cell_type": "code",
   "execution_count": 12,
   "id": "9b754f78",
   "metadata": {},
   "outputs": [
    {
     "name": "stdout",
     "output_type": "stream",
     "text": [
      "56\n"
     ]
    }
   ],
   "source": [
    "#VARIABLES\n",
    "x1=56\n",
    "print(x1)"
   ]
  },
  {
   "cell_type": "code",
   "execution_count": 13,
   "id": "92a7878d",
   "metadata": {},
   "outputs": [
    {
     "data": {
      "text/plain": [
       "90"
      ]
     },
     "execution_count": 13,
     "metadata": {},
     "output_type": "execute_result"
    }
   ],
   "source": [
    "z=90\n",
    "z"
   ]
  },
  {
   "cell_type": "code",
   "execution_count": 14,
   "id": "6a6fda30",
   "metadata": {},
   "outputs": [
    {
     "data": {
      "text/plain": [
       "78"
      ]
     },
     "execution_count": 14,
     "metadata": {},
     "output_type": "execute_result"
    }
   ],
   "source": [
    "x=90\n",
    "y=78\n",
    "x\n",
    "y"
   ]
  },
  {
   "cell_type": "code",
   "execution_count": 15,
   "id": "2c4623da",
   "metadata": {},
   "outputs": [
    {
     "name": "stdout",
     "output_type": "stream",
     "text": [
      "90 78\n"
     ]
    }
   ],
   "source": [
    "print(x,y)"
   ]
  },
  {
   "cell_type": "code",
   "execution_count": 17,
   "id": "9e898d08",
   "metadata": {},
   "outputs": [
    {
     "name": "stdout",
     "output_type": "stream",
     "text": [
      "56\n"
     ]
    }
   ],
   "source": [
    "x2=56 # case sensitive \n",
    "print(x2)"
   ]
  },
  {
   "cell_type": "code",
   "execution_count": 18,
   "id": "88c3d779",
   "metadata": {},
   "outputs": [
    {
     "data": {
      "text/plain": [
       "int"
      ]
     },
     "execution_count": 18,
     "metadata": {},
     "output_type": "execute_result"
    }
   ],
   "source": [
    "z=90   # int\n",
    "type(z)"
   ]
  },
  {
   "cell_type": "code",
   "execution_count": null,
   "id": "2b4f176c",
   "metadata": {},
   "outputs": [],
   "source": [
    "z=90.89\n",
    "type(z)"
   ]
  },
  {
   "cell_type": "code",
   "execution_count": null,
   "id": "df609ee8",
   "metadata": {},
   "outputs": [],
   "source": [
    "s=90+j78"
   ]
  },
  {
   "cell_type": "code",
   "execution_count": null,
   "id": "306374d1",
   "metadata": {},
   "outputs": [],
   "source": [
    "z=98+90j\n",
    "type(z)"
   ]
  },
  {
   "cell_type": "code",
   "execution_count": null,
   "id": "105fe354",
   "metadata": {},
   "outputs": [],
   "source": [
    "type(5)"
   ]
  },
  {
   "cell_type": "code",
   "execution_count": null,
   "id": "4cfd2538",
   "metadata": {},
   "outputs": [],
   "source": [
    "z=\"hi everyone\"\n",
    "type(z)"
   ]
  },
  {
   "cell_type": "code",
   "execution_count": null,
   "id": "8bed3e5c",
   "metadata": {},
   "outputs": [],
   "source": [
    "z=True\n",
    "type(z)"
   ]
  },
  {
   "cell_type": "code",
   "execution_count": null,
   "id": "4c14615f",
   "metadata": {},
   "outputs": [],
   "source": [
    "name=\"jaya\"\n",
    "age_no=90\n",
    "90_policy=67"
   ]
  },
  {
   "cell_type": "code",
   "execution_count": null,
   "id": "aa5f1133",
   "metadata": {},
   "outputs": [],
   "source": [
    "name$=\"jaya\""
   ]
  },
  {
   "cell_type": "code",
   "execution_count": 20,
   "id": "c6c53df8",
   "metadata": {},
   "outputs": [
    {
     "name": "stdout",
     "output_type": "stream",
     "text": [
      "['False', 'None', 'True', 'and', 'as', 'assert', 'async', 'await', 'break', 'class', 'continue', 'def', 'del', 'elif', 'else', 'except', 'finally', 'for', 'from', 'global', 'if', 'import', 'in', 'is', 'lambda', 'nonlocal', 'not', 'or', 'pass', 'raise', 'return', 'try', 'while', 'with', 'yield']\n"
     ]
    }
   ],
   "source": [
    "import keyword\n",
    "print(keyword.kwlist)"
   ]
  },
  {
   "cell_type": "code",
   "execution_count": null,
   "id": "0036b44d",
   "metadata": {},
   "outputs": [],
   "source": [
    "while=56"
   ]
  },
  {
   "cell_type": "code",
   "execution_count": null,
   "id": "1780ae7f",
   "metadata": {},
   "outputs": [],
   "source": [
    "a=b=c=100\n",
    "print(a,b,c)"
   ]
  },
  {
   "cell_type": "code",
   "execution_count": 19,
   "id": "5dc0a4d9",
   "metadata": {},
   "outputs": [
    {
     "name": "stdout",
     "output_type": "stream",
     "text": [
      "100 200.78 college\n"
     ]
    }
   ],
   "source": [
    "a,b,c=100,200.78,\"college\"\n",
    "print(a,b,c)"
   ]
  },
  {
   "cell_type": "code",
   "execution_count": null,
   "id": "01ff9abe",
   "metadata": {},
   "outputs": [],
   "source": [
    "a,b,c,d=100,200.78,\"college\"\n",
    "print(a,b,c,d)"
   ]
  },
  {
   "cell_type": "code",
   "execution_count": null,
   "id": "c2e8c094",
   "metadata": {},
   "outputs": [],
   "source": [
    "#type conversion \n",
    "# implicit conversion float int bool "
   ]
  },
  {
   "cell_type": "code",
   "execution_count": null,
   "id": "834ddde2",
   "metadata": {},
   "outputs": [],
   "source": [
    "a=10+5.5\n",
    "a"
   ]
  },
  {
   "cell_type": "code",
   "execution_count": null,
   "id": "b342f31d",
   "metadata": {},
   "outputs": [],
   "source": [
    "a=10+True\n",
    "a"
   ]
  },
  {
   "cell_type": "code",
   "execution_count": null,
   "id": "136b565d",
   "metadata": {},
   "outputs": [],
   "source": [
    "a=67+89.00+False\n",
    "a"
   ]
  },
  {
   "cell_type": "code",
   "execution_count": null,
   "id": "3c25a32e",
   "metadata": {},
   "outputs": [],
   "source": [
    "a=20+\"hai\""
   ]
  },
  {
   "cell_type": "code",
   "execution_count": null,
   "id": "ad74dabb",
   "metadata": {},
   "outputs": [],
   "source": [
    "#explicit conversion int() float() str() bool()"
   ]
  },
  {
   "cell_type": "code",
   "execution_count": null,
   "id": "7362cbb5",
   "metadata": {},
   "outputs": [],
   "source": [
    "int(90.89)"
   ]
  },
  {
   "cell_type": "code",
   "execution_count": null,
   "id": "17e886f8",
   "metadata": {},
   "outputs": [],
   "source": [
    "int(\"20bottles\")"
   ]
  },
  {
   "cell_type": "code",
   "execution_count": null,
   "id": "513e0b5d",
   "metadata": {},
   "outputs": [],
   "source": [
    "int(\"20\")"
   ]
  },
  {
   "cell_type": "code",
   "execution_count": null,
   "id": "71739da8",
   "metadata": {},
   "outputs": [],
   "source": [
    "float(97)"
   ]
  },
  {
   "cell_type": "code",
   "execution_count": null,
   "id": "a2079e6f",
   "metadata": {},
   "outputs": [],
   "source": [
    "float(\"20\")"
   ]
  },
  {
   "cell_type": "code",
   "execution_count": null,
   "id": "c67528cd",
   "metadata": {},
   "outputs": [],
   "source": [
    "complex(23)"
   ]
  },
  {
   "cell_type": "code",
   "execution_count": 21,
   "id": "b6618307",
   "metadata": {},
   "outputs": [
    {
     "data": {
      "text/plain": [
       "(34+45j)"
      ]
     },
     "execution_count": 21,
     "metadata": {},
     "output_type": "execute_result"
    }
   ],
   "source": [
    "complex(34,45)"
   ]
  },
  {
   "cell_type": "code",
   "execution_count": 22,
   "id": "80c347b3",
   "metadata": {},
   "outputs": [
    {
     "data": {
      "text/plain": [
       "False"
      ]
     },
     "execution_count": 22,
     "metadata": {},
     "output_type": "execute_result"
    }
   ],
   "source": [
    "bool(0)"
   ]
  },
  {
   "cell_type": "code",
   "execution_count": 23,
   "id": "5597d4f2",
   "metadata": {},
   "outputs": [
    {
     "data": {
      "text/plain": [
       "True"
      ]
     },
     "execution_count": 23,
     "metadata": {},
     "output_type": "execute_result"
    }
   ],
   "source": [
    "bool(90)"
   ]
  },
  {
   "cell_type": "code",
   "execution_count": 24,
   "id": "28d09277",
   "metadata": {},
   "outputs": [
    {
     "data": {
      "text/plain": [
       "True"
      ]
     },
     "execution_count": 24,
     "metadata": {},
     "output_type": "execute_result"
    }
   ],
   "source": [
    "bool(-34)"
   ]
  },
  {
   "cell_type": "code",
   "execution_count": null,
   "id": "5f0e5b7f",
   "metadata": {},
   "outputs": [],
   "source": [
    "str(90)"
   ]
  },
  {
   "cell_type": "code",
   "execution_count": null,
   "id": "e7f57618",
   "metadata": {},
   "outputs": [],
   "source": [
    "str(90.78)"
   ]
  },
  {
   "cell_type": "code",
   "execution_count": null,
   "id": "320775a0",
   "metadata": {},
   "outputs": [],
   "source": [
    "str(2+6j)"
   ]
  },
  {
   "cell_type": "code",
   "execution_count": null,
   "id": "b626a1b6",
   "metadata": {},
   "outputs": [],
   "source": [
    "a=input()\n",
    "print(a,type(a))"
   ]
  },
  {
   "cell_type": "code",
   "execution_count": null,
   "id": "90531999",
   "metadata": {},
   "outputs": [],
   "source": [
    "a=input(\"enter the number\")\n",
    "print(a,type(a))"
   ]
  },
  {
   "cell_type": "code",
   "execution_count": null,
   "id": "966c2302",
   "metadata": {},
   "outputs": [],
   "source": [
    "a=int(input(\"enter the number\"))\n",
    "print(a,type(a))"
   ]
  },
  {
   "cell_type": "code",
   "execution_count": null,
   "id": "91684baa",
   "metadata": {},
   "outputs": [],
   "source": [
    "a=input()\n",
    "b=input()\n",
    "c=a+b\n",
    "print(c,type(c))\n"
   ]
  },
  {
   "cell_type": "code",
   "execution_count": null,
   "id": "47dbdfc8",
   "metadata": {},
   "outputs": [],
   "source": [
    "a=int(input())\n",
    "b=int(input())\n",
    "c=a+b\n",
    "print(c)"
   ]
  },
  {
   "cell_type": "code",
   "execution_count": null,
   "id": "27112e82",
   "metadata": {},
   "outputs": [],
   "source": [
    "a=input(\"enter the first value\")\n",
    "b=input(\"enter the second vlue\")\n",
    "c=int(a+b)\n",
    "print(c,type(c))"
   ]
  },
  {
   "cell_type": "code",
   "execution_count": null,
   "id": "e7f88498",
   "metadata": {},
   "outputs": [],
   "source": [
    "a=input()\n",
    "b=input()\n",
    "c=int(a)+int(b)\n",
    "print(c)"
   ]
  },
  {
   "cell_type": "code",
   "execution_count": null,
   "id": "8687144e",
   "metadata": {},
   "outputs": [],
   "source": [
    "# string handling functions  \n",
    "# lower upper find replace split count ....."
   ]
  },
  {
   "cell_type": "code",
   "execution_count": null,
   "id": "fd3d79c2",
   "metadata": {},
   "outputs": [],
   "source": [
    "s=\"pes university bangalore\""
   ]
  },
  {
   "cell_type": "code",
   "execution_count": null,
   "id": "21d9f004",
   "metadata": {},
   "outputs": [],
   "source": [
    "s.upper()"
   ]
  },
  {
   "cell_type": "code",
   "execution_count": null,
   "id": "5c444446",
   "metadata": {},
   "outputs": [],
   "source": [
    "s.title()"
   ]
  },
  {
   "cell_type": "code",
   "execution_count": null,
   "id": "4a569dbb",
   "metadata": {},
   "outputs": [],
   "source": [
    "s.split()"
   ]
  },
  {
   "cell_type": "code",
   "execution_count": null,
   "id": "cdda4922",
   "metadata": {},
   "outputs": [],
   "source": [
    "s1=\"hi#hello#student#python\""
   ]
  },
  {
   "cell_type": "code",
   "execution_count": null,
   "id": "f34c9a4e",
   "metadata": {},
   "outputs": [],
   "source": [
    "s2=s1.split(sep='#')\n",
    "s2"
   ]
  },
  {
   "cell_type": "code",
   "execution_count": null,
   "id": "ced4939b",
   "metadata": {},
   "outputs": [],
   "source": [
    "s2[1]"
   ]
  },
  {
   "cell_type": "code",
   "execution_count": null,
   "id": "a4892040",
   "metadata": {},
   "outputs": [],
   "source": [
    "# slicing on s1  - hello \n",
    "s1[3:8]\n"
   ]
  },
  {
   "cell_type": "code",
   "execution_count": null,
   "id": "c4ff1010",
   "metadata": {},
   "outputs": [],
   "source": [
    "s1.split(sep='#',maxsplit=2)"
   ]
  },
  {
   "cell_type": "code",
   "execution_count": null,
   "id": "ac88ac38",
   "metadata": {},
   "outputs": [],
   "source": [
    "s='jaya@gmail.com'\n",
    "username,domainname=s.split('@')\n",
    "print(\"username is \",username)\n",
    "print(\"domain name is \",domainname)"
   ]
  },
  {
   "cell_type": "code",
   "execution_count": null,
   "id": "a500d7c3",
   "metadata": {},
   "outputs": [],
   "source": [
    "s1"
   ]
  },
  {
   "cell_type": "code",
   "execution_count": null,
   "id": "83c74687",
   "metadata": {},
   "outputs": [],
   "source": [
    "s1.replace('#',';')"
   ]
  },
  {
   "cell_type": "code",
   "execution_count": null,
   "id": "b571c090",
   "metadata": {},
   "outputs": [],
   "source": [
    "s1.replace('h','hey')"
   ]
  },
  {
   "cell_type": "code",
   "execution_count": null,
   "id": "ffa6ab16",
   "metadata": {},
   "outputs": [],
   "source": [
    "s1.replace('#',';').replace('h','H')"
   ]
  },
  {
   "cell_type": "code",
   "execution_count": null,
   "id": "94c31ab3",
   "metadata": {},
   "outputs": [],
   "source": [
    "s1.replace('h','H',1)"
   ]
  },
  {
   "cell_type": "code",
   "execution_count": null,
   "id": "3b571e0c",
   "metadata": {},
   "outputs": [],
   "source": [
    "# find and index functions "
   ]
  },
  {
   "cell_type": "code",
   "execution_count": null,
   "id": "1a65df96",
   "metadata": {},
   "outputs": [],
   "source": [
    "s1.find('z')"
   ]
  },
  {
   "cell_type": "code",
   "execution_count": null,
   "id": "eb15b155",
   "metadata": {},
   "outputs": [],
   "source": [
    "s1"
   ]
  },
  {
   "cell_type": "code",
   "execution_count": null,
   "id": "53a81c2c",
   "metadata": {},
   "outputs": [],
   "source": [
    "s1.index('z')"
   ]
  },
  {
   "cell_type": "code",
   "execution_count": null,
   "id": "459721e1",
   "metadata": {},
   "outputs": [],
   "source": [
    "s1.count('h')"
   ]
  },
  {
   "cell_type": "code",
   "execution_count": null,
   "id": "46d8de29",
   "metadata": {},
   "outputs": [],
   "source": [
    "s1"
   ]
  },
  {
   "cell_type": "code",
   "execution_count": null,
   "id": "4e7bfa35",
   "metadata": {},
   "outputs": [],
   "source": [
    "a=10\n",
    "b=20\n",
    "c=30\n",
    "print(a,b,c,sep=';',end='!!!')"
   ]
  },
  {
   "cell_type": "code",
   "execution_count": null,
   "id": "9740683c",
   "metadata": {},
   "outputs": [],
   "source": [
    "a,b,c=input(\"enter string\").split()\n",
    "print(a)\n",
    "print(b)\n",
    "print(c)"
   ]
  },
  {
   "cell_type": "code",
   "execution_count": null,
   "id": "1e9f8c88",
   "metadata": {},
   "outputs": [],
   "source": [
    "s=input()\n",
    "s"
   ]
  },
  {
   "cell_type": "code",
   "execution_count": null,
   "id": "41b7928b",
   "metadata": {},
   "outputs": [],
   "source": [
    "s1=s.split('/')\n",
    "s1"
   ]
  },
  {
   "cell_type": "code",
   "execution_count": null,
   "id": "a963a032",
   "metadata": {},
   "outputs": [],
   "source": [
    "s1[1]+\"/\"+s1[0]  # indexing"
   ]
  },
  {
   "cell_type": "code",
   "execution_count": null,
   "id": "0f809cea",
   "metadata": {},
   "outputs": [],
   "source": [
    "s[6:]+\"/\"+s[3:5]+\"/\"+s[:2] # slicing "
   ]
  },
  {
   "cell_type": "code",
   "execution_count": 128,
   "id": "9a87799a",
   "metadata": {},
   "outputs": [
    {
     "data": {
      "text/plain": [
       "False"
      ]
     },
     "execution_count": 128,
     "metadata": {},
     "output_type": "execute_result"
    }
   ],
   "source": [
    "a = \"Badenrttemberg1@\"\n",
    "b = \"Badenrttemberg1@\"\n",
    "a is b\n"
   ]
  },
  {
   "cell_type": "code",
   "execution_count": 122,
   "id": "565a392a",
   "metadata": {},
   "outputs": [
    {
     "data": {
      "text/plain": [
       "False"
      ]
     },
     "execution_count": 122,
     "metadata": {},
     "output_type": "execute_result"
    }
   ],
   "source": [
    "a=600\n",
    "b=600\n",
    "a is b"
   ]
  },
  {
   "cell_type": "code",
   "execution_count": 123,
   "id": "449d2f47",
   "metadata": {},
   "outputs": [
    {
     "name": "stdout",
     "output_type": "stream",
     "text": [
      "3049946338896 3049946339504\n"
     ]
    }
   ],
   "source": [
    "print(id(a),id(b))"
   ]
  },
  {
   "cell_type": "code",
   "execution_count": 124,
   "id": "71a7f449",
   "metadata": {},
   "outputs": [
    {
     "data": {
      "text/plain": [
       "True"
      ]
     },
     "execution_count": 124,
     "metadata": {},
     "output_type": "execute_result"
    }
   ],
   "source": [
    "a=9\n",
    "b=9\n",
    "a is b"
   ]
  },
  {
   "cell_type": "code",
   "execution_count": 125,
   "id": "aeda92b5",
   "metadata": {},
   "outputs": [
    {
     "name": "stdout",
     "output_type": "stream",
     "text": [
      "3049836904944 3049836904944\n"
     ]
    }
   ],
   "source": [
    "print(id(a),id(b))"
   ]
  },
  {
   "cell_type": "code",
   "execution_count": 129,
   "id": "66239c3a",
   "metadata": {},
   "outputs": [],
   "source": [
    "s = \"TPoyrtohnotno  ciosu rtshees  lianr gTeosrto nCtiot yb yi nB oCdaennasdeao\""
   ]
  },
  {
   "cell_type": "code",
   "execution_count": 130,
   "id": "6cc4bebe",
   "metadata": {},
   "outputs": [
    {
     "data": {
      "text/plain": [
       "'Toronto is the largest City in Canada'"
      ]
     },
     "execution_count": 130,
     "metadata": {},
     "output_type": "execute_result"
    }
   ],
   "source": [
    "s[0::2]"
   ]
  },
  {
   "cell_type": "code",
   "execution_count": 131,
   "id": "3ce98714",
   "metadata": {},
   "outputs": [
    {
     "data": {
      "text/plain": [
       "'Python courses in Toronto by Bodenseo'"
      ]
     },
     "execution_count": 131,
     "metadata": {},
     "output_type": "execute_result"
    }
   ],
   "source": [
    "s[1::2]"
   ]
  },
  {
   "cell_type": "code",
   "execution_count": null,
   "id": "885b7fe7",
   "metadata": {},
   "outputs": [],
   "source": [
    "#Find the maximum of 3 numbers"
   ]
  },
  {
   "cell_type": "code",
   "execution_count": 134,
   "id": "23671fa2",
   "metadata": {},
   "outputs": [
    {
     "data": {
      "text/plain": [
       "30"
      ]
     },
     "execution_count": 134,
     "metadata": {},
     "output_type": "execute_result"
    }
   ],
   "source": [
    "a=max(10,20,30)\n",
    "a"
   ]
  },
  {
   "cell_type": "code",
   "execution_count": null,
   "id": "6fdaf48e",
   "metadata": {},
   "outputs": [],
   "source": [
    "#Python Program to exchange the values of two numbers without using \n",
    "#a temporary variable"
   ]
  },
  {
   "cell_type": "code",
   "execution_count": null,
   "id": "067b2f22",
   "metadata": {},
   "outputs": [],
   "source": []
  },
  {
   "cell_type": "markdown",
   "id": "40248239",
   "metadata": {},
   "source": [
    "Write a program that asks the user to enter a string of at least six characters. Then print out the following: \n",
    "(a) The string backwards\n",
    "(b) Every character of the string except the last one\n",
    "(c) Every character of the string except the first and last\n",
    "(d) If the string contains a lowercase a, print out the index of the first a. \n",
    "Otherwise say that there is no lowercase a\n",
    "(e) The string in all caps\n",
    "(f) The string with every space replaced with an underscore\n",
    "\n"
   ]
  },
  {
   "cell_type": "code",
   "execution_count": 136,
   "id": "674302bf",
   "metadata": {},
   "outputs": [
    {
     "name": "stdout",
     "output_type": "stream",
     "text": [
      "pes university\n",
      "ytisrevinu sep\n",
      "pes universit\n",
      "es universit\n",
      "not found\n",
      "PES UNIVERSITY\n",
      "pes_university\n"
     ]
    }
   ],
   "source": [
    "s=input()\n",
    "if len(s)>=6:\n",
    "    print(s[::-1])\n",
    "    print(s[:-1])\n",
    "    print(s[1:-1])\n",
    "    if 'a' in s:\n",
    "        print(s.index('a'))\n",
    "    else:\n",
    "        print(\"not found\")\n",
    "    print(s.upper())\n",
    "    print(s.replace(' ','_'))\n",
    "else:\n",
    "    print(\" enter bigger string\")"
   ]
  },
  {
   "cell_type": "code",
   "execution_count": null,
   "id": "bdfb0743",
   "metadata": {},
   "outputs": [],
   "source": []
  },
  {
   "cell_type": "code",
   "execution_count": null,
   "id": "a99914d2",
   "metadata": {},
   "outputs": [],
   "source": []
  }
 ],
 "metadata": {
  "kernelspec": {
   "display_name": "Python 3 (ipykernel)",
   "language": "python",
   "name": "python3"
  },
  "language_info": {
   "codemirror_mode": {
    "name": "ipython",
    "version": 3
   },
   "file_extension": ".py",
   "mimetype": "text/x-python",
   "name": "python",
   "nbconvert_exporter": "python",
   "pygments_lexer": "ipython3",
   "version": "3.11.6"
  }
 },
 "nbformat": 4,
 "nbformat_minor": 5
}
