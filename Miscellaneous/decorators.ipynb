{
 "cells": [
  {
   "cell_type": "markdown",
   "metadata": {},
   "source": [
    "Without Decorator"
   ]
  },
  {
   "cell_type": "code",
   "execution_count": 7,
   "metadata": {},
   "outputs": [],
   "source": [
    "def milk(func): \n",
    "    def wrapper(): \n",
    "        print(\"hot milk\") \n",
    "        func() \n",
    "    return wrapper \n",
    "    \n",
    "def sugar(func): \n",
    "    def wrapper():\n",
    "        print(\"sugar\") \n",
    "        func() \n",
    "    return wrapper\n",
    "\n",
    "def coffee(variety=\"arabica\"): \n",
    "    print(variety) \n",
    "    "
   ]
  },
  {
   "cell_type": "code",
   "execution_count": 8,
   "metadata": {},
   "outputs": [
    {
     "name": "stdout",
     "output_type": "stream",
     "text": [
      "arabica\n"
     ]
    }
   ],
   "source": [
    "coffee()"
   ]
  },
  {
   "cell_type": "code",
   "execution_count": 9,
   "metadata": {},
   "outputs": [],
   "source": [
    "coffee = sugar(milk(coffee)) "
   ]
  },
  {
   "cell_type": "code",
   "execution_count": 10,
   "metadata": {},
   "outputs": [
    {
     "name": "stdout",
     "output_type": "stream",
     "text": [
      "sugar\n",
      "hot milk\n",
      "arabica\n"
     ]
    }
   ],
   "source": [
    "coffee() "
   ]
  },
  {
   "cell_type": "markdown",
   "metadata": {},
   "source": [
    "With Decorator"
   ]
  },
  {
   "cell_type": "code",
   "execution_count": 16,
   "metadata": {},
   "outputs": [],
   "source": [
    "def milk(func):\n",
    "    def wrapper():\n",
    "        print(\"hot milk\")\n",
    "        func()\n",
    "    return wrapper\n",
    "\n",
    "def sugar(func):\n",
    "    def wrapper():\n",
    "        print(\"sugar\")\n",
    "        func()\n",
    "    return wrapper\n",
    "\n",
    "@sugar\n",
    "@milk\n",
    "\n",
    "def coffee(variety=\"arabica\"):\n",
    "    print(variety)"
   ]
  },
  {
   "cell_type": "code",
   "execution_count": 17,
   "metadata": {},
   "outputs": [
    {
     "name": "stdout",
     "output_type": "stream",
     "text": [
      "sugar\n",
      "hot milk\n",
      "arabica\n"
     ]
    }
   ],
   "source": [
    "coffee()\n",
    "    "
   ]
  },
  {
   "cell_type": "markdown",
   "metadata": {},
   "source": [
    "Order matters for decorators"
   ]
  },
  {
   "cell_type": "code",
   "execution_count": 19,
   "metadata": {},
   "outputs": [],
   "source": [
    "def milk(func):\n",
    "    def wrapper():\n",
    "        print(\"hot milk\")\n",
    "        func()\n",
    "    return wrapper\n",
    "\n",
    "def sugar(func):\n",
    "    def wrapper():\n",
    "        print(\"sugar\")\n",
    "        func()\n",
    "    return wrapper\n",
    "\n",
    "\n",
    "@milk\n",
    "@sugar\n",
    "\n",
    "def coffee(variety=\"arabica\"):\n",
    "    print(variety)"
   ]
  },
  {
   "cell_type": "code",
   "execution_count": 20,
   "metadata": {},
   "outputs": [
    {
     "name": "stdout",
     "output_type": "stream",
     "text": [
      "hot milk\n",
      "sugar\n",
      "arabica\n"
     ]
    }
   ],
   "source": [
    "coffee()"
   ]
  },
  {
   "cell_type": "code",
   "execution_count": 21,
   "metadata": {},
   "outputs": [],
   "source": [
    "def call_counter(origin_function):\n",
    "    count = 0\n",
    "\n",
    "    def wrapper(func_arg):\n",
    "        nonlocal count\n",
    "        count += 1\n",
    "        print(f'call number is {count}')\n",
    "        \n",
    "        return origin_function(func_arg)\n",
    "\n",
    "    return wrapper\n",
    "\n",
    "\n",
    "@call_counter\n",
    "def say_hello(guest_name):\n",
    "    print(f'Hello, {guest_name}')\n"
   ]
  },
  {
   "cell_type": "code",
   "execution_count": 22,
   "metadata": {},
   "outputs": [
    {
     "name": "stdout",
     "output_type": "stream",
     "text": [
      "call number is 1\n",
      "Hello, John Doe\n"
     ]
    }
   ],
   "source": [
    "say_hello('John Doe')"
   ]
  },
  {
   "cell_type": "code",
   "execution_count": 23,
   "metadata": {},
   "outputs": [
    {
     "name": "stdout",
     "output_type": "stream",
     "text": [
      "call number is 2\n",
      "Hello, Marilyn Monroe\n"
     ]
    }
   ],
   "source": [
    "say_hello('Marilyn Monroe')"
   ]
  },
  {
   "cell_type": "code",
   "execution_count": null,
   "metadata": {},
   "outputs": [],
   "source": []
  }
 ],
 "metadata": {
  "kernelspec": {
   "display_name": "pyenv",
   "language": "python",
   "name": "python3"
  },
  "language_info": {
   "codemirror_mode": {
    "name": "ipython",
    "version": 3
   },
   "file_extension": ".py",
   "mimetype": "text/x-python",
   "name": "python",
   "nbconvert_exporter": "python",
   "pygments_lexer": "ipython3",
   "version": "3.11.7"
  }
 },
 "nbformat": 4,
 "nbformat_minor": 2
}
