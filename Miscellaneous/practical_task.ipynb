{
 "cells": [
  {
   "cell_type": "markdown",
   "metadata": {},
   "source": [
    "Create a function that takes two parameters of string type which are fractions with the same denominator and returns a sum expression of these fractions and the sum result.\n",
    "\n",
    "For example:\n",
    "\n",
    "Input: a_b = '1/3'\n",
    "\n",
    "Input: c_b = '5/3'\n",
    "\n",
    "Input: get_fractions(a_b, c_b)\n",
    "\n",
    "Output: '1/3 + 5/3 = 6/3'"
   ]
  },
  {
   "cell_type": "code",
   "execution_count": 1,
   "metadata": {},
   "outputs": [
    {
     "name": "stdout",
     "output_type": "stream",
     "text": [
      "34/65\n"
     ]
    },
    {
     "data": {
      "text/plain": [
       "'23/65 + 11/65 = 34/65'"
      ]
     },
     "execution_count": 1,
     "metadata": {},
     "output_type": "execute_result"
    }
   ],
   "source": [
    "\n",
    "def get_fractions(a_b, c_b):\n",
    "    a,b = a_b.split(\"/\")\n",
    "    c,b = c_b.split(\"/\")\n",
    "    sum = str(int(a)+int(c))+\"/\"+b\n",
    "    print(sum)\n",
    "    return f\"{a_b} + {c_b} = {sum}\"\n",
    "\n",
    "a_b = '23/65' #'1/3'\n",
    "c_b = '11/65' #'5/3'\n",
    "\n",
    "get_fractions(a_b,c_b)"
   ]
  },
  {
   "cell_type": "markdown",
   "metadata": {},
   "source": [
    "Implement a function get_longest_word(s: str) -> str which returns the longest word in the given string. The word can contain any symbols except whitespaces (' ', '\\n', '\\t' and so on). If there are multiple longest words in the string with the same length return the word that occurs first.\n",
    "\n",
    "Example:\n",
    "\n",
    "Input: get_longest_word('Python is simple and effective!')\n",
    "\n",
    "Output: 'effective!'"
   ]
  },
  {
   "cell_type": "code",
   "execution_count": 2,
   "metadata": {},
   "outputs": [
    {
     "name": "stdout",
     "output_type": "stream",
     "text": [
      "effective!\n"
     ]
    }
   ],
   "source": [
    "def get_longest_word(s: str) -> str:\n",
    "    words = s.split()\n",
    "    longest_word = max(words, key=len)\n",
    "    return longest_word\n",
    "\n",
    "\n",
    "input_string = 'Python is simple effective and effective!\\n'\n",
    "result = get_longest_word(input_string)\n",
    "print(result) "
   ]
  },
  {
   "cell_type": "markdown",
   "metadata": {},
   "source": [
    "Implement a function that receives a string and replaces all \" symbols with ' and vice versa."
   ]
  },
  {
   "cell_type": "code",
   "execution_count": 3,
   "metadata": {},
   "outputs": [
    {
     "name": "stdout",
     "output_type": "stream",
     "text": [
      " Python is 'simple and \"effective!\n"
     ]
    }
   ],
   "source": [
    "def replace_quote(s):\n",
    "    result = \"\"\n",
    "    for i in s:\n",
    "        if i == '\"':\n",
    "            result += \"'\"\n",
    "        elif i == \"'\":\n",
    "            result += '\"'\n",
    "        else:\n",
    "            result += i\n",
    "    return result\n",
    "\n",
    "print(replace_quote(''' Python is \"simple and 'effective!'''))"
   ]
  },
  {
   "cell_type": "markdown",
   "metadata": {},
   "source": [
    "Write a function that checks whether a string is a palindrome or not. The usage of any reversing functions is prohibited.\n",
    "\n",
    "To check your implementation you can use strings from here\n",
    "\n",
    "Examples:\n",
    "\n",
    "A dog! A panic in a pagoda!\n",
    "\n",
    "Do nine men Interpret? Nine men I nod\n",
    "\n",
    "T. Eliot, top bard, notes putrid tang emanating, is sad; I'd assign it a name: gnat dirt upset on drab pot toilet.\n",
    "\n",
    "A man, a plan, a canal — Panama!"
   ]
  },
  {
   "cell_type": "code",
   "execution_count": 5,
   "metadata": {},
   "outputs": [
    {
     "name": "stdout",
     "output_type": "stream",
     "text": [
      "True\n"
     ]
    }
   ],
   "source": [
    "def is_palindrome(s):\n",
    "\n",
    "    s = ''.join(e.lower() for e in s if e.isalnum())\n",
    "    \n",
    "    for i in range(len(s) // 2):\n",
    "        if s[i] != s[len(s) - i - 1]:\n",
    "            return False\n",
    "    return True\n",
    "\n",
    "\n",
    "input_string = \"Do nine men Interpret? Nine men I nod\"\n",
    "print(is_palindrome(input_string))  "
   ]
  },
  {
   "cell_type": "markdown",
   "metadata": {},
   "source": [
    "Write a Python program that accepts a sequence of words as input and prints the unique words in a sorted form.\n",
    "\n",
    "Examples:\n",
    "\n",
    "Input:\n",
    "\n",
    "('red', 'white', 'black', 'red', 'green', 'black') \n",
    "\n",
    "Output:\n",
    "\n",
    "['black', 'green', 'red', 'white']"
   ]
  },
  {
   "cell_type": "code",
   "execution_count": 21,
   "metadata": {},
   "outputs": [
    {
     "name": "stdout",
     "output_type": "stream",
     "text": [
      "['black', 'green', 'purple', 'red', 'white']\n"
     ]
    }
   ],
   "source": [
    "from typing import List, Tuple\n",
    "\n",
    "def sort_unique_elements(str_list: Tuple[str]) -> List[str]:\n",
    "     unique_words = sorted(set(str_list))\n",
    "     return unique_words\n",
    "\n",
    "\n",
    "\n",
    "input_words = ('red', 'white', 'black', 'red', 'green', 'black','purple')\n",
    "\n",
    "\n",
    "result = sort_unique_elements(input_words)\n",
    "\n",
    "\n",
    "print(result)\n"
   ]
  },
  {
   "cell_type": "markdown",
   "metadata": {},
   "source": [
    "Implement a function foo(List[int]) -> List[int] which, given a list of integers, returns a new list such that each element at index i of the new list is the product of all the numbers in the original array except the one at i.\n",
    "\n",
    "Example:\n",
    "\n",
    "Input: foo([1, 2, 3, 4, 5])\n",
    "\n",
    "Output: [120, 60, 40, 30, 24]\n",
    "\n",
    "Input: foo([3, 2, 1])\n",
    "\n",
    "Output: [2, 3, 6]"
   ]
  },
  {
   "cell_type": "code",
   "execution_count": 16,
   "metadata": {},
   "outputs": [
    {
     "name": "stdout",
     "output_type": "stream",
     "text": [
      "[120, 0, 0, 0, 0]\n",
      "[120, 300, 200, 150, 120]\n"
     ]
    }
   ],
   "source": [
    "from typing import List\n",
    "\n",
    "def foo(nums: List[int]) -> List[int]:\n",
    "    product = 1\n",
    "    zero_count = nums.count(0)\n",
    "\n",
    "    for num in nums:\n",
    "        if num != 0:\n",
    "            product *= num\n",
    "\n",
    "    if zero_count > 1:\n",
    "        return [0] * len(nums)\n",
    "    \n",
    "    elif zero_count == 1:\n",
    "        return [product if num == 0 else 0 for num in nums]\n",
    "\n",
    "    else:\n",
    "        return [product // num for num in nums]\n",
    "\n",
    "# Test cases\n",
    "print(foo([0, 2, 3, 4, 5])) \n",
    "print(foo([5, 2, 3, 4, 5]))"
   ]
  },
  {
   "cell_type": "markdown",
   "metadata": {},
   "source": [
    "Update the get_fizzbuzz_list function. The function has to generate and return a list with numbers from 1 to n inclusive where the n is passed as a parameter to the function. But if the number is divided by 3 the function puts a Fizz word into the list, and if the number is divided by 5 the function puts a Buzz word into the list. If the number is divided by both 3 and 5 the function puts FizzBuzz into the list."
   ]
  },
  {
   "cell_type": "code",
   "execution_count": 13,
   "metadata": {},
   "outputs": [
    {
     "name": "stdout",
     "output_type": "stream",
     "text": [
      "[1, 2, 'Fizz', 4, 'Buzz', 'Fizz', 7, 8, 'Fizz', 'Buzz', 11, 'Fizz', 13, 14, 'FizzBuzz', 16]\n"
     ]
    }
   ],
   "source": [
    "def get_fizzbuzz_list(n):\n",
    "    l=[]\n",
    "    for i in range(1,n+1):\n",
    "        if i%3 == 0 and i%5 == 0:\n",
    "            l.append(\"FizzBuzz\")\n",
    "        elif i%3 == 0:\n",
    "            l.append(\"Fizz\")\n",
    "        elif i%5 == 0:\n",
    "            l.append(\"Buzz\")\n",
    "        \n",
    "        else:\n",
    "            l.append(i)\n",
    "    return l\n",
    "\n",
    "n = int(input(\"Enter an integer number:\"))\n",
    "print(get_fizzbuzz_list(n))\n",
    "\n"
   ]
  },
  {
   "cell_type": "markdown",
   "metadata": {},
   "source": [
    "Implement a function get_tuple(num: int) -> Tuple[int] which returns a tuple of a given integer's digits.\n",
    "\n",
    "Example:\n",
    "\n",
    "Input: get_tuple(87178291199)\n",
    "\n",
    "Output: (8, 7, 1, 7, 8, 2, 9, 1, 1, 9, 9)"
   ]
  },
  {
   "cell_type": "code",
   "execution_count": 23,
   "metadata": {},
   "outputs": [
    {
     "name": "stdout",
     "output_type": "stream",
     "text": [
      "87178291199\n",
      "(8, 7, 1, 7, 8, 2, 9, 1, 1, 9, 9)\n"
     ]
    }
   ],
   "source": [
    "def get_tuple(num: int) -> Tuple[int]:\n",
    "    s= str(num)\n",
    "    l = []\n",
    "    print(s)\n",
    "    for i in s:\n",
    "        l.append(int(i))\n",
    "    t = tuple(l)\n",
    "    return t\n",
    "\n",
    "print(get_tuple(87178291199))"
   ]
  },
  {
   "cell_type": "markdown",
   "metadata": {},
   "source": [
    "Implement a function get_pairs(lst: List) -> List[Tuple] which returns a list of tuples containing pairs of elements. The pairs should be formed as in the example. If there is only one element in the list, return [] instead.\n",
    "\n",
    "Example:\n",
    "\n",
    "Input: get_pairs([1, 2, 3, 8, 9])\n",
    "\n",
    "Output: [(1, 2), (2, 3), (3, 8), (8, 9)]\n",
    "\n",
    "Input: get_pairs(['need', 'to', 'sleep', 'more'])\n",
    "\n",
    "Output: [('need', 'to'), ('to', 'sleep'), ('sleep', 'more')] \n",
    "\n",
    "Input: get_pairs([1])\n",
    "Output: []"
   ]
  },
  {
   "cell_type": "code",
   "execution_count": 22,
   "metadata": {},
   "outputs": [
    {
     "name": "stdout",
     "output_type": "stream",
     "text": [
      "[(1, 'hi'), ('hi', 3), (3, 8), (8, 9), (9, 6)]\n",
      "[]\n",
      "[]\n",
      "[(1, 2), (2, 3.14)]\n"
     ]
    }
   ],
   "source": [
    "from typing import List, Tuple\n",
    "\n",
    "def get_pairs(lst: List) -> List[Tuple]:\n",
    "    pair_list = []\n",
    "    temp_tuple = ()\n",
    "    i = 0\n",
    "    if len(lst) <= 1:\n",
    "        return pair_list\n",
    "    else:\n",
    "        while i < (len(lst)-1):\n",
    "            temp_tuple = (lst[i],lst[i+1])\n",
    "            pair_list.append(temp_tuple)\n",
    "            i = i+ 1\n",
    "        return pair_list\n",
    "        \n",
    "\n",
    "print(get_pairs([1, 'hi', 3, 8, 9, 6]))\n",
    "print(get_pairs([1]))\n",
    "print(get_pairs([]))\n",
    "print(get_pairs([1, 2, 3.14]))"
   ]
  },
  {
   "cell_type": "markdown",
   "metadata": {},
   "source": [
    "Write a Python program to count the frequency of each character in a string (ignore the case of letters).\n",
    "\n",
    "Example:\n",
    "\n",
    "Input: 'Oh, it is python'\n",
    "\n",
    "Output: {\" \": 3, \",\": 1, \"h\": 2, \"i\": 2, \"n\": 1, \"o\": 2, \"p\": 1, \"s\": 1, \"t\": 2, \"y\": 1}"
   ]
  },
  {
   "cell_type": "code",
   "execution_count": 19,
   "metadata": {},
   "outputs": [
    {
     "name": "stdout",
     "output_type": "stream",
     "text": [
      "{' ': 3, ',': 1, 'h': 2, 'i': 2, 'n': 1, 'o': 2, 'p': 1, 's': 1, 't': 2, 'y': 1}\n"
     ]
    }
   ],
   "source": [
    "from typing import Dict\n",
    "\n",
    "\n",
    "def get_dict(s: str) -> Dict[str, int]:\n",
    "    ls = s.lower()\n",
    "    ul= []\n",
    "    d ={}\n",
    "    for i in ls:\n",
    "        c = ls.count(i)\n",
    "        if i not in ul:\n",
    "            ul.append(i)\n",
    "            d[i] = c\n",
    "            c = 0      \n",
    "    return dict(sorted(d.items()))\n",
    "\n",
    "print(get_dict('Oh, it is python'))\n"
   ]
  },
  {
   "cell_type": "markdown",
   "metadata": {},
   "source": [
    "Write a Python program to print all the unique values of all the dictionaries in a list.\n",
    "\n",
    "Example:\n",
    "\n",
    "Input: [{\"V\":\"S001\"}, {\"V\": \"S002\"}, {\"VI\": \"S001\"}, {\"VI\": \"S005\"}, {\"VII\":\"S005\"}, {\"V\":\"S009\"},{\"VIII\":\"S007\"}]\n",
    "\n",
    "Output: {'S005', 'S002', 'S007', 'S001', 'S009'}"
   ]
  },
  {
   "cell_type": "code",
   "execution_count": 2,
   "metadata": {},
   "outputs": [
    {
     "name": "stdout",
     "output_type": "stream",
     "text": [
      "{'S007', 'S002', 'S001', 'S005', 'S009'}\n"
     ]
    }
   ],
   "source": [
    "def unique_values(dictionaries):\n",
    "    unique_set = set()\n",
    "\n",
    "    for dictionary in dictionaries:\n",
    "        for value in dictionary.values():\n",
    "            unique_set.add(value)\n",
    "\n",
    "    return unique_set   \n",
    "\n",
    "input = [{\"V\":\"S001\"}, {\"V\": \"S002\"}, {\"VI\": \"S001\"}, {\"VI\": \"S005\"}, {\"VII\":\"S005\"}, {\"V\":\"S009\"},{\"VIII\":\"S007\"}]\n",
    "\n",
    "print(unique_values(input))"
   ]
  },
  {
   "cell_type": "markdown",
   "metadata": {},
   "source": [
    "Write a program which makes a pretty print of a part of the multiplication table.\n",
    "\n",
    "Example:\n",
    "\n",
    "Input:\n",
    "row_start = 2\n",
    "row_end = 4\n",
    "column_start = 3\n",
    "column_end = 7\n",
    "\n",
    "Output: [[6, 8, 10, 12, 14], [9, 12, 15, 18, 21], [12, 16, 20, 24, 28]]\n",
    "that is equal to the following multiplication table:\n",
    "\n",
    "    3   4   5   6   7   \n",
    "2   6   8   10  12  14  \n",
    "3   9   12  15  18  21  \n",
    "4   12  16  20  24  28"
   ]
  },
  {
   "cell_type": "code",
   "execution_count": 2,
   "metadata": {},
   "outputs": [
    {
     "name": "stdout",
     "output_type": "stream",
     "text": [
      "[[6, 8, 10, 12, 14], [9, 12, 15, 18, 21], [12, 16, 20, 24, 28]]\n"
     ]
    }
   ],
   "source": [
    "def generate_multiplication_table(row_start, row_end, column_start, column_end):\n",
    "    table = []\n",
    "\n",
    "    for row in range(row_start, row_end + 1):\n",
    "        row_values = []\n",
    "        for col in range(column_start, column_end + 1):\n",
    "            row_values.append(row * col)\n",
    "        table.append(row_values)\n",
    "\n",
    "    return table\n",
    "\n",
    "# Example usage\n",
    "row_start = 2\n",
    "row_end = 4\n",
    "column_start = 3\n",
    "column_end = 7\n",
    "\n",
    "multiplication_table = generate_multiplication_table(row_start, row_end, column_start, column_end)\n",
    "print(multiplication_table)\n",
    "\n",
    "\n",
    "\n"
   ]
  },
  {
   "cell_type": "markdown",
   "metadata": {},
   "source": [
    "Implement a function that takes a number as an argument and returns a dictionary, where a key is a number, and the value is the square of that number.\n",
    "\n",
    "Example:\n",
    "\n",
    ">>> generate_squares(5)\n",
    "{1: 1, 2: 4, 3: 9, 4: 16, 5: 25}"
   ]
  },
  {
   "cell_type": "code",
   "execution_count": 3,
   "metadata": {},
   "outputs": [
    {
     "name": "stdout",
     "output_type": "stream",
     "text": [
      "{1: 1, 2: 4, 3: 9, 4: 16, 5: 25}\n"
     ]
    }
   ],
   "source": [
    "from typing import Dict\n",
    "\n",
    "def generate_squares(num: int)-> Dict[int, int]:\n",
    "    dict = {}\n",
    "    k=v=0\n",
    "    for i in range(1,num+1):\n",
    "        k=i\n",
    "        v=i**2\n",
    "        dict[k]=v\n",
    "    return dict\n",
    "\n",
    "    dict = {}\n",
    "    k=v=0\n",
    "    for i in range(1,n+1):\n",
    "        k=i\n",
    "        v=i**2\n",
    "        dict[k]=v\n",
    "    return dict\n",
    "\n",
    "print(generate_squares(5))   \n"
   ]
  },
  {
   "cell_type": "markdown",
   "metadata": {},
   "source": [
    "```\n",
    "We have a list of dictionaries:\n",
    "\n",
    "friends = [\n",
    "    {'name': 'Sam', 'gender': 'male', 'sport': 'Basketball'},\n",
    "    {'name': 'Emily', 'gender': 'female', 'sport': 'Volleyball'},\n",
    "]\n",
    "Create functions query, select, and field_filter to work with lists similar to friends. Stubs for these functions are already created.\n",
    "\n",
    "Example:\n",
    "\n",
    ">>> result = query(\n",
    "    friends,\n",
    "    select('name', 'gender', 'sport'),\n",
    "    field_filter('sport', *('Basketball', 'Volleyball')),\n",
    "    field_filter('gender', *('male',)),\n",
    ")\n",
    ">>> result\n",
    "[{'gender': 'male', 'name': 'Sam', 'sport': 'Basketball'}]\n",
    "```"
   ]
  },
  {
   "cell_type": "code",
   "execution_count": 9,
   "metadata": {},
   "outputs": [
    {
     "name": "stdout",
     "output_type": "stream",
     "text": [
      "[{'name': 'Sam', 'gender': 'male', 'sport': 'Basketball'}]\n"
     ]
    }
   ],
   "source": [
    "from typing import Dict, Any, Callable, Iterable\n",
    "\n",
    "DataType = Iterable[Dict[str, Any]]\n",
    "ModifierFunc = Callable[[DataType], DataType]\n",
    "\n",
    "\n",
    "def query(data: DataType, selector: ModifierFunc,\n",
    "          *filters: ModifierFunc) -> DataType:\n",
    "    result = data\n",
    "    for operation in filters:\n",
    "        result = operation(result)\n",
    "    return result\n",
    "\n",
    "\n",
    "def select(*columns: str) -> ModifierFunc:\n",
    "    def select_operation(data):\n",
    "        return [{field: entry[field] for field in columns} for entry in data]\n",
    "    return select_operation\n",
    "\n",
    "\n",
    "def field_filter(column: str, *values: Any) -> ModifierFunc:\n",
    "    def filter_operation(data):\n",
    "        return [entry for entry in data if entry.get(column) in values]\n",
    "    return filter_operation\n",
    "\n",
    "\n",
    "def test_query():\n",
    "    friends = [\n",
    "        {'name': 'Sam', 'gender': 'male', 'sport': 'Basketball'}\n",
    "    ]\n",
    "    value = query(\n",
    "        friends,\n",
    "        select(*('name', 'gender', 'sport')),\n",
    "        field_filter(*('sport', *('Basketball', 'volleyball'))),\n",
    "        field_filter(*('gender', *('male',))),\n",
    "    )\n",
    "    assert [{'gender': 'male', 'name': 'Sam', 'sport': 'Basketball'}] == value\n",
    "\n",
    "friends = [\n",
    "    {'name': 'Sam', 'gender': 'male', 'sport': 'Basketball'},\n",
    "    {'name': 'Emily', 'gender': 'female', 'sport': 'Volleyball'},\n",
    "]\n",
    "\n",
    "result = query(\n",
    "    friends,\n",
    "    select('name', 'gender', 'sport'),\n",
    "    field_filter('sport', *('Basketball', 'Volleyball')),\n",
    "    field_filter('gender', *('male',)),\n",
    ")\n",
    "\n",
    "print(result)\n",
    "\n"
   ]
  },
  {
   "cell_type": "markdown",
   "metadata": {},
   "source": [
    "```\n",
    "Create generic union and intersect functions to work with sets. The functions must accept an arbitrary number of arguments of different types: list, tuple, and set. Each function must return the value of the set type. For example:\n",
    "\n",
    ">>> union(('S', 'A', 'M'), ['S', 'P', 'A', 'C'])\n",
    "{'S', 'P', 'A', 'M', 'C'}\n",
    "\n",
    ">>> intersect(('S', 'A', 'C'), ('P', 'C', 'S'), ('G', 'H', 'S', 'C'))\n",
    "{'S', 'C'}\n",
    "```"
   ]
  },
  {
   "cell_type": "code",
   "execution_count": 28,
   "metadata": {},
   "outputs": [
    {
     "name": "stdout",
     "output_type": "stream",
     "text": [
      "Union:  {'M', 'P', 'S', 'A', 'C'}\n",
      "Intersect:  {'C', 'S'}\n"
     ]
    }
   ],
   "source": [
    "def union(*args):\n",
    "    result_set = set()\n",
    "    for arg in args:\n",
    "        if isinstance(arg, (list, tuple, set)):\n",
    "            result_set.update(arg)\n",
    "        else:\n",
    "            raise TypeError(\"Arguments must be of type list, tuple, or set.\")\n",
    "    return result_set\n",
    "\n",
    "def intersect(*args):\n",
    "    if not args:\n",
    "        return set()\n",
    "    \n",
    "    result_set = set(args[0])\n",
    "    for arg in args[1:]:\n",
    "        if isinstance(arg, (list, tuple, set)):\n",
    "            result_set.intersection_update(arg)\n",
    "        else:\n",
    "            raise TypeError(\"Arguments must be of type list, tuple, or set.\")\n",
    "    return result_set\n",
    "\n",
    "\n",
    "print(\"Union: \",union(('S', 'A', 'M'), ['S', 'P', 'A', 'C']))\n",
    "\n",
    "print(\"Intersect: \",intersect(('S', 'A', 'C'), ('P', 'C', 'S'), ('G', 'H', 'S', 'C')))\n"
   ]
  },
  {
   "cell_type": "markdown",
   "metadata": {},
   "source": [
    "```\n",
    "Implement a function that receives a changeable number of dictionaries (keys - letters, values - numbers) and combines them into one dictionary. Dict values should be summarized in case of identical keys\n",
    "\n",
    "def combine_dicts(*args):\n",
    "    ...\n",
    "\n",
    "dict_1 = {'a': 100, 'b': 200}\n",
    "dict_2 = {'a': 200, 'c': 300}\n",
    "dict_3 = {'a': 300, 'd': 100}\n",
    "\n",
    "print(combine_dicts(dict_1, dict_2))\n",
    ">>> {'a': 300, 'b': 200, 'c': 300}\n",
    "\n",
    "print(combine_dicts(dict_1, dict_2, dict_3))\n",
    ">>> {'a': 600, 'b': 200, 'c': 300, 'd': 100}\n",
    "```"
   ]
  },
  {
   "cell_type": "code",
   "execution_count": 2,
   "metadata": {},
   "outputs": [
    {
     "name": "stdout",
     "output_type": "stream",
     "text": [
      "{'a': 300, 'b': 200, 'c': 300}\n",
      "{'a': 600, 'b': 200, 'c': 300, 'd': 100}\n"
     ]
    }
   ],
   "source": [
    "def combine_dicts(*args):\n",
    "    dict = {}\n",
    "    for d in args:\n",
    "        for key, value in d.items():\n",
    "            dict[key] = dict.get(key, 0) + value\n",
    "    return dict\n",
    "\n",
    "# Example usage\n",
    "dict_1 = {'a': 100, 'b': 200}\n",
    "dict_2 = {'a': 200, 'c': 300}\n",
    "dict_3 = {'a': 300, 'd': 100}\n",
    "\n",
    "result1 = combine_dicts(dict_1, dict_2)\n",
    "print(result1)\n",
    "\n",
    "result2 = combine_dicts(dict_1, dict_2, dict_3)\n",
    "print(result2)\n",
    "\n"
   ]
  },
  {
   "cell_type": "code",
   "execution_count": null,
   "metadata": {},
   "outputs": [],
   "source": [
    "def query(data, *operations):\n",
    "    result = data\n",
    "    for operation in operations:\n",
    "        result = operation(result)\n",
    "    return result\n",
    "\n",
    "def select(*fields):\n",
    "    def select_operation(data):\n",
    "        return [{field: entry[field] for field in fields} for entry in data]\n",
    "    return select_operation\n",
    "\n",
    "def field_filter(field, *values):\n",
    "    def filter_operation(data):\n",
    "        return [entry for entry in data if entry.get(field) in values]\n",
    "    return filter_operation\n"
   ]
  },
  {
   "cell_type": "markdown",
   "metadata": {},
   "source": [
    "Define a function seq_sum(sequence) which allows counting the sum of elements. Elements of all nested sequences should be included.\n",
    "\n",
    "Example:\n",
    "\n",
    "def seq_sum(sequence):\n",
    "    pass\n",
    "  \n",
    "sequence = [1,2,3,[4,5, (6,7)]]\n",
    "\n",
    ">>> print(seq_sum(sequence))\n",
    "28"
   ]
  },
  {
   "cell_type": "code",
   "execution_count": 2,
   "metadata": {},
   "outputs": [
    {
     "name": "stdout",
     "output_type": "stream",
     "text": [
      "28\n"
     ]
    }
   ],
   "source": [
    "def seq_sum(sequence):\n",
    "    sum = 0\n",
    "    for item in sequence:\n",
    "        if isinstance(item, (list, tuple)):\n",
    "            sum += seq_sum(item)  \n",
    "        else:\n",
    "            sum += item \n",
    "    return sum\n",
    "\n",
    "\n",
    "sequence = [1, 2, 3, [4, 5, (6, 7)]]\n",
    "print(seq_sum(sequence))  "
   ]
  },
  {
   "cell_type": "markdown",
   "metadata": {},
   "source": [
    "Define a function linear_seq(sequence) which converts a passed sequence to a sequence without nested sequences.\n",
    "\n",
    "Example:\n",
    "\n",
    "def linear_seq(sequence):\n",
    "    pass\n",
    "  \n",
    "sequence = [1,2,3,[4,5, (6,7)]]\n",
    "\n",
    ">>> print(linear_seq(sequence))\n",
    "\n",
    "[1,2,3,4,5,6,7]"
   ]
  },
  {
   "cell_type": "code",
   "execution_count": 7,
   "metadata": {},
   "outputs": [
    {
     "name": "stdout",
     "output_type": "stream",
     "text": [
      "[1, 2, 3, 4, 5, 6, 7]\n"
     ]
    }
   ],
   "source": [
    "def linear_sequence(sequence):\n",
    "    linear = []\n",
    "    for item in sequence:\n",
    "        if isinstance(item, (list, tuple)):\n",
    "            linear.extend(linear_sequence(item))\n",
    "    \n",
    "        else:\n",
    "            linear.append(item)\n",
    "    return linear\n",
    "\n",
    "\n",
    "sequence = [1, 2, 3, [4, 5, (6, 7)]]\n",
    "print(linear_sequence(sequence))  "
   ]
  },
  {
   "cell_type": "markdown",
   "metadata": {},
   "source": [
    "Python functions to calculate below using Design Concept\n",
    "\n",
    "square => S = a ** 2 => a - side length of a square\n",
    "\n",
    "rectangle => S = a * b => a, b - sides length of a rectangle\n",
    "\n",
    "circle => S = Pi * r ** 2 => r – a circle radius"
   ]
  },
  {
   "cell_type": "code",
   "execution_count": 10,
   "metadata": {},
   "outputs": [
    {
     "name": "stdout",
     "output_type": "stream",
     "text": [
      "Area of Circle:  113.03999999999999\n"
     ]
    }
   ],
   "source": [
    "def input_param(prompt_text=\"\"):\n",
    "    value = input(prompt_text)\n",
    "    if value.isdigit():\n",
    "       return int(value)\n",
    "    else:\n",
    "        return print(f'{value} is not a number')\n",
    "           \n",
    "def square_area():\n",
    "    side = input_param(\"Enter side of Square:\")\n",
    "    return side*side\n",
    "\n",
    "def circle_area():\n",
    "    radius = input_param(\"Enter radius of Circle:\")\n",
    "    return 3.14*radius*radius\n",
    "\n",
    "def rectangle_area():\n",
    "    length = input_param(\"Enter Length of Rectangle:\")\n",
    "    breadth = input_param(\"Enter Length of Rectangle:\")\n",
    "    return length*breadth\n",
    "\n",
    "\n",
    "input_shape = input(\"Input Shape:\")\n",
    "\n",
    "if input_shape == 'rectangle':\n",
    "    print(\"Area of Rectangle: \",rectangle_area())\n",
    "\n",
    "elif input_shape == 'square':\n",
    "    print(\"Area of Square: \",square_area())\n",
    "\n",
    "elif input_shape == 'circle':\n",
    "    print(\"Area of Circle: \",circle_area())\n",
    "\n",
    "else:\n",
    "    print(\"Invalid Shape entered !!!\")\n",
    "\n",
    "\n"
   ]
  }
 ],
 "metadata": {
  "kernelspec": {
   "display_name": "pyenv",
   "language": "python",
   "name": "python3"
  },
  "language_info": {
   "codemirror_mode": {
    "name": "ipython",
    "version": 3
   },
   "file_extension": ".py",
   "mimetype": "text/x-python",
   "name": "python",
   "nbconvert_exporter": "python",
   "pygments_lexer": "ipython3",
   "version": "3.11.7"
  }
 },
 "nbformat": 4,
 "nbformat_minor": 2
}
