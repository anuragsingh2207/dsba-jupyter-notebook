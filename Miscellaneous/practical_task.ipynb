{
 "cells": [
  {
   "cell_type": "code",
   "execution_count": 1,
   "metadata": {},
   "outputs": [
    {
     "name": "stdout",
     "output_type": "stream",
     "text": [
      "34/65\n"
     ]
    },
    {
     "data": {
      "text/plain": [
       "'23/65 + 11/65 = 34/65'"
      ]
     },
     "execution_count": 1,
     "metadata": {},
     "output_type": "execute_result"
    }
   ],
   "source": [
    "\n",
    "def get_fractions(a_b, c_b):\n",
    "    a,b = a_b.split(\"/\")\n",
    "    c,b = c_b.split(\"/\")\n",
    "    sum = str(int(a)+int(c))+\"/\"+b\n",
    "    print(sum)\n",
    "    return f\"{a_b} + {c_b} = {sum}\"\n",
    "\n",
    "a_b = '23/65' #'1/3'\n",
    "c_b = '11/65' #'5/3'\n",
    "\n",
    "get_fractions(a_b,c_b)"
   ]
  },
  {
   "cell_type": "code",
   "execution_count": 2,
   "metadata": {},
   "outputs": [
    {
     "name": "stdout",
     "output_type": "stream",
     "text": [
      "effective!\n"
     ]
    }
   ],
   "source": [
    "def get_longest_word(s: str) -> str:\n",
    "    words = s.split()\n",
    "    longest_word = max(words, key=len)\n",
    "    return longest_word\n",
    "\n",
    "\n",
    "input_string = 'Python is simple effective and effective!\\n'\n",
    "result = get_longest_word(input_string)\n",
    "print(result) "
   ]
  },
  {
   "cell_type": "code",
   "execution_count": 3,
   "metadata": {},
   "outputs": [
    {
     "name": "stdout",
     "output_type": "stream",
     "text": [
      " Python is 'simple and \"effective!\n"
     ]
    }
   ],
   "source": [
    "def replace_quote(s):\n",
    "    result = \"\"\n",
    "    for i in s:\n",
    "        if i == '\"':\n",
    "            result += \"'\"\n",
    "        elif i == \"'\":\n",
    "            result += '\"'\n",
    "        else:\n",
    "            result += i\n",
    "    return result\n",
    "\n",
    "print(replace_quote(''' Python is \"simple and 'effective!'''))"
   ]
  },
  {
   "cell_type": "code",
   "execution_count": 5,
   "metadata": {},
   "outputs": [
    {
     "name": "stdout",
     "output_type": "stream",
     "text": [
      "True\n"
     ]
    }
   ],
   "source": [
    "def is_palindrome(s):\n",
    "\n",
    "    s = ''.join(e.lower() for e in s if e.isalnum())\n",
    "    \n",
    "    for i in range(len(s) // 2):\n",
    "        if s[i] != s[len(s) - i - 1]:\n",
    "            return False\n",
    "    return True\n",
    "\n",
    "\n",
    "input_string = \"Do nine men Interpret? Nine men I nod\"\n",
    "print(is_palindrome(input_string))  "
   ]
  },
  {
   "cell_type": "markdown",
   "metadata": {},
   "source": [
    "Write a Python program that accepts a sequence of words as input and prints the unique words in a sorted form.\n",
    "\n",
    "Examples:\n",
    "\n",
    "Input:\n",
    "\n",
    "('red', 'white', 'black', 'red', 'green', 'black') \n",
    "\n",
    "Output:\n",
    "\n",
    "['black', 'green', 'red', 'white']"
   ]
  },
  {
   "cell_type": "code",
   "execution_count": 21,
   "metadata": {},
   "outputs": [
    {
     "name": "stdout",
     "output_type": "stream",
     "text": [
      "['black', 'green', 'purple', 'red', 'white']\n"
     ]
    }
   ],
   "source": [
    "from typing import List, Tuple\n",
    "\n",
    "def sort_unique_elements(str_list: Tuple[str]) -> List[str]:\n",
    "     unique_words = sorted(set(str_list))\n",
    "     return unique_words\n",
    "\n",
    "\n",
    "\n",
    "input_words = ('red', 'white', 'black', 'red', 'green', 'black','purple')\n",
    "\n",
    "\n",
    "result = sort_unique_elements(input_words)\n",
    "\n",
    "\n",
    "print(result)\n"
   ]
  },
  {
   "cell_type": "markdown",
   "metadata": {},
   "source": [
    "Implement a function foo(List[int]) -> List[int] which, given a list of integers, returns a new list such that each element at index i of the new list is the product of all the numbers in the original array except the one at i.\n",
    "\n",
    "Example:\n",
    "\n",
    "Input: foo([1, 2, 3, 4, 5])\n",
    "\n",
    "Output: [120, 60, 40, 30, 24]\n",
    "\n",
    "Input: foo([3, 2, 1])\n",
    "\n",
    "Output: [2, 3, 6]"
   ]
  },
  {
   "cell_type": "code",
   "execution_count": 16,
   "metadata": {},
   "outputs": [
    {
     "name": "stdout",
     "output_type": "stream",
     "text": [
      "[120, 0, 0, 0, 0]\n",
      "[120, 300, 200, 150, 120]\n"
     ]
    }
   ],
   "source": [
    "from typing import List\n",
    "\n",
    "def foo(nums: List[int]) -> List[int]:\n",
    "    product = 1\n",
    "    zero_count = nums.count(0)\n",
    "\n",
    "    for num in nums:\n",
    "        if num != 0:\n",
    "            product *= num\n",
    "\n",
    "    if zero_count > 1:\n",
    "        return [0] * len(nums)\n",
    "    \n",
    "    elif zero_count == 1:\n",
    "        return [product if num == 0 else 0 for num in nums]\n",
    "\n",
    "    else:\n",
    "        return [product // num for num in nums]\n",
    "\n",
    "# Test cases\n",
    "print(foo([0, 2, 3, 4, 5])) \n",
    "print(foo([5, 2, 3, 4, 5]))"
   ]
  },
  {
   "cell_type": "markdown",
   "metadata": {},
   "source": [
    "Update the get_fizzbuzz_list function. The function has to generate and return a list with numbers from 1 to n inclusive where the n is passed as a parameter to the function. But if the number is divided by 3 the function puts a Fizz word into the list, and if the number is divided by 5 the function puts a Buzz word into the list. If the number is divided by both 3 and 5 the function puts FizzBuzz into the list."
   ]
  },
  {
   "cell_type": "code",
   "execution_count": 13,
   "metadata": {},
   "outputs": [
    {
     "name": "stdout",
     "output_type": "stream",
     "text": [
      "[1, 2, 'Fizz', 4, 'Buzz', 'Fizz', 7, 8, 'Fizz', 'Buzz', 11, 'Fizz', 13, 14, 'FizzBuzz', 16]\n"
     ]
    }
   ],
   "source": [
    "def get_fizzbuzz_list(n):\n",
    "    l=[]\n",
    "    for i in range(1,n+1):\n",
    "        if i%3 == 0 and i%5 == 0:\n",
    "            l.append(\"FizzBuzz\")\n",
    "        elif i%3 == 0:\n",
    "            l.append(\"Fizz\")\n",
    "        elif i%5 == 0:\n",
    "            l.append(\"Buzz\")\n",
    "        \n",
    "        else:\n",
    "            l.append(i)\n",
    "    return l\n",
    "\n",
    "n = int(input(\"Enter an integer number:\"))\n",
    "print(get_fizzbuzz_list(n))\n",
    "\n"
   ]
  },
  {
   "cell_type": "markdown",
   "metadata": {},
   "source": [
    "Implement a function get_tuple(num: int) -> Tuple[int] which returns a tuple of a given integer's digits.\n",
    "\n",
    "Example:\n",
    "\n",
    "Input: get_tuple(87178291199)\n",
    "\n",
    "Output: (8, 7, 1, 7, 8, 2, 9, 1, 1, 9, 9)"
   ]
  },
  {
   "cell_type": "code",
   "execution_count": 23,
   "metadata": {},
   "outputs": [
    {
     "name": "stdout",
     "output_type": "stream",
     "text": [
      "87178291199\n",
      "(8, 7, 1, 7, 8, 2, 9, 1, 1, 9, 9)\n"
     ]
    }
   ],
   "source": [
    "def get_tuple(num: int) -> Tuple[int]:\n",
    "    s= str(num)\n",
    "    l = []\n",
    "    print(s)\n",
    "    for i in s:\n",
    "        l.append(int(i))\n",
    "    t = tuple(l)\n",
    "    return t\n",
    "\n",
    "print(get_tuple(87178291199))"
   ]
  },
  {
   "cell_type": "markdown",
   "metadata": {},
   "source": [
    "Implement a function get_pairs(lst: List) -> List[Tuple] which returns a list of tuples containing pairs of elements. The pairs should be formed as in the example. If there is only one element in the list, return [] instead.\n",
    "\n",
    "Example:\n",
    "\n",
    "Input: get_pairs([1, 2, 3, 8, 9])\n",
    "\n",
    "Output: [(1, 2), (2, 3), (3, 8), (8, 9)]\n",
    "\n",
    "Input: get_pairs(['need', 'to', 'sleep', 'more'])\n",
    "\n",
    "Output: [('need', 'to'), ('to', 'sleep'), ('sleep', 'more')] \n",
    "\n",
    "Input: get_pairs([1])\n",
    "Output: []"
   ]
  },
  {
   "cell_type": "code",
   "execution_count": 22,
   "metadata": {},
   "outputs": [
    {
     "name": "stdout",
     "output_type": "stream",
     "text": [
      "[(1, 'hi'), ('hi', 3), (3, 8), (8, 9), (9, 6)]\n",
      "[]\n",
      "[]\n",
      "[(1, 2), (2, 3.14)]\n"
     ]
    }
   ],
   "source": [
    "from typing import List, Tuple\n",
    "\n",
    "def get_pairs(lst: List) -> List[Tuple]:\n",
    "    pair_list = []\n",
    "    temp_tuple = ()\n",
    "    i = 0\n",
    "    if len(lst) <= 1:\n",
    "        return pair_list\n",
    "    else:\n",
    "        while i < (len(lst)-1):\n",
    "            temp_tuple = (lst[i],lst[i+1])\n",
    "            pair_list.append(temp_tuple)\n",
    "            i = i+ 1\n",
    "        return pair_list\n",
    "        \n",
    "\n",
    "print(get_pairs([1, 'hi', 3, 8, 9, 6]))\n",
    "print(get_pairs([1]))\n",
    "print(get_pairs([]))\n",
    "print(get_pairs([1, 2, 3.14]))"
   ]
  },
  {
   "cell_type": "markdown",
   "metadata": {},
   "source": [
    "Write a Python program to count the frequency of each character in a string (ignore the case of letters).\n",
    "\n",
    "Example:\n",
    "\n",
    "Input: 'Oh, it is python'\n",
    "\n",
    "Output: {\" \": 3, \",\": 1, \"h\": 2, \"i\": 2, \"n\": 1, \"o\": 2, \"p\": 1, \"s\": 1, \"t\": 2, \"y\": 1}"
   ]
  }
 ],
 "metadata": {
  "kernelspec": {
   "display_name": "pyenv",
   "language": "python",
   "name": "python3"
  },
  "language_info": {
   "codemirror_mode": {
    "name": "ipython",
    "version": 3
   },
   "file_extension": ".py",
   "mimetype": "text/x-python",
   "name": "python",
   "nbconvert_exporter": "python",
   "pygments_lexer": "ipython3",
   "version": "3.11.7"
  }
 },
 "nbformat": 4,
 "nbformat_minor": 2
}
