{
 "cells": [
  {
   "cell_type": "code",
   "execution_count": 2,
   "id": "a9e3e0c5",
   "metadata": {},
   "outputs": [
    {
     "name": "stdout",
     "output_type": "stream",
     "text": [
      "enter the score56\n",
      "fail\n"
     ]
    }
   ],
   "source": [
    "# elif statement \n",
    "score=int(input(\"enter the score\"))\n",
    "if (score<=100 and score>=90):\n",
    "    print(\"A grade\")\n",
    "elif (score<90 and score>=80):\n",
    "    print(\"B grade\")\n",
    "elif(score<80 and score>=70):\n",
    "    print(\"C grade\")\n",
    "elif(score<70 and score>=60):\n",
    "    print(\"D grade\") \n",
    "else:\n",
    "    print(\"fail\")"
   ]
  },
  {
   "cell_type": "markdown",
   "id": "fe89fce5",
   "metadata": {},
   "source": [
    "```\n",
    "5% if Selling Price is atmost 5000\n",
    "12% if Selling Price is atmost 15000\n",
    "20% if Selling Price is atmost 25000\n",
    "30% if Selling Price is more than 25000\n",
    "```\n"
   ]
  },
  {
   "cell_type": "code",
   "execution_count": null,
   "id": "8c8ff271",
   "metadata": {},
   "outputs": [],
   "source": [
    "amount=int(input(\"enter the billing amount\"))\n",
    "if amount<=5000:\n",
    "    discount=0.05*amount\n",
    "    print(\"the discount is \",disc,\"final amount is\",amount-discount)\n",
    "elif amount<=15000:\n",
    "    discount=0.12*amount\n",
    "    print(\"the discount is \",disc,\"final amount is\",amount-discount)\n",
    "    "
   ]
  },
  {
   "cell_type": "markdown",
   "id": "e151d287",
   "metadata": {},
   "source": [
    "```\n",
    "3.Suppose you would love to get a job in Hawaii but would only accept it if the annual pay is at least 85,000. You would also be willing to take a job in New York if the annual pay is at least 100,000 or anywhere else if the annual pay is at least 75,000. The following example takes two inputs from the user, location and pay and returns a particular response based on the inputs.\n",
    "```"
   ]
  },
  {
   "cell_type": "code",
   "execution_count": 3,
   "id": "5bccd726",
   "metadata": {},
   "outputs": [
    {
     "name": "stdout",
     "output_type": "stream",
     "text": [
      "enter the job locationHawaii\n",
      "enter the pay details5600\n",
      "declining\n"
     ]
    }
   ],
   "source": [
    "location=input(\"enter the job location\")\n",
    "pay=int(input(\"enter the pay details\"))\n",
    "if location=='Hawaii':\n",
    "    if pay>=85000:\n",
    "        print(\"i will accept the offer\")\n",
    "    else:\n",
    "        print(\"declining\")\n",
    "elif location=='Newyork':\n",
    "    if pay>=100000:\n",
    "        print(\"i will accept the offer\")\n",
    "    else:\n",
    "        print(\"declining\")\n",
    "elif pay>=75000:\n",
    "    print(\"i will accept the offer \")\n",
    "    "
   ]
  },
  {
   "cell_type": "code",
   "execution_count": 6,
   "id": "f3fd923f",
   "metadata": {},
   "outputs": [
    {
     "name": "stdout",
     "output_type": "stream",
     "text": [
      "enter the length of the card12344\n",
      "invalid length\n",
      "enter the year2023\n",
      "valid year\n"
     ]
    }
   ],
   "source": [
    "lc=input(\"enter the length of the card\")\n",
    "if len(lc)>14 or len(lc)<14 :\n",
    "    print(\"invalid length\")\n",
    "    lc_valid=False\n",
    "else:\n",
    "    print(\"valid length\")\n",
    "    lc_valid=True\n",
    "yr=int(input(\"enter the year\"))\n",
    "if yr>=2021:\n",
    "    print(\"valid year\")\n",
    "    valid_yr=True\n",
    "else:\n",
    "    print(\"invalid year\")\n",
    "    valid_yr=False\n",
    "mn=int(input(\"enter the month\"))\n",
    "if mn<1 or mn>12:\n",
    "    print(\"invalid month\")\n",
    "    valid_mn=False\n",
    "else:\n",
    "    print(\"valid month\")\n",
    "    valid_mn=True\n",
    "cvv=input(\"enter your cvv number \")\n",
    "if len(cvv) >3 0r len(cvv)<3:\n",
    "    print(\"invlid cvv\")\n",
    "    valid_cvv=False\n",
    "else:\n",
    "    print(\"valid cvv\")\n",
    "    valid_cvv=True\n",
    "  # final check \n",
    "if(lc_valid and valid_mn and valid_yr and valid_cvv):\n",
    "    print(\" your debit card is valid \")\n",
    "else:\n",
    "    print(\"your debit card is invalid\")\n"
   ]
  },
  {
   "cell_type": "code",
   "execution_count": 7,
   "id": "39ff8c2a",
   "metadata": {},
   "outputs": [
    {
     "name": "stdout",
     "output_type": "stream",
     "text": [
      "34\n",
      "45\n",
      "2\n",
      "454\n"
     ]
    }
   ],
   "source": [
    "l=[34,45,2,454]    # list of values\n",
    "for item in l:\n",
    "    print(item)"
   ]
  },
  {
   "cell_type": "code",
   "execution_count": 11,
   "id": "e8464013",
   "metadata": {},
   "outputs": [
    {
     "name": "stdout",
     "output_type": "stream",
     "text": [
      "20\n",
      "50\n",
      "89\n"
     ]
    }
   ],
   "source": [
    "d={1:20,2:50,4:89}  # dict\n",
    "for i in d.values():\n",
    "    print(i)"
   ]
  },
  {
   "cell_type": "code",
   "execution_count": 9,
   "id": "44e93ddc",
   "metadata": {},
   "outputs": [
    {
     "name": "stdout",
     "output_type": "stream",
     "text": [
      "34\n",
      "2\n",
      "45\n",
      "454\n"
     ]
    }
   ],
   "source": [
    "l={34,45,2,454}   # set of values \n",
    "for item in l:\n",
    "    print(item)"
   ]
  },
  {
   "cell_type": "code",
   "execution_count": 10,
   "id": "7c7ceb02",
   "metadata": {},
   "outputs": [
    {
     "name": "stdout",
     "output_type": "stream",
     "text": [
      "p\n",
      "y\n",
      "t\n",
      "t\n",
      "h\n",
      "o\n",
      "n\n"
     ]
    }
   ],
   "source": [
    "s=\"pytthon\"   # string\n",
    "for char in s:\n",
    "    print(char)"
   ]
  },
  {
   "cell_type": "code",
   "execution_count": 12,
   "id": "0326220e",
   "metadata": {},
   "outputs": [
    {
     "ename": "TypeError",
     "evalue": "'int' object is not iterable",
     "output_type": "error",
     "traceback": [
      "\u001b[1;31m---------------------------------------------------------------------------\u001b[0m",
      "\u001b[1;31mTypeError\u001b[0m                                 Traceback (most recent call last)",
      "\u001b[1;32m~\\AppData\\Local\\Temp\\ipykernel_14104\\2282263971.py\u001b[0m in \u001b[0;36m<module>\u001b[1;34m\u001b[0m\n\u001b[0;32m      1\u001b[0m \u001b[0ms\u001b[0m\u001b[1;33m=\u001b[0m\u001b[1;36m1223\u001b[0m\u001b[1;33m\u001b[0m\u001b[1;33m\u001b[0m\u001b[0m\n\u001b[1;32m----> 2\u001b[1;33m \u001b[1;32mfor\u001b[0m \u001b[0mi\u001b[0m \u001b[1;32min\u001b[0m \u001b[0ms\u001b[0m\u001b[1;33m:\u001b[0m\u001b[1;33m\u001b[0m\u001b[1;33m\u001b[0m\u001b[0m\n\u001b[0m\u001b[0;32m      3\u001b[0m     \u001b[0mprint\u001b[0m\u001b[1;33m(\u001b[0m\u001b[0mi\u001b[0m\u001b[1;33m)\u001b[0m\u001b[1;33m\u001b[0m\u001b[1;33m\u001b[0m\u001b[0m\n",
      "\u001b[1;31mTypeError\u001b[0m: 'int' object is not iterable"
     ]
    }
   ],
   "source": [
    "s=1223\n",
    "for i in s:\n",
    "    print(i)"
   ]
  },
  {
   "cell_type": "code",
   "execution_count": 15,
   "id": "0e85db33",
   "metadata": {},
   "outputs": [
    {
     "name": "stdout",
     "output_type": "stream",
     "text": [
      "10\n",
      "9\n",
      "8\n",
      "7\n",
      "6\n",
      "5\n",
      "4\n",
      "3\n",
      "2\n",
      "1\n"
     ]
    }
   ],
   "source": [
    "for i in range(10,0,-1):\n",
    "    print(i)"
   ]
  },
  {
   "cell_type": "code",
   "execution_count": 17,
   "id": "a56ff01f",
   "metadata": {},
   "outputs": [
    {
     "name": "stdout",
     "output_type": "stream",
     "text": [
      "1\n",
      "2\n",
      "45\n",
      "66\n",
      "567\n",
      "78\n"
     ]
    }
   ],
   "source": [
    "list2=[[1,2],[45,66],[567,78]]\n",
    "for i in list2:\n",
    "    for j in i:\n",
    "        print(j)"
   ]
  },
  {
   "cell_type": "code",
   "execution_count": 21,
   "id": "1012e662",
   "metadata": {},
   "outputs": [
    {
     "name": "stdout",
     "output_type": "stream",
     "text": [
      "1\n",
      "2\n",
      "56\n",
      "67\n",
      "89\n",
      "90\n",
      "90\n",
      "67\n"
     ]
    }
   ],
   "source": [
    "list3=[[1,2],56,67,[89,90],(90,67)]\n",
    "for i in list3:\n",
    "    if type(i)==list or type(i)==tuple:\n",
    "        for j in i:\n",
    "            print(j)\n",
    "    else :\n",
    "        print(i)"
   ]
  },
  {
   "cell_type": "code",
   "execution_count": 24,
   "id": "6fd1cdea",
   "metadata": {},
   "outputs": [
    {
     "name": "stdout",
     "output_type": "stream",
     "text": [
      "45\n"
     ]
    }
   ],
   "source": [
    "# sum of n numbers \n",
    "l= range(1,10)\n",
    "sum1=0\n",
    "for i in l :\n",
    "    sum1=sum1+i\n",
    "    #print(sum1)  # intermediate \n",
    "print(sum1)  # last consolidted value"
   ]
  },
  {
   "cell_type": "code",
   "execution_count": 25,
   "id": "a2af2693",
   "metadata": {},
   "outputs": [
    {
     "name": "stdout",
     "output_type": "stream",
     "text": [
      "1\n",
      "2\n",
      "3\n",
      "4\n",
      "5\n",
      "6\n",
      "7\n",
      "8\n",
      "9\n",
      "10\n"
     ]
    }
   ],
   "source": [
    "# print 1 to 10 \n",
    "i=1\n",
    "while(i <11):\n",
    "    print(i)\n",
    "    i=i+1\n",
    "    "
   ]
  },
  {
   "cell_type": "code",
   "execution_count": 26,
   "id": "b9a4ebea",
   "metadata": {},
   "outputs": [
    {
     "name": "stdout",
     "output_type": "stream",
     "text": [
      "p\n"
     ]
    }
   ],
   "source": [
    "s=\"pes university\"\n",
    "for i in s:\n",
    "    if i=='e':\n",
    "        break\n",
    "    print(i)"
   ]
  },
  {
   "cell_type": "code",
   "execution_count": 27,
   "id": "522e9631",
   "metadata": {},
   "outputs": [
    {
     "name": "stdout",
     "output_type": "stream",
     "text": [
      "p\n",
      "s\n",
      " \n",
      "u\n",
      "n\n",
      "i\n",
      "v\n",
      "r\n",
      "s\n",
      "i\n",
      "t\n",
      "y\n"
     ]
    }
   ],
   "source": [
    "s=\"pes university\"\n",
    "for i in s:\n",
    "    if i=='e':\n",
    "        continue\n",
    "    print(i)"
   ]
  },
  {
   "cell_type": "code",
   "execution_count": 1,
   "id": "f18a95bb",
   "metadata": {},
   "outputs": [
    {
     "name": "stdout",
     "output_type": "stream",
     "text": [
      "enter the character to be searchede\n",
      "total number of times the character occured is  2\n"
     ]
    }
   ],
   "source": [
    "s='pes university'\n",
    "char=input(\"enter the character to be searched\")\n",
    "count=0\n",
    "for i in s:\n",
    "    if i==char:\n",
    "        count=count+1\n",
    "print(\"total number of times the character occured is \",count)"
   ]
  },
  {
   "cell_type": "code",
   "execution_count": 2,
   "id": "bedd165b",
   "metadata": {},
   "outputs": [
    {
     "name": "stdout",
     "output_type": "stream",
     "text": [
      "the items in odd list is [23, 345.67, 89, 55, 5]\n",
      "the items present in even list is  [2, 4, 8]\n"
     ]
    }
   ],
   "source": [
    "l=[23,345.67,89,55,2,4,5,8]\n",
    "oddlist=[]\n",
    "evenlist=[]\n",
    "for i in l:\n",
    "    if i%2==0:\n",
    "        evenlist.append(i)\n",
    "    else:\n",
    "        oddlist.append(i)\n",
    "print(\"the items in odd list is\",oddlist)\n",
    "print(\"the items present in even list is \",evenlist)"
   ]
  },
  {
   "cell_type": "code",
   "execution_count": 4,
   "id": "87a1f166",
   "metadata": {},
   "outputs": [
    {
     "name": "stdout",
     "output_type": "stream",
     "text": [
      "{0: 0, 1: 1, 2: 4, 3: 9, 4: 16, 5: 25, 6: 36, 7: 49, 8: 64, 9: 81, 10: 100, 11: 121, 12: 144, 13: 169, 14: 196, 15: 225}\n"
     ]
    }
   ],
   "source": [
    "d={}\n",
    "for i in range(16):\n",
    "    d[i]=i**2\n",
    "print(d)"
   ]
  },
  {
   "cell_type": "code",
   "execution_count": 5,
   "id": "9ea99829",
   "metadata": {},
   "outputs": [
    {
     "name": "stdout",
     "output_type": "stream",
     "text": [
      "no of characters 6\n",
      "no of digits 3\n",
      "no of spl characters 3\n"
     ]
    }
   ],
   "source": [
    "s=\"python123#$%\"\n",
    "cd=ca=sp=0\n",
    "for i in s:\n",
    "    if i.isalpha():\n",
    "        ca=ca+1\n",
    "    elif i.isdigit():\n",
    "        cd=cd+1\n",
    "    else:\n",
    "        sp=sp+1\n",
    "print(\"no of characters\",ca)\n",
    "print(\"no of digits\",cd)\n",
    "print(\"no of spl characters\",sp)"
   ]
  },
  {
   "cell_type": "code",
   "execution_count": 8,
   "id": "42ee4204",
   "metadata": {},
   "outputs": [
    {
     "name": "stdout",
     "output_type": "stream",
     "text": [
      "the list with negative values [-45, -3, -42, -9, -12, -28, -45, -12, -18, -42, -39, -45, -26, -18, -41, -23, -1, -32, -32, -39]\n",
      "the count f negative values 20\n"
     ]
    }
   ],
   "source": [
    "import random\n",
    "newl=[]\n",
    "for i in range(40):\n",
    "    x=random.randint(-50,50)\n",
    "    if x<0:\n",
    "        newl.append(x)\n",
    "print(\"the list with negative values\",newl)\n",
    "print(\"the count f negative values\",len(newl))"
   ]
  },
  {
   "cell_type": "code",
   "execution_count": 11,
   "id": "7d639c92",
   "metadata": {},
   "outputs": [
    {
     "data": {
      "text/plain": [
       "0.03751304233810071"
      ]
     },
     "execution_count": 11,
     "metadata": {},
     "output_type": "execute_result"
    }
   ],
   "source": [
    "y=random.random()\n",
    "y"
   ]
  },
  {
   "cell_type": "code",
   "execution_count": 12,
   "id": "e975e879",
   "metadata": {},
   "outputs": [
    {
     "data": {
      "text/plain": [
       "['BPF',\n",
       " 'LOG4',\n",
       " 'NV_MAGICCONST',\n",
       " 'RECIP_BPF',\n",
       " 'Random',\n",
       " 'SG_MAGICCONST',\n",
       " 'SystemRandom',\n",
       " 'TWOPI',\n",
       " '_Sequence',\n",
       " '_Set',\n",
       " '__all__',\n",
       " '__builtins__',\n",
       " '__cached__',\n",
       " '__doc__',\n",
       " '__file__',\n",
       " '__loader__',\n",
       " '__name__',\n",
       " '__package__',\n",
       " '__spec__',\n",
       " '_accumulate',\n",
       " '_acos',\n",
       " '_bisect',\n",
       " '_ceil',\n",
       " '_cos',\n",
       " '_e',\n",
       " '_exp',\n",
       " '_floor',\n",
       " '_inst',\n",
       " '_log',\n",
       " '_os',\n",
       " '_pi',\n",
       " '_random',\n",
       " '_repeat',\n",
       " '_sha512',\n",
       " '_sin',\n",
       " '_sqrt',\n",
       " '_test',\n",
       " '_test_generator',\n",
       " '_urandom',\n",
       " '_warn',\n",
       " 'betavariate',\n",
       " 'choice',\n",
       " 'choices',\n",
       " 'expovariate',\n",
       " 'gammavariate',\n",
       " 'gauss',\n",
       " 'getrandbits',\n",
       " 'getstate',\n",
       " 'lognormvariate',\n",
       " 'normalvariate',\n",
       " 'paretovariate',\n",
       " 'randbytes',\n",
       " 'randint',\n",
       " 'random',\n",
       " 'randrange',\n",
       " 'sample',\n",
       " 'seed',\n",
       " 'setstate',\n",
       " 'shuffle',\n",
       " 'triangular',\n",
       " 'uniform',\n",
       " 'vonmisesvariate',\n",
       " 'weibullvariate']"
      ]
     },
     "execution_count": 12,
     "metadata": {},
     "output_type": "execute_result"
    }
   ],
   "source": [
    "dir(random)"
   ]
  },
  {
   "cell_type": "code",
   "execution_count": 13,
   "id": "71372983",
   "metadata": {},
   "outputs": [
    {
     "name": "stdout",
     "output_type": "stream",
     "text": [
      "[12, 24, 35, 88, 120, 155, 10, 2, 3]\n"
     ]
    }
   ],
   "source": [
    "l=[12,24,35,24,88,120,155,88,120,155,10,2,3]\n",
    "newl=[]\n",
    "for i in l:\n",
    "    if i not in newl:\n",
    "        newl.append(i)\n",
    "print(newl)\n",
    "        \n",
    "    "
   ]
  },
  {
   "cell_type": "code",
   "execution_count": null,
   "id": "291972dc",
   "metadata": {},
   "outputs": [],
   "source": []
  },
  {
   "cell_type": "code",
   "execution_count": 15,
   "id": "78c642cc",
   "metadata": {},
   "outputs": [
    {
     "data": {
      "text/plain": [
       "[0, 1, 4, 9, 16, 25, 36, 49, 64, 81]"
      ]
     },
     "execution_count": 15,
     "metadata": {},
     "output_type": "execute_result"
    }
   ],
   "source": [
    "l=range(10)\n",
    "# square all the items in list \n",
    "lout=[  i**2    for i in l ]\n",
    "lout"
   ]
  },
  {
   "cell_type": "code",
   "execution_count": 16,
   "id": "245e94a3",
   "metadata": {},
   "outputs": [
    {
     "data": {
      "text/plain": [
       "[0, 2, 4, 6, 8]"
      ]
     },
     "execution_count": 16,
     "metadata": {},
     "output_type": "execute_result"
    }
   ],
   "source": [
    "# print only the even numbers in the list\n",
    "lout=[  i  for i in l if i%2==0]\n",
    "lout"
   ]
  },
  {
   "cell_type": "code",
   "execution_count": null,
   "id": "7ea54a0d",
   "metadata": {},
   "outputs": [],
   "source": [
    "lout=[  i**2  for i in l if i%2==0]   # square of all even numbers \n",
    "lout"
   ]
  },
  {
   "cell_type": "code",
   "execution_count": 17,
   "id": "a335fbcf",
   "metadata": {},
   "outputs": [
    {
     "data": {
      "text/plain": [
       "['even', 'odd', 'even', 'odd', 'even', 'odd', 'even', 'odd', 'even', 'odd']"
      ]
     },
     "execution_count": 17,
     "metadata": {},
     "output_type": "execute_result"
    }
   ],
   "source": [
    "# print even or odd  for the item in the list \n",
    "lout=[ \"even\" if i%2==0 else  \"odd\" for i in l ]\n",
    "lout"
   ]
  },
  {
   "cell_type": "code",
   "execution_count": 19,
   "id": "e99ebdff",
   "metadata": {},
   "outputs": [
    {
     "data": {
      "text/plain": [
       "[10, 20, 30]"
      ]
     },
     "execution_count": 19,
     "metadata": {},
     "output_type": "execute_result"
    }
   ],
   "source": [
    "[i for i in range(1,31) if i%2==0 and i%5==0]"
   ]
  },
  {
   "cell_type": "code",
   "execution_count": 20,
   "id": "e7ecbede",
   "metadata": {},
   "outputs": [
    {
     "data": {
      "text/plain": [
       "[27, 36, 729, 144, 3375, 324, 9261, 576, 19683, 900]"
      ]
     },
     "execution_count": 20,
     "metadata": {},
     "output_type": "execute_result"
    }
   ],
   "source": [
    "[  i**2 if i %2==0 else i**3  for i in range(1,31) if i%3==0]"
   ]
  },
  {
   "cell_type": "code",
   "execution_count": 28,
   "id": "38d7e5f6",
   "metadata": {},
   "outputs": [
    {
     "data": {
      "text/plain": [
       "{'a', 'e', 'i', 'u'}"
      ]
     },
     "execution_count": 28,
     "metadata": {},
     "output_type": "execute_result"
    }
   ],
   "source": [
    "s=\"at pes univeru asity\"\n",
    "sc={  i for i in s if i in 'aeiouAEIOU'}\n",
    "sc"
   ]
  },
  {
   "cell_type": "code",
   "execution_count": 29,
   "id": "2529c59f",
   "metadata": {},
   "outputs": [
    {
     "data": {
      "text/plain": [
       "['a', 'e', 'u', 'i', 'e', 'u', 'a', 'i']"
      ]
     },
     "execution_count": 29,
     "metadata": {},
     "output_type": "execute_result"
    }
   ],
   "source": [
    "lc=[ i for i in s if i in 'aeiouAEIOU']\n",
    "lc"
   ]
  },
  {
   "cell_type": "code",
   "execution_count": 32,
   "id": "c384b859",
   "metadata": {},
   "outputs": [
    {
     "data": {
      "text/plain": [
       "{1: 1, 2: 4, 3: 9, 4: 16, 5: 25, 6: 36, 7: 49, 8: 64, 9: 81, 10: 100}"
      ]
     },
     "execution_count": 32,
     "metadata": {},
     "output_type": "execute_result"
    }
   ],
   "source": [
    "d={ i:i**2 for i in range(1,11)}\n",
    "d"
   ]
  },
  {
   "cell_type": "code",
   "execution_count": 33,
   "id": "a0305302",
   "metadata": {},
   "outputs": [
    {
     "data": {
      "text/plain": [
       "{'b': 1, 'a': 3, 'n': 2, 's': 1}"
      ]
     },
     "execution_count": 33,
     "metadata": {},
     "output_type": "execute_result"
    }
   ],
   "source": [
    "s=\"bananas\"\n",
    "{ i:s.count(i) for i in s}"
   ]
  },
  {
   "cell_type": "code",
   "execution_count": 34,
   "id": "3c273190",
   "metadata": {},
   "outputs": [
    {
     "data": {
      "text/plain": [
       "{'neem': 4, 'apple': 5, 'orange': 6}"
      ]
     },
     "execution_count": 34,
     "metadata": {},
     "output_type": "execute_result"
    }
   ],
   "source": [
    "l1=[\"neem\",\"apple\",\"orange\"]\n",
    "{ i:len(i) for i in l1}"
   ]
  },
  {
   "cell_type": "code",
   "execution_count": 35,
   "id": "44f6b281",
   "metadata": {},
   "outputs": [
    {
     "name": "stdout",
     "output_type": "stream",
     "text": [
      "enter the string at pes university at karnataka university \n"
     ]
    },
    {
     "data": {
      "text/plain": [
       "{'at', 'karnataka', 'pes', 'university'}"
      ]
     },
     "execution_count": 35,
     "metadata": {},
     "output_type": "execute_result"
    }
   ],
   "source": [
    "s=input(\"enter the string \")\n",
    "{ i for i in s.split()}"
   ]
  },
  {
   "cell_type": "code",
   "execution_count": 37,
   "id": "ca24c74b",
   "metadata": {},
   "outputs": [
    {
     "name": "stdout",
     "output_type": "stream",
     "text": [
      "enter the string at pes university at university\n"
     ]
    },
    {
     "data": {
      "text/plain": [
       "['at', 'pes', 'university', 'at', 'university']"
      ]
     },
     "execution_count": 37,
     "metadata": {},
     "output_type": "execute_result"
    }
   ],
   "source": [
    "s=input(\"enter the string \")\n",
    "lout=[ i for i in s.split()]\n",
    "lout"
   ]
  },
  {
   "cell_type": "code",
   "execution_count": 38,
   "id": "2b97dbcc",
   "metadata": {},
   "outputs": [
    {
     "data": {
      "text/plain": [
       "['at', 'pes', 'university']"
      ]
     },
     "execution_count": 38,
     "metadata": {},
     "output_type": "execute_result"
    }
   ],
   "source": [
    "sorted(set(lout))"
   ]
  },
  {
   "cell_type": "code",
   "execution_count": 40,
   "id": "088df1ad",
   "metadata": {},
   "outputs": [
    {
     "data": {
      "text/plain": [
       "[(3, 4, 5),\n",
       " (5, 12, 13),\n",
       " (6, 8, 10),\n",
       " (7, 24, 25),\n",
       " (8, 15, 17),\n",
       " (9, 12, 15),\n",
       " (10, 24, 26),\n",
       " (12, 16, 20),\n",
       " (15, 20, 25),\n",
       " (18, 24, 30),\n",
       " (20, 21, 29)]"
      ]
     },
     "execution_count": 40,
     "metadata": {},
     "output_type": "execute_result"
    }
   ],
   "source": [
    "[  (a,b,c)  for a in range(1,31) for b in range(a,31) for c in range(b,31) if a**2 +b**2==c**2 ]\n"
   ]
  },
  {
   "cell_type": "code",
   "execution_count": 39,
   "id": "0e59fda7",
   "metadata": {},
   "outputs": [
    {
     "data": {
      "text/plain": [
       "[(3, 4, 5),\n",
       " (4, 3, 5),\n",
       " (5, 12, 13),\n",
       " (6, 8, 10),\n",
       " (7, 24, 25),\n",
       " (8, 6, 10),\n",
       " (8, 15, 17),\n",
       " (9, 12, 15),\n",
       " (10, 24, 26),\n",
       " (12, 5, 13),\n",
       " (12, 9, 15),\n",
       " (12, 16, 20),\n",
       " (15, 8, 17),\n",
       " (15, 20, 25),\n",
       " (16, 12, 20),\n",
       " (18, 24, 30),\n",
       " (20, 15, 25),\n",
       " (20, 21, 29),\n",
       " (21, 20, 29),\n",
       " (24, 7, 25),\n",
       " (24, 10, 26),\n",
       " (24, 18, 30)]"
      ]
     },
     "execution_count": 39,
     "metadata": {},
     "output_type": "execute_result"
    }
   ],
   "source": [
    "[  (a,b,c)  for a in range(1,31) for b in range(1,31) for c in range(1,31) if a**2 +b**2==c**2 ]\n"
   ]
  },
  {
   "cell_type": "code",
   "execution_count": 43,
   "id": "17ff795e",
   "metadata": {},
   "outputs": [
    {
     "data": {
      "text/plain": [
       "[[13, 26, 39, 52, 65, 78, 91, 104, 117, 130],\n",
       " [14, 28, 42, 56, 70, 84, 98, 112, 126, 140],\n",
       " [15, 30, 45, 60, 75, 90, 105, 120, 135, 150],\n",
       " [16, 32, 48, 64, 80, 96, 112, 128, 144, 160],\n",
       " [17, 34, 51, 68, 85, 102, 119, 136, 153, 170]]"
      ]
     },
     "execution_count": 43,
     "metadata": {},
     "output_type": "execute_result"
    }
   ],
   "source": [
    "  [ [ i * j  for  j in range(1,11) ]  for i in range(13,18)]"
   ]
  },
  {
   "cell_type": "code",
   "execution_count": 44,
   "id": "6300fe9c",
   "metadata": {},
   "outputs": [],
   "source": [
    "prairie_pirates = [\n",
    "['Tractor Jack', 1000, True],             \n",
    "['Plowshare Pete', 950, False],\n",
    "['Prairie Lily', 245, True],\n",
    "['Red River Rosie', 350, True],\n",
    "['Mad Athabasca McArthur', 842, False],\n",
    "['Assiniboine Sally', 620, True],\n",
    "['Thresher Tom', 150, True],\n",
    "['Cranky Canola Carl', 499, False]\n",
    "]\n"
   ]
  },
  {
   "cell_type": "markdown",
   "id": "55a80520",
   "metadata": {},
   "source": [
    "(a) Use a single list comprehension to create a list of the pirate names who plundered more than 400 sacks of assorted grains.\n",
    "(b) Use a single list comprehension to create a list of the pirate names who don't like parrots.\n",
    "(c) Suppose that the average market value of a sack of grain is $42. Use a single list comprehension to create a list of the market values of each pirate's grain.\n",
    "(d) Use a single list comprehension to create a list of lists where each sublist consists of a pirate's name and  the value of his/her plundered sacks of grain (calculate grain values as in part (c)), but only include those pirates who like parrots.\n"
   ]
  },
  {
   "cell_type": "code",
   "execution_count": null,
   "id": "099904fe",
   "metadata": {},
   "outputs": [],
   "source": [
    "\n",
    "best_plunderers = [pirate[0] for pirate in prairie_pirates if pirate[1]>400]\n",
    "print(best_plunderers)\n",
    "\n",
    "parrot_haters = [pirate[0] for pirate in prairie_pirates if pirate[2]==False]\n",
    "print(parrot_haters)\n",
    "\n",
    "\n",
    "plunder_values = [pirate[1]*42 for pirate in prairie_pirates]\n",
    "plunder_values\n",
    "\n",
    "names_and_plunder_values = [[pirate[0], pirate[1]*42] for pirate in prairie_pirates if pirate[2]==True]\n",
    "print(names_and_plunder_values)"
   ]
  }
 ],
 "metadata": {
  "kernelspec": {
   "display_name": "Python 3 (ipykernel)",
   "language": "python",
   "name": "python3"
  },
  "language_info": {
   "codemirror_mode": {
    "name": "ipython",
    "version": 3
   },
   "file_extension": ".py",
   "mimetype": "text/x-python",
   "name": "python",
   "nbconvert_exporter": "python",
   "pygments_lexer": "ipython3",
   "version": "3.9.7"
  }
 },
 "nbformat": 4,
 "nbformat_minor": 5
}
