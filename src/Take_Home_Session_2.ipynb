{
 "cells": [
  {
   "cell_type": "markdown",
   "metadata": {},
   "source": [
    "<table align=\"center\" width=100%>\n",
    "    <tr>\n",
    "        <td width=\"15%\">\n",
    "            <img src=\"homework.png\">\n",
    "        </td>\n",
    "        <td>\n",
    "            <div align=\"center\">\n",
    "                <font color=\"#21618C\" size=8px>\n",
    "                    <b> Take-Home <br>(Session 2)\n",
    "                    </b>\n",
    "                </font>\n",
    "            </div>\n",
    "        </td>\n",
    "    </tr>\n",
    "</table>"
   ]
  },
  {
   "cell_type": "markdown",
   "metadata": {},
   "source": [
    "### Let's begin with some hands-on practice exercises"
   ]
  },
  {
   "cell_type": "markdown",
   "metadata": {},
   "source": [
    "<table align=\"left\">\n",
    "    <tr>\n",
    "        <td width=\"6%\">\n",
    "            <img src=\"question_icon.png\">\n",
    "        </td>\n",
    "        <td>\n",
    "            <div align=\"left\", style=\"font-size:120%\">\n",
    "                <font color=\"#21618C\">\n",
    "                    <b>1. Write a program to print following pattern</b>\n",
    "                    \n",
    "                 </font>\n",
    "            </div>\n",
    "        </td>\n",
    "    </tr>\n",
    "</table>\n"
   ]
  },
  {
   "cell_type": "raw",
   "metadata": {},
   "source": [
    "A  \n",
    "B C  \n",
    "D E F  \n",
    "G H I J  \n",
    "K L M N O  \n",
    "P Q R S T U  "
   ]
  },
  {
   "cell_type": "code",
   "execution_count": 1,
   "metadata": {},
   "outputs": [
    {
     "name": "stdout",
     "output_type": "stream",
     "text": [
      "A \n",
      "B C \n",
      "D E F \n",
      "G H I J \n",
      "K L M N O \n",
      "P Q R S T U \n"
     ]
    }
   ],
   "source": [
    "# Type your code here\n",
    "\n",
    "# Left triangle pattern\n",
    "initValue = 65 \n",
    "for i in range(0, 6):\n",
    "    for j in range(i+1):\n",
    "        alphabet = chr(initValue)\n",
    "        print(alphabet, end=' ')\n",
    "        initValue = initValue + 1\n",
    "          \n",
    "    print()"
   ]
  },
  {
   "cell_type": "markdown",
   "metadata": {},
   "source": [
    "<table align=\"left\">\n",
    "    <tr>\n",
    "        <td width=\"6%\">\n",
    "            <img src=\"question_icon.png\">\n",
    "        </td>\n",
    "        <td>\n",
    "            <div align=\"left\", style=\"font-size:120%\">\n",
    "                <font color=\"#21618C\">\n",
    "                    <b>2. Write a program to print tables from 2 to a user provided range (take number from user)\n",
    "                 </font>\n",
    "            </div>\n",
    "        </td>\n",
    "    </tr>\n",
    "</table>"
   ]
  },
  {
   "cell_type": "code",
   "execution_count": 14,
   "metadata": {},
   "outputs": [
    {
     "name": "stdout",
     "output_type": "stream",
     "text": [
      "2 x 1 = 2\n",
      "2 x 2 = 4\n",
      "2 x 3 = 6\n",
      "2 x 4 = 8\n",
      "2 x 5 = 10\n",
      "2 x 6 = 12\n",
      "2 x 7 = 14\n",
      "2 x 8 = 16\n",
      "2 x 9 = 18\n",
      "2 x 10 = 20\n",
      "-------\n",
      "3 x 1 = 3\n",
      "3 x 2 = 6\n",
      "3 x 3 = 9\n",
      "3 x 4 = 12\n",
      "3 x 5 = 15\n",
      "3 x 6 = 18\n",
      "3 x 7 = 21\n",
      "3 x 8 = 24\n",
      "3 x 9 = 27\n",
      "3 x 10 = 30\n",
      "-------\n",
      "4 x 1 = 4\n",
      "4 x 2 = 8\n",
      "4 x 3 = 12\n",
      "4 x 4 = 16\n",
      "4 x 5 = 20\n",
      "4 x 6 = 24\n",
      "4 x 7 = 28\n",
      "4 x 8 = 32\n",
      "4 x 9 = 36\n",
      "4 x 10 = 40\n",
      "-------\n"
     ]
    }
   ],
   "source": [
    "# Type your code here\n",
    "input_range = int(input(\"Enter range:\"))\n",
    "\n",
    "for i in range(2, input_range+1):\n",
    "    for j in range(1 ,11):\n",
    "        print(i,\"x\",j,\"=\",i*j)\n",
    "    print(\"-------\")    \n"
   ]
  },
  {
   "cell_type": "markdown",
   "metadata": {},
   "source": [
    "<table align=\"left\">\n",
    "    <tr>\n",
    "        <td width=\"6%\">\n",
    "            <img src=\"question_icon.png\">\n",
    "        </td>\n",
    "        <td>\n",
    "            <div align=\"left\", style=\"font-size:120%\">\n",
    "                <font color=\"#21618C\">\n",
    "                    <b>3. Consider the given two tuples. Divide corresponding elemets of two tuples and print the result as tuple (use zip())</b>\n",
    "                 </font>\n",
    "            </div>\n",
    "        </td>\n",
    "    </tr>\n",
    "</table>"
   ]
  },
  {
   "cell_type": "markdown",
   "metadata": {},
   "source": [
    "   **The original tuple 1 : (10, 4, 6, 9)**\n",
    "\n",
    "   **The original tuple 2 : (5, 2, 3, 3)**\n",
    "\n",
    "   **Output: (2, 2, 2, 3)**\n"
   ]
  },
  {
   "cell_type": "code",
   "execution_count": 1,
   "metadata": {},
   "outputs": [
    {
     "name": "stdout",
     "output_type": "stream",
     "text": [
      "tuple1:  (10, 4, 6, 9)\n",
      "tuple2:  (5, 2, 3, 3)\n",
      "Zip tuple:  ((10, 5), (4, 2), (6, 3), (9, 3))\n",
      "Output:  (2, 2, 2, 3)\n"
     ]
    }
   ],
   "source": [
    "# Type your code here\n",
    "\n",
    "tuple1 = (10, 4, 6, 9)\n",
    "\n",
    "tuple2 = (5, 2, 3, 3)\n",
    "\n",
    "tuple3 = tuple(zip(tuple1,tuple2))\n",
    "\n",
    "tuple_output = ()\n",
    "\n",
    "print(\"tuple1: \",tuple1)\n",
    "print(\"tuple2: \",tuple2)\n",
    "\n",
    "print(\"Zip tuple: \",tuple3)\n",
    "\n",
    "\n",
    "for i in range(0,4):\n",
    "            x = tuple3[i][0] \n",
    "            y =  tuple3[i][1]\n",
    "            tuple_output = tuple_output + (int(x/y),)\n",
    "\n",
    "print(\"Output: \",tuple_output)    \n",
    "\n",
    "\n"
   ]
  },
  {
   "cell_type": "markdown",
   "metadata": {},
   "source": [
    "<table align=\"left\">\n",
    "    <tr>\n",
    "        <td width=\"6%\">\n",
    "            <img src=\"question_icon.png\">\n",
    "        </td>\n",
    "        <td>\n",
    "            <div align=\"left\", style=\"font-size:120%\">\n",
    "                <font color=\"#21618C\">\n",
    "                    <b>4. Write a program to find words whose length is less than 5 from the given multi-dimensional list. Store those word in a list and print that list</b>\n",
    "                    <br>\n",
    "                </font>\n",
    "            </div>\n",
    "        </td>\n",
    "    </tr>\n",
    "</table>"
   ]
  },
  {
   "cell_type": "markdown",
   "metadata": {},
   "source": [
    "**astro = [['sky', 'sun', 'moon'], ['star', 'Jupiter', 'mars'], ['Jupiter', 'Neptune', 'Pluto']] **\n"
   ]
  },
  {
   "cell_type": "code",
   "execution_count": 2,
   "metadata": {},
   "outputs": [
    {
     "name": "stdout",
     "output_type": "stream",
     "text": [
      "sky\n",
      "sun\n",
      "moon\n",
      "star\n",
      "mars\n"
     ]
    }
   ],
   "source": [
    "# Type your code here\n",
    "\n",
    "astro = [['sky', 'sun', 'moon'], ['star', 'Jupiter', 'mars'], ['Jupiter', 'Neptune', 'Pluto']]\n",
    "\n",
    "\n",
    "for i in range(0,3):\n",
    "    for j in range(0,3):\n",
    "        length = len(astro[i][j])\n",
    "        if length < 5:\n",
    "            print(astro[i][j])\n",
    "           "
   ]
  },
  {
   "cell_type": "markdown",
   "metadata": {},
   "source": [
    "<table align=\"left\">\n",
    "    <tr>\n",
    "        <td width=\"6%\">\n",
    "            <img src=\"question_icon.png\">\n",
    "        </td>\n",
    "        <td>\n",
    "            <div align=\"left\", style=\"font-size:120%\">\n",
    "                <font color=\"#21618C\">\n",
    "                    <b>5. Write a program to append a dictionary to a tuple</b>\n",
    "                 </font>\n",
    "            </div>\n",
    "        </td>\n",
    "    </tr>\n",
    "</table>"
   ]
  },
  {
   "cell_type": "markdown",
   "metadata": {},
   "source": [
    "**The original tuple : (4, 5, 6)**\n",
    "\n",
    "**Tuple after addition of dictionary : (4, 5, 6, {'gfg': 1, 'is': 2, 'best': 3})**"
   ]
  },
  {
   "cell_type": "code",
   "execution_count": 4,
   "metadata": {},
   "outputs": [
    {
     "name": "stdout",
     "output_type": "stream",
     "text": [
      "(4, 5, 6, {'gfg': 1, 'is': 2, 'best': 3})\n"
     ]
    }
   ],
   "source": [
    "# Type your code here\n",
    "\n",
    "original_tuple = (4, 5, 6 )\n",
    "\n",
    "original_dictionary = {'gfg': 1, 'is': 2, 'best': 3}\n",
    "\n",
    "updated_tuple = ()\n",
    "\n",
    "updated_tuple = original_tuple + (original_dictionary,)\n",
    "\n",
    "print(updated_tuple)\n"
   ]
  },
  {
   "cell_type": "markdown",
   "metadata": {},
   "source": [
    "<table align=\"left\">\n",
    "    <tr>\n",
    "        <td width=\"6%\">\n",
    "            <img src=\"question_icon.png\">\n",
    "        </td>\n",
    "        <td>\n",
    "            <div align=\"left\", style=\"font-size:120%\">\n",
    "                <font color=\"#21618C\">\n",
    "                    <b>6. Write a program to check whether two strings are anagram or not (take input from user)</b>\n",
    "                 </font>\n",
    "            </div>\n",
    "        </td>\n",
    "    </tr>\n",
    "</table>"
   ]
  },
  {
   "cell_type": "markdown",
   "metadata": {},
   "source": [
    "**Hint: An anagram of a string is another string that contains same characters, only the order of characters can be different.**"
   ]
  },
  {
   "cell_type": "code",
   "execution_count": 19,
   "metadata": {},
   "outputs": [
    {
     "name": "stdout",
     "output_type": "stream",
     "text": [
      "String1:  angel\n",
      "String2:  angle\n",
      "Entered strings are anagram\n"
     ]
    }
   ],
   "source": [
    "# Type your code here\n",
    "\n",
    "string1 = input(\"Enter string1:\")\n",
    "print(\"String1: \",string1)\n",
    "\n",
    "string2 = input(\"Enter string2:\")\n",
    "print(\"String2: \",string2)\n",
    "\n",
    "for i in string1: \n",
    "    if i not in string2:\n",
    "        anagram = False\n",
    "        break\n",
    "    else:\n",
    "         anagram = True \n",
    "\n",
    "if anagram == True:\n",
    "    print(\"Entered strings are anagram\")   \n",
    "else:\n",
    "    print(\"Entered strings are not anagram\")             "
   ]
  },
  {
   "cell_type": "markdown",
   "metadata": {},
   "source": [
    "<table align=\"left\">\n",
    "    <tr>\n",
    "        <td width=\"6%\">\n",
    "            <img src=\"question_icon.png\">\n",
    "        </td>\n",
    "        <td>\n",
    "            <div align=\"left\", style=\"font-size:120%\">\n",
    "                <font color=\"#21618C\">\n",
    "                    <b>7. Write a program to remove space from keys of the given dictionary  </b>\n",
    "                 </font>\n",
    "            </div>\n",
    "        </td>\n",
    "    </tr>\n",
    "</table>"
   ]
  },
  {
   "cell_type": "markdown",
   "metadata": {},
   "source": [
    "**fruity = {'Fruits 01' : 'Apple', 'Fruits 02' : 'Orange', \n",
    "                'Fruits 0 3 ': 'Grapes'}**\n",
    "\n",
    "**(Output)New dictionary :   {'Fruits01': 'Apple', 'Fruits02': 'Orange', 'Fruits03': 'Grapes'}**\n"
   ]
  },
  {
   "cell_type": "code",
   "execution_count": 32,
   "metadata": {},
   "outputs": [
    {
     "name": "stdout",
     "output_type": "stream",
     "text": [
      "{'Fruits01': 'Apple', 'Fruits02': 'Orange', 'Fruits03': 'Grapes'}\n"
     ]
    }
   ],
   "source": [
    "# Type your code here\n",
    "\n",
    "fruity = {'Fruits 01' : 'Apple', 'Fruits 02' : 'Orange', 'Fruits 0 3 ': 'Grapes'}\n",
    "\n",
    "updated_fruity = {}\n",
    "\n",
    "for key,value in fruity.items():\n",
    "    updated_key = key.replace(' ', '')\n",
    "    updated_fruity[updated_key] = value\n",
    "\n",
    "print(updated_fruity)\n",
    "\n"
   ]
  },
  {
   "cell_type": "markdown",
   "metadata": {},
   "source": [
    "<table align=\"left\">\n",
    "    <tr>\n",
    "        <td width=\"6%\">\n",
    "            <img src=\"question_icon.png\">\n",
    "        </td>\n",
    "        <td>\n",
    "            <div align=\"left\", style=\"font-size:120%\">\n",
    "                <font color=\"#21618C\">\n",
    "                    <b>8. Write a program to transpose a matrix using list comprehension</b>\n",
    "                 </font>\n",
    "            </div>\n",
    "        </td>\n",
    "    </tr>\n",
    "</table>"
   ]
  },
  {
   "cell_type": "markdown",
   "metadata": {},
   "source": [
    "**matrix=[[1,2],[3,4],[5,6],[7,8]]**<br>\n",
    "**Output: [[1, 3, 5, 7], [2, 4, 6, 8]]**"
   ]
  },
  {
   "cell_type": "code",
   "execution_count": 31,
   "metadata": {},
   "outputs": [
    {
     "name": "stdout",
     "output_type": "stream",
     "text": [
      "[[1, 3, 5, 7], [2, 4, 6, 8]]\n"
     ]
    }
   ],
   "source": [
    "# Type your code here\n",
    "\n",
    "matrix=[[1,2],[3,4],[5,6],[7,8]]\n",
    "\n",
    "transpose = [[0, 0, 0, 0], [0, 0, 0, 0]]\n",
    "\n",
    "for i in range(0,4):\n",
    "    for j in range(0,2):\n",
    "        transpose[j][i] = matrix[i][j]\n",
    "\n",
    "print(transpose)"
   ]
  },
  {
   "cell_type": "markdown",
   "metadata": {},
   "source": [
    "<table align=\"left\">\n",
    "    <tr>\n",
    "        <td width=\"6%\">\n",
    "            <img src=\"question_icon.png\">\n",
    "        </td>\n",
    "        <td>\n",
    "            <div align=\"left\", style=\"font-size:120%\">\n",
    "                <font color=\"#21618C\">\n",
    "                    <b>9. Consider the below string 'input_str'. Take the position index from user and from that position print Mirror string.</b>\n",
    "                 </font>\n",
    "            </div>\n",
    "        </td>\n",
    "    </tr>\n",
    "</table>"
   ]
  },
  {
   "cell_type": "markdown",
   "metadata": {},
   "source": [
    "**Hint : Mirror String : In mirror operation, we change ‘a’ to ‘z’, ‘b’ to ‘y’,'c' to 'x' and so on.**"
   ]
  },
  {
   "cell_type": "markdown",
   "metadata": {},
   "source": [
    "**Example**\n",
    "\n",
    "**Original String = program**\n",
    "\n",
    "**Enter a number = 2**\n",
    "\n",
    "**Output String = prltizn**"
   ]
  },
  {
   "cell_type": "code",
   "execution_count": 2,
   "metadata": {},
   "outputs": [
    {
     "name": "stdout",
     "output_type": "stream",
     "text": [
      "Output= prltizn\n"
     ]
    }
   ],
   "source": [
    "# Type your code here\n",
    "\n",
    "string = 'program'\n",
    "input = int(input(\"Enter a number:\"))\n",
    "\n",
    "new_string = ''\n",
    "i = 0\n",
    "j =122\n",
    "\n",
    "while i < len(string):\n",
    "    if i < input:\n",
    "        new_string = new_string + string[i] \n",
    "        i = i+1 \n",
    "    else:\n",
    "            # print(\"Character in String: \",string[i])\n",
    "            index = ord(string[i])\n",
    "            # print(\"Index:\",index)\n",
    "            rev_index = 122 - (index - 97)\n",
    "            # print(\"Reverse Index:\",rev_index)\n",
    "            # print(chr(rev_index))\n",
    "            new_string = new_string + chr(rev_index)\n",
    "            i = i+1         \n",
    "     \n",
    "print(\"Output=\",new_string)"
   ]
  },
  {
   "cell_type": "markdown",
   "metadata": {},
   "source": [
    "<table align=\"left\">\n",
    "    <tr>\n",
    "        <td width=\"6%\">\n",
    "            <img src=\"question_icon.png\">\n",
    "        </td>\n",
    "        <td>\n",
    "            <div align=\"left\", style=\"font-size:120%\">\n",
    "                <font color=\"#21618C\">\n",
    "                    <b>10. Write a program to create a 5x3 matrix with values in each row as 1,2, and 3</b>\n",
    "                    <br>\n",
    "                 </font>\n",
    "            </div>\n",
    "        </td>\n",
    "    </tr>\n",
    "</table>"
   ]
  },
  {
   "cell_type": "code",
   "execution_count": 27,
   "metadata": {},
   "outputs": [
    {
     "name": "stdout",
     "output_type": "stream",
     "text": [
      "[[0, 1, 2], [0, 1, 2], [0, 1, 2], [0, 1, 2], [0, 1, 2]]\n"
     ]
    }
   ],
   "source": [
    "# Type your code here\n",
    "\n",
    "matrix = [[0,0,0], [0,0,0], [0,0,0], [0,0,0], [0,0,0]]\n",
    "\n",
    "for i in range(5):\n",
    "        matrix [i][0] = 0\n",
    "        matrix [i][1] = 1\n",
    "        matrix [i][2] = 2\n",
    "        i += 1\n",
    "print(matrix)        "
   ]
  },
  {
   "cell_type": "markdown",
   "metadata": {},
   "source": [
    "<table align=\"left\">\n",
    "    <tr>\n",
    "        <td width=\"6%\">\n",
    "            <img src=\"question_icon.png\">\n",
    "        </td>\n",
    "        <td>\n",
    "            <div align=\"left\", style=\"font-size:120%\">\n",
    "                <font color=\"#21618C\">\n",
    "                    <b>11. A list of words is given. Convert the words into uppercase.</b>\n",
    "                    <br>\n",
    "                    <br>\n",
    "                    <b>Use lambda and map functions</b>\n",
    "                </font>\n",
    "            </div>\n",
    "        </td>\n",
    "    </tr>\n",
    "</table>"
   ]
  },
  {
   "cell_type": "markdown",
   "metadata": {},
   "source": [
    "<b>lsbool = ['True','FALse','tRUe','tRue','False','faLse','True']</b><br>\n",
    "<b>Output: ['TRUE', 'FALSE', 'TRUE', 'TRUE', 'FALSE', 'FALSE', 'TRUE']</b>"
   ]
  },
  {
   "cell_type": "code",
   "execution_count": 33,
   "metadata": {},
   "outputs": [
    {
     "name": "stdout",
     "output_type": "stream",
     "text": [
      "['TRUE', 'FALSE', 'TRUE', 'TRUE', 'FALSE', 'FALSE', 'TRUE']\n"
     ]
    }
   ],
   "source": [
    "# Type your code here\n",
    "lsbool = ['True','FALse','tRUe','tRue','False','faLse','True']\n",
    "upper = map(lambda item:item.upper(), lsbool)\n",
    "output = list(upper) \n",
    "print(output)"
   ]
  },
  {
   "cell_type": "markdown",
   "metadata": {},
   "source": [
    "<table align=\"left\">\n",
    "    <tr>\n",
    "        <td width=\"6%\">\n",
    "            <img src=\"question_icon.png\">\n",
    "        </td>\n",
    "        <td>\n",
    "            <div align=\"left\", style=\"font-size:120%\">\n",
    "                <font color=\"#21618C\">\n",
    "                    <b>12. Replace 'TRUE' with 1 and 'FALSE' with 0. Use the above question's output as an input to this current question.</b> \n",
    "                </font>\n",
    "            </div>\n",
    "        </td>\n",
    "    </tr>\n",
    "</table>"
   ]
  },
  {
   "cell_type": "code",
   "execution_count": 37,
   "metadata": {},
   "outputs": [
    {
     "name": "stdout",
     "output_type": "stream",
     "text": [
      "['1', '0', '1', '1', '0', '0', '1']\n"
     ]
    }
   ],
   "source": [
    "# Type your code here\n",
    "bool_list = []\n",
    "for item in output:\n",
    "    if item == \"TRUE\":\n",
    "        bool_list.append('1')\n",
    "    else:\n",
    "        bool_list.append('0')   \n",
    "print(bool_list)"
   ]
  },
  {
   "cell_type": "markdown",
   "metadata": {},
   "source": [
    "<table align=\"left\">\n",
    "    <tr>\n",
    "        <td width=\"6%\">\n",
    "            <img src=\"question_icon.png\">\n",
    "        </td>\n",
    "        <td>\n",
    "            <div align=\"left\", style=\"font-size:120%\">\n",
    "                <font color=\"#21618C\">\n",
    "                    <b>13. Create a dictionary containing four lambda functions square, cube, squareroot, multiply by 2.</b>\n",
    "                    <br><br>\n",
    "                    <b>E.g. dict = {'Square': function for squaring, 'Cube': function for cube, 'Squareroot': function for squareroot, 'Double': function for double} and so on </b>\n",
    "                    <br><br>\n",
    "                    <b>Pass the values (input from the user) to the functions in the dictionary respectively. Then add the outputs of each function and print it.</b>\n",
    "                </font>\n",
    "            </div>\n",
    "        </td>\n",
    "    </tr>\n",
    "</table>"
   ]
  },
  {
   "cell_type": "code",
   "execution_count": null,
   "metadata": {},
   "outputs": [],
   "source": [
    "# Type your code here\n",
    "\n",
    "dict = {'Square': function for squaring, 'Cube': function for cube, 'Squareroot': function for squareroot, 'Double': function for double}\n",
    "\n"
   ]
  },
  {
   "cell_type": "markdown",
   "metadata": {},
   "source": [
    "<table align=\"left\">\n",
    "    <tr>\n",
    "        <td width=\"6%\">\n",
    "            <img src=\"question_icon.png\">\n",
    "        </td>\n",
    "        <td>\n",
    "            <div align=\"left\", style=\"font-size:120%\">\n",
    "                <font color=\"#21618C\">\n",
    "                    <b>14. A list of words is given. Find the words from the list that have their second character in uppercase.</b>\n",
    "                </font>\n",
    "            </div>\n",
    "        </td>\n",
    "    </tr>\n",
    "</table>"
   ]
  },
  {
   "cell_type": "markdown",
   "metadata": {},
   "source": [
    "<b>ls = ['hello', 'Dear', 'hOw', 'ARe', 'You']</b><br>\n",
    "<b>Output: ['hOw', 'ARe']</b>"
   ]
  },
  {
   "cell_type": "code",
   "execution_count": 44,
   "metadata": {},
   "outputs": [
    {
     "name": "stdout",
     "output_type": "stream",
     "text": [
      "['hOw', 'ARe']\n"
     ]
    }
   ],
   "source": [
    "# Type your code here\n",
    "\n",
    "ls = ['hello', 'Dear', 'hOw', 'ARe', 'You']\n",
    "output = []\n",
    "\n",
    "i = 0\n",
    "\n",
    "while i < len(ls):\n",
    "    if ls[i][1].isupper():\n",
    "        output.append(ls[i])\n",
    "    i += 1\n",
    "\n",
    "print(output)        "
   ]
  },
  {
   "cell_type": "markdown",
   "metadata": {},
   "source": [
    "<table align=\"left\">\n",
    "    <tr>\n",
    "        <td width=\"6%\">\n",
    "            <img src=\"question_icon.png\">\n",
    "        </td>\n",
    "        <td>\n",
    "            <div align=\"left\", style=\"font-size:120%\">\n",
    "                <font color=\"#21618C\">\n",
    "                    <b>15. Filter the marks from the tuple \"tmarks\" that are  greater than 40 and print corresponding names from the \"tnames\" tuple.</b><br><br>\n",
    "                </font>\n",
    "            </div>\n",
    "        </td>\n",
    "    </tr>\n",
    "</table>"
   ]
  },
  {
   "cell_type": "markdown",
   "metadata": {},
   "source": [
    "<b>tnames = ('John','Sharon','Jack','Annie')</b><br>\n",
    "<b>tmarks = (32,50,75,12)</b>"
   ]
  },
  {
   "cell_type": "code",
   "execution_count": 21,
   "metadata": {},
   "outputs": [
    {
     "name": "stdout",
     "output_type": "stream",
     "text": [
      "Sharon\n",
      "Jack\n"
     ]
    }
   ],
   "source": [
    "# Type your code here\n",
    "tnames = ('John','Sharon','Jack','Annie')\n",
    "tmarks = (32,50,75,12)\n",
    "i = 0\n",
    "\n",
    "while i <len(tmarks): \n",
    "        if tmarks[i] > 40:\n",
    "            print(tnames[i])\n",
    "        i =  i + 1      "
   ]
  },
  {
   "cell_type": "markdown",
   "metadata": {},
   "source": [
    "<table align=\"left\">\n",
    "    <tr>\n",
    "        <td width=\"6%\">\n",
    "            <img src=\"question_icon.png\">\n",
    "        </td>\n",
    "        <td>\n",
    "            <div align=\"left\", style=\"font-size:120%\">\n",
    "                <font color=\"#21618C\">\n",
    "                    <b> 16. A dictionary of names and their weights on earth is given. Find how much they will weigh on the moon. (Use map and lambda functions)</b><br> \n",
    "                </font>\n",
    "            </div>\n",
    "        </td>\n",
    "    </tr>\n",
    "</table>"
   ]
  },
  {
   "cell_type": "markdown",
   "metadata": {},
   "source": [
    "```\n",
    "WeightOnEarth = {'John':45, 'Shelly':65, 'Marry':35}       # Weight of people in kg\n",
    "GMoon = 1.622                                              # Gravitational force on the Moon: 1.622 m/s2\n",
    "GEarth = 9.81                                              # Gravitational force on the Earth: 9.81 m/s2\n",
    "\n",
    "Output: \n",
    "Weight on Moon:  {'John': 7.44, 'Shelly': 10.75, 'Marry': 5.79}\n",
    "```"
   ]
  },
  {
   "cell_type": "code",
   "execution_count": 14,
   "metadata": {},
   "outputs": [
    {
     "name": "stdout",
     "output_type": "stream",
     "text": [
      "{'John': 72.99, 'Shelly': 105.43, 'Marry': 56.77}\n"
     ]
    }
   ],
   "source": [
    "# Type your code here\n",
    "WeightOnEarth = {'John':45, 'Shelly':65, 'Marry':35}       # Weight of people in kg\n",
    "GMoon = 1.622                                              # Gravitational force on the Moon: 1.622 m/s2\n",
    "GEarth = 9.81                                              # Gravitational force on the Earth: 9.81 m/s2\n",
    "\n",
    "\n",
    "# WeightOnMoon = dict(map(lambda (k,v): (k, v* 1.622) ,WeightOnEarth ))\n",
    "\n",
    "WeightOnMoon = dict(map(lambda item: (item[0], round(item[1] * 1.622,2)), WeightOnEarth.items()))  # <<<<<<<<<\n",
    "                   \n",
    "print(WeightOnMoon)\n"
   ]
  },
  {
   "cell_type": "markdown",
   "metadata": {},
   "source": [
    "<table align=\"left\">\n",
    "    <tr>\n",
    "        <td width=\"6%\">\n",
    "            <img src=\"question_icon.png\">\n",
    "        </td>\n",
    "        <td>\n",
    "            <div align=\"left\", style=\"font-size:120%\">\n",
    "                <font color=\"#21618C\">\n",
    "                    <b> 17. A list containing multiple lists is given. Convert each inner list into sets and find intersection of all the sets.</b><br><b>Use reduce function.</b>\n",
    "                </font>\n",
    "            </div>\n",
    "        </td>\n",
    "    </tr>\n",
    "</table>"
   ]
  },
  {
   "cell_type": "markdown",
   "metadata": {},
   "source": [
    "<b>given_sets = [[1, 2, 3, 4, 8], [2, 3, 8, 5, 6], [8, 4, 5, 3, 7], [6, 9, 8, 3], [9, 12, 3, 7, 6, 8, 4, 6, 21, 1, 6]]</b><br>\n",
    "<b>Output: {8, 3}</b>"
   ]
  },
  {
   "cell_type": "code",
   "execution_count": 30,
   "metadata": {},
   "outputs": [
    {
     "name": "stdout",
     "output_type": "stream",
     "text": [
      "\n",
      "Sets generated from list:\n",
      "{1, 2, 3, 4, 8}\n",
      "{2, 3, 5, 6, 8}\n",
      "{3, 4, 5, 7, 8}\n",
      "{8, 9, 3, 6}\n",
      "{1, 3, 4, 6, 7, 8, 9, 12, 21}\n",
      "Intersection of Sets generated from list:\n",
      "Output: {8, 3}\n"
     ]
    }
   ],
   "source": [
    "# Type your code here\n",
    "given_sets = [[1, 2, 3, 4, 8], [2, 3, 8, 5, 6], [8, 4, 5, 3, 7], [6, 9, 8, 3], [9, 12, 3, 7, 6, 8, 4, 6, 21, 1, 6]]\n",
    "\n",
    "i = 0\n",
    "for item in given_sets:\n",
    "    globals()[f\"set_{i}\"]= set(item)   # <<<<<<<<\n",
    "    i = i + 1\n",
    "\n",
    "print()\n",
    "print(\"Sets generated from list:\")\n",
    "print(set_0)  \n",
    "print(set_1) \n",
    "print(set_2) \n",
    "print(set_3) \n",
    "print(set_4) \n",
    "print(\"Intersection of Sets generated from list:\")\n",
    "print(\"Output:\",set_0 & set_1 & set_2 & set_3 & set_4) \n",
    "   "
   ]
  },
  {
   "cell_type": "markdown",
   "metadata": {},
   "source": [
    "<table align=\"left\">\n",
    "    <tr>\n",
    "        <td width=\"6%\">\n",
    "            <img src=\"question_icon.png\">\n",
    "        </td>\n",
    "        <td>\n",
    "            <div align=\"left\", style=\"font-size:120%\">\n",
    "                <font color=\"#21618C\">\n",
    "                    <b> 18. Count the number of characters in the string (given by the user) that are not present in the 'glstring'. Do not count the white spaces.</b><br>\n",
    "                    <br>\n",
    "                    <b> Use Recursion</b>\n",
    "                </font>\n",
    "            </div>\n",
    "        </td>\n",
    "    </tr>\n",
    "</table>"
   ]
  },
  {
   "cell_type": "markdown",
   "metadata": {},
   "source": [
    "<b>glstring = 'great'</b>"
   ]
  },
  {
   "cell_type": "code",
   "execution_count": 35,
   "metadata": {},
   "outputs": [
    {
     "name": "stdout",
     "output_type": "stream",
     "text": [
      "4\n"
     ]
    }
   ],
   "source": [
    "# Type your code here\n",
    "glstring = 'great'\n",
    "\n",
    "inputstring = input(\"Enter Input String:\")\n",
    "\n",
    "count = 0\n",
    "\n",
    "for i in inputstring:\n",
    "    if i not in  glstring:\n",
    "        if not i == ' ':\n",
    "            count = count + 1\n",
    "\n",
    "print(count)            \n"
   ]
  },
  {
   "cell_type": "markdown",
   "metadata": {},
   "source": [
    "<table align=\"left\">\n",
    "    <tr>\n",
    "        <td width=\"6%\">\n",
    "            <img src=\"question_icon.png\">\n",
    "        </td>\n",
    "        <td>\n",
    "            <div align=\"left\", style=\"font-size:120%\">\n",
    "                <font color=\"#21618C\">\n",
    "                    <b> 19. Two sets are given below. One set contains the name of players who played in World Cup 2011. The other set contains the name of playes who played in World Cup 2015.</b><br>\n",
    "                    <b>Perform the following operations: \n",
    "                    <ol type = '1'>\n",
    "                        <li> Find the list of all players who played in either 2011 or 2015 World Cup. </li>\n",
    "                        <li> Find the list of players who played for both 2011 and 2015 World Cup. </li>\n",
    "                        <li> Find the list of players who were 'not' the part of 2011 World Cup and played in 2015 World Cup</li>\n",
    "                     </ol>\n",
    "                    </b>  \n",
    "                </font>\n",
    "            </div>\n",
    "        </td>\n",
    "    </tr>\n",
    "</table>"
   ]
  },
  {
   "cell_type": "code",
   "execution_count": 39,
   "metadata": {},
   "outputs": [],
   "source": [
    "WCup2011 = {'Dhoni', 'Sehwag', 'Raina', 'Tendulkar', 'Gambhir', 'Kohli', 'Yuvraj', 'Yufsuf'}\n",
    "WCup2015 = {'Dhoni', 'Dhawan', 'Raina', 'Rohit', 'Rahane', 'Kohli', 'Jadeja', 'Rayudu'}"
   ]
  },
  {
   "cell_type": "code",
   "execution_count": 41,
   "metadata": {},
   "outputs": [
    {
     "name": "stdout",
     "output_type": "stream",
     "text": [
      "{'Rayudu', 'Dhoni', 'Sehwag', 'Yufsuf', 'Tendulkar', 'Dhawan', 'Gambhir', 'Yuvraj', 'Rahane', 'Rohit', 'Jadeja', 'Kohli', 'Raina'}\n"
     ]
    }
   ],
   "source": [
    "# Solution 1.\n",
    "# Type your code here\n",
    "print(WCup2011.union(WCup2015))"
   ]
  },
  {
   "cell_type": "code",
   "execution_count": 40,
   "metadata": {},
   "outputs": [
    {
     "name": "stdout",
     "output_type": "stream",
     "text": [
      "{'Dhoni', 'Kohli', 'Raina'}\n"
     ]
    }
   ],
   "source": [
    "# Solution 2.\n",
    "# Type your code here\n",
    "print( WCup2011 & WCup2015)"
   ]
  },
  {
   "cell_type": "code",
   "execution_count": 43,
   "metadata": {},
   "outputs": [
    {
     "name": "stdout",
     "output_type": "stream",
     "text": [
      "{'Rayudu', 'Dhawan', 'Rahane', 'Jadeja', 'Rohit'}\n"
     ]
    }
   ],
   "source": [
    "# Solution 3.\n",
    "# Type your code here\n",
    "print(WCup2011.union(WCup2015) - (WCup2011 & WCup2015)- WCup2011)"
   ]
  },
  {
   "cell_type": "markdown",
   "metadata": {},
   "source": [
    "<table align=\"left\">\n",
    "    <tr>\n",
    "        <td width=\"6%\">\n",
    "            <img src=\"question_icon.png\">\n",
    "        </td>\n",
    "        <td>\n",
    "            <div align=\"left\", style=\"font-size:120%\">\n",
    "                <font color=\"#21618C\">\n",
    "                    <b> 20. Find the cumulative average of the list [9,8,7,6,5] using accumulate() and lambda function.</b><br>\n",
    "                </font>\n",
    "            </div>\n",
    "        </td>\n",
    "    </tr>\n",
    "</table>"
   ]
  },
  {
   "cell_type": "markdown",
   "metadata": {},
   "source": [
    "<b>Input list: [9,8,7,6,5]</b>"
   ]
  },
  {
   "cell_type": "code",
   "execution_count": 11,
   "metadata": {},
   "outputs": [
    {
     "name": "stdout",
     "output_type": "stream",
     "text": [
      "[0, 9.0, 8.5, 8.0, 7.5, 7.0]\n"
     ]
    }
   ],
   "source": [
    "# Type your code here\n",
    "from itertools import accumulate\n",
    "\n",
    "# List of numbers\n",
    "numbers = [9, 8, 7, 6, 5]\n",
    "\n",
    "# Calculate the cumulative average\n",
    "cumulative_average = list(accumulate(numbers, lambda x, y: (x[0] + y, x[1] + 1), initial=(0, 0)))\n",
    "cumulative_average = [total / count if count != 0 else 0 for total, count in cumulative_average]\n",
    "\n",
    "print(cumulative_average)\n",
    "\n",
    "\n"
   ]
  }
 ],
 "metadata": {
  "kernelspec": {
   "display_name": "Python 3",
   "language": "python",
   "name": "python3"
  },
  "language_info": {
   "codemirror_mode": {
    "name": "ipython",
    "version": 3
   },
   "file_extension": ".py",
   "mimetype": "text/x-python",
   "name": "python",
   "nbconvert_exporter": "python",
   "pygments_lexer": "ipython3",
   "version": "3.11.6"
  }
 },
 "nbformat": 4,
 "nbformat_minor": 2
}
