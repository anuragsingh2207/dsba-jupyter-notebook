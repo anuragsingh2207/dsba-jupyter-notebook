{
 "cells": [
  {
   "cell_type": "markdown",
   "metadata": {},
   "source": [
    "<table align=\"center\" width=100%>\n",
    "    <tr>\n",
    "        <td width=\"15%\">\n",
    "            <img src=\"homework.png\">\n",
    "        </td>\n",
    "        <td>\n",
    "            <div align=\"center\">\n",
    "                <font color=\"#21618C\" size=8px>\n",
    "                    <b> Take-Home <br>(Session 1)\n",
    "                    </b>\n",
    "                </font>\n",
    "            </div>\n",
    "        </td>\n",
    "    </tr>\n",
    "</table>"
   ]
  },
  {
   "cell_type": "markdown",
   "metadata": {},
   "source": [
    "### Let's begin with some hands-on practice exercises"
   ]
  },
  {
   "cell_type": "markdown",
   "metadata": {},
   "source": [
    "<table align=\"left\">\n",
    "    <tr>\n",
    "        <td width=\"6%\">\n",
    "            <img src=\"question_icon.png\">\n",
    "        </td>\n",
    "        <td>\n",
    "            <div align=\"left\", style=\"font-size:120%\">\n",
    "                <font color=\"#21618C\">\n",
    "                    <b>1. A text is given below. Write a program to find the character which is at the index position obtained by adding the indices of the character 'e' of the word 'Hello' and 'e' of the word 'Welcome'.</b>\n",
    "                    <br><br>\n",
    "                </font>\n",
    "            </div>\n",
    "        </td>\n",
    "    </tr>\n",
    "</table>\n",
    "\n"
   ]
  },
  {
   "cell_type": "markdown",
   "metadata": {},
   "source": [
    "<b>txt = \"Hello, welcome to my world.\" </b>"
   ]
  },
  {
   "cell_type": "code",
   "execution_count": null,
   "metadata": {
    "collapsed": true
   },
   "outputs": [],
   "source": [
    "# Type your code here\n",
    "str = \"Hello, welcome to my world.\"\n",
    "\n",
    "i = sum = 0\n",
    "\n",
    "while i < len(str):\n",
    "    if str[i]== 'e':\n",
    "        print(i)\n",
    "        sum = sum + i\n",
    "    i = i + 1\n",
    "\n",
    "print(\"Sum = \", sum)"
   ]
  },
  {
   "cell_type": "markdown",
   "metadata": {},
   "source": [
    "<table align=\"left\">\n",
    "    <tr>\n",
    "        <td width=\"6%\">\n",
    "            <img src=\"question_icon.png\">\n",
    "        </td>\n",
    "        <td>\n",
    "            <div align=\"left\", style=\"font-size:120%\">\n",
    "                <font color=\"#21618C\">\n",
    "                    <b>2. Write a program to check whether string contains all alphabets (take input from user)</b>\n",
    "                </font>\n",
    "            </div>\n",
    "        </td>\n",
    "    </tr>\n",
    "</table>\n"
   ]
  },
  {
   "cell_type": "code",
   "execution_count": null,
   "metadata": {
    "collapsed": true
   },
   "outputs": [],
   "source": [
    "# Type your code here\n",
    "string = input(\"Enter input string:\")\n",
    "\n",
    "check_string = string.isalpha()\n",
    "\n",
    "print(check_string)\n"
   ]
  },
  {
   "cell_type": "markdown",
   "metadata": {},
   "source": [
    "<table align=\"left\">\n",
    "    <tr>\n",
    "        <td width=\"6%\">\n",
    "            <img src=\"question_icon.png\">\n",
    "        </td>\n",
    "        <td>\n",
    "            <div align=\"left\", style=\"font-size:120%\">\n",
    "                <font color=\"#21618C\">\n",
    "                    <b>3. Write a program to count number of vowels in a string (take input from user) </b>\n",
    "                </font>\n",
    "            </div>\n",
    "        </td>\n",
    "    </tr>\n",
    "</table>"
   ]
  },
  {
   "cell_type": "code",
   "execution_count": null,
   "metadata": {
    "collapsed": true
   },
   "outputs": [],
   "source": [
    "# Type your code here\n",
    "string = input(\"Enter input string:\")\n",
    "\n",
    "i = vowel_count = 0\n",
    "\n",
    "while i < len(string):\n",
    "      if(str[i]=='a' or str[i]=='i' or str[i]=='e' or str[i]=='o' or str[i]=='u'):\n",
    "        vowel_count = vowel_count + 1\n",
    "      i = i + 1\n",
    "\n",
    "print(\"Number of vowels: \", vowel_count)      "
   ]
  },
  {
   "cell_type": "markdown",
   "metadata": {},
   "source": [
    "<table align=\"left\">\n",
    "    <tr>\n",
    "        <td width=\"6%\">\n",
    "            <img src=\"question_icon.png\">\n",
    "        </td>\n",
    "        <td>\n",
    "            <div align=\"left\", style=\"font-size:120%\">\n",
    "                <font color=\"#21618C\">\n",
    "                    <b>4. Write a program to check whether given year is leap year or not (take input from user) </b>\n",
    "                </font>\n",
    "            </div>\n",
    "        </td>\n",
    "    </tr>\n",
    "</table>"
   ]
  },
  {
   "cell_type": "code",
   "execution_count": null,
   "metadata": {
    "collapsed": true
   },
   "outputs": [],
   "source": [
    "# Type your code here\n",
    "year = int(input(\"Enter year:\"))\n",
    "\n",
    "check_leap = year % 4\n",
    "\n",
    "if check_leap == 0:\n",
    "    print(\"Entered year is a leap year\")\n",
    "else:\n",
    "    print(\"Entered year is not a leap year\")    "
   ]
  },
  {
   "cell_type": "markdown",
   "metadata": {},
   "source": [
    "<table align=\"left\">\n",
    "    <tr>\n",
    "        <td width=\"6%\">\n",
    "            <img src=\"question_icon.png\">\n",
    "        </td>\n",
    "        <td>\n",
    "            <div align=\"left\", style=\"font-size:120%\">\n",
    "                <font color=\"#21618C\">\n",
    "                    <b>5. Write a pseudocode to check whether an entered letter is a vowel or not</b>\n",
    "                </font>\n",
    "            </div>\n",
    "        </td>\n",
    "    </tr>\n",
    "</table>"
   ]
  },
  {
   "cell_type": "code",
   "execution_count": null,
   "metadata": {
    "collapsed": true
   },
   "outputs": [],
   "source": [
    "# Type your pseudocode here\n",
    "string = input(\"Enter input character:\")\n",
    "\n",
    "if(string=='a' or string=='i' or string=='e' or string=='o' or string=='u'):\n",
    "    print(\"Vowel\")\n",
    "else:\n",
    "    print(\"Not a Vowel\")    \n"
   ]
  },
  {
   "cell_type": "markdown",
   "metadata": {},
   "source": [
    "<table align=\"left\">\n",
    "    <tr>\n",
    "        <td width=\"6%\">\n",
    "            <img src=\"question_icon.png\">\n",
    "        </td>\n",
    "        <td>\n",
    "            <div align=\"left\", style=\"font-size:120%\">\n",
    "                <font color=\"#21618C\">\n",
    "                    <b>6. Write a program to print Armstrong number in the interval from 100 to 2000</b>\n",
    "                </font>\n",
    "            </div>\n",
    "        </td>\n",
    "    </tr>\n",
    "</table>"
   ]
  },
  {
   "cell_type": "markdown",
   "metadata": {},
   "source": [
    "**Hint: Armstrong number = The sum of cubes of each digit is equal to the number itself.**"
   ]
  },
  {
   "cell_type": "code",
   "execution_count": null,
   "metadata": {
    "collapsed": true
   },
   "outputs": [],
   "source": [
    "# Python program to check if the number is an Armstrong number or not\n",
    "\n",
    "def is_armstrong_number(num):\n",
    "    num_str = str(num)\n",
    "    num_digits = len(num_str)\n",
    "    sum_of_digits = sum(int(digit) ** num_digits for digit in num_str)\n",
    "    return sum_of_digits == num\n",
    "\n",
    "\n",
    "start_num = 100\n",
    "end_num = 2000\n",
    "\n",
    "\n",
    "print(\"Armstrong numbers between\", start_num, \"and\", end_num, \"are:\")\n",
    "for number in range(start_num, end_num + 1):\n",
    "    if is_armstrong_number(number):\n",
    "        print(number)\n"
   ]
  },
  {
   "cell_type": "markdown",
   "metadata": {},
   "source": [
    "<table align=\"left\">\n",
    "    <tr>\n",
    "        <td width=\"6%\">\n",
    "            <img src=\"question_icon.png\">\n",
    "        </td>\n",
    "        <td>\n",
    "            <div align=\"left\", style=\"font-size:120%\">\n",
    "                <font color=\"#21618C\">\n",
    "                    <b>7. Write a program to remove punctuations from a string (take a string containing punctuations as an input from user)</b>\n",
    "                </font>\n",
    "            </div>\n",
    "        </td>\n",
    "    </tr>\n",
    "</table>"
   ]
  },
  {
   "cell_type": "code",
   "execution_count": null,
   "metadata": {
    "collapsed": true
   },
   "outputs": [],
   "source": [
    "# Type your code here\n",
    "string = input(\"Enter input character:\")"
   ]
  },
  {
   "cell_type": "markdown",
   "metadata": {},
   "source": [
    "<table align=\"left\">\n",
    "    <tr>\n",
    "        <td width=\"6%\">\n",
    "            <img src=\"question_icon.png\">\n",
    "        </td>\n",
    "        <td>\n",
    "            <div align=\"left\", style=\"font-size:120%\">\n",
    "                <font color=\"#21618C\">\n",
    "                    <b>8. Write a program to swap 2 numbers without using temporary variable (take two numbers from user) </b>\n",
    "                </font>\n",
    "            </div>\n",
    "        </td>\n",
    "    </tr>\n",
    "</table>\n"
   ]
  },
  {
   "cell_type": "code",
   "execution_count": null,
   "metadata": {
    "collapsed": true
   },
   "outputs": [],
   "source": [
    "# Type your code here\n",
    "a , b = input(\"Enter two numbers\").split(' ')\n",
    "\n",
    "print(\"Entered numbers a and b are \", a , b)\n",
    "\n",
    "tmp =a \n",
    "a = b\n",
    "b = tmp\n",
    "\n",
    "print(\"Entered numbers a and b are \", a , b)"
   ]
  },
  {
   "cell_type": "markdown",
   "metadata": {},
   "source": [
    "<table align=\"left\">\n",
    "    <tr>\n",
    "        <td width=\"6%\">\n",
    "            <img src=\"question_icon.png\">\n",
    "        </td>\n",
    "        <td>\n",
    "            <div align=\"left\", style=\"font-size:120%\">\n",
    "                <font color=\"#21618C\">\n",
    "                    <b>9. Write a program to print product of below two variables</b>\n",
    "                    <br><br>\n",
    "                    <b> a=10 ; b=\"15\"  </b>\n",
    "                </font>\n",
    "            </div>\n",
    "        </td>\n",
    "    </tr>\n",
    "</table>"
   ]
  },
  {
   "cell_type": "code",
   "execution_count": null,
   "metadata": {
    "collapsed": true
   },
   "outputs": [],
   "source": [
    "# Type your code here\n",
    "a=10 \n",
    "b=\"15\" \n",
    "\n",
    "product = a * b\n",
    "\n",
    "print(product)"
   ]
  },
  {
   "cell_type": "markdown",
   "metadata": {},
   "source": [
    "<table align=\"left\">\n",
    "    <tr>\n",
    "        <td width=\"6%\">\n",
    "            <img src=\"question_icon.png\">\n",
    "        </td>\n",
    "        <td>\n",
    "            <div align=\"left\", style=\"font-size:120%\">\n",
    "                <font color=\"#21618C\">\n",
    "                    <b> 10. Write a pseudocode to check whether input is even number or odd number (take input from user).</b><br>\n",
    "                </font>\n",
    "            </div>\n",
    "        </td>\n",
    "    </tr>\n",
    "</table>"
   ]
  },
  {
   "cell_type": "code",
   "execution_count": null,
   "metadata": {},
   "outputs": [],
   "source": [
    "#Type your pseudocode here\n",
    "  \n",
    "num = int(input(\"Enter any number:\"))\n",
    "\n",
    "if (num % 2 == 0):\n",
    "    print(\"Enetered number is Even Number\")\n",
    "else:\n",
    "    print(\"Enetered number is Odd Number\")    "
   ]
  },
  {
   "cell_type": "markdown",
   "metadata": {},
   "source": [
    "<table align=\"left\">\n",
    "    <tr>\n",
    "        <td width=\"6%\">\n",
    "            <img src=\"question_icon.png\">\n",
    "        </td>\n",
    "        <td>\n",
    "            <div align=\"left\", style=\"font-size:120%\">\n",
    "                <font color=\"#21618C\">\n",
    "                    <b>11. Write a pseudocode to print whether a number is divisible by 9 and a multiple of 6 (take input from the user).</b><br>\n",
    "                </font>\n",
    "            </div>\n",
    "        </td>\n",
    "    </tr>\n",
    "</table>"
   ]
  },
  {
   "cell_type": "code",
   "execution_count": null,
   "metadata": {},
   "outputs": [],
   "source": [
    "#Type your pseudocode here\n",
    "num = int(input(\"Enter any number:\"))\n",
    "\n",
    "if (num % 9 == 0 and num % 6 == 0):\n",
    "    print(\"Enetered number is Divisible by 9 and Multiple of 6\")\n",
    "else:\n",
    "    print(\"Enetered number is neither Divisible by 9 nor Multiple of 6\")  "
   ]
  },
  {
   "cell_type": "markdown",
   "metadata": {},
   "source": [
    "<table align=\"left\">\n",
    "    <tr>\n",
    "        <td width=\"6%\">\n",
    "            <img src=\"question_icon.png\">\n",
    "        </td>\n",
    "        <td>\n",
    "            <div align=\"left\", style=\"font-size:120%\">\n",
    "                <font color=\"#21618C\">\n",
    "                    <b>12. Write a pseudocode to take 5 values from user and print their average using while loop (take input from user)</b><br>\n",
    "                </font>\n",
    "            </div>\n",
    "        </td>\n",
    "    </tr>\n",
    "</table>"
   ]
  },
  {
   "cell_type": "code",
   "execution_count": null,
   "metadata": {},
   "outputs": [],
   "source": [
    " #Type your pseudocode here\n",
    "\n",
    "array = []\n",
    "\n",
    "i = 0\n",
    "sum = 0\n",
    "while i <5:\n",
    "    element = int(input(\"Enter element {}: \".format(i + 1)))\n",
    "    array.append(element)\n",
    "    sum = sum + element\n",
    "    i = i + 1\n",
    "\n",
    "print(\"Entered Array: \", array)\n",
    "\n",
    "avg = sum/5\n",
    "\n",
    "print(\"Average: \", avg)"
   ]
  },
  {
   "cell_type": "markdown",
   "metadata": {},
   "source": [
    "<table align=\"left\">\n",
    "    <tr>\n",
    "        <td width=\"6%\">\n",
    "            <img src=\"question_icon.png\">\n",
    "        </td>\n",
    "        <td>\n",
    "            <div align=\"left\", style=\"font-size:120%\">\n",
    "                <font color=\"#21618C\">\n",
    "                    <b>13. Write a program to fetch the words from the given list which have their first character in uppercase.</b>\n",
    "                </font>\n",
    "            </div>\n",
    "        </td>\n",
    "    </tr>\n",
    "</table>"
   ]
  },
  {
   "cell_type": "markdown",
   "metadata": {},
   "source": [
    "<b>namesList = ['santa Maria', 'Hello World','Merry christmas', 'tHank You']</b><br>\n",
    "<b>Output: ['Maria', 'Hello', 'World', 'Merry', 'You']</b>"
   ]
  },
  {
   "cell_type": "code",
   "execution_count": null,
   "metadata": {},
   "outputs": [],
   "source": [
    "# Type your code here\n",
    "namesList = ['santa Maria', 'Hello World','Merry christmas', 'tHank You']\n",
    "output = []\n",
    "\n",
    "i = 0\n",
    "while i < len(namesList):\n",
    "        namesString = str(namesList[i])\n",
    "        x,y = namesString.split(' ')\n",
    "        if x[0].isupper():\n",
    "            output.append(x)      \n",
    "        elif y[0].isupper:\n",
    "            output.append(y)\n",
    "        i = i + 1\n",
    "\n",
    "print(\"Output: \"+str(output))              "
   ]
  },
  {
   "cell_type": "markdown",
   "metadata": {},
   "source": [
    "<table align=\"left\">\n",
    "    <tr>\n",
    "        <td width=\"6%\">\n",
    "            <img src=\"question_icon.png\">\n",
    "        </td>\n",
    "        <td>\n",
    "            <div align=\"left\", style=\"font-size:120%\">\n",
    "                <font color=\"#21618C\">\n",
    "                    <b>14. A list of dates (dd-mm-yyyy) in the form of string is given below. Create a new list that stores years i.e. the 'yyyy' part from the dates in the given list.</b>\n",
    "                </font>\n",
    "            </div>\n",
    "        </td>\n",
    "    </tr>\n",
    "</table>"
   ]
  },
  {
   "cell_type": "markdown",
   "metadata": {},
   "source": [
    "<b>datesList = ['17-12-1997','22-04-2011','01-05-1993','19-06-2020']</b><br>\n",
    "<b>Output: ['1997','2011','1993','2020']</b>"
   ]
  },
  {
   "cell_type": "code",
   "execution_count": null,
   "metadata": {},
   "outputs": [],
   "source": [
    "# Type your code here\n",
    "\n",
    "datesList = ['17-12-1997','22-04-2011','01-05-1993','19-06-2020']\n",
    "\n",
    "i =0\n",
    "year = []\n",
    "\n",
    "while (i < len(datesList)):\n",
    "       dateString = str(datesList[i])\n",
    "       dd,mm,yyyy = dateString.split('-')\n",
    "       year.append(yyyy)\n",
    "       i = i + 1\n",
    "\n",
    "print(\"Output: \"+str(year))\n"
   ]
  },
  {
   "cell_type": "markdown",
   "metadata": {},
   "source": [
    "<table align=\"left\">\n",
    "    <tr>\n",
    "        <td width=\"6%\">\n",
    "            <img src=\"question_icon.png\">\n",
    "        </td>\n",
    "        <td>\n",
    "            <div align=\"left\", style=\"font-size:120%\">\n",
    "                <font color=\"#21618C\">\n",
    "                    <b>15. A list containing age and name of five candidates is given below. Convert this list into a dictionary such that the name is the key and the age before their name should be the value in the dictionary.</b>\n",
    "                    <br>\n",
    "                </font>\n",
    "            </div>\n",
    "        </td>\n",
    "    </tr>\n",
    "</table>"
   ]
  },
  {
   "cell_type": "markdown",
   "metadata": {},
   "source": [
    "<b>lst = [26,'John',34,'Mary',13,'Steven',24,'Ronald',65,'Donald']</b><br>\n",
    "<b>Output: {'John':26, 'Mary':34, 'Steven':13, 'Ronald':24, 'Donald':65}</b>"
   ]
  },
  {
   "cell_type": "code",
   "execution_count": null,
   "metadata": {},
   "outputs": [],
   "source": [
    "# Type your code here\n",
    "lst = [26,'John',34,'Mary',13,'Steven',24,'Ronald',65,'Donald']\n",
    "\n",
    "output = {}\n",
    "\n",
    "i = 1\n",
    "j = 0\n",
    "\n",
    "while i < len(lst):\n",
    "        while j < (len(lst)-1):\n",
    "            value = lst[j]\n",
    "            j = j + 2\n",
    "            key = lst[i]\n",
    "            i = i + 2\n",
    "            output[key] = value\n",
    "        \n",
    "\n",
    "print(\"Output: \"+str(output))"
   ]
  },
  {
   "cell_type": "markdown",
   "metadata": {},
   "source": [
    "<table align=\"left\">\n",
    "    <tr>\n",
    "        <td width=\"6%\">\n",
    "            <img src=\"question_icon.png\">\n",
    "        </td>\n",
    "        <td>\n",
    "            <div align=\"left\", style=\"font-size:120%\">\n",
    "                <font color=\"#21618C\">\n",
    "                    <b>16. Consider the string (quote) given below. Print a string having unique words from the quote (Remove the duplicates from a string and return a new string without duplicates).<br><br> Note: Do not use any string inbuilt function. Also do not use set()</b>\n",
    "                </font>\n",
    "            </div>\n",
    "        </td>\n",
    "    </tr>\n",
    "</table>"
   ]
  },
  {
   "cell_type": "markdown",
   "metadata": {},
   "source": [
    "<b>quote = \"God made man man made money money made man mad\"</b><br>\n",
    "<b>Output: God made man money mad</b>"
   ]
  },
  {
   "cell_type": "code",
   "execution_count": null,
   "metadata": {},
   "outputs": [],
   "source": [
    "# Type your code here\n",
    "\n",
    "\n",
    "quote = \"God made man man made money money made man mad\"\n",
    "\n",
    "while 'made' in quote:\n",
    "        count += 1\n",
    "        print(count)\n",
    "        break\n",
    "\n"
   ]
  },
  {
   "cell_type": "markdown",
   "metadata": {},
   "source": [
    "<table align=\"left\">\n",
    "    <tr>\n",
    "        <td width=\"6%\">\n",
    "            <img src=\"question_icon.png\">\n",
    "        </td>\n",
    "        <td>\n",
    "            <div align=\"left\", style=\"font-size:120%\">\n",
    "                <font color=\"#21618C\">\n",
    "                    <b>17. Sort all the elements of the list according to the first letter, irrespective of their cases (uppercase or lowercase).</b><br><br>\n",
    "                    <b>Condition : Do not use any inbuilt sorting function.</b>\n",
    "                </font>\n",
    "            </div>\n",
    "        </td>\n",
    "    </tr>\n",
    "</table>"
   ]
  },
  {
   "cell_type": "markdown",
   "metadata": {},
   "source": [
    "<b>languages = ['python', 'R', 'Java', 'scala', 'C', 'C++']</b><br>\n",
    "<b>Output: ['C', 'C++', 'Java', 'python', 'R', 'scala']</b>"
   ]
  },
  {
   "cell_type": "code",
   "execution_count": null,
   "metadata": {},
   "outputs": [],
   "source": [
    "# Type your code here\n",
    "languages = ['python', 'R', 'Java', 'scala', 'C', 'C++']\n",
    "\n",
    "def bubble(list_a):\n",
    "    indexing_length = len(list_a) - 1 \n",
    "    sorted = False \n",
    "\n",
    "    while not sorted:  \n",
    "        sorted = True  \n",
    "\n",
    "        for i in range(0, indexing_length): \n",
    "            if list_a[i] > list_a[i+1]: \n",
    "                sorted = False \n",
    "                list_a[i], list_a[i+1] = list_a[i+1], list_a[i] \n",
    "    return list_a \n",
    "\n",
    "print(bubble(languages))\n"
   ]
  },
  {
   "cell_type": "markdown",
   "metadata": {},
   "source": [
    "<table align=\"left\">\n",
    "    <tr>\n",
    "        <td width=\"6%\">\n",
    "            <img src=\"question_icon.png\">\n",
    "        </td>\n",
    "        <td>\n",
    "            <div align=\"left\", style=\"font-size:120%\">\n",
    "                <font color=\"#21618C\">\n",
    "                    <b> 18. Create dictionary with 4 keys and their respective values and swap the keys to values and values to keys.</b>\n",
    "                </font>\n",
    "            </div>\n",
    "        </td>\n",
    "    </tr>\n",
    "</table>"
   ]
  },
  {
   "cell_type": "markdown",
   "metadata": {},
   "source": [
    "<b>d = {'Hello':22,'World':14, 'Welcome':10, 'Back':3}</b><br>\n",
    "<b>Output: {22: 'Hello', 14: 'World', 10: 'Welcome', 3: 'Back'}</b>"
   ]
  },
  {
   "cell_type": "code",
   "execution_count": null,
   "metadata": {},
   "outputs": [],
   "source": [
    "# Type your code here\n",
    "d = {'Hello':22,'World':14, 'Welcome':10, 'Back':3}\n",
    "\n",
    "output = {}\n",
    "\n",
    "for k,v in d.items():\n",
    "    output[v] = k\n",
    "\n",
    "print(\"Output:\",output)   "
   ]
  },
  {
   "cell_type": "markdown",
   "metadata": {},
   "source": [
    "<table align=\"left\">\n",
    "    <tr>\n",
    "        <td width=\"6%\">\n",
    "            <img src=\"question_icon.png\">\n",
    "        </td>\n",
    "        <td>\n",
    "            <div align=\"left\", style=\"font-size:120%\">\n",
    "                <font color=\"#21618C\">\n",
    "                    <b> 19. Given below are the list of positive and negative words. Also a list of comments is provided. Segregate the comments based on positive and negative sentiments.</b><br>\n",
    "                </font>\n",
    "            </div>\n",
    "        </td>\n",
    "    </tr>\n",
    "</table>"
   ]
  },
  {
   "cell_type": "markdown",
   "metadata": {},
   "source": [
    "positive = ['good','awesome', 'best', 'nice']<br><br>\n",
    "negative = ['worst','awful']<br> <br>\n",
    "comments = ['He is a good boy',<br>\n",
    "   &emsp;&emsp;&emsp;'Food is the worst here',<br>\n",
    "   &emsp;&emsp;&emsp;'He is an awesome player',<br>\n",
    "   &emsp;&emsp;&emsp;'She is the best',<br>\n",
    "   &emsp;&emsp;&emsp;'This pizza tastes awful',<br>\n",
    "   &emsp;&emsp;&emsp;'These burger are really nice']<br>"
   ]
  },
  {
   "cell_type": "code",
   "execution_count": null,
   "metadata": {},
   "outputs": [],
   "source": [
    "# Type your code here\n",
    "list_1 = [102, 232, 233, 344, 456, 564, 234]\n",
    "list_2 = [102, 233, 324, 564, 567, 523, 456]\n",
    "\n",
    "common_num = [a for a in list_1 for b in list_2 if a == b]\n",
    "\n",
    "print(common_num)"
   ]
  },
  {
   "cell_type": "markdown",
   "metadata": {},
   "source": [
    "<table align=\"left\">\n",
    "    <tr>\n",
    "        <td width=\"6%\">\n",
    "            <img src=\"question_icon.png\">\n",
    "        </td>\n",
    "        <td>\n",
    "            <div align=\"left\", style=\"font-size:120%\">\n",
    "                <font color=\"#21618C\">\n",
    "                    <b> 20. A dictionary of power levels of superheroes is given. Also, the categories of these superheroes are provided according to the range of their power. Replace the power levels in the dictionary with the corresponding category.</b><br>\n",
    "                </font>\n",
    "            </div>\n",
    "        </td>\n",
    "    </tr>\n",
    "</table>"
   ]
  },
  {
   "cell_type": "raw",
   "metadata": {},
   "source": [
    "power_level = {'Drax':30,\n",
    "               'Spiderman':50,\n",
    "               'Thanos':58000,\n",
    "               'Captain America':80,\n",
    "               'Loki':3200,\n",
    "               'Thor':44000,\n",
    "               'Groot': 120,\n",
    "               'Ironman':5000,\n",
    "               'Dr. Strange':8000}\n",
    "\n",
    "Categories are\n",
    "God_Like : (35000,70000)\n",
    "Super_Strong: (3000,10000)\n",
    "Strong: (100,200)\n",
    "Peak_Human: (10,90)\n",
    "\n",
    "Output: {'Drax': 'Peak_Human', 'Spiderman': 'Peak_Human', 'Thanos': 'God_Like', 'Captain America': 'Peak_Human', 'Loki': 'Super_strong', 'Thor': 'God_Like', 'Groot': 'Strong', 'Ironman': 'Super_strong', 'Dr. Strange': 'Super_strong'}"
   ]
  },
  {
   "cell_type": "code",
   "execution_count": null,
   "metadata": {},
   "outputs": [],
   "source": [
    "# Type your code here\n",
    "power_level = {'Drax':30,\n",
    "               'Spiderman':50,\n",
    "               'Thanos':58000,\n",
    "               'Captain America':80,\n",
    "               'Loki':3200,\n",
    "               'Thor':44000,\n",
    "               'Groot': 120,\n",
    "               'Ironman':5000,\n",
    "               'Dr. Strange':8000}\n",
    "\n",
    "for k,v in power_level.items():\n",
    "    if v >= 10 and v <=90:\n",
    "        power_level[k]= 'Peak_Human'\n",
    "    elif v >= 100 and v <=200:\n",
    "        power_level[k]= 'Strong'\n",
    "    elif v >= 3000 and v <=10000:\n",
    "        power_level[k]= 'Super_Strong'\n",
    "    elif v >= 35000 and v <=70000:\n",
    "        power_level[k]= 'God_Like'\n",
    "    else:\n",
    "        print(\"Not matching the power level\")\n",
    "\n",
    "\n",
    "print(\"Output: \", power_level)"
   ]
  },
  {
   "cell_type": "markdown",
   "metadata": {},
   "source": [
    "<table align=\"left\">\n",
    "    <tr>\n",
    "        <td width=\"6%\">\n",
    "            <img src=\"question_icon.png\">\n",
    "        </td>\n",
    "        <td>\n",
    "            <div align=\"left\", style=\"font-size:120%\">\n",
    "                <font color=\"#21618C\">\n",
    "                    <b> 21. A list of Power Levels of superheroes is given. Also, the Category is provided according to the range for information. Group the heroes(in list) as per their corresponding category according to the power levels.</b><br>\n",
    "                    <br>\n",
    "                    <b> Sample Output: God_like = ['Thor', 'Thanos']</b>\n",
    "                </font>\n",
    "            </div>\n",
    "        </td>\n",
    "    </tr>\n",
    "</table>"
   ]
  },
  {
   "cell_type": "code",
   "execution_count": null,
   "metadata": {},
   "outputs": [],
   "source": [
    "power_level = {'Drax':30,\n",
    "               'Spiderman':50,\n",
    "               'Thanos':58000,\n",
    "               'Captain America':80,\n",
    "               'Loki':3200,\n",
    "               'Thor':44000,\n",
    "               'Groot': 120,\n",
    "               'Ironman':5000,\n",
    "               'Dr. Strange':8000}\n",
    "\n",
    "God_Like = []\n",
    "Super_Strong =[]\n",
    "Strong = []\n",
    "Peak_Human = []\n",
    "\n",
    "\n",
    "for k,v in power_level.items():\n",
    "    if v >= 10 and v <=90:\n",
    "        Peak_Human.append(k)\n",
    "    elif v >= 100 and v <=200:\n",
    "        Strong.append(k)\n",
    "    elif v >= 3000 and v <=10000:\n",
    "        Super_Strong.append(k)\n",
    "    elif v >= 35000 and v <=70000:\n",
    "        God_Like.append(k)\n",
    "    else:\n",
    "        print(\"Not matching the power level\")\n",
    "\n",
    "\n",
    "print(\"Output:\\nGod_Like: \", God_Like,\"\\nSuper_Strong: \", Super_Strong,\"\\nStrong: \", Strong,\"\\nPeak_Human: \", Peak_Human)"
   ]
  },
  {
   "cell_type": "markdown",
   "metadata": {},
   "source": [
    "<table align=\"left\">\n",
    "    <tr>\n",
    "        <td width=\"6%\">\n",
    "            <img src=\"question_icon.png\">\n",
    "        </td>\n",
    "        <td>\n",
    "            <div align=\"left\", style=\"font-size:120%\">\n",
    "                <font color=\"#21618C\">\n",
    "                    <b> 22. Find the fruits that are <i>sour</i> in taste from the tuple given below.</b>   \n",
    "                </font>\n",
    "            </div>\n",
    "        </td>\n",
    "    </tr>\n",
    "</table>"
   ]
  },
  {
   "cell_type": "markdown",
   "metadata": {},
   "source": [
    "```\n",
    "fruits = (('Lemon','sour'),\n",
    "          ('DragonFruit', 'Sweet'),\n",
    "          ('Grapes','soUr'),\n",
    "          ('Kiwi','Sour'),\n",
    "          ('Apples','sweet'),\n",
    "          ('Orange','sour'),\n",
    "          ('Blueberries','sweet'),\n",
    "          ('Limes','Sour')\n",
    "          )\n",
    "          \n",
    "Output: \n",
    "Sour Fruits:  ['Lemon', 'Grapes', 'Kiwi', 'Orange', 'Limes']\n",
    "```"
   ]
  },
  {
   "cell_type": "code",
   "execution_count": null,
   "metadata": {},
   "outputs": [],
   "source": [
    "# Type your code here\n",
    "fruits = (('Lemon','sour'),\n",
    "          ('DragonFruit', 'Sweet'),\n",
    "          ('Grapes','soUr'),\n",
    "          ('Kiwi','Sour'),\n",
    "          ('Apples','sweet'),\n",
    "          ('Orange','sour'),\n",
    "          ('Blueberries','sweet'),\n",
    "          ('Limes','Sour')\n",
    "          )\n",
    "\n",
    "i = 0\n",
    "sour_fruits = []\n",
    "while i < len(fruits): \n",
    "        if fruits[i][1] == 'sour' or fruits[i][1] == 'Sour' or fruits[i][1] == 'soUr':\n",
    "            sour_fruits.append(fruits[i][0])\n",
    "        i = i + 1\n",
    "\n",
    "print(\"Sour Fruits: \"+str(sour_fruits))"
   ]
  }
 ],
 "metadata": {
  "kernelspec": {
   "display_name": "Python 3",
   "language": "python",
   "name": "python3"
  },
  "language_info": {
   "codemirror_mode": {
    "name": "ipython",
    "version": 3
   },
   "file_extension": ".py",
   "mimetype": "text/x-python",
   "name": "python",
   "nbconvert_exporter": "python",
   "pygments_lexer": "ipython3",
   "version": "3.11.6"
  }
 },
 "nbformat": 4,
 "nbformat_minor": 4
}
