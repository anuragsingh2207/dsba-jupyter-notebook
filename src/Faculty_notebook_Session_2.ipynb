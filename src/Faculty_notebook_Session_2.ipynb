{
 "cells": [
  {
   "cell_type": "markdown",
   "metadata": {},
   "source": [
    "<table align=\"left\" width=100%>\n",
    "    <tr>\n",
    "        <td width=\"20%\">\n",
    "            <img src=\"faculty.png\">\n",
    "        </td>\n",
    "        <td>\n",
    "            <div align=\"center\">\n",
    "                <font color=\"#21618C\" size=8px>\n",
    "                  <b> Faculty Notebook <br> Session 2) </b>\n",
    "                </font>\n",
    "            </div>\n",
    "        </td>\n",
    "    </tr>\n",
    "</table>"
   ]
  },
  {
   "cell_type": "markdown",
   "metadata": {},
   "source": [
    "## Table of Content\n",
    "\n",
    "1. **[ Examples of Conditional Statement and Loops](#examples)**\n",
    "    - 1.1 - [if statement](#if_statement)\n",
    "    - 1.2 - [if else statement](#if_else)\n",
    "    - 1.3 - [nested conditions](#if_elif_else)\n",
    "    - 1.4 - [for loop and nested for loop](#for_and_nested)\n",
    "    - 1.5 - [while loop](#while_loop)\n",
    "2. **[ What are List Comprehensions](#List_Comprehensions)**\n",
    "    - 2.1 - [for loop](#for_loop_list)\n",
    "    - 2.2 - [nested for loop](#nested_for_loop_list)\n",
    "    - 2.3 - [if statement](#if_list)\n",
    "    - 2.4 - [nested condition](#nested_condition) \n",
    "\n",
    "3. **[Built-in Functions](#builtin)**\n",
    "\n",
    "4. **[User Defined Functions](#user)**\n",
    "    - 4.1 - **[User defined functions without arguments](#without_arg)**\n",
    "    - 4.2 - **[User defined functions with arguments](#with_arg)**\n",
    "    - 4.3 - **[Recursive Functions](#Recursive_Functions)**\n",
    "\n",
    "5. **[Scope of  Variables](#scope)**\n",
    "\n",
    "6. **[Lambda Functions](#lambda)**\n",
    "\n",
    "7. **[Overview of map, reduce and filter functions](#overview)**\n",
    "    - 7.1 - [Function map()](#map)\n",
    "    - 7.2 - [Function filter()](#filter)\n",
    "    - 7.3 - [Function reduce()](#reduce)\n",
    "    - 7.4 - [Function accumulate() ](#accumulate)\n",
    "\n",
    "\n"
   ]
  },
  {
   "cell_type": "markdown",
   "metadata": {},
   "source": [
    "<a id=\"examples\"> </a>\n",
    "## 1. Examples of Conditional Statement and Loops"
   ]
  },
  {
   "cell_type": "markdown",
   "metadata": {},
   "source": [
    "<a id=\"if_statement\"> </a>\n",
    "## 1.1 if statement"
   ]
  },
  {
   "cell_type": "markdown",
   "metadata": {},
   "source": [
    "Now, we will see some examples on if statements"
   ]
  },
  {
   "cell_type": "markdown",
   "metadata": {},
   "source": [
    "**Check whether the number is smaller than 4738 or not**"
   ]
  },
  {
   "cell_type": "code",
   "execution_count": 1,
   "metadata": {},
   "outputs": [
    {
     "name": "stdout",
     "output_type": "stream",
     "text": [
      "number is smaller than 4738\n"
     ]
    }
   ],
   "source": [
    "Val = 3636\n",
    "if(Val<4738):\n",
    "    print(\"number is smaller than 4738\")"
   ]
  },
  {
   "cell_type": "markdown",
   "metadata": {},
   "source": [
    "In the above example, we declared a variable called ‘Val’ with the value as 3636 and in the if statement we are checking if the number is less than 4738 or not. If the condition is true then a set of statements inside the 'if' block will be executed"
   ]
  },
  {
   "cell_type": "markdown",
   "metadata": {},
   "source": [
    "**Check whether the number is positive or not**"
   ]
  },
  {
   "cell_type": "code",
   "execution_count": 2,
   "metadata": {},
   "outputs": [
    {
     "name": "stdout",
     "output_type": "stream",
     "text": [
      "453 is a positive number\n"
     ]
    }
   ],
   "source": [
    "Val = 453\n",
    "if Val > 0:\n",
    "    print(Val, \"is a positive number\")"
   ]
  },
  {
   "cell_type": "markdown",
   "metadata": {},
   "source": [
    "<a id=\"if_else\"> </a>\n",
    "## 1.2 if else statement"
   ]
  },
  {
   "cell_type": "markdown",
   "metadata": {},
   "source": [
    "Let’s see an example of the implementation of the if…else statement"
   ]
  },
  {
   "cell_type": "markdown",
   "metadata": {},
   "source": [
    "**Check whether the given number is positive or not**"
   ]
  },
  {
   "cell_type": "code",
   "execution_count": 3,
   "metadata": {},
   "outputs": [
    {
     "name": "stdout",
     "output_type": "stream",
     "text": [
      "The number is negative\n"
     ]
    }
   ],
   "source": [
    "a = -5\n",
    "\n",
    "if a >= 0:\n",
    "    print(\"The number is positive or zero\")\n",
    "else:\n",
    "    print(\"The number is negative\")"
   ]
  },
  {
   "cell_type": "markdown",
   "metadata": {},
   "source": [
    "**Check whether the number is even or odd**"
   ]
  },
  {
   "cell_type": "code",
   "execution_count": 4,
   "metadata": {},
   "outputs": [
    {
     "name": "stdout",
     "output_type": "stream",
     "text": [
      "The number is even\n"
     ]
    }
   ],
   "source": [
    "num = 22\n",
    "if num % 2 == 0:\n",
    "    print(\"The number is even\")\n",
    "else:\n",
    "    print(\"The number is odd\")"
   ]
  },
  {
   "cell_type": "markdown",
   "metadata": {},
   "source": [
    "<a id=\"if_elif_else\"> </a>\n",
    "## 1.3 nested conditions"
   ]
  },
  {
   "cell_type": "markdown",
   "metadata": {},
   "source": [
    "**Let’s take an example to check whether a number is odd and greater than 20**"
   ]
  },
  {
   "cell_type": "code",
   "execution_count": 5,
   "metadata": {},
   "outputs": [
    {
     "name": "stdout",
     "output_type": "stream",
     "text": [
      "This number is odd and is greater than 20\n"
     ]
    }
   ],
   "source": [
    "x = 45\n",
    "if x%2 != 0:\n",
    "    if x > 20:\n",
    "        print(\"This number is odd and is greater than 20\")\n",
    "    else:\n",
    "        print(\"This is number is odd but not greater than 20\")\n",
    "else:\n",
    "    print(\"The number is not even\")"
   ]
  },
  {
   "cell_type": "markdown",
   "metadata": {},
   "source": [
    "**Create a simple calculator using if elif condition**"
   ]
  },
  {
   "cell_type": "code",
   "execution_count": 6,
   "metadata": {},
   "outputs": [
    {
     "name": "stdout",
     "output_type": "stream",
     "text": [
      "Enter first number: 7\n",
      "Enter operator: +\n",
      "Enter second number: 2\n",
      "9.0\n"
     ]
    }
   ],
   "source": [
    "Value1 = float(input(\"Enter first number: \"))\n",
    "op = input(\"Enter operator: \")\n",
    "Value2 = float(input(\"Enter second number: \"))\n",
    "if op == '+':\n",
    "    print(Value1 + Value2)\n",
    "elif op == '-':\n",
    "    print(Value1 - Value2)\n",
    "elif op == '/':\n",
    "    print(Value1 / Value2)\n",
    "elif op == '*':\n",
    "    print(Value1 * Value2)\n",
    "else:\n",
    "    print(\"Invalid Operator\")"
   ]
  },
  {
   "cell_type": "markdown",
   "metadata": {},
   "source": [
    "**Example of nested if statement**"
   ]
  },
  {
   "cell_type": "code",
   "execution_count": 7,
   "metadata": {},
   "outputs": [
    {
     "name": "stdout",
     "output_type": "stream",
     "text": [
      " Enter your age here:  23\n",
      " You are eligible to work \n",
      " Please fill your details and apply\n"
     ]
    }
   ],
   "source": [
    "person_age = int(input(\" Enter your age here:  \"))\n",
    "if person_age < 18:\n",
    "    print(\" You are not eligible to work \") \n",
    "else:\n",
    "    if person_age >= 18 and person_age <= 60:\n",
    "        print(\" You are eligible to work \")\n",
    "        print(\" Please fill your details and apply\")\n",
    "    else:\n",
    "        print(\" You are too old to work as per the government rules\")\n",
    "        print(\" Please collect your pension!\")"
   ]
  },
  {
   "cell_type": "markdown",
   "metadata": {},
   "source": [
    "In this program, you can enter your age and store it in the variable 'person_age'. If the age is less than 18, print the result for that condition. If the condition is not true, we check one more condition (Nested) and if it is true, we print result for that condition. If the nested condition fails, we print the other statement."
   ]
  },
  {
   "cell_type": "markdown",
   "metadata": {},
   "source": [
    "**Program to display the grade of the student**"
   ]
  },
  {
   "cell_type": "code",
   "execution_count": 1,
   "metadata": {},
   "outputs": [
    {
     "name": "stdout",
     "output_type": "stream",
     "text": [
      "D grade\n"
     ]
    }
   ],
   "source": [
    "Marks = int(input(\" Enter Your Marks Here:  \"))\n",
    "\n",
    "if Marks >= 90:\n",
    "    print(\"A grade\")\n",
    "\n",
    "elif Marks >=80:\n",
    "    print(\"B grade\")\n",
    "\n",
    "elif Marks >=70:\n",
    "    print(\"C grade\")\n",
    "\n",
    "elif Marks >= 65:\n",
    "    print(\"D grade\")\n",
    "\n",
    "else:\n",
    "    print(\"F grade\")"
   ]
  },
  {
   "cell_type": "markdown",
   "metadata": {},
   "source": [
    "Now, there are four possible outputs that can occur once we run the program:<br>\n",
    "1. If the marks is greater than 90, the program will print A grade, if the marks is less than 90, the program will continue to the next statement<br>\n",
    "2. If the marks is greater than or equal to 80, the program will print B grade, if the marks is 79 or less, the program will continue to the next statement<br>\n",
    "3. If the marks is greater than or equal to 70, the program will print C grade, if the marks is 69 or less, the program will continue to the next statement<br>\n",
    "4. If the marks is greater than or equal to 65, the program will print D grade, if the marks is 64 or less, the program will continue to the next statement<br>\n",
    "5. The program will print F grade because all of the above conditions were not met"
   ]
  },
  {
   "cell_type": "markdown",
   "metadata": {
    "collapsed": true
   },
   "source": [
    "**Enter the amount and calculate discount based on the amount and given discount rate**"
   ]
  },
  {
   "cell_type": "code",
   "execution_count": 5,
   "metadata": {},
   "outputs": [
    {
     "name": "stdout",
     "output_type": "stream",
     "text": [
      "Discount :  3000000.0\n",
      "Net Pay  :  7000000.0\n"
     ]
    }
   ],
   "source": [
    "amt = int(input(\"Enter Sale Amount: \"))\n",
    "# checking conditions and calculating discount\n",
    "if(amt>0):\n",
    "    if amt<=5000:\n",
    "        disc = amt*0.05\n",
    "    elif amt<=15000:\n",
    "        disc=amt*0.12\n",
    "    elif amt<=25000:\n",
    "        disc=0.2 * amt\n",
    "    else:\n",
    "         disc=0.3 * amt\n",
    "    print(\"Discount : \",disc)\n",
    "    print(\"Net Pay  : \",amt-disc)\n",
    "else:\n",
    "    print(\"Invalid Amount\")\n"
   ]
  },
  {
   "cell_type": "markdown",
   "metadata": {},
   "source": [
    "**Find largest number among three numbers**"
   ]
  },
  {
   "cell_type": "code",
   "execution_count": 10,
   "metadata": {},
   "outputs": [
    {
     "name": "stdout",
     "output_type": "stream",
     "text": [
      "Enter first number: 6\n",
      "Enter second number: 32\n",
      "Enter third number: 4\n",
      "The largest number is 32.0\n"
     ]
    }
   ],
   "source": [
    "num1 = float(input(\"Enter first number: \"))\n",
    "num2 = float(input(\"Enter second number: \"))\n",
    "num3 = float(input(\"Enter third number: \"))\n",
    " \n",
    "if (num1 > num2) and (num1 > num3):\n",
    "    largest = num1\n",
    "    print(\"The largest number is\",largest)\n",
    "elif (num2 > num1) and (num2 > num3):\n",
    "    largest = num2\n",
    "    print(\"The largest number is\",largest)\n",
    "else:\n",
    "    largest = num3\n",
    "    print(\"The largest number is\",largest)\n",
    "\n"
   ]
  },
  {
   "cell_type": "markdown",
   "metadata": {},
   "source": [
    "**Find the sum of natural numbers up to n**"
   ]
  },
  {
   "cell_type": "code",
   "execution_count": 6,
   "metadata": {},
   "outputs": [
    {
     "name": "stdout",
     "output_type": "stream",
     "text": [
      "The sum is 136\n"
     ]
    }
   ],
   "source": [
    "# sum of natural numbers\n",
    "num = 16\n",
    "\n",
    "if num < 0:\n",
    "    print(\"Enter a positive number\")\n",
    "else:\n",
    "    sum = 0\n",
    "    while(num > 0):\n",
    "        sum += num\n",
    "        num -= 1\n",
    "    print(\"The sum is\",sum)"
   ]
  },
  {
   "cell_type": "markdown",
   "metadata": {},
   "source": [
    "<a id=\"for_and_nested\"> </a>\n",
    "## 1.4 for loop and nested for loop"
   ]
  },
  {
   "cell_type": "markdown",
   "metadata": {},
   "source": [
    "**Calculate the square of each element in the list**"
   ]
  },
  {
   "cell_type": "code",
   "execution_count": 12,
   "metadata": {},
   "outputs": [
    {
     "name": "stdout",
     "output_type": "stream",
     "text": [
      "1\n",
      "9\n",
      "169\n",
      "8281\n",
      "10000\n",
      "40000\n"
     ]
    }
   ],
   "source": [
    "list_1 = [1,3,13,91,100,200]\n",
    "for i in list_1:\n",
    "    print(i*i)"
   ]
  },
  {
   "cell_type": "markdown",
   "metadata": {},
   "source": [
    "**Write a code to print table of given number**"
   ]
  },
  {
   "cell_type": "code",
   "execution_count": 13,
   "metadata": {},
   "outputs": [
    {
     "name": "stdout",
     "output_type": "stream",
     "text": [
      "6\n",
      "6 x 1 = 6\n",
      "6 x 2 = 12\n",
      "6 x 3 = 18\n",
      "6 x 4 = 24\n",
      "6 x 5 = 30\n",
      "6 x 6 = 36\n",
      "6 x 7 = 42\n",
      "6 x 8 = 48\n",
      "6 x 9 = 54\n",
      "6 x 10 = 60\n"
     ]
    }
   ],
   "source": [
    "n=int(input())\n",
    "for i in range(1,11):\n",
    "    print(n,\"x\",i,\"=\",n*i)"
   ]
  },
  {
   "cell_type": "markdown",
   "metadata": {},
   "source": [
    "**Let’ see now how to print full pyramid and asterisk(star) patterns in python**"
   ]
  },
  {
   "cell_type": "code",
   "execution_count": 14,
   "metadata": {},
   "outputs": [
    {
     "name": "stdout",
     "output_type": "stream",
     "text": [
      "Print full triangle using stars\n",
      "        *   \n",
      "       *  *   \n",
      "      *  *  *   \n",
      "     *  *  *  *   \n",
      "    *  *  *  *  *   \n"
     ]
    }
   ],
   "source": [
    "print(\"Print full triangle using stars\")\n",
    "size = 5\n",
    "m = (2 * size) - 2\n",
    "for i in range(0, size):\n",
    "    for j in range(0, m):\n",
    "        print(end=\" \")\n",
    "    m = m - 1 # decrementing m after each loop\n",
    "    for j in range(0, i + 1):\n",
    "        # printing full Triangle pyramid using stars\n",
    "        print(\"* \", end=' ')\n",
    "    print(\" \")"
   ]
  },
  {
   "cell_type": "markdown",
   "metadata": {},
   "source": [
    "**Form a lower tringular matrix in ' * ' pattern**"
   ]
  },
  {
   "cell_type": "code",
   "execution_count": 15,
   "metadata": {},
   "outputs": [
    {
     "name": "stdout",
     "output_type": "stream",
     "text": [
      "* \n",
      "* * \n",
      "* * * \n",
      "* * * * \n",
      "* * * * * \n"
     ]
    }
   ],
   "source": [
    "for i in range(0, 5):\n",
    "    for j in range(0, i+1):\n",
    "        print(\"* \",end=\"\")\n",
    "    print()"
   ]
  },
  {
   "cell_type": "markdown",
   "metadata": {},
   "source": [
    "**Write a program to print alphabetical pattern using ascii values**"
   ]
  },
  {
   "cell_type": "code",
   "execution_count": 16,
   "metadata": {},
   "outputs": [
    {
     "name": "stdout",
     "output_type": "stream",
     "text": [
      "A\n",
      "AB\n",
      "ABC\n",
      "ABCD\n",
      "ABCDE\n"
     ]
    }
   ],
   "source": [
    "for i in range (65,70):\n",
    "    # inner loop\n",
    "    for j in range(65,i+1):\n",
    "        print(chr(j),end=\"\")\n",
    "    print()"
   ]
  },
  {
   "cell_type": "markdown",
   "metadata": {},
   "source": [
    "**Access each individual item of the sublists using nested for loop**"
   ]
  },
  {
   "cell_type": "code",
   "execution_count": 7,
   "metadata": {},
   "outputs": [
    {
     "name": "stdout",
     "output_type": "stream",
     "text": [
      "Pune\n",
      "Mumbai\n",
      "Delhi\n",
      "23\n",
      "12\n",
      "32\n",
      "9.29\n",
      "8.28\n",
      "7.27\n"
     ]
    }
   ],
   "source": [
    "list_of_lists = [['Pune', 'Mumbai', 'Delhi'],[23, 12, 32],[9.29, 8.28, 7.27]]\n",
    "\n",
    "for list in list_of_lists:\n",
    "    for item in list:\n",
    "        print(item)"
   ]
  },
  {
   "cell_type": "markdown",
   "metadata": {},
   "source": [
    "**Read a number n and print an identity matrix of the same order**"
   ]
  },
  {
   "cell_type": "code",
   "execution_count": 9,
   "metadata": {},
   "outputs": [
    {
     "name": "stdout",
     "output_type": "stream",
     "text": [
      "1 0 0 0 0 \n",
      "0 1 0 0 0 \n",
      "0 0 1 0 0 \n",
      "0 0 0 1 0 \n",
      "0 0 0 0 1 \n"
     ]
    }
   ],
   "source": [
    "# identity matrix : A matrix with nxn and all Diagonal elements as 1\n",
    "n=int(input(\"Enter a number: \"))\n",
    "for i in range(0,n):\n",
    "    for j in range(0,n):\n",
    "        if(i==j):\n",
    "            print(\"1\",sep=\" \",end=\" \")\n",
    "        else:\n",
    "            print(\"0\",sep=\" \",end=\" \")\n",
    "    print()"
   ]
  },
  {
   "cell_type": "markdown",
   "metadata": {},
   "source": [
    "**Access each individual letter from the given list of words**"
   ]
  },
  {
   "cell_type": "code",
   "execution_count": 19,
   "metadata": {},
   "outputs": [
    {
     "name": "stdout",
     "output_type": "stream",
     "text": [
      "The following lines will print each letters of Apple\n",
      "A\n",
      "p\n",
      "p\n",
      "l\n",
      "e\n",
      "\n",
      "The following lines will print each letters of Banana\n",
      "B\n",
      "a\n",
      "n\n",
      "a\n",
      "n\n",
      "a\n",
      "\n",
      "The following lines will print each letters of Car\n",
      "C\n",
      "a\n",
      "r\n",
      "\n",
      "The following lines will print each letters of Dolphin\n",
      "D\n",
      "o\n",
      "l\n",
      "p\n",
      "h\n",
      "i\n",
      "n\n",
      "\n"
     ]
    }
   ],
   "source": [
    "words= [\"Apple\", \"Banana\", \"Car\", \"Dolphin\" ]\n",
    "for word in words:\n",
    "        #access word from the list\n",
    "        print (\"The following lines will print each letters of \"+word)\n",
    "        for letter in word:\n",
    "                #access letter for the word\n",
    "                print (letter)\n",
    "        print(\"\")"
   ]
  },
  {
   "cell_type": "markdown",
   "metadata": {},
   "source": [
    "**Print a number pattern using a for loop and range function**"
   ]
  },
  {
   "cell_type": "code",
   "execution_count": 20,
   "metadata": {},
   "outputs": [
    {
     "name": "stdout",
     "output_type": "stream",
     "text": [
      "\n",
      "\n",
      "1 \n",
      "\n",
      "2 2 \n",
      "\n",
      "3 3 3 \n",
      "\n",
      "4 4 4 4 \n",
      "\n",
      "5 5 5 5 5 \n",
      "\n",
      "6 6 6 6 6 6 \n",
      "\n",
      "7 7 7 7 7 7 7 \n",
      "\n",
      "8 8 8 8 8 8 8 8 \n",
      "\n",
      "9 9 9 9 9 9 9 9 9 \n",
      "\n",
      "10 10 10 10 10 10 10 10 10 10 \n",
      "\n",
      "11 11 11 11 11 11 11 11 11 11 11 \n",
      "\n",
      "12 12 12 12 12 12 12 12 12 12 12 12 \n",
      "\n",
      "13 13 13 13 13 13 13 13 13 13 13 13 13 \n",
      "\n",
      "14 14 14 14 14 14 14 14 14 14 14 14 14 14 \n",
      "\n"
     ]
    }
   ],
   "source": [
    "# 15 is the total number to print\n",
    "for num in range(15):\n",
    "    for i in range(num):\n",
    "        print (num, end=\" \") #print number\n",
    "    # new line after each row to display pattern correctly\n",
    "    print(\"\\n\")"
   ]
  },
  {
   "cell_type": "markdown",
   "metadata": {},
   "source": [
    "**Find the first 3-digit number that’s divisible by 12**"
   ]
  },
  {
   "cell_type": "code",
   "execution_count": 14,
   "metadata": {},
   "outputs": [
    {
     "name": "stdout",
     "output_type": "stream",
     "text": [
      "105\n"
     ]
    }
   ],
   "source": [
    "for i in range(0, 1000, 15):  # 3rd value is step value\n",
    "    if len(str(i)) == 3:\n",
    "        print(i)\n",
    "        break"
   ]
  },
  {
   "cell_type": "markdown",
   "metadata": {},
   "source": [
    "**Write a programm to display even numbers using continue statement**"
   ]
  },
  {
   "cell_type": "code",
   "execution_count": 15,
   "metadata": {},
   "outputs": [
    {
     "name": "stdout",
     "output_type": "stream",
     "text": [
      "211\n",
      "829\n"
     ]
    }
   ],
   "source": [
    "for num in [230, 211, 932, 626, 234, 829, 424]:\n",
    "    # Skipping the iteration when number is even\n",
    "    if num%2 == 0:\n",
    "        continue\n",
    "    # This statement will be skipped for all even numbers\n",
    "    print(num)"
   ]
  },
  {
   "cell_type": "markdown",
   "metadata": {},
   "source": [
    "<a id=\"while_loop\"> </a>\n",
    "## 1.5 while loop"
   ]
  },
  {
   "cell_type": "code",
   "execution_count": 23,
   "metadata": {},
   "outputs": [
    {
     "name": "stdout",
     "output_type": "stream",
     "text": [
      "6\n",
      "5\n",
      "4\n",
      "3\n"
     ]
    }
   ],
   "source": [
    "# while loop with if else\n",
    "a = 7\n",
    "while a > 0:\n",
    "    a = a - 1\n",
    "    if a == 2:\n",
    "        break\n",
    "    print(a)\n",
    "else:\n",
    "    print(\"Loop is finished\")"
   ]
  },
  {
   "cell_type": "code",
   "execution_count": 24,
   "metadata": {},
   "outputs": [
    {
     "name": "stdout",
     "output_type": "stream",
     "text": [
      "1\n",
      "2\n",
      "3\n"
     ]
    }
   ],
   "source": [
    "# break in while\n",
    "i = 1\n",
    "while i < 6:\n",
    "  print(i)\n",
    "  if i == 3:\n",
    "    break\n",
    "  i += 1"
   ]
  },
  {
   "cell_type": "code",
   "execution_count": 16,
   "metadata": {},
   "outputs": [],
   "source": [
    "# break in while loop\n",
    "while True:\n",
    "    n = input(\"Please enter 'hello':\")\n",
    "    if n.strip() == 'hello':\n",
    "        break"
   ]
  },
  {
   "cell_type": "code",
   "execution_count": 17,
   "metadata": {},
   "outputs": [
    {
     "name": "stdout",
     "output_type": "stream",
     "text": [
      "Sum of first  4 integers is:  6\n"
     ]
    }
   ],
   "source": [
    "# break in while loop\n",
    "num_sum = 0\n",
    "count = 0\n",
    "while(count<10):\n",
    "    num_sum = num_sum + count\n",
    "    count = count + 1 \n",
    "    if count== 4:\n",
    "        break\n",
    "print(\"Sum of first \",count,\"integers is: \", num_sum)"
   ]
  },
  {
   "cell_type": "code",
   "execution_count": 27,
   "metadata": {},
   "outputs": [
    {
     "name": "stdout",
     "output_type": "stream",
     "text": [
      "1\n",
      "2\n",
      "3\n",
      "5\n",
      "6\n",
      "7\n"
     ]
    }
   ],
   "source": [
    "# continue in while loop\n",
    "i = 0\n",
    "while i < 7:\n",
    "  i += 1\n",
    "  if i == 4:\n",
    "    continue\n",
    "  print(i)"
   ]
  },
  {
   "cell_type": "code",
   "execution_count": 28,
   "metadata": {},
   "outputs": [
    {
     "name": "stdout",
     "output_type": "stream",
     "text": [
      "0\n",
      "1\n",
      "2\n",
      "4\n",
      "5\n"
     ]
    }
   ],
   "source": [
    "# continue in while loop\n",
    "for x in range(7):\n",
    "    if (x == 3 or x==6):\n",
    "        continue\n",
    "    print(x)"
   ]
  },
  {
   "cell_type": "markdown",
   "metadata": {},
   "source": [
    "<a id=\"List_Comprehensions\"> </a>\n",
    "## 2. What are List Comprehensions?"
   ]
  },
  {
   "cell_type": "markdown",
   "metadata": {},
   "source": [
    "<table align=\"left\">\n",
    "    <tr>\n",
    "        <td width=\"15%\">\n",
    "            <img src=\"note.png\">\n",
    "        </td>\n",
    "        <td>\n",
    "            <div align=\"left\", style=\"font-size:120%\">\n",
    "                <font color=\"#21618C\">\n",
    "                    <b>List comprehensions provide us with a simple way to create a list based on some iterable. During the creation, elements from the iterable can be conditionally included in the new list and transformed as needed.<br>\n",
    "                        <br>Components of list comprehensions:<br>\n",
    "                        . Output expression<br>\n",
    "                        . Iterable<br>\n",
    "                        . Iterator variable which represents the members of the iterable\n",
    "                        \n",
    "                        <img src=\"list.png\", height=\"400\", width=\"400\">\n",
    "                    </b>\n",
    "                </font>\n",
    "            </div>\n",
    "        </td>\n",
    "    </tr>\n",
    "</table>"
   ]
  },
  {
   "cell_type": "markdown",
   "metadata": {},
   "source": [
    "**In python, list comprehensions are constructed as follows:**<br>\n",
    "    \n",
    "    list = [x for x in iterable]"
   ]
  },
  {
   "cell_type": "markdown",
   "metadata": {},
   "source": [
    "<a id=\"List_Comprehensions_loops\"> </a>\n",
    "## List Comprehensions vs loops"
   ]
  },
  {
   "cell_type": "markdown",
   "metadata": {},
   "source": [
    "<a id=\"for_loop_list\"> </a>\n",
    "### 2.1. for loop"
   ]
  },
  {
   "cell_type": "markdown",
   "metadata": {},
   "source": [
    "Let’s look at an example that creates a list based on a string:<br>\n",
    "Suppose, you want to separate the letters of the word 'Great Lakes' and add the letters as items of a list. The first thing that comes in mind would be using for loop<br>"
   ]
  },
  {
   "cell_type": "code",
   "execution_count": 29,
   "metadata": {},
   "outputs": [
    {
     "data": {
      "text/plain": [
       "['G', 'r', 'e', 'a', 't', ' ', 'L', 'a', 'k', 'e', 's']"
      ]
     },
     "execution_count": 29,
     "metadata": {},
     "output_type": "execute_result"
    }
   ],
   "source": [
    "# Using loop for constructing output list \n",
    "list_1=[]\n",
    "for i in 'Great Lakes':\n",
    "    list_1.append(i)\n",
    "list_1"
   ]
  },
  {
   "cell_type": "markdown",
   "metadata": {},
   "source": [
    "Here, square brackets signifies that the output is a list. list_1.append(i) is the function executed for each element and for i in 'Great Lakes' is used to iterate over each element. But with a python list comprehension, we can do this in one line"
   ]
  },
  {
   "cell_type": "markdown",
   "metadata": {},
   "source": [
    "<table align=\"left\">\n",
    "    <tr>\n",
    "        <td width=\"7%\">\n",
    "            <img src=\"caution.png\">\n",
    "        </td>\n",
    "        <td>\n",
    "            <div align=\"left\", style=\"font-size:120%\">\n",
    "                <font color=\"#21618C\">\n",
    "                    <b>Remember that a python string is iterable. We can not iterate dictionary like this. Iterating through a dictionary gives us 'dict' object has no attribute 'append'\n",
    "                    </b>\n",
    "                </font>\n",
    "            </div>\n",
    "        </td>\n",
    "    </tr>\n",
    "</table>"
   ]
  },
  {
   "cell_type": "code",
   "execution_count": 30,
   "metadata": {
    "scrolled": true
   },
   "outputs": [
    {
     "ename": "AttributeError",
     "evalue": "'dict' object has no attribute 'append'",
     "output_type": "error",
     "traceback": [
      "\u001b[1;31m---------------------------------------------------------------------------\u001b[0m",
      "\u001b[1;31mAttributeError\u001b[0m                            Traceback (most recent call last)",
      "\u001b[1;32m<ipython-input-30-b59cbb569058>\u001b[0m in \u001b[0;36m<module>\u001b[1;34m()\u001b[0m\n\u001b[0;32m      2\u001b[0m \u001b[0mdict_1\u001b[0m\u001b[1;33m=\u001b[0m\u001b[1;33m{\u001b[0m\u001b[1;33m}\u001b[0m\u001b[1;33m\u001b[0m\u001b[1;33m\u001b[0m\u001b[0m\n\u001b[0;32m      3\u001b[0m \u001b[1;32mfor\u001b[0m \u001b[0mi\u001b[0m \u001b[1;32min\u001b[0m \u001b[1;34m'Great Lakes'\u001b[0m\u001b[1;33m:\u001b[0m\u001b[1;33m\u001b[0m\u001b[1;33m\u001b[0m\u001b[0m\n\u001b[1;32m----> 4\u001b[1;33m     \u001b[0mdict_1\u001b[0m\u001b[1;33m.\u001b[0m\u001b[0mappend\u001b[0m\u001b[1;33m(\u001b[0m\u001b[0mi\u001b[0m\u001b[1;33m)\u001b[0m\u001b[1;33m\u001b[0m\u001b[1;33m\u001b[0m\u001b[0m\n\u001b[0m\u001b[0;32m      5\u001b[0m \u001b[0mdict_1\u001b[0m\u001b[1;33m\u001b[0m\u001b[1;33m\u001b[0m\u001b[0m\n",
      "\u001b[1;31mAttributeError\u001b[0m: 'dict' object has no attribute 'append'"
     ]
    }
   ],
   "source": [
    "# Using loop for constructing output dictionary\n",
    "dict_1={}\n",
    "for i in 'Great Lakes':\n",
    "    dict_1.append(i)\n",
    "dict_1"
   ]
  },
  {
   "cell_type": "code",
   "execution_count": 31,
   "metadata": {},
   "outputs": [
    {
     "name": "stdout",
     "output_type": "stream",
     "text": [
      "['G', 'r', 'e', 'a', 't', ' ', 'L', 'a', 'k', 'e', 's']\n"
     ]
    }
   ],
   "source": [
    "# using list comprehensions\n",
    "new_list = [i for i in 'Great Lakes']\n",
    "print(new_list)"
   ]
  },
  {
   "cell_type": "markdown",
   "metadata": {},
   "source": [
    "In the above example, a new list is assigned to variable 'new_list', and list contains the items of the iterable string 'Great Lakes'. We call print() function to print the output"
   ]
  },
  {
   "cell_type": "markdown",
   "metadata": {},
   "source": [
    "**Find the squares of each element using list comprehension**"
   ]
  },
  {
   "cell_type": "code",
   "execution_count": 32,
   "metadata": {},
   "outputs": [
    {
     "name": "stdout",
     "output_type": "stream",
     "text": [
      "[169, 1024, 1089, 576]\n"
     ]
    }
   ],
   "source": [
    "num = [13, 32, 33, 24]\n",
    "num_squares = [n**2 for n in num]\n",
    "\n",
    "print(num_squares)"
   ]
  },
  {
   "cell_type": "markdown",
   "metadata": {
    "collapsed": true
   },
   "source": [
    "In the above example, square brackets signifies that the output is a list. n**2 is the expression executed for each element and for n in numbers is used to iterate over each element"
   ]
  },
  {
   "cell_type": "markdown",
   "metadata": {},
   "source": [
    "**We can use list comprehension to iterate over list of strings. Convert all the words in the given list to the upper case**    "
   ]
  },
  {
   "cell_type": "code",
   "execution_count": 20,
   "metadata": {},
   "outputs": [
    {
     "name": "stdout",
     "output_type": "stream",
     "text": [
      "['YES', \"IT'S\", 'A', 'BEAUTIFUL', 'DAY']\n"
     ]
    }
   ],
   "source": [
    "list_1 = [\"yes\", \"it's\", \"a\", \"Beautiful\", \"Day\"]\n",
    "\n",
    "upper_list_1 = [str.upper() for str in list_1]\n",
    "\n",
    "print(upper_list_1)"
   ]
  },
  {
   "cell_type": "markdown",
   "metadata": {},
   "source": [
    "**List comprehensions can be used to produce a list of a list, as shown below:**"
   ]
  },
  {
   "cell_type": "code",
   "execution_count": 21,
   "metadata": {},
   "outputs": [
    {
     "name": "stdout",
     "output_type": "stream",
     "text": [
      "[[1, 1], [4, 8], [9, 27], [16, 64]]\n"
     ]
    }
   ],
   "source": [
    "list_1 = [1, 2, 3, 4]\n",
    "\n",
    "square_cube_num = [ [a**2, a**3] for a in list_1]\n",
    "\n",
    "print(square_cube_num)"
   ]
  },
  {
   "cell_type": "markdown",
   "metadata": {},
   "source": [
    "Here we use list_1 to create square_cube_num, which is a list of list containing squares and cubes of the numbers from list_1"
   ]
  },
  {
   "cell_type": "markdown",
   "metadata": {},
   "source": [
    "<a id=\"nested_for_loop_list\"> </a>\n",
    "### 2.2 nested for loop"
   ]
  },
  {
   "cell_type": "markdown",
   "metadata": {},
   "source": [
    "** Print the tables of numbers from 13 to 17**"
   ]
  },
  {
   "cell_type": "code",
   "execution_count": 22,
   "metadata": {},
   "outputs": [
    {
     "data": {
      "text/plain": [
       "[[13, 26, 39, 52, 65, 78, 91, 104, 117, 130],\n",
       " [14, 28, 42, 56, 70, 84, 98, 112, 126, 140],\n",
       " [15, 30, 45, 60, 75, 90, 105, 120, 135, 150],\n",
       " [16, 32, 48, 64, 80, 96, 112, 128, 144, 160],\n",
       " [17, 34, 51, 68, 85, 102, 119, 136, 153, 170]]"
      ]
     },
     "execution_count": 22,
     "metadata": {},
     "output_type": "execute_result"
    }
   ],
   "source": [
    "[[i*j for j in range(1,11)] for i in range(13,18)]"
   ]
  },
  {
   "cell_type": "markdown",
   "metadata": {},
   "source": [
    "**Create a list of tuples with a and b such that a is less than b**"
   ]
  },
  {
   "cell_type": "code",
   "execution_count": 23,
   "metadata": {},
   "outputs": [
    {
     "name": "stdout",
     "output_type": "stream",
     "text": [
      "[(13, 25), (13, 37), (13, 35), (27, 37), (27, 35)]\n"
     ]
    }
   ],
   "source": [
    "list_1 = [13, 72, 27, 83, 89, 54]\n",
    "list_2 = [25, 37, 35]\n",
    "\n",
    "new_list = [(a, b) for a in list_1 for b in list_2 if a < b]\n",
    "\n",
    "print(new_list)"
   ]
  },
  {
   "cell_type": "markdown",
   "metadata": {},
   "source": [
    "### Conditional list comprehension\n",
    "List comprehensions can utilize conditional statements to modify existing lists or other sequential data types when creating new lists.<br>\n",
    "Conditional list comprehension adds only those items to the list that meet the condition (for which the condition is True)."
   ]
  },
  {
   "cell_type": "markdown",
   "metadata": {},
   "source": [
    "**if statement**                        <img src=\"condition.png\", height=\"550\", width=\"550\">"
   ]
  },
  {
   "cell_type": "markdown",
   "metadata": {},
   "source": [
    "**if-else statement**                        <img src=\"ifelse.png\", height=\"550\", width=\"550\">"
   ]
  },
  {
   "cell_type": "markdown",
   "metadata": {},
   "source": [
    "<a id=\"if_list\"> </a>\n",
    "### 2.3 if satement"
   ]
  },
  {
   "cell_type": "markdown",
   "metadata": {},
   "source": [
    "We create an example that uses mathematical operators, integers, and the range() sequence type. Take the values from 0 to 10, and add the even values to a list"
   ]
  },
  {
   "cell_type": "code",
   "execution_count": 37,
   "metadata": {},
   "outputs": [
    {
     "name": "stdout",
     "output_type": "stream",
     "text": [
      "[0, 2, 4, 6, 8, 10]\n"
     ]
    }
   ],
   "source": [
    "num_list = [i for i in range(11) if i%2==0]\n",
    "print(num_list)"
   ]
  },
  {
   "cell_type": "markdown",
   "metadata": {},
   "source": [
    "**Square the number if its even, else, cube it**"
   ]
  },
  {
   "cell_type": "code",
   "execution_count": 38,
   "metadata": {},
   "outputs": [
    {
     "data": {
      "text/plain": [
       "[4, 27, 16, 125]"
      ]
     },
     "execution_count": 38,
     "metadata": {},
     "output_type": "execute_result"
    }
   ],
   "source": [
    "[i**2 if i%2==0 else i**3 for i in [2,3,4,5]]"
   ]
  },
  {
   "cell_type": "markdown",
   "metadata": {},
   "source": [
    "<a id=\"nested_condition\"> </a>\n",
    "### 2.4 nested condition\n",
    "Nested conditions comprise condition statements contained within the definition of other condition statements"
   ]
  },
  {
   "cell_type": "markdown",
   "metadata": {},
   "source": [
    "**Find all the numbers from a given list divisible by 2 and 3**"
   ]
  },
  {
   "cell_type": "code",
   "execution_count": 39,
   "metadata": {},
   "outputs": [
    {
     "name": "stdout",
     "output_type": "stream",
     "text": [
      "[6, 18]\n"
     ]
    }
   ],
   "source": [
    "numbers = [1, 2, 3, 4, 5, 6, 18, 20]\n",
    "number_list = [number for number in numbers if number % 2 == 0 if number % 3 == 0]\n",
    "print(number_list)"
   ]
  },
  {
   "cell_type": "markdown",
   "metadata": {},
   "source": [
    "Here, list comprehension checks the number is divisible by 2 and 3. If number satisfies both conditions, number is appended to number_list."
   ]
  },
  {
   "cell_type": "markdown",
   "metadata": {},
   "source": [
    "**Return whether the number is even or odd, for each integer from 0 to 20**"
   ]
  },
  {
   "cell_type": "code",
   "execution_count": 40,
   "metadata": {},
   "outputs": [
    {
     "data": {
      "text/plain": [
       "['Even',\n",
       " 'Odd',\n",
       " 'Even',\n",
       " 'Odd',\n",
       " 'Even',\n",
       " 'Odd',\n",
       " 'Even',\n",
       " 'Odd',\n",
       " 'Even',\n",
       " 'Odd',\n",
       " 'Even',\n",
       " 'Odd',\n",
       " 'Even',\n",
       " 'Odd',\n",
       " 'Even',\n",
       " 'Odd',\n",
       " 'Even',\n",
       " 'Odd',\n",
       " 'Even',\n",
       " 'Odd',\n",
       " 'Even']"
      ]
     },
     "execution_count": 40,
     "metadata": {},
     "output_type": "execute_result"
    }
   ],
   "source": [
    "[\"Even\" if i%2==0 else \"Odd\" for i in range(21)]"
   ]
  },
  {
   "cell_type": "markdown",
   "metadata": {},
   "source": [
    "**Find common numbers from two list using list comprehension**"
   ]
  },
  {
   "cell_type": "code",
   "execution_count": 24,
   "metadata": {},
   "outputs": [
    {
     "name": "stdout",
     "output_type": "stream",
     "text": [
      "[102, 233, 456, 564]\n"
     ]
    }
   ],
   "source": [
    "list_1 = [102, 232, 233, 344, 456, 564, 234]\n",
    "list_2 = [102, 233, 324, 564, 567, 523, 456]\n",
    "\n",
    "common_num = [a for a in list_1 for b in list_2 if a == b]\n",
    "\n",
    "print(common_num)"
   ]
  },
  {
   "cell_type": "markdown",
   "metadata": {},
   "source": [
    "<a id=\"builtin\"> </a>\n",
    "## 3. Built-in Functions"
   ]
  },
  {
   "cell_type": "markdown",
   "metadata": {},
   "source": [
    "<table align=\"left\">\n",
    "    <tr>\n",
    "        <td width=\"15%\">\n",
    "            <img src=\"note.png\">\n",
    "        </td>\n",
    "        <td>\n",
    "            <div align=\"left\", style=\"font-size:120%\">\n",
    "                <font color=\"#21618C\">\n",
    "                    <b>The Python interpreter has functions instantly available for use, called <i>built-in functions</i>. For example, the print() function prints the given object. <br><br> In Python 3.6 there are 69 built-in function.<br>\n",
    "                    </b>\n",
    "                </font>\n",
    "            </div>\n",
    "        </td>\n",
    "    </tr>\n",
    "</table>"
   ]
  },
  {
   "cell_type": "markdown",
   "metadata": {},
   "source": [
    "Some exapmles are: \n",
    "\n",
    "<table border=\"2\">\n",
    "<tr>\n",
    "<th> Function </th>\n",
    "<th> Description </th>\n",
    "</tr>\n",
    "<tr>\n",
    "<th> abs()</th>\n",
    "<th> It gives the absolute of a numeric value </th>\n",
    "<tr>\n",
    "<tr>\n",
    "<th> sum()</th>\n",
    "<th> It gives the sum of a numeric values values </th>\n",
    "<tr>\n",
    "<tr>\n",
    "<th> len()</th>\n",
    "<th> It gives the sum of a numeric values values </th>\n",
    "<tr>   \n",
    "<tr>\n",
    "<th> apply()</th>\n",
    "<th> applied both to series and dataframes where function can be applied both series and individual elements based on the type of function provide </th>\n",
    "<tr> \n",
    "<tr>\n",
    "<th> map()</th>\n",
    "<th> only works on a pandas series where type of operation to be applied depends on argument passed as a function, dictionary or a list </th>\n",
    "<tr>         \n",
    "</table>    \n"
   ]
  },
  {
   "cell_type": "markdown",
   "metadata": {},
   "source": [
    "As we progress with the course, we shall come across a few more built-in functions."
   ]
  },
  {
   "cell_type": "markdown",
   "metadata": {},
   "source": [
    "Get the absolute value of a number."
   ]
  },
  {
   "cell_type": "code",
   "execution_count": 1,
   "metadata": {},
   "outputs": [
    {
     "data": {
      "text/plain": [
       "99.34"
      ]
     },
     "execution_count": 1,
     "metadata": {},
     "output_type": "execute_result"
    }
   ],
   "source": [
    "# get the absolute value of -99.34\n",
    "abs(-99.34)"
   ]
  },
  {
   "cell_type": "markdown",
   "metadata": {},
   "source": [
    "A list consists of elements 44, 45, -56, 44, 32,-54, 44, 56, 44, 87, 44, 56. <br>\n",
    "We can obtain the number of elements in list and sum of all these elements."
   ]
  },
  {
   "cell_type": "code",
   "execution_count": 2,
   "metadata": {
    "collapsed": true
   },
   "outputs": [],
   "source": [
    "x = [44, 45, -56, 44, 32,-54, 44, 56, 44, 87, 44, 56]"
   ]
  },
  {
   "cell_type": "code",
   "execution_count": 3,
   "metadata": {},
   "outputs": [
    {
     "data": {
      "text/plain": [
       "12"
      ]
     },
     "execution_count": 3,
     "metadata": {},
     "output_type": "execute_result"
    }
   ],
   "source": [
    "# len() is used to check length\n",
    "len(x)"
   ]
  },
  {
   "cell_type": "code",
   "execution_count": 4,
   "metadata": {},
   "outputs": [
    {
     "data": {
      "text/plain": [
       "386"
      ]
     },
     "execution_count": 4,
     "metadata": {},
     "output_type": "execute_result"
    }
   ],
   "source": [
    "# sum() is used to obtain sum of all the elements in list\n",
    "sum(x)"
   ]
  },
  {
   "cell_type": "code",
   "execution_count": 5,
   "metadata": {
    "collapsed": true
   },
   "outputs": [],
   "source": [
    "# create a string\n",
    "string = \"Data Science\""
   ]
  },
  {
   "cell_type": "markdown",
   "metadata": {},
   "source": [
    "Get the length of the string"
   ]
  },
  {
   "cell_type": "code",
   "execution_count": 6,
   "metadata": {},
   "outputs": [
    {
     "data": {
      "text/plain": [
       "12"
      ]
     },
     "execution_count": 6,
     "metadata": {},
     "output_type": "execute_result"
    }
   ],
   "source": [
    "# use len() to obtain the length of the string\n",
    "len(string)"
   ]
  },
  {
   "cell_type": "markdown",
   "metadata": {},
   "source": [
    "The output is the number of characters in the string including the blank space."
   ]
  },
  {
   "cell_type": "markdown",
   "metadata": {},
   "source": [
    "Now let us find the number of words in the string.\n",
    "\n",
    "To do so, we will first break the string at the blank space using the function split() and then with the help of the function len() we obtain the number of words in the string."
   ]
  },
  {
   "cell_type": "code",
   "execution_count": 7,
   "metadata": {},
   "outputs": [
    {
     "data": {
      "text/plain": [
       "2"
      ]
     },
     "execution_count": 7,
     "metadata": {},
     "output_type": "execute_result"
    }
   ],
   "source": [
    "len(string.split())"
   ]
  },
  {
   "cell_type": "markdown",
   "metadata": {},
   "source": [
    "Now we create a string 'apple, kiwi, pineapple,mango,grapes, banana'. Is it possible to find the number of fruits in the string.\n",
    "\n",
    "Yes, it is. We shall use the split function again and then function 'len'. "
   ]
  },
  {
   "cell_type": "code",
   "execution_count": 25,
   "metadata": {},
   "outputs": [
    {
     "name": "stdout",
     "output_type": "stream",
     "text": [
      "['apple,', 'kiwi,', 'pineapple,mango,grapes,', 'banana']\n",
      "The number of fruits in the list are:  4\n"
     ]
    }
   ],
   "source": [
    "# create a string\n",
    "fruits = 'apple, kiwi, pineapple,mango,grapes, banana'\n",
    "\n",
    "print(fruits.split())\n",
    "print(\"The number of fruits in the list are: \" , len(fruits.split()))"
   ]
  },
  {
   "cell_type": "markdown",
   "metadata": {},
   "source": [
    "It is however evident that there are more than 4 fruits in the list\n",
    "\n",
    "**Note:** The function split(), breaks the string at a blank space (white space) if no argument is passed. So now we shall specify for it to break at a \",\" since the string is not spaced properly. "
   ]
  },
  {
   "cell_type": "code",
   "execution_count": 26,
   "metadata": {},
   "outputs": [
    {
     "name": "stdout",
     "output_type": "stream",
     "text": [
      "['apple', ' kiwi', ' pineapple', 'mango', 'grapes', ' banana']\n",
      "The number of fruits in the list are:  6\n"
     ]
    }
   ],
   "source": [
    "print(fruits.split(\",\"))\n",
    "print(\"The number of fruits in the list are: \" , len(fruits.split(\",\")))"
   ]
  },
  {
   "cell_type": "markdown",
   "metadata": {},
   "source": [
    "This gives the correct output."
   ]
  },
  {
   "cell_type": "markdown",
   "metadata": {},
   "source": [
    "**Note:** We can specify any character we wish to split at. For instance, a letter, a number, \",\" , \"'\" , \".\" and so on. If nothing is specified, the function will split at a white space by default."
   ]
  },
  {
   "cell_type": "markdown",
   "metadata": {},
   "source": [
    "<a id=\"user\"> </a>\n",
    "## 4. User Defined Functions"
   ]
  },
  {
   "cell_type": "markdown",
   "metadata": {},
   "source": [
    "There are situations where in built functions are not availabe in a library. In such cases, we do the computations by using formulas/concepts"
   ]
  },
  {
   "cell_type": "markdown",
   "metadata": {},
   "source": [
    "<table align=\"left\">\n",
    "    <tr>\n",
    "        <td width=\"15%\">\n",
    "            <img src=\"note.png\">\n",
    "        </td>\n",
    "        <td>\n",
    "            <div align=\"left\", style=\"font-size:120%\">\n",
    "                <font color=\"#21618C\">\n",
    "                    <b> At times there are no built-in functions available, thus there arises a need for the user to define a function as desired. The user-defined functions are named blocks of code that are designed to do a specific job(s). When you want to perform a particular task that you’ve defined in a function, you call the name of the function responsible for it. This aids the scenarios where a chunk of code is required repeatedly; just call the function dedicated to handling that task, and the call tells Python to run the code inside the function. You’ll find that using functions makes your programs easier to write, read, test, and fix.\n",
    "                    </b>\n",
    "                </font>\n",
    "            </div>\n",
    "        </td>\n",
    "    </tr>\n",
    "</table>"
   ]
  },
  {
   "cell_type": "markdown",
   "metadata": {},
   "source": [
    "### Argument and Parameter\n",
    "\n",
    "\n",
    "<table align=\"left\">\n",
    "    <tr>\n",
    "        <td width=\"8%\">\n",
    "            <img src=\"caution.png\">\n",
    "        </td>\n",
    "        <td>\n",
    "            <div align=\"left\", style=\"font-size:120%\">\n",
    "                <font color=\"#21618C\">\n",
    "                    <b> Parameters and arguments are subtly different. Lets us first define them.<br><br>\n",
    "                         1. Parameter: A value which is passed when defining a function\n",
    "                        <br><br>\n",
    "                         2. Argument: A value that is passed when invoking a function\n",
    "                    </b>\n",
    "                </font>\n",
    "            </div>\n",
    "        </td>\n",
    "    </tr>\n",
    "</table>"
   ]
  },
  {
   "cell_type": "markdown",
   "metadata": {},
   "source": [
    "Consider the following user defined function:"
   ]
  },
  {
   "cell_type": "raw",
   "metadata": {},
   "source": [
    "def fun(params):\n",
    "    statement 1\n",
    "    statement 2\n",
    "        .\n",
    "        .\n",
    "        .\n",
    "        "
   ]
  },
  {
   "cell_type": "markdown",
   "metadata": {},
   "source": [
    "Now, if we invoke this function:"
   ]
  },
  {
   "cell_type": "raw",
   "metadata": {},
   "source": [
    "fun(sample_parameters)"
   ]
  },
  {
   "cell_type": "markdown",
   "metadata": {},
   "source": [
    "Here the 'sample_parameters' is called argument."
   ]
  },
  {
   "cell_type": "markdown",
   "metadata": {},
   "source": [
    "<a id=\"without_arg\"> </a>\n",
    "## 4.1 User defined functions without arguments"
   ]
  },
  {
   "cell_type": "markdown",
   "metadata": {},
   "source": [
    "Once a function is defined, it can be called anytime, without running the function again. Generally, a function returns a value or prints a value.  \n",
    "\n",
    "Let us see a few examples of user defined functions."
   ]
  },
  {
   "cell_type": "markdown",
   "metadata": {},
   "source": [
    "**1. We shall write a user defined function without argument to find the twice of a number.**"
   ]
  },
  {
   "cell_type": "code",
   "execution_count": 29,
   "metadata": {
    "collapsed": true
   },
   "outputs": [],
   "source": [
    "def twice():\n",
    "    a = int(input('enter a number: '))\n",
    "    print(a*2)"
   ]
  },
  {
   "cell_type": "code",
   "execution_count": 30,
   "metadata": {},
   "outputs": [
    {
     "name": "stdout",
     "output_type": "stream",
     "text": [
      "44\n"
     ]
    }
   ],
   "source": [
    "# In this function, no argument is passed\n",
    "# call the function\n",
    "twice()"
   ]
  },
  {
   "cell_type": "markdown",
   "metadata": {},
   "source": [
    "**2. We shall write a user defined function hi() which take a string input. The output will greet the user displaying his/her name on the screen.**"
   ]
  },
  {
   "cell_type": "code",
   "execution_count": 35,
   "metadata": {
    "collapsed": true
   },
   "outputs": [],
   "source": [
    "def hi():\n",
    "    name = str(input('Enter your name: '))\n",
    "    print(\"Hey \" + name +\", how are you?\")"
   ]
  },
  {
   "cell_type": "code",
   "execution_count": 36,
   "metadata": {},
   "outputs": [
    {
     "name": "stdout",
     "output_type": "stream",
     "text": [
      "Hey Anurag, how are you?\n"
     ]
    }
   ],
   "source": [
    "# In this function, no argument is passed\n",
    "# call the function\n",
    "hi()"
   ]
  },
  {
   "cell_type": "code",
   "execution_count": 33,
   "metadata": {
    "collapsed": true
   },
   "outputs": [],
   "source": [
    "#create a function\n",
    "def greetings():\n",
    "    print(\"hello\")\n",
    "    print(\"How r u ?\")"
   ]
  },
  {
   "cell_type": "code",
   "execution_count": 34,
   "metadata": {},
   "outputs": [
    {
     "name": "stdout",
     "output_type": "stream",
     "text": [
      "hello\n",
      "How r u ?\n"
     ]
    }
   ],
   "source": [
    "# In this function, no argument is passed\n",
    "# call the function\n",
    "greetings()"
   ]
  },
  {
   "cell_type": "markdown",
   "metadata": {},
   "source": [
    "**3. To find area of a circle**"
   ]
  },
  {
   "cell_type": "code",
   "execution_count": 27,
   "metadata": {
    "collapsed": true
   },
   "outputs": [],
   "source": [
    "def area_circle():\n",
    "    r = int(input('Enter the radius of circle: '))\n",
    "    area = 3.14 * r**2 \n",
    "    print(\"The area of cicle with radius \" + str(r)  +\" is \" + str(area) + \" sq. units\")"
   ]
  },
  {
   "cell_type": "code",
   "execution_count": 28,
   "metadata": {},
   "outputs": [
    {
     "name": "stdout",
     "output_type": "stream",
     "text": [
      "The area of cicle with radius 3 is 28.26 sq. units\n"
     ]
    }
   ],
   "source": [
    "# call the function   \n",
    "area_circle()"
   ]
  },
  {
   "cell_type": "markdown",
   "metadata": {},
   "source": [
    "<a id=\"with_arg\"> </a>\n",
    "## 4.2 User defined functions with arguments"
   ]
  },
  {
   "cell_type": "markdown",
   "metadata": {},
   "source": [
    "Most of the function will either `return` a value or `print` an output. Take a note of this in the examples considered below."
   ]
  },
  {
   "cell_type": "markdown",
   "metadata": {},
   "source": [
    "**1. A user defined function to get the average of all numbers in a sequence.**"
   ]
  },
  {
   "cell_type": "code",
   "execution_count": 37,
   "metadata": {
    "collapsed": true
   },
   "outputs": [],
   "source": [
    "def average(x):\n",
    "    count = 0\n",
    "    total = 0\n",
    "    for i in x:\n",
    "        count += 1\n",
    "        total += i\n",
    "    avg = total/count\n",
    "    return avg"
   ]
  },
  {
   "cell_type": "code",
   "execution_count": 40,
   "metadata": {
    "collapsed": true
   },
   "outputs": [],
   "source": [
    "x = (4, 45, -56, 44, 32,-54, 44, 56, 44, 87, 44, 56)"
   ]
  },
  {
   "cell_type": "code",
   "execution_count": 41,
   "metadata": {},
   "outputs": [
    {
     "data": {
      "text/plain": [
       "28.833333333333332"
      ]
     },
     "execution_count": 41,
     "metadata": {},
     "output_type": "execute_result"
    }
   ],
   "source": [
    "# call the function   \n",
    "average(x)"
   ]
  },
  {
   "cell_type": "markdown",
   "metadata": {},
   "source": [
    "The average of the number is 32.1667"
   ]
  },
  {
   "cell_type": "markdown",
   "metadata": {},
   "source": [
    "If the function requires an argument to be passed and we do not provide it, then an error with be shown."
   ]
  },
  {
   "cell_type": "code",
   "execution_count": 42,
   "metadata": {},
   "outputs": [
    {
     "ename": "TypeError",
     "evalue": "average() missing 1 required positional argument: 'x'",
     "output_type": "error",
     "traceback": [
      "\u001b[0;31m---------------------------------------------------------------------------\u001b[0m",
      "\u001b[0;31mTypeError\u001b[0m                                 Traceback (most recent call last)",
      "\u001b[1;32m/Users/anurag_singh/Desktop/jupyter/src/Faculty_notebook_Session_2.ipynb Cell 157\u001b[0m line \u001b[0;36m2\n\u001b[1;32m      <a href='vscode-notebook-cell:/Users/anurag_singh/Desktop/jupyter/src/Faculty_notebook_Session_2.ipynb#Y312sZmlsZQ%3D%3D?line=0'>1</a>\u001b[0m \u001b[39m# call the function   \u001b[39;00m\n\u001b[0;32m----> <a href='vscode-notebook-cell:/Users/anurag_singh/Desktop/jupyter/src/Faculty_notebook_Session_2.ipynb#Y312sZmlsZQ%3D%3D?line=1'>2</a>\u001b[0m average()\n",
      "\u001b[0;31mTypeError\u001b[0m: average() missing 1 required positional argument: 'x'"
     ]
    }
   ],
   "source": [
    "# call the function   \n",
    "average()"
   ]
  },
  {
   "cell_type": "markdown",
   "metadata": {},
   "source": [
    "**2. A user defined function with argument to greet a person by name.**"
   ]
  },
  {
   "cell_type": "code",
   "execution_count": 43,
   "metadata": {
    "collapsed": true
   },
   "outputs": [],
   "source": [
    "def greet(name):\n",
    "    name = str(name)\n",
    "    print(\"Hello, \" + name)"
   ]
  },
  {
   "cell_type": "code",
   "execution_count": 44,
   "metadata": {},
   "outputs": [
    {
     "name": "stdout",
     "output_type": "stream",
     "text": [
      "Hello, Dave\n"
     ]
    }
   ],
   "source": [
    "# call the function        \n",
    "greet('Dave')"
   ]
  },
  {
   "cell_type": "markdown",
   "metadata": {},
   "source": [
    "Enter your name in the paranthese, and your notebook will greet you!.\n",
    "\n",
    "**Also note that this function prints an output.** "
   ]
  },
  {
   "cell_type": "markdown",
   "metadata": {},
   "source": [
    "<table align=\"left\">\n",
    "    <tr>\n",
    "        <td width=\"8%\">\n",
    "            <img src=\"todo.png\">\n",
    "        </td>\n",
    "        <td>\n",
    "            <div align=\"left\", style=\"font-size:120%\">\n",
    "                <font color=\"#21618C\">\n",
    "                    <b> TRY IT YOURSELF: <br> Assign a print() function to a variable. Is it possible?\n",
    "                    </b>\n",
    "                </font>\n",
    "            </div>\n",
    "        </td>\n",
    "    </tr>\n",
    "</table>"
   ]
  },
  {
   "cell_type": "markdown",
   "metadata": {},
   "source": [
    "**Answer:** The 'print' output can not be stored in a variable. Moreover, any function which returns a value can be stored in a variable. "
   ]
  },
  {
   "cell_type": "markdown",
   "metadata": {},
   "source": [
    "**4. Consider the list given below and write a function to find the unique values of the list**\n",
    "\n",
    "                [44,45,56,44,32,54,44,56,44,87,44,56]\n",
    " "
   ]
  },
  {
   "cell_type": "code",
   "execution_count": 45,
   "metadata": {
    "collapsed": true
   },
   "outputs": [],
   "source": [
    "def unique(list1): \n",
    "    unique_list = [] \n",
    "    for x in list1: \n",
    "            if x not in unique_list: \n",
    "                 unique_list.append(x)  \n",
    "    return unique_list    "
   ]
  },
  {
   "cell_type": "code",
   "execution_count": 46,
   "metadata": {},
   "outputs": [
    {
     "data": {
      "text/plain": [
       "[44, 45, 56, 32, 54, 87]"
      ]
     },
     "execution_count": 46,
     "metadata": {},
     "output_type": "execute_result"
    }
   ],
   "source": [
    "x = [44,45,56,44,32,54,44,56,44,87,44,56]\n",
    "\n",
    "# call the function  \n",
    "# store the output in a variable\n",
    "unique_values = unique(x)\n",
    "\n",
    "# print the variable name\n",
    "unique_values"
   ]
  },
  {
   "cell_type": "markdown",
   "metadata": {},
   "source": [
    "These are the unique values in the list.\n",
    "\n",
    "**Also note that this function returns the output to the calling program.**"
   ]
  },
  {
   "cell_type": "markdown",
   "metadata": {},
   "source": [
    "**5. A function to reverse a string**"
   ]
  },
  {
   "cell_type": "code",
   "execution_count": 51,
   "metadata": {
    "collapsed": true
   },
   "outputs": [],
   "source": [
    "def reverse(string):\n",
    "    # set the empty string\n",
    "    rev=''\n",
    "    for i in string:\n",
    "        rev = i +rev\n",
    "    print(rev)"
   ]
  },
  {
   "cell_type": "code",
   "execution_count": 52,
   "metadata": {},
   "outputs": [
    {
     "name": "stdout",
     "output_type": "stream",
     "text": [
      "erolagnaB\n"
     ]
    }
   ],
   "source": [
    "# call the function\n",
    "string = str(input('Enter string:'))\n",
    "reverse(string)"
   ]
  },
  {
   "cell_type": "markdown",
   "metadata": {},
   "source": [
    "**6. A function to display multiplication table of an integer**"
   ]
  },
  {
   "cell_type": "code",
   "execution_count": 29,
   "metadata": {
    "collapsed": true
   },
   "outputs": [],
   "source": [
    "def table(n):\n",
    "    multi = 1\n",
    "    for i in range(1,11):\n",
    "        multi = n*i\n",
    "        print(str(i) + \" times \" + str(n) + \" is \" + str(multi))"
   ]
  },
  {
   "cell_type": "code",
   "execution_count": 31,
   "metadata": {},
   "outputs": [
    {
     "name": "stdout",
     "output_type": "stream",
     "text": [
      "Enter number:23\n",
      "1 times 23 is 23\n",
      "2 times 23 is 46\n",
      "3 times 23 is 69\n",
      "4 times 23 is 92\n",
      "5 times 23 is 115\n",
      "6 times 23 is 138\n",
      "7 times 23 is 161\n",
      "8 times 23 is 184\n",
      "9 times 23 is 207\n",
      "10 times 23 is 230\n"
     ]
    }
   ],
   "source": [
    "# call the function        \n",
    "n=int(input('Enter number:'))\n",
    "table(n)"
   ]
  },
  {
   "cell_type": "markdown",
   "metadata": {},
   "source": [
    "**7. To find product of numbers in a list.**"
   ]
  },
  {
   "cell_type": "code",
   "execution_count": 32,
   "metadata": {
    "collapsed": true
   },
   "outputs": [],
   "source": [
    "def product(x):\n",
    "    prod = 1\n",
    "    for i in x:\n",
    "        prod *= i\n",
    "    return prod"
   ]
  },
  {
   "cell_type": "code",
   "execution_count": 33,
   "metadata": {},
   "outputs": [
    {
     "data": {
      "text/plain": [
       "120"
      ]
     },
     "execution_count": 33,
     "metadata": {},
     "output_type": "execute_result"
    }
   ],
   "source": [
    "#call the function\n",
    "product([1,2,3,4,5])"
   ]
  },
  {
   "cell_type": "markdown",
   "metadata": {},
   "source": [
    "**8. A function which takes the order of a matrix and mutliplies it with a scalar. The function take two parameters- first the order of identity matrix and second the scaler to be multiplied.**"
   ]
  },
  {
   "cell_type": "code",
   "execution_count": 34,
   "metadata": {
    "collapsed": true
   },
   "outputs": [],
   "source": [
    "def scalar_multiplication(n,m):\n",
    "    for i in range(0,n):\n",
    "        for j in range(0,n):\n",
    "            if(i==j):\n",
    "                print(m,sep=\" \",end=\" \")\n",
    "            else:\n",
    "                print(\"0\",sep=\" \",end=\" \")\n",
    "        print()"
   ]
  },
  {
   "cell_type": "code",
   "execution_count": 35,
   "metadata": {},
   "outputs": [
    {
     "name": "stdout",
     "output_type": "stream",
     "text": [
      "5 0 0 0 \n",
      "0 5 0 0 \n",
      "0 0 5 0 \n",
      "0 0 0 5 \n"
     ]
    }
   ],
   "source": [
    "#call the function\n",
    "scalar_multiplication(4,5)"
   ]
  },
  {
   "cell_type": "markdown",
   "metadata": {},
   "source": [
    "**9. Usage of `*args`.**"
   ]
  },
  {
   "cell_type": "markdown",
   "metadata": {},
   "source": [
    "Usage : multiple arguments can be added without specifying the number of parameter defined in a function.  It is used to pass a non-keyworded, variable-length argument list.\n",
    "\n",
    " `*args` in function definitions in python is used to pass a variable number of arguments to a function. It reads the value one by one and performs the required task. <br>\n",
    " The symbol `*` is used to take in a variable number of arguments; by convention, it is often used with the word 'args', however we may use another word. \n",
    " "
   ]
  },
  {
   "cell_type": "code",
   "execution_count": 55,
   "metadata": {
    "collapsed": true
   },
   "outputs": [],
   "source": [
    "# * indicates that number of arguments can be taken\n",
    "def Multiple(*args):  \n",
    "    for parameter in args:  \n",
    "        print (parameter) "
   ]
  },
  {
   "cell_type": "code",
   "execution_count": 57,
   "metadata": {},
   "outputs": [
    {
     "name": "stdout",
     "output_type": "stream",
     "text": [
      "Lets\n",
      "learn\n",
      "Python\n",
      "for\n",
      "Data\n",
      "Science\n",
      "and\n",
      "ML\n"
     ]
    }
   ],
   "source": [
    "#call the function\n",
    "Multiple(\"Lets\",\"learn\",\"Python\",\"for\",\"Data\",\"Science\",\"and\",\"ML\") "
   ]
  },
  {
   "cell_type": "markdown",
   "metadata": {},
   "source": [
    "**10. Another example on `*args`.**"
   ]
  },
  {
   "cell_type": "code",
   "execution_count": 38,
   "metadata": {
    "collapsed": true
   },
   "outputs": [],
   "source": [
    "def to_print( argument1, *argument):\n",
    "   print(argument1)\n",
    "   for var in argument:\n",
    "        print(var)"
   ]
  },
  {
   "cell_type": "code",
   "execution_count": 39,
   "metadata": {},
   "outputs": [
    {
     "name": "stdout",
     "output_type": "stream",
     "text": [
      "10\n",
      "20\n",
      "30\n"
     ]
    }
   ],
   "source": [
    "#call the function        \n",
    "to_print( 10,20,30 )   "
   ]
  },
  {
   "cell_type": "markdown",
   "metadata": {},
   "source": [
    "**11. Usage of  ` **kwargs`.**"
   ]
  },
  {
   "cell_type": "markdown",
   "metadata": {},
   "source": [
    "Usage: `**kwargs` is used to pass a keyworded, variable-length argument list to the function. The name 'kwargs' is used with the double star because it allows us to pass through keyword arguments (and any number of them)."
   ]
  },
  {
   "cell_type": "code",
   "execution_count": 40,
   "metadata": {
    "collapsed": true
   },
   "outputs": [],
   "source": [
    "def function(**kwargs):\n",
    "    for a,b in kwargs.items():\n",
    "        print(a,\"==\",b)"
   ]
  },
  {
   "cell_type": "code",
   "execution_count": 41,
   "metadata": {},
   "outputs": [
    {
     "name": "stdout",
     "output_type": "stream",
     "text": [
      "A == First letter\n",
      "B == Second letter\n",
      "C == Thirs letter\n"
     ]
    }
   ],
   "source": [
    "# call the function\n",
    "a=function(A = \"First letter\", B = \"Second letter\", C = \"Thirs letter\")"
   ]
  },
  {
   "cell_type": "markdown",
   "metadata": {},
   "source": [
    "**12. Another example of ` **kwargs `.**\n",
    "\n",
    "`**kwargs` is a dict of the keyword or arguments passed to the function"
   ]
  },
  {
   "cell_type": "code",
   "execution_count": 42,
   "metadata": {
    "collapsed": true
   },
   "outputs": [],
   "source": [
    "def print_keyword_args(**kwargs):\n",
    "      for key, value in kwargs.items():\n",
    "            print( \"%s = %s\" % (key, value))"
   ]
  },
  {
   "cell_type": "code",
   "execution_count": 43,
   "metadata": {},
   "outputs": [
    {
     "name": "stdout",
     "output_type": "stream",
     "text": [
      "first_name = John\n",
      "last_name = Doe\n"
     ]
    }
   ],
   "source": [
    "# call the function\n",
    "print_keyword_args(first_name=\"John\", last_name=\"Doe\")"
   ]
  },
  {
   "cell_type": "markdown",
   "metadata": {},
   "source": [
    "<a id=\"Recursive_Functions\"> </a>\n",
    "## 4.3 Recursive Functions"
   ]
  },
  {
   "cell_type": "markdown",
   "metadata": {},
   "source": [
    "A function that calls itself is a recursive function. Recursive function is used when a certain problem is defined in terms of itself."
   ]
  },
  {
   "cell_type": "code",
   "execution_count": 44,
   "metadata": {},
   "outputs": [
    {
     "data": {
      "text/plain": [
       "10"
      ]
     },
     "execution_count": 44,
     "metadata": {},
     "output_type": "execute_result"
    }
   ],
   "source": [
    "# calculate the sum of all numbers present in the list\n",
    "def sum_list(nums):\n",
    "    if len(nums) == 0:\n",
    "        return 0\n",
    "\n",
    "    last_num = nums.pop()\n",
    "    return last_num + sum_list(nums)\n",
    "\n",
    "num = [1,2,3,4]\n",
    "sum_list(num)"
   ]
  },
  {
   "cell_type": "code",
   "execution_count": 1,
   "metadata": {},
   "outputs": [
    {
     "data": {
      "text/plain": [
       "120"
      ]
     },
     "execution_count": 1,
     "metadata": {},
     "output_type": "execute_result"
    }
   ],
   "source": [
    "# Recursive Factorial\n",
    "def factorial(n):\n",
    "    if n == 1 or n == 0:\n",
    "        return 1\n",
    "    else:\n",
    "        return n * factorial(n-1)\n",
    "\n",
    "factorial(5)   "
   ]
  },
  {
   "cell_type": "code",
   "execution_count": 45,
   "metadata": {},
   "outputs": [
    {
     "name": "stdout",
     "output_type": "stream",
     "text": [
      "0 1 1 2 3 5 8 13 21 34 55 89 144 233 377 "
     ]
    }
   ],
   "source": [
    "# implementation of the fibonacci series using recursion\n",
    "def fib(n):\n",
    "    if n == 0:\n",
    "        return 0\n",
    "    elif n == 1:\n",
    "        return 1\n",
    "    else:\n",
    "        return fib(n - 1) + fib(n - 2)\n",
    " \n",
    " \n",
    "for i in range(15):\n",
    "    print(fib(i), end=\" \")"
   ]
  },
  {
   "cell_type": "markdown",
   "metadata": {},
   "source": [
    "<a id = 'scope'></a>\n",
    "## 5. Scope of Variables:"
   ]
  },
  {
   "cell_type": "markdown",
   "metadata": {},
   "source": [
    "<table align=\"left\">\n",
    "    <tr>\n",
    "        <td width=\"15%\">\n",
    "            <img src=\"note.png\">\n",
    "        </td>\n",
    "        <td>\n",
    "            <div align=\"left\", style=\"font-size:120%\">\n",
    "                <font color=\"#21618C\">\n",
    "                    <b> The scope of variables is broadly classified as: <br><br>\n",
    "                        1. Global Variable: Global variables are the variables declared outside of the function or in global scope. This means, global variable can be accessed inside or outside of the function.\n",
    "                        <br> <br> <br>\n",
    "                        2. Local Variable : Local variables are the varibales declared inside the function's body or in the local scope\n",
    "                    </b>\n",
    "                </font>\n",
    "            </div>\n",
    "        </td>\n",
    "    </tr>\n",
    "</table>"
   ]
  },
  {
   "cell_type": "markdown",
   "metadata": {},
   "source": [
    "**Following are examples of Global variables:**"
   ]
  },
  {
   "cell_type": "markdown",
   "metadata": {},
   "source": [
    "The variable 'string' is a global variable."
   ]
  },
  {
   "cell_type": "code",
   "execution_count": 46,
   "metadata": {},
   "outputs": [
    {
     "name": "stdout",
     "output_type": "stream",
     "text": [
      "Python for Data Science\n"
     ]
    }
   ],
   "source": [
    "# This function uses global variable 'string'\n",
    "def function():  \n",
    "    print (string)  \n",
    "  \n",
    "\n",
    "string = \"Python for Data Science\"\n",
    "function()"
   ]
  },
  {
   "cell_type": "markdown",
   "metadata": {},
   "source": [
    "Another example where x is a global variable"
   ]
  },
  {
   "cell_type": "code",
   "execution_count": 47,
   "metadata": {
    "collapsed": true
   },
   "outputs": [],
   "source": [
    "def f():\n",
    "    y = x\n",
    "    print(y)"
   ]
  },
  {
   "cell_type": "code",
   "execution_count": 48,
   "metadata": {},
   "outputs": [
    {
     "name": "stdout",
     "output_type": "stream",
     "text": [
      "8\n"
     ]
    }
   ],
   "source": [
    "x = 8\n",
    "f()"
   ]
  },
  {
   "cell_type": "markdown",
   "metadata": {},
   "source": [
    "Consider another scenario where x is declared in the function after y is declared."
   ]
  },
  {
   "cell_type": "code",
   "execution_count": 49,
   "metadata": {
    "collapsed": true
   },
   "outputs": [],
   "source": [
    "def f():\n",
    "    y = x\n",
    "    print(y)\n",
    "    x = 22"
   ]
  },
  {
   "cell_type": "code",
   "execution_count": 50,
   "metadata": {},
   "outputs": [
    {
     "ename": "UnboundLocalError",
     "evalue": "local variable 'x' referenced before assignment",
     "output_type": "error",
     "traceback": [
      "\u001b[1;31m---------------------------------------------------------------------------\u001b[0m",
      "\u001b[1;31mUnboundLocalError\u001b[0m                         Traceback (most recent call last)",
      "\u001b[1;32m<ipython-input-50-0ec059b9bfe1>\u001b[0m in \u001b[0;36m<module>\u001b[1;34m()\u001b[0m\n\u001b[1;32m----> 1\u001b[1;33m \u001b[0mf\u001b[0m\u001b[1;33m(\u001b[0m\u001b[1;33m)\u001b[0m\u001b[1;33m\u001b[0m\u001b[1;33m\u001b[0m\u001b[0m\n\u001b[0m",
      "\u001b[1;32m<ipython-input-49-0efb2420edee>\u001b[0m in \u001b[0;36mf\u001b[1;34m()\u001b[0m\n\u001b[0;32m      1\u001b[0m \u001b[1;32mdef\u001b[0m \u001b[0mf\u001b[0m\u001b[1;33m(\u001b[0m\u001b[1;33m)\u001b[0m\u001b[1;33m:\u001b[0m\u001b[1;33m\u001b[0m\u001b[1;33m\u001b[0m\u001b[0m\n\u001b[1;32m----> 2\u001b[1;33m     \u001b[0my\u001b[0m \u001b[1;33m=\u001b[0m \u001b[0mx\u001b[0m\u001b[1;33m\u001b[0m\u001b[1;33m\u001b[0m\u001b[0m\n\u001b[0m\u001b[0;32m      3\u001b[0m     \u001b[0mprint\u001b[0m\u001b[1;33m(\u001b[0m\u001b[0my\u001b[0m\u001b[1;33m)\u001b[0m\u001b[1;33m\u001b[0m\u001b[1;33m\u001b[0m\u001b[0m\n\u001b[0;32m      4\u001b[0m     \u001b[0mx\u001b[0m \u001b[1;33m=\u001b[0m \u001b[1;36m22\u001b[0m\u001b[1;33m\u001b[0m\u001b[1;33m\u001b[0m\u001b[0m\n",
      "\u001b[1;31mUnboundLocalError\u001b[0m: local variable 'x' referenced before assignment"
     ]
    }
   ],
   "source": [
    "f()"
   ]
  },
  {
   "cell_type": "markdown",
   "metadata": {},
   "source": [
    "The output will be an error since x is declared after y and y is x."
   ]
  },
  {
   "cell_type": "markdown",
   "metadata": {},
   "source": [
    "### 2. Local Variable"
   ]
  },
  {
   "cell_type": "markdown",
   "metadata": {},
   "source": [
    "Example of local variables."
   ]
  },
  {
   "cell_type": "code",
   "execution_count": 51,
   "metadata": {},
   "outputs": [
    {
     "name": "stdout",
     "output_type": "stream",
     "text": [
      "11\n"
     ]
    }
   ],
   "source": [
    "def sum(x,y):\n",
    "    sum = x + y\n",
    "    return sum\n",
    "\n",
    "print(sum(4,7)   )"
   ]
  },
  {
   "cell_type": "markdown",
   "metadata": {},
   "source": [
    "Here, x and y are local variables. Their value is not callable outside the definition."
   ]
  },
  {
   "cell_type": "markdown",
   "metadata": {},
   "source": [
    "Let us print x and check it value."
   ]
  },
  {
   "cell_type": "code",
   "execution_count": 52,
   "metadata": {},
   "outputs": [
    {
     "data": {
      "text/plain": [
       "8"
      ]
     },
     "execution_count": 52,
     "metadata": {},
     "output_type": "execute_result"
    }
   ],
   "source": [
    "x"
   ]
  },
  {
   "cell_type": "markdown",
   "metadata": {},
   "source": [
    "**Here x takes its global value and not the one defined in the function.**"
   ]
  },
  {
   "cell_type": "markdown",
   "metadata": {},
   "source": [
    "Another example of local variable:"
   ]
  },
  {
   "cell_type": "code",
   "execution_count": 53,
   "metadata": {},
   "outputs": [
    {
     "name": "stdout",
     "output_type": "stream",
     "text": [
      "This is a Local variable\n"
     ]
    }
   ],
   "source": [
    "# set a local variable\n",
    "def local():\n",
    "    y = \"This is a Local variable\"\n",
    "    print(y)\n",
    "\n",
    "local()"
   ]
  },
  {
   "cell_type": "markdown",
   "metadata": {},
   "source": [
    "Now if we print just y"
   ]
  },
  {
   "cell_type": "code",
   "execution_count": 54,
   "metadata": {
    "scrolled": true
   },
   "outputs": [
    {
     "ename": "NameError",
     "evalue": "name 'y' is not defined",
     "output_type": "error",
     "traceback": [
      "\u001b[1;31m---------------------------------------------------------------------------\u001b[0m",
      "\u001b[1;31mNameError\u001b[0m                                 Traceback (most recent call last)",
      "\u001b[1;32m<ipython-input-54-5b64542eefae>\u001b[0m in \u001b[0;36m<module>\u001b[1;34m()\u001b[0m\n\u001b[0;32m      1\u001b[0m \u001b[1;31m# local variable y cannot be accessed outside the function\u001b[0m\u001b[1;33m\u001b[0m\u001b[1;33m\u001b[0m\u001b[1;33m\u001b[0m\u001b[0m\n\u001b[1;32m----> 2\u001b[1;33m \u001b[0mprint\u001b[0m\u001b[1;33m(\u001b[0m\u001b[0my\u001b[0m\u001b[1;33m)\u001b[0m\u001b[1;33m\u001b[0m\u001b[1;33m\u001b[0m\u001b[0m\n\u001b[0m",
      "\u001b[1;31mNameError\u001b[0m: name 'y' is not defined"
     ]
    }
   ],
   "source": [
    "# local variable y cannot be accessed outside the function\n",
    "print(y)"
   ]
  },
  {
   "cell_type": "markdown",
   "metadata": {},
   "source": [
    "We are bound to get an error since it. The variable 'y' is a local variable."
   ]
  },
  {
   "cell_type": "markdown",
   "metadata": {},
   "source": [
    "<a id = 'lambda' > </a>\n",
    "## 6. Lambda Functions"
   ]
  },
  {
   "cell_type": "markdown",
   "metadata": {},
   "source": [
    "<table align=\"left\">\n",
    "    <tr>\n",
    "        <td width=\"15%\">\n",
    "            <img src=\"note.png\">\n",
    "        </td>\n",
    "        <td>\n",
    "            <div align=\"left\", style=\"font-size:120%\">\n",
    "                <font color=\"#21618C\">\n",
    "                    <b> A lambda operator or lambda function is used for creating small, one-time, anonymous function objects in Python.<br><br>The general expression for a lambda function is <br>\n",
    "                                      lambda argument(s): expression <br><br>\n",
    "                        A lambda function can take any number of arguments, but they contain only a single expression. An expression is a piece of code executed by the lambda function, which may or may not return any value. <br><br>\n",
    "                    </b>\n",
    "                </font>\n",
    "            </div>\n",
    "        </td>\n",
    "    </tr>\n",
    "</table>"
   ]
  },
  {
   "cell_type": "markdown",
   "metadata": {},
   "source": [
    "Let us look at some examples using on lambda functions."
   ]
  },
  {
   "cell_type": "markdown",
   "metadata": {},
   "source": [
    "**1. Obtain the minimum among two numbers**"
   ]
  },
  {
   "cell_type": "code",
   "execution_count": 3,
   "metadata": {},
   "outputs": [
    {
     "data": {
      "text/plain": [
       "36"
      ]
     },
     "execution_count": 3,
     "metadata": {},
     "output_type": "execute_result"
    }
   ],
   "source": [
    "min_value = (lambda x, y: x if x < y else y)\n",
    "min_value(36, 78)"
   ]
  },
  {
   "cell_type": "markdown",
   "metadata": {},
   "source": [
    "**2.  Check whether two strings are equal**"
   ]
  },
  {
   "cell_type": "code",
   "execution_count": 56,
   "metadata": {},
   "outputs": [
    {
     "data": {
      "text/plain": [
       "'False'"
      ]
     },
     "execution_count": 56,
     "metadata": {},
     "output_type": "execute_result"
    }
   ],
   "source": [
    "result = (lambda x, y: 'True' if x == y else 'False')\n",
    "result(\"Data\", \"DaTa\")"
   ]
  },
  {
   "cell_type": "markdown",
   "metadata": {},
   "source": [
    "**3. Demonstrating wrong usuage of variable name**"
   ]
  },
  {
   "cell_type": "code",
   "execution_count": 57,
   "metadata": {},
   "outputs": [
    {
     "ename": "NameError",
     "evalue": "name 'b' is not defined",
     "output_type": "error",
     "traceback": [
      "\u001b[1;31m---------------------------------------------------------------------------\u001b[0m",
      "\u001b[1;31mNameError\u001b[0m                                 Traceback (most recent call last)",
      "\u001b[1;32m<ipython-input-57-f2865e686470>\u001b[0m in \u001b[0;36m<module>\u001b[1;34m()\u001b[0m\n\u001b[0;32m      1\u001b[0m \u001b[1;31m# multiplication - wrong usage of variable\u001b[0m\u001b[1;33m\u001b[0m\u001b[1;33m\u001b[0m\u001b[1;33m\u001b[0m\u001b[0m\n\u001b[0;32m      2\u001b[0m \u001b[0mx\u001b[0m \u001b[1;33m=\u001b[0m \u001b[1;32mlambda\u001b[0m \u001b[0ma\u001b[0m\u001b[1;33m,\u001b[0m \u001b[0mc\u001b[0m \u001b[1;33m:\u001b[0m \u001b[0ma\u001b[0m \u001b[1;33m+\u001b[0m \u001b[0mb\u001b[0m\u001b[1;33m\u001b[0m\u001b[1;33m\u001b[0m\u001b[0m\n\u001b[1;32m----> 3\u001b[1;33m \u001b[0mprint\u001b[0m\u001b[1;33m(\u001b[0m\u001b[0mx\u001b[0m\u001b[1;33m(\u001b[0m\u001b[1;36m5\u001b[0m\u001b[1;33m,\u001b[0m \u001b[1;36m6\u001b[0m\u001b[1;33m)\u001b[0m\u001b[1;33m)\u001b[0m\u001b[1;33m\u001b[0m\u001b[1;33m\u001b[0m\u001b[0m\n\u001b[0m",
      "\u001b[1;32m<ipython-input-57-f2865e686470>\u001b[0m in \u001b[0;36m<lambda>\u001b[1;34m(a, c)\u001b[0m\n\u001b[0;32m      1\u001b[0m \u001b[1;31m# multiplication - wrong usage of variable\u001b[0m\u001b[1;33m\u001b[0m\u001b[1;33m\u001b[0m\u001b[1;33m\u001b[0m\u001b[0m\n\u001b[1;32m----> 2\u001b[1;33m \u001b[0mx\u001b[0m \u001b[1;33m=\u001b[0m \u001b[1;32mlambda\u001b[0m \u001b[0ma\u001b[0m\u001b[1;33m,\u001b[0m \u001b[0mc\u001b[0m \u001b[1;33m:\u001b[0m \u001b[0ma\u001b[0m \u001b[1;33m+\u001b[0m \u001b[0mb\u001b[0m\u001b[1;33m\u001b[0m\u001b[1;33m\u001b[0m\u001b[0m\n\u001b[0m\u001b[0;32m      3\u001b[0m \u001b[0mprint\u001b[0m\u001b[1;33m(\u001b[0m\u001b[0mx\u001b[0m\u001b[1;33m(\u001b[0m\u001b[1;36m5\u001b[0m\u001b[1;33m,\u001b[0m \u001b[1;36m6\u001b[0m\u001b[1;33m)\u001b[0m\u001b[1;33m)\u001b[0m\u001b[1;33m\u001b[0m\u001b[1;33m\u001b[0m\u001b[0m\n",
      "\u001b[1;31mNameError\u001b[0m: name 'b' is not defined"
     ]
    }
   ],
   "source": [
    "# multiplication - wrong usage of variable\n",
    "x = lambda a, c : a + b\n",
    "print(x(5, 6))"
   ]
  },
  {
   "cell_type": "markdown",
   "metadata": {},
   "source": [
    "**If variable a and c are used, then the operations should be on a and c.**"
   ]
  },
  {
   "cell_type": "markdown",
   "metadata": {},
   "source": [
    "<a id='overview'> </a>\n",
    "## 7. Overview of map, reduce and filter functions"
   ]
  },
  {
   "cell_type": "markdown",
   "metadata": {},
   "source": [
    "<table align=\"left\">\n",
    "    <tr>\n",
    "        <td width=\"15%\">\n",
    "            <img src=\"note.png\">\n",
    "        </td>\n",
    "        <td>\n",
    "            <div align=\"left\", style=\"font-size:120%\">\n",
    "                <font color=\"#21618C\">\n",
    "                    <b> The function map(f,l) applies a function 'f' to each element of list 'l' <br> \n",
    "                        The output of map is not a list, to convert it to a list use list(map(f,l)) <br><br>\n",
    "                        <br>\n",
    "                      The function filter(p,l) where property p is checked for every element in list l. The output of fliter(p, l) is a sublist of list 'l' that satistifies the property 'p'. <br><br><br>\n",
    "                        The reduce(fun,seq) function is used to apply a particular function passed in its argument to all of the list elements mentioned in the sequence passed along and returns only one value.This function is defined in “functools” module. <br><br><br>\n",
    "                        The  accumulate() in “itertools” module. The syntax for it is  accumulate(l,f). It works similar to the reduce(), however there is a little difference in the output.\n",
    "                    </b>\n",
    "                </font>\n",
    "            </div>\n",
    "        </td>\n",
    "    </tr>\n",
    "</table>"
   ]
  },
  {
   "cell_type": "markdown",
   "metadata": {},
   "source": [
    "<a id='map'></a>\n",
    "### 7.1 Function map()"
   ]
  },
  {
   "cell_type": "markdown",
   "metadata": {},
   "source": [
    "**1. A test was conducted in a class, the list of all the scores is given. Tha scores are out of 45. Obtain the percentage of each score using lambda function.**\n",
    "             \n",
    "             marks = [ 20, 23, 34, 45, 33, 10, 43, 23, 27, 34, 37, 44, 42, 43 ]\n"
   ]
  },
  {
   "cell_type": "code",
   "execution_count": 58,
   "metadata": {},
   "outputs": [
    {
     "name": "stdout",
     "output_type": "stream",
     "text": [
      "[44.44444444444444, 51.111111111111114, 75.55555555555556, 100.0, 73.33333333333333, 22.22222222222222, 95.55555555555556, 51.111111111111114, 60.0, 75.55555555555556, 82.22222222222223, 97.77777777777777, 93.33333333333333, 95.55555555555556]\n"
     ]
    }
   ],
   "source": [
    "marks = [ 20, 23, 34, 45, 33, 10, 43, 23, 27, 34, 37, 44, 42, 43 ]\n",
    "\n",
    "print(list(map(lambda x, y=100 :x*y/45 , marks)))"
   ]
  },
  {
   "cell_type": "markdown",
   "metadata": {},
   "source": [
    "The output is the percentage scores."
   ]
  },
  {
   "cell_type": "markdown",
   "metadata": {},
   "source": [
    "**2. Create two lists and add corresponding elements of each list**"
   ]
  },
  {
   "cell_type": "code",
   "execution_count": 59,
   "metadata": {},
   "outputs": [
    {
     "name": "stdout",
     "output_type": "stream",
     "text": [
      "[42, 40, 110]\n"
     ]
    }
   ],
   "source": [
    "# iteration using list\n",
    "list_a = [30, 35, 40]\n",
    "list_b = [12, 5, 70]\n",
    "  \n",
    "print(list(map(lambda x, y: x + y, list_a, list_b)))"
   ]
  },
  {
   "cell_type": "markdown",
   "metadata": {},
   "source": [
    "<a id='filter'></a>\n",
    "### 7.2 Function filter()"
   ]
  },
  {
   "cell_type": "markdown",
   "metadata": {},
   "source": [
    "**1. To obtain the  sum of cubes of odd number from 1 to 50**"
   ]
  },
  {
   "cell_type": "code",
   "execution_count": 1,
   "metadata": {},
   "outputs": [
    {
     "data": {
      "text/plain": [
       "20825"
      ]
     },
     "execution_count": 1,
     "metadata": {},
     "output_type": "execute_result"
    }
   ],
   "source": [
    "# sum of cubes of odd numers from 1 to 50\n",
    "\n",
    "# user defined function to obtain the cube\n",
    "def cube(x):\n",
    "    return(x*x)\n",
    "\n",
    "# user defined function to obtain odds numbers from a list\n",
    "def isodd(x):\n",
    "    return(x%2 == 1)\n",
    "\n",
    "# create a list of all cubes\n",
    "list_cubes = list(map(cube,filter(isodd,range(1,50))))\n",
    "\n",
    "# sum of all elements in the in the list_cube\n",
    "sum(list_cubes)"
   ]
  },
  {
   "cell_type": "markdown",
   "metadata": {},
   "source": [
    "The same code above can be done using list comprehension  in the follwing way:"
   ]
  },
  {
   "cell_type": "code",
   "execution_count": 2,
   "metadata": {
    "scrolled": true
   },
   "outputs": [
    {
     "data": {
      "text/plain": [
       "20825"
      ]
     },
     "execution_count": 2,
     "metadata": {},
     "output_type": "execute_result"
    }
   ],
   "source": [
    "# map - the function defined above is called \n",
    "# generator - the range for numbers is fixed\n",
    "# filter - cube is calculated for the numbers which satisfy the 'if' condition\n",
    "# built-in function sum() is used to obtain the sum\n",
    "\n",
    "sum ( [cube(x) for x in range(50) if isodd(x)] ) # Map - Generator - Filter\n"
   ]
  },
  {
   "cell_type": "markdown",
   "metadata": {},
   "source": [
    "**2. To obtain the odd numbers from a list**"
   ]
  },
  {
   "cell_type": "code",
   "execution_count": 3,
   "metadata": {},
   "outputs": [
    {
     "name": "stdout",
     "output_type": "stream",
     "text": [
      "Type of filter object:  <class 'filter'>\n",
      "Even number is as follows:  [34, 458, 456, 578]\n"
     ]
    }
   ],
   "source": [
    "numbers = [121, 443, 477, 125, 34, 655, 458, 141, 363, 125, 456 , 578, 123]\n",
    "\n",
    "# function that filters the numbers\n",
    "def oddnumber(in_num):\n",
    "    if(in_num % 2) == 0:\n",
    "        return True\n",
    "    else:\n",
    "        return False\n",
    "\n",
    "# Use filter() to remove odd numbers\n",
    "out_filter_number = filter(oddnumber, numbers)\n",
    "\n",
    "print(\"Type of filter object: \", type(out_filter_number))\n",
    "print(\"Even number is as follows: \", list(out_filter_number))"
   ]
  },
  {
   "cell_type": "markdown",
   "metadata": {},
   "source": [
    "<a id='reduce'></a>\n",
    "### 7.3 Function reduce()"
   ]
  },
  {
   "cell_type": "markdown",
   "metadata": {},
   "source": [
    "**1. List of  sales in a shop are noted. Obtain the total sales**"
   ]
  },
  {
   "cell_type": "code",
   "execution_count": 4,
   "metadata": {},
   "outputs": [
    {
     "name": "stdout",
     "output_type": "stream",
     "text": [
      "385730\n"
     ]
    }
   ],
   "source": [
    "# import reduce function from functools\n",
    "from functools import reduce\n",
    "\n",
    "sale = [14565,65460,74450,54546,23245,14543,84355,54566]\n",
    "total_sale = reduce(lambda a, b: a + b, sale)\n",
    "print(total_sale)\n"
   ]
  },
  {
   "cell_type": "markdown",
   "metadata": {},
   "source": [
    "**Thus we may say the total sale is 385730 INR.**"
   ]
  },
  {
   "cell_type": "markdown",
   "metadata": {},
   "source": [
    "**2. Factorial of a 5** "
   ]
  },
  {
   "cell_type": "code",
   "execution_count": 5,
   "metadata": {},
   "outputs": [
    {
     "name": "stdout",
     "output_type": "stream",
     "text": [
      "The factorial of 6 is  720\n"
     ]
    }
   ],
   "source": [
    "# import reduce function from functools\n",
    "from functools import reduce\n",
    "\n",
    "factorial = reduce(lambda p,q : p*q , range(1,7))\n",
    "\n",
    "print(\"The factorial of 6 is \",factorial)"
   ]
  },
  {
   "cell_type": "markdown",
   "metadata": {},
   "source": [
    "<a id='accumulate'></a>\n",
    "### 7.4 Function accumulate()"
   ]
  },
  {
   "cell_type": "markdown",
   "metadata": {},
   "source": [
    "**1.  Sum of first ten whole numbers**"
   ]
  },
  {
   "cell_type": "code",
   "execution_count": 6,
   "metadata": {},
   "outputs": [
    {
     "name": "stdout",
     "output_type": "stream",
     "text": [
      "The summation of list using accumulate is :[0, 1, 3, 6, 10, 15, 21, 28, 36, 45]\n"
     ]
    }
   ],
   "source": [
    "# importing itertools for accumulate() \n",
    "import itertools \n",
    "\n",
    "# priting summation using accumulate() \n",
    "print (\"The summation of list using accumulate is :\",end=\"\") \n",
    "print (list(itertools.accumulate(range(10),lambda x,y : x+y))) "
   ]
  },
  {
   "cell_type": "markdown",
   "metadata": {},
   "source": [
    "The output of reduce() will be:"
   ]
  },
  {
   "cell_type": "code",
   "execution_count": 7,
   "metadata": {},
   "outputs": [
    {
     "name": "stdout",
     "output_type": "stream",
     "text": [
      "45\n"
     ]
    }
   ],
   "source": [
    "# import reduce function from functools\n",
    "from functools import reduce\n",
    "\n",
    "sum = reduce(lambda a,b : a+b , range(10))\n",
    "print(sum)"
   ]
  },
  {
   "cell_type": "markdown",
   "metadata": {},
   "source": [
    "The function accumulate() displays the iterations whereas the function reduce() displays the final output."
   ]
  }
 ],
 "metadata": {
  "kernelspec": {
   "display_name": "Python 3",
   "language": "python",
   "name": "python3"
  },
  "language_info": {
   "codemirror_mode": {
    "name": "ipython",
    "version": 3
   },
   "file_extension": ".py",
   "mimetype": "text/x-python",
   "name": "python",
   "nbconvert_exporter": "python",
   "pygments_lexer": "ipython3",
   "version": "3.11.6"
  }
 },
 "nbformat": 4,
 "nbformat_minor": 2
}
