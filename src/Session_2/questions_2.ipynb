{
 "cells": [
  {
   "cell_type": "markdown",
   "metadata": {},
   "source": [
    "\n",
    "```\n",
    "Session 2 Questions:\n",
    "```"
   ]
  },
  {
   "cell_type": "markdown",
   "metadata": {},
   "source": [
    "```\n",
    "1\n",
    "a.\n",
    "Find the output\n",
    "mylist1 = [1,3,5]\n",
    "mylist1.insert(1000,'hello')\n",
    "mylist\n",
    "\n",
    "b.\n",
    "x=0\n",
    "y=1\n",
    "list1=[x,y]\n",
    "print(list1)\n",
    "```"
   ]
  },
  {
   "cell_type": "code",
   "execution_count": 4,
   "metadata": {},
   "outputs": [
    {
     "name": "stdout",
     "output_type": "stream",
     "text": [
      "[1, 3, 5, 'hello']\n",
      "[0, 1]\n"
     ]
    }
   ],
   "source": [
    "#1a\n",
    "mylist1 = [1,3,5]\n",
    "mylist1.insert(1000,'hello')\n",
    "print(mylist1)\n",
    "\n",
    "#1b.\n",
    "x=0\n",
    "y=1\n",
    "list1=[x,y]\n",
    "print(list1)"
   ]
  },
  {
   "cell_type": "markdown",
   "metadata": {},
   "source": [
    "```\n",
    "2.Print eee using negative indexing \n",
    "\n",
    "L = ['a', 'b', ['cc', 'dd', ['eee', 'fff']], 'g', 'h']\n",
    "```"
   ]
  },
  {
   "cell_type": "code",
   "execution_count": 5,
   "metadata": {},
   "outputs": [
    {
     "name": "stdout",
     "output_type": "stream",
     "text": [
      "eee\n"
     ]
    }
   ],
   "source": [
    "\n",
    "L = ['a', 'b', ['cc', 'dd', ['eee', 'fff']], 'g', 'h']\n",
    "\n",
    "print(L[-3][2][0])    "
   ]
  },
  {
   "cell_type": "markdown",
   "metadata": {},
   "source": [
    "```\n",
    "3. Write a python program to manipulate lists. Take two lists \n",
    "\n",
    "L1=[1,2,3,4,5,6,7,8,9,10] and L2=[10,20,30,40,50,60,70,80,90,100].\n",
    "a) Concatenate L1 and L2.(1 mark)\n",
    "b) Use the inbuilt function zip and save a copy of the zipped lists as L3.(2 marks)\n",
    "c) Identify the common elements between the two L1 and L2 and print the answer. (2 marks)\n",
    "3b.Using the list of tree names = [\"Mango tree\", \"Coconut tree\", \"papaya tree\" , \"Apple tree\", \"Banana tree\", \"Blackberry tree\"] answer the below questions\n",
    "Step1: Using tree names remove items at indexes [2,3,4] by replacing with an empty list.(2 Mark)\n",
    "Step2: Add the items[Neem Tree, Peepal Tree] starting at index [3]. (3 Mark)\n",
    "Step3: Write a function determine how many times a given letter is \"n\" occurs in a string= (\" Banana tree\") (5 Marks)\n",
    "```"
   ]
  },
  {
   "cell_type": "code",
   "execution_count": 3,
   "metadata": {},
   "outputs": [
    {
     "name": "stdout",
     "output_type": "stream",
     "text": [
      "[1, 2, 3, 4, 5, 6, 7, 8, 9, 10, [10, 20, 30, 40, 50, 60, 70, 80, 90, 100]]\n",
      "<zip object at 0x106d913c0>\n"
     ]
    }
   ],
   "source": [
    "L1=[1,2,3,4,5,6,7,8,9,10] \n",
    "L2=[10,20,30,40,50,60,70,80,90,100]\n",
    "\n",
    "L1.append(L2)\n",
    "print(L1)\n",
    "\n",
    "L3 = zip(L1,L2)\n",
    "\n",
    "print(L3)"
   ]
  },
  {
   "cell_type": "markdown",
   "metadata": {},
   "source": [
    "```\n",
    "4.Print z\n",
    "nested_lst = [[\"Hat\", \"Glove\", \"Goggle\"], [\"Button\", \"Zipper\", \"Hook\"]]\n",
    "```\n"
   ]
  },
  {
   "cell_type": "code",
   "execution_count": 1,
   "metadata": {},
   "outputs": [
    {
     "name": "stdout",
     "output_type": "stream",
     "text": [
      "Z\n"
     ]
    }
   ],
   "source": [
    "nested_lst = [[\"Hat\", \"Glove\", \"Goggle\"], [\"Button\", \"Zipper\", \"Hook\"]]\n",
    "\n",
    "print(nested_lst[1][1][0])"
   ]
  },
  {
   "cell_type": "markdown",
   "metadata": {},
   "source": [
    "```\n",
    "5.Given two lists, l1 and l2, write a program to create a third list l3 by picking an odd-index element from the list l1 and even index elements from the list l2.\n",
    "l1 = [3, 6, 9, 12, 15, 18, 21]\n",
    "l2 = [4, 8, 12, 16, 20, 24, 28]\n",
    "```"
   ]
  },
  {
   "cell_type": "code",
   "execution_count": 4,
   "metadata": {},
   "outputs": [
    {
     "name": "stdout",
     "output_type": "stream",
     "text": [
      "[4, 6, 12, 12, 20, 18, 28]\n"
     ]
    }
   ],
   "source": [
    "l1 = [3, 6, 9, 12, 15, 18, 21]\n",
    "l2 = [4, 8, 12, 16, 20, 24, 28]\n",
    "\n",
    "l3 = []\n",
    "\n",
    "i = 0\n",
    "\n",
    "j = 0\n",
    "\n",
    "while i < len(l1) :\n",
    "    while j < len(l2):\n",
    "        if i %2 != 0:\n",
    "            l3.append(l1[i])\n",
    "        elif j %2 == 0:\n",
    "            l3.append(l2[j])\n",
    "\n",
    "        i = i + 1\n",
    "        j = j + 1    \n",
    "\n",
    "print(l3)"
   ]
  },
  {
   "cell_type": "markdown",
   "metadata": {},
   "source": [
    "```\n",
    "6.Create dictionary from the given list\n",
    "key = ['a','b','c','d']\n",
    "value = [1, 2, 3, 4]\n",
    "```"
   ]
  },
  {
   "cell_type": "code",
   "execution_count": 2,
   "metadata": {},
   "outputs": [
    {
     "name": "stdout",
     "output_type": "stream",
     "text": [
      "Dictionary from Lists: {'a': 4, 'b': 4, 'c': 4, 'd': 4}\n"
     ]
    }
   ],
   "source": [
    "key = ['a','b','c','d']\n",
    "value = [1, 2, 3, 4]\n",
    "dict = {}\n",
    "\n",
    "for k in key:\n",
    "    for v in value:\n",
    "        dict[k] = v\n",
    "\n",
    "print(\"Dictionary from Lists:\",dict)"
   ]
  },
  {
   "cell_type": "markdown",
   "metadata": {},
   "source": [
    "```\n",
    "7. Using len function and sorted() function, sort the list based on the length of the strings this time in descending order.\n",
    "lakes1=[\"Malawi\", \"Medicine\", \"Tahoe\", \"Moraine\", \"Upper Arrow\", \"Plitvice\", \"Edith\", \"Emerald\"]\n",
    "```"
   ]
  },
  {
   "cell_type": "code",
   "execution_count": 1,
   "metadata": {},
   "outputs": [
    {
     "name": "stdout",
     "output_type": "stream",
     "text": [
      "['Upper Arrow', 'Tahoe', 'Plitvice', 'Moraine', 'Medicine', 'Malawi', 'Emerald', 'Edith']\n"
     ]
    }
   ],
   "source": [
    "lakes1=[\"Malawi\", \"Medicine\", \"Tahoe\", \"Moraine\", \"Upper Arrow\", \"Plitvice\", \"Edith\", \"Emerald\"]\n",
    "\n",
    "sorted_list = sorted(lakes1, reverse=True)\n",
    "   \n",
    "print(sorted_list)"
   ]
  },
  {
   "cell_type": "markdown",
   "metadata": {},
   "source": [
    "```\n",
    "8. .Print list of common and unique words\n",
    "s1= “python language is good”\n",
    "s2= “great language is python”\n",
    "```"
   ]
  },
  {
   "cell_type": "code",
   "execution_count": 23,
   "metadata": {},
   "outputs": [
    {
     "name": "stdout",
     "output_type": "stream",
     "text": [
      "Original List1: ['python', 'language', 'is', 'good']\n",
      "Original List2: ['great', 'language', 'is', 'python']\n",
      "Unique words List: ['good', 'great']\n",
      "Common words List: ['python', 'language', 'is']\n"
     ]
    }
   ],
   "source": [
    "s1 = \"python language is good\"\n",
    "s2 = \"great language is python\"\n",
    "\n",
    "common = []\n",
    "unique = []\n",
    "\n",
    "list1 = list(s1.split())\n",
    "list2 = list(s2.split())\n",
    "\n",
    "print(\"Original List1:\",list1)\n",
    "print(\"Original List2:\",list2)\n",
    "\n",
    "for i in list1:\n",
    "    for j in list2:\n",
    "        if i == j and i not in common and j not in common:\n",
    "                common.append(i)\n",
    "        elif i not in list2 and i not in unique and j not in unique:\n",
    "            unique.append(i)  \n",
    "            unique.append(j) \n",
    "\n",
    "print(\"Unique words List:\",unique) \n",
    "print(\"Common words List:\",common)"
   ]
  },
  {
   "cell_type": "markdown",
   "metadata": {},
   "source": [
    "```\n",
    "9.What will be the output of the following code snippet?\n",
    "init_tuple_a = 'a', 'b'\n",
    "init_tuple_b = ('a', 'b')\n",
    "\n",
    "print (init_tuple_a == init_tuple_b)\n",
    "```"
   ]
  },
  {
   "cell_type": "code",
   "execution_count": 1,
   "metadata": {},
   "outputs": [
    {
     "name": "stdout",
     "output_type": "stream",
     "text": [
      "True\n"
     ]
    }
   ],
   "source": [
    "init_tuple_a = 'a', 'b'\n",
    "init_tuple_b = ('a', 'b')\n",
    "\n",
    "print (init_tuple_a == init_tuple_b)"
   ]
  },
  {
   "cell_type": "markdown",
   "metadata": {},
   "source": [
    "```\n",
    "10.What will be the output of the following code snippet?\n",
    "init_tuple = ((1, 2),) * 7\n",
    "print(init_tuple)\n",
    "print(len(init_tuple[3:8]))\n",
    "```"
   ]
  },
  {
   "cell_type": "code",
   "execution_count": 2,
   "metadata": {},
   "outputs": [
    {
     "name": "stdout",
     "output_type": "stream",
     "text": [
      "((1, 2), (1, 2), (1, 2), (1, 2), (1, 2), (1, 2), (1, 2))\n",
      "4\n"
     ]
    }
   ],
   "source": [
    "init_tuple = ((1, 2),) * 7\n",
    "print(init_tuple)\n",
    "print(len(init_tuple[3:8]))"
   ]
  },
  {
   "cell_type": "markdown",
   "metadata": {},
   "source": [
    "```\n",
    "11.What will be the output of the following code snippet?\n",
    "a = {'a':1,'b':2,'c':3}\n",
    "print (a['a','b'])\n",
    "\n",
    "```"
   ]
  },
  {
   "cell_type": "code",
   "execution_count": 5,
   "metadata": {},
   "outputs": [
    {
     "name": "stdout",
     "output_type": "stream",
     "text": [
      "1\n",
      "2\n"
     ]
    }
   ],
   "source": [
    "a = {'a':1,'b':2,'c':3}\n",
    "print (a['a'])\n",
    "print (a['b'])"
   ]
  },
  {
   "cell_type": "markdown",
   "metadata": {},
   "source": [
    "```\n",
    "12.What will be the output of the following code snippet?\n",
    "mytuple=(123,[34,45,66],\"world\")\n",
    "mytuple[1][2]=77\n",
    "```"
   ]
  },
  {
   "cell_type": "code",
   "execution_count": 7,
   "metadata": {},
   "outputs": [
    {
     "name": "stdout",
     "output_type": "stream",
     "text": [
      "(123, [34, 45, 77], 'world')\n"
     ]
    }
   ],
   "source": [
    "mytuple=(123,[34,45,66],\"world\")\n",
    "mytuple[1][2]=77\n",
    "\n",
    "print(mytuple)"
   ]
  }
 ],
 "metadata": {
  "kernelspec": {
   "display_name": "pyenv",
   "language": "python",
   "name": "python3"
  },
  "language_info": {
   "codemirror_mode": {
    "name": "ipython",
    "version": 3
   },
   "file_extension": ".py",
   "mimetype": "text/x-python",
   "name": "python",
   "nbconvert_exporter": "python",
   "pygments_lexer": "ipython3",
   "version": "3.11.6"
  }
 },
 "nbformat": 4,
 "nbformat_minor": 2
}
