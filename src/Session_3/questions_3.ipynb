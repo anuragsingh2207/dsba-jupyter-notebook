{
 "cells": [
  {
   "cell_type": "markdown",
   "metadata": {},
   "source": [
    "```\n",
    "Session 3 Questions:\n",
    "\n",
    "```"
   ]
  },
  {
   "cell_type": "markdown",
   "metadata": {},
   "source": [
    "```\n",
    "1.Enter the Selling Price and calculate discount based on the range of Selling Price.The discount rate is:\n",
    "5% if Selling Price is atmost 5000\n",
    "12% if Selling Price is atmost 15000\n",
    "20% if Selling Price is atmost 25000\n",
    "30% if Selling Price is more than 25000\n",
    "\n",
    "For this next example, suppose you would love to get a job in Hawaii but would only accept it if the annual pay is at least 85,000. You would also be willing to take a job in New York if the annual pay is at least 100,000 or anywhere else if the annual pay is at least 75,000. The following example takes two inputs from the user, location and pay and returns a particular response based on the inputs.\n",
    "```"
   ]
  },
  {
   "cell_type": "code",
   "execution_count": null,
   "metadata": {},
   "outputs": [],
   "source": []
  },
  {
   "cell_type": "markdown",
   "metadata": {},
   "source": [
    "```\n",
    "2.Write a Python program to make a currency converter. The currency converter should be able to convert a specific currency to an appropriate INR (Indian National Rupee) value.\n",
    " 1. USD (U.S Dollars) (1 USD =82.26 INR)\n",
    " 2. YEN (Japanese YEN)  (1 YEN= 0.58 INR\n",
    " 3. EURO (1 EURO=90.79 INR) \n",
    " 4. U.K. POUND (1 U.K POUND=105.67 INR)\n",
    "```"
   ]
  },
  {
   "cell_type": "code",
   "execution_count": null,
   "metadata": {},
   "outputs": [],
   "source": []
  },
  {
   "cell_type": "markdown",
   "metadata": {},
   "source": [
    "```\n",
    "3. Write a Python program to check the validity of a debit card.\n",
    "\n",
    "a) Verify and ensure that the length of the debit card is 14.\n",
    "\n",
    "b) Verify that the year printed on the debit card should be either 2021 or greater than 2021. If the year is less than 2021, user should get a message that the card expired.\n",
    "c)Verify that the month number printed in the card should be between 1 and 12. Any number less than 1 and any number greater than 12 should be invalid.\n",
    "\n",
    "d) Enter the CVV number printed on the debit card and ensure that the length is neither less than 3 nor greater than 3.\n",
    "\n",
    "```"
   ]
  },
  {
   "cell_type": "code",
   "execution_count": null,
   "metadata": {},
   "outputs": [],
   "source": []
  },
  {
   "cell_type": "markdown",
   "metadata": {},
   "source": [
    "```\n",
    "\n",
    "4.Use the built-in random module and a for loop to generate 40 random numbers between -50 and 50 then display a list of only the negative numbers .The program should also count the number of negative numbers and display the count.\n",
    "\n",
    "```"
   ]
  },
  {
   "cell_type": "code",
   "execution_count": null,
   "metadata": {},
   "outputs": [],
   "source": []
  },
  {
   "cell_type": "markdown",
   "metadata": {},
   "source": [
    "```\n",
    "\n",
    "5.With a given list [12,24,35,24,88,120,155,88,120,155,10,2,3],\n",
    "write a program to print this list after removing all duplicate values with original order reserved.\n",
    "```"
   ]
  },
  {
   "cell_type": "code",
   "execution_count": null,
   "metadata": {},
   "outputs": [],
   "source": []
  },
  {
   "cell_type": "markdown",
   "metadata": {},
   "source": [
    "```\n",
    "6. One way to solve math equations is by trial and error. Computers can help with that. The equation 21𝑥2−𝑥3+21904=0 has an integer solution between 1 and 100. Print that x value which satisfies this equation (5 Marks)\n",
    "\n",
    "6b.Count the occurrences of a character in a string using for loop \n",
    "\n",
    "6c.Get a string from user and calculate number of digits and alphabets.\n",
    "```"
   ]
  },
  {
   "cell_type": "code",
   "execution_count": null,
   "metadata": {},
   "outputs": [],
   "source": []
  }
 ],
 "metadata": {
  "kernelspec": {
   "display_name": "pyenv",
   "language": "python",
   "name": "python3"
  },
  "language_info": {
   "codemirror_mode": {
    "name": "ipython",
    "version": 3
   },
   "file_extension": ".py",
   "mimetype": "text/x-python",
   "name": "python",
   "nbconvert_exporter": "python",
   "pygments_lexer": "ipython3",
   "version": "3.11.6"
  }
 },
 "nbformat": 4,
 "nbformat_minor": 2
}
