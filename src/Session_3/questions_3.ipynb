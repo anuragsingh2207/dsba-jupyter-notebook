{
 "cells": [
  {
   "cell_type": "markdown",
   "metadata": {},
   "source": [
    "```\n",
    "Session 3 Questions:\n",
    "```"
   ]
  },
  {
   "cell_type": "markdown",
   "metadata": {},
   "source": [
    "```\n",
    "1.a.\n",
    "Enter the Selling Price and calculate discount based on the range of Selling Price.The discount rate is:\n",
    "5% if Selling Price is atmost 5000\n",
    "12% if Selling Price is atmost 15000\n",
    "20% if Selling Price is atmost 25000\n",
    "30% if Selling Price is more than 25000\n",
    "```"
   ]
  },
  {
   "cell_type": "code",
   "execution_count": 16,
   "metadata": {},
   "outputs": [
    {
     "name": "stdout",
     "output_type": "stream",
     "text": [
      "Discount is 5%\n"
     ]
    }
   ],
   "source": [
    "sp = int(input(\"Enter Selling Price:\"))\n",
    "\n",
    "if sp <=5000:\n",
    "    print(\"Discount is 5%\")\n",
    "elif sp >5000 and sp <=15000:\n",
    "    print(\"Discount is 12%\")\n",
    "elif sp >15000 and sp <=25000:\n",
    "    print(\"Discount is 20%\")\n",
    "elif sp >25000:\n",
    "    print(\"Discount is 30%\")    \n",
    "    "
   ]
  },
  {
   "cell_type": "markdown",
   "metadata": {},
   "source": [
    "```\n",
    "1.b.\n",
    "For this next example, suppose you would love to get a job in Hawaii but would only accept it if the annual pay is at least 85,000. You would also be willing to take a job in New York if the annual pay is at least 100,000 or anywhere else if the annual pay is at least 75,000. The following example takes two inputs from the user, location and pay and returns a particular response based on the inputs.\n",
    "```"
   ]
  },
  {
   "cell_type": "code",
   "execution_count": 2,
   "metadata": {},
   "outputs": [
    {
     "name": "stdout",
     "output_type": "stream",
     "text": [
      "Willing to take a job in  Bangalore\n"
     ]
    }
   ],
   "source": [
    "location = input(\"Enter location:\")\n",
    "annual_pay = int(input(\"Enter annual pay:\"))\n",
    "\n",
    "if (annual_pay >=85000 and location == \"Hawaii\"):\n",
    "    print(\"Willing to take a job in Hawaii...\")\n",
    "elif (annual_pay>=100000 and location == \"New York\"):\n",
    "    print(\"Willing to take a job in New York...\")\n",
    "elif annual_pay >=75000:\n",
    "    print(\"Willing to take a job in \", location)\n",
    "else:\n",
    "    print(\"Invalid Input !!!\")    \n"
   ]
  },
  {
   "cell_type": "markdown",
   "metadata": {},
   "source": [
    "```\n",
    "2.Write a Python program to make a currency converter. The currency converter should be able to convert a specific currency to an appropriate INR (Indian National Rupee) value.\n",
    " 1. USD (U.S Dollars) (1 USD =82.26 INR)\n",
    " 2. YEN (Japanese YEN)  (1 YEN= 0.58 INR\n",
    " 3. EURO (1 EURO=90.79 INR) \n",
    " 4. U.K. POUND (1 U.K POUND=105.67 INR)\n",
    "```"
   ]
  },
  {
   "cell_type": "code",
   "execution_count": 2,
   "metadata": {},
   "outputs": [
    {
     "name": "stdout",
     "output_type": "stream",
     "text": [
      "Converted Amount form USD to INR: 8226.0\n"
     ]
    }
   ],
   "source": [
    "choice = int(input(\"Enter Choice for Currency Conversion: \\n 1. USD to INR \\n 2. YEN to INR \\n 3. EURO to INR \\n 4.U.K. POUND to INR\"))\n",
    "\n",
    "input_amount = float(input(\"Enter Amount for Currency Conversion:\"))\n",
    "\n",
    "if choice == 1:\n",
    "    converted_amount  = input_amount * 82.26\n",
    "    print(\"Converted Amount form USD to INR:\", converted_amount)\n",
    "elif choice == 2:\n",
    "    converted_amount  = input_amount * 0.58\n",
    "    print(\"Converted Amount from YEN to INR:\", converted_amount)\n",
    "elif choice == 3:\n",
    "    converted_amount  = input_amount * 90.79\n",
    "    print(\"Converted Amount from EURO to INR:\", converted_amount)\n",
    "elif choice == 4:\n",
    "    converted_amount  = input_amount * 105.67\n",
    "    print(\"Converted Amount from U.K. PUND to INR:\", converted_amount)\n",
    "else:\n",
    "    print(\"Invalid Choice !!!\")"
   ]
  },
  {
   "cell_type": "markdown",
   "metadata": {},
   "source": [
    "```\n",
    "3. Write a Python program to check the validity of a debit card.\n",
    "\n",
    "a) Verify and ensure that the length of the debit card is 14.\n",
    "\n",
    "b) Verify that the year printed on the debit card should be either 2021 or greater than 2021. If the year is less than 2021, user should get a message that the card expired.\n",
    "c)Verify that the month number printed in the card should be between 1 and 12. Any number less than 1 and any number greater than 12 should be invalid.\n",
    "\n",
    "d) Enter the CVV number printed on the debit card and ensure that the length is neither less than 3 nor greater than 3.\n",
    "```"
   ]
  },
  {
   "cell_type": "code",
   "execution_count": 1,
   "metadata": {},
   "outputs": [
    {
     "name": "stdout",
     "output_type": "stream",
     "text": [
      "Card Number: 12345\n",
      "Enter a valid card number of 14 digits !!!\n",
      "Card Expiry Year: 13\n",
      "Your card has expired !!!\n",
      "Card Month: 12\n",
      "Valid Card Month entered.\n",
      "Card CVV: 123\n",
      "Enter a valid CVV Number !!!\n"
     ]
    }
   ],
   "source": [
    "card_number = input(\"Enter card number:\")\n",
    "print(\"Card Number:\", card_number)\n",
    "if len(card_number) != 14:\n",
    "    print(\"Enter a valid card number of 14 digits !!!\")\n",
    "else:   \n",
    "     print(\"Valid Card number entered.\")\n",
    "\n",
    "card_expiry_year = int(input(\"Enter year of expiration printed on card:\"))\n",
    "print(\"Card Expiry Year:\", card_expiry_year)\n",
    "if card_expiry_year < 2021:\n",
    "    print(\"Your card has expired !!!\")\n",
    "else:   \n",
    "     print(\"Card is active.\")    \n",
    "\n",
    "card_month = int(input(\"Enter month printed on card:\"))\n",
    "print(\"Card Month:\", card_month)\n",
    "if card_month >1 and card_month <12:\n",
    "        print(\"Enter a valid Month !!!\")\n",
    "else:   \n",
    "     print(\"Valid Card Month entered.\")        \n",
    "\n",
    "\n",
    "cvv_number = input(\"Enter CVV printed on the card:\")\n",
    "print(\"Card CVV:\", cvv_number)\n",
    "if len(card_number) != 3:\n",
    "     print(\"Enter a valid CVV Number !!!\")\n",
    "else:   \n",
    "     print(\"Valid Card CVV entered.\")          \n",
    "\n",
    "\n"
   ]
  },
  {
   "cell_type": "markdown",
   "metadata": {},
   "source": [
    "```\n",
    "4.Use the built-in random module and a for loop to generate 40 random numbers between -50 and 50 then display a list of only the negative numbers .The program should also count the number of negative numbers and display the count.\n",
    "```"
   ]
  },
  {
   "cell_type": "code",
   "execution_count": 11,
   "metadata": {},
   "outputs": [
    {
     "name": "stdout",
     "output_type": "stream",
     "text": [
      "[-34, -42, -14, -28, -42, -46, -30, -13, -48, -21, -37, -17, -14, -47, -38, -37, -31, -39, -27, -44, -27, -17, -37, -40]\n",
      "24\n"
     ]
    }
   ],
   "source": [
    "import random\n",
    "\n",
    "random_list = []\n",
    "\n",
    "i =0\n",
    "while i < 40:\n",
    "        r = random.randint(-50,50)\n",
    "        if r <0:\n",
    "            random_list.append(r)\n",
    "        i += 1  \n",
    "\n",
    "print(random_list)\n",
    "\n",
    "print(len(random_list))\n"
   ]
  },
  {
   "cell_type": "markdown",
   "metadata": {},
   "source": [
    "```\n",
    "5.With a given list [12,24,35,24,88,120,155,88,120,155,10,2,3],\n",
    "write a program to print this list after removing all duplicate values with original order reserved.\n",
    "```"
   ]
  },
  {
   "cell_type": "code",
   "execution_count": 2,
   "metadata": {},
   "outputs": [
    {
     "name": "stdout",
     "output_type": "stream",
     "text": [
      "Original List with duplicates: [12, 24, 35, 24, 88, 120, 155, 88, 120, 155, 10, 2, 3]\n",
      "List after removing duplicates: [24, 24, 88, 120, 155, 2]\n"
     ]
    }
   ],
   "source": [
    "list1 = [12,24,35,24,88,120,155,88,120,155,10,2,3]\n",
    "\n",
    "print(\"Original List with duplicates:\",list1)\n",
    "\n",
    "for i in list1:\n",
    "    list1.remove(i)\n",
    "\n",
    "print(\"List after removing duplicates:\",list1)\n",
    "\n"
   ]
  },
  {
   "cell_type": "markdown",
   "metadata": {},
   "source": [
    "```\n",
    "6. One way to solve math equations is by trial and error. Computers can help with that. The equation 21𝑥2−𝑥3+21904=0 has an integer solution between 1 and 100. Print that x value which satisfies this equation (5 Marks)\n",
    "```"
   ]
  },
  {
   "cell_type": "code",
   "execution_count": 3,
   "metadata": {},
   "outputs": [
    {
     "name": "stdout",
     "output_type": "stream",
     "text": [
      " Equation satisfied by x = 37\n"
     ]
    }
   ],
   "source": [
    "for x in range(1,100):\n",
    "    eqn = ((21 * (x**2)) - (x**3)) + 21904\n",
    "    if eqn == 0:\n",
    "        print(\" Equation satisfied by x =\",x)"
   ]
  },
  {
   "cell_type": "markdown",
   "metadata": {},
   "source": [
    "```\n",
    "7a.Count the occurrences of a character in a string using for loop \n",
    "```"
   ]
  },
  {
   "cell_type": "code",
   "execution_count": 5,
   "metadata": {},
   "outputs": [
    {
     "name": "stdout",
     "output_type": "stream",
     "text": [
      "Count for h is :1\n",
      "Count for e is :1\n",
      "Count for l is :2\n",
      "Count for l is :2\n",
      "Count for o is :1\n"
     ]
    }
   ],
   "source": [
    "input_string = input(\"Enter a string:\")\n",
    "\n",
    "for i in input_string:\n",
    "    print(\"Count for \"+i+\" is :\"+str(input_string.count(i)))"
   ]
  },
  {
   "cell_type": "markdown",
   "metadata": {},
   "source": [
    "```\n",
    "7b.Get a string from user and calculate number of digits and alphabets.\n",
    "```"
   ]
  },
  {
   "cell_type": "code",
   "execution_count": 13,
   "metadata": {},
   "outputs": [
    {
     "name": "stdout",
     "output_type": "stream",
     "text": [
      "Input String is: Hello$123\n",
      "Alphabet Count: 5\n",
      "Number Count: 3\n"
     ]
    }
   ],
   "source": [
    "user_input = input(\"Enter a string:\")\n",
    "print(\"Input String is:\",user_input)\n",
    "\n",
    "count_alphabets=0\n",
    "count_numbers=0\n",
    "\n",
    "for i in user_input:\n",
    "    ascii_num = ord(i)\n",
    "    if ascii_num >=65 and ascii_num <=90:\n",
    "        count_alphabets = count_alphabets+1\n",
    "    elif ascii_num>=97 and ascii_num <=122:\n",
    "        count_alphabets = count_alphabets+1\n",
    "    elif ascii_num >=48 and ascii_num <=57:\n",
    "        count_numbers = count_numbers+1\n",
    "\n",
    "print(\"Alphabet Count:\",count_alphabets)\n",
    "print(\"Number Count:\",count_numbers)\n"
   ]
  }
 ],
 "metadata": {
  "kernelspec": {
   "display_name": "pyenv",
   "language": "python",
   "name": "python3"
  },
  "language_info": {
   "codemirror_mode": {
    "name": "ipython",
    "version": 3
   },
   "file_extension": ".py",
   "mimetype": "text/x-python",
   "name": "python",
   "nbconvert_exporter": "python",
   "pygments_lexer": "ipython3",
   "version": "3.11.6"
  }
 },
 "nbformat": 4,
 "nbformat_minor": 2
}
