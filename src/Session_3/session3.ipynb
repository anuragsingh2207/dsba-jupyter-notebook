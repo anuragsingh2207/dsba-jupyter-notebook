{
 "cells": [
  {
   "cell_type": "code",
   "execution_count": 1,
   "id": "3f5e49ee",
   "metadata": {},
   "outputs": [
    {
     "data": {
      "text/plain": [
       "dict"
      ]
     },
     "execution_count": 1,
     "metadata": {},
     "output_type": "execute_result"
    }
   ],
   "source": [
    "# dictionary - key value pairs \n",
    "d1={}   # empty dict\n",
    "type(d1)"
   ]
  },
  {
   "cell_type": "code",
   "execution_count": 2,
   "id": "372259b3",
   "metadata": {},
   "outputs": [
    {
     "data": {
      "text/plain": [
       "dict"
      ]
     },
     "execution_count": 2,
     "metadata": {},
     "output_type": "execute_result"
    }
   ],
   "source": [
    "d2=dict()\n",
    "type(d2)"
   ]
  },
  {
   "cell_type": "code",
   "execution_count": 3,
   "id": "51af1440",
   "metadata": {},
   "outputs": [
    {
     "data": {
      "text/plain": [
       "{'name': 'sam', 'age': 45, 'salary': 8000}"
      ]
     },
     "execution_count": 3,
     "metadata": {},
     "output_type": "execute_result"
    }
   ],
   "source": [
    "emp={\"name\":\"sam\",\"age\":45,\"salary\":8000}\n",
    "emp"
   ]
  },
  {
   "cell_type": "code",
   "execution_count": 4,
   "id": "c99c4ace",
   "metadata": {},
   "outputs": [],
   "source": [
    "d3={1:\"john\",2:\"sam\"}\n",
    "d4={(1,2):\"cse\",5:\"eee\"}"
   ]
  },
  {
   "cell_type": "code",
   "execution_count": 5,
   "id": "03cb9fb7",
   "metadata": {},
   "outputs": [
    {
     "ename": "TypeError",
     "evalue": "unhashable type: 'list'",
     "output_type": "error",
     "traceback": [
      "\u001b[1;31m---------------------------------------------------------------------------\u001b[0m",
      "\u001b[1;31mTypeError\u001b[0m                                 Traceback (most recent call last)",
      "Cell \u001b[1;32mIn[5], line 1\u001b[0m\n\u001b[1;32m----> 1\u001b[0m d5\u001b[38;5;241m=\u001b[39m{[\u001b[38;5;241m23\u001b[39m,\u001b[38;5;241m34\u001b[39m]:\u001b[38;5;124m\"\u001b[39m\u001b[38;5;124mcse\u001b[39m\u001b[38;5;124m\"\u001b[39m}\n",
      "\u001b[1;31mTypeError\u001b[0m: unhashable type: 'list'"
     ]
    }
   ],
   "source": [
    "d5={[23,34]:\"cse\"}"
   ]
  },
  {
   "cell_type": "code",
   "execution_count": 6,
   "id": "a687b842",
   "metadata": {},
   "outputs": [
    {
     "data": {
      "text/plain": [
       "{'emp1': {'name': 'sam', 'age': 45}, 'emp2': {'name': 'john', 'age': 34}}"
      ]
     },
     "execution_count": 6,
     "metadata": {},
     "output_type": "execute_result"
    }
   ],
   "source": [
    "d4={\"emp1\":{\"name\":\"sam\",\"age\":45},\"emp2\":{\"name\":\"john\",\"age\":34}}\n",
    "d4"
   ]
  },
  {
   "cell_type": "code",
   "execution_count": 7,
   "id": "c9830582",
   "metadata": {},
   "outputs": [
    {
     "data": {
      "text/plain": [
       "{'student1': [23, 34, 56], 'student2': [67, 78, 99]}"
      ]
     },
     "execution_count": 7,
     "metadata": {},
     "output_type": "execute_result"
    }
   ],
   "source": [
    "d5={\"student1\":[23,34,56],\"student2\":[67,78,99]}\n",
    "d5"
   ]
  },
  {
   "cell_type": "code",
   "execution_count": 8,
   "id": "aeb08970",
   "metadata": {},
   "outputs": [
    {
     "data": {
      "text/plain": [
       "[23, 34, 56]"
      ]
     },
     "execution_count": 8,
     "metadata": {},
     "output_type": "execute_result"
    }
   ],
   "source": [
    "# to get the values of a particular key d[\"key\"]  d[key]\n",
    "d5[\"student1\"]"
   ]
  },
  {
   "cell_type": "code",
   "execution_count": 9,
   "id": "264ce153",
   "metadata": {},
   "outputs": [
    {
     "data": {
      "text/plain": [
       "{'name': 'john', 'age': 34}"
      ]
     },
     "execution_count": 9,
     "metadata": {},
     "output_type": "execute_result"
    }
   ],
   "source": [
    "d4[\"emp2\"]"
   ]
  },
  {
   "cell_type": "code",
   "execution_count": 10,
   "id": "046694d7",
   "metadata": {},
   "outputs": [
    {
     "data": {
      "text/plain": [
       "34"
      ]
     },
     "execution_count": 10,
     "metadata": {},
     "output_type": "execute_result"
    }
   ],
   "source": [
    "d4[\"emp2\"][\"age\"]  # nested indexing "
   ]
  },
  {
   "cell_type": "code",
   "execution_count": 11,
   "id": "fe304740",
   "metadata": {},
   "outputs": [
    {
     "data": {
      "text/plain": [
       "{'student1': [23, 34, 56], 'student2': [67, 78, 99]}"
      ]
     },
     "execution_count": 11,
     "metadata": {},
     "output_type": "execute_result"
    }
   ],
   "source": [
    "d5"
   ]
  },
  {
   "cell_type": "code",
   "execution_count": 13,
   "id": "855ec186",
   "metadata": {},
   "outputs": [
    {
     "data": {
      "text/plain": [
       "{'student1': [23, 34, 56], 'student2': [67, 78, 99], 'student3': [45, 56, 77]}"
      ]
     },
     "execution_count": 13,
     "metadata": {},
     "output_type": "execute_result"
    }
   ],
   "source": [
    "d5['student3']=[45,56,77]  # to add a new pair / update\n",
    "d5"
   ]
  },
  {
   "cell_type": "code",
   "execution_count": 14,
   "id": "4432db5d",
   "metadata": {},
   "outputs": [
    {
     "data": {
      "text/plain": [
       "{'student1': [23, 34, 56], 'student2': [67, 78, 99], 'student3': [45, 56, 77]}"
      ]
     },
     "execution_count": 14,
     "metadata": {},
     "output_type": "execute_result"
    }
   ],
   "source": [
    "d5"
   ]
  },
  {
   "cell_type": "code",
   "execution_count": 15,
   "id": "4b5b156c",
   "metadata": {},
   "outputs": [
    {
     "data": {
      "text/plain": [
       "dict_keys(['student1', 'student2', 'student3'])"
      ]
     },
     "execution_count": 15,
     "metadata": {},
     "output_type": "execute_result"
    }
   ],
   "source": [
    "d5.keys()"
   ]
  },
  {
   "cell_type": "code",
   "execution_count": 16,
   "id": "b88ac106",
   "metadata": {},
   "outputs": [
    {
     "data": {
      "text/plain": [
       "dict_values([[23, 34, 56], [67, 78, 99], [45, 56, 77]])"
      ]
     },
     "execution_count": 16,
     "metadata": {},
     "output_type": "execute_result"
    }
   ],
   "source": [
    "d5.values()"
   ]
  },
  {
   "cell_type": "code",
   "execution_count": 17,
   "id": "2a6250a6",
   "metadata": {},
   "outputs": [
    {
     "data": {
      "text/plain": [
       "dict_items([('student1', [23, 34, 56]), ('student2', [67, 78, 99]), ('student3', [45, 56, 77])])"
      ]
     },
     "execution_count": 17,
     "metadata": {},
     "output_type": "execute_result"
    }
   ],
   "source": [
    "d5.items()"
   ]
  },
  {
   "cell_type": "code",
   "execution_count": 18,
   "id": "991d227d",
   "metadata": {},
   "outputs": [
    {
     "data": {
      "text/plain": [
       "('student3', [45, 56, 77])"
      ]
     },
     "execution_count": 18,
     "metadata": {},
     "output_type": "execute_result"
    }
   ],
   "source": [
    "# to delete  del , pop,popitem()\n",
    "d5.popitem()  # last inserted item"
   ]
  },
  {
   "cell_type": "code",
   "execution_count": 19,
   "id": "b74f0202",
   "metadata": {},
   "outputs": [
    {
     "data": {
      "text/plain": [
       "{'student1': [23, 34, 56], 'student2': [67, 78, 99]}"
      ]
     },
     "execution_count": 19,
     "metadata": {},
     "output_type": "execute_result"
    }
   ],
   "source": [
    "d5"
   ]
  },
  {
   "cell_type": "code",
   "execution_count": 20,
   "id": "c9f00d96",
   "metadata": {},
   "outputs": [
    {
     "data": {
      "text/plain": [
       "[23, 34, 56]"
      ]
     },
     "execution_count": 20,
     "metadata": {},
     "output_type": "execute_result"
    }
   ],
   "source": [
    "d5.pop(\"student1\")   # needs an argument - key deleted "
   ]
  },
  {
   "cell_type": "code",
   "execution_count": 22,
   "id": "5576ae67",
   "metadata": {},
   "outputs": [],
   "source": [
    "del d5['student2']  # delete "
   ]
  },
  {
   "cell_type": "code",
   "execution_count": 23,
   "id": "ba63e2f8",
   "metadata": {},
   "outputs": [
    {
     "data": {
      "text/plain": [
       "{}"
      ]
     },
     "execution_count": 23,
     "metadata": {},
     "output_type": "execute_result"
    }
   ],
   "source": [
    "d5"
   ]
  },
  {
   "cell_type": "code",
   "execution_count": 24,
   "id": "5bffd5c2",
   "metadata": {},
   "outputs": [],
   "source": [
    "L = ['a', 'b', ['cc', 'dd', ['eee', 'fff']], 'g', 'h']"
   ]
  },
  {
   "cell_type": "code",
   "execution_count": 27,
   "id": "7c031be8",
   "metadata": {},
   "outputs": [
    {
     "data": {
      "text/plain": [
       "'eee'"
      ]
     },
     "execution_count": 27,
     "metadata": {},
     "output_type": "execute_result"
    }
   ],
   "source": [
    "L[-3][-1][-2]"
   ]
  },
  {
   "cell_type": "code",
   "execution_count": 28,
   "id": "9bf0a577",
   "metadata": {},
   "outputs": [
    {
     "name": "stdout",
     "output_type": "stream",
     "text": [
      "[1, 2, 3, 4, 5, 6, 7, 8, 9, 10, 10, 20, 30, 40, 50, 60, 70, 80, 90, 100]\n"
     ]
    }
   ],
   "source": [
    "L1=[1,2,3,4,5,6,7,8,9,10]\n",
    "L2=[10,20,30,40,50,60,70,80,90,100]\n",
    "print(L1+L2)\n"
   ]
  },
  {
   "cell_type": "code",
   "execution_count": 30,
   "id": "8c80e3e7",
   "metadata": {},
   "outputs": [
    {
     "data": {
      "text/plain": [
       "{10}"
      ]
     },
     "execution_count": 30,
     "metadata": {},
     "output_type": "execute_result"
    }
   ],
   "source": [
    "set(L1).intersection(set(L2))"
   ]
  },
  {
   "cell_type": "code",
   "execution_count": 31,
   "id": "24eefc4a",
   "metadata": {},
   "outputs": [
    {
     "name": "stdout",
     "output_type": "stream",
     "text": [
      "10\n"
     ]
    }
   ],
   "source": [
    "for i in L1:\n",
    "    if i in L2:\n",
    "        print(i)"
   ]
  },
  {
   "cell_type": "code",
   "execution_count": 29,
   "id": "16a322f4",
   "metadata": {},
   "outputs": [
    {
     "data": {
      "text/plain": [
       "[(1, 10),\n",
       " (2, 20),\n",
       " (3, 30),\n",
       " (4, 40),\n",
       " (5, 50),\n",
       " (6, 60),\n",
       " (7, 70),\n",
       " (8, 80),\n",
       " (9, 90),\n",
       " (10, 100)]"
      ]
     },
     "execution_count": 29,
     "metadata": {},
     "output_type": "execute_result"
    }
   ],
   "source": [
    "list(zip(L1,L2))"
   ]
  },
  {
   "cell_type": "code",
   "execution_count": 38,
   "id": "7cf8e1f0",
   "metadata": {},
   "outputs": [
    {
     "data": {
      "text/plain": [
       "['Mango tree',\n",
       " 'Coconut tree',\n",
       " 'papaya tree',\n",
       " 'Apple tree',\n",
       " 'Banana tree',\n",
       " 'Blackberry tree']"
      ]
     },
     "execution_count": 38,
     "metadata": {},
     "output_type": "execute_result"
    }
   ],
   "source": [
    "trees= [\"Mango tree\", \"Coconut tree\", \"papaya tree\" , \"Apple tree\", \"Banana tree\", \"Blackberry tree\"] \n",
    "trees"
   ]
  },
  {
   "cell_type": "code",
   "execution_count": 33,
   "id": "8dacfcda",
   "metadata": {},
   "outputs": [],
   "source": [
    "trees[2:5]=[]"
   ]
  },
  {
   "cell_type": "code",
   "execution_count": 34,
   "id": "66cd7349",
   "metadata": {},
   "outputs": [
    {
     "data": {
      "text/plain": [
       "['Mango tree', 'Coconut tree', 'Blackberry tree']"
      ]
     },
     "execution_count": 34,
     "metadata": {},
     "output_type": "execute_result"
    }
   ],
   "source": [
    "trees"
   ]
  },
  {
   "cell_type": "code",
   "execution_count": 39,
   "id": "ba7bae29",
   "metadata": {},
   "outputs": [],
   "source": [
    "trees[3:3]=[\"Neem Tree\", \"Peepal Tree\"]"
   ]
  },
  {
   "cell_type": "code",
   "execution_count": 41,
   "id": "f609c669",
   "metadata": {},
   "outputs": [
    {
     "data": {
      "text/plain": [
       "2"
      ]
     },
     "execution_count": 41,
     "metadata": {},
     "output_type": "execute_result"
    }
   ],
   "source": [
    "s=\"banana tree\"\n",
    "s.count(\"n\")"
   ]
  },
  {
   "cell_type": "code",
   "execution_count": 40,
   "id": "094d8de3",
   "metadata": {},
   "outputs": [
    {
     "data": {
      "text/plain": [
       "['Mango tree',\n",
       " 'Coconut tree',\n",
       " 'papaya tree',\n",
       " 'Neem Tree',\n",
       " 'Peepal Tree',\n",
       " 'Apple tree',\n",
       " 'Banana tree',\n",
       " 'Blackberry tree']"
      ]
     },
     "execution_count": 40,
     "metadata": {},
     "output_type": "execute_result"
    }
   ],
   "source": [
    "trees"
   ]
  },
  {
   "cell_type": "code",
   "execution_count": 44,
   "id": "d3484667",
   "metadata": {},
   "outputs": [
    {
     "data": {
      "text/plain": [
       "{'emp1': {'name': 'sam', 'age': 45}, 'emp2': {'name': 'john', 'age': 34}}"
      ]
     },
     "execution_count": 44,
     "metadata": {},
     "output_type": "execute_result"
    }
   ],
   "source": [
    "d4"
   ]
  },
  {
   "cell_type": "code",
   "execution_count": 45,
   "id": "c542c2f9",
   "metadata": {},
   "outputs": [
    {
     "data": {
      "text/plain": [
       "{'emp1': {'name': 'sam', 'age': 45},\n",
       " 'emp2': {'name': 'john', 'age': 34},\n",
       " 'emp3': {'name': 'jack', 'age': 90}}"
      ]
     },
     "execution_count": 45,
     "metadata": {},
     "output_type": "execute_result"
    }
   ],
   "source": [
    "d6={\"name\":\"jack\",'age':90}\n",
    "d4['emp3']=d6\n",
    "d4"
   ]
  },
  {
   "cell_type": "code",
   "execution_count": 46,
   "id": "b1ef302e",
   "metadata": {},
   "outputs": [
    {
     "data": {
      "text/plain": [
       "{'name': 'sam', 'age': 45, 'salary': 8000}"
      ]
     },
     "execution_count": 46,
     "metadata": {},
     "output_type": "execute_result"
    }
   ],
   "source": [
    "emp\n"
   ]
  },
  {
   "cell_type": "code",
   "execution_count": 50,
   "id": "a585956e",
   "metadata": {},
   "outputs": [
    {
     "data": {
      "text/plain": [
       "'Z'"
      ]
     },
     "execution_count": 50,
     "metadata": {},
     "output_type": "execute_result"
    }
   ],
   "source": [
    "nested_lst = [[\"Hat\", \"Glove\", \"Goggle\"], [\"Button\", \"Zipper\", \"Hook\"]]\n",
    "nested_lst[1][1][0]  # print z"
   ]
  },
  {
   "cell_type": "code",
   "execution_count": 51,
   "id": "22dbcc9e",
   "metadata": {},
   "outputs": [
    {
     "data": {
      "text/plain": [
       "[6, 12, 18, 4, 12, 20, 28]"
      ]
     },
     "execution_count": 51,
     "metadata": {},
     "output_type": "execute_result"
    }
   ],
   "source": [
    "list1 = [3, 6, 9, 12, 15, 18, 21]\n",
    "list2 = [4, 8, 12, 16, 20, 24, 28]\n",
    "list1[1::2]+list2[0::2]"
   ]
  },
  {
   "cell_type": "code",
   "execution_count": 52,
   "id": "92d47161",
   "metadata": {},
   "outputs": [
    {
     "data": {
      "text/plain": [
       "{'a': 1, 'b': 2, 'c': 3, 'd': 4}"
      ]
     },
     "execution_count": 52,
     "metadata": {},
     "output_type": "execute_result"
    }
   ],
   "source": [
    "key = ['a','b','c','d']\n",
    "value = [1, 2, 3, 4]\n",
    "dict(zip(key,value))"
   ]
  },
  {
   "cell_type": "code",
   "execution_count": 53,
   "id": "ea39224b",
   "metadata": {},
   "outputs": [],
   "source": [
    "lakes1=[\"Malawi\", \"Medicine\", \"Tahoe\", \"Moraine\", \"Upper Arrow\", \"Plitvice\", \"Edith\", \"Emerald\"]"
   ]
  },
  {
   "cell_type": "code",
   "execution_count": 54,
   "id": "10148976",
   "metadata": {},
   "outputs": [
    {
     "data": {
      "text/plain": [
       "['Upper Arrow',\n",
       " 'Medicine',\n",
       " 'Plitvice',\n",
       " 'Moraine',\n",
       " 'Emerald',\n",
       " 'Malawi',\n",
       " 'Tahoe',\n",
       " 'Edith']"
      ]
     },
     "execution_count": 54,
     "metadata": {},
     "output_type": "execute_result"
    }
   ],
   "source": [
    "sorted(lakes1,key=len,reverse=True)"
   ]
  },
  {
   "cell_type": "code",
   "execution_count": 56,
   "id": "4f0e57aa",
   "metadata": {},
   "outputs": [
    {
     "name": "stdout",
     "output_type": "stream",
     "text": [
      "3 5\n"
     ]
    }
   ],
   "source": [
    "s1= \"python language is good\"\n",
    "s2= \"great language is python\"\n",
    "common=len(set(s1.split()).intersection(set(s2.split())))\n",
    "unique=len(set(s1.split()).union(set(s2.split())))\n",
    "print(common,unique)"
   ]
  },
  {
   "cell_type": "code",
   "execution_count": 61,
   "id": "9db6c708",
   "metadata": {},
   "outputs": [],
   "source": [
    "s11=s1.split()\n",
    "s12=s2.split()"
   ]
  },
  {
   "cell_type": "code",
   "execution_count": 62,
   "id": "5dd00ec7",
   "metadata": {},
   "outputs": [],
   "source": [
    "set1=set(s11)"
   ]
  },
  {
   "cell_type": "code",
   "execution_count": 63,
   "id": "819a978e",
   "metadata": {},
   "outputs": [],
   "source": [
    "set2=set(s12)"
   ]
  },
  {
   "cell_type": "code",
   "execution_count": 65,
   "id": "2c2bddef",
   "metadata": {},
   "outputs": [
    {
     "data": {
      "text/plain": [
       "5"
      ]
     },
     "execution_count": 65,
     "metadata": {},
     "output_type": "execute_result"
    }
   ],
   "source": [
    "len(set1.union(set2))"
   ]
  },
  {
   "cell_type": "code",
   "execution_count": 68,
   "id": "2b3b51c1",
   "metadata": {},
   "outputs": [],
   "source": [
    "# simple if \n",
    "# if your eligible for voting \n",
    "age=12\n",
    "\n",
    "if age>18:\n",
    "    print(\" your are eligible to vote\")"
   ]
  },
  {
   "cell_type": "code",
   "execution_count": 69,
   "id": "a5f42231",
   "metadata": {},
   "outputs": [
    {
     "name": "stdout",
     "output_type": "stream",
     "text": [
      "your are not eligible\n"
     ]
    }
   ],
   "source": [
    "# if else \n",
    "age=12\n",
    "if age>18:\n",
    "    print(\" your are eligible to vote \")\n",
    "else:\n",
    "    print(\"your are not eligible\")"
   ]
  },
  {
   "cell_type": "code",
   "execution_count": 70,
   "id": "65e280a3",
   "metadata": {},
   "outputs": [
    {
     "name": "stdout",
     "output_type": "stream",
     "text": [
      "enter the number to check23\n",
      " the number is odd\n"
     ]
    }
   ],
   "source": [
    "number=int(input(\"enter the number to check\"))\n",
    "if number%2==0:\n",
    "    print(\"the number is even \")\n",
    "else:\n",
    "    print(\" the number is odd\")"
   ]
  },
  {
   "cell_type": "code",
   "execution_count": 71,
   "id": "e7e85d35",
   "metadata": {},
   "outputs": [
    {
     "name": "stdout",
     "output_type": "stream",
     "text": [
      "given num is divisble by 3 and not by 2 \n"
     ]
    }
   ],
   "source": [
    "# nested if else \n",
    "a=21\n",
    "if a%2==0:\n",
    "    if a%3==0:\n",
    "        print(\"given num is divisble by 2 and3\")\n",
    "    else:\n",
    "         print(\"given num is divisble by 2 but not by 3\")\n",
    "else:\n",
    "    if a%3==0:\n",
    "        print(\"given num is divisble by 3 and not by 2 \")\n",
    "    else:\n",
    "        print(\"given num is not divisble by 3 and  2 \")\n",
    "    \n",
    "        "
   ]
  },
  {
   "cell_type": "code",
   "execution_count": 73,
   "id": "9ebcd654",
   "metadata": {},
   "outputs": [
    {
     "name": "stdout",
     "output_type": "stream",
     "text": [
      "c is greater\n"
     ]
    }
   ],
   "source": [
    "#greatest of 3 numbers \n",
    "a=20\n",
    "b=40\n",
    "c=70\n",
    "if a>b:\n",
    "    if a>c:\n",
    "        print(\"a is greater\")\n",
    "    else:\n",
    "        print(\"c is greater\")\n",
    "else:\n",
    "    if b>c:\n",
    "        print(\"b is greater\")\n",
    "    else:\n",
    "        print(\"c is greater\")"
   ]
  }
 ],
 "metadata": {
  "kernelspec": {
   "display_name": "Python 3 (ipykernel)",
   "language": "python",
   "name": "python3"
  },
  "language_info": {
   "codemirror_mode": {
    "name": "ipython",
    "version": 3
   },
   "file_extension": ".py",
   "mimetype": "text/x-python",
   "name": "python",
   "nbconvert_exporter": "python",
   "pygments_lexer": "ipython3",
   "version": "3.10.9"
  }
 },
 "nbformat": 4,
 "nbformat_minor": 5
}
