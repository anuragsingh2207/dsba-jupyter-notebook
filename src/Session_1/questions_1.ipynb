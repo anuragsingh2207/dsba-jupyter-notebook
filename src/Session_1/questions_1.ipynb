{
 "cells": [
  {
   "cell_type": "markdown",
   "metadata": {},
   "source": [
    "```\n",
    "Session 1 Questions\n",
    "```"
   ]
  },
  {
   "cell_type": "markdown",
   "metadata": {},
   "source": [
    "```\n",
    "1. How will you pint the string This is dad's gift or Hi \"Sanjay\" or 20;30; 40 !!!\n",
    "```"
   ]
  },
  {
   "cell_type": "code",
   "execution_count": 1,
   "metadata": {
    "notebookRunGroups": {
     "groupValue": ""
    }
   },
   "outputs": [
    {
     "name": "stdout",
     "output_type": "stream",
     "text": [
      "This is dad's gift\n",
      "Hi \"Sanjay\" \n",
      "20;30; 40 !!!\n"
     ]
    }
   ],
   "source": [
    "print(\"This is dad's gift\")\n",
    "\n",
    "print('''Hi \"Sanjay\" ''')\n",
    "\n",
    "print(\"20;30; 40 !!!\")"
   ]
  },
  {
   "cell_type": "markdown",
   "metadata": {},
   "source": [
    "``` \n",
    "2. Accept any three string from one input() call and store it in separate variables\n",
    "```"
   ]
  },
  {
   "cell_type": "code",
   "execution_count": 3,
   "metadata": {},
   "outputs": [
    {
     "name": "stdout",
     "output_type": "stream",
     "text": [
      "Entered input strings are: hello,world,python\n"
     ]
    }
   ],
   "source": [
    "str1, str2, str3 = input(\"Enter 3 input strings:\").split(' ')\n",
    "\n",
    "print (\"Entered input strings are:\", str1+\",\"+str2+\",\"+str3)"
   ]
  },
  {
   "cell_type": "markdown",
   "metadata": {},
   "source": [
    "```\n",
    "3. Split an email address into a user name and a domain\n",
    "```"
   ]
  },
  {
   "cell_type": "code",
   "execution_count": 4,
   "metadata": {},
   "outputs": [
    {
     "name": "stdout",
     "output_type": "stream",
     "text": [
      "Username: abc\n",
      "Domain: xyz.com\n"
     ]
    }
   ],
   "source": [
    "email = input(\"Enter your email address:\")\n",
    "\n",
    "username,domain = email.split('@')\n",
    "\n",
    "print(\"Username:\",username)\n",
    "print(\"Domain:\",domain)"
   ]
  },
  {
   "cell_type": "markdown",
   "metadata": {},
   "source": [
    "```\n",
    "4. Accept date in DD/MM/YYYY format, as a string. \n",
    "MM/DD \n",
    "YYYY/MM/DD string format. \n",
    "```"
   ]
  },
  {
   "cell_type": "code",
   "execution_count": 5,
   "metadata": {},
   "outputs": [
    {
     "name": "stdout",
     "output_type": "stream",
     "text": [
      "MM/DD 08/15\n",
      "YYYY/MM/DD 1947/08/15\n"
     ]
    }
   ],
   "source": [
    "date = input(\"Enter date in DD/MM/YYYY format\")\n",
    "\n",
    "dd, mm, yy = date.split('/')\n",
    "print(\"MM/DD\", mm+\"/\"+dd)\n",
    "\n",
    "print(\"YYYY/MM/DD\", yy+\"/\"+mm+\"/\"+dd)"
   ]
  },
  {
   "cell_type": "markdown",
   "metadata": {},
   "source": [
    "```\n",
    "5. Find the output \n",
    "a = \"Badenrttemberg\"\n",
    "b = \"Badenrttemberg\"\n",
    "a is b\n",
    "```"
   ]
  },
  {
   "cell_type": "code",
   "execution_count": 6,
   "metadata": {},
   "outputs": [
    {
     "name": "stdout",
     "output_type": "stream",
     "text": [
      "Both strings match\n",
      "True\n"
     ]
    }
   ],
   "source": [
    "\n",
    "a = \"Badenrttemberg\"\n",
    "b = \"Badenrttemberg\"\n",
    "\n",
    "if a == b:\n",
    "    print(\"Both strings match\")\n",
    "else:\n",
    "    print(\"Both strings do not match\") \n",
    "\n",
    "\n",
    "print(a==b)       "
   ]
  },
  {
   "cell_type": "markdown",
   "metadata": {},
   "source": [
    "```\n",
    "6. Try to find out the hidden sentence using Slicing. The solution consists of 2 steps!\n",
    "\n",
    "s = \"TPoyrtohnotno  ciosu rtshees  lianr gTeosrto nCtiot yb yi nB oCdaennasdeao\"\n",
    "```"
   ]
  },
  {
   "cell_type": "code",
   "execution_count": 7,
   "metadata": {},
   "outputs": [],
   "source": [
    "\n",
    "s = \"TPoyrtohnotno  ciosu rtshees  lianr gTeosrto nCtiot yb yi nB oCdaennasdeao\""
   ]
  },
  {
   "cell_type": "markdown",
   "metadata": {},
   "source": [
    "```\n",
    "7. Find the maximum of 3 numbers\n",
    "```"
   ]
  },
  {
   "cell_type": "code",
   "execution_count": 9,
   "metadata": {},
   "outputs": [
    {
     "name": "stdout",
     "output_type": "stream",
     "text": [
      "3 is the largest number\n"
     ]
    }
   ],
   "source": [
    "\n",
    "num1, num2, num3 = input(\"Enter 3 numbers:\").split(' ')\n",
    "\n",
    "if num1 >= num2 and num1 >= num3:\n",
    "    print(num1+\" is the largest number\")\n",
    "elif num2 >= num1 and num2 >= num3:\n",
    "    print(num2+\" is the largest number\")\n",
    "else:\n",
    "    print(num3+\" is the largest number\")   \n",
    "    "
   ]
  },
  {
   "cell_type": "markdown",
   "metadata": {},
   "source": [
    "```\n",
    "8. Python Program to exchange the values of two numbers without using a temporary variable\n",
    "```"
   ]
  },
  {
   "cell_type": "code",
   "execution_count": 10,
   "metadata": {},
   "outputs": [
    {
     "name": "stdout",
     "output_type": "stream",
     "text": [
      "Before swapping a=2 b=3\n",
      "After swapping a=3 b=2\n"
     ]
    }
   ],
   "source": [
    "\n",
    "a = 2\n",
    "b = 3\n",
    "\n",
    "print(\"Before swapping a=\"+str(a)+\" b=\"+str(b))\n",
    "\n",
    "a = a+b\n",
    "b= a-b\n",
    "a =a-b\n",
    "\n",
    "print(\"After swapping a=\"+str(a)+\" b=\"+str(b))"
   ]
  },
  {
   "cell_type": "markdown",
   "metadata": {},
   "source": [
    "```\n",
    "9. Write a program that asks the user to enter a string of at least six characters. Then print out the following: \n",
    "(a) The string backwards\n",
    "(b) Every character of the string except the last one\n",
    "(c) Every character of the string except the first and last\n",
    "(d) If the string contains a lowercase a, print out the index of the first a. Otherwise say that there is no lowercase a\n",
    "(e) The string in all caps\n",
    "(f) The string with every space replaced with an underscore\n",
    "```"
   ]
  },
  {
   "cell_type": "code",
   "execution_count": 11,
   "metadata": {},
   "outputs": [
    {
     "name": "stdout",
     "output_type": "stream",
     "text": [
      "Entered String length is greater than or equal to 6 characters\n",
      "Reversed String:  erolagnaB\n",
      "Printing every character of the string except the last one:  Bangalor\n",
      "Printing every character of the string except the first and last:  angalor\n",
      "Upper Case: BANGALORE\n"
     ]
    }
   ],
   "source": [
    "str1 = input(\"Enter a string of 6 or more characters:\")\n",
    "\n",
    "str2 = \" \"\n",
    "str3 = \" \"\n",
    "\n",
    "i = len(str1) - 1\n",
    "if (i>=6):\n",
    "    print(\"Entered String length is greater than or equal to 6 characters\")\n",
    "    while (i >= 0):\n",
    "        str2 = str2 + str1[i]\n",
    "        i = i - 1\n",
    "else:\n",
    "    print(\"Entered String length is less than 6 characters\")        \n",
    "    while (i >= 0):\n",
    "            str2 = str2 + str1[i]\n",
    "            i = i - 1\n",
    "\n",
    "print(\"Reversed String: \"+str2)\n",
    "\n",
    "element = 0\n",
    "length = len(str1) - 2\n",
    "while (element <= length):\n",
    "        str3 = str3 + str1[element]\n",
    "        element = element + 1\n",
    "\n",
    "print(\"Printing every character of the string except the last one: \"+str3)\n",
    "\n",
    "str4 = \" \"\n",
    "\n",
    "j = 1\n",
    "length = len(str1) - 2\n",
    "while (j <= length):\n",
    "        str4 = str4 + str1[j]\n",
    "        j = j + 1\n",
    "\n",
    "print(\"Printing every character of the string except the first and last: \"+str4)\n",
    "\n",
    "upper = str1.upper()\n",
    "\n",
    "print(\"Upper Case: \"+upper)\n"
   ]
  },
  {
   "cell_type": "code",
   "execution_count": 13,
   "metadata": {},
   "outputs": [
    {
     "name": "stdout",
     "output_type": "stream",
     "text": [
      "Output String:   erolagnaB\n"
     ]
    }
   ],
   "source": [
    "str1 = input(\"Enter a string of 6 or more characters:\")\n",
    "\n",
    "p = 0\n",
    "\n",
    "while p<len(str1):\n",
    "      if str1[p] == \" \":\n",
    "         str2=str1.replace(\" \",\"_\")\n",
    "      p = p + 1\n",
    "      \n",
    "print(\"Output String: \",str2)"
   ]
  }
 ],
 "metadata": {
  "kernelspec": {
   "display_name": "pyenv",
   "language": "python",
   "name": "python3"
  },
  "language_info": {
   "codemirror_mode": {
    "name": "ipython",
    "version": 3
   },
   "file_extension": ".py",
   "mimetype": "text/x-python",
   "name": "python",
   "nbconvert_exporter": "python",
   "pygments_lexer": "ipython3",
   "version": "3.11.6"
  }
 },
 "nbformat": 4,
 "nbformat_minor": 2
}
