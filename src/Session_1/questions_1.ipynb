{
 "cells": [
  {
   "cell_type": "markdown",
   "metadata": {},
   "source": [
    "Session 1 Questions"
   ]
  },
  {
   "cell_type": "markdown",
   "metadata": {},
   "source": [
    "1. How will you pint the string This is dad's gift or Hi \"Sanjay\" or 20;30; 40 !!!"
   ]
  },
  {
   "cell_type": "code",
   "execution_count": 1,
   "metadata": {},
   "outputs": [
    {
     "name": "stdout",
     "output_type": "stream",
     "text": [
      "This is dad's gift\n",
      "Hi \"Sanjay\" \n",
      "20;30; 40 !!!\n"
     ]
    }
   ],
   "source": [
    "print(\"This is dad's gift\")\n",
    "\n",
    "print('''Hi \"Sanjay\" ''')\n",
    "\n",
    "print(\"20;30; 40 !!!\")"
   ]
  },
  {
   "cell_type": "markdown",
   "metadata": {},
   "source": [
    "2. Accept any three string from one input() call and store it in separate variables"
   ]
  },
  {
   "cell_type": "code",
   "execution_count": 2,
   "metadata": {},
   "outputs": [
    {
     "name": "stdout",
     "output_type": "stream",
     "text": [
      "Entered input strings are: hello,world,python\n"
     ]
    }
   ],
   "source": [
    "str1, str2, str3 = input(\"Enter 3 input strings:\").split(' ')\n",
    "\n",
    "print (\"Entered input strings are:\", str1+\",\"+str2+\",\"+str3)\n"
   ]
  },
  {
   "cell_type": "markdown",
   "metadata": {},
   "source": [
    "3. Split an email address into a user name and a domain"
   ]
  },
  {
   "cell_type": "code",
   "execution_count": null,
   "metadata": {},
   "outputs": [],
   "source": [
    "email = input(\"Enter your email address:\")\n",
    "\n",
    "username,domain = email.split('@')\n",
    "\n",
    "print(\"Username:\",username)\n",
    "print(\"Domain:\",domain)"
   ]
  },
  {
   "cell_type": "markdown",
   "metadata": {},
   "source": [
    "4. Accept date in DD/MM/YYYY format, as a string. \n",
    "MM/DD \n",
    "YYYY/MM/DD string format. "
   ]
  },
  {
   "cell_type": "code",
   "execution_count": 3,
   "metadata": {},
   "outputs": [
    {
     "name": "stdout",
     "output_type": "stream",
     "text": [
      "MM/DD 08/15\n",
      "YYYY/MM/DD 1947/08/15\n"
     ]
    }
   ],
   "source": [
    "date = input(\"Enter date in DD/MM/YYYY format\")\n",
    "\n",
    "dd, mm, yy = date.split('/')\n",
    "print(\"MM/DD\", mm+\"/\"+dd)\n",
    "\n",
    "print(\"YYYY/MM/DD\", yy+\"/\"+mm+\"/\"+dd)"
   ]
  },
  {
   "cell_type": "markdown",
   "metadata": {},
   "source": [
    "5. Find the output \n",
    "a = \"Badenrttemberg\"\n",
    "b = \"Badenrttemberg\"\n",
    "a is b"
   ]
  },
  {
   "cell_type": "code",
   "execution_count": null,
   "metadata": {},
   "outputs": [],
   "source": [
    "a = \"Badenrttemberg\"\n",
    "b = \"Badenrttemberg\"\n",
    "\n",
    "if a == b:\n",
    "    print(\"Both strings match\")\n",
    "else:\n",
    "    print(\"Both strings do not match\") \n",
    "\n",
    "\n",
    "print(a==b)   \n"
   ]
  },
  {
   "cell_type": "markdown",
   "metadata": {},
   "source": [
    "6. \"Try to find out the hidden sentence using Slicing. The solution consists of 2 steps!\n",
    "\n",
    "s = \"TPoyrtohnotno  ciosu rtshees  lianr gTeosrto nCtiot yb yi nB oCdaennasdeao"
   ]
  },
  {
   "cell_type": "code",
   "execution_count": 4,
   "metadata": {},
   "outputs": [
    {
     "name": "stdout",
     "output_type": "stream",
     "text": [
      "TPoyrtohnotno  ciosu rtshees  lianr gTeosrto nCtiot yb yi nB oCdaennasdeao\n",
      "Toronto is the largest City in Canada\n",
      "Python courses in Toronto by Bodenseo\n"
     ]
    }
   ],
   "source": [
    "s = \"TPoyrtohnotno  ciosu rtshees  lianr gTeosrto nCtiot yb yi nB oCdaennasdeao\"\n",
    "print(s)\n",
    "print(s[::2])\n",
    "print(s[1::2])\n",
    "\n"
   ]
  },
  {
   "cell_type": "markdown",
   "metadata": {},
   "source": [
    "7. Find the maximum of 3 numbers"
   ]
  },
  {
   "cell_type": "code",
   "execution_count": null,
   "metadata": {},
   "outputs": [],
   "source": [
    "num1, num2, num3 = input(\"Enter 3 numbers:\").split(' ')\n",
    "\n",
    "if num1 >= num2 and num1 >= num3:\n",
    "    print(num1+\" is the largest number\")\n",
    "elif num2 >= num1 and num2 >= num3:\n",
    "    print(num2+\" is the largest number\")\n",
    "else:\n",
    "    print(num3+\" is the largest number\") "
   ]
  },
  {
   "cell_type": "markdown",
   "metadata": {},
   "source": [
    "8. Python Program to exchange the values of two numbers without using a temporary variable"
   ]
  },
  {
   "cell_type": "code",
   "execution_count": null,
   "metadata": {},
   "outputs": [],
   "source": [
    "a = 2\n",
    "b = 3\n",
    "\n",
    "print(\"Before swapping a=\"+str(a)+\" b=\"+str(b))\n",
    "\n",
    "a = a+b\n",
    "b= a-b\n",
    "a =a-b\n",
    "\n",
    "print(\"After swapping a=\"+str(a)+\" b=\"+str(b))"
   ]
  },
  {
   "cell_type": "markdown",
   "metadata": {},
   "source": [
    "9. Write a program that asks the user to enter a string of at least six characters. Then print out the following: \n",
    "(a) The string backwards\n",
    "(b) Every character of the string except the last one\n",
    "(c) Every character of the string except the first and last\n",
    "(d) If the string contains a lowercase 'a', print out the index of the first a. Otherwise say that there is no lowercase 'a'\n",
    "(e) The string in all caps\n",
    "(f) The string with every space replaced with an underscore"
   ]
  },
  {
   "cell_type": "code",
   "execution_count": 9,
   "metadata": {},
   "outputs": [
    {
     "name": "stdout",
     "output_type": "stream",
     "text": [
      "Entered String length is greater than or equal to 6 characters\n",
      "a)The string backwards:  erolagnaB\n",
      "b)Every character of the string except the last one:  Bangalor\n",
      "c)Every character of the string except the first and last:  angalor\n",
      "e) The string in all caps: BANGALORE\n"
     ]
    }
   ],
   "source": [
    "str1 = input(\"Enter a string of 6 or more characters:\")\n",
    "\n",
    "str2 = \" \"\n",
    "str3 = \" \"\n",
    "\n",
    "i = len(str1) - 1\n",
    "if (i>=6):\n",
    "    print(\"Entered String length is greater than or equal to 6 characters\")\n",
    "    while (i >= 0):\n",
    "        str2 = str2 + str1[i]\n",
    "        i = i - 1\n",
    "else:\n",
    "    print(\"Entered String length is less than 6 characters\")        \n",
    "    while (i >= 0):\n",
    "            str2 = str2 + str1[i]\n",
    "            i = i - 1\n",
    "\n",
    "print(\"a)The string backwards: \"+str2)\n",
    "\n",
    "element = 0\n",
    "length = len(str1) - 2\n",
    "while (element <= length):\n",
    "        str3 = str3 + str1[element]\n",
    "        element = element + 1\n",
    "\n",
    "print(\"b)Every character of the string except the last one: \"+str3)\n",
    "\n",
    "str4 = \" \"\n",
    "\n",
    "j = 1\n",
    "length = len(str1) - 2\n",
    "while (j <= length):\n",
    "        str4 = str4 + str1[j]\n",
    "        j = j + 1\n",
    "\n",
    "print(\"c)Every character of the string except the first and last: \"+str4)\n",
    "\n",
    "\n",
    "upper = str1.upper()\n",
    "\n",
    "print(\"e) The string in all caps: \"+upper)\n",
    "\n",
    "\n"
   ]
  },
  {
   "cell_type": "code",
   "execution_count": 17,
   "metadata": {},
   "outputs": [
    {
     "name": "stdout",
     "output_type": "stream",
     "text": [
      "d)The first lowercase 'a' found at index: 1\n"
     ]
    }
   ],
   "source": [
    "a_str1 = input(\"Enter a string of 6 or more characters:\")\n",
    "\n",
    "match = 0\n",
    "index = 0\n",
    "lowercase_a_list = []\n",
    "\n",
    "\n",
    "while index < (len(a_str1)-1):\n",
    "      if  a_str1[index]=='a':\n",
    "            lowercase_a_list.append(index)\n",
    "            match = match +1\n",
    "      index = index + 1\n",
    "\n",
    "if match == 0:\n",
    "      print(\"There is no lowercase 'a'\")\n",
    "else:\n",
    "      print(\"d)The first lowercase 'a' found at index:\",lowercase_a_list[0])\n"
   ]
  },
  {
   "cell_type": "code",
   "execution_count": 15,
   "metadata": {},
   "outputs": [
    {
     "name": "stdout",
     "output_type": "stream",
     "text": [
      "f)String with \" \" replaced as \"_\":  Bang_galore\n"
     ]
    }
   ],
   "source": [
    "space_str1 = input(\"Enter a string of 6 or more characters:\")\n",
    "p = 0\n",
    "\n",
    "while p<len(space_str1):\n",
    "      if space_str1[p] == \" \":\n",
    "         space_str2=space_str1.replace(\" \",\"_\")\n",
    "      p = p + 1\n",
    "      \n",
    "print('''f)String with \" \" replaced as \"_\": ''',space_str2)\n"
   ]
  }
 ],
 "metadata": {
  "kernelspec": {
   "display_name": "pyenv",
   "language": "python",
   "name": "python3"
  },
  "language_info": {
   "codemirror_mode": {
    "name": "ipython",
    "version": 3
   },
   "file_extension": ".py",
   "mimetype": "text/x-python",
   "name": "python",
   "nbconvert_exporter": "python",
   "pygments_lexer": "ipython3",
   "version": "3.11.7"
  }
 },
 "nbformat": 4,
 "nbformat_minor": 2
}
