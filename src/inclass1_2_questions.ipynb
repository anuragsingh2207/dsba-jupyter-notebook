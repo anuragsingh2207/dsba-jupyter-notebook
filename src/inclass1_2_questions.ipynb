{
 "cells": [
  {
   "cell_type": "markdown",
   "metadata": {
    "colab_type": "text",
    "id": "0yzl3MKzf98L"
   },
   "source": [
    "<table align=\"center\" width=100%>\n",
    "    <tr>\n",
    "        <td width=\"10%\">\n",
    "            <img src=\"in_class.png\">\n",
    "        </td>\n",
    "        <td>\n",
    "            <div align=\"center\">\n",
    "                <font color=\"#21618C\" size=8px>\n",
    "                    <b> Inclass-Lab  <br>(Session 1 & 2)\n",
    "                    </b>\n",
    "                </font>\n",
    "            </div>\n",
    "        </td>\n",
    "    </tr>\n",
    "</table>"
   ]
  },
  {
   "cell_type": "markdown",
   "metadata": {
    "colab_type": "text",
    "id": "LFqGx_Dhf98M"
   },
   "source": [
    "## Table of Content\n",
    "\n",
    "1. **[Using print()](#print)**\n",
    "2. **[Data types](#types)**\n",
    "3. **[Arithmetic Operations](#arithmetic)**\n",
    "4. **[Boolean Operations](#boolean)**\n",
    "5. **[Concatenation](#concatenation)**\n",
    "6. **[String](#string)**\n",
    "7. **[List](#list)**\n",
    "8. **[Tuple](#tuple)**\n",
    "9. **[Set](#set)**\n",
    "10. **[Dictionary](#dict)**\n",
    "11. **[Conditional Statements](#cond)**\n",
    "12. **[Python Flow Control](#flow_control)**\n",
    "13. **[List Comprehension](#lc)**\n",
    "14. **[User-Define Function](#User_Define)**\n",
    "15. **[Lambda Functions](#Lambda_Functions)**\n",
    "    - 15.1 **[Map Function](#Map_Function)**\n",
    "    - 15.2 **[Filter Function](#Filter_Function)**\n",
    "    - 15.3 **[Reduce Function](#Reduce_Function)**"
   ]
  },
  {
   "cell_type": "markdown",
   "metadata": {
    "colab_type": "text",
    "id": "psOYFu6zf98N"
   },
   "source": [
    "### Let's begin with some hands-on practice exercises"
   ]
  },
  {
   "cell_type": "markdown",
   "metadata": {
    "colab_type": "text",
    "id": "r4J-iIEhf98N"
   },
   "source": [
    "<a id=\"print\"> </a>\n",
    "## 1. Using print()"
   ]
  },
  {
   "cell_type": "markdown",
   "metadata": {
    "colab_type": "text",
    "id": "77vuf1DVf98O"
   },
   "source": [
    "<table align=\"left\">\n",
    "    <tr>\n",
    "        <td width=\"6%\">\n",
    "            <img src=\"question_icon.png\">\n",
    "        </td>\n",
    "        <td>\n",
    "            <div align=\"left\", style=\"font-size:120%\">\n",
    "                <font color=\"#21618C\">\n",
    "                    <b>1. To display a statement. For example, \"Hello, How are you?\" </b>\n",
    "                </font>\n",
    "            </div>\n",
    "        </td>\n",
    "    </tr>\n",
    "</table>"
   ]
  },
  {
   "cell_type": "code",
   "execution_count": 1,
   "metadata": {
    "colab": {},
    "colab_type": "code",
    "id": "TZatTfxJjAUr"
   },
   "outputs": [
    {
     "name": "stdout",
     "output_type": "stream",
     "text": [
      "Hello, How are you?\n"
     ]
    }
   ],
   "source": [
    "# type your code here\n",
    "print(\"Hello, How are you?\")"
   ]
  },
  {
   "cell_type": "markdown",
   "metadata": {
    "colab_type": "text",
    "id": "9qnEEhR4f98X"
   },
   "source": [
    "<table align=\"left\">\n",
    "    <tr>\n",
    "        <td width=\"6%\">\n",
    "            <img src=\"question_icon.png\">\n",
    "        </td>\n",
    "        <td>\n",
    "            <div align=\"left\", style=\"font-size:120%\">\n",
    "                <font color=\"#21618C\">\n",
    "                    <b>2. Write the alphabets 'A', 'B', 'C' on new lines using a single print function. </b>\n",
    "                </font>\n",
    "            </div>\n",
    "        </td>\n",
    "    </tr>\n",
    "</table>"
   ]
  },
  {
   "cell_type": "code",
   "execution_count": 6,
   "metadata": {
    "colab": {},
    "colab_type": "code",
    "id": "SdmwGdgxjAUz"
   },
   "outputs": [
    {
     "name": "stdout",
     "output_type": "stream",
     "text": [
      "A\n",
      "B\n",
      "C\n"
     ]
    }
   ],
   "source": [
    "# type your code here\n",
    "\n",
    "print('A','B','C', sep='\\n')"
   ]
  },
  {
   "cell_type": "markdown",
   "metadata": {
    "colab_type": "text",
    "id": "QLSslfFdf98b"
   },
   "source": [
    "<a id=\"types\"> </a>\n",
    "## 2. Data types"
   ]
  },
  {
   "cell_type": "markdown",
   "metadata": {
    "colab_type": "text",
    "id": "6YXVLVi9f98b"
   },
   "source": [
    "<table align=\"left\">\n",
    "    <tr>\n",
    "        <td width=\"6%\">\n",
    "            <img src=\"question_icon.png\">\n",
    "        </td>\n",
    "        <td>\n",
    "            <div align=\"left\", style=\"font-size:120%\">\n",
    "                <font color=\"#21618C\">\n",
    "                    <b>3. Create a string, a numeric and boolean variables by assigning variable names. Further, check their datatype. For numeric variable check for whole numbers and numbers with decimal point.</b>\n",
    "                </font>\n",
    "            </div>\n",
    "        </td>\n",
    "    </tr>\n",
    "</table>"
   ]
  },
  {
   "cell_type": "markdown",
   "metadata": {
    "colab_type": "text",
    "id": "2R8Ix1P4f98c"
   },
   "source": [
    "**Declare a string variable and check its data type.**"
   ]
  },
  {
   "cell_type": "code",
   "execution_count": 1,
   "metadata": {
    "colab": {},
    "colab_type": "code",
    "id": "G9tUhjLzjAU4"
   },
   "outputs": [
    {
     "name": "stdout",
     "output_type": "stream",
     "text": [
      "<class 'str'>\n"
     ]
    }
   ],
   "source": [
    "# type your code here\n",
    "\n",
    "str1 = \"hello\"\n",
    "\n",
    "print(type(str1))"
   ]
  },
  {
   "cell_type": "markdown",
   "metadata": {
    "colab_type": "text",
    "id": "3txBZsy1f98f"
   },
   "source": [
    "**Declare a numeric variable and check its data type.** <br>\n",
    "i. An interger variable."
   ]
  },
  {
   "cell_type": "code",
   "execution_count": 2,
   "metadata": {
    "colab": {},
    "colab_type": "code",
    "id": "YLEBSRgwjAU7"
   },
   "outputs": [
    {
     "name": "stdout",
     "output_type": "stream",
     "text": [
      "<class 'int'>\n"
     ]
    }
   ],
   "source": [
    "# type your code here\n",
    "\n",
    "int1 = 123\n",
    "\n",
    "print(type(int1))"
   ]
  },
  {
   "cell_type": "markdown",
   "metadata": {
    "colab_type": "text",
    "id": "9pgoDopkf98i"
   },
   "source": [
    "ii. A fractional variable"
   ]
  },
  {
   "cell_type": "code",
   "execution_count": 3,
   "metadata": {
    "colab": {},
    "colab_type": "code",
    "id": "-MnJNs3wjAU_"
   },
   "outputs": [
    {
     "name": "stdout",
     "output_type": "stream",
     "text": [
      "<class 'float'>\n"
     ]
    }
   ],
   "source": [
    "# type your code here\n",
    "\n",
    "float1 = 3.1419\n",
    "\n",
    "print(type(float1))"
   ]
  },
  {
   "cell_type": "markdown",
   "metadata": {
    "colab_type": "text",
    "id": "97TYsEBdf98m"
   },
   "source": [
    "**Declare a boolean variable and check its data type.**"
   ]
  },
  {
   "cell_type": "code",
   "execution_count": 4,
   "metadata": {
    "colab": {},
    "colab_type": "code",
    "id": "Mm0NJf89jAVC"
   },
   "outputs": [
    {
     "name": "stdout",
     "output_type": "stream",
     "text": [
      "<class 'bool'>\n"
     ]
    }
   ],
   "source": [
    "# type your code here\n",
    "\n",
    "bool1 = True\n",
    "\n",
    "print(type(bool1))"
   ]
  },
  {
   "cell_type": "markdown",
   "metadata": {
    "colab_type": "text",
    "id": "iZkGr2rTf98y"
   },
   "source": [
    "<table align=\"left\">\n",
    "    <tr>\n",
    "        <td width=\"6%\">\n",
    "            <img src=\"question_icon.png\">\n",
    "        </td>\n",
    "        <td>\n",
    "            <div align=\"left\", style=\"font-size:120%\">\n",
    "                <font color=\"#21618C\">\n",
    "                    <b>4. Create a numberic variable and convert it to a string.</b>\n",
    "                </font>\n",
    "            </div>\n",
    "        </td>\n",
    "    </tr>\n",
    "</table>"
   ]
  },
  {
   "cell_type": "code",
   "execution_count": 7,
   "metadata": {
    "colab": {},
    "colab_type": "code",
    "id": "TDy8puhijAVL"
   },
   "outputs": [],
   "source": [
    "# type your code here\n",
    "\n",
    "int_var = 156\n",
    "\n",
    "str_var = str(int_var)\n",
    "\n",
    "print(str_var)"
   ]
  },
  {
   "cell_type": "markdown",
   "metadata": {
    "colab_type": "text",
    "id": "OL9cj_rRf983"
   },
   "source": [
    "<a id=\"arithmetic\"></a>\n",
    "## 3. Arithmetic Operations"
   ]
  },
  {
   "cell_type": "markdown",
   "metadata": {
    "colab_type": "text",
    "id": "iOS1kKjWf983"
   },
   "source": [
    "<table align=\"left\">\n",
    "    <tr>\n",
    "        <td width=\"6%\">\n",
    "            <img src=\"question_icon.png\">\n",
    "        </td>\n",
    "        <td>\n",
    "            <div align=\"left\", style=\"font-size:120%\">\n",
    "                <font color=\"#21618C\">\n",
    "                    <b>5. Evaluate 145 into 354 minus 1345 divided by 45 plus (462 plus 23) divided by 3. </b>\n",
    "                </font>\n",
    "            </div>\n",
    "        </td>\n",
    "    </tr>\n",
    "</table>"
   ]
  },
  {
   "cell_type": "code",
   "execution_count": 5,
   "metadata": {
    "colab": {},
    "colab_type": "code",
    "id": "0WSGZCeQjAVO"
   },
   "outputs": [
    {
     "name": "stdout",
     "output_type": "stream",
     "text": [
      "51461.777777777774\n"
     ]
    }
   ],
   "source": [
    "# type your code here\n",
    "\n",
    "expr = (145 * 354) - (1345 / 45) + ((462 + 23) /3)\n",
    "\n",
    "print(expr)"
   ]
  },
  {
   "cell_type": "markdown",
   "metadata": {
    "colab_type": "text",
    "id": "XID79y2_f99O"
   },
   "source": [
    "<table align=\"left\">\n",
    "    <tr>\n",
    "        <td width=\"6%\">\n",
    "            <img src=\"question_icon.png\">\n",
    "        </td>\n",
    "        <td>\n",
    "            <div align=\"left\", style=\"font-size:120%\">\n",
    "                <font color=\"#21618C\">\n",
    "                    <b>6. Calculate BMI of a person (take input for height and weight from user).</b>\n",
    "                </font>\n",
    "            </div>\n",
    "        </td>\n",
    "    </tr>\n",
    "</table>"
   ]
  },
  {
   "cell_type": "code",
   "execution_count": 8,
   "metadata": {
    "colab": {},
    "colab_type": "code",
    "id": "8-izYT9kjAVU"
   },
   "outputs": [
    {
     "name": "stdout",
     "output_type": "stream",
     "text": [
      "BMI:  17.301038062283737\n"
     ]
    }
   ],
   "source": [
    "# type your code here\n",
    "w = float(input(\"Enter weight in kg:\"))\n",
    "h = float(input(\"Enter height in m:\"))\n",
    "\n",
    "bmi = w/(h**2)\n",
    "\n",
    "print(\"BMI: \", bmi)\n"
   ]
  },
  {
   "cell_type": "markdown",
   "metadata": {
    "colab_type": "text",
    "id": "AXxxJmhZf99c"
   },
   "source": [
    "<a id=\"boolean\"></a>\n",
    "## 4. Boolean Operations"
   ]
  },
  {
   "cell_type": "markdown",
   "metadata": {
    "colab_type": "text",
    "id": "nI9sO6ZZf99c"
   },
   "source": [
    "<table align=\"left\">\n",
    "    <tr>\n",
    "        <td width=\"6%\">\n",
    "            <img src=\"question_icon.png\">\n",
    "        </td>\n",
    "        <td>\n",
    "            <div align=\"left\", style=\"font-size:120%\">\n",
    "                <font color=\"#21618C\">\n",
    "                    <b>7. Check whether the expression (54+34)* 45 is equal to the expression (0.9*2432)/0.9 </b>\n",
    "                </font>\n",
    "            </div>\n",
    "        </td>\n",
    "    </tr>\n",
    "</table>"
   ]
  },
  {
   "cell_type": "code",
   "execution_count": 9,
   "metadata": {
    "colab": {},
    "colab_type": "code",
    "id": "ZcU5ccNkjAVf"
   },
   "outputs": [
    {
     "name": "stdout",
     "output_type": "stream",
     "text": [
      "Both expression are not equal\n"
     ]
    }
   ],
   "source": [
    "# type your code here\n",
    "\n",
    "expr1 = (54+34)*45\n",
    "\n",
    "expr2 = (0.9 * 2432)/0.9\n",
    "\n",
    "if expr1 == expr2:\n",
    "    print(\"Both expression are equal\")\n",
    "else:\n",
    "    print(\"Both expression are not equal\")"
   ]
  },
  {
   "cell_type": "markdown",
   "metadata": {
    "colab_type": "text",
    "id": "IShIieCJf99f"
   },
   "source": [
    "<a id=\"concatenation\"></a>\n",
    "## 5. Concatenation"
   ]
  },
  {
   "cell_type": "markdown",
   "metadata": {
    "colab_type": "text",
    "id": "3us7i6Inf99f"
   },
   "source": [
    "<table align=\"left\">\n",
    "    <tr>\n",
    "        <td width=\"6%\">\n",
    "            <img src=\"question_icon.png\">\n",
    "        </td>\n",
    "        <td>\n",
    "            <div align=\"left\", style=\"font-size:120%\">\n",
    "                <font color=\"#21618C\">\n",
    "                    <b>8. Create two strings and concatenate them using '+' operator. </b>\n",
    "                </font>\n",
    "            </div>\n",
    "        </td>\n",
    "    </tr>\n",
    "</table>"
   ]
  },
  {
   "cell_type": "code",
   "execution_count": 11,
   "metadata": {
    "colab": {},
    "colab_type": "code",
    "id": "sv3wPchOjAVi"
   },
   "outputs": [
    {
     "name": "stdout",
     "output_type": "stream",
     "text": [
      "hello world\n"
     ]
    }
   ],
   "source": [
    "# type your code here\n",
    "\n",
    "str1 = \"hello\"\n",
    "\n",
    "str2 = \"world\"\n",
    "\n",
    "print(str1+\" \"+str2)"
   ]
  },
  {
   "cell_type": "markdown",
   "metadata": {
    "colab_type": "text",
    "id": "Lzs2ddCwf99m"
   },
   "source": [
    "<table align=\"left\">\n",
    "    <tr>\n",
    "        <td width=\"6%\">\n",
    "            <img src=\"question_icon.png\">\n",
    "        </td>\n",
    "        <td>\n",
    "            <div align=\"left\", style=\"font-size:120%\">\n",
    "                <font color=\"#21618C\">\n",
    "                    <b>9. Concatenate the variables 'num = 34 and 'string ='How old are you?' using '+' operator. </b>\n",
    "                </font>\n",
    "            </div>\n",
    "        </td>\n",
    "    </tr>\n",
    "</table>"
   ]
  },
  {
   "cell_type": "code",
   "execution_count": 13,
   "metadata": {
    "colab": {},
    "colab_type": "code",
    "id": "d5rxobNtjAVk"
   },
   "outputs": [
    {
     "name": "stdout",
     "output_type": "stream",
     "text": [
      "34 How old are you?\n"
     ]
    }
   ],
   "source": [
    "# type your code here\n",
    "\n",
    "num1 = 34 \n",
    "string1 ='How old are you?'\n",
    "\n",
    "print(str(num1)+\" \"+string1)"
   ]
  },
  {
   "cell_type": "markdown",
   "metadata": {
    "colab_type": "text",
    "id": "GhwNCvTmf99O"
   },
   "source": [
    "<a id=\"string\"></a>\n",
    "## 6. String Operations"
   ]
  },
  {
   "cell_type": "markdown",
   "metadata": {
    "colab_type": "text",
    "id": "uNrOdvg8f99U"
   },
   "source": [
    "<table align=\"left\">\n",
    "    <tr>\n",
    "        <td width=\"6%\">\n",
    "            <img src=\"question_icon.png\">\n",
    "        </td>\n",
    "        <td>\n",
    "            <div align=\"left\", style=\"font-size:120%\">\n",
    "                <font color=\"#21618C\">\n",
    "                    <b>10. Given the string 'Today is a sunny day.' \n",
    "                        <ol > <li>  Write a code to get 'Today'  and 'sunny'. </li>\n",
    "                             <li>  Obtain the last two letters. </li>\n",
    "                             <li>  Write the statement backwards.</li>\n",
    "                        </ol> </b>\n",
    "                </font>\n",
    "            </div>\n",
    "        </td>\n",
    "    </tr>\n",
    "</table>"
   ]
  },
  {
   "cell_type": "code",
   "execution_count": 23,
   "metadata": {
    "colab": {},
    "colab_type": "code",
    "id": "26parQocjAVc"
   },
   "outputs": [
    {
     "name": "stdout",
     "output_type": "stream",
     "text": [
      "Today\n",
      "sunny \n",
      "ay\n",
      ".yad ynnus a si yadoT\n"
     ]
    }
   ],
   "source": [
    "# type your code here\n",
    "\n",
    "given_string = 'Today is a sunny day.' \n",
    "\n",
    "print(given_string[0:5])\n",
    "print(given_string[11:17])\n",
    "\n",
    "print(given_string[18:20])\n",
    "\n",
    "reversed_string = ''\n",
    "\n",
    "for i in given_string:\n",
    "    reversed_string = i + reversed_string\n",
    "\n",
    "print(reversed_string)    "
   ]
  },
  {
   "cell_type": "markdown",
   "metadata": {
    "colab_type": "text",
    "id": "xozR0EP9Hq77"
   },
   "source": [
    "<a id=\"list\"> </a>\n",
    "## 7. List"
   ]
  },
  {
   "cell_type": "markdown",
   "metadata": {
    "colab_type": "text",
    "id": "h-ajPgCZHq78"
   },
   "source": [
    "<table align=\"left\">\n",
    "    <tr>\n",
    "        <td width=\"6%\">\n",
    "            <img src=\"question_icon.png\">\n",
    "        </td>\n",
    "        <td>\n",
    "            <div align=\"left\", style=\"font-size:120%\">\n",
    "                <font color=\"#21618C\">\n",
    "                    <b>11. Write a program to perform following list operations on the list given below:<br><br>\n",
    "                        a. Check the length of mix_list_1<br>\n",
    "                        b. Check the membership of '24' in mix_list_1<br> \n",
    "                        c. Concatenate the mix_list_1 and mix_list_2<br>\n",
    "                        d. Repeat the mix_list_2 three times </b>\n",
    "                </font>\n",
    "            </div>\n",
    "        </td>\n",
    "    </tr>\n",
    "</table>"
   ]
  },
  {
   "cell_type": "code",
   "execution_count": 34,
   "metadata": {
    "colab_type": "text",
    "id": "y5fuZzHvHq78"
   },
   "outputs": [],
   "source": [
    "#**Lists to perform operations:**\n",
    "\n",
    "mix_list_1 = ['Learn', 24, 'Blue', False, -8]\n",
    "\n",
    "mix_list_2 = [4, 7, 'Summer']"
   ]
  },
  {
   "cell_type": "markdown",
   "metadata": {
    "colab_type": "text",
    "id": "fb4IvjnCHq79"
   },
   "source": [
    "**a. Check the length of mix_list_1**"
   ]
  },
  {
   "cell_type": "code",
   "execution_count": 28,
   "metadata": {
    "colab": {},
    "colab_type": "code",
    "id": "2LoU4Gt2Hq79"
   },
   "outputs": [
    {
     "name": "stdout",
     "output_type": "stream",
     "text": [
      "5\n"
     ]
    }
   ],
   "source": [
    "# type your code here\n",
    "\n",
    "print(len(mix_list_1))"
   ]
  },
  {
   "cell_type": "markdown",
   "metadata": {
    "colab_type": "text",
    "id": "EHjSh-veHq8C"
   },
   "source": [
    "**b. Check the membership of '24' in mix_list_1**"
   ]
  },
  {
   "cell_type": "code",
   "execution_count": 31,
   "metadata": {
    "colab": {},
    "colab_type": "code",
    "id": "xy0gdMTsHq8C"
   },
   "outputs": [
    {
     "name": "stdout",
     "output_type": "stream",
     "text": [
      "24 does not exist in the List\n",
      "24 exists in the List\n",
      "24 does not exist in the List\n",
      "24 does not exist in the List\n",
      "24 does not exist in the List\n"
     ]
    }
   ],
   "source": [
    "# type your code here\n",
    "for i in mix_list_1:\n",
    "    if i == 24:\n",
    "        print(\"24 exists in the List\")\n",
    "    else:\n",
    "        print(\"24 does not exist in the List\")   "
   ]
  },
  {
   "cell_type": "markdown",
   "metadata": {
    "colab_type": "text",
    "id": "NggnUh-sHq8F"
   },
   "source": [
    "**c. Concatenate the mix_list_1 and mix_list_2**"
   ]
  },
  {
   "cell_type": "code",
   "execution_count": 36,
   "metadata": {
    "colab": {},
    "colab_type": "code",
    "id": "zkokv2UxHq8F"
   },
   "outputs": [
    {
     "name": "stdout",
     "output_type": "stream",
     "text": [
      "['Learn', 24, 'Blue', False, -8, 4, 7, 'Summer', 4, 7, 'Summer']\n"
     ]
    }
   ],
   "source": [
    "# type your code here\n",
    "\n",
    "mix_list_1.extend(mix_list_2)\n",
    "\n",
    "print(mix_list_1)"
   ]
  },
  {
   "cell_type": "markdown",
   "metadata": {
    "colab_type": "text",
    "id": "KXnGgSLHHq8I"
   },
   "source": [
    "**d. Repeat the mix_list_2 three times**"
   ]
  },
  {
   "cell_type": "code",
   "execution_count": 39,
   "metadata": {
    "colab": {},
    "colab_type": "code",
    "id": "7_9BewysHq8I"
   },
   "outputs": [
    {
     "data": {
      "text/plain": [
       "[4, 7, 'Summer', 4, 7, 'Summer', 4, 7, 'Summer']"
      ]
     },
     "execution_count": 39,
     "metadata": {},
     "output_type": "execute_result"
    }
   ],
   "source": [
    "# type your code here\n",
    "mix_list_2*3\n"
   ]
  },
  {
   "cell_type": "markdown",
   "metadata": {
    "colab_type": "text",
    "id": "xNgztYzkHq8P"
   },
   "source": [
    "<table align=\"left\">\n",
    "    <tr>\n",
    "        <td width=\"6%\">\n",
    "            <img src=\"question_icon.png\">\n",
    "        </td>\n",
    "        <td>\n",
    "            <div align=\"left\", style=\"font-size:120%\">\n",
    "                <font color=\"#21618C\">\n",
    "                    <b>12. Write a code to retrieve elements from a list<br><br>\n",
    "                       a. First element<br>\n",
    "                       b. Second last element<br>\n",
    "                       c. First three elements<br>\n",
    "                       d. Slice the list from 1st index till the last index with an increment of an index by 2\n",
    "                    </b>\n",
    "                </font>\n",
    "            </div>\n",
    "        </td>\n",
    "    </tr>\n",
    "</table>"
   ]
  },
  {
   "cell_type": "code",
   "execution_count": 40,
   "metadata": {
    "colab_type": "text",
    "id": "C7-N9cjuHq8P"
   },
   "outputs": [],
   "source": [
    "#**Use the below list**\n",
    "\n",
    "mix_list = ['Python', 1, 2, 3, 'Data', True] "
   ]
  },
  {
   "cell_type": "markdown",
   "metadata": {
    "colab_type": "text",
    "id": "5gvhfoqGHq8Q"
   },
   "source": [
    "**a. First element**"
   ]
  },
  {
   "cell_type": "code",
   "execution_count": 41,
   "metadata": {
    "colab": {},
    "colab_type": "code",
    "id": "RnPABxeeHq8R"
   },
   "outputs": [
    {
     "name": "stdout",
     "output_type": "stream",
     "text": [
      "Python\n"
     ]
    }
   ],
   "source": [
    "# type your code here\n",
    "\n",
    "print(mix_list[0])"
   ]
  },
  {
   "cell_type": "markdown",
   "metadata": {
    "colab_type": "text",
    "id": "O4D_YwEEHq8U"
   },
   "source": [
    "**b. Second last element**"
   ]
  },
  {
   "cell_type": "code",
   "execution_count": 43,
   "metadata": {
    "colab": {},
    "colab_type": "code",
    "id": "qoNIWqPcHq8U"
   },
   "outputs": [
    {
     "name": "stdout",
     "output_type": "stream",
     "text": [
      "Data\n"
     ]
    }
   ],
   "source": [
    "# type your code here\n",
    "\n",
    "print(mix_list[-2])"
   ]
  },
  {
   "cell_type": "markdown",
   "metadata": {
    "colab_type": "text",
    "id": "KkYrr5nxHq8X"
   },
   "source": [
    "**c. First three elements**"
   ]
  },
  {
   "cell_type": "code",
   "execution_count": 44,
   "metadata": {
    "colab": {},
    "colab_type": "code",
    "id": "cNrHgcS3Hq8Y"
   },
   "outputs": [
    {
     "name": "stdout",
     "output_type": "stream",
     "text": [
      "['Python', 1, 2]\n"
     ]
    }
   ],
   "source": [
    "# type your code here\n",
    "\n",
    "print(mix_list[0:3])"
   ]
  },
  {
   "cell_type": "markdown",
   "metadata": {
    "colab_type": "text",
    "id": "irtsAX9KHq8u"
   },
   "source": [
    "<table align=\"left\">\n",
    "    <tr>\n",
    "        <td width=\"6%\">\n",
    "            <img src=\"question_icon.png\">\n",
    "        </td>\n",
    "        <td>\n",
    "            <div align=\"left\", style=\"font-size:120%\">\n",
    "                <font color=\"#21618C\">\n",
    "                    <b>13. Manipulating a list:<br><br>\n",
    "                        a. Add a new element 'Data' in the given list<br>\n",
    "                        b. Add elements 'Excel' and 'Data' in the given list<br>\n",
    "                        c. Replace an element 'C' with 'C++' in the given list<br>\n",
    "                    </b>\n",
    "                </font>\n",
    "            </div>\n",
    "        </td>\n",
    "    </tr>\n",
    "</table>"
   ]
  },
  {
   "cell_type": "code",
   "execution_count": 52,
   "metadata": {
    "colab_type": "text",
    "id": "6ksiCCmSHq8v"
   },
   "outputs": [],
   "source": [
    "#### Use the below list\n",
    "\n",
    "languages_list = ['R', 'Python', 'C', 'Java']"
   ]
  },
  {
   "cell_type": "markdown",
   "metadata": {
    "colab_type": "text",
    "id": "N1ZIGDiDHq8v"
   },
   "source": [
    "**a. Add a new element 'Data' in the given list**"
   ]
  },
  {
   "cell_type": "code",
   "execution_count": 53,
   "metadata": {
    "colab": {},
    "colab_type": "code",
    "id": "pqdSAn1MHq8w"
   },
   "outputs": [
    {
     "name": "stdout",
     "output_type": "stream",
     "text": [
      "['R', 'Python', 'C', 'Java', 'Data']\n"
     ]
    }
   ],
   "source": [
    "# type your code here\n",
    "\n",
    "languages_list.append('Data')\n",
    "\n",
    "print(languages_list)"
   ]
  },
  {
   "cell_type": "markdown",
   "metadata": {
    "colab_type": "text",
    "id": "xuln8KAsHq8y"
   },
   "source": [
    "**b. Add elements 'Excel' and 'Data' in the given list**"
   ]
  },
  {
   "cell_type": "code",
   "execution_count": 56,
   "metadata": {
    "colab": {},
    "colab_type": "code",
    "id": "8lu6nYthHq8z"
   },
   "outputs": [
    {
     "name": "stdout",
     "output_type": "stream",
     "text": [
      "['R', 'Python', 'C', 'Java', 'Data', 'Excel', 'Data']\n"
     ]
    }
   ],
   "source": [
    "# type your code here\n",
    "languages_list.append('Excel')\n",
    "languages_list.append('Data')\n",
    "\n",
    "print(languages_list)"
   ]
  },
  {
   "cell_type": "markdown",
   "metadata": {
    "colab_type": "text",
    "id": "wCl5_gw2Hq81"
   },
   "source": [
    "**c. Replace an element 'C' with 'C++' in the given list**"
   ]
  },
  {
   "cell_type": "code",
   "execution_count": 58,
   "metadata": {
    "colab": {},
    "colab_type": "code",
    "id": "r9wdhVe-Hq82"
   },
   "outputs": [
    {
     "name": "stdout",
     "output_type": "stream",
     "text": [
      "['R', 'Python', 'C++', 'Java', 'Data', 'Excel', 'Data']\n"
     ]
    }
   ],
   "source": [
    "# type your code here\n",
    "languages_list[2] ='C++'\n",
    "print(languages_list)"
   ]
  },
  {
   "cell_type": "markdown",
   "metadata": {
    "colab_type": "text",
    "id": "ftGI6ZUOHq84"
   },
   "source": [
    "<table align=\"left\">\n",
    "    <tr>\n",
    "        <td width=\"6%\">\n",
    "            <img src=\"question_icon.png\">\n",
    "        </td>\n",
    "        <td>\n",
    "            <div align=\"left\", style=\"font-size:120%\">\n",
    "                <font color=\"#21618C\">\n",
    "                    <b>14. How many times 'Summer' is occuring in a given list?\n",
    "                    </b>\n",
    "                </font>\n",
    "            </div>\n",
    "        </td>\n",
    "    </tr>\n",
    "</table>"
   ]
  },
  {
   "cell_type": "code",
   "execution_count": 59,
   "metadata": {
    "colab_type": "text",
    "id": "Jhgx8xp0Hq84"
   },
   "outputs": [],
   "source": [
    "#### Use the below list\n",
    "\n",
    "seasons_list = ['Summer', 'Winter', 'Spring', 'Winter', 'Spring' ,'Summer', 'Spring', 'Summer', 'Winter', 'Summer', 'Spring']"
   ]
  },
  {
   "cell_type": "code",
   "execution_count": 60,
   "metadata": {
    "colab": {},
    "colab_type": "code",
    "id": "5u7MipCXHq84"
   },
   "outputs": [
    {
     "data": {
      "text/plain": [
       "4"
      ]
     },
     "execution_count": 60,
     "metadata": {},
     "output_type": "execute_result"
    }
   ],
   "source": [
    "# type your code here\n",
    "\n",
    "seasons_list.count('Summer')"
   ]
  },
  {
   "cell_type": "markdown",
   "metadata": {
    "colab_type": "text",
    "id": "tjmTbT_5Hq88"
   },
   "source": [
    "<a id=\"tuple\"> </a>\n",
    "## 8. Tuple"
   ]
  },
  {
   "cell_type": "markdown",
   "metadata": {
    "colab_type": "text",
    "id": "EcQuIDOKHq88"
   },
   "source": [
    "<table align=\"left\">\n",
    "    <tr>\n",
    "        <td width=\"6%\">\n",
    "            <img src=\"question_icon.png\">\n",
    "        </td>\n",
    "        <td>\n",
    "            <div align=\"left\", style=\"font-size:120%\">\n",
    "                <font color=\"#21618C\">\n",
    "                    <b>15. Write a code to perform operations on tuple:<br><br>\n",
    "                        a. Check the length of num_tuple<br>\n",
    "                        b. Concatenate the num_tuple and mix_tuple<br>                        \n",
    "                    </b>\n",
    "                </font>\n",
    "            </div>\n",
    "        </td>\n",
    "    </tr>\n",
    "</table>"
   ]
  },
  {
   "cell_type": "code",
   "execution_count": 67,
   "metadata": {
    "colab_type": "text",
    "id": "OUWhCypvHq89"
   },
   "outputs": [],
   "source": [
    "#**Tuples to perform operations:**\n",
    "\n",
    "num_tuple = (4, 4, 8)\n",
    "\n",
    "mix_tuple = ('John', 5, -2)"
   ]
  },
  {
   "cell_type": "markdown",
   "metadata": {
    "colab_type": "text",
    "id": "6YRuHhpRHq89"
   },
   "source": [
    "**a. Check the length of num_tuple**"
   ]
  },
  {
   "cell_type": "code",
   "execution_count": 68,
   "metadata": {
    "colab": {},
    "colab_type": "code",
    "id": "fnDwxnKHHq8-"
   },
   "outputs": [
    {
     "name": "stdout",
     "output_type": "stream",
     "text": [
      "3\n"
     ]
    }
   ],
   "source": [
    "# type your code here\n",
    "\n",
    "print(len(num_tuple))"
   ]
  },
  {
   "cell_type": "markdown",
   "metadata": {
    "colab_type": "text",
    "id": "pf41oJT1Hq9A"
   },
   "source": [
    "**b. Concatenate the num_tuple and mix_tuple**"
   ]
  },
  {
   "cell_type": "code",
   "execution_count": 71,
   "metadata": {
    "colab": {},
    "colab_type": "code",
    "id": "k_4RrgIyHq9A"
   },
   "outputs": [
    {
     "name": "stdout",
     "output_type": "stream",
     "text": [
      "(4, 4, 8, 'John', 5, -2)\n"
     ]
    }
   ],
   "source": [
    "# type your code here\n",
    "num_tuple = (4, 4, 8)\n",
    "\n",
    "mix_tuple = ('John', 5, -2)\n",
    "\n",
    "print(num_tuple + mix_tuple)"
   ]
  },
  {
   "cell_type": "markdown",
   "metadata": {
    "colab_type": "text",
    "id": "xhwXYp7lHq9F"
   },
   "source": [
    "<table align=\"left\">\n",
    "    <tr>\n",
    "        <td width=\"6%\">\n",
    "            <img src=\"question_icon.png\">\n",
    "        </td>\n",
    "        <td>\n",
    "            <div align=\"left\", style=\"font-size:120%\">\n",
    "                <font color=\"#21618C\">\n",
    "                    <b>16. Add a new element '4' to the given tuple</b>\n",
    "                </font>\n",
    "            </div>\n",
    "        </td>\n",
    "    </tr>\n",
    "</table>"
   ]
  },
  {
   "cell_type": "code",
   "execution_count": 72,
   "metadata": {
    "colab_type": "text",
    "id": "y1tlFRgTHq9G"
   },
   "outputs": [],
   "source": [
    "#**Use the tuple below:**\n",
    "\n",
    "mix_tuple = (['a', 1, True], 2, 'Science', -5)"
   ]
  },
  {
   "cell_type": "code",
   "execution_count": 74,
   "metadata": {
    "colab": {},
    "colab_type": "code",
    "id": "vVr8nMfWHq9G"
   },
   "outputs": [
    {
     "name": "stdout",
     "output_type": "stream",
     "text": [
      "(['a', 1, True], 2, 'Science', -5, 4, 4)\n"
     ]
    }
   ],
   "source": [
    "# type your code here\n",
    "mix_tuple = mix_tuple + (4,)\n",
    "\n",
    "print(mix_tuple)"
   ]
  },
  {
   "cell_type": "markdown",
   "metadata": {
    "colab_type": "text",
    "id": "mndBIIDcHq9Q"
   },
   "source": [
    "<a id=\"set\"> </a>\n",
    "## 9. Set"
   ]
  },
  {
   "cell_type": "markdown",
   "metadata": {
    "colab_type": "text",
    "id": "LtYFMb3zHq9a"
   },
   "source": [
    "<table align=\"left\">\n",
    "    <tr>\n",
    "        <td width=\"6%\">\n",
    "            <img src=\"question_icon.png\">\n",
    "        </td>\n",
    "        <td>\n",
    "            <div align=\"left\", style=\"font-size:120%\">\n",
    "                <font color=\"#21618C\">\n",
    "                    <b>17. Create two sets of words from the given sentences and perform the following operations:<br><br>\n",
    "                        a. Find the count of unique words in each of the sentence<br> \n",
    "                        b. Find the common words in both the sentences<br>\n",
    "                        c. Find the unique words in both the sentences\n",
    "                       </b>\n",
    "                </font>\n",
    "            </div>\n",
    "        </td>\n",
    "    </tr>\n",
    "</table>"
   ]
  },
  {
   "cell_type": "markdown",
   "metadata": {
    "colab_type": "text",
    "id": "rZ9yCM5VHq9b"
   },
   "source": [
    "**Use the sentences given below:**\n",
    "    \n",
    "sentence_1 = 'We shall analyse the data using python' \n",
    "\n",
    "sentence_2 = 'Python for data science'"
   ]
  },
  {
   "cell_type": "markdown",
   "metadata": {
    "colab_type": "text",
    "id": "EFD3WWtsHq9b"
   },
   "source": [
    "**Create set of words**"
   ]
  },
  {
   "cell_type": "code",
   "execution_count": 28,
   "metadata": {
    "colab": {},
    "colab_type": "code",
    "id": "w7c2XTM6Hq9b"
   },
   "outputs": [],
   "source": [
    "# type your code here"
   ]
  },
  {
   "cell_type": "markdown",
   "metadata": {
    "colab_type": "text",
    "id": "-fe598g4Hq9e"
   },
   "source": [
    "**a. Find the number of unique words in the sentences**"
   ]
  },
  {
   "cell_type": "code",
   "execution_count": 29,
   "metadata": {
    "colab": {},
    "colab_type": "code",
    "id": "YzxURB_hHq9e"
   },
   "outputs": [],
   "source": [
    "# type your code here"
   ]
  },
  {
   "cell_type": "markdown",
   "metadata": {
    "colab_type": "text",
    "id": "z2Vs9Nl0Hq9h"
   },
   "source": [
    "**b. Find the common words in both the sentences**"
   ]
  },
  {
   "cell_type": "code",
   "execution_count": 30,
   "metadata": {
    "colab": {},
    "colab_type": "code",
    "id": "AWiLMR3FHq9i"
   },
   "outputs": [],
   "source": [
    "# type your code here"
   ]
  },
  {
   "cell_type": "markdown",
   "metadata": {
    "colab_type": "text",
    "id": "Z_PShZZgHq9r"
   },
   "source": [
    "<table align=\"left\">\n",
    "    <tr>\n",
    "        <td width=\"6%\">\n",
    "            <img src=\"question_icon.png\">\n",
    "        </td>\n",
    "        <td>\n",
    "            <div align=\"left\", style=\"font-size:120%\">\n",
    "                <font color=\"#21618C\">\n",
    "                    <b>18. Write a program to perform following set operations:<br><br>\n",
    "                        a. Union<br> \n",
    "                        b. Intersection<br>\n",
    "                        c. Set of all the elements of set A that are not in set B<br>\n",
    "                        d. Set of all the elements of set B that are not in set A<br>\n",
    "                        e. Symmetric difference\n",
    "                    </b>\n",
    "                </font>\n",
    "            </div>\n",
    "        </td>\n",
    "    </tr>\n",
    "</table>"
   ]
  },
  {
   "cell_type": "markdown",
   "metadata": {
    "colab_type": "text",
    "id": "Ajmm_h0PHq9r"
   },
   "source": [
    "**Use the below set:**\n",
    "\n",
    "A = {1, 4, 5, 2, 6, 3, 40, 7, 87, 4, 71}\n",
    "\n",
    "B = {3, 42, 51, 6, 7, 8, 54, 5}"
   ]
  },
  {
   "cell_type": "markdown",
   "metadata": {
    "colab_type": "text",
    "id": "aATppGqYHq9v"
   },
   "source": [
    "**b. Intersection**"
   ]
  },
  {
   "cell_type": "code",
   "execution_count": 31,
   "metadata": {
    "colab": {},
    "colab_type": "code",
    "id": "-ba7OgAdHq9v"
   },
   "outputs": [],
   "source": [
    "# type your code here"
   ]
  },
  {
   "cell_type": "markdown",
   "metadata": {
    "colab_type": "text",
    "id": "6zSbv6h9Hq9x"
   },
   "source": [
    "**c. Set of all the elements of set A that are not in set B**"
   ]
  },
  {
   "cell_type": "code",
   "execution_count": 32,
   "metadata": {
    "colab": {},
    "colab_type": "code",
    "id": "Pbk8QtY-Hq9y"
   },
   "outputs": [],
   "source": [
    "# type your code here"
   ]
  },
  {
   "cell_type": "markdown",
   "metadata": {
    "colab_type": "text",
    "id": "a1EQeXOUHq94"
   },
   "source": [
    "**e. Symmetric difference**"
   ]
  },
  {
   "cell_type": "code",
   "execution_count": 33,
   "metadata": {
    "colab": {},
    "colab_type": "code",
    "id": "Ee7s6P4tHq94"
   },
   "outputs": [],
   "source": [
    "# type your code here"
   ]
  },
  {
   "cell_type": "markdown",
   "metadata": {},
   "source": [
    "<a id=\"dict\"> </a>\n",
    "## 10. Dictionary"
   ]
  },
  {
   "cell_type": "markdown",
   "metadata": {},
   "source": [
    "<table align=\"left\">\n",
    "    <tr>\n",
    "        <td width=\"6%\">\n",
    "            <img src=\"question_icon.png\">\n",
    "        </td>\n",
    "        <td>\n",
    "            <div align=\"left\", style=\"font-size:120%\">\n",
    "                <font color=\"#21618C\">\n",
    "                    <b>19. Provide solution for the following:<br><br> \n",
    "                        a. Write a program to create a dictionary using given keys and values<br> \n",
    "                                   Use the keys and values to create a dictionary<br> \n",
    "                                   key = ['Weight','BMI','Age','Profession']<br> \n",
    "                                   value = [67, 25, 27, 'CA']<br> \n",
    "                        b.Use the dictionary created before and Write a code to add a key ('Height':154) to the dictionary<br> \n",
    "                        c.Write a program to retrieve the keys/values of dictionary<br> \n",
    "                        d.Write a program to get the value for 'Age' from the dictionary\n",
    "                    </b>\n",
    "                </font>\n",
    "            </div>\n",
    "        </td>\n",
    "    </tr>\n",
    "</table>"
   ]
  },
  {
   "cell_type": "markdown",
   "metadata": {},
   "source": [
    "**a. Write a program to create a dictionary using given keys and values**\n",
    "\n",
    "**Use the keys and values to create a dictionary**\n",
    "\n",
    "key = ['Weight','BMI','Age','Profession']\n",
    "\n",
    "value = [67, 25, 27, 'CA']"
   ]
  },
  {
   "cell_type": "code",
   "execution_count": 34,
   "metadata": {
    "colab": {},
    "colab_type": "code",
    "id": "VJLZof_iHq-K"
   },
   "outputs": [],
   "source": [
    "# type your code here"
   ]
  },
  {
   "cell_type": "markdown",
   "metadata": {},
   "source": [
    "**d. Write a program to get the value for 'Age' from the dictionary**"
   ]
  },
  {
   "cell_type": "code",
   "execution_count": 35,
   "metadata": {
    "colab": {},
    "colab_type": "code",
    "id": "VJLZof_iHq-K"
   },
   "outputs": [],
   "source": [
    "# type your code here"
   ]
  },
  {
   "cell_type": "markdown",
   "metadata": {
    "colab_type": "text",
    "id": "bEAynmvFHq-M"
   },
   "source": [
    "<a id=\"cond\"> </a>\n",
    "## 11. Conditional Statements"
   ]
  },
  {
   "cell_type": "markdown",
   "metadata": {
    "colab_type": "text",
    "id": "lRSkSpPqHq-M"
   },
   "source": [
    "<table align=\"left\">\n",
    "    <tr>\n",
    "        <td width=\"6%\">\n",
    "            <img src=\"question_icon.png\">\n",
    "        </td>\n",
    "        <td>\n",
    "            <div align=\"left\", style=\"font-size:120%\">\n",
    "                <font color=\"#21618C\">\n",
    "                    <b>20. Write a program to check whether a given number is multiple of 7 (use if statement)</b>\n",
    "                </font>\n",
    "            </div>\n",
    "        </td>\n",
    "    </tr>\n",
    "</table>"
   ]
  },
  {
   "cell_type": "code",
   "execution_count": 85,
   "metadata": {
    "colab": {},
    "colab_type": "code",
    "id": "7v0jNVSEHq-M"
   },
   "outputs": [
    {
     "name": "stdout",
     "output_type": "stream",
     "text": [
      "Entered number is not multiple of 7\n"
     ]
    }
   ],
   "source": [
    "# type your code here\n",
    "\n",
    "n = int(input(\"Enter number: \"))\n",
    "\n",
    "if n%7 ==0:\n",
    "    print(\"Entered number is multiple of 7\")\n",
    "else:\n",
    "    print(\"Entered number is not multiple of 7\")  "
   ]
  },
  {
   "cell_type": "markdown",
   "metadata": {},
   "source": [
    "<a id= \"flow_control\"> </a>\n",
    "## 12. Python Flow Control"
   ]
  },
  {
   "cell_type": "markdown",
   "metadata": {},
   "source": [
    "<table align=\"left\">\n",
    "    <tr>\n",
    "        <td width=\"6%\">\n",
    "            <img src=\"question_icon.png\">\n",
    "        </td>\n",
    "        <td>\n",
    "            <div align=\"left\", style=\"font-size:120%\">\n",
    "                <font color=\"#21618C\">\n",
    "                    <b>21. Write a program to check whether a number is prime or not (take the input from user).</b>\n",
    "                </font>\n",
    "            </div>\n",
    "        </td>\n",
    "    </tr>\n",
    "</table>"
   ]
  },
  {
   "cell_type": "code",
   "execution_count": 83,
   "metadata": {},
   "outputs": [
    {
     "name": "stdout",
     "output_type": "stream",
     "text": [
      "Entered number is a Prime number\n"
     ]
    }
   ],
   "source": [
    "# type your code here\n",
    "num = int(input(\"Enter number:\"))\n",
    "\n",
    "flag = False\n",
    "\n",
    "if num == 1:\n",
    "    print(\"Not a Prime number\")\n",
    " \n",
    "elif num > 2:\n",
    "    for i in range(2,num):\n",
    "        if i%2 == 0:\n",
    "            flag = True\n",
    "            break\n",
    "           \n",
    "if flag == True:\n",
    "    print(\"Entered number is a Prime number\")             \n",
    "else:\n",
    "    print(\"Entered number is not a Prime number\")   "
   ]
  },
  {
   "cell_type": "markdown",
   "metadata": {},
   "source": [
    "<table align=\"left\">\n",
    "    <tr>\n",
    "        <td width=\"6%\">\n",
    "            <img src=\"question_icon.png\">\n",
    "        </td>\n",
    "        <td>\n",
    "            <div align=\"left\", style=\"font-size:120%\">\n",
    "                <font color=\"#21618C\">\n",
    "                    <b>22. Write a code to find the simple interest (take the input from user).</b>\n",
    "                </font>\n",
    "            </div>\n",
    "        </td>\n",
    "    </tr>\n",
    "</table>"
   ]
  },
  {
   "cell_type": "code",
   "execution_count": 75,
   "metadata": {},
   "outputs": [
    {
     "name": "stdout",
     "output_type": "stream",
     "text": [
      "Simple Interest:  160.0\n"
     ]
    }
   ],
   "source": [
    "# type your code here\n",
    "p = float(input(\"Enter Principal Amount:\"))\n",
    "r = float(input(\"Enter Interest Rate %:\"))\n",
    "t = float(input(\"Enter Time:\"))\n",
    "\n",
    "\n",
    "si = (p*r*t)/100\n",
    "\n",
    "print(\"Simple Interest: \",si)\n"
   ]
  },
  {
   "cell_type": "markdown",
   "metadata": {},
   "source": [
    "<a id= \"lc\"> </a>\n",
    "## 13. List Comprehension"
   ]
  },
  {
   "cell_type": "markdown",
   "metadata": {},
   "source": [
    "<table align=\"left\">\n",
    "    <tr>\n",
    "        <td width=\"6%\">\n",
    "            <img src=\"question_icon.png\">\n",
    "        </td>\n",
    "        <td>\n",
    "            <div align=\"left\", style=\"font-size:120%\">\n",
    "                <font color=\"#21618C\">\n",
    "                    <b>23. Use list comprehension to find the used vowels in a given sentence and/or word (take the input from user). </b>\n",
    "                </font>\n",
    "            </div>\n",
    "        </td>\n",
    "    </tr>\n",
    "</table>"
   ]
  },
  {
   "cell_type": "code",
   "execution_count": 98,
   "metadata": {},
   "outputs": [
    {
     "name": "stdout",
     "output_type": "stream",
     "text": [
      "['e', 'o']\n"
     ]
    }
   ],
   "source": [
    "# type your code here\n",
    "\n",
    "sentence = input(\"Enter sentence:\")\n",
    "\n",
    "vowels = [a for a in sentence if a == 'a' or a == 'e' or a == 'i' or a == 'o' or a == 'u'] \n",
    "\n",
    "print(vowels)"
   ]
  },
  {
   "cell_type": "markdown",
   "metadata": {},
   "source": [
    "<table align=\"left\">\n",
    "    <tr>\n",
    "        <td width=\"6%\">\n",
    "            <img src=\"question_icon.png\">\n",
    "        </td>\n",
    "        <td>\n",
    "            <div align=\"left\", style=\"font-size:120%\">\n",
    "                <font color=\"#21618C\">\n",
    "                    <b>24. Use list comprehension to extract numbers from a string </b>\n",
    "                </font>\n",
    "            </div>\n",
    "        </td>\n",
    "    </tr>\n",
    "</table>"
   ]
  },
  {
   "cell_type": "code",
   "execution_count": 99,
   "metadata": {},
   "outputs": [
    {
     "name": "stdout",
     "output_type": "stream",
     "text": [
      "['1', '2']\n"
     ]
    }
   ],
   "source": [
    "# type your code here\n",
    "input = input(\"Enter an alpha numeric string:\")\n",
    "num = [ x for x in input if x.isalpha() == False ]\n",
    "\n",
    "print(num)"
   ]
  },
  {
   "cell_type": "markdown",
   "metadata": {},
   "source": [
    "<a id='User_Define'></a>\n",
    "## 14. User-Define Function:"
   ]
  },
  {
   "cell_type": "markdown",
   "metadata": {},
   "source": [
    "<table align=\"left\">\n",
    "    <tr>\n",
    "        <td width=\"6%\">\n",
    "            <img src=\"question_icon.png\">\n",
    "        </td>\n",
    "        <td>\n",
    "            <div align=\"left\", style=\"font-size:120%\">\n",
    "                <font color=\"#21618C\">\n",
    "                    <b>25. Write the python program to get the unique values from the given list<b>\n",
    "                </font>\n",
    "            </div>\n",
    "        </td>\n",
    "    </tr>\n",
    "</table>"
   ]
  },
  {
   "cell_type": "markdown",
   "metadata": {},
   "source": [
    "**Use the list given below:**<br>\n",
    "my_list = [1,2,3,3,11,34,3,3,4,5]"
   ]
  },
  {
   "cell_type": "code",
   "execution_count": 104,
   "metadata": {},
   "outputs": [
    {
     "name": "stdout",
     "output_type": "stream",
     "text": [
      "Unique List:  [1, 2, 3, 11, 34, 4, 5]\n"
     ]
    }
   ],
   "source": [
    "# Write your code here\n",
    "\n",
    "my_list = [1,2,3,3,11,34,3,3,4,5]\n",
    "\n",
    "uniques_list = []\n",
    "\n",
    "def unique(list1):\n",
    "    for i in list1:\n",
    "        if i not in uniques_list:\n",
    "            uniques_list.append(i)\n",
    "    return uniques_list            \n",
    "\n",
    "print(\"Unique List: \",unique(my_list))"
   ]
  },
  {
   "cell_type": "markdown",
   "metadata": {},
   "source": [
    "<a id='Lambda_Functions'></a>\n",
    "## 15. Lambda Functions"
   ]
  },
  {
   "cell_type": "markdown",
   "metadata": {},
   "source": [
    "<table align=\"left\">\n",
    "    <tr>\n",
    "        <td width=\"6%\">\n",
    "            <img src=\"question_icon.png\">\n",
    "        </td>\n",
    "        <td>\n",
    "            <div align=\"left\", style=\"font-size:120%\">\n",
    "                <font color=\"#21618C\">\n",
    "                    <b>26. Find the minimum of the two numbers(34 and 78) using the lambda function<b>\n",
    "                </font>\n",
    "            </div>\n",
    "        </td>\n",
    "    </tr>\n",
    "</table>"
   ]
  },
  {
   "cell_type": "code",
   "execution_count": 89,
   "metadata": {},
   "outputs": [
    {
     "name": "stdout",
     "output_type": "stream",
     "text": [
      "34\n"
     ]
    }
   ],
   "source": [
    "# Write your code here\n",
    "\n",
    "minimum = lambda x,y : x if (x < y) else y  \n",
    "\n",
    "print(minimum(34,78))"
   ]
  },
  {
   "cell_type": "markdown",
   "metadata": {},
   "source": [
    "<table align=\"left\">\n",
    "    <tr>\n",
    "        <td width=\"6%\">\n",
    "            <img src=\"question_icon.png\">\n",
    "        </td>\n",
    "        <td>\n",
    "            <div align=\"left\", style=\"font-size:120%\">\n",
    "                <font color=\"#21618C\">\n",
    "                    <b>27. Find the remainder of all the numbers present in a list after dividing by 5\n",
    "<b>\n",
    "                </font>\n",
    "            </div>\n",
    "        </td>\n",
    "    </tr>\n",
    "</table>"
   ]
  },
  {
   "cell_type": "markdown",
   "metadata": {
    "collapsed": true
   },
   "source": [
    "**Use the list given below:**<br>\n",
    "numbers = [ 74, 85, 14, 23 ]"
   ]
  },
  {
   "cell_type": "code",
   "execution_count": 105,
   "metadata": {},
   "outputs": [
    {
     "name": "stdout",
     "output_type": "stream",
     "text": [
      "[4, 0, 4, 3]\n"
     ]
    }
   ],
   "source": [
    "# Write your code here\n",
    "numbers = [ 74, 85, 14, 23 ]\n",
    "\n",
    "print(list(map(lambda x : x%5 , numbers)))\n",
    "\n"
   ]
  },
  {
   "cell_type": "markdown",
   "metadata": {},
   "source": [
    "<table align=\"left\">\n",
    "    <tr>\n",
    "        <td width=\"6%\">\n",
    "            <img src=\"question_icon.png\">\n",
    "        </td>\n",
    "        <td>\n",
    "            <div align=\"left\", style=\"font-size:120%\">\n",
    "                <font color=\"#21618C\">\n",
    "                    <b>28. Find the common elements from the given array using filter method<b>\n",
    "                </font>\n",
    "            </div>\n",
    "        </td>\n",
    "    </tr>\n",
    "</table>"
   ]
  },
  {
   "cell_type": "markdown",
   "metadata": {},
   "source": [
    "**Use the array given below:**<br>\n",
    "arr1 = ['t','u','t','o','r','i','a','l']<br>\n",
    "arr2 = ['p','o','i','n','t']"
   ]
  },
  {
   "cell_type": "code",
   "execution_count": 10,
   "metadata": {},
   "outputs": [
    {
     "name": "stdout",
     "output_type": "stream",
     "text": [
      "['t', 't', 'o', 'i']\n"
     ]
    }
   ],
   "source": [
    "# Write your code here\n",
    "arr1 = ['t','u','t','o','r','i','a','l']\n",
    "arr2 = ['p','o','i','n','t']\n",
    "\n",
    "def common(item):\n",
    "    for i in arr2:\n",
    "        if i == item:\n",
    "            return i \n",
    "    return None  \n",
    "\n",
    "common_chars = filter(common,arr1)\n",
    "\n",
    "print(list(common_chars))\n"
   ]
  }
 ],
 "metadata": {
  "kernelspec": {
   "display_name": "Python 3 (ipykernel)",
   "language": "python",
   "name": "python3"
  },
  "language_info": {
   "codemirror_mode": {
    "name": "ipython",
    "version": 3
   },
   "file_extension": ".py",
   "mimetype": "text/x-python",
   "name": "python",
   "nbconvert_exporter": "python",
   "pygments_lexer": "ipython3",
   "version": "3.11.6"
  }
 },
 "nbformat": 4,
 "nbformat_minor": 4
}
