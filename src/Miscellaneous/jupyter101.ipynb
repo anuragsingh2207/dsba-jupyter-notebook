{
 "cells": [
  {
   "cell_type": "code",
   "execution_count": 1,
   "id": "a2c8d999-3f47-4ab7-a80b-d4e0e7de64f9",
   "metadata": {},
   "outputs": [
    {
     "data": {
      "text/plain": [
       "int"
      ]
     },
     "execution_count": 1,
     "metadata": {},
     "output_type": "execute_result"
    }
   ],
   "source": [
    "a = -5\n",
    "type(a)"
   ]
  },
  {
   "cell_type": "code",
   "execution_count": 2,
   "id": "c71afcb2-ccce-41a4-a185-5ae50d65e6b6",
   "metadata": {},
   "outputs": [
    {
     "data": {
      "text/plain": [
       "float"
      ]
     },
     "execution_count": 2,
     "metadata": {},
     "output_type": "execute_result"
    }
   ],
   "source": [
    "x = 3.14\n",
    "type(x)"
   ]
  },
  {
   "cell_type": "code",
   "execution_count": 3,
   "id": "b363d096-c08c-4388-ab9e-ad0c27dc7fbd",
   "metadata": {},
   "outputs": [
    {
     "data": {
      "text/plain": [
       "'Arthur'"
      ]
     },
     "execution_count": 3,
     "metadata": {},
     "output_type": "execute_result"
    }
   ],
   "source": [
    "num = 30\n",
    "var1 = \"Arthur\"\n",
    "var2 = var1\n",
    "var2"
   ]
  },
  {
   "cell_type": "code",
   "execution_count": 4,
   "id": "8d41e8af-c765-4265-8d81-33c2110e3e19",
   "metadata": {},
   "outputs": [
    {
     "data": {
      "text/plain": [
       "complex"
      ]
     },
     "execution_count": 4,
     "metadata": {},
     "output_type": "execute_result"
    }
   ],
   "source": [
    "x = 3+4j\n",
    "type(x)"
   ]
  },
  {
   "cell_type": "code",
   "execution_count": 5,
   "id": "aa364c8a-eb0d-4069-9ad9-9b3ee9855780",
   "metadata": {},
   "outputs": [
    {
     "data": {
      "text/plain": [
       "'Introduction to Python'"
      ]
     },
     "execution_count": 5,
     "metadata": {},
     "output_type": "execute_result"
    }
   ],
   "source": [
    "string = \"Introduction to Python\"\n",
    "string"
   ]
  },
  {
   "cell_type": "code",
   "execution_count": 6,
   "id": "993c8f9c-65c6-495c-ad6f-f69fd0d6debc",
   "metadata": {},
   "outputs": [
    {
     "name": "stdout",
     "output_type": "stream",
     "text": [
      "Introduction to Python\n"
     ]
    }
   ],
   "source": [
    "print(string)"
   ]
  },
  {
   "cell_type": "code",
   "execution_count": 3,
   "id": "f9092899-5b32-4c87-90a7-bb5f11094d34",
   "metadata": {},
   "outputs": [
    {
     "name": "stdout",
     "output_type": "stream",
     "text": [
      "PESUniversity\n",
      "PES University\n",
      "PES**University\n"
     ]
    }
   ],
   "source": [
    "str1 = \"PES\"\n",
    "str2 = \"University\"\n",
    "str3 = str1 + str2\n",
    "print(str3)\n",
    "print(str1+\" \"+str2)\n",
    "print(str1+\"**\"+str2)"
   ]
  },
  {
   "cell_type": "code",
   "execution_count": 9,
   "id": "595bc4c7-a5d4-4ead-ae5c-df1e8b9dc7e3",
   "metadata": {},
   "outputs": [
    {
     "data": {
      "text/plain": [
       "'PESUniversityPESUniversityPESUniversity'"
      ]
     },
     "execution_count": 9,
     "metadata": {},
     "output_type": "execute_result"
    }
   ],
   "source": [
    "str3*3\n",
    "#You cannot use minus and disvision with Strings"
   ]
  },
  {
   "cell_type": "code",
   "execution_count": 13,
   "id": "af041d6a-8ed5-4f0a-8771-91faaae9ca06",
   "metadata": {},
   "outputs": [
    {
     "data": {
      "text/plain": [
       "'d'"
      ]
     },
     "execution_count": 13,
     "metadata": {},
     "output_type": "execute_result"
    }
   ],
   "source": [
    "#Fist index is 0\n",
    "string[5]"
   ]
  },
  {
   "cell_type": "code",
   "execution_count": 14,
   "id": "c08164a8-dd85-4661-ad53-0036e4e940ea",
   "metadata": {},
   "outputs": [
    {
     "data": {
      "text/plain": [
       "'n'"
      ]
     },
     "execution_count": 14,
     "metadata": {},
     "output_type": "execute_result"
    }
   ],
   "source": [
    "#Last index is -1\n",
    "string[-1]"
   ]
  },
  {
   "cell_type": "code",
   "execution_count": 16,
   "id": "cac2a140-6fea-4bf1-ba27-9c35ccae233f",
   "metadata": {},
   "outputs": [
    {
     "data": {
      "text/plain": [
       "'to Python'"
      ]
     },
     "execution_count": 16,
     "metadata": {},
     "output_type": "execute_result"
    }
   ],
   "source": [
    "string[13:22] #Includes 13th and excludes 22nd index"
   ]
  },
  {
   "cell_type": "code",
   "execution_count": 17,
   "id": "464238f2-2545-4b5e-8a36-da30800f3392",
   "metadata": {},
   "outputs": [
    {
     "data": {
      "text/plain": [
       "'to Pytho'"
      ]
     },
     "execution_count": 17,
     "metadata": {},
     "output_type": "execute_result"
    }
   ],
   "source": [
    "string[13:21]"
   ]
  },
  {
   "cell_type": "code",
   "execution_count": 20,
   "id": "2be4aa42-8cc6-4186-a9c3-63c640210e50",
   "metadata": {},
   "outputs": [
    {
     "data": {
      "text/plain": [
       "'to Pytho'"
      ]
     },
     "execution_count": 20,
     "metadata": {},
     "output_type": "execute_result"
    }
   ],
   "source": [
    "string[13:-1]"
   ]
  },
  {
   "cell_type": "code",
   "execution_count": 18,
   "id": "401dcf34-e27c-4a2d-921e-bd8558f6ef67",
   "metadata": {},
   "outputs": [
    {
     "data": {
      "text/plain": [
       "''"
      ]
     },
     "execution_count": 18,
     "metadata": {},
     "output_type": "execute_result"
    }
   ],
   "source": [
    "string[13:13]"
   ]
  },
  {
   "cell_type": "code",
   "execution_count": 21,
   "id": "5bf1afc5-e181-40a3-8111-1d389ae3ca11",
   "metadata": {
    "scrolled": true
   },
   "outputs": [
    {
     "ename": "TypeError",
     "evalue": "'str' object does not support item assignment",
     "output_type": "error",
     "traceback": [
      "\u001b[0;31m---------------------------------------------------------------------------\u001b[0m",
      "\u001b[0;31mTypeError\u001b[0m                                 Traceback (most recent call last)",
      "Cell \u001b[0;32mIn[21], line 2\u001b[0m\n\u001b[1;32m      1\u001b[0m \u001b[38;5;66;03m#Strings are immutable\u001b[39;00m\n\u001b[0;32m----> 2\u001b[0m \u001b[43mstring\u001b[49m\u001b[43m[\u001b[49m\u001b[38;5;241;43m0\u001b[39;49m\u001b[43m]\u001b[49m\u001b[38;5;241m=\u001b[39m\u001b[38;5;124m'\u001b[39m\u001b[38;5;124mP\u001b[39m\u001b[38;5;124m'\u001b[39m\n",
      "\u001b[0;31mTypeError\u001b[0m: 'str' object does not support item assignment"
     ]
    }
   ],
   "source": [
    "#Strings are immutable\n",
    "string[0]='P'"
   ]
  },
  {
   "cell_type": "code",
   "execution_count": 25,
   "id": "696d181b-8810-4593-b61c-dc8fcb439668",
   "metadata": {},
   "outputs": [
    {
     "data": {
      "text/plain": [
       "bool"
      ]
     },
     "execution_count": 25,
     "metadata": {},
     "output_type": "execute_result"
    }
   ],
   "source": [
    "var = True # For Booleans T,F for True and False should be upper case and don't use quotes\n",
    "type(var)"
   ]
  },
  {
   "cell_type": "code",
   "execution_count": 2,
   "id": "eba84e9b-03ed-4529-adbd-c3ae93b0e5ac",
   "metadata": {},
   "outputs": [
    {
     "name": "stdout",
     "output_type": "stream",
     "text": [
      "True\n"
     ]
    }
   ],
   "source": [
    "print(10>0)"
   ]
  },
  {
   "cell_type": "code",
   "execution_count": 24,
   "id": "2844b97f-70b1-4ead-a3f0-c9b2bf224798",
   "metadata": {},
   "outputs": [
    {
     "name": "stdout",
     "output_type": "stream",
     "text": [
      "False\n"
     ]
    }
   ],
   "source": [
    "print(10==9)"
   ]
  },
  {
   "cell_type": "code",
   "execution_count": 27,
   "id": "1e256d00-1c11-4980-9e8c-4243e98613eb",
   "metadata": {},
   "outputs": [
    {
     "data": {
      "text/plain": [
       "11.0"
      ]
     },
     "execution_count": 27,
     "metadata": {},
     "output_type": "execute_result"
    }
   ],
   "source": [
    "float(11)"
   ]
  },
  {
   "cell_type": "code",
   "execution_count": 28,
   "id": "f95a6320-2da2-483e-a12a-65de208480d3",
   "metadata": {},
   "outputs": [
    {
     "data": {
      "text/plain": [
       "1.0"
      ]
     },
     "execution_count": 28,
     "metadata": {},
     "output_type": "execute_result"
    }
   ],
   "source": [
    "float(True)"
   ]
  },
  {
   "cell_type": "code",
   "execution_count": 1,
   "id": "7a34ea3c-b9c7-48fe-a800-9cb352f04dc6",
   "metadata": {},
   "outputs": [
    {
     "data": {
      "text/plain": [
       "0.0"
      ]
     },
     "execution_count": 1,
     "metadata": {},
     "output_type": "execute_result"
    }
   ],
   "source": [
    "float(False)"
   ]
  },
  {
   "cell_type": "code",
   "execution_count": 1,
   "id": "b6fd87c1-8655-41b2-a639-6298488ac552",
   "metadata": {},
   "outputs": [
    {
     "ename": "ValueError",
     "evalue": "could not convert string to float: 'abc'",
     "output_type": "error",
     "traceback": [
      "\u001b[0;31m---------------------------------------------------------------------------\u001b[0m",
      "\u001b[0;31mValueError\u001b[0m                                Traceback (most recent call last)",
      "\u001b[1;32m/Users/anurag_singh/Desktop/DSBA/Workspace/dsba/src/jupyter/jupyter101.ipynb Cell 22\u001b[0m line \u001b[0;36m1\n\u001b[0;32m----> <a href='vscode-notebook-cell:/Users/anurag_singh/Desktop/DSBA/Workspace/dsba/src/jupyter/jupyter101.ipynb#X30sZmlsZQ%3D%3D?line=0'>1</a>\u001b[0m \u001b[39mfloat\u001b[39;49m(\u001b[39m\"\u001b[39;49m\u001b[39mabc\u001b[39;49m\u001b[39m\"\u001b[39;49m) \u001b[39m#Strings cannot be converted to float\u001b[39;00m\n",
      "\u001b[0;31mValueError\u001b[0m: could not convert string to float: 'abc'"
     ]
    }
   ],
   "source": [
    "float(\"abc\") #Strings cannot be converted to float"
   ]
  },
  {
   "cell_type": "code",
   "execution_count": 31,
   "id": "833558f8-7b7e-4a85-bbaf-319e44d18bdb",
   "metadata": {},
   "outputs": [
    {
     "data": {
      "text/plain": [
       "11.0"
      ]
     },
     "execution_count": 31,
     "metadata": {},
     "output_type": "execute_result"
    }
   ],
   "source": [
    "float(\"11\")"
   ]
  },
  {
   "cell_type": "code",
   "execution_count": 32,
   "id": "0bbadbdc-95a6-4e7b-83e6-38a7da0c5df5",
   "metadata": {},
   "outputs": [
    {
     "data": {
      "text/plain": [
       "0.0224"
      ]
     },
     "execution_count": 32,
     "metadata": {},
     "output_type": "execute_result"
    }
   ],
   "source": [
    "float(\"2.24e-2\")"
   ]
  },
  {
   "cell_type": "code",
   "execution_count": 33,
   "id": "d8ce5b4f-781e-4bc8-b13b-ac44416aa89d",
   "metadata": {},
   "outputs": [
    {
     "data": {
      "text/plain": [
       "11"
      ]
     },
     "execution_count": 33,
     "metadata": {},
     "output_type": "execute_result"
    }
   ],
   "source": [
    "int(11.7)"
   ]
  },
  {
   "cell_type": "code",
   "execution_count": 34,
   "id": "5f1cf5db-c7b9-451b-8f01-a4b0183ad223",
   "metadata": {},
   "outputs": [
    {
     "data": {
      "text/plain": [
       "1"
      ]
     },
     "execution_count": 34,
     "metadata": {},
     "output_type": "execute_result"
    }
   ],
   "source": [
    "int(True)"
   ]
  },
  {
   "cell_type": "code",
   "execution_count": 35,
   "id": "8d60189a-ea39-470f-9853-4a35c0f4def4",
   "metadata": {},
   "outputs": [
    {
     "data": {
      "text/plain": [
       "-11"
      ]
     },
     "execution_count": 35,
     "metadata": {},
     "output_type": "execute_result"
    }
   ],
   "source": [
    "int(-11.7)"
   ]
  },
  {
   "cell_type": "code",
   "execution_count": 36,
   "id": "b3d57996-8f32-45bd-8940-6435b05b0d66",
   "metadata": {},
   "outputs": [
    {
     "data": {
      "text/plain": [
       "0"
      ]
     },
     "execution_count": 36,
     "metadata": {},
     "output_type": "execute_result"
    }
   ],
   "source": [
    "int(False)"
   ]
  },
  {
   "cell_type": "code",
   "execution_count": 37,
   "id": "91e7dab5-a440-49ab-8faf-55a46fda9e11",
   "metadata": {},
   "outputs": [
    {
     "ename": "ValueError",
     "evalue": "invalid literal for int() with base 10: 'PES'",
     "output_type": "error",
     "traceback": [
      "\u001b[0;31m---------------------------------------------------------------------------\u001b[0m",
      "\u001b[0;31mValueError\u001b[0m                                Traceback (most recent call last)",
      "Cell \u001b[0;32mIn[37], line 1\u001b[0m\n\u001b[0;32m----> 1\u001b[0m \u001b[38;5;28;43mint\u001b[39;49m\u001b[43m(\u001b[49m\u001b[38;5;124;43m\"\u001b[39;49m\u001b[38;5;124;43mPES\u001b[39;49m\u001b[38;5;124;43m\"\u001b[39;49m\u001b[43m)\u001b[49m\n",
      "\u001b[0;31mValueError\u001b[0m: invalid literal for int() with base 10: 'PES'"
     ]
    }
   ],
   "source": [
    "int(\"PES\") #Strings cannot be converted to integer"
   ]
  },
  {
   "cell_type": "code",
   "execution_count": 38,
   "id": "221e12f0-0e87-44ed-8d4c-3d5761c81fcf",
   "metadata": {},
   "outputs": [
    {
     "data": {
      "text/plain": [
       "11"
      ]
     },
     "execution_count": 38,
     "metadata": {},
     "output_type": "execute_result"
    }
   ],
   "source": [
    "int(\"11\")"
   ]
  },
  {
   "cell_type": "code",
   "execution_count": 39,
   "id": "3e491ac8-4cd0-43d5-b6a2-333f58841242",
   "metadata": {},
   "outputs": [
    {
     "data": {
      "text/plain": [
       "'2.24'"
      ]
     },
     "execution_count": 39,
     "metadata": {},
     "output_type": "execute_result"
    }
   ],
   "source": [
    "str(2.24)"
   ]
  },
  {
   "cell_type": "code",
   "execution_count": 40,
   "id": "ddf47888-59d9-41ce-89c6-f0034a6c822c",
   "metadata": {},
   "outputs": [
    {
     "data": {
      "text/plain": [
       "'False'"
      ]
     },
     "execution_count": 40,
     "metadata": {},
     "output_type": "execute_result"
    }
   ],
   "source": [
    "str(False)"
   ]
  },
  {
   "cell_type": "code",
   "execution_count": 2,
   "id": "46df9288-6f04-4b02-b012-2fc0020bf534",
   "metadata": {},
   "outputs": [
    {
     "data": {
      "text/plain": [
       "'22'"
      ]
     },
     "execution_count": 2,
     "metadata": {},
     "output_type": "execute_result"
    }
   ],
   "source": [
    "str(22)"
   ]
  },
  {
   "cell_type": "code",
   "execution_count": 42,
   "id": "f850b709-ca38-4074-ae13-bc80c8deaed4",
   "metadata": {},
   "outputs": [
    {
     "name": "stdout",
     "output_type": "stream",
     "text": [
      "Hello World\n",
      "x= 2\n"
     ]
    }
   ],
   "source": [
    "print(\"Hello World\")\n",
    "\n",
    "x = 2\n",
    "print(\"x=\",x)"
   ]
  },
  {
   "cell_type": "code",
   "execution_count": 45,
   "id": "704f4f2e-e75d-48a3-a81b-eea24754796f",
   "metadata": {},
   "outputs": [
    {
     "name": "stdout",
     "output_type": "stream",
     "text": [
      "x= 2\n",
      "\n",
      "\n",
      "Hello \n",
      "\n",
      "\n",
      "a=$8\n"
     ]
    }
   ],
   "source": [
    "x=2\n",
    "a=8\n",
    "print(\"x=\",x, end='\\n\\n\\n')\n",
    "print(\"Hello \\n\\n\")\n",
    "print(\"a=\",8, sep='$') #Separator comes before the value "
   ]
  },
  {
   "cell_type": "code",
   "execution_count": 51,
   "id": "68dedaf4-9eae-4e7b-b412-bed66300bf55",
   "metadata": {},
   "outputs": [
    {
     "name": "stdout",
     "output_type": "stream",
     "text": [
      "Enter your age 22\n"
     ]
    },
    {
     "name": "stdout",
     "output_type": "stream",
     "text": [
      "22\n"
     ]
    },
    {
     "data": {
      "text/plain": [
       "int"
      ]
     },
     "execution_count": 51,
     "metadata": {},
     "output_type": "execute_result"
    }
   ],
   "source": [
    "age = int(input(\"Enter your age\"))\n",
    "print(age)\n",
    "type(age)"
   ]
  },
  {
   "cell_type": "code",
   "execution_count": 1,
   "id": "0da9b260-c88d-4426-9835-466e1591be4a",
   "metadata": {},
   "outputs": [
    {
     "name": "stdout",
     "output_type": "stream",
     "text": [
      "Enter your Name Anurag\n"
     ]
    },
    {
     "name": "stdout",
     "output_type": "stream",
     "text": [
      "Hello Anurag\n"
     ]
    },
    {
     "data": {
      "text/plain": [
       "str"
      ]
     },
     "execution_count": 1,
     "metadata": {},
     "output_type": "execute_result"
    }
   ],
   "source": [
    "name = input(\"Enter your Name\")\n",
    "print(\"Hello \"+name)\n",
    "type(name)"
   ]
  },
  {
   "cell_type": "code",
   "execution_count": 11,
   "id": "fd3d1e08-02ed-4d7e-9560-1a7ea234f259",
   "metadata": {},
   "outputs": [
    {
     "name": "stdout",
     "output_type": "stream",
     "text": [
      "2.0\n",
      "2\n",
      "0\n",
      "9\n",
      "3\n",
      "True\n",
      "False\n",
      "True\n"
     ]
    }
   ],
   "source": [
    "a = 6\n",
    "b = 3\n",
    "print(a/b)\n",
    "print(a//b)  #Floor Operator\n",
    "print(a%b)   #Remainder\n",
    "print(a+b)\n",
    "print(a-b)\n",
    "\n",
    "print(a>b)\n",
    "print(a==b)\n",
    "print(a!=b)"
   ]
  },
  {
   "cell_type": "code",
   "execution_count": 13,
   "id": "a1dfee39-7c1c-42f8-a653-8ad6efe6c5e3",
   "metadata": {},
   "outputs": [
    {
     "name": "stdout",
     "output_type": "stream",
     "text": [
      "6.8\n"
     ]
    }
   ],
   "source": [
    "x=4.1\n",
    "y=2.7\n",
    "\n",
    "print(x+y)"
   ]
  },
  {
   "cell_type": "code",
   "execution_count": 24,
   "id": "9ab24c6e-2e80-4c2d-ac5e-c7736e5b7cab",
   "metadata": {},
   "outputs": [
    {
     "ename": "SyntaxError",
     "evalue": "invalid syntax (2987170238.py, line 7)",
     "output_type": "error",
     "traceback": [
      "\u001b[0;36m  Cell \u001b[0;32mIn[24], line 7\u001b[0;36m\u001b[0m\n\u001b[0;31m    print(x*=2)\u001b[0m\n\u001b[0m           ^\u001b[0m\n\u001b[0;31mSyntaxError\u001b[0m\u001b[0;31m:\u001b[0m invalid syntax\n"
     ]
    }
   ],
   "source": [
    "x=5\n",
    "x += 5\n",
    "print(x)\n",
    "x -= 2\n",
    "print(x)\n",
    "x *= 2\n",
    "print(x)\n",
    "print(x*=2)  #We cannot print while performing assignment operation\n"
   ]
  },
  {
   "cell_type": "code",
   "execution_count": 25,
   "id": "6028bb1f-3a0c-4565-a908-552db2fec493",
   "metadata": {},
   "outputs": [
    {
     "name": "stdout",
     "output_type": "stream",
     "text": [
      "True\n"
     ]
    }
   ],
   "source": [
    "x =11\n",
    "a= x>10 and x<20\n",
    "print(a)"
   ]
  },
  {
   "cell_type": "code",
   "execution_count": 26,
   "id": "2ffeda9f-2994-4f17-b687-9b042eb98c8f",
   "metadata": {},
   "outputs": [
    {
     "name": "stdout",
     "output_type": "stream",
     "text": [
      "False\n"
     ]
    }
   ],
   "source": [
    "x =11\n",
    "a= x>10 and x==20\n",
    "print(a)"
   ]
  },
  {
   "cell_type": "code",
   "execution_count": 27,
   "id": "b05264fb-3438-4e69-b1fe-fcd5aeb743ad",
   "metadata": {},
   "outputs": [
    {
     "name": "stdout",
     "output_type": "stream",
     "text": [
      "True\n"
     ]
    }
   ],
   "source": [
    "x =11\n",
    "a= x>10 or x==20\n",
    "print(a)"
   ]
  },
  {
   "cell_type": "code",
   "execution_count": 28,
   "id": "5190a3c3-d0c1-43c8-91f8-d947bc85a14b",
   "metadata": {},
   "outputs": [
    {
     "name": "stdout",
     "output_type": "stream",
     "text": [
      "False\n"
     ]
    }
   ],
   "source": [
    "x =11\n",
    "a= x>10 or x==20\n",
    "print(not a)"
   ]
  },
  {
   "cell_type": "code",
   "execution_count": 29,
   "id": "58a322bd-4ccf-4984-957a-22d77a78b493",
   "metadata": {},
   "outputs": [
    {
     "name": "stdout",
     "output_type": "stream",
     "text": [
      "False\n"
     ]
    }
   ],
   "source": [
    "a='PES University'\n",
    "\n",
    "print('X' in a)"
   ]
  },
  {
   "cell_type": "code",
   "execution_count": 30,
   "id": "9056a6ac-8b4e-4493-96b6-9dddbe30da79",
   "metadata": {},
   "outputs": [
    {
     "name": "stdout",
     "output_type": "stream",
     "text": [
      "x is positive and odd\n"
     ]
    }
   ],
   "source": [
    "x=5\n",
    "\n",
    "if x<0:\n",
    "    print(\"x is negative\")\n",
    "elif x>2:\n",
    "    print(\"x is positive and odd\")\n",
    "else:\n",
    "    print(\"x is even and non-negative\")\n",
    "          "
   ]
  },
  {
   "cell_type": "code",
   "execution_count": 32,
   "id": "ac5dd722-9655-4032-ac47-92169d186c67",
   "metadata": {},
   "outputs": [
    {
     "name": "stdout",
     "output_type": "stream",
     "text": [
      "55\n"
     ]
    }
   ],
   "source": [
    "n = 10\n",
    "\n",
    "sum = 0\n",
    "\n",
    "i =1 \n",
    "\n",
    "while i <=n:\n",
    "    sum = sum +i\n",
    "    i = i+1\n",
    "\n",
    "print (sum)"
   ]
  },
  {
   "cell_type": "code",
   "execution_count": 42,
   "id": "a8075f8f-ecab-4c08-a8e8-d8bc5b0eda30",
   "metadata": {},
   "outputs": [
    {
     "name": "stdout",
     "output_type": "stream",
     "text": [
      "720\n"
     ]
    }
   ],
   "source": [
    "n = 6\n",
    "\n",
    "fibonacci = 1\n",
    "\n",
    "\n",
    "while n >0:\n",
    "    fibonacci = fibonacci * n\n",
    "    n = n-1 \n",
    "\n",
    "print (fibonacci)"
   ]
  },
  {
   "cell_type": "code",
   "execution_count": 36,
   "id": "e81b5062-e131-42c0-ab3b-ffb1762db834",
   "metadata": {},
   "outputs": [
    {
     "name": "stdout",
     "output_type": "stream",
     "text": [
      "0\n",
      "1\n",
      "2\n",
      "3\n",
      "4\n",
      "5\n",
      "6\n",
      "7\n",
      "8\n",
      "9\n"
     ]
    }
   ],
   "source": [
    "for i in range(0,10):\n",
    "    print(i)"
   ]
  },
  {
   "cell_type": "code",
   "execution_count": 36,
   "id": "12ced053-0341-4c8e-91bc-76f5ec1a74db",
   "metadata": {},
   "outputs": [
    {
     "name": "stdout",
     "output_type": "stream",
     "text": [
      "0\n",
      "1\n",
      "2\n",
      "3\n",
      "4\n",
      "5\n",
      "6\n",
      "7\n",
      "8\n",
      "9\n"
     ]
    }
   ],
   "source": [
    "for i in range(0,10):\n",
    "    print(i)"
   ]
  },
  {
   "cell_type": "code",
   "execution_count": 39,
   "id": "e67ba949-6b46-48e3-83fd-8860b76ccdad",
   "metadata": {},
   "outputs": [
    {
     "name": "stdout",
     "output_type": "stream",
     "text": [
      "P\n",
      "y\n",
      "t\n",
      "h\n",
      "o\n",
      "n\n",
      " \n",
      "P\n",
      "r\n",
      "o\n",
      "g\n",
      "r\n",
      "a\n",
      "m\n",
      "m\n",
      "i\n",
      "n\n",
      "g\n"
     ]
    }
   ],
   "source": [
    "string = \"Python Programming\"\n",
    "\n",
    "for i in range(len(string)):\n",
    "    print(string[i])"
   ]
  },
  {
   "cell_type": "code",
   "execution_count": 44,
   "id": "cf7467a9-02d3-4dc8-ac20-0a0a4e1882cb",
   "metadata": {},
   "outputs": [
    {
     "name": "stdout",
     "output_type": "stream",
     "text": [
      "He's a nice person\n"
     ]
    }
   ],
   "source": [
    "str = \"He's a nice person\"\n",
    "print(str)"
   ]
  },
  {
   "cell_type": "code",
   "execution_count": 46,
   "id": "842be2bb-d0ce-4e7e-9541-07d2a9ef7d85",
   "metadata": {},
   "outputs": [
    {
     "name": "stdout",
     "output_type": "stream",
     "text": [
      "He said , \"How are you ?\" \n"
     ]
    }
   ],
   "source": [
    "\n",
    "\n",
    "y = '''He said , \"How are you ?\" '''\n",
    "print(y)"
   ]
  },
  {
   "cell_type": "code",
   "execution_count": 47,
   "id": "4fd1506e-0cf3-4a37-ae23-4e33ab480b7e",
   "metadata": {},
   "outputs": [],
   "source": [
    "x = 'Hi'"
   ]
  },
  {
   "cell_type": "code",
   "execution_count": 48,
   "id": "e8da18ec-7fc2-474b-ae1a-80f86700f8da",
   "metadata": {},
   "outputs": [
    {
     "data": {
      "text/plain": [
       "'Hi'"
      ]
     },
     "execution_count": 48,
     "metadata": {},
     "output_type": "execute_result"
    }
   ],
   "source": [
    "x "
   ]
  },
  {
   "cell_type": "code",
   "execution_count": 49,
   "id": "b942498e-ab3c-4b7e-b6a4-42855a0479ba",
   "metadata": {},
   "outputs": [
    {
     "name": "stdout",
     "output_type": "stream",
     "text": [
      "Hi\n"
     ]
    }
   ],
   "source": [
    "print(x) "
   ]
  },
  {
   "cell_type": "code",
   "execution_count": 50,
   "id": "e1d68b57-4b7a-4d41-ac38-4f37dc7c506e",
   "metadata": {},
   "outputs": [
    {
     "name": "stdout",
     "output_type": "stream",
     "text": [
      "[]\n"
     ]
    }
   ],
   "source": [
    "list1 = []\n",
    "\n",
    "list2 = list1\n",
    "\n",
    "print(list1)"
   ]
  },
  {
   "cell_type": "code",
   "execution_count": 51,
   "id": "464da31d-338d-4dff-8f2e-2cc10f2736f1",
   "metadata": {},
   "outputs": [
    {
     "name": "stdout",
     "output_type": "stream",
     "text": [
      "[['DS', 'ML'], [135, 43]]\n"
     ]
    }
   ],
   "source": [
    "my_list = [['DS', 'ML'], [135,43]] #Nested List\n",
    "print(my_list)"
   ]
  },
  {
   "cell_type": "code",
   "execution_count": 58,
   "id": "77cc7ac7-c675-4cd6-8a70-c6ea22897aca",
   "metadata": {},
   "outputs": [
    {
     "name": "stdout",
     "output_type": "stream",
     "text": [
      "ML\n",
      "Python\n",
      "ML\n"
     ]
    },
    {
     "data": {
      "text/plain": [
       "3"
      ]
     },
     "execution_count": 58,
     "metadata": {},
     "output_type": "execute_result"
    }
   ],
   "source": [
    "course = ['DS', 'ML','Python']\n",
    "print(course[1])\n",
    "print(course[-1])\n",
    "print(course[-2])\n",
    "len(course)"
   ]
  },
  {
   "cell_type": "code",
   "execution_count": 59,
   "id": "70244b82-4c49-4d08-b63f-0fba74fa9840",
   "metadata": {},
   "outputs": [
    {
     "name": "stdout",
     "output_type": "stream",
     "text": [
      "43\n"
     ]
    },
    {
     "data": {
      "text/plain": [
       "2"
      ]
     },
     "execution_count": 59,
     "metadata": {},
     "output_type": "execute_result"
    }
   ],
   "source": [
    "my_list = [['DS', 'ML'], [135,43]] #Matrix\n",
    "print(my_list[1][1])\n",
    "len(my_list)"
   ]
  },
  {
   "cell_type": "code",
   "execution_count": 63,
   "id": "47e5db34-b3fc-4b1e-977a-8a7da25f7d3d",
   "metadata": {},
   "outputs": [
    {
     "name": "stdout",
     "output_type": "stream",
     "text": [
      "['DS', 'ML', 'Python']\n",
      "['Python', 'HTML', 'BigData', 'Cloud']\n",
      "['DS', 'ML', 'Python', 'HTML']\n"
     ]
    }
   ],
   "source": [
    "#List [] is Mutable \n",
    "#List Operations\n",
    "\n",
    "\n",
    "course = ['DS', 'ML','Python', 'HTML', 'BigData', 'Cloud']\n",
    "\n",
    "print(course[:3]) #Start from 0 index and end at 2 exclude 3\n",
    "\n",
    "print(course[2:]) #Start from 2 index till end\n",
    "\n",
    "print(course[0:4]) #Start from 0 index and end at 3 exclude 4\n"
   ]
  },
  {
   "cell_type": "code",
   "execution_count": 66,
   "id": "5ddb8d26-65af-4370-8574-c7ce7fa16afd",
   "metadata": {},
   "outputs": [
    {
     "name": "stdout",
     "output_type": "stream",
     "text": [
      "[4, 6, 8]\n",
      "[]\n",
      "['DS', 'ML', 'Python', 'Statistics', 'BigData', 'Cloud']\n"
     ]
    }
   ],
   "source": [
    "a = [1.2,3,4,5,6,7,8,9,10]\n",
    "print(a[2:7:2])  # Print at step of 2 \n",
    "print(a[7:0:2])\n",
    "\n",
    "course [3]= \"Statistics\"\n",
    "\n",
    "print(course)\n"
   ]
  },
  {
   "cell_type": "code",
   "execution_count": 3,
   "id": "9a46d8db-bb0f-4c71-bf3b-ef88f5b98fa0",
   "metadata": {},
   "outputs": [
    {
     "name": "stdout",
     "output_type": "stream",
     "text": [
      "['DS', 'ML', 'Python', 'HTML', 'BigData', 'Cloud', 'DevOps']\n",
      "['DS', 'ML', 'Python', 'HTML', 'BigData', 'Cloud', 'DevOps', 'PyTorch']\n",
      "['DS', 'ML', 'DevOps', 'Python', 'HTML', 'BigData', 'Cloud']\n"
     ]
    }
   ],
   "source": [
    "c1 = ['DS', 'ML','Python', 'HTML', 'BigData', 'Cloud']\n",
    "\n",
    "c3 = 'PyTorch'\n",
    "\n",
    "c1.append('DevOps')  #Appending element in list\n",
    "\n",
    "\n",
    "print(c1)\n",
    "\n",
    "c1.append(c3)\n",
    "print(c1)\n",
    "\n",
    "c2 = ['DS', 'ML','Python', 'HTML', 'BigData', 'Cloud']\n",
    "\n",
    "c2.insert(2,'DevOps') #Inserting element in list\n",
    "\n",
    "print(c2)\n",
    "\n"
   ]
  },
  {
   "cell_type": "code",
   "execution_count": 1,
   "id": "6cae9f71-5ffa-4b38-8c5a-1d1a8d5b1ef1",
   "metadata": {},
   "outputs": [
    {
     "name": "stdout",
     "output_type": "stream",
     "text": [
      "['DS', 'ML', 'Python', 'HTML', 'BigData', 'Cloud', 'AI', 'Blockchain']\n"
     ]
    }
   ],
   "source": [
    "c1 = ['DS', 'ML','Python', 'HTML', 'BigData', 'Cloud']\n",
    "\n",
    "c2 = ['AI','Blockchain']\n",
    "\n",
    "c1.extend(c2)\n",
    "print(c1)"
   ]
  },
  {
   "cell_type": "code",
   "execution_count": 82,
   "id": "1fac4a6b-387d-46b7-91f5-138c92067992",
   "metadata": {},
   "outputs": [
    {
     "name": "stdout",
     "output_type": "stream",
     "text": [
      "['DS', 'ML', 'HTML', 'BigData', 'Cloud', 'AI']\n"
     ]
    }
   ],
   "source": [
    "\n",
    "\n",
    "del c1[2]\n",
    "\n",
    "print(c1)"
   ]
  },
  {
   "cell_type": "code",
   "execution_count": 83,
   "id": "ca88e15d-8f76-47f1-a7c8-7c6c5ca4e7b5",
   "metadata": {},
   "outputs": [],
   "source": [
    "del c1[0:2]"
   ]
  },
  {
   "cell_type": "code",
   "execution_count": 84,
   "id": "918a4946-165c-48a8-9de2-8f2306795e0c",
   "metadata": {},
   "outputs": [
    {
     "name": "stdout",
     "output_type": "stream",
     "text": [
      "['HTML', 'BigData', 'Cloud', 'AI']\n"
     ]
    }
   ],
   "source": [
    "print(c1)"
   ]
  },
  {
   "cell_type": "code",
   "execution_count": 85,
   "id": "636ad32d-26af-4cbe-ac61-b967a1154181",
   "metadata": {},
   "outputs": [],
   "source": [
    "c1= ['HTML', 'BigData', 'HTML','Cloud', 'AI']\n",
    "c1.remove('HTML')"
   ]
  },
  {
   "cell_type": "code",
   "execution_count": 86,
   "id": "048e365d-bac9-48dc-b324-db9a872b3e0a",
   "metadata": {},
   "outputs": [
    {
     "name": "stdout",
     "output_type": "stream",
     "text": [
      "['BigData', 'HTML', 'Cloud', 'AI']\n"
     ]
    }
   ],
   "source": [
    "print(c1)"
   ]
  },
  {
   "cell_type": "code",
   "execution_count": 89,
   "id": "67ba785c-1c9e-4c90-85c2-576b44d1535f",
   "metadata": {},
   "outputs": [
    {
     "name": "stdout",
     "output_type": "stream",
     "text": [
      "Blockchain\n",
      "['DS', 'ML', 'Python', 'HTML', 'BigData', 'Cloud', 'AI']\n"
     ]
    }
   ],
   "source": [
    "course = ['DS', 'ML', 'Python', 'HTML', 'BigData', 'Cloud', 'AI', 'Blockchain']\n",
    "\n",
    "print(course.pop())\n",
    "\n",
    "print(course)"
   ]
  },
  {
   "cell_type": "code",
   "execution_count": 92,
   "id": "dba7cfca-5ca6-4509-8782-7d76f2030442",
   "metadata": {},
   "outputs": [],
   "source": [
    "course.reverse()   #? Check\n",
    "print()"
   ]
  },
  {
   "cell_type": "code",
   "execution_count": 93,
   "id": "3d6a8272-12ed-4d23-b208-717a093fb0d5",
   "metadata": {},
   "outputs": [
    {
     "name": "stdout",
     "output_type": "stream",
     "text": [
      "['AI', 'Cloud', 'BigData', 'HTML', 'Python', 'ML', 'DS']\n"
     ]
    }
   ],
   "source": [
    "course*2   #? Check\n",
    "\n",
    "print(course)"
   ]
  },
  {
   "cell_type": "code",
   "execution_count": 94,
   "id": "08398a62-a913-4f53-8912-d440ab7a11a0",
   "metadata": {},
   "outputs": [
    {
     "name": "stdout",
     "output_type": "stream",
     "text": [
      "('hello', 'python', 2.28)\n"
     ]
    }
   ],
   "source": [
    "#Tuple () is a collection which is ordered and immuatble. \n",
    "\n",
    "\n",
    "my_tuple=(\"hello\", \"python\", 2.28)\n",
    "\n",
    "print(my_tuple) "
   ]
  },
  {
   "cell_type": "code",
   "execution_count": 95,
   "id": "fada6736-069b-4e9a-86dc-915e4d26c532",
   "metadata": {},
   "outputs": [
    {
     "name": "stdout",
     "output_type": "stream",
     "text": [
      "(('hello', 'python'), (2.28, 1.47))\n"
     ]
    }
   ],
   "source": [
    "my_tuple1=((\"hello\", \"python\"), (2.28,1.47))\n",
    "\n",
    "print(my_tuple1) "
   ]
  },
  {
   "cell_type": "code",
   "execution_count": 112,
   "id": "02b48b47-a7fc-4317-bd8b-bd30a919e7b3",
   "metadata": {},
   "outputs": [
    {
     "name": "stdout",
     "output_type": "stream",
     "text": [
      "python\n",
      "('green', 'orange')\n",
      "orange\n"
     ]
    }
   ],
   "source": [
    "mytuple=(\"hello\", \"python\", \"orange\",\"green\",\"orange\",\"pink\")\n",
    "\n",
    "print(mytuple[1])\n",
    "\n",
    "print(mytuple[3:5])\n",
    "\n",
    "print(mytuple[-2])"
   ]
  },
  {
   "cell_type": "code",
   "execution_count": 108,
   "id": "6853ac57-d549-4fb8-81d2-3a29cfb34792",
   "metadata": {},
   "outputs": [
    {
     "name": "stdout",
     "output_type": "stream",
     "text": [
      "(123, ['s', 'a', 99], 'world')\n"
     ]
    }
   ],
   "source": [
    "mytuple=(123, ['s','a','v'],\"world\")\n",
    "\n",
    "mytuple [1][2] =99\n",
    "\n",
    "print(mytuple)"
   ]
  },
  {
   "cell_type": "code",
   "execution_count": 3,
   "id": "476f8491-3bc7-49c1-b025-68b5b87cebae",
   "metadata": {},
   "outputs": [
    {
     "name": "stdout",
     "output_type": "stream",
     "text": [
      "[(3.78, 9.56), ('StudyTonight', 'Study')]\n"
     ]
    }
   ],
   "source": [
    "my_tuple_list = [(1,2), (3.78, 9.56), (\"StudyTonight\", \"Study\")]\n",
    "del my_tuple_list[0]\n",
    "print(my_tuple_list)"
   ]
  },
  {
   "cell_type": "code",
   "execution_count": 2,
   "id": "23a942d9-426b-410d-833f-39ae00e56f71",
   "metadata": {},
   "outputs": [
    {
     "name": "stdout",
     "output_type": "stream",
     "text": [
      "2\n"
     ]
    }
   ],
   "source": [
    "mytuple=(123, ['s','a','v'],\"world\")\n",
    "x = mytuple.index('world')  \n",
    "print(x)"
   ]
  },
  {
   "cell_type": "code",
   "execution_count": 115,
   "id": "1f27ea92-fe1f-4af2-b5da-32cedef81765",
   "metadata": {},
   "outputs": [
    {
     "data": {
      "text/plain": [
       "[1, 5, 6, 7, 22, 813]"
      ]
     },
     "execution_count": 115,
     "metadata": {},
     "output_type": "execute_result"
    }
   ],
   "source": [
    "mytuple = (1,5,6,7,3,813,22,3)\n",
    "sorted(mytuple)"
   ]
  },
  {
   "cell_type": "code",
   "execution_count": 119,
   "id": "a098ac8d-9f3f-4bff-94b4-ab47a7444202",
   "metadata": {},
   "outputs": [
    {
     "name": "stdout",
     "output_type": "stream",
     "text": [
      "0\n"
     ]
    }
   ],
   "source": [
    "count=mytuple.count(3)\n",
    "print(count)"
   ]
  },
  {
   "cell_type": "code",
   "execution_count": 6,
   "id": "e177951b-eb32-4354-9240-d04f6f35c659",
   "metadata": {},
   "outputs": [
    {
     "name": "stdout",
     "output_type": "stream",
     "text": [
      "{'Mia': 8847, 'John': 8347, 'Jack': 8674}\n"
     ]
    }
   ],
   "source": [
    "# Dictionaries {} stores data in key value pair\n",
    "# Keys should be unique, if duplicates are there it will return the most updated value \n",
    "\n",
    "balance= {\n",
    "    \"Mia\": 8847,\n",
    "    \"John\": 8347,\n",
    "    \"Jack\": 8674,\n",
    "}\n",
    "\n",
    "print(balance)"
   ]
  },
  {
   "cell_type": "code",
   "execution_count": 8,
   "id": "fbc25c08-8209-4a08-97f2-74ab449c48e2",
   "metadata": {},
   "outputs": [
    {
     "name": "stdout",
     "output_type": "stream",
     "text": [
      "8847\n",
      "8847\n"
     ]
    }
   ],
   "source": [
    "x = balance.get(\"Mia\")\n",
    "\n",
    "\n",
    "print(x)\n",
    "print(balance[\"Mia\"])"
   ]
  },
  {
   "cell_type": "code",
   "execution_count": 131,
   "id": "70a94288-e503-4a9b-8ff0-a15e715da9ae",
   "metadata": {},
   "outputs": [
    {
     "name": "stdout",
     "output_type": "stream",
     "text": [
      "{2016: 4500, 2017: 8347, 2018: 8674}\n"
     ]
    }
   ],
   "source": [
    "sales= {\n",
    "    2016 : 8847,\n",
    "    2017 : 8347,\n",
    "    2018 : 8674,\n",
    "}\n",
    "\n",
    "\n",
    "sales[2016] =4500\n",
    "\n",
    "print(sales)"
   ]
  },
  {
   "cell_type": "code",
   "execution_count": 135,
   "id": "fbf848c7-bc17-402b-9c7c-18b30e9a58bb",
   "metadata": {},
   "outputs": [
    {
     "name": "stdout",
     "output_type": "stream",
     "text": [
      "3\n"
     ]
    }
   ],
   "source": [
    "print(len(sales))"
   ]
  },
  {
   "cell_type": "code",
   "execution_count": 136,
   "id": "c0ccefef-5d37-47b4-8477-2e4ca047602c",
   "metadata": {},
   "outputs": [
    {
     "name": "stdout",
     "output_type": "stream",
     "text": [
      "{2016: 4500, 2017: 8347, 2018: 8674, '2019': 6500}\n"
     ]
    }
   ],
   "source": [
    "sales['2019'] = 6500\n",
    "print(sales)"
   ]
  },
  {
   "cell_type": "code",
   "execution_count": 137,
   "id": "e1b97423-41f7-4d77-af1a-1af54a2a3702",
   "metadata": {},
   "outputs": [
    {
     "data": {
      "text/plain": [
       "4500"
      ]
     },
     "execution_count": 137,
     "metadata": {},
     "output_type": "execute_result"
    }
   ],
   "source": [
    "sales.pop(2016) # Removes the key and value which is specified "
   ]
  },
  {
   "cell_type": "code",
   "execution_count": 138,
   "id": "76469eb5-0599-4ec0-a38e-0d88a3d1ad9c",
   "metadata": {},
   "outputs": [
    {
     "name": "stdout",
     "output_type": "stream",
     "text": [
      "{2017: 8347, 2018: 8674, '2019': 6500}\n"
     ]
    }
   ],
   "source": [
    "print(sales)"
   ]
  },
  {
   "cell_type": "code",
   "execution_count": 14,
   "id": "fe5aafbf-6bbf-40e3-967c-37907b5d18d1",
   "metadata": {},
   "outputs": [],
   "source": [
    "sales1= {\n",
    "    2016 : 8847,\n",
    "    2017 : 8347,\n",
    "    2018 : 8674,\n",
    "    2019 : 5674,\n",
    "}\n",
    "\n",
    "\n"
   ]
  },
  {
   "cell_type": "code",
   "execution_count": null,
   "id": "62ad2d3e-247f-4e31-bca2-b1148a16c212",
   "metadata": {},
   "outputs": [],
   "source": [
    "sales1.popitem()"
   ]
  },
  {
   "cell_type": "code",
   "execution_count": 15,
   "id": "0f2cf5df-c2b6-4ef4-b1c8-3d98da45f409",
   "metadata": {},
   "outputs": [],
   "source": [
    "del sales1[2018]\n"
   ]
  },
  {
   "cell_type": "code",
   "execution_count": 16,
   "id": "842b2022-5dde-4c57-847e-d43529f1013f",
   "metadata": {},
   "outputs": [
    {
     "name": "stdout",
     "output_type": "stream",
     "text": [
      "{2016: 8847, 2017: 8347, 2019: 5674, 2018: 6674}\n",
      "{}\n"
     ]
    }
   ],
   "source": [
    "sales1.update({2018:6674})\n",
    "print (sales1)\n",
    "\n"
   ]
  },
  {
   "cell_type": "code",
   "execution_count": 16,
   "id": "fe89ff27-b5bd-4c35-8eb6-b567edc6cf5c",
   "metadata": {},
   "outputs": [
    {
     "name": "stdout",
     "output_type": "stream",
     "text": [
      "{2016: 8847, 2017: 8347, 2019: 5674, 2018: 6674}\n",
      "{}\n"
     ]
    }
   ],
   "source": [
    "sales1.update({2018:6674})\n",
    "print (sales1)\n",
    "\n",
    "car = {\n",
    "  \"brand\": \"Ford\",\n",
    "  \"model\": \"Mustang\",\n",
    "  \"year\": 1964\n",
    "}\n",
    "\n",
    "car.clear()\n",
    "\n",
    "print(car)"
   ]
  },
  {
   "cell_type": "code",
   "execution_count": 17,
   "id": "6a6ef848-952e-4a4e-87a9-b1ab3a65cd34",
   "metadata": {},
   "outputs": [
    {
     "data": {
      "text/plain": [
       "[(1, 'Jill'), (2, 'Jack'), (3, 'Jim'), (4, 'Jane')]"
      ]
     },
     "execution_count": 17,
     "metadata": {},
     "output_type": "execute_result"
    }
   ],
   "source": [
    "people = {3: \"Jim\", 2: \"Jack\", 4: \"Jane\", 1: \"Jill\"}\n",
    "\n",
    "sorted(people.items())"
   ]
  },
  {
   "cell_type": "code",
   "execution_count": 147,
   "id": "840ac9d9-945d-4df3-8579-a88c7ee9a1c5",
   "metadata": {},
   "outputs": [
    {
     "data": {
      "text/plain": [
       "{'hi', 'python', 'world'}"
      ]
     },
     "execution_count": 147,
     "metadata": {},
     "output_type": "execute_result"
    }
   ],
   "source": [
    "# Set is a  collection of unique elements\n",
    "# Used to elminate duplicate\n",
    "# Sets do not have any order\n",
    "\n",
    "\n",
    "myset ={\"python\", \"world\"}\n",
    "\n",
    "myset.add(\"hi\") # Adds to the begining \n",
    "\n",
    "myset"
   ]
  },
  {
   "cell_type": "code",
   "execution_count": 149,
   "id": "848a631c-eff9-466f-b8f8-dde3bc3eed17",
   "metadata": {},
   "outputs": [
    {
     "data": {
      "text/plain": [
       "{'ds', 'hi', 'ml', 'python', 'world'}"
      ]
     },
     "execution_count": 149,
     "metadata": {},
     "output_type": "execute_result"
    }
   ],
   "source": [
    "myset.update(['ds','ml']) # Adds to the begining \n",
    "myset"
   ]
  },
  {
   "cell_type": "code",
   "execution_count": 150,
   "id": "dca5b292-f40b-4d98-b3c0-0fed694856d4",
   "metadata": {},
   "outputs": [
    {
     "name": "stdout",
     "output_type": "stream",
     "text": [
      "5\n"
     ]
    }
   ],
   "source": [
    "print(len(myset))"
   ]
  },
  {
   "cell_type": "code",
   "execution_count": 158,
   "id": "bf4b9720-b54b-4119-8fc5-b838bb7023ed",
   "metadata": {},
   "outputs": [
    {
     "data": {
      "text/plain": [
       "'ds'"
      ]
     },
     "execution_count": 158,
     "metadata": {},
     "output_type": "execute_result"
    }
   ],
   "source": [
    "#Check remove, pop\n",
    "\n",
    "myset.pop()  # randomly removes an element "
   ]
  },
  {
   "cell_type": "code",
   "execution_count": 1,
   "id": "1924d480-df18-4d03-97ff-47c0cd92bdd9",
   "metadata": {},
   "outputs": [
    {
     "ename": "NameError",
     "evalue": "name 'myset' is not defined",
     "output_type": "error",
     "traceback": [
      "\u001b[0;31m---------------------------------------------------------------------------\u001b[0m",
      "\u001b[0;31mNameError\u001b[0m                                 Traceback (most recent call last)",
      "\u001b[1;32m/Users/anurag_singh/Desktop/DSBA/Workspace/dsba/src/jupyter/jupyter101.ipynb Cell 98\u001b[0m line \u001b[0;36m1\n\u001b[0;32m----> <a href='vscode-notebook-cell:/Users/anurag_singh/Desktop/DSBA/Workspace/dsba/src/jupyter/jupyter101.ipynb#Y166sZmlsZQ%3D%3D?line=0'>1</a>\u001b[0m myset\u001b[39m.\u001b[39mpop() \n",
      "\u001b[0;31mNameError\u001b[0m: name 'myset' is not defined"
     ]
    }
   ],
   "source": [
    "myset.pop() "
   ]
  },
  {
   "cell_type": "code",
   "execution_count": 160,
   "id": "1b8725c8-5420-4b5a-b59f-95b2c9f496f2",
   "metadata": {},
   "outputs": [
    {
     "name": "stdout",
     "output_type": "stream",
     "text": [
      "{'python', 'world'}\n"
     ]
    }
   ],
   "source": [
    "print(myset)"
   ]
  },
  {
   "cell_type": "code",
   "execution_count": 2,
   "id": "6fd7ee07-0315-42cb-aa7c-82e9f20da20f",
   "metadata": {},
   "outputs": [
    {
     "name": "stdout",
     "output_type": "stream",
     "text": [
      "Did Not match the pattern\n"
     ]
    }
   ],
   "source": [
    "str = \"Perl\"\n",
    "\n",
    "list = [\"ML\", \"DS\", \"Python\", \"Statistics\", \"AI\"]\n",
    "\n",
    "if str in list:\n",
    "    print(str+\" Tutorial\")\n",
    "else:\n",
    "    print(\"Did Not match the pattern\")"
   ]
  },
  {
   "cell_type": "code",
   "execution_count": 3,
   "id": "8b6002e2-8747-42a2-9dd7-2b799b5e8b49",
   "metadata": {},
   "outputs": [
    {
     "name": "stdout",
     "output_type": "stream",
     "text": [
      "150\n",
      "21.428571428571427\n"
     ]
    }
   ],
   "source": [
    "n =150\n",
    "\n",
    "print(n)\n",
    "\n",
    "result = n * 7 if n>500 else n/7\n",
    "print(result)"
   ]
  },
  {
   "cell_type": "code",
   "execution_count": 5,
   "id": "95169cad-d315-4cdd-b428-b89a08f39aff",
   "metadata": {},
   "outputs": [
    {
     "name": "stdout",
     "output_type": "stream",
     "text": [
      "Invalid Crdentials...\n"
     ]
    }
   ],
   "source": [
    "\n",
    "usr = input(\"Enter username:\")\n",
    "passwd = input(\"Enter Password:\")\n",
    "\n",
    "if (usr == \"greatlearning\" and passwd==\"simplelearning\"):\n",
    "    print(\"Successfully logged in ...\")\n",
    "else :\n",
    "    print(\"Invalid Crdentials...\")\n",
    "        \n"
   ]
  },
  {
   "cell_type": "code",
   "execution_count": 177,
   "id": "15cd1710-8608-4007-85ec-01426000773b",
   "metadata": {},
   "outputs": [
    {
     "name": "stdout",
     "output_type": "stream",
     "text": [
      "Enter number: -6\n"
     ]
    },
    {
     "name": "stdout",
     "output_type": "stream",
     "text": [
      "Negative Number\n"
     ]
    }
   ],
   "source": [
    "num = float(input(\"Enter number:\"))\n",
    "\n",
    "if num > 0:\n",
    "    if num == 0:\n",
    "        print(\"Number is equal to Zero\")\n",
    "    else:\n",
    "        print(\" Non-zero Number\")   \n",
    "else :\n",
    "    print(\"Negative Number\")\n",
    "        "
   ]
  },
  {
   "cell_type": "code",
   "execution_count": 181,
   "id": "2cfbc98e-fc9a-42d8-b4f3-4588e1b290ce",
   "metadata": {},
   "outputs": [
    {
     "name": "stdout",
     "output_type": "stream",
     "text": [
      "Sum:  431\n",
      "Avg: 61.57142857142857\n"
     ]
    }
   ],
   "source": [
    "\n",
    "\n",
    "num = [22,34,56,67,66,88,98]\n",
    "\n",
    "sum = 0\n",
    "\n",
    "for val in num:\n",
    "    sum = sum+val\n",
    "\n",
    "\n",
    "print(\"Sum: \",sum)\n",
    "print(\"Avg:\",sum/len(num))"
   ]
  },
  {
   "cell_type": "code",
   "execution_count": 180,
   "id": "520e2ef7-6b3a-48db-9486-32ac8865d154",
   "metadata": {},
   "outputs": [
    {
     "name": "stdout",
     "output_type": "stream",
     "text": [
      "0\n",
      "1\n",
      "2\n",
      "3\n",
      "4\n",
      "5\n"
     ]
    }
   ],
   "source": [
    "for x in range(6):\n",
    "    print(x)"
   ]
  },
  {
   "cell_type": "code",
   "execution_count": 183,
   "id": "754941e6-ff5e-4567-b1a5-bb7fb7e5131a",
   "metadata": {},
   "outputs": [
    {
     "name": "stdout",
     "output_type": "stream",
     "text": [
      "0\n",
      "1\n",
      "2\n",
      "3\n",
      "4\n"
     ]
    }
   ],
   "source": [
    "x =0\n",
    "\n",
    "while x<5:\n",
    "    print(x)\n",
    "    x += 1"
   ]
  },
  {
   "cell_type": "markdown",
   "id": "872bf322-091b-42fa-a192-ab8f8b946591",
   "metadata": {},
   "source": [
    "```\n",
    "In case of for loop we know how many iterations will be there \n",
    "But in case of while loop we don't know how many iterations will be there\n",
    "```"
   ]
  }
 ],
 "metadata": {
  "kernelspec": {
   "display_name": "Python 3 (ipykernel)",
   "language": "python",
   "name": "python3"
  },
  "language_info": {
   "codemirror_mode": {
    "name": "ipython",
    "version": 3
   },
   "file_extension": ".py",
   "mimetype": "text/x-python",
   "name": "python",
   "nbconvert_exporter": "python",
   "pygments_lexer": "ipython3",
   "version": "3.11.6"
  }
 },
 "nbformat": 4,
 "nbformat_minor": 5
}
