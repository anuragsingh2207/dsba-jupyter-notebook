{
 "cells": [
  {
   "cell_type": "markdown",
   "metadata": {},
   "source": [
    "```\n",
    "Session 1 Questions\n",
    "```"
   ]
  },
  {
   "cell_type": "markdown",
   "metadata": {},
   "source": [
    "```\n",
    "1. How will you pint the string This is dad's gift or Hi \"Sanjay\" or 20;30; 40 !!!\n",
    "```"
   ]
  },
  {
   "cell_type": "code",
   "execution_count": 1,
   "metadata": {
    "notebookRunGroups": {
     "groupValue": ""
    }
   },
   "outputs": [
    {
     "name": "stdout",
     "output_type": "stream",
     "text": [
      "This is dad's gift\n",
      "Hi \"Sanjay\" \n",
      "20;30; 40 !!!\n"
     ]
    }
   ],
   "source": [
    "print(\"This is dad's gift\")\n",
    "\n",
    "print('''Hi \"Sanjay\" ''')\n",
    "\n",
    "print(\"20;30; 40 !!!\")"
   ]
  },
  {
   "cell_type": "markdown",
   "metadata": {},
   "source": [
    "``` \n",
    "2. Accept any three string from one input() call and store it in separate variables\n",
    "```"
   ]
  },
  {
   "cell_type": "code",
   "execution_count": 6,
   "metadata": {},
   "outputs": [
    {
     "name": "stdout",
     "output_type": "stream",
     "text": [
      "Entered input strings are: Anurag,Kumar,Singh\n"
     ]
    }
   ],
   "source": [
    "str1, str2, str3 = input(\"Enter 3 input strings:\").split(' ')\n",
    "\n",
    "print (\"Entered input strings are:\", str1+\",\"+str2+\",\"+str3)\n"
   ]
  },
  {
   "cell_type": "markdown",
   "metadata": {},
   "source": [
    "```\n",
    "3. Split an email address into a user name and a domain\n",
    "```"
   ]
  },
  {
   "cell_type": "code",
   "execution_count": 7,
   "metadata": {},
   "outputs": [
    {
     "name": "stdout",
     "output_type": "stream",
     "text": [
      "Username: anurag\n",
      "Domain: xyz.com\n"
     ]
    }
   ],
   "source": [
    "email = input(\"Enter your email address:\")\n",
    "\n",
    "username,domain = email.split('@')\n",
    "\n",
    "print(\"Username:\",username)\n",
    "print(\"Domain:\",domain)"
   ]
  },
  {
   "cell_type": "markdown",
   "metadata": {},
   "source": [
    "```\n",
    "4. Accept date in DD/MM/YYYY format, as a string. \n",
    "MM/DD \n",
    "YYYY/MM/DD string format. \n",
    "```"
   ]
  },
  {
   "cell_type": "code",
   "execution_count": 8,
   "metadata": {},
   "outputs": [
    {
     "name": "stdout",
     "output_type": "stream",
     "text": [
      "MM/DD 12/27\n",
      "YYYY/MM/DD 1993/12/27\n"
     ]
    }
   ],
   "source": [
    "date = input(\"Enter date in DD/MM/YYYY format\")\n",
    "\n",
    "dd, mm, yy = date.split('/')\n",
    "print(\"MM/DD\", mm+\"/\"+dd)\n",
    "\n",
    "print(\"YYYY/MM/DD\", yy+\"/\"+mm+\"/\"+dd)"
   ]
  },
  {
   "cell_type": "markdown",
   "metadata": {},
   "source": [
    "```\n",
    "5. Find the output \n",
    "a = \"Badenrttemberg\"\n",
    "b = \"Badenrttemberg\"\n",
    "a is b\n",
    "```"
   ]
  },
  {
   "cell_type": "code",
   "execution_count": 10,
   "metadata": {},
   "outputs": [
    {
     "name": "stdout",
     "output_type": "stream",
     "text": [
      "Both strings match\n",
      "True\n"
     ]
    }
   ],
   "source": [
    "\n",
    "a = \"Badenrttemberg\"\n",
    "b = \"Badenrttemberg\"\n",
    "\n",
    "if a == b:\n",
    "    print(\"Both strings match\")\n",
    "else:\n",
    "    print(\"Both strings do not match\") \n",
    "\n",
    "\n",
    "print(a==b)       "
   ]
  },
  {
   "cell_type": "markdown",
   "metadata": {},
   "source": [
    "```\n",
    "6. Try to find out the hidden sentence using Slicing. The solution consists of 2 steps!\n",
    "\n",
    "s = \"TPoyrtohnotno  ciosu rtshees  lianr gTeosrto nCtiot yb yi nB oCdaennasdeao\"\n",
    "```"
   ]
  },
  {
   "cell_type": "code",
   "execution_count": 13,
   "metadata": {},
   "outputs": [
    {
     "name": "stdout",
     "output_type": "stream",
     "text": [
      "TPoyrtohnotno yi rtshees lianr gTeosrto nCtiot yb ciosu nB\n"
     ]
    }
   ],
   "source": [
    "\n",
    "s = \"TPoyrtohnotno  ciosu rtshees  lianr gTeosrto nCtiot yb yi nB oCdaennasdeao\""
   ]
  },
  {
   "cell_type": "markdown",
   "metadata": {},
   "source": [
    "```\n",
    "7. Find the maximum of 3 numbers\n",
    "```"
   ]
  },
  {
   "cell_type": "code",
   "execution_count": 12,
   "metadata": {},
   "outputs": [
    {
     "name": "stdout",
     "output_type": "stream",
     "text": [
      "44 is the largest number\n"
     ]
    }
   ],
   "source": [
    "\n",
    "num1, num2, num3 = input(\"Enter 3 numbers:\").split(' ')\n",
    "\n",
    "if num1 >= num2 and num1 >= num3:\n",
    "    print(num1+\" is the largest number\")\n",
    "elif num2 >= num1 and num2 >= num3:\n",
    "    print(num2+\" is the largest number\")\n",
    "else:\n",
    "    print(num3+\" is the largest number\")   \n",
    "    "
   ]
  },
  {
   "cell_type": "markdown",
   "metadata": {},
   "source": [
    "```\n",
    "8. Python Program to exchange the values of two numbers without using a temporary variable\n",
    "```"
   ]
  },
  {
   "cell_type": "code",
   "execution_count": 24,
   "metadata": {},
   "outputs": [
    {
     "name": "stdout",
     "output_type": "stream",
     "text": [
      "Before swapping a=2 b=3\n",
      "After swapping a=3 b=2\n"
     ]
    }
   ],
   "source": [
    "\n",
    "a = 2\n",
    "b = 3\n",
    "\n",
    "print(\"Before swapping a=\"+str(a)+\" b=\"+str(b))\n",
    "\n",
    "a = a+b\n",
    "b= a-b\n",
    "a =a-b\n",
    "\n",
    "print(\"After swapping a=\"+str(a)+\" b=\"+str(b))\n",
    "\n",
    "\n"
   ]
  },
  {
   "cell_type": "markdown",
   "metadata": {},
   "source": [
    "```\n",
    "9. Write a program that asks the user to enter a string of at least six characters. Then print out the following: \n",
    "(a) The string backwards\n",
    "(b) Every character of the string except the last one\n",
    "(c) Every character of the string except the first and last\n",
    "(d) If the string contains a lowercase a, print out the index of the first a. Otherwise say that there is no lowercase a\n",
    "(e) The string in all caps\n",
    "(f) The string with every space replaced with an underscore\n",
    "```"
   ]
  },
  {
   "cell_type": "code",
   "execution_count": 7,
   "metadata": {},
   "outputs": [
    {
     "name": "stdout",
     "output_type": "stream",
     "text": [
      "Entered String length is greater than or equal to 6 characters\n",
      "Reversed String:  erolagnaB\n",
      "Printing every character of the string except the last one:  Bangalor\n",
      "Printing every character of the string except the first and last:  angalor\n",
      "Upper Case: BANGALORE\n"
     ]
    }
   ],
   "source": [
    "str1 = input(\"Enter a string of 6 or more characters:\")\n",
    "\n",
    "str2 = \" \"\n",
    "str3 = \" \"\n",
    "\n",
    "i = len(str1) - 1\n",
    "if (i>=6):\n",
    "    print(\"Entered String length is greater than or equal to 6 characters\")\n",
    "    while (i >= 0):\n",
    "        str2 = str2 + str1[i]\n",
    "        i = i - 1\n",
    "else:\n",
    "    print(\"Entered String length is less than 6 characters\")        \n",
    "    while (i >= 0):\n",
    "            str2 = str2 + str1[i]\n",
    "            i = i - 1\n",
    "\n",
    "print(\"Reversed String: \"+str2)\n",
    "\n",
    "element = 0\n",
    "length = len(str1) - 2\n",
    "while (element <= length):\n",
    "        str3 = str3 + str1[element]\n",
    "        element = element + 1\n",
    "\n",
    "print(\"Printing every character of the string except the last one: \"+str3)\n",
    "\n",
    "str4 = \" \"\n",
    "\n",
    "j = 1\n",
    "length = len(str1) - 2\n",
    "while (j <= length):\n",
    "        str4 = str4 + str1[j]\n",
    "        j = j + 1\n",
    "\n",
    "print(\"Printing every character of the string except the first and last: \"+str4)\n",
    "\n",
    "\n",
    "\n",
    "upper = str1.upper()\n",
    "\n",
    "print(\"Upper Case: \"+upper)\n",
    "\n",
    "\n",
    "\n"
   ]
  },
  {
   "cell_type": "code",
   "execution_count": 15,
   "metadata": {},
   "outputs": [
    {
     "name": "stdout",
     "output_type": "stream",
     "text": [
      "Output String:  Banga_lore\n"
     ]
    }
   ],
   "source": [
    "str1 = input(\"Enter a string of 6 or more characters:\")\n",
    "\n",
    "\n",
    "p = 0\n",
    "\n",
    "while p<len(str1):\n",
    "      if str1[p] == \" \":\n",
    "         str2=str1.replace(\" \",\"_\")\n",
    "      p = p + 1\n",
    "\n",
    "\n",
    "\n",
    "print(\"Output String: \",str2)"
   ]
  },
  {
   "cell_type": "markdown",
   "metadata": {},
   "source": [
    "\n",
    "```\n",
    "Session 2 Questions:\n",
    "\n",
    "```"
   ]
  },
  {
   "cell_type": "markdown",
   "metadata": {},
   "source": [
    "```\n",
    "1 a.Find the output\n",
    "mylist1 = [1,3,5]\n",
    "mylist1.insert(1000,'hello')\n",
    "mylist\n",
    "\n",
    "1b.\n",
    "x=0\n",
    "y=1\n",
    "list1=[x,y]\n",
    "print(list1)\n",
    "```"
   ]
  },
  {
   "cell_type": "code",
   "execution_count": 4,
   "metadata": {},
   "outputs": [
    {
     "name": "stdout",
     "output_type": "stream",
     "text": [
      "[1, 3, 5, 'hello']\n",
      "[0, 1]\n"
     ]
    }
   ],
   "source": [
    "#1a\n",
    "mylist1 = [1,3,5]\n",
    "mylist1.insert(1000,'hello')\n",
    "print(mylist1)\n",
    "\n",
    "#1b.\n",
    "x=0\n",
    "y=1\n",
    "list1=[x,y]\n",
    "print(list1)"
   ]
  },
  {
   "cell_type": "markdown",
   "metadata": {},
   "source": [
    "```\n",
    "2.Print eee using negative indexing \n",
    "\n",
    "L = ['a', 'b', ['cc', 'dd', ['eee', 'fff']], 'g', 'h']\n",
    "```"
   ]
  },
  {
   "cell_type": "code",
   "execution_count": 5,
   "metadata": {},
   "outputs": [
    {
     "name": "stdout",
     "output_type": "stream",
     "text": [
      "eee\n"
     ]
    }
   ],
   "source": [
    "\n",
    "L = ['a', 'b', ['cc', 'dd', ['eee', 'fff']], 'g', 'h']\n",
    "\n",
    "print(L[-3][2][0])\n",
    "\n",
    "\n",
    "        "
   ]
  },
  {
   "cell_type": "markdown",
   "metadata": {},
   "source": [
    "```\n",
    "3. Write a python program to manipulate lists. Take two lists \n",
    "\n",
    "L1=[1,2,3,4,5,6,7,8,9,10] and L2=[10,20,30,40,50,60,70,80,90,100].\n",
    "a) Concatenate L1 and L2.(1 mark)\n",
    "b) Use the inbuilt function zip and save a copy of the zipped lists as L3.(2 marks)\n",
    "c) Identify the common elements between the two L1 and L2 and print the answer. (2 marks)\n",
    "3b.Using the list of tree names = [\"Mango tree\", \"Coconut tree\", \"papaya tree\" , \"Apple tree\", \"Banana tree\", \"Blackberry tree\"] answer the below questions\n",
    "Step1: Using tree names remove items at indexes [2,3,4] by replacing with an empty list.(2 Mark)\n",
    "Step2: Add the items[Neem Tree, Peepal Tree] starting at index [3]. (3 Mark)\n",
    "Step3: Write a function determine how many times a given letter is \"n\" occurs in a string= (\" Banana tree\") (5 Marks)\n",
    "```"
   ]
  },
  {
   "cell_type": "code",
   "execution_count": 3,
   "metadata": {},
   "outputs": [
    {
     "name": "stdout",
     "output_type": "stream",
     "text": [
      "[1, 2, 3, 4, 5, 6, 7, 8, 9, 10, [10, 20, 30, 40, 50, 60, 70, 80, 90, 100]]\n",
      "<zip object at 0x106d913c0>\n"
     ]
    }
   ],
   "source": [
    "L1=[1,2,3,4,5,6,7,8,9,10] \n",
    "L2=[10,20,30,40,50,60,70,80,90,100]\n",
    "\n",
    "L1.append(L2)\n",
    "print(L1)\n",
    "\n",
    "L3 = zip(L1,L2)\n",
    "\n",
    "print(L3)\n",
    "\n"
   ]
  },
  {
   "cell_type": "markdown",
   "metadata": {},
   "source": [
    "```\n",
    "4.Print z\n",
    "nested_lst = [[\"Hat\", \"Glove\", \"Goggle\"], [\"Button\", \"Zipper\", \"Hook\"]]\n",
    "```\n"
   ]
  },
  {
   "cell_type": "code",
   "execution_count": 1,
   "metadata": {},
   "outputs": [
    {
     "name": "stdout",
     "output_type": "stream",
     "text": [
      "Z\n"
     ]
    }
   ],
   "source": [
    "nested_lst = [[\"Hat\", \"Glove\", \"Goggle\"], [\"Button\", \"Zipper\", \"Hook\"]]\n",
    "\n",
    "print(nested_lst[1][1][0])"
   ]
  },
  {
   "cell_type": "markdown",
   "metadata": {},
   "source": [
    "```\n",
    "5.Given two lists, l1 and l2, write a program to create a third list l3 by picking an odd-index element from the list l1 and even index elements from the list l2.\n",
    "l1 = [3, 6, 9, 12, 15, 18, 21]\n",
    "l2 = [4, 8, 12, 16, 20, 24, 28]\n",
    "```"
   ]
  },
  {
   "cell_type": "code",
   "execution_count": 4,
   "metadata": {},
   "outputs": [
    {
     "name": "stdout",
     "output_type": "stream",
     "text": [
      "[4, 6, 12, 12, 20, 18, 28]\n"
     ]
    }
   ],
   "source": [
    "l1 = [3, 6, 9, 12, 15, 18, 21]\n",
    "l2 = [4, 8, 12, 16, 20, 24, 28]\n",
    "\n",
    "l3 = []\n",
    "\n",
    "i = 0\n",
    "\n",
    "j = 0\n",
    "\n",
    "while i < len(l1) :\n",
    "    while j < len(l2):\n",
    "        if i %2 != 0:\n",
    "            l3.append(l1[i])\n",
    "        elif j %2 == 0:\n",
    "            l3.append(l2[j])\n",
    "\n",
    "        i = i + 1\n",
    "        j = j + 1    \n",
    "\n",
    "print(l3)"
   ]
  },
  {
   "cell_type": "markdown",
   "metadata": {},
   "source": [
    "```\n",
    "6.Create dictionary from the given list\n",
    "key = ['a','b','c','d']\n",
    "value = [1, 2, 3, 4]\n",
    "```"
   ]
  },
  {
   "cell_type": "code",
   "execution_count": 2,
   "metadata": {},
   "outputs": [
    {
     "name": "stdout",
     "output_type": "stream",
     "text": [
      "Dictionary from Lists: {'a': 4, 'b': 4, 'c': 4, 'd': 4}\n"
     ]
    }
   ],
   "source": [
    "key = ['a','b','c','d']\n",
    "value = [1, 2, 3, 4]\n",
    "dict = {}\n",
    "\n",
    "for k in key:\n",
    "    for v in value:\n",
    "        dict[k] = v\n",
    "\n",
    "print(\"Dictionary from Lists:\",dict)\n"
   ]
  },
  {
   "cell_type": "markdown",
   "metadata": {},
   "source": [
    "```\n",
    "7. Using len function and sorted() function, sort the list based on the length of the strings this time in descending order.\n",
    "lakes1=[\"Malawi\", \"Medicine\", \"Tahoe\", \"Moraine\", \"Upper Arrow\", \"Plitvice\", \"Edith\", \"Emerald\"]\n",
    "```"
   ]
  },
  {
   "cell_type": "code",
   "execution_count": 1,
   "metadata": {},
   "outputs": [
    {
     "name": "stdout",
     "output_type": "stream",
     "text": [
      "['Upper Arrow', 'Tahoe', 'Plitvice', 'Moraine', 'Medicine', 'Malawi', 'Emerald', 'Edith']\n"
     ]
    }
   ],
   "source": [
    "lakes1=[\"Malawi\", \"Medicine\", \"Tahoe\", \"Moraine\", \"Upper Arrow\", \"Plitvice\", \"Edith\", \"Emerald\"]\n",
    "\n",
    "sorted_list = sorted(lakes1, reverse=True)\n",
    "   \n",
    "print(sorted_list)\n"
   ]
  },
  {
   "cell_type": "markdown",
   "metadata": {},
   "source": [
    "```\n",
    "8. .Print list of common and unique words\n",
    "s1= “python language is good”\n",
    "s2= “great language is python”\n",
    "```"
   ]
  },
  {
   "cell_type": "code",
   "execution_count": null,
   "metadata": {},
   "outputs": [],
   "source": [
    "s1 = \"python language is good\"\n",
    "s2 = \"great language is python\""
   ]
  },
  {
   "cell_type": "markdown",
   "metadata": {},
   "source": [
    "```\n",
    "9.What will be the output of the following code snippet?\n",
    "init_tuple_a = 'a', 'b'\n",
    "init_tuple_b = ('a', 'b')\n",
    "\n",
    "print (init_tuple_a == init_tuple_b)\n",
    "```"
   ]
  },
  {
   "cell_type": "code",
   "execution_count": null,
   "metadata": {},
   "outputs": [],
   "source": []
  },
  {
   "cell_type": "markdown",
   "metadata": {},
   "source": [
    "```\n",
    "10.What will be the output of the following code snippet?\n",
    "init_tuple = ((1, 2),) * 7\n",
    "print(init_tuple)\n",
    "print(len(init_tuple[3:8]))\n",
    "```"
   ]
  },
  {
   "cell_type": "code",
   "execution_count": null,
   "metadata": {},
   "outputs": [],
   "source": []
  },
  {
   "cell_type": "markdown",
   "metadata": {},
   "source": [
    "```\n",
    "11.What will be the output of the following code snippet?\n",
    "a = {'a':1,'b':2,'c':3}\n",
    "print (a['a','b'])\n",
    "\n",
    "\n",
    "```"
   ]
  },
  {
   "cell_type": "code",
   "execution_count": null,
   "metadata": {},
   "outputs": [],
   "source": []
  },
  {
   "cell_type": "markdown",
   "metadata": {},
   "source": [
    "```\n",
    "12.What will be the output of the following code snippet?\n",
    "mytuple=(123,[34,45,66],\"world\")\n",
    "mytuple[1][2]=77\n",
    "```"
   ]
  },
  {
   "cell_type": "code",
   "execution_count": null,
   "metadata": {},
   "outputs": [],
   "source": []
  },
  {
   "cell_type": "markdown",
   "metadata": {},
   "source": [
    "```\n",
    "Session 3 Questions:\n",
    "\n",
    "```"
   ]
  },
  {
   "cell_type": "markdown",
   "metadata": {},
   "source": [
    "```\n",
    "1.Enter the Selling Price and calculate discount based on the range of Selling Price.The discount rate is:\n",
    "5% if Selling Price is atmost 5000\n",
    "12% if Selling Price is atmost 15000\n",
    "20% if Selling Price is atmost 25000\n",
    "30% if Selling Price is more than 25000\n",
    "\n",
    "For this next example, suppose you would love to get a job in Hawaii but would only accept it if the annual pay is at least 85,000. You would also be willing to take a job in New York if the annual pay is at least 100,000 or anywhere else if the annual pay is at least 75,000. The following example takes two inputs from the user, location and pay and returns a particular response based on the inputs.\n",
    "```"
   ]
  },
  {
   "cell_type": "code",
   "execution_count": null,
   "metadata": {},
   "outputs": [],
   "source": []
  },
  {
   "cell_type": "markdown",
   "metadata": {},
   "source": [
    "```\n",
    "2.Write a Python program to make a currency converter. The currency converter should be able to convert a specific currency to an appropriate INR (Indian National Rupee) value.\n",
    " 1. USD (U.S Dollars) (1 USD =82.26 INR)\n",
    " 2. YEN (Japanese YEN)  (1 YEN= 0.58 INR\n",
    " 3. EURO (1 EURO=90.79 INR) \n",
    " 4. U.K. POUND (1 U.K POUND=105.67 INR)\n",
    "```"
   ]
  },
  {
   "cell_type": "code",
   "execution_count": null,
   "metadata": {},
   "outputs": [],
   "source": []
  },
  {
   "cell_type": "markdown",
   "metadata": {},
   "source": [
    "```\n",
    "3. Write a Python program to check the validity of a debit card.\n",
    "\n",
    "a) Verify and ensure that the length of the debit card is 14.\n",
    "\n",
    "b) Verify that the year printed on the debit card should be either 2021 or greater than 2021. If the year is less than 2021, user should get a message that the card expired.\n",
    "c)Verify that the month number printed in the card should be between 1 and 12. Any number less than 1 and any number greater than 12 should be invalid.\n",
    "\n",
    "d) Enter the CVV number printed on the debit card and ensure that the length is neither less than 3 nor greater than 3.\n",
    "\n",
    "```"
   ]
  },
  {
   "cell_type": "code",
   "execution_count": null,
   "metadata": {},
   "outputs": [],
   "source": []
  },
  {
   "cell_type": "markdown",
   "metadata": {},
   "source": [
    "```\n",
    "\n",
    "4.Use the built-in random module and a for loop to generate 40 random numbers between -50 and 50 then display a list of only the negative numbers .The program should also count the number of negative numbers and display the count.\n",
    "\n",
    "```"
   ]
  },
  {
   "cell_type": "code",
   "execution_count": null,
   "metadata": {},
   "outputs": [],
   "source": []
  },
  {
   "cell_type": "markdown",
   "metadata": {},
   "source": [
    "```\n",
    "\n",
    "5.With a given list [12,24,35,24,88,120,155,88,120,155,10,2,3],\n",
    "write a program to print this list after removing all duplicate values with original order reserved.\n",
    "```"
   ]
  },
  {
   "cell_type": "code",
   "execution_count": null,
   "metadata": {},
   "outputs": [],
   "source": []
  },
  {
   "cell_type": "markdown",
   "metadata": {},
   "source": [
    "```\n",
    "6. One way to solve math equations is by trial and error. Computers can help with that. The equation 21𝑥2−𝑥3+21904=0 has an integer solution between 1 and 100. Print that x value which satisfies this equation (5 Marks)\n",
    "\n",
    "6b.Count the occurrences of a character in a string using for loop \n",
    "\n",
    "6c.Get a string from user and calculate number of digits and alphabets.\n",
    "```"
   ]
  },
  {
   "cell_type": "code",
   "execution_count": null,
   "metadata": {},
   "outputs": [],
   "source": []
  }
 ],
 "metadata": {
  "kernelspec": {
   "display_name": "pyenv",
   "language": "python",
   "name": "python3"
  },
  "language_info": {
   "codemirror_mode": {
    "name": "ipython",
    "version": 3
   },
   "file_extension": ".py",
   "mimetype": "text/x-python",
   "name": "python",
   "nbconvert_exporter": "python",
   "pygments_lexer": "ipython3",
   "version": "3.11.6"
  }
 },
 "nbformat": 4,
 "nbformat_minor": 2
}
