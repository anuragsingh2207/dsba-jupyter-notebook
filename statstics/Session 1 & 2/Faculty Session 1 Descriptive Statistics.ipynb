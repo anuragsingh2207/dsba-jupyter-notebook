{
 "cells": [
  {
   "cell_type": "markdown",
   "metadata": {},
   "source": [
    "<table align=\"left\" width=100%>\n",
    "    <tr>\n",
    "        <td width=\"20%\">\n",
    "            <img src=\"faculty.png\">\n",
    "        </td>\n",
    "        <td>\n",
    "            <div align=\"center\">\n",
    "                <font color=\"#21618C\" size=8px>\n",
    "                  <b> Faculty Notebook <br> (Session 1) </b>\n",
    "                </font>\n",
    "            </div>\n",
    "        </td>\n",
    "    </tr>\n",
    "</table>"
   ]
  },
  {
   "cell_type": "markdown",
   "metadata": {},
   "source": [
    "## Table of Content\n",
    "\n",
    "1. **[Import Libraries](#lib)**\n",
    "2. **[Descriptive Statistics](#des)**\n",
    "    - 2.1 - **[Measures of Central Tendency](#CT)**\n",
    "    - 2.2 - **[Measures of Dispersion](#disp)**\n",
    "    - 2.3 - **[Skewness and Kurtosis](#sk)**\n",
    "    - 2.4 - **[Covariance and Correlation](#cc)**"
   ]
  },
  {
   "cell_type": "markdown",
   "metadata": {},
   "source": [
    "<a id=\"lib\"></a>\n",
    "# 1. Import Libraries"
   ]
  },
  {
   "cell_type": "markdown",
   "metadata": {},
   "source": [
    "**Let us import the required libraries.**"
   ]
  },
  {
   "cell_type": "code",
   "execution_count": 1,
   "metadata": {},
   "outputs": [],
   "source": [
    "import numpy as np\n",
    "import pandas as pd\n",
    "import matplotlib.pyplot as plt\n",
    "import seaborn as sns\n",
    "import random # to introduce randomness in selection\n",
    "import statistics\n",
    "from scipy import stats # Library for statistical calculations\n",
    "import warnings\n",
    "warnings.filterwarnings(\"ignore\")"
   ]
  },
  {
   "cell_type": "markdown",
   "metadata": {},
   "source": [
    "The study of statistics is mainly divided into two parts: `Descriptive` and `Inferential`.\n",
    "\n",
    "Here we mainly focus on `Inferential Statistics`. Before that, let us recall the descriptive statistics methods learned as a part of exploratory data analysis."
   ]
  },
  {
   "cell_type": "markdown",
   "metadata": {},
   "source": [
    "# 1. Sampling "
   ]
  },
  {
   "cell_type": "markdown",
   "metadata": {},
   "source": [
    "The weights of 15 bags are given . \n",
    "1. Select randomly 7 bags with replacement\n",
    "2. Select 7 bags without replacement\n",
    "\n",
    "- weights=[15.6,15.7,14.6,14.7,15.8,15.0,15.1,14.9,14.8,15.5,15.4,15.3,14.8,15.1,14.8,14.9]\n"
   ]
  },
  {
   "cell_type": "code",
   "execution_count": 2,
   "metadata": {},
   "outputs": [
    {
     "name": "stdout",
     "output_type": "stream",
     "text": [
      "Sample with replacements: [14.7, 14.6, 14.9, 14.9, 15.8, 14.8, 14.9]\n",
      "Sample without replacements: [14.8, 15.0, 14.9, 15.5, 15.6, 15.1, 15.1]\n"
     ]
    }
   ],
   "source": [
    "weights=[15.6,15.7,14.6,14.7,15.8,15.0,15.1,14.9,14.8,15.5,15.4,15.3,14.8,15.1,14.8,14.9]\n",
    "\n",
    "\n",
    "#Use andom.choices(data, k) where k is the sample size\n",
    "print(\"Sample with replacements:\", random.choices(weights, k=7))\n",
    "\n",
    "\n",
    "#Can show duplicates if the dataset contains duplicate values\n",
    "print(\"Sample without replacements:\", random.sample(weights, k=7))\n"
   ]
  },
  {
   "cell_type": "code",
   "execution_count": 3,
   "metadata": {},
   "outputs": [
    {
     "name": "stdout",
     "output_type": "stream",
     "text": [
      "Sample with replacements: [15.0, 14.6, 15.4, 15.7, 14.8, 15.0, 15.6]\n",
      "Sample without replacements: [15.1, 15.6, 15.7, 14.9, 14.8, 15.1, 14.7]\n"
     ]
    }
   ],
   "source": [
    "#Get same numbers again\n",
    "random.seed(7)\n",
    "print(\"Sample with replacements:\", random.choices(weights, k=7))\n",
    "\n",
    "\n",
    "print(\"Sample without replacements:\", random.sample(weights, k=7))"
   ]
  },
  {
   "cell_type": "markdown",
   "metadata": {},
   "source": [
    "<a id=\"des\"></a>\n",
    "# 2. Descriptive Statistics"
   ]
  },
  {
   "cell_type": "markdown",
   "metadata": {},
   "source": [
    "Descriptive statistics summarizes or describes the given data. It includes measures of central tendency, measures of dispersion and distribution of the data."
   ]
  },
  {
   "cell_type": "markdown",
   "metadata": {},
   "source": [
    "<a id=\"CT\"></a>\n",
    "## 2.1 Measures of Central Tendency"
   ]
  },
  {
   "cell_type": "markdown",
   "metadata": {},
   "source": [
    "A measure of central tendency is a value that distinguishes the central position of the data. It includes mean, median, mode and partition values of the data.\n",
    "\n",
    "### Mean:\n",
    "It is defined as the ratio of the sum of all the observations to the total number of observations. It is affected by the presence of outliers.\n",
    "\n",
    "### Median:\n",
    "It is the middlemost observation in the data when it is arranged in the increasing or decreasing order based on the values. It divides the dataset into two equal parts.\n",
    "\n",
    "### Mode: \n",
    "It is defined as the value in the data with the highest frequency. There can be more than one mode in the data.\n",
    "\n",
    "### Partition values:\n",
    "Partition values are defined as the values that divide the data into equal parts. `Quartiles` divide the data into 4 equal parts, `Deciles` divide the data into 10 equal parts and `Percentiles` divide the data into 100 equal parts."
   ]
  },
  {
   "cell_type": "markdown",
   "metadata": {},
   "source": [
    "### Example:\n",
    "\n",
    "#### 1. A manager handles 12 branches of a supermarket situated in the U.S.A. Consider one day sale (in dollars) of all the branches. Calculate the mean, median and mode to find the average sale. Which measure would you report for the average sale?\n",
    "    \n",
    "    Sale = [165, 182, 140, 193, 172, 168, 174, 124, 187, 204, 148, 175]"
   ]
  },
  {
   "cell_type": "code",
   "execution_count": 22,
   "metadata": {},
   "outputs": [
    {
     "name": "stdout",
     "output_type": "stream",
     "text": [
      "Mean: 169.3\n",
      "Median: 173.0\n",
      "Mode: 124\n"
     ]
    }
   ],
   "source": [
    "Sale = [165, 182, 140, 193, 172, 168, 174, 124, 187, 204, 148, 175] # Population data\n",
    "\n",
    "print(\"Mean:\", round(np.mean(Sale),1))\n",
    "\n",
    "print(\"Median:\", round(np.median(Sale),1))\n",
    "\n",
    "mode = stats.mode(Sale)\n",
    "\n",
    "print(\"Mode:\", mode[0])\n"
   ]
  },
  {
   "cell_type": "markdown",
   "metadata": {},
   "source": [
    "<a id=\"disp\"></a>\n",
    "## 2.2 Measures of Dispersion"
   ]
  },
  {
   "cell_type": "markdown",
   "metadata": {},
   "source": [
    "A measure of dispersion describes the variability in the data. Some of the measures of dispersion are range, variance, standard deviation, coefficient of variation, and IQR.\n",
    "\n",
    "### Range:\n",
    "It is defined as the difference between the largest and smallest observation in the data. It is affected by the presence of extreme observations. \n",
    "\n",
    "### Variance: \n",
    "It calculates the dispersion of the data from the mean. It is defined as the average of the sum of squares of the difference between the observation and the mean.\n",
    "\n",
    "### Standard Deviation:\n",
    "It is the positive square root of variance. The unit of standard deviation is the same as the unit of data points. The variable with near-zero standard deviation is least important for the analysis.\n",
    "\n",
    "### Coefficient of Variation\n",
    "It is a measure of the dispersion of data points around the mean. It is always expressed in percentage. We can compare the coefficient of variation of two or more groups to identify the group with more spread.\n",
    "\n",
    "### Interquartile Range (IQR):\n",
    "It is defined as the difference between the third and first quartiles. It returns the range of the middle 50% of the data. IQR can be used to identify the outliers in the data."
   ]
  },
  {
   "cell_type": "markdown",
   "metadata": {},
   "source": [
    "### Example:\n",
    "\n",
    "#### 1. A manager handles 12 branches of a supermarket situated in the U.S.A. Consider one day sale (in dollars) of all the branches. Calculate the range, variance and  standard deviation of the sale. Also, find the range in which the middle 50% of the sale would lie.\n",
    "    \n",
    "    Sale = [165, 182, 140, 193, 172, 168, 174, 124, 187, 204, 148, 175]"
   ]
  },
  {
   "cell_type": "code",
   "execution_count": 54,
   "metadata": {},
   "outputs": [
    {
     "name": "stdout",
     "output_type": "stream",
     "text": [
      "Range: 80\n",
      "Mean: 169.3\n",
      "Variance: 473.9\n",
      "Standard Deviation: 21.8\n",
      "Coeffiecient of Variation : 12.86 %\n",
      "IQR/ Middle 50%: 22.5\n"
     ]
    }
   ],
   "source": [
    "#This is population data\n",
    "sale = [165, 182, 140, 193, 172, 168, 174, 124, 187, 204, 148, 175]\n",
    "\n",
    "print(\"Range:\", np.max(sale)-np.min(sale))\n",
    "\n",
    "print(\"Mean:\", round(np.mean(sale),1))\n",
    "\n",
    "print(\"Variance:\", round(np.var(sale),1))\n",
    "\n",
    "print(\"Standard Deviation:\", round(np.std(sale),1))\n",
    "\n",
    "print(\"Coeffiecient of Variation :\", round((np.std(sale)/np.mean(sale))*100,2),\"%\")\n",
    "\n",
    "iqr = np.quantile(sale, 0.75) -np.quantile(sale,0.25)\n",
    "\n",
    "print(\"IQR/ Middle 50%:\",iqr)\n",
    "\n"
   ]
  },
  {
   "cell_type": "markdown",
   "metadata": {},
   "source": [
    "\n",
    "<a id=\"sk\"></a>\n",
    "## 2.3 Skewness and Kurtosis"
   ]
  },
  {
   "cell_type": "markdown",
   "metadata": {},
   "source": [
    "### Skewness:\n",
    "It measures the degree to which the distribution of the data differs from the normal distribution. The value of skewness can be `positive`, `negative`, or `zero`.\n",
    "\n",
    "### Kurtosis:\n",
    "It identifies the peakedness of the data distribution. The positive value of kurtosis represents the `leptokurtic` distribution, the negative value represents the `platykurtic` distribution, and zero value represents the `mesokurtic` distribution."
   ]
  },
  {
   "cell_type": "markdown",
   "metadata": {},
   "source": [
    "### Example:\n",
    "\n",
    "#### 1. A manager handles 12 branches of a supermarket situated in the U.S.A. Consider one day sale (in dollars) of all the branches. Identify the type of Skewness and Kurtosis for sales.\n",
    "    \n",
    "    Sale = [165, 182, 140, 193, 172, 168, 174, 124, 187, 204, 148, 175]"
   ]
  },
  {
   "cell_type": "code",
   "execution_count": 57,
   "metadata": {},
   "outputs": [
    {
     "name": "stdout",
     "output_type": "stream",
     "text": [
      "Skewnees: -0.53\n",
      "-ve Skewness means Left Skewed\n",
      "\n",
      "Kurtosis: -0.38\n",
      "-ve Kutosis means Platykurtic\n"
     ]
    }
   ],
   "source": [
    "sale = [165, 182, 140, 193, 172, 168, 174, 124, 187, 204, 148, 175]\n",
    "\n",
    "skeewess = stats.skew(sale)\n",
    "\n",
    "print(\"Skewnees:\",round(skeewess,2))\n",
    "print(\"-ve Skewness means Left Skewed\")\n",
    "\n",
    "\n",
    "kurtosis = stats.kurtosis(sale)\n",
    "print(\"\\nKurtosis:\",round(kurtosis,2))\n",
    "print(\"-ve Kutosis means Platykurtic\")\n",
    "\n"
   ]
  },
  {
   "cell_type": "markdown",
   "metadata": {},
   "source": [
    "<a id=\"cc\"></a>\n",
    "## 2.4 Covariance and Correlation"
   ]
  },
  {
   "cell_type": "markdown",
   "metadata": {},
   "source": [
    "### Covariance:\n",
    "It measures the degree to which two variables move together. The value of covariance can be between $-\\infty$ to $\\infty$. The magnitude of covariance is not easy to interpret.  \n",
    "\n",
    "### Correlation:\n",
    "It is the normalized value of covariance. The correlation value near to +1 indicates a `strong positive` correlation between the variables, and value near to -1 indicates a `strong negative` correlation."
   ]
  },
  {
   "cell_type": "markdown",
   "metadata": {},
   "source": [
    "### Example:\n",
    "\n",
    "#### 1. A manager handles 12 branches of a supermarket situated in the U.S.A. Consider one day sale (in dollars) and working hours of all the branches. Find the relationship between the working hours of a store and its sales.\n",
    "    Sale = [165, 182, 140, 193, 172, 168, 174, 124, 187, 204, 148, 175]\n",
    "    Working hours = [7, 8.5, 8, 10, 9, 8, 8.5, 7.5, 9.5, 8.5, 8, 9]"
   ]
  },
  {
   "cell_type": "code",
   "execution_count": 63,
   "metadata": {},
   "outputs": [
    {
     "name": "stdout",
     "output_type": "stream",
     "text": [
      "Covariance:  12.29\n",
      "There exists positive relation between working hours and sales.\n",
      "\n",
      "Correlation:  0.64\n",
      "There is a moderate-strong correlation between working hours and sales\n"
     ]
    }
   ],
   "source": [
    "sales = pd.Series([165, 182, 140, 193, 172, 168, 174, 124, 187, 204, 148, 175])\n",
    "hours = pd.Series([7, 8.5, 8, 10, 9, 8, 8.5, 7.5, 9.5, 8.5, 8, 9])\n",
    "\n",
    "\n",
    "#covariance between hours and sales\n",
    "\n",
    "covarience = hours.cov(sales)\n",
    "\n",
    "print(\"Covariance: \", round(covarience,2))\n",
    "\n",
    "print(\"There exists positive relation between working hours and sales.\\n\")\n",
    "\n",
    "correlation = hours.corr(sales)\n",
    "\n",
    "print(\"Correlation: \", round(correlation,2))\n",
    "\n",
    "print(\"There is a moderate-strong correlation between working hours and sales\")"
   ]
  },
  {
   "cell_type": "markdown",
   "metadata": {},
   "source": [
    "# THE END"
   ]
  },
  {
   "cell_type": "markdown",
   "metadata": {},
   "source": []
  }
 ],
 "metadata": {
  "kernelspec": {
   "display_name": "Python 3 (ipykernel)",
   "language": "python",
   "name": "python3"
  },
  "language_info": {
   "codemirror_mode": {
    "name": "ipython",
    "version": 3
   },
   "file_extension": ".py",
   "mimetype": "text/x-python",
   "name": "python",
   "nbconvert_exporter": "python",
   "pygments_lexer": "ipython3",
   "version": "3.11.8"
  }
 },
 "nbformat": 4,
 "nbformat_minor": 2
}
