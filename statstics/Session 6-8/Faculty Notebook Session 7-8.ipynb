{
 "cells": [
  {
   "cell_type": "markdown",
   "metadata": {
    "id": "Z0TKr5b6BeD_"
   },
   "source": [
    "<table align=\"left\" width=100%>\n",
    "    <tr>\n",
    "        <td width=\"20%\">\n",
    "            <img src=\"faculty.png\">\n",
    "        </td>\n",
    "        <td>\n",
    "            <div align=\"center\">\n",
    "                <font color=\"#21618C\" size=8px>\n",
    "                  <b> Faculty Notebook <br> (Session 7,8) </b>\n",
    "                </font>\n",
    "            </div>\n",
    "        </td>\n",
    "    </tr>\n",
    "</table>"
   ]
  },
  {
   "cell_type": "markdown",
   "metadata": {
    "id": "ciP05hY6BeEC"
   },
   "source": [
    "## Table of Content\n",
    "\n",
    "1. **[Import Libraries](#lib)**\n",
    "2. **[One-way ANOVA](#1way)**\n",
    "    - 2.1 - **[Post-hoc Analysis](#post-hoc)**\n"
   ]
  },
  {
   "cell_type": "markdown",
   "metadata": {
    "id": "LhlTP32ZBeEC"
   },
   "source": [
    "<a id=\"lib\"></a>\n",
    "# 1. Import Libraries"
   ]
  },
  {
   "cell_type": "markdown",
   "metadata": {
    "id": "Du2Vl_bRBeED"
   },
   "source": [
    "**Let us import the required libraries.**"
   ]
  },
  {
   "cell_type": "code",
   "execution_count": 2,
   "metadata": {
    "id": "lZioFxW4BeED"
   },
   "outputs": [],
   "source": [
    "import pandas as pd\n",
    "import numpy as np\n",
    "import seaborn as sns\n",
    "import matplotlib.pyplot as plt\n",
    "from scipy import stats\n",
    "\n",
    "#for ANOVA\n",
    "from statsmodels.formula.api import ols\n",
    "from statsmodels.stats.anova import anova_lm\n",
    "\n",
    "#for Chi Square Test\n",
    "from scipy.stats import chi2_contingency\n",
    "from scipy.stats import chi2\n",
    "\n",
    "import warnings\n",
    "warnings.filterwarnings(\"ignore\")\n"
   ]
  },
  {
   "cell_type": "markdown",
   "metadata": {
    "id": "KtijwbBXBeEU"
   },
   "source": [
    "<a id=\"1way\"></a>\n",
    "# 2. One-way ANOVA"
   ]
  },
  {
   "cell_type": "markdown",
   "metadata": {},
   "source": [
    "It is used to check the equality of population means for more than two independent samples. Each group is considered as a `treatment`. It assumes that the samples are taken from normally distributed populations. To check this assumption we can use the `Shapiro-Wilk Test.` Also, the population variances should be equal; this can be tested using the `Levene's Test`.\n",
    "\n",
    "The null and alternative hypothesis is given as:\n",
    "<p style='text-indent:20em'> <strong> $H_{0}$: The averages of all treatments are the same. </strong></p>\n",
    "<p style='text-indent:20em'> <strong> $H_{1}$: At least one treatment has a different average. </strong></p>\n"
   ]
  },
  {
   "cell_type": "markdown",
   "metadata": {
    "id": "ZquQFvOqBeEV"
   },
   "source": [
    "### Example:\n",
    "\n",
    "#### 1. Total marks in aptitude exam are recorded for students with different race/ethnicity. Test whether all the races/ethnicities have an equal average score with 0.05 level of significance. "
   ]
  },
  {
   "cell_type": "markdown",
   "metadata": {
    "id": "r7HfM3HIBeEV"
   },
   "source": [
    "Use the performance dataset of students available in the CSV file `students_data.csv`."
   ]
  },
  {
   "cell_type": "code",
   "execution_count": 5,
   "metadata": {
    "id": "zVeU0ivoBeEV",
    "outputId": "5b32ff1d-8d8d-4d14-bae0-19a79a50f77f",
    "scrolled": false
   },
   "outputs": [
    {
     "data": {
      "text/html": [
       "<div>\n",
       "<style scoped>\n",
       "    .dataframe tbody tr th:only-of-type {\n",
       "        vertical-align: middle;\n",
       "    }\n",
       "\n",
       "    .dataframe tbody tr th {\n",
       "        vertical-align: top;\n",
       "    }\n",
       "\n",
       "    .dataframe thead th {\n",
       "        text-align: right;\n",
       "    }\n",
       "</style>\n",
       "<table border=\"1\" class=\"dataframe\">\n",
       "  <thead>\n",
       "    <tr style=\"text-align: right;\">\n",
       "      <th></th>\n",
       "      <th>gender</th>\n",
       "      <th>ethnicity</th>\n",
       "      <th>education</th>\n",
       "      <th>lunch</th>\n",
       "      <th>test_prep_course</th>\n",
       "      <th>math_score</th>\n",
       "      <th>reading_score</th>\n",
       "      <th>writing_score</th>\n",
       "      <th>total_score</th>\n",
       "      <th>training_institute</th>\n",
       "    </tr>\n",
       "  </thead>\n",
       "  <tbody>\n",
       "    <tr>\n",
       "      <th>0</th>\n",
       "      <td>female</td>\n",
       "      <td>group B</td>\n",
       "      <td>bachelor's degree</td>\n",
       "      <td>standard</td>\n",
       "      <td>none</td>\n",
       "      <td>89</td>\n",
       "      <td>55</td>\n",
       "      <td>56</td>\n",
       "      <td>200</td>\n",
       "      <td>Nature Learning</td>\n",
       "    </tr>\n",
       "    <tr>\n",
       "      <th>1</th>\n",
       "      <td>female</td>\n",
       "      <td>group C</td>\n",
       "      <td>college</td>\n",
       "      <td>standard</td>\n",
       "      <td>completed</td>\n",
       "      <td>55</td>\n",
       "      <td>63</td>\n",
       "      <td>72</td>\n",
       "      <td>190</td>\n",
       "      <td>Nature Learning</td>\n",
       "    </tr>\n",
       "    <tr>\n",
       "      <th>2</th>\n",
       "      <td>female</td>\n",
       "      <td>group B</td>\n",
       "      <td>master's degree</td>\n",
       "      <td>standard</td>\n",
       "      <td>none</td>\n",
       "      <td>64</td>\n",
       "      <td>71</td>\n",
       "      <td>56</td>\n",
       "      <td>191</td>\n",
       "      <td>Nature Learning</td>\n",
       "    </tr>\n",
       "    <tr>\n",
       "      <th>3</th>\n",
       "      <td>male</td>\n",
       "      <td>group A</td>\n",
       "      <td>associate's degree</td>\n",
       "      <td>free/reduced</td>\n",
       "      <td>none</td>\n",
       "      <td>60</td>\n",
       "      <td>99</td>\n",
       "      <td>72</td>\n",
       "      <td>231</td>\n",
       "      <td>Nature Learning</td>\n",
       "    </tr>\n",
       "    <tr>\n",
       "      <th>4</th>\n",
       "      <td>male</td>\n",
       "      <td>group C</td>\n",
       "      <td>college</td>\n",
       "      <td>standard</td>\n",
       "      <td>none</td>\n",
       "      <td>75</td>\n",
       "      <td>66</td>\n",
       "      <td>51</td>\n",
       "      <td>192</td>\n",
       "      <td>Nature Learning</td>\n",
       "    </tr>\n",
       "  </tbody>\n",
       "</table>\n",
       "</div>"
      ],
      "text/plain": [
       "   gender ethnicity           education         lunch test_prep_course  \\\n",
       "0  female   group B   bachelor's degree      standard             none   \n",
       "1  female   group C             college      standard        completed   \n",
       "2  female   group B     master's degree      standard             none   \n",
       "3    male   group A  associate's degree  free/reduced             none   \n",
       "4    male   group C             college      standard             none   \n",
       "\n",
       "   math_score  reading_score  writing_score  total_score training_institute  \n",
       "0          89             55             56          200    Nature Learning  \n",
       "1          55             63             72          190    Nature Learning  \n",
       "2          64             71             56          191    Nature Learning  \n",
       "3          60             99             72          231    Nature Learning  \n",
       "4          75             66             51          192    Nature Learning  "
      ]
     },
     "execution_count": 5,
     "metadata": {},
     "output_type": "execute_result"
    }
   ],
   "source": [
    "df = pd.read_csv(\"./data/students_data.csv\")\n",
    "df.head()"
   ]
  },
  {
   "cell_type": "code",
   "execution_count": 6,
   "metadata": {},
   "outputs": [
    {
     "data": {
      "text/plain": [
       "array(['group B', 'group C', 'group A', 'group D', 'group E'],\n",
       "      dtype=object)"
      ]
     },
     "execution_count": 6,
     "metadata": {},
     "output_type": "execute_result"
    }
   ],
   "source": [
    "#Check the eethnicity groups\n",
    "df['ethnicity'].unique()\n",
    "\n"
   ]
  },
  {
   "cell_type": "code",
   "execution_count": null,
   "metadata": {},
   "outputs": [],
   "source": [
    "#Hypothesis\n",
    "#H0: all the group means are equal (claim)\n",
    "#h1: at least one group have differnt mean"
   ]
  },
  {
   "cell_type": "code",
   "execution_count": 14,
   "metadata": {},
   "outputs": [],
   "source": [
    "#Create the subgroup for each ethnicity\n",
    "grpA=df[df['ethnicity']=='group A']['total_score']\n",
    "grpB=df[df['ethnicity']=='group B']['total_score']\n",
    "grpC=df[df['ethnicity']=='group C']['total_score']\n",
    "grpD=df[df['ethnicity']=='group D']['total_score']\n",
    "grpE=df[df['ethnicity']=='group E']['total_score']\n"
   ]
  },
  {
   "cell_type": "code",
   "execution_count": 15,
   "metadata": {},
   "outputs": [
    {
     "data": {
      "image/png": "[encoded data removed]",
      "text/plain": [
       "<Figure size 640x480 with 1 Axes>"
      ]
     },
     "metadata": {},
     "output_type": "display_data"
    }
   ],
   "source": [
    "#Drwa Side by Side boxplots to get an idea of the difference of groups\n",
    "sns.boxplot(x=df['ethnicity'], y=df['total_score'])\n",
    "plt.show()\n",
    "\n",
    "#Box plot points out that null hypothesis will not be rejected"
   ]
  },
  {
   "cell_type": "code",
   "execution_count": 29,
   "metadata": {},
   "outputs": [
    {
     "name": "stdout",
     "output_type": "stream",
     "text": [
      "Critical Value 2.3808758069291818\n"
     ]
    }
   ],
   "source": [
    "#Critical Value\n",
    "k=5\n",
    "N=len(df)\n",
    "dfN=k-1\n",
    "dfD=N-k\n",
    "cv =stats.f.isf(0.05, dfN, dfD)\n",
    "print(\"Critical Value\", cv)"
   ]
  },
  {
   "cell_type": "code",
   "execution_count": 24,
   "metadata": {},
   "outputs": [
    {
     "name": "stdout",
     "output_type": "stream",
     "text": [
      "0.12649444001357793 Higher p-value shows equality of variances\n"
     ]
    }
   ],
   "source": [
    "#Check for equality of variances \n",
    "stat, pval =stats.levene(grpA, grpB, grpC, grpD,  grpE)\n",
    "print(pval, \"Higher p-value shows equality of variances\")\n",
    "\n"
   ]
  },
  {
   "cell_type": "code",
   "execution_count": 25,
   "metadata": {},
   "outputs": [
    {
     "name": "stdout",
     "output_type": "stream",
     "text": [
      "0.5322937031083035 0.789109595922189\n"
     ]
    }
   ],
   "source": [
    "#Check for one way ANOVA\n",
    "stat, pval =stats.f_oneway(grpA, grpB, grpC, grpD,  grpE)\n",
    "print(pval, stat)"
   ]
  },
  {
   "cell_type": "code",
   "execution_count": 30,
   "metadata": {},
   "outputs": [
    {
     "name": "stdout",
     "output_type": "stream",
     "text": [
      "Do not reject H0 since p-value >> 0.05 and test value < critical value \n"
     ]
    }
   ],
   "source": [
    "#Decision\n",
    "print(\"Do not reject H0 since p-value >> 0.05 and test value < critical value \")"
   ]
  },
  {
   "cell_type": "code",
   "execution_count": 31,
   "metadata": {},
   "outputs": [
    {
     "name": "stdout",
     "output_type": "stream",
     "text": [
      "There is not enough evidence to reject the claim and we conclude that ethicity is not all group means are equal \n"
     ]
    }
   ],
   "source": [
    "#Summary\n",
    "print(\"There is not enough evidence to reject the claim and we conclude that ethicity is not all group means are equal \")"
   ]
  },
  {
   "cell_type": "markdown",
   "metadata": {
    "id": "KBWviHQuBeEY"
   },
   "source": [
    "#### 2. Ryan is a production manager at an industry manufacturing alloy seals. They have 4 machines - A, B, C and D. Ryan wants to study whether all the machines have equal efficiency. Ryan collects data of tensile strength from all the 4 machines as given. Test at 5% level of significance.\n",
    "\n",
    "<img src='1_ANOVA.png'>"
   ]
  },
  {
   "cell_type": "code",
   "execution_count": 32,
   "metadata": {},
   "outputs": [],
   "source": [
    "A=pd.Series([68.7, 75.4, 70.9,79.1, 78.2])\n",
    "B=pd.Series([62.7, 68.5, 63.1, 62.2, 60.3])\n",
    "C=pd.Series([55.9, 56.1, 57.3, 59.2, 50.1])\n",
    "D=pd.Series([80.7, 70.3, 80.9, 85.4, 82.3])"
   ]
  },
  {
   "cell_type": "code",
   "execution_count": null,
   "metadata": {},
   "outputs": [],
   "source": [
    "#Hypothesis \n",
    "#H0: All groups means are equal (Claim)\n",
    "#H1: Atleast one groups means is different "
   ]
  },
  {
   "cell_type": "code",
   "execution_count": 36,
   "metadata": {},
   "outputs": [
    {
     "name": "stdout",
     "output_type": "stream",
     "text": [
      "Critical Value =  3.238871517453585\n"
     ]
    }
   ],
   "source": [
    "#Critical Value\n",
    "k=4\n",
    "N=20\n",
    "cv=stats.f.isf(0.05, k-1, N-k)\n",
    "print(\"Critical Value = \", cv)"
   ]
  },
  {
   "cell_type": "code",
   "execution_count": 39,
   "metadata": {},
   "outputs": [
    {
     "name": "stdout",
     "output_type": "stream",
     "text": [
      "0.7570021212992085 The value of p-value shoes that varainaces are equal\n"
     ]
    }
   ],
   "source": [
    "#Perform Levene's Test\n",
    "stat, pval = stats.levene(A,B,C,D)\n",
    "print(pval, \"The value of p-value shoes that varainaces are equal\")\n"
   ]
  },
  {
   "cell_type": "code",
   "execution_count": 41,
   "metadata": {},
   "outputs": [
    {
     "name": "stdout",
     "output_type": "stream",
     "text": [
      "32.03072350199285 5.375613532781072e-07\n"
     ]
    }
   ],
   "source": [
    "#perform oneway ANOVA\n",
    "stat, pval = stats.f_oneway(A,B,C,D)\n",
    "print(stat,pval)"
   ]
  },
  {
   "cell_type": "code",
   "execution_count": null,
   "metadata": {},
   "outputs": [],
   "source": [
    "#Decision\n",
    "print(\"Reject H0 since pval << 0.05 and Test Value >> Critical Value\")"
   ]
  },
  {
   "cell_type": "code",
   "execution_count": 42,
   "metadata": {},
   "outputs": [
    {
     "name": "stdout",
     "output_type": "stream",
     "text": [
      "There is enough evidence to reject H0 and conclude that machine's efficeincies are different\n"
     ]
    }
   ],
   "source": [
    "#Summary\n",
    "print(\"There is enough evidence to reject H0 and conclude that machine's efficeincies are different\")"
   ]
  },
  {
   "cell_type": "markdown",
   "metadata": {
    "id": "QC68oVlIBeEF"
   },
   "source": [
    "<a id=\"chisq\"></a>\n",
    "# 2. Chi-Square Test"
   ]
  },
  {
   "cell_type": "markdown",
   "metadata": {
    "id": "dpd6qQhTBeEF"
   },
   "source": [
    "It is a non-parametric test. `Non-parametric tests` do not require any assumptions on the parameter of the population from which the sample is taken. These tests can be applied to the ordinal/ nominal data. A non-parametric test can be performed on the data containing outliers.\n",
    "\n",
    "The chi-square test statistic follows a Chi-square ($\\chi^{2}$) distribution under the null hypothesis. It can be used to check the relationship between the categorical variables. \n",
    "\n"
   ]
  },
  {
   "cell_type": "markdown",
   "metadata": {
    "id": "GInj9s5SBeEN"
   },
   "source": [
    "<a id=\"ind\"></a>\n",
    "## 2.1 Chi-Square Test for Independence"
   ]
  },
  {
   "cell_type": "markdown",
   "metadata": {
    "id": "hRrKmP3wBeEN"
   },
   "source": [
    "This test is used to test whether the categorical variables are independent or not.\n",
    "\n",
    "<p style='text-indent:20em'> <strong> $H_{0}$: The variables are independent</strong></p>\n",
    "<p style='text-indent:20em'> <strong> $H_{1}$: The variables are not independent (i.e. variables are dependent)</strong></p>"
   ]
  },
  {
   "cell_type": "markdown",
   "metadata": {
    "id": "BOZf9d3vBeEN"
   },
   "source": [
    "### Example:\n",
    "\n",
    "#### 1. Check if there is any relationship between the gender and education level of students with 95% confidence. \n",
    "\n",
    "Use the performance dataset of students available in the CSV file `students_data.csv`."
   ]
  },
  {
   "cell_type": "code",
   "execution_count": 44,
   "metadata": {},
   "outputs": [
    {
     "data": {
      "text/plain": [
       "Index(['gender', 'ethnicity', 'education', 'lunch', 'test_prep_course',\n",
       "       'math_score', 'reading_score', 'writing_score', 'total_score',\n",
       "       'training_institute'],\n",
       "      dtype='object')"
      ]
     },
     "execution_count": 44,
     "metadata": {},
     "output_type": "execute_result"
    }
   ],
   "source": [
    "df = pd.read_csv(\"./data/students_data.csv\")\n",
    "df.columns"
   ]
  },
  {
   "cell_type": "code",
   "execution_count": null,
   "metadata": {},
   "outputs": [],
   "source": [
    "#Hypothesis\n",
    "\n",
    "#H0: Education Level and Gender are indepenednent \n",
    "#H1: Education Level is depenednent on Gender (Claim)"
   ]
  },
  {
   "cell_type": "code",
   "execution_count": 46,
   "metadata": {},
   "outputs": [
    {
     "data": {
      "text/html": [
       "<div>\n",
       "<style scoped>\n",
       "    .dataframe tbody tr th:only-of-type {\n",
       "        vertical-align: middle;\n",
       "    }\n",
       "\n",
       "    .dataframe tbody tr th {\n",
       "        vertical-align: top;\n",
       "    }\n",
       "\n",
       "    .dataframe thead th {\n",
       "        text-align: right;\n",
       "    }\n",
       "</style>\n",
       "<table border=\"1\" class=\"dataframe\">\n",
       "  <thead>\n",
       "    <tr style=\"text-align: right;\">\n",
       "      <th>education</th>\n",
       "      <th>Ph.D.</th>\n",
       "      <th>associate's degree</th>\n",
       "      <th>bachelor's degree</th>\n",
       "      <th>college</th>\n",
       "      <th>high school</th>\n",
       "      <th>master's degree</th>\n",
       "    </tr>\n",
       "    <tr>\n",
       "      <th>gender</th>\n",
       "      <th></th>\n",
       "      <th></th>\n",
       "      <th></th>\n",
       "      <th></th>\n",
       "      <th></th>\n",
       "      <th></th>\n",
       "    </tr>\n",
       "  </thead>\n",
       "  <tbody>\n",
       "    <tr>\n",
       "      <th>female</th>\n",
       "      <td>91</td>\n",
       "      <td>116</td>\n",
       "      <td>63</td>\n",
       "      <td>117</td>\n",
       "      <td>94</td>\n",
       "      <td>36</td>\n",
       "    </tr>\n",
       "    <tr>\n",
       "      <th>male</th>\n",
       "      <td>88</td>\n",
       "      <td>106</td>\n",
       "      <td>55</td>\n",
       "      <td>108</td>\n",
       "      <td>103</td>\n",
       "      <td>23</td>\n",
       "    </tr>\n",
       "  </tbody>\n",
       "</table>\n",
       "</div>"
      ],
      "text/plain": [
       "education  Ph.D.  associate's degree  bachelor's degree  college  high school  \\\n",
       "gender                                                                          \n",
       "female        91                 116                 63      117           94   \n",
       "male          88                 106                 55      108          103   \n",
       "\n",
       "education  master's degree  \n",
       "gender                      \n",
       "female                  36  \n",
       "male                    23  "
      ]
     },
     "execution_count": 46,
     "metadata": {},
     "output_type": "execute_result"
    }
   ],
   "source": [
    "#get the cross tabulation table\n",
    "observed = pd.crosstab(df['gender'],df['education'])\n",
    "observed"
   ]
  },
  {
   "cell_type": "code",
   "execution_count": 47,
   "metadata": {},
   "outputs": [
    {
     "data": {
      "text/plain": [
       "array([[ 91, 116,  63, 117,  94,  36],\n",
       "       [ 88, 106,  55, 108, 103,  23]])"
      ]
     },
     "execution_count": 47,
     "metadata": {},
     "output_type": "execute_result"
    }
   ],
   "source": [
    "#Create the values of the table\n",
    "observed_values = observed.values\n",
    "observed_values"
   ]
  },
  {
   "cell_type": "code",
   "execution_count": 49,
   "metadata": {},
   "outputs": [
    {
     "name": "stdout",
     "output_type": "stream",
     "text": [
      "Critical Value =  11.070497693516355\n"
     ]
    }
   ],
   "source": [
    "#get the criticial value\n",
    "R=2\n",
    "C=6\n",
    "\n",
    "dof=(R-1)*(C-1)\n",
    "\n",
    "cv=chi2.isf(0.05,df=dof)\n",
    "\n",
    "print(\"Critical Value = \", cv)"
   ]
  },
  {
   "cell_type": "code",
   "execution_count": 51,
   "metadata": {},
   "outputs": [
    {
     "name": "stdout",
     "output_type": "stream",
     "text": [
      "3.5267538812534243 0.6193433487137843\n"
     ]
    }
   ],
   "source": [
    "#Test Value \n",
    "stat, pval, df, expected = chi2_contingency(observed_values, correction=False)\n",
    "print(stat, pval)"
   ]
  },
  {
   "cell_type": "code",
   "execution_count": 52,
   "metadata": {},
   "outputs": [
    {
     "name": "stdout",
     "output_type": "stream",
     "text": [
      "Do not reject H0 since pvalue>> 0.05 and test value < critical value\n"
     ]
    }
   ],
   "source": [
    "#Decision\n",
    "print(\"Do not reject H0 since pvalue>> 0.05 and test value < critical value\")"
   ]
  },
  {
   "cell_type": "code",
   "execution_count": 53,
   "metadata": {},
   "outputs": [
    {
     "name": "stdout",
     "output_type": "stream",
     "text": [
      "There is not enough evidence to conclude that education and gender are related\n"
     ]
    }
   ],
   "source": [
    "#Summary\n",
    "print(\"There is not enough evidence to conclude that education and gender are related\")"
   ]
  },
  {
   "cell_type": "markdown",
   "metadata": {
    "id": "IMZ2KKO4BeEP"
   },
   "source": [
    "#### 2. A study was conducted to test the effect of the malaria parasite - plasmodium falciparum - on heterozygous and homozygous humans. The vaccine was given to a cohort of 252 humans. Test whether the heterozygous humans are better protected than homozygous. Consider 0.05 as a level of significance.\n",
    "\n",
    "<img src='chi2_ind.png'>"
   ]
  },
  {
   "cell_type": "code",
   "execution_count": 59,
   "metadata": {},
   "outputs": [
    {
     "data": {
      "text/plain": [
       "(3.5267538812534243, 0.6193433487137843)"
      ]
     },
     "execution_count": 59,
     "metadata": {},
     "output_type": "execute_result"
    }
   ],
   "source": [
    "obsreved = np.array([[93,51],[68,40]])\n",
    "\n",
    "stat, pval , df , expected = chi2_contingency(observed, correction=False)\n",
    "stat, pval"
   ]
  },
  {
   "cell_type": "markdown",
   "metadata": {},
   "source": [
    "# END "
   ]
  }
 ],
 "metadata": {
  "colab": {
   "collapsed_sections": [
    "Qc3N_IDuBeEM",
    "BOZf9d3vBeEN",
    "IMZ2KKO4BeEP",
    "SJPJaQS4BeEQ",
    "aCXuAtbnBeET",
    "ZquQFvOqBeEV",
    "90ILMGFbBeEW",
    "KBWviHQuBeEY",
    "DdMzwzGvBeEZ",
    "0S18h3RYBeEb",
    "T3Kh044-BeEc",
    "99sT6G7FBeEe",
    "--L32RO-BeEg",
    "aB1DsBRCBeEj"
   ],
   "name": "SMDM - Faculty Notebook (Session 5).ipynb",
   "provenance": []
  },
  "kernelspec": {
   "display_name": "Python 3 (ipykernel)",
   "language": "python",
   "name": "python3"
  },
  "language_info": {
   "codemirror_mode": {
    "name": "ipython",
    "version": 3
   },
   "file_extension": ".py",
   "mimetype": "text/x-python",
   "name": "python",
   "nbconvert_exporter": "python",
   "pygments_lexer": "ipython3",
   "version": "3.11.9"
  }
 },
 "nbformat": 4,
 "nbformat_minor": 1
}
