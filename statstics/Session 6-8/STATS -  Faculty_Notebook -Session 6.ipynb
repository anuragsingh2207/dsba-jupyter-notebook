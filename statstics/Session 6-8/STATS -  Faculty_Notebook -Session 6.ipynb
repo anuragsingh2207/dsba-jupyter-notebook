{
 "cells": [
  {
   "cell_type": "markdown",
   "id": "096a26fb",
   "metadata": {
    "id": "GK0NW_2EjULQ"
   },
   "source": [
    "<table align=\"left\" width=100%>\n",
    "    <tr>\n",
    "        <td width=\"20%\">\n",
    "            <img src=\"GL-2.png\">\n",
    "        </td>\n",
    "        <td>\n",
    "            <div align=\"center\">\n",
    "                <font color=\"#21618C\" size=8px>\n",
    "                  <b> Faculty Notebook <br> ( Session 6 ) </b>\n",
    "                </font>\n",
    "            </div>\n",
    "        </td>\n",
    "    </tr>\n",
    "</table>"
   ]
  },
  {
   "cell_type": "markdown",
   "id": "a66606fa",
   "metadata": {
    "id": "zvAE5vE3jULR"
   },
   "source": [
    "## Table of Content\n",
    "\n",
    "1. **[Import Libraries](#lib)**\n",
    "2. **[Large Sample Test](#z)**\n",
    "    - 2.1 - **[Two Sample Z Test](#2z)**\n",
    "3. **[Small Sample Test](#t)**\n",
    "    - 3.1 - **[Two Sample t Test (Unpaired)](#2t)**\n",
    "    - 3.2 - **[Paired t Test](#paired)**\n",
    "4. **[Z Proportion Test](#prop)**\n",
    "    - 4.1 - **[One Sample Test](#1_p)**\n",
    "    - 4.2 - **[Two Sample Test](#2_p)**"
   ]
  },
  {
   "cell_type": "markdown",
   "id": "f9f330ad",
   "metadata": {
    "id": "PfsUFjVbjULS"
   },
   "source": [
    "<a id=\"lib\"></a>\n",
    "# 1. Import Libraries"
   ]
  },
  {
   "cell_type": "markdown",
   "id": "a42a4706",
   "metadata": {
    "id": "soadpiTzjULT"
   },
   "source": [
    "**Let us import the required libraries.**"
   ]
  },
  {
   "cell_type": "code",
   "execution_count": 19,
   "id": "79574235",
   "metadata": {
    "id": "6FixCmEsjULU"
   },
   "outputs": [],
   "source": [
    "import pandas as pd\n",
    "import numpy as np\n",
    "import matplotlib.pyplot as plt\n",
    "import seaborn as sns\n",
    "import random \n",
    "import scipy.stats as stats\n",
    "import statsmodels.api as sm\n",
    "from statsmodels.stats import weightstats as stests\n",
    "from statsmodels.stats import weightstats as proportions_ztest\n",
    "import warnings\n",
    "warnings.filterwarnings(\"ignore\")"
   ]
  },
  {
   "cell_type": "markdown",
   "id": "14ddcb5a",
   "metadata": {
    "id": "sxaVFsW9jULb"
   },
   "source": [
    "<a id=\"z\"></a>\n",
    "# 2. Large Sample Test"
   ]
  },
  {
   "cell_type": "markdown",
   "id": "b4c0073b",
   "metadata": {
    "id": "ekSYxRw5jULd"
   },
   "source": [
    "If the sample size is sufficiently large (usually, n > 30) then we use the `Z-test`. If population standard deviation ($\\sigma$) is unknown, then the sample standard deviation (s) is used to calculate the test statistic."
   ]
  },
  {
   "cell_type": "markdown",
   "id": "f8292603",
   "metadata": {
    "id": "6PdOJPyjjUMK"
   },
   "source": [
    "<a id=\"2z\"></a>\n",
    "## 2.1 Two Sample Z Test"
   ]
  },
  {
   "cell_type": "markdown",
   "id": "c72f679f",
   "metadata": {},
   "source": [
    "#### 1. A study was carried out to understand amount of haemoglobin in blood for males and females. A random sample of 160 males and 180 females have means of 13 g/dl and 15 g/dl. The two samples have standard deviation of 4.1 g/dl for male donors and 3.5 g/dl for female donor . Can it be said the population means of concentrations of the elements are the same for men and women? Use  α = 0.01."
   ]
  },
  {
   "cell_type": "code",
   "execution_count": 20,
   "id": "d0b52d66",
   "metadata": {},
   "outputs": [
    {
     "name": "stdout",
     "output_type": "stream",
     "text": [
      "Critical Value= +/- 2.575829303548901\n",
      "Test Value= -4.806830552525058\n",
      "P-value= 1.5334185117556499e-06\n",
      "Reject H0 since |-4.80| > 2.58 and P value  << 0.0.1\n",
      "We have enough evidence to reject the claim H0 and conclude that males and females have different concentrations levels of haemoglobin\n"
     ]
    }
   ],
   "source": [
    "#Let mu1 be the popultaion concentration of the haemoglobin for males \n",
    "#Let mu2 be the popultaion concentration of the haemoglobin for females\n",
    "\n",
    "n1=160\n",
    "n2=180\n",
    "\n",
    "samp1_mean=13\n",
    "samp2_mean=15\n",
    "\n",
    "s1=4.1\n",
    "s2=3.5\n",
    "\n",
    "alpha=0.01\n",
    "\n",
    "#Since n1 and n2 are greater than 30 therefore we will perform a two sample Z test\n",
    "\n",
    "#Hypothesis \n",
    "\n",
    "#H0: mu1=mu2 (claim)\n",
    "#H1:mu1 not equal to mu2\n",
    "#It is two tailed test and alpha=0.01\n",
    "\n",
    "#Critical Value\n",
    "CV=stats.norm.isf(alpha/2)\n",
    "\n",
    "print(\"Critical Value= +/-\", CV)\n",
    "\n",
    "#Finding Test Value and P-Value\n",
    "z=(samp1_mean-samp2_mean)/np.sqrt(((s1**2)/n1) + ((s2**2)/n2))\n",
    "\n",
    "print(\"Test Value=\", z)\n",
    "\n",
    "\n",
    "pval= 2*stats.norm.cdf(z)\n",
    "print(\"P-Value=\", pval)\n",
    "\n",
    "#Decision\n",
    "print(\"Reject H0 since |-4.80| > 2.58 and P-Value  << 0.0.1\")\n",
    "\n",
    "#Conclusion\n",
    "print(\"We have enough evidence to reject the claim H0 and conclude that males and females have different concentrations levels of haemoglobin\")\n",
    "\n"
   ]
  },
  {
   "cell_type": "markdown",
   "id": "fd3cecdb",
   "metadata": {
    "id": "cyTUiATWjUML"
   },
   "source": [
    "#### 2. The training institute <i>Nature Learning</i> claims that the students trained in their institute have overall better performance than the students trained in their competitor institute <i>Speak Global Learning</i>. We have a sample data of 500 students from each institute along with their total score collected from independent normal populations. Frame a hypothesis and test the Nature Learning's claim with 99% confidence."
   ]
  },
  {
   "cell_type": "markdown",
   "id": "edfa2f72",
   "metadata": {
    "id": "ohcYrsuzjUML"
   },
   "source": [
    "Consider the total score for students given in the CSV file `StudentsPerformance.csv`. "
   ]
  },
  {
   "cell_type": "code",
   "execution_count": 21,
   "id": "b8664812",
   "metadata": {},
   "outputs": [
    {
     "data": {
      "text/html": [
       "<div>\n",
       "<style scoped>\n",
       "    .dataframe tbody tr th:only-of-type {\n",
       "        vertical-align: middle;\n",
       "    }\n",
       "\n",
       "    .dataframe tbody tr th {\n",
       "        vertical-align: top;\n",
       "    }\n",
       "\n",
       "    .dataframe thead th {\n",
       "        text-align: right;\n",
       "    }\n",
       "</style>\n",
       "<table border=\"1\" class=\"dataframe\">\n",
       "  <thead>\n",
       "    <tr style=\"text-align: right;\">\n",
       "      <th></th>\n",
       "      <th>gender</th>\n",
       "      <th>race/ethnicity</th>\n",
       "      <th>lunch</th>\n",
       "      <th>test preparation course</th>\n",
       "      <th>math score</th>\n",
       "      <th>reading score</th>\n",
       "      <th>writing score</th>\n",
       "      <th>total score</th>\n",
       "      <th>training institute</th>\n",
       "    </tr>\n",
       "  </thead>\n",
       "  <tbody>\n",
       "    <tr>\n",
       "      <th>0</th>\n",
       "      <td>female</td>\n",
       "      <td>group B</td>\n",
       "      <td>standard</td>\n",
       "      <td>none</td>\n",
       "      <td>89</td>\n",
       "      <td>55</td>\n",
       "      <td>56</td>\n",
       "      <td>200</td>\n",
       "      <td>Nature Learning</td>\n",
       "    </tr>\n",
       "    <tr>\n",
       "      <th>1</th>\n",
       "      <td>female</td>\n",
       "      <td>group C</td>\n",
       "      <td>standard</td>\n",
       "      <td>completed</td>\n",
       "      <td>55</td>\n",
       "      <td>63</td>\n",
       "      <td>72</td>\n",
       "      <td>190</td>\n",
       "      <td>Nature Learning</td>\n",
       "    </tr>\n",
       "    <tr>\n",
       "      <th>2</th>\n",
       "      <td>female</td>\n",
       "      <td>group B</td>\n",
       "      <td>standard</td>\n",
       "      <td>none</td>\n",
       "      <td>64</td>\n",
       "      <td>71</td>\n",
       "      <td>56</td>\n",
       "      <td>191</td>\n",
       "      <td>Nature Learning</td>\n",
       "    </tr>\n",
       "    <tr>\n",
       "      <th>3</th>\n",
       "      <td>male</td>\n",
       "      <td>group A</td>\n",
       "      <td>free/reduced</td>\n",
       "      <td>none</td>\n",
       "      <td>60</td>\n",
       "      <td>99</td>\n",
       "      <td>72</td>\n",
       "      <td>231</td>\n",
       "      <td>Nature Learning</td>\n",
       "    </tr>\n",
       "    <tr>\n",
       "      <th>4</th>\n",
       "      <td>male</td>\n",
       "      <td>group C</td>\n",
       "      <td>standard</td>\n",
       "      <td>none</td>\n",
       "      <td>75</td>\n",
       "      <td>66</td>\n",
       "      <td>51</td>\n",
       "      <td>192</td>\n",
       "      <td>Nature Learning</td>\n",
       "    </tr>\n",
       "  </tbody>\n",
       "</table>\n",
       "</div>"
      ],
      "text/plain": [
       "   gender race/ethnicity         lunch test preparation course  math score  \\\n",
       "0  female        group B      standard                    none          89   \n",
       "1  female        group C      standard               completed          55   \n",
       "2  female        group B      standard                    none          64   \n",
       "3    male        group A  free/reduced                    none          60   \n",
       "4    male        group C      standard                    none          75   \n",
       "\n",
       "   reading score  writing score  total score training institute  \n",
       "0             55             56          200    Nature Learning  \n",
       "1             63             72          190    Nature Learning  \n",
       "2             71             56          191    Nature Learning  \n",
       "3             99             72          231    Nature Learning  \n",
       "4             66             51          192    Nature Learning  "
      ]
     },
     "execution_count": 21,
     "metadata": {},
     "output_type": "execute_result"
    }
   ],
   "source": [
    "df = pd.read_csv(\"./data/StudentsPerformance.csv\")\n",
    "\n",
    "df.head()"
   ]
  },
  {
   "cell_type": "code",
   "execution_count": 22,
   "id": "263d6ca1",
   "metadata": {},
   "outputs": [
    {
     "data": {
      "text/plain": [
       "array(['Nature Learning', 'Speak Global Learning'], dtype=object)"
      ]
     },
     "execution_count": 22,
     "metadata": {},
     "output_type": "execute_result"
    }
   ],
   "source": [
    "#Find Unique Training Institute\n",
    "df['training institute'].unique()"
   ]
  },
  {
   "cell_type": "code",
   "execution_count": 23,
   "id": "2b7e8486",
   "metadata": {},
   "outputs": [
    {
     "name": "stdout",
     "output_type": "stream",
     "text": [
      "n1= 500\n",
      "n2= 500\n",
      "Critical Value= 2.3263478740408408\n",
      "Test value= 0.15125511253949914\n",
      "P-Value= 0.43988723840898025\n",
      "Do Not reject H0 since |0.15| < 2.32 and PValue >> 0.01\n",
      "There is not enough evidence to support the claim that the two institutes performance levels differ\n"
     ]
    }
   ],
   "source": [
    "#Make 2 sample groups \n",
    "samp1 = df[df['training institute'] == 'Nature Learning']['total score']\n",
    "samp2 = df[df['training institute'] == 'Speak Global Learning']['total score']\n",
    "\n",
    "n1= len(samp1)\n",
    "print(\"n1=\",n1)\n",
    "n2= len(samp2)\n",
    "print(\"n2=\",n2)\n",
    "\n",
    "#Hypothesis\n",
    "\n",
    "#H0: mu1<=mu2\n",
    "#H1: mu1>=mu2 (claim)\n",
    "\n",
    "# For 99% confidence interval\n",
    "alpha = 0.01\n",
    "\n",
    "#Right Tailed test\n",
    "\n",
    "#Critical Value\n",
    "CV=stats.norm.isf(alpha)\n",
    "print(\"Critical Value=\",CV)\n",
    "\n",
    "#Test value and P-Value\n",
    "\n",
    "tval, pval =stests.ztest(x1=samp1, x2=samp2, value=0, alternative='larger')\n",
    "\n",
    "print(\"Test value=\",tval)\n",
    "print(\"P-Value=\",pval)\n",
    "\n",
    "#Decision\n",
    "print(\"Do Not reject H0 since |0.15| < 2.32 and P-Value >> 0.01\")\n",
    "\n",
    "#Conclusion\n",
    "print(\"There is not enough evidence to support the claim that the two institutes performance levels differ\")\n",
    "\n",
    "\n"
   ]
  },
  {
   "cell_type": "markdown",
   "id": "84c0fcca",
   "metadata": {
    "id": "1FHZAY-0jUMv"
   },
   "source": [
    "<a id=\"t\"></a>\n",
    "# 3. Small Sample Test"
   ]
  },
  {
   "cell_type": "markdown",
   "id": "fc1ba73e",
   "metadata": {
    "id": "gliE2djJjUMv"
   },
   "source": [
    "If the sample size is small (usually, n < 30) then we use the `t-test`. These tests are also known as `exact tests`."
   ]
  },
  {
   "cell_type": "markdown",
   "id": "21e221bb",
   "metadata": {
    "id": "xB0iAEpyjUNV"
   },
   "source": [
    "<a id=\"2t\"></a>\n",
    "## 3.1 Two Sample t Test (Unpaired)"
   ]
  },
  {
   "cell_type": "markdown",
   "id": "00d2c064",
   "metadata": {},
   "source": [
    "#### 1. An experiment was conducted to compare the pain relieving hours of two new medicines. Two groups of 14 and 15 patients were selected and were given comparable doses. Group 1 was given medicine 1 and group 2 was given medicine 2. The following data is obtained from the two samples. Test whether the two populations give the same mean hours of relief. Assume the data comes from normal distribution has an equal variance. Use α = 0.01"
   ]
  },
  {
   "cell_type": "markdown",
   "id": "cb166f1c",
   "metadata": {},
   "source": [
    "<img src='unpaired_2t.PNG'>"
   ]
  },
  {
   "cell_type": "code",
   "execution_count": 24,
   "id": "555249d1",
   "metadata": {},
   "outputs": [
    {
     "name": "stdout",
     "output_type": "stream",
     "text": [
      "Pooled Standard Deviation= 1.4527113857784588\n",
      "Critical Value= 2.7706829571216756\n",
      "There is not enough evidence to reject the claim and hence we conclude that the two medicines have similar hours of pain releif\n"
     ]
    }
   ],
   "source": [
    "n1=14\n",
    "n2=15\n",
    "\n",
    "samp1_mean=6.4\n",
    "samp2_mean=7.3\n",
    "\n",
    "s1=1.4\n",
    "s2=1.5\n",
    "\n",
    "alpha=0.01\n",
    "#Here Sample sizes are <30 and s1 and s2 are given\n",
    "#With equal variance assumption, we will use 2 sample t test\n",
    "#Get the pooled standard deviation\n",
    "\n",
    "dof= n1+n2-2\n",
    "pooled_var=(((n1-1)*s1**2)+((n2-1)*s2**2))/dof\n",
    "s=np.sqrt(pooled_var)\n",
    "\n",
    "print(\"Pooled Standard Deviation=\",s)\n",
    "\n",
    "#Hypothesis\n",
    "#H0: mu1=mu2\n",
    "#H1: mu1 is not equal to mu2 (claim)\n",
    "\n",
    "#Critical Value for Two tailed test and alpha = 0.01\n",
    "CV=stats.t.isf(alpha/2, dof)\n",
    "\n",
    "print(\"Critical Value=\",CV)\n",
    "\n",
    "print(\"There is not enough evidence to reject the claim and hence we conclude that the two medicines have similar hours of pain releif\")\n",
    "\n"
   ]
  },
  {
   "cell_type": "markdown",
   "id": "cf5bc75c",
   "metadata": {
    "id": "pdA-6L1tjUNX"
   },
   "source": [
    "**2. The teachers' association claims that the total score of the students who completed the test preparation course is different than the total score of the students who have not completed the course. The sample data consists of 15 students who completed the course and 18 students who have not completed the course. Test the association's claim with ⍺ = 0.05.**"
   ]
  },
  {
   "cell_type": "markdown",
   "id": "9102b2b6",
   "metadata": {
    "id": "rDve_0ZzjUNY"
   },
   "source": [
    "Consider the total score of the students who have/ have not completed the preparation course are given in the CSV file `totalmarks_2ttest.csv`."
   ]
  },
  {
   "cell_type": "code",
   "execution_count": 25,
   "id": "0c41bfb7",
   "metadata": {},
   "outputs": [
    {
     "data": {
      "text/html": [
       "<div>\n",
       "<style scoped>\n",
       "    .dataframe tbody tr th:only-of-type {\n",
       "        vertical-align: middle;\n",
       "    }\n",
       "\n",
       "    .dataframe tbody tr th {\n",
       "        vertical-align: top;\n",
       "    }\n",
       "\n",
       "    .dataframe thead th {\n",
       "        text-align: right;\n",
       "    }\n",
       "</style>\n",
       "<table border=\"1\" class=\"dataframe\">\n",
       "  <thead>\n",
       "    <tr style=\"text-align: right;\">\n",
       "      <th></th>\n",
       "      <th>gender</th>\n",
       "      <th>race/ethnicity</th>\n",
       "      <th>lunch</th>\n",
       "      <th>test preparation course</th>\n",
       "      <th>math score</th>\n",
       "      <th>reading score</th>\n",
       "      <th>writing score</th>\n",
       "      <th>total score</th>\n",
       "      <th>training institute</th>\n",
       "    </tr>\n",
       "  </thead>\n",
       "  <tbody>\n",
       "    <tr>\n",
       "      <th>0</th>\n",
       "      <td>male</td>\n",
       "      <td>group E</td>\n",
       "      <td>standard</td>\n",
       "      <td>completed</td>\n",
       "      <td>84</td>\n",
       "      <td>83</td>\n",
       "      <td>78</td>\n",
       "      <td>245</td>\n",
       "      <td>Speak Global Learning</td>\n",
       "    </tr>\n",
       "    <tr>\n",
       "      <th>1</th>\n",
       "      <td>male</td>\n",
       "      <td>group C</td>\n",
       "      <td>free/reduced</td>\n",
       "      <td>completed</td>\n",
       "      <td>79</td>\n",
       "      <td>77</td>\n",
       "      <td>75</td>\n",
       "      <td>231</td>\n",
       "      <td>Speak Global Learning</td>\n",
       "    </tr>\n",
       "    <tr>\n",
       "      <th>2</th>\n",
       "      <td>male</td>\n",
       "      <td>group A</td>\n",
       "      <td>standard</td>\n",
       "      <td>none</td>\n",
       "      <td>91</td>\n",
       "      <td>96</td>\n",
       "      <td>92</td>\n",
       "      <td>279</td>\n",
       "      <td>Nature Learning</td>\n",
       "    </tr>\n",
       "    <tr>\n",
       "      <th>3</th>\n",
       "      <td>female</td>\n",
       "      <td>group B</td>\n",
       "      <td>free/reduced</td>\n",
       "      <td>completed</td>\n",
       "      <td>76</td>\n",
       "      <td>94</td>\n",
       "      <td>87</td>\n",
       "      <td>257</td>\n",
       "      <td>Speak Global Learning</td>\n",
       "    </tr>\n",
       "    <tr>\n",
       "      <th>4</th>\n",
       "      <td>male</td>\n",
       "      <td>group A</td>\n",
       "      <td>standard</td>\n",
       "      <td>completed</td>\n",
       "      <td>46</td>\n",
       "      <td>41</td>\n",
       "      <td>43</td>\n",
       "      <td>130</td>\n",
       "      <td>Nature Learning</td>\n",
       "    </tr>\n",
       "  </tbody>\n",
       "</table>\n",
       "</div>"
      ],
      "text/plain": [
       "   gender race/ethnicity         lunch test preparation course  math score  \\\n",
       "0    male        group E      standard               completed          84   \n",
       "1    male        group C  free/reduced               completed          79   \n",
       "2    male        group A      standard                    none          91   \n",
       "3  female        group B  free/reduced               completed          76   \n",
       "4    male        group A      standard               completed          46   \n",
       "\n",
       "   reading score  writing score  total score     training institute  \n",
       "0             83             78          245  Speak Global Learning  \n",
       "1             77             75          231  Speak Global Learning  \n",
       "2             96             92          279        Nature Learning  \n",
       "3             94             87          257  Speak Global Learning  \n",
       "4             41             43          130        Nature Learning  "
      ]
     },
     "execution_count": 25,
     "metadata": {},
     "output_type": "execute_result"
    }
   ],
   "source": [
    "df = pd.read_csv(\"./data/totalmarks_2ttest.csv\")\n",
    "df.head()"
   ]
  },
  {
   "cell_type": "code",
   "execution_count": 26,
   "id": "21fb0be8",
   "metadata": {},
   "outputs": [
    {
     "data": {
      "text/plain": [
       "array(['completed', 'none'], dtype=object)"
      ]
     },
     "execution_count": 26,
     "metadata": {},
     "output_type": "execute_result"
    }
   ],
   "source": [
    "df['test preparation course'].unique()"
   ]
  },
  {
   "cell_type": "code",
   "execution_count": 41,
   "id": "3bb1a4d5",
   "metadata": {},
   "outputs": [
    {
     "name": "stdout",
     "output_type": "stream",
     "text": [
      "Group1 Length: 359\n",
      "Group2 Length: 641\n",
      "0.24370729373742916\n",
      "Since pval >> 0.05 we do not reject H0 and conclude tat variances are equal\n",
      "Critical Value=+/- 1.9636544506280507\n",
      "Test Value= -1.1187643964722052\n",
      "P-Value= 0.2635098684744574\n",
      "Do not reject H0 since 1.4<2.03 and also P-Value >> 0.05\n",
      "There is not enough evidence to support the claim that the those who the test preparation course will score differently than those who don't\n"
     ]
    }
   ],
   "source": [
    "grp1 = df[df['test preparation course']=='completed']['total score']\n",
    "grp2 = df[df['test preparation course']=='none']['total score']\n",
    "\n",
    "print(\"Group1 Length:\",len(grp1))\n",
    "print(\"Group2 Length:\",len(grp2))\n",
    "\n",
    "alpha = 0.05\n",
    "\n",
    "#Hypothesis \n",
    "#H0: mu1=mu2 \n",
    "#H1: m1 is not equal to mu2 (Claim)\n",
    "\n",
    "#Check for equality of variance\n",
    "stat1, pval = stats.levene(grp1,grp2)\n",
    "print(pval)\n",
    "\n",
    "print(\"Since pval >> 0.05 we do not reject H0 and conclude tat variances are equal\")\n",
    "dof= n1+n2-2\n",
    "\n",
    "#Critical values for two tailed test and alpha = 0.05\n",
    "#We have small samples where n<30 for which we will go for 2 sample t test\n",
    "\n",
    "CV=stats.t.isf(alpha/2, df=dof)\n",
    "print(\"Critical Value=+/-\",CV)\n",
    "\n",
    "#Test Value and P-value\n",
    "\n",
    "tval, pval = stats.ttest_ind(a=grp1,b=grp2, alternative=\"two-sided\", equal_var='True')\n",
    "\n",
    "print(\"Test Value=\", tval)\n",
    "print(\"P-Value=\", pval)\n",
    "\n",
    "#Decision\n",
    "print(\"Do not reject H0 since 1.4<2.03 and also P-Value >> 0.05\")\n",
    "\n",
    "#Conclusion\n",
    "print(\"There is not enough evidence to support the claim that the those who the test preparation course will score differently than those who don't\")"
   ]
  },
  {
   "cell_type": "markdown",
   "id": "00f72bd9",
   "metadata": {
    "id": "L0LxrVdxjUN9"
   },
   "source": [
    "<a id=\"paired\"></a>\n",
    "## 3.2 Paired t Test"
   ]
  },
  {
   "cell_type": "markdown",
   "id": "2d67b42b",
   "metadata": {
    "id": "99MYxwsYjUN-"
   },
   "source": [
    "**1. A training institute wants to check if their writing training program was effective or not. 17 students are selected to check the hypothesis. Consider 0.05 as the level of significance.**\n",
    "\n",
    "The writing scores before and after training are provided in the CSV file `WritingScores.csv`. "
   ]
  },
  {
   "cell_type": "code",
   "execution_count": 28,
   "id": "35997e06",
   "metadata": {},
   "outputs": [
    {
     "data": {
      "text/html": [
       "<div>\n",
       "<style scoped>\n",
       "    .dataframe tbody tr th:only-of-type {\n",
       "        vertical-align: middle;\n",
       "    }\n",
       "\n",
       "    .dataframe tbody tr th {\n",
       "        vertical-align: top;\n",
       "    }\n",
       "\n",
       "    .dataframe thead th {\n",
       "        text-align: right;\n",
       "    }\n",
       "</style>\n",
       "<table border=\"1\" class=\"dataframe\">\n",
       "  <thead>\n",
       "    <tr style=\"text-align: right;\">\n",
       "      <th></th>\n",
       "      <th>score_before</th>\n",
       "      <th>score_after</th>\n",
       "    </tr>\n",
       "  </thead>\n",
       "  <tbody>\n",
       "    <tr>\n",
       "      <th>0</th>\n",
       "      <td>59</td>\n",
       "      <td>50</td>\n",
       "    </tr>\n",
       "    <tr>\n",
       "      <th>1</th>\n",
       "      <td>62</td>\n",
       "      <td>67</td>\n",
       "    </tr>\n",
       "    <tr>\n",
       "      <th>2</th>\n",
       "      <td>76</td>\n",
       "      <td>92</td>\n",
       "    </tr>\n",
       "    <tr>\n",
       "      <th>3</th>\n",
       "      <td>32</td>\n",
       "      <td>75</td>\n",
       "    </tr>\n",
       "    <tr>\n",
       "      <th>4</th>\n",
       "      <td>61</td>\n",
       "      <td>98</td>\n",
       "    </tr>\n",
       "  </tbody>\n",
       "</table>\n",
       "</div>"
      ],
      "text/plain": [
       "   score_before  score_after\n",
       "0            59           50\n",
       "1            62           67\n",
       "2            76           92\n",
       "3            32           75\n",
       "4            61           98"
      ]
     },
     "execution_count": 28,
     "metadata": {},
     "output_type": "execute_result"
    }
   ],
   "source": [
    "df=pd.read_csv(\"./data/WritingScores.csv\")\n",
    "df.head()\n",
    "                 "
   ]
  },
  {
   "cell_type": "code",
   "execution_count": 29,
   "id": "ed91b918",
   "metadata": {},
   "outputs": [
    {
     "name": "stdout",
     "output_type": "stream",
     "text": [
      "Critical Value=+/- 2.1199052992210112\n",
      "Test Value= -1.4394882729049499\n",
      "P Value= 0.16929012896279846\n",
      "Do not reject H0 since |-1.43| < 2.11 and P Value is >> 0.05\n",
      "There is not enough evidence to reject the claim that scores after the training differ from scores before the training \n"
     ]
    }
   ],
   "source": [
    "#Make the 2 sample groups \n",
    "\n",
    "before = df['score_before']\n",
    "after = df['score_after']\n",
    "\n",
    "n= len(df)\n",
    "dof = n-1\n",
    "alpha=0.05\n",
    "\n",
    "#Hypotheis \n",
    "#H0: mean_diff=0 \n",
    "#H1: mean_diff is not equal to zero (claim)\n",
    "\n",
    "#Critical Value for alpha=0.05 and two-tailed test\n",
    "\n",
    "CV=stats.t.isf(alpha/2,dof)\n",
    "print(\"Critical Value=+/-\",CV)\n",
    "\n",
    "#Test Value and P-Value\n",
    "tval, pval = stats.ttest_rel(before, after, alternative='two-sided')\n",
    "\n",
    "print(\"Test Value=\", tval)\n",
    "print(\"P-Value=\", pval)\n",
    "\n",
    "#Decision\n",
    "print(\"Do not reject H0 since |-1.43| < 2.11 and P-Value is >> 0.05\")\n",
    "\n",
    "#Conclusion\n",
    "print(\"There is not enough evidence to reject the claim that scores after the training differ from scores before the training \")"
   ]
  },
  {
   "cell_type": "markdown",
   "id": "60f6efb3",
   "metadata": {
    "id": "DZHZrGTxjUOS"
   },
   "source": [
    "#### 2. An energy drink distributor claims that a new advertisement poster, featuring a life-size picture of a well-known athlete, will increase the product sales in outlets by an average of 50 bottles in a week. For a random sample of 10 outlets, the following data was collected. Test that the hypothesis that there the advertisement was effective in increasing sales. Test the hypothesis using critical region technique. Use α = 0.05.\n",
    "\n",
    "Given data:\n",
    "\n",
    "        sales_before = [33, 32, 38, 45, 37, 47, 48, 41, 45]\n",
    "        sales_after = [42, 35, 31, 41, 37, 36, 49, 49, 48]"
   ]
  },
  {
   "cell_type": "code",
   "execution_count": 30,
   "id": "4434082f",
   "metadata": {},
   "outputs": [
    {
     "name": "stdout",
     "output_type": "stream",
     "text": [
      "Mean Difference: -0.22222222222222143\n",
      "Critical Value=- 1.8331129326536337\n",
      "Test Value= -0.10085458113185983\n",
      "P-Value= 0.46107385734626494\n",
      "Do not reject H0 since |-0.1008| < |-1.8| and P-Value >> 0.05\n",
      "There is not enough evidence to support the claim that there will be effective increase in sales after the sportsperson ad campaign\n"
     ]
    }
   ],
   "source": [
    "#Make the Data Series\n",
    "sales_before = pd.Series([33, 32, 38, 45, 37, 47, 48, 41, 45])\n",
    "sales_after = pd.Series([42, 35, 31, 41, 37, 36, 49, 49, 48])\n",
    "\n",
    "alpha = 0.05\n",
    "\n",
    "#Here we perform a paired t test to decide if the ad campaign was effective in increasing the sales\n",
    "n=10\n",
    "\n",
    "#Difference is defined as Sales Before - Sales After\n",
    "mean_diff = np.mean(sales_before) - np.mean(sales_after)\n",
    "print(\"Mean Difference:\",mean_diff)\n",
    "\n",
    "#Hypothesis\n",
    "# H0: mean_diff>=0 \n",
    "# H1: mean_diff<0 (claim)\n",
    "#Left tailed Test and alpha = 0.05\n",
    "CV=stats.t.isf(alpha, df=n-1)\n",
    "print(\"Critical Value=-\",CV)\n",
    "\n",
    "#Test Value and P-Value\n",
    "tval, pval = stats.ttest_rel(sales_before, sales_after, alternative=\"less\")\n",
    "\n",
    "print(\"Test Value=\", tval)\n",
    "print(\"P-Value=\", pval)\n",
    "\n",
    "#Decision\n",
    "print(\"Do not reject H0 since |-0.1008| < |-1.8| and P-Value >> 0.05\")\n",
    "\n",
    "#Conclusion\n",
    "print(\"There is not enough evidence to support the claim that there will be effective increase in sales after the sportsperson ad campaign\")"
   ]
  },
  {
   "cell_type": "markdown",
   "id": "cbb57e7e",
   "metadata": {
    "id": "Qnofe5hBjUOf"
   },
   "source": [
    "<a id=\"prop\"></a>\n",
    "# 4. Z Proportion Test"
   ]
  },
  {
   "cell_type": "markdown",
   "id": "2c22743a",
   "metadata": {
    "id": "da2MCj6mjUOx"
   },
   "source": [
    "<a id=\"2_p\"></a>\n",
    "## 4.2 Two Sample Test"
   ]
  },
  {
   "cell_type": "markdown",
   "id": "43304a9a",
   "metadata": {
    "id": "_Nnef7g_jUO0"
   },
   "source": [
    "\n",
    "#### 1. A team of nutritionists believes that each institute provides 'standard' lunch to an equal proportion of students. A sample of students from institutes <i>Nature Learning</i> and <i>Speak Global Learning</i> is given. Consider the null hypothesis as equality of proportion with 0.1 level of significance.\n",
    "\n",
    "Consider the sample data available in the CSV file `StudentsPerformance.csv`."
   ]
  },
  {
   "cell_type": "code",
   "execution_count": 36,
   "id": "c8fb7687",
   "metadata": {},
   "outputs": [
    {
     "data": {
      "text/html": [
       "<div>\n",
       "<style scoped>\n",
       "    .dataframe tbody tr th:only-of-type {\n",
       "        vertical-align: middle;\n",
       "    }\n",
       "\n",
       "    .dataframe tbody tr th {\n",
       "        vertical-align: top;\n",
       "    }\n",
       "\n",
       "    .dataframe thead th {\n",
       "        text-align: right;\n",
       "    }\n",
       "</style>\n",
       "<table border=\"1\" class=\"dataframe\">\n",
       "  <thead>\n",
       "    <tr style=\"text-align: right;\">\n",
       "      <th></th>\n",
       "      <th>gender</th>\n",
       "      <th>race/ethnicity</th>\n",
       "      <th>lunch</th>\n",
       "      <th>test preparation course</th>\n",
       "      <th>math score</th>\n",
       "      <th>reading score</th>\n",
       "      <th>writing score</th>\n",
       "      <th>total score</th>\n",
       "      <th>training institute</th>\n",
       "    </tr>\n",
       "  </thead>\n",
       "  <tbody>\n",
       "    <tr>\n",
       "      <th>0</th>\n",
       "      <td>female</td>\n",
       "      <td>group B</td>\n",
       "      <td>standard</td>\n",
       "      <td>none</td>\n",
       "      <td>89</td>\n",
       "      <td>55</td>\n",
       "      <td>56</td>\n",
       "      <td>200</td>\n",
       "      <td>Nature Learning</td>\n",
       "    </tr>\n",
       "    <tr>\n",
       "      <th>1</th>\n",
       "      <td>female</td>\n",
       "      <td>group C</td>\n",
       "      <td>standard</td>\n",
       "      <td>completed</td>\n",
       "      <td>55</td>\n",
       "      <td>63</td>\n",
       "      <td>72</td>\n",
       "      <td>190</td>\n",
       "      <td>Nature Learning</td>\n",
       "    </tr>\n",
       "    <tr>\n",
       "      <th>2</th>\n",
       "      <td>female</td>\n",
       "      <td>group B</td>\n",
       "      <td>standard</td>\n",
       "      <td>none</td>\n",
       "      <td>64</td>\n",
       "      <td>71</td>\n",
       "      <td>56</td>\n",
       "      <td>191</td>\n",
       "      <td>Nature Learning</td>\n",
       "    </tr>\n",
       "    <tr>\n",
       "      <th>3</th>\n",
       "      <td>male</td>\n",
       "      <td>group A</td>\n",
       "      <td>free/reduced</td>\n",
       "      <td>none</td>\n",
       "      <td>60</td>\n",
       "      <td>99</td>\n",
       "      <td>72</td>\n",
       "      <td>231</td>\n",
       "      <td>Nature Learning</td>\n",
       "    </tr>\n",
       "    <tr>\n",
       "      <th>4</th>\n",
       "      <td>male</td>\n",
       "      <td>group C</td>\n",
       "      <td>standard</td>\n",
       "      <td>none</td>\n",
       "      <td>75</td>\n",
       "      <td>66</td>\n",
       "      <td>51</td>\n",
       "      <td>192</td>\n",
       "      <td>Nature Learning</td>\n",
       "    </tr>\n",
       "  </tbody>\n",
       "</table>\n",
       "</div>"
      ],
      "text/plain": [
       "   gender race/ethnicity         lunch test preparation course  math score  \\\n",
       "0  female        group B      standard                    none          89   \n",
       "1  female        group C      standard               completed          55   \n",
       "2  female        group B      standard                    none          64   \n",
       "3    male        group A  free/reduced                    none          60   \n",
       "4    male        group C      standard                    none          75   \n",
       "\n",
       "   reading score  writing score  total score training institute  \n",
       "0             55             56          200    Nature Learning  \n",
       "1             63             72          190    Nature Learning  \n",
       "2             71             56          191    Nature Learning  \n",
       "3             99             72          231    Nature Learning  \n",
       "4             66             51          192    Nature Learning  "
      ]
     },
     "execution_count": 36,
     "metadata": {},
     "output_type": "execute_result"
    }
   ],
   "source": [
    "df = pd.read_csv(\"./data/StudentsPerformance.csv\")\n",
    "df.head()"
   ]
  },
  {
   "cell_type": "code",
   "execution_count": 35,
   "id": "c7391594",
   "metadata": {},
   "outputs": [
    {
     "data": {
      "text/plain": [
       "array(['standard', 'free/reduced'], dtype=object)"
      ]
     },
     "execution_count": 35,
     "metadata": {},
     "output_type": "execute_result"
    }
   ],
   "source": [
    "df['lunch'].unique()"
   ]
  },
  {
   "cell_type": "code",
   "execution_count": 40,
   "id": "2bff2eb1",
   "metadata": {},
   "outputs": [
    {
     "name": "stdout",
     "output_type": "stream",
     "text": [
      "NL Length = 500\n",
      "SGL Length = 500\n",
      "NL with Standard Lunch 329 and SGL with Standard Lunch 317\n",
      "Critical Value = 2.575829303548901\n",
      "Test Value = 0.7935300106078008\n",
      "P Value = 0.4274690915859791\n",
      "Do not reject H0 since |0.79| < 1.96 and P-value >>0.01\n",
      "there is not enough evidence to reject the claim and hence we conclude that the proportion \n"
     ]
    }
   ],
   "source": [
    "alpha = 0.01\n",
    "\n",
    "#Get the Samples\n",
    "NL= df[df['training institute']== 'Nature Learning']\n",
    "SGL = df[df['training institute']== 'Speak Global Learning']\n",
    "\n",
    "#Total Sample Size for each training institute\n",
    "\n",
    "grp1=len(NL)\n",
    "grp2=len(SGL)\n",
    "\n",
    "print(\"NL Length =\", grp1)\n",
    "print(\"SGL Length =\", grp2)\n",
    "\n",
    "n1=len(NL[NL['lunch']=='standard'])\n",
    "n2=len(SGL[SGL['lunch']=='standard'])\n",
    "\n",
    "print(\"NL with Standard Lunch\",n1,\"and SGL with Standard Lunch\",n2)\n",
    "\n",
    "#Hypothesis \n",
    "#H0: p1=p2 (claim)  \n",
    "#H1: p1 not equal to p2\n",
    "#alpha = 0.01 and two tailed test\n",
    "\n",
    "#Critical value\n",
    "CV=stats.norm.isf(alpha/2)\n",
    "\n",
    "print(\"Critical Value =\",CV)\n",
    "\n",
    "#Test Value and P-Value \n",
    "tval, pval = sm.stats.proportions_ztest(nobs=np.array([grp1, grp2]), count=np.array([n1, n2]), alternative='two-sided')\n",
    "\n",
    "print(\"Test Value =\",tval)\n",
    "print(\"P-Value =\",pval)\n",
    "\n",
    "#Des\n",
    "print(\"Do not reject H0 since |0.79| < 1.96 and P-value >>0.01\")\n",
    "\n",
    "#Conclusion\n",
    "print(\"there is not enough evidence to reject the claim and hence we conclude that the proportion \")\n",
    "\n",
    "\n"
   ]
  },
  {
   "cell_type": "markdown",
   "id": "a2692461",
   "metadata": {
    "id": "122B7SORjUPD"
   },
   "source": [
    "#### 2. Steve owns a kiosk where he sells two magazines - A and B in a month. He buys 100 copies of magazine A out of which 78 were sold and 70 copies of magazine B out of which 65 were sold. Is there enough evidence to say that magazine is B is more popular? Test the claim using p-value technique with α = 0.05."
   ]
  },
  {
   "cell_type": "code",
   "execution_count": 43,
   "id": "cfb10afc",
   "metadata": {},
   "outputs": [
    {
     "name": "stdout",
     "output_type": "stream",
     "text": [
      "P-Value= 0.004549551600547303\n"
     ]
    }
   ],
   "source": [
    "nobs=np.array([100, 70])\n",
    "\n",
    "count=np.array([78, 65])\n",
    "\n",
    "alpha = 0.05\n",
    "\n",
    "#Hypothesis \n",
    "#H0:p1>=p2\n",
    "#H1: p1<p2 (claim)\n",
    "\n",
    "\n",
    "\n",
    "\n",
    "tval, pval= sm.stats.proportions_ztest(nobs=nobs, count=count, alternative=\"smaller\")\n",
    "\n",
    "print(\"P-Value=\", pval)\n",
    "\n",
    "#decision\n",
    "print(\"Magzine B is more popular because its sales is higher\")\n"
   ]
  },
  {
   "cell_type": "markdown",
   "id": "65c786bd",
   "metadata": {},
   "source": [
    "# END"
   ]
  }
 ],
 "metadata": {
  "colab": {
   "name": "STAT - Faculty Notebook (Day 3) [v2.0 - 301020].ipynb",
   "provenance": []
  },
  "kernelspec": {
   "display_name": "Python 3 (ipykernel)",
   "language": "python",
   "name": "python3"
  },
  "language_info": {
   "codemirror_mode": {
    "name": "ipython",
    "version": 3
   },
   "file_extension": ".py",
   "mimetype": "text/x-python",
   "name": "python",
   "nbconvert_exporter": "python",
   "pygments_lexer": "ipython3",
   "version": "3.11.9"
  }
 },
 "nbformat": 4,
 "nbformat_minor": 5
}
