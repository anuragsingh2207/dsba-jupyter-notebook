{
 "cells": [
  {
   "cell_type": "markdown",
   "id": "8c17de5c",
   "metadata": {},
   "source": [
    "## Sample Theory questions\n",
    "1. Define population, sample , descriptive and inferential statistics.\n",
    "2. Why are mostly samples used instead of the population in a statistical research?\n",
    "3. Define with examples each of the sampling methods is statistics.\n",
    "4. Define standard deviation and gives its formula.\n",
    "2. Define the empirical rule \n",
    "3. What  is coefficient of variation ? State its use.\n",
    "4. Which measure of central tendency will you use for a skewed dataset?\n",
    "5. Give 3 characteristic of a normal curve (distribution)\n",
    "6. What summary statistics and graph you would use to describe a categorical distribution.\n",
    "7. Write the formula for sample variance and sample standard deviation.\n",
    "8. What are missing values and state some ways of dealing with them?\n",
    "9. What does the length of the box in a boxplot represent?\n",
    "10. What are outliers in a dataset ? Are outliers good or bad for data analysis?\n",
    "11. Define interquartile range and give the formula to catch outliers using interquartile range.\n",
    "11. Define a 95% confidence interval for a population mean. \n",
    "12. If we want to be more confident in our estimate , will the confidence interval be wider or narrower? Give the justification.\n",
    "13. Give the formula for a 95% confidence interval for the mean and also give the meaning of each symbol.\n",
    "14. What is the relationship between confidence interval and hypothesis testing?\n",
    "15. What is hypothesis testing? State the 5 steps of a hypothesis testing using Critical Value Method.\n",
    "16. What is alpha ? What is its use in context of a hypothesis testing?\n",
    "17. What is a P-value. What is its use in hypothesis testing scenario?\n",
    "18. What are the possible errors in a hypothesis testing scenario. Give examples.\n",
    "19. What are the assumptions for performing a single sample z-test?\n",
    "20. If sample size is less than 30 , can we perform a t-test ? \n",
    "21. What are the assumptions to perform an independent samples t-test?\n",
    "22. What is ANOVA and when is it used ?\n",
    "23. What is a Chi- Square Test for Independence ? \n",
    "24. What are the properties of the F-distribution?\n",
    "25. What are the properties of a t-distribution?\n",
    "26. What is difference between statistical and practical significance. Give example ?"
   ]
  },
  {
   "cell_type": "markdown",
   "id": "2251e56a",
   "metadata": {},
   "source": [
    "## Sample Numerical Questions (Non-Coding) "
   ]
  },
  {
   "cell_type": "markdown",
   "id": "f8de60ab",
   "metadata": {},
   "source": [
    "### Descriptive Statistics"
   ]
  },
  {
   "cell_type": "markdown",
   "id": "f64ad05b",
   "metadata": {},
   "source": [
    "#### 1. A manager handles 12 branches of a supermarket situated in the U.S.A. Consider one day sale (in dollars) of all the branches. Calculate the mean , median , standard deviation of the sale. Also, find the range in which the middle 50% of the sale would lie. Also comment on the skewness of the data.\n",
    "    \n",
    "    Sale = [165, 182, 140, 193, 172, 168, 174, 124, 187, 204, 148, 175]"
   ]
  },
  {
   "cell_type": "markdown",
   "id": "57ad41fa",
   "metadata": {},
   "source": [
    "#### 2. A manager handles 12 branches of a supermarket situated in the U.S.A. Consider one day sale (in dollars) and working hours of all the branches. Find the relationship between the working hours of a store and its sales by calculating the Covariance.\n",
    "    Sale = [165, 182, 140, 193, 172, 168, 174, 124, 187, 204, 148, 175]\n",
    "    Working hours = [7, 8.5, 8, 10, 9, 8, 8.5, 7.5, 9.5, 8.5, 8, 9]"
   ]
  },
  {
   "cell_type": "markdown",
   "id": "de242e19",
   "metadata": {},
   "source": [
    "#### 3. The new vaccine is to be tested on patients. There are 5 diabetic patients (have the same type of diabetes), 9 patients with a similar heart condition and 11 patients with the same liver condition. One patient is randomly chosen. What is the probability that the patient is not diabetic?"
   ]
  },
  {
   "attachments": {
    "image.png": {
     "image/png": "[encoded data removed]"
    }
   },
   "cell_type": "markdown",
   "id": "190daadc",
   "metadata": {},
   "source": [
    "#### 4. A particular issue has been raised by the female employee in a particular company stating that there is favoritism for male employees for promotion. The validation given by the management is that the proportion of females employed is less in comparison and hence favoritism cannot be justified. The following data had been provided by the management to prove the justification \n",
    "\n",
    "![image.png](attachment:image.png)\n",
    "1) Determine the P (Men Promoted)\n",
    "2) Determine the P (Female Promoted)\n",
    "3) Determine P (Promotion given it is male)\n",
    "4) Determine P (Promotion given it is female)\n",
    "5) Would you agree with the management, if you agree or disagree how would you argue upon the case by using conditional probability concep"
   ]
  },
  {
   "cell_type": "markdown",
   "id": "0b87faf4",
   "metadata": {},
   "source": [
    "#### 5. In an armament production station, the explosion can occur due to short circuit, fault in the machinery, negligence of workers. From experience, the chances of these causes are 0.1, 0.3, 0.6 respectively. The chief engineer feels that an explosion can occur with probability:\n",
    "        1. 0.3 if there is a short circuit\n",
    "        2. 0.2 if there is a fault in the machinery\n",
    "        3. 0.25 if the workers are negligent\n",
    "#### Given that an explosion has occurred, determine the most likely cause of it?"
   ]
  },
  {
   "cell_type": "markdown",
   "id": "915c868b",
   "metadata": {},
   "source": [
    "#### 6. Heaven Furnitures (HF) sells furniture like sofas, beds and tables. It is observed that 25% of their customers complain about the furniture purchased by them for many reasons. On Tuesday, 20 customers purchased furniture products from HF.\n",
    "##### a. Calculate the probability that exactly 3 customers will complain about the purchased products.\n",
    "#####  b. Calculate the probability that more than 3 customers will complain about the furniture purchased by them.\n",
    "#####  c. Calculate the probability that at most 3 customers will complain about the furniture purchased by them.\n",
    "##### d. Calculate the probability that between  3 sand 5  customers will complain about the furniture purchased by them."
   ]
  },
  {
   "cell_type": "markdown",
   "id": "9ccedfaf",
   "metadata": {},
   "source": [
    "It is the probability distribution related to the continuous random variable. The area under `probability density function (pdf)` gives the probability that a variable lies in a specific range. The value of pdf at a specific point is always 0.\n",
    "\n",
    "Probability that X lies between [a,b] is given by:\n",
    "\n",
    "<p style='text-indent:25em'> <strong> $P(a \\leq X \\leq b) = \\int_{a}^{b} f(x) dx$</strong> </p> \n",
    "\n",
    "Area under the curve is 1. i.e. $\\int_{-\\infty}^{\\infty} f(x) dx = 1$"
   ]
  },
  {
   "cell_type": "markdown",
   "id": "339bc51e",
   "metadata": {},
   "source": [
    "For a continuous random variable X the `cumulative distribution function (cdf)` is denoted by F(x) and defined as:\n",
    "\n",
    "<p style='text-indent:25em'> <strong> $ F(x) = \\int_{-\\infty}^{x} f(u) du$</strong> </p>\n",
    "\n",
    "The cdf of a random variable returns the probability that the variable takes all the values less than or equal to the specific value."
   ]
  },
  {
   "cell_type": "markdown",
   "id": "9a94a55a",
   "metadata": {},
   "source": [
    "<a id=\"normal\"></a>\n",
    "### 3.2.1 Normal Distribution"
   ]
  },
  {
   "cell_type": "markdown",
   "id": "a9ee04f4",
   "metadata": {},
   "source": [
    "A continuous variable X follows a normal distribution with the parameters $\\mu$ and $\\sigma$ if the pdf of X is given by:\n",
    "\n",
    "<p style='text-indent:25em'> <strong> $f(x) = \\frac {1}{\\sigma\\sqrt(2 \\pi)} e^\\frac {-(x-\\mu^2)}{2\\sigma^2}$</strong></p>\n",
    "\n",
    "The normal distribution is a bell-shaped symmetric distribution with `mean = median = mode`. \n",
    "\n",
    "The mean and variance of the distribution is given as:<br>\n",
    "\n",
    "Mean = $\\mu$ \n",
    "\n",
    "Variance = $\\sigma^{2}$ \n",
    "\n",
    "**Note:** The variable Z given as, Z = $\\frac{X - \\mu}{\\sigma}$ follows a `standard normal distribution` with mean 0 and variance 1."
   ]
  },
  {
   "cell_type": "markdown",
   "id": "b30bf144",
   "metadata": {},
   "source": [
    "### Example:\n",
    "\n",
    "#### 7.A survey was conducted and it was found that on an average, people spend 300 minutes in a day surfing on online shopping sites and the corresponding standard deviation is 127 minutes. Assume that the time spent on surfing follows a normal distribution. Calculate the following probabilities:\n",
    "\n",
    "Consider a continuous random variable X representing the time spent in surfing on online shopping sites. Here X follows a normal distribution with mean 300 and standard deviation as 127.\n",
    "\n",
    "\n",
    "#### a. What is the probability that the users are spending less than or equal to 100 minutes per day?m"
   ]
  },
  {
   "cell_type": "code",
   "execution_count": null,
   "id": "655b4d94",
   "metadata": {},
   "outputs": [],
   "source": []
  },
  {
   "cell_type": "markdown",
   "id": "4adce807",
   "metadata": {},
   "source": [
    "#### b. What is the probability that people are spending more than 400 minutes on online shopping sites per day?"
   ]
  },
  {
   "cell_type": "code",
   "execution_count": null,
   "id": "50647101",
   "metadata": {},
   "outputs": [],
   "source": []
  },
  {
   "cell_type": "markdown",
   "id": "d9307e69",
   "metadata": {},
   "source": [
    "#### c. What is the probability that people are spending time between 250 minutes and 350 minutes per day?"
   ]
  },
  {
   "cell_type": "code",
   "execution_count": null,
   "id": "4d47e573",
   "metadata": {},
   "outputs": [],
   "source": []
  },
  {
   "cell_type": "markdown",
   "id": "f645e653",
   "metadata": {},
   "source": [
    "\n",
    "\n",
    "#### 7. Consider the data for the number of ice-creams sold per day. An ice-cream vendor collected this data for 90 days and then a sample is drawn (without replacement) containing ice-creams sold for 25 days. \n",
    "\n",
    "data = [21, 93, 62, 76, 73, 20, 56, 95, 41, 36, 38, 13, 80, 88, 34, 18, 40, 11, \n",
    "        25, 29, 61, 23, 82, 10, 92, 69, 60, 87, 14, 91, 94, 49, 57, 83, 96, 55, \n",
    "        79, 52, 59, 39, 58, 17, 19, 98, 15, 54, 48, 46, 72, 45, 65, 28, 37, 30, \n",
    "        68, 75, 16, 33, 31, 99, 22, 51, 27, 67, 85, 47, 44, 77, 64, 97, 84, 42, \n",
    "        90, 70, 74, 89, 32, 26, 24, 12, 81, 53, 50, 35, 71, 63, 43, 86, 78, 66]\n",
    "        \n",
    "sample = [10, 22, 47, 66, 11, 57, 77, 98, 31, 63, 74, 84, 50, 96, 88, 92, 70, 54, 65, 44, 16, 72, 20, 90, 43]\n",
    "\n",
    "Comupte the sampling error for mean."
   ]
  },
  {
   "cell_type": "markdown",
   "id": "59e1992b",
   "metadata": {},
   "source": [
    "\n",
    "\n",
    "#### 8. A random sample of weight (in kg.) for 35 diabetic patients is drawn from the population with a standard deviation of 8 kg. Find the 90% confidence interval for the population mean.\n",
    "\n",
    "    Weight: [59.1, 65.0, 75.8, 79.2, 95.0, 99.8, 89.1, 65.3, 41.9, 55.2, 94.8, 84.1, 83.2, 74.0, 75.5, 76.2, 79.1, 80.1, \n",
    "             92.1, 74.2, 59.2, 64.0, 75, 78.2, 95.6, 97.8, 89.5, 64.2, 41.8, 57.2, 85, 91.4, 81.8, 74.6, 90]"
   ]
  },
  {
   "cell_type": "markdown",
   "id": "649ef448",
   "metadata": {},
   "source": [
    "#### 9. There are 150 apples on a tree. You randomly choose 40 apples and found that the average weight of apples is 182 grams with a standard deviation of 30 grams. Find the 95% confidence interval for the population mean."
   ]
  },
  {
   "cell_type": "markdown",
   "id": "ece32cb8",
   "metadata": {},
   "source": [
    "#### 10. 100 bags of coal were tested and had an average of 35% of ash with a standard deviation of 15%. Calculate the margin of error for a 95% confidence level."
   ]
  },
  {
   "cell_type": "markdown",
   "id": "6a0b2ca4",
   "metadata": {},
   "source": [
    "\n",
    "#### 11. There are 150 apples on a tree. You randomly choose 17 apples and found that the average weight of apples is 78 grams with a standard deviation of 23 grams. Find the 90% confidence interval for the population mean."
   ]
  },
  {
   "cell_type": "markdown",
   "id": "4f6501c6",
   "metadata": {},
   "source": [
    "\n",
    "\n",
    "#### 12. A financial firm has created 50 portfolios. From them, a sample of 13 portfolios was selected, out of which 8 were found to be underperforming. Construct a 99% confidence interval to estimate the population proportion."
   ]
  },
  {
   "cell_type": "markdown",
   "id": "816c19bd",
   "metadata": {},
   "source": [
    "\n",
    "\n",
    "#### 13. A car manufacturing company claims that the mileage of their new car is 25 kmph with a standard deviation of 2.5 kmph. A random sample of 45 cars was drawn and recorded their mileage as per the standard procedure. From the sample, the mean mileage was seen to be 24 kmph. Is this evidence to claim that the mean mileage is different from 25kmph? (assume the normality of the data) Use α = 0.01."
   ]
  },
  {
   "cell_type": "markdown",
   "id": "65d48ce6",
   "metadata": {},
   "source": [
    "#### 14. A typhoid vaccine in the market inscribes 3 mg of ascorbic acid in the vaccine. A research team claims that the vaccines contain less than 3 mg of acid. We collected the data of 40 vaccines by using random sampling from a population and recorded the amount of ascorbic acid. Test the claim of the research team using the sample data ⍺ value (significance level) to 0.05.\n",
    "\n",
    "    acid_amt = [2.57, 3.06, 3.28 , 3.24, 2.79, 3.40, 3.36, 3.07, 2.46, 3.03, 3.05, 2.94, 3.46, 3.19, 3.09, 2.81, 3.13, 2.88, \n",
    "                2.76, 2.75, 3.17, 2.89, 2.54, 3.18, 3.08, 2.60, 3.06, 3.13, 3.11, 3.08, 2.93, 2.90, 3.06, 2.97, 3.24, 2.86, \n",
    "                2.87, 3.18, 3, 2.95]"
   ]
  },
  {
   "cell_type": "markdown",
   "id": "4895be8c",
   "metadata": {},
   "source": [
    "**Please note that when null hypothesis is not rejected it cannot be accepted as true.There is merely not enough evidence to say that it is false. This may seem confusing but the situation is analogous to the court of law, where the verdict is either guilty or not guilty based on the evidence. If the person is judged not guilty then it does not mean the person is proved innocent but merely that there is not enough evidence to reach the guilty verdict.**"
   ]
  },
  {
   "cell_type": "markdown",
   "id": "b48caca0",
   "metadata": {},
   "source": [
    "#### 15. An e-commerce company claims that the mean delivery time of food items on its website in NYC is 60 minutes with a standard deviation of 30 minutes. A random sample of 45 customers ordered from the website, and the average time for delivery was found to be 75 minutes. Is this enough evidence to claim that the average time to get items delivered is more than 60 minutes. (assume the normality of the data). Test the with α = 0.05."
   ]
  },
  {
   "cell_type": "markdown",
   "id": "30b9ba22",
   "metadata": {},
   "source": [
    "#### 16. A researcher is studying the growth of bacteria in waters of Lake Beach. The mean bacteria count of 100 per unit volume of water is within the safety level. The researcher collected 10 water samples of unit volume and found the mean bacteria count to be 94.8 with a sample variance of 72.66. Does the data indicate that the bacteria count is within the safety level? Test at the α = .05 level. Assume that the measurements constitute a sample from a normal population."
   ]
  },
  {
   "cell_type": "code",
   "execution_count": null,
   "id": "595fef13",
   "metadata": {},
   "outputs": [],
   "source": []
  },
  {
   "attachments": {
    "image.png": {
     "image/png": "[encoded data removed]"
    }
   },
   "cell_type": "markdown",
   "id": "5be15dd3",
   "metadata": {},
   "source": [
    "### 17. Consider the following ANOVA table, Fill in the blanks \n",
    "![image.png](attachment:image.png)"
   ]
  },
  {
   "cell_type": "markdown",
   "id": "25b24f1c",
   "metadata": {},
   "source": [
    "# Sample Coding Questions "
   ]
  },
  {
   "cell_type": "markdown",
   "id": "b133e4a0",
   "metadata": {},
   "source": [
    "<a id=\"lib\"></a>\n",
    "#  Import Libraries"
   ]
  },
  {
   "cell_type": "markdown",
   "id": "c6ea7aa2",
   "metadata": {},
   "source": [
    "**Let us import the required libraries.**"
   ]
  },
  {
   "cell_type": "code",
   "execution_count": null,
   "id": "54d0379a",
   "metadata": {},
   "outputs": [],
   "source": []
  },
  {
   "cell_type": "markdown",
   "id": "cc4d9376",
   "metadata": {},
   "source": [
    "#### 1. A polymer is manufactured and viscosity measurements are taken on each batch and the measurements are normally distributed and the variability of the process is σ = 20. Ten batches viscosity measurements are taken and are as follows 724, 718, 716, 760, 745, 759, 795, 756, 742, 740. There was a process change which was made and the viscosity of another ten batches are given as follows 761, 749, 735, 775, 729, 755, 783, 760, 738, 780. Assume the process variability is unaffected by the process change. Test whether there is a change in mean due to change in process, alpha =.05\n",
    "\n",
    "(i) State the hypothesis and type of test to be used\n",
    "(ii) Test the hypothesis and conclude"
   ]
  },
  {
   "cell_type": "code",
   "execution_count": null,
   "id": "5a97214b",
   "metadata": {},
   "outputs": [],
   "source": []
  },
  {
   "attachments": {
    "image.png": {
     "image/png": "[encoded data removed]"
    }
   },
   "cell_type": "markdown",
   "id": "cc071738",
   "metadata": {},
   "source": [
    " 2. The inventory level for a particular company varies month to month, \n",
    "Quantity demanded \n",
    "![image.png](attachment:image.png)"
   ]
  },
  {
   "cell_type": "markdown",
   "id": "7ac86189",
   "metadata": {},
   "source": [
    "(i) Write the hypothesis\n",
    "(ii) Test the hypothesis at 1% level of significance that inventory level depends upon the months"
   ]
  },
  {
   "cell_type": "code",
   "execution_count": null,
   "id": "c031a64f",
   "metadata": {},
   "outputs": [],
   "source": []
  },
  {
   "cell_type": "markdown",
   "id": "8c1014dc",
   "metadata": {},
   "source": [
    "### 3. Two catalysts are being analyzed to determine how they affect the mean yield of a chemical process. Specifically, catalyst 1 is currently in use, but catalyst 2 is acceptable. Since catalyst is cheaper, it should be adopted, providing it does not change the process yield. A test is run in the pilot plant and results in the data shown table. Is there any evidence of catalyst 2 performing better than catalyst 1, for an α =.05 and assume equal variances\n",
    "\n",
    "\n",
    "- Number        1 \t 2\t      3\t      4\t      5\t      6\t     7\t      8\n",
    "- Catalyst 1\t91.5\t94.18\t92.18\t95.39\t91.79\t89.07\t94.72\t89.21\n",
    "- Catalyst 2\t89.19\t90.95\t90.46\t93.21\t97.19\t97.04\t91.07\t92.75\n",
    "\n",
    "\n",
    "(i) State the hypothesis and type of test to be used\n",
    "(ii) Test the hypothesis and conclude"
   ]
  },
  {
   "cell_type": "code",
   "execution_count": null,
   "id": "5e277366",
   "metadata": {},
   "outputs": [],
   "source": []
  },
  {
   "cell_type": "markdown",
   "id": "eb14de91",
   "metadata": {},
   "source": [
    "#### 4. Consider the car_data.csv file and answer the following questions, use alpha =.05\n",
    "- a. Conduct an hypothesis testing to see whether the selling price of manual is less than automatic (state hypothesis, conduct test and conclude)\n",
    "- b. Conduct an hypothesis testing to see whether the selling price due to  diesel is more than petrol  (state hypothesis, conduct test and conclude)\n",
    "- c. Conduct an hypothesis testing to see whether the selling price due to dealer is more than individual  (state hypothesis, conduct test and conclude)\n",
    "- d. Conduct an ANOVA to find whether there is a statistical difference on selling price for year 2014, 2015,2016 and 2017 (Note : Conduct ANOVA by assuming data is normal)"
   ]
  },
  {
   "cell_type": "code",
   "execution_count": null,
   "id": "3f717222",
   "metadata": {},
   "outputs": [],
   "source": []
  },
  {
   "cell_type": "markdown",
   "id": "9fdf7ad4",
   "metadata": {},
   "source": []
  },
  {
   "cell_type": "code",
   "execution_count": null,
   "id": "b9b60289",
   "metadata": {},
   "outputs": [],
   "source": []
  },
  {
   "cell_type": "code",
   "execution_count": null,
   "id": "daa59807",
   "metadata": {},
   "outputs": [],
   "source": []
  },
  {
   "cell_type": "markdown",
   "id": "ca81a8f8",
   "metadata": {},
   "source": [
    "#### 5. Consider the car_data.csv file and answer the following questions.\n"
   ]
  },
  {
   "cell_type": "markdown",
   "id": "7457a113",
   "metadata": {},
   "source": [
    "#### a)Provide a summary statistics of all the variables, based on the summary which variable do you think has more variability"
   ]
  },
  {
   "cell_type": "code",
   "execution_count": null,
   "id": "ce77b01e",
   "metadata": {},
   "outputs": [],
   "source": []
  },
  {
   "cell_type": "markdown",
   "id": "8598bf09",
   "metadata": {},
   "source": [
    "#### b)Provide the count for each of the categorical variable, also determine for the year variable"
   ]
  },
  {
   "cell_type": "code",
   "execution_count": null,
   "id": "ba493537",
   "metadata": {},
   "outputs": [],
   "source": []
  },
  {
   "cell_type": "markdown",
   "id": "ea4a8c8f",
   "metadata": {},
   "source": [
    "#### c)Provide a histogram for the variable selling price, present price, assume bins = 10, what do you conclude"
   ]
  },
  {
   "cell_type": "code",
   "execution_count": null,
   "id": "5d782121",
   "metadata": {},
   "outputs": [],
   "source": []
  },
  {
   "cell_type": "markdown",
   "id": "49baa8ba",
   "metadata": {},
   "source": [
    "#### d) Draw a scatter plot for all of the variables, what is your observation and conclusion for the various relationship’s"
   ]
  },
  {
   "cell_type": "code",
   "execution_count": null,
   "id": "f05b8759",
   "metadata": {},
   "outputs": [],
   "source": []
  },
  {
   "cell_type": "markdown",
   "id": "24f5f156",
   "metadata": {},
   "source": [
    "#### e) Draw a box plot between fuel type and selling prices, based on the box plot what would you conclude"
   ]
  },
  {
   "cell_type": "code",
   "execution_count": null,
   "id": "a4c7a25f",
   "metadata": {},
   "outputs": [],
   "source": []
  },
  {
   "cell_type": "markdown",
   "id": "48bb0db6",
   "metadata": {},
   "source": [
    "# END"
   ]
  }
 ],
 "metadata": {
  "kernelspec": {
   "display_name": "Python 3 (ipykernel)",
   "language": "python",
   "name": "python3"
  },
  "language_info": {
   "codemirror_mode": {
    "name": "ipython",
    "version": 3
   },
   "file_extension": ".py",
   "mimetype": "text/x-python",
   "name": "python",
   "nbconvert_exporter": "python",
   "pygments_lexer": "ipython3",
   "version": "3.11.7"
  }
 },
 "nbformat": 4,
 "nbformat_minor": 5
}
