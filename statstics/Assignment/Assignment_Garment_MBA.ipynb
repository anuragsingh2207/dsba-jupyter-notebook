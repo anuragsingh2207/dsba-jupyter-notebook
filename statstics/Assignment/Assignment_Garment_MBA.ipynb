{
 "cells": [
  {
   "cell_type": "markdown",
   "id": "cc263720",
   "metadata": {},
   "source": [
    "The data set given for the assignment is from \"https://archive-beta.ics.uci.edu/ml/datasets/productivity+prediction+of+garment+employees\" \n",
    "and is cited as Productivity Prediction of Garment Employees. (2020). UCI Machine Learning Repository. \n",
    "The data file is attached as csv file. The following are details being provided . The data contains details on actual productivty of a garment industry, the data has been recorded on a day to day basis from the year 2015 to almost year end of 2015. The data set at first needs to be examined and the structure of the data set needs to be understood. The data has been recorded in terms of the following details\n",
    "Date \n",
    "Quarter (Four Quarters)\n",
    "Department (Sewing and Finishing)\n",
    "Day (Please note the way data is recorded is that based on a dept and productivity is recorded for various lines in each dept, hence you would find multiple productivity recorded for each combination of vairables such as team, dept, smv, date)\n",
    "Team \n",
    "Targeted_Producitivity (Target which needs to be achieved)\n",
    "SMV (Standard Minute Value) : Standard time for a Task in this case you can take standard time to complete a garment \n",
    "WIP (Work in progress)\n",
    "Over_time\n",
    "Incentive \n",
    "Idle_time\n",
    "Idle_men (Idle workers)\n",
    "no_of_style_change\n",
    "no_of_workers\n",
    "Actual_Producitivity\n",
    "\n",
    "The aim is of this assignment is to obtain an understanding of the data and decipher the relationship among the variables, understanding what possible variables can affect producivity which can be whether overtime or team size or number of worker or department type or a day (like monday ect...) ect.. have an effect. \n",
    "\n",
    "Suppose the manager is interested in the following questions \n",
    "1. Basic Summary statistics of the data for the numerical variables \n",
    "2. basic Summary of the data for the number of working days, count of quarters in the year\n",
    "3. Mean and standard deviation of actual producivity for every quarter and Histogram plot of actual productivity based on every quarter and conclusion accordingly\n",
    "4. Number count for sewing and finishing department \n",
    "5. Mean and standard deviation of actual producivity for sewing and finishing Histogram plot of actual productivity based on both department and conclusion accordingly\n",
    "6. Number count for  teams, smv across the year\n",
    "7. Histogram plot of actual productivity based on all working days, team size and Conclude accordingly \n",
    "8. Find correlation matrix and draw heat map for all variables\n",
    "9. Conclude (Is the company able to meet target, are they giving incentives based on producitivity, does overtime have any effect on productivity)\n",
    "10. Find the correlation between actual and target productivity for every quarter and for every department. What do you conclude\n",
    "11. Test using Z test (take a random sample of more than 30 and assume sigma =.1) whether the finishing department has achieved more acheived producitivity than .75 for a standard deviation of .1. State your null and alternative hypothesis. alpha value is .05\n",
    "\n",
    "12. Test using Z test(take a random sample of more than 30 and assume sigma =.1) whether the sewing department has achieved more producitivit than .75 for a standard deviation of .1. State your null and alternative hypothesis. alpha value is .05.\n",
    "\n",
    "13. Conduct a two sample t test (take a random sample more than 30) to check whether the finishing department has achieved more actual productivtiy than sewing     department. State your null and alternative hypothesis \n",
    "\n",
    "14. Conduct a two sample t (take a random sample less than 30) test to check whether the finishing department has achieved obtained higher incentive than sewing department, state your null and alternative hypothesis. In case test fails for normality check, then take a sample more than 30. \n",
    "\n",
    "15. Conduct an ANOVA for comparing productivity for Quarter1, Quarter2, Quarter3, Quarter 4 and accordingly conclude (Assume data is normally distributed)\n",
    "\n",
    "16. The manager has asked you to classifiy low productivity as less than .5, medium between .5 and less than .75 and higher\n",
    "    as greater than or equal to .75. He believes that the percentage of  actual producvity  in  sewing departemnt for   \n",
    "    person classified as low is 30%, for medium is 40% and for high is 30%. USing chi square test can you prove whether his \n",
    "    hypothesis is right or not \n"
   ]
  },
  {
   "cell_type": "code",
   "execution_count": 61,
   "id": "796c912d",
   "metadata": {},
   "outputs": [],
   "source": [
    "import numpy as np\n",
    "import pandas as pd\n",
    "import seaborn as sns\n",
    "import matplotlib.pyplot as plt\n",
    "import scipy.stats as stats\n",
    "import statsmodels.api as sm\n",
    "from scipy.stats import f_oneway"
   ]
  },
  {
   "cell_type": "markdown",
   "id": "54aed407",
   "metadata": {},
   "source": [
    "#  Basic Summary statistics of the data for the numerical variable"
   ]
  },
  {
   "cell_type": "code",
   "execution_count": null,
   "id": "b60609b5",
   "metadata": {},
   "outputs": [],
   "source": []
  },
  {
   "cell_type": "markdown",
   "id": "a653910d",
   "metadata": {},
   "source": [
    " # basic Summary of the data for the number of working days, count of quarters in the year"
   ]
  },
  {
   "cell_type": "code",
   "execution_count": null,
   "id": "950b397b",
   "metadata": {},
   "outputs": [],
   "source": []
  },
  {
   "cell_type": "markdown",
   "id": "ece171a7",
   "metadata": {},
   "source": [
    "# Mean and standard deviation of actual producivity for every quarter and   \n",
    "#  Histogram plot of actual productivity based on every quarter and conclusion accordingly"
   ]
  },
  {
   "cell_type": "code",
   "execution_count": null,
   "id": "e14641f0",
   "metadata": {},
   "outputs": [],
   "source": []
  },
  {
   "cell_type": "markdown",
   "id": "a8d71d05",
   "metadata": {},
   "source": [
    " # Number count for sewing and finishing department"
   ]
  },
  {
   "cell_type": "code",
   "execution_count": null,
   "id": "56218cf7",
   "metadata": {},
   "outputs": [],
   "source": []
  },
  {
   "cell_type": "markdown",
   "id": "6b7cc0bb",
   "metadata": {},
   "source": [
    "# Mean and standard deviation of actual producivity for sewing and finishing Histogram plot of actual productivity  based on both department and conclusion accordingly"
   ]
  },
  {
   "cell_type": "code",
   "execution_count": null,
   "id": "981626f4",
   "metadata": {},
   "outputs": [],
   "source": []
  },
  {
   "cell_type": "markdown",
   "id": "112074b5",
   "metadata": {},
   "source": [
    "# Number count for each teams, smv across the year"
   ]
  },
  {
   "cell_type": "code",
   "execution_count": null,
   "id": "57569d1f",
   "metadata": {},
   "outputs": [],
   "source": []
  },
  {
   "cell_type": "markdown",
   "id": "924b83d9",
   "metadata": {},
   "source": [
    " # Histogram plot of actual productivity based on all working days, team size"
   ]
  },
  {
   "cell_type": "code",
   "execution_count": null,
   "id": "c3d2efda",
   "metadata": {},
   "outputs": [],
   "source": []
  },
  {
   "cell_type": "markdown",
   "id": "00bd7239",
   "metadata": {},
   "source": [
    "# Find correlation matrix and draw heat map for all variables"
   ]
  },
  {
   "cell_type": "code",
   "execution_count": null,
   "id": "de368bef",
   "metadata": {},
   "outputs": [],
   "source": []
  },
  {
   "cell_type": "markdown",
   "id": "477c0ea2",
   "metadata": {},
   "source": [
    "# Conclude (Is the company able to meet target, are they giving incentives based on producitivity, does overtime have any effect on productivity)"
   ]
  },
  {
   "cell_type": "code",
   "execution_count": null,
   "id": "c45bd9fd",
   "metadata": {},
   "outputs": [],
   "source": []
  },
  {
   "cell_type": "markdown",
   "id": "48dc5b0b",
   "metadata": {},
   "source": [
    "# Find the correlation between actual and target productivity for every quarter and for every department. \n",
    "# What do you conclude"
   ]
  },
  {
   "cell_type": "code",
   "execution_count": 17,
   "id": "e46e9d79",
   "metadata": {},
   "outputs": [],
   "source": []
  },
  {
   "cell_type": "markdown",
   "id": "f2dea8fc",
   "metadata": {},
   "source": [
    "11. Test using Z test (take a random sample of more than 30 and assume sigma =.1) whether the finishing department has achieved more acheived producitivity than .75 for a standard deviation of .1. State your null and alternative hypothesis. alpha value is .05\n",
    "\n",
    "12. Test using Z test(take a random sample of more than 30 and assume sigma =.1) whether the sewing department has achieved more producitivit than .75 for a standard deviation of .1. State your null and alternative hypothesis. alpha value is .05.\n",
    "\n",
    "13. Conduct a two sample t test (take a random sample more than 30) to check whether the finishing department has achieved more actual productivtiy than sewing     department. State your null and alternative hypothesis \n",
    "\n",
    "14. Conduct a two sample t (take a random sample less than 30) test to check whether the finishing department has achieved obtained higher incentive than sewing department, state your null and alternative hypothesis. In case test fails for normality check, then take a sample more than 30. \n",
    "\n",
    "15. Conduct an ANOVA for comparing productivity for Quarter1, Quarter2, Quarter3, Quarter 4 and accordingly conclude (Assume data is normally distributed)\n",
    "\n",
    "16. The manager has asked you to classifiy low productivity as less than .5, medium between .5 and less than .75 and higher\n",
    "    as greater than or equal to .75. He believes that the percentage of  actual producvity  in  sewing departemnt for   \n",
    "    person classified as low is 30%, for medium is 40% and for high is 30%. USing chi square test can you prove whether his \n",
    "    hypothesis is right or not "
   ]
  },
  {
   "cell_type": "code",
   "execution_count": null,
   "id": "95cc3c72",
   "metadata": {},
   "outputs": [],
   "source": [
    "#11"
   ]
  },
  {
   "cell_type": "code",
   "execution_count": null,
   "id": "a79f440c",
   "metadata": {},
   "outputs": [],
   "source": [
    "#12"
   ]
  },
  {
   "cell_type": "code",
   "execution_count": null,
   "id": "c324218b",
   "metadata": {},
   "outputs": [],
   "source": [
    "#13"
   ]
  },
  {
   "cell_type": "code",
   "execution_count": null,
   "id": "eee7e80d",
   "metadata": {},
   "outputs": [],
   "source": [
    "#14"
   ]
  },
  {
   "cell_type": "code",
   "execution_count": 1,
   "id": "66713691",
   "metadata": {},
   "outputs": [],
   "source": [
    "#15"
   ]
  },
  {
   "cell_type": "code",
   "execution_count": null,
   "id": "adff4c92",
   "metadata": {},
   "outputs": [],
   "source": [
    "#16"
   ]
  }
 ],
 "metadata": {
  "kernelspec": {
   "display_name": "Python 3",
   "language": "python",
   "name": "python3"
  },
  "language_info": {
   "codemirror_mode": {
    "name": "ipython",
    "version": 3
   },
   "file_extension": ".py",
   "mimetype": "text/x-python",
   "name": "python",
   "nbconvert_exporter": "python",
   "pygments_lexer": "ipython3",
   "version": "3.8.8"
  }
 },
 "nbformat": 4,
 "nbformat_minor": 5
}
