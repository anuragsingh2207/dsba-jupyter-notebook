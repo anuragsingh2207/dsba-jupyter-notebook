{
 "cells": [
  {
   "cell_type": "markdown",
   "id": "4a4c9dac",
   "metadata": {},
   "source": [
    "The data set given for the assignment is from \"https://archive-beta.ics.uci.edu/ml/datasets/productivity+prediction+of+garment+employees\" \n",
    "and is cited as Productivity Prediction of Garment Employees. (2020). UCI Machine Learning Repository. \n",
    "The data file is attached as csv file. The following are details being provided . The data contains details on actual productivty of a garment industry, the data has been recorded on a day to day basis from the year 2015 to almost year end of 2015. The data set at first needs to be examined and the structure of the data set needs to be understood. The data has been recorded in terms of the following details\n",
    "Date \n",
    "Quarter (Four Quarters)\n",
    "Department (Sewing and Finishing)\n",
    "Day (Please note the way data is recorded is that based on a dept and productivity is recorded for various lines in each dept, hence you would find multiple productivity recorded for each combination of vairables such as team, dept, smv, date)\n",
    "Team \n",
    "Targeted_Producitivity (Target which needs to be achieved)\n",
    "SMV (Standard Minute Value) : Standard time for a Task in this case you can take standard time to complete a garment \n",
    "WIP (Work in progress)\n",
    "Over_time\n",
    "Incentive \n",
    "Idle_time\n",
    "Idle_men (Idle workers)\n",
    "no_of_style_change\n",
    "no_of_workers\n",
    "Actual_Producitivity\n",
    "\n",
    "The aim is of this assignment is to obtain an understanding of the data and decipher the relationship among the variables, understanding what possible variables can affect producivity which can be whether overtime or team size or number of worker or department type or a day (like monday ect...) ect.. have an effect. \n",
    "\n",
    "Suppose the manager is interested in the following questions \n",
    "1. Basic Summary statistics of the data for the numerical variables \n",
    "2. basic Summary of the data for the number of working days, count of quarters in the year\n",
    "3. Mean and standard deviation of actual producivity for every quarter and Histogram plot of actual productivity based on every quarter and conclusion accordingly\n",
    "4. Number count for sewing and finishing department \n",
    "5. Mean and standard deviation of actual producivity for sewing and finishing Histogram plot of actual productivity based on both department and conclusion accordingly\n",
    "6. Number count for  teams, smv across the year\n",
    "7. Histogram plot of actual productivity based on all working days, team size and Conclude accordingly \n",
    "8. Find correlation matrix and draw heat map for all variables\n",
    "9. Conclude (Is the company able to meet target, are they giving incentives based on producitivity, does overtime have any effect on productivity)\n",
    "10. Find the correlation between actual and target productivity for every quarter and for every department. What do you conclude\n",
    "11. Test using Z test (take a random sample of more than 30 and assume sigma =.1) whether the finishing department has achieved more acheived producitivity than .75 for a standard deviation of .1. State your null and alternative hypothesis. alpha value is .05\n",
    "\n",
    "12. Test using Z test(take a random sample of more than 30 and assume sigma =.1) whether the sewing department has achieved more producitivit than .75 for a standard deviation of .1. State your null and alternative hypothesis. alpha value is .05.\n",
    "\n",
    "13. Conduct a two sample t test (take a random sample more than 30) to check whether the finishing department has achieved more actual productivtiy than sewing     department. State your null and alternative hypothesis \n",
    "\n",
    "14. Conduct a two sample t (take a random sample less than 30) test to check whether the finishing department has achieved obtained higher incentive than sewing department, state your null and alternative hypothesis. In case test fails for normality check, then take a sample more than 30. \n",
    "\n",
    "15. Conduct an ANOVA for comparing productivity for Quarter1, Quarter2, Quarter3, Quarter 4 and accordingly conclude (Assume data is normally distributed)\n",
    "\n",
    "16. The manager has asked you to classifiy low productivity as less than .5, medium between .5 and less than .75 and higher\n",
    "    as greater than or equal to .75. He believes that the percentage of  actual producvity  in  sewing departemnt for   \n",
    "    person classified as low is 30%, for medium is 40% and for high is 30%. USing chi square test can you prove whether his \n",
    "    hypothesis is right or not \n"
   ]
  },
  {
   "cell_type": "code",
   "execution_count": 31,
   "id": "afa87d58",
   "metadata": {},
   "outputs": [],
   "source": [
    "import numpy as np\n",
    "import pandas as pd\n",
    "import seaborn as sns\n",
    "import matplotlib.pyplot as plt\n",
    "import scipy.stats as stats\n",
    "import statsmodels.api as sm\n",
    "from scipy.stats import f_oneway\n",
    "from statsmodels.stats import weightstats as stests\n",
    "\n",
    "from scipy.stats import chi2_contingency\n",
    "from scipy.stats import chi2\n",
    "\n",
    "import warnings\n",
    "warnings.filterwarnings(\"ignore\")"
   ]
  },
  {
   "cell_type": "code",
   "execution_count": 32,
   "id": "707a8c12",
   "metadata": {},
   "outputs": [],
   "source": [
    "#Import Dataset\n",
    "df=pd.read_csv('garments_worker_productivity.csv')"
   ]
  },
  {
   "cell_type": "code",
   "execution_count": 33,
   "id": "5e7c1430",
   "metadata": {},
   "outputs": [
    {
     "data": {
      "text/html": [
       "<div>\n",
       "<style scoped>\n",
       "    .dataframe tbody tr th:only-of-type {\n",
       "        vertical-align: middle;\n",
       "    }\n",
       "\n",
       "    .dataframe tbody tr th {\n",
       "        vertical-align: top;\n",
       "    }\n",
       "\n",
       "    .dataframe thead th {\n",
       "        text-align: right;\n",
       "    }\n",
       "</style>\n",
       "<table border=\"1\" class=\"dataframe\">\n",
       "  <thead>\n",
       "    <tr style=\"text-align: right;\">\n",
       "      <th></th>\n",
       "      <th>date</th>\n",
       "      <th>quarter</th>\n",
       "      <th>department</th>\n",
       "      <th>day</th>\n",
       "      <th>team</th>\n",
       "      <th>targeted_productivity</th>\n",
       "      <th>smv</th>\n",
       "      <th>wip</th>\n",
       "      <th>over_time</th>\n",
       "      <th>incentive</th>\n",
       "      <th>idle_time</th>\n",
       "      <th>idle_men</th>\n",
       "      <th>no_of_style_change</th>\n",
       "      <th>no_of_workers</th>\n",
       "      <th>actual_productivity</th>\n",
       "    </tr>\n",
       "  </thead>\n",
       "  <tbody>\n",
       "    <tr>\n",
       "      <th>0</th>\n",
       "      <td>01/01/15</td>\n",
       "      <td>Quarter1</td>\n",
       "      <td>sewing</td>\n",
       "      <td>Thursday</td>\n",
       "      <td>8</td>\n",
       "      <td>0.80</td>\n",
       "      <td>26.16</td>\n",
       "      <td>1108.0</td>\n",
       "      <td>7080</td>\n",
       "      <td>98</td>\n",
       "      <td>0.0</td>\n",
       "      <td>0</td>\n",
       "      <td>0</td>\n",
       "      <td>59.0</td>\n",
       "      <td>0.940725</td>\n",
       "    </tr>\n",
       "    <tr>\n",
       "      <th>1</th>\n",
       "      <td>01/01/15</td>\n",
       "      <td>Quarter1</td>\n",
       "      <td>finishing</td>\n",
       "      <td>Thursday</td>\n",
       "      <td>1</td>\n",
       "      <td>0.75</td>\n",
       "      <td>3.94</td>\n",
       "      <td>NaN</td>\n",
       "      <td>960</td>\n",
       "      <td>0</td>\n",
       "      <td>0.0</td>\n",
       "      <td>0</td>\n",
       "      <td>0</td>\n",
       "      <td>8.0</td>\n",
       "      <td>0.886500</td>\n",
       "    </tr>\n",
       "    <tr>\n",
       "      <th>2</th>\n",
       "      <td>01/01/15</td>\n",
       "      <td>Quarter1</td>\n",
       "      <td>sewing</td>\n",
       "      <td>Thursday</td>\n",
       "      <td>11</td>\n",
       "      <td>0.80</td>\n",
       "      <td>11.41</td>\n",
       "      <td>968.0</td>\n",
       "      <td>3660</td>\n",
       "      <td>50</td>\n",
       "      <td>0.0</td>\n",
       "      <td>0</td>\n",
       "      <td>0</td>\n",
       "      <td>30.5</td>\n",
       "      <td>0.800570</td>\n",
       "    </tr>\n",
       "    <tr>\n",
       "      <th>3</th>\n",
       "      <td>01/01/15</td>\n",
       "      <td>Quarter1</td>\n",
       "      <td>sewing</td>\n",
       "      <td>Thursday</td>\n",
       "      <td>12</td>\n",
       "      <td>0.80</td>\n",
       "      <td>11.41</td>\n",
       "      <td>968.0</td>\n",
       "      <td>3660</td>\n",
       "      <td>50</td>\n",
       "      <td>0.0</td>\n",
       "      <td>0</td>\n",
       "      <td>0</td>\n",
       "      <td>30.5</td>\n",
       "      <td>0.800570</td>\n",
       "    </tr>\n",
       "    <tr>\n",
       "      <th>4</th>\n",
       "      <td>01/01/15</td>\n",
       "      <td>Quarter1</td>\n",
       "      <td>sewing</td>\n",
       "      <td>Thursday</td>\n",
       "      <td>6</td>\n",
       "      <td>0.80</td>\n",
       "      <td>25.90</td>\n",
       "      <td>1170.0</td>\n",
       "      <td>1920</td>\n",
       "      <td>50</td>\n",
       "      <td>0.0</td>\n",
       "      <td>0</td>\n",
       "      <td>0</td>\n",
       "      <td>56.0</td>\n",
       "      <td>0.800382</td>\n",
       "    </tr>\n",
       "  </tbody>\n",
       "</table>\n",
       "</div>"
      ],
      "text/plain": [
       "       date   quarter department       day  team  targeted_productivity    smv     wip  over_time  incentive  \\\n",
       "0  01/01/15  Quarter1     sewing  Thursday     8                   0.80  26.16  1108.0       7080         98   \n",
       "1  01/01/15  Quarter1  finishing  Thursday     1                   0.75   3.94     NaN        960          0   \n",
       "2  01/01/15  Quarter1     sewing  Thursday    11                   0.80  11.41   968.0       3660         50   \n",
       "3  01/01/15  Quarter1     sewing  Thursday    12                   0.80  11.41   968.0       3660         50   \n",
       "4  01/01/15  Quarter1     sewing  Thursday     6                   0.80  25.90  1170.0       1920         50   \n",
       "\n",
       "   idle_time  idle_men  no_of_style_change  no_of_workers  actual_productivity  \n",
       "0        0.0         0                   0           59.0             0.940725  \n",
       "1        0.0         0                   0            8.0             0.886500  \n",
       "2        0.0         0                   0           30.5             0.800570  \n",
       "3        0.0         0                   0           30.5             0.800570  \n",
       "4        0.0         0                   0           56.0             0.800382  "
      ]
     },
     "execution_count": 33,
     "metadata": {},
     "output_type": "execute_result"
    }
   ],
   "source": [
    "df.head()"
   ]
  },
  {
   "cell_type": "code",
   "execution_count": 34,
   "id": "d9789b05",
   "metadata": {},
   "outputs": [
    {
     "data": {
      "text/plain": [
       "(1197, 15)"
      ]
     },
     "execution_count": 34,
     "metadata": {},
     "output_type": "execute_result"
    }
   ],
   "source": [
    "df.shape"
   ]
  },
  {
   "cell_type": "code",
   "execution_count": 35,
   "id": "3085de2b",
   "metadata": {},
   "outputs": [
    {
     "data": {
      "text/plain": [
       "date                      object\n",
       "quarter                   object\n",
       "department                object\n",
       "day                       object\n",
       "team                       int64\n",
       "targeted_productivity    float64\n",
       "smv                      float64\n",
       "wip                      float64\n",
       "over_time                  int64\n",
       "incentive                  int64\n",
       "idle_time                float64\n",
       "idle_men                   int64\n",
       "no_of_style_change         int64\n",
       "no_of_workers            float64\n",
       "actual_productivity      float64\n",
       "dtype: object"
      ]
     },
     "execution_count": 35,
     "metadata": {},
     "output_type": "execute_result"
    }
   ],
   "source": [
    "df.dtypes"
   ]
  },
  {
   "cell_type": "markdown",
   "id": "8927c859",
   "metadata": {},
   "source": [
    "#  Basic Summary statistics of the data for the numerical variable"
   ]
  },
  {
   "cell_type": "code",
   "execution_count": 36,
   "id": "644d8c24",
   "metadata": {},
   "outputs": [
    {
     "data": {
      "text/html": [
       "<div>\n",
       "<style scoped>\n",
       "    .dataframe tbody tr th:only-of-type {\n",
       "        vertical-align: middle;\n",
       "    }\n",
       "\n",
       "    .dataframe tbody tr th {\n",
       "        vertical-align: top;\n",
       "    }\n",
       "\n",
       "    .dataframe thead th {\n",
       "        text-align: right;\n",
       "    }\n",
       "</style>\n",
       "<table border=\"1\" class=\"dataframe\">\n",
       "  <thead>\n",
       "    <tr style=\"text-align: right;\">\n",
       "      <th></th>\n",
       "      <th>team</th>\n",
       "      <th>targeted_productivity</th>\n",
       "      <th>smv</th>\n",
       "      <th>wip</th>\n",
       "      <th>over_time</th>\n",
       "      <th>incentive</th>\n",
       "      <th>idle_time</th>\n",
       "      <th>idle_men</th>\n",
       "      <th>no_of_style_change</th>\n",
       "      <th>no_of_workers</th>\n",
       "      <th>actual_productivity</th>\n",
       "    </tr>\n",
       "  </thead>\n",
       "  <tbody>\n",
       "    <tr>\n",
       "      <th>count</th>\n",
       "      <td>1197.000000</td>\n",
       "      <td>1197.000000</td>\n",
       "      <td>1197.000000</td>\n",
       "      <td>691.000000</td>\n",
       "      <td>1197.000000</td>\n",
       "      <td>1197.000000</td>\n",
       "      <td>1197.000000</td>\n",
       "      <td>1197.000000</td>\n",
       "      <td>1197.000000</td>\n",
       "      <td>1197.000000</td>\n",
       "      <td>1197.000000</td>\n",
       "    </tr>\n",
       "    <tr>\n",
       "      <th>mean</th>\n",
       "      <td>6.426901</td>\n",
       "      <td>0.729632</td>\n",
       "      <td>15.062172</td>\n",
       "      <td>1190.465991</td>\n",
       "      <td>4567.460317</td>\n",
       "      <td>38.210526</td>\n",
       "      <td>0.730159</td>\n",
       "      <td>0.369256</td>\n",
       "      <td>0.150376</td>\n",
       "      <td>34.609858</td>\n",
       "      <td>0.735091</td>\n",
       "    </tr>\n",
       "    <tr>\n",
       "      <th>std</th>\n",
       "      <td>3.463963</td>\n",
       "      <td>0.097891</td>\n",
       "      <td>10.943219</td>\n",
       "      <td>1837.455001</td>\n",
       "      <td>3348.823563</td>\n",
       "      <td>160.182643</td>\n",
       "      <td>12.709757</td>\n",
       "      <td>3.268987</td>\n",
       "      <td>0.427848</td>\n",
       "      <td>22.197687</td>\n",
       "      <td>0.174488</td>\n",
       "    </tr>\n",
       "    <tr>\n",
       "      <th>min</th>\n",
       "      <td>1.000000</td>\n",
       "      <td>0.070000</td>\n",
       "      <td>2.900000</td>\n",
       "      <td>7.000000</td>\n",
       "      <td>0.000000</td>\n",
       "      <td>0.000000</td>\n",
       "      <td>0.000000</td>\n",
       "      <td>0.000000</td>\n",
       "      <td>0.000000</td>\n",
       "      <td>2.000000</td>\n",
       "      <td>0.233705</td>\n",
       "    </tr>\n",
       "    <tr>\n",
       "      <th>25%</th>\n",
       "      <td>3.000000</td>\n",
       "      <td>0.700000</td>\n",
       "      <td>3.940000</td>\n",
       "      <td>774.500000</td>\n",
       "      <td>1440.000000</td>\n",
       "      <td>0.000000</td>\n",
       "      <td>0.000000</td>\n",
       "      <td>0.000000</td>\n",
       "      <td>0.000000</td>\n",
       "      <td>9.000000</td>\n",
       "      <td>0.650307</td>\n",
       "    </tr>\n",
       "    <tr>\n",
       "      <th>50%</th>\n",
       "      <td>6.000000</td>\n",
       "      <td>0.750000</td>\n",
       "      <td>15.260000</td>\n",
       "      <td>1039.000000</td>\n",
       "      <td>3960.000000</td>\n",
       "      <td>0.000000</td>\n",
       "      <td>0.000000</td>\n",
       "      <td>0.000000</td>\n",
       "      <td>0.000000</td>\n",
       "      <td>34.000000</td>\n",
       "      <td>0.773333</td>\n",
       "    </tr>\n",
       "    <tr>\n",
       "      <th>75%</th>\n",
       "      <td>9.000000</td>\n",
       "      <td>0.800000</td>\n",
       "      <td>24.260000</td>\n",
       "      <td>1252.500000</td>\n",
       "      <td>6960.000000</td>\n",
       "      <td>50.000000</td>\n",
       "      <td>0.000000</td>\n",
       "      <td>0.000000</td>\n",
       "      <td>0.000000</td>\n",
       "      <td>57.000000</td>\n",
       "      <td>0.850253</td>\n",
       "    </tr>\n",
       "    <tr>\n",
       "      <th>max</th>\n",
       "      <td>12.000000</td>\n",
       "      <td>0.800000</td>\n",
       "      <td>54.560000</td>\n",
       "      <td>23122.000000</td>\n",
       "      <td>25920.000000</td>\n",
       "      <td>3600.000000</td>\n",
       "      <td>300.000000</td>\n",
       "      <td>45.000000</td>\n",
       "      <td>2.000000</td>\n",
       "      <td>89.000000</td>\n",
       "      <td>1.120437</td>\n",
       "    </tr>\n",
       "  </tbody>\n",
       "</table>\n",
       "</div>"
      ],
      "text/plain": [
       "              team  targeted_productivity          smv           wip     over_time    incentive    idle_time  \\\n",
       "count  1197.000000            1197.000000  1197.000000    691.000000   1197.000000  1197.000000  1197.000000   \n",
       "mean      6.426901               0.729632    15.062172   1190.465991   4567.460317    38.210526     0.730159   \n",
       "std       3.463963               0.097891    10.943219   1837.455001   3348.823563   160.182643    12.709757   \n",
       "min       1.000000               0.070000     2.900000      7.000000      0.000000     0.000000     0.000000   \n",
       "25%       3.000000               0.700000     3.940000    774.500000   1440.000000     0.000000     0.000000   \n",
       "50%       6.000000               0.750000    15.260000   1039.000000   3960.000000     0.000000     0.000000   \n",
       "75%       9.000000               0.800000    24.260000   1252.500000   6960.000000    50.000000     0.000000   \n",
       "max      12.000000               0.800000    54.560000  23122.000000  25920.000000  3600.000000   300.000000   \n",
       "\n",
       "          idle_men  no_of_style_change  no_of_workers  actual_productivity  \n",
       "count  1197.000000         1197.000000    1197.000000          1197.000000  \n",
       "mean      0.369256            0.150376      34.609858             0.735091  \n",
       "std       3.268987            0.427848      22.197687             0.174488  \n",
       "min       0.000000            0.000000       2.000000             0.233705  \n",
       "25%       0.000000            0.000000       9.000000             0.650307  \n",
       "50%       0.000000            0.000000      34.000000             0.773333  \n",
       "75%       0.000000            0.000000      57.000000             0.850253  \n",
       "max      45.000000            2.000000      89.000000             1.120437  "
      ]
     },
     "execution_count": 36,
     "metadata": {},
     "output_type": "execute_result"
    }
   ],
   "source": [
    "df.describe()"
   ]
  },
  {
   "cell_type": "markdown",
   "id": "24a14150",
   "metadata": {},
   "source": [
    " # basic Summary of the data for the number of working days, count of quarters in the year"
   ]
  },
  {
   "cell_type": "code",
   "execution_count": 37,
   "id": "4cdaee75",
   "metadata": {},
   "outputs": [
    {
     "name": "stdout",
     "output_type": "stream",
     "text": [
      "         count unique        top freq\n",
      "quarter                              \n",
      "Quarter1   360      6    Tuesday   62\n",
      "Quarter2   335      6     Sunday   64\n",
      "Quarter3   210      6  Wednesday   40\n",
      "Quarter4   248      6   Saturday   44\n",
      "Quarter5    44      2   Saturday   24\n"
     ]
    }
   ],
   "source": [
    "workingdays=df.groupby('quarter')['day'].describe()\n",
    "\n",
    "print(workingdays)"
   ]
  },
  {
   "cell_type": "markdown",
   "id": "12c5b6d7",
   "metadata": {},
   "source": [
    "# Mean and standard deviation of actual producivity for every quarter and   \n",
    "#  Histogram plot of actual productivity based on every quarter and conclusion accordingly"
   ]
  },
  {
   "cell_type": "code",
   "execution_count": 38,
   "id": "8735c91b",
   "metadata": {},
   "outputs": [
    {
     "data": {
      "text/plain": [
       "quarter\n",
       "Quarter1    0.751560\n",
       "Quarter2    0.743710\n",
       "Quarter3    0.704759\n",
       "Quarter4    0.709067\n",
       "Quarter5    0.826177\n",
       "Name: actual_productivity, dtype: float64"
      ]
     },
     "execution_count": 38,
     "metadata": {},
     "output_type": "execute_result"
    }
   ],
   "source": [
    "df.groupby('quarter')['actual_productivity'].mean()\n"
   ]
  },
  {
   "cell_type": "code",
   "execution_count": 39,
   "id": "3b8b9031",
   "metadata": {},
   "outputs": [
    {
     "data": {
      "text/plain": [
       "<Axes: xlabel='actual_productivity', ylabel='Count'>"
      ]
     },
     "execution_count": 39,
     "metadata": {},
     "output_type": "execute_result"
    },
    {
     "data": {
      "image/png": "[encoded data removed]",
      "text/plain": [
       "<Figure size 640x480 with 1 Axes>"
      ]
     },
     "metadata": {},
     "output_type": "display_data"
    }
   ],
   "source": [
    "sns.histplot(data=df,x=df['actual_productivity'], hue=df['quarter'])"
   ]
  },
  {
   "cell_type": "markdown",
   "id": "be322e33",
   "metadata": {},
   "source": [
    " # Number count for sewing and finishing department"
   ]
  },
  {
   "cell_type": "code",
   "execution_count": 40,
   "id": "9a3da010",
   "metadata": {},
   "outputs": [
    {
     "name": "stdout",
     "output_type": "stream",
     "text": [
      "Sewing Count: \n",
      "  691\n",
      "Finishing Count:\n",
      "  506\n"
     ]
    }
   ],
   "source": [
    "sewing_count=df[df['department']=='sewing']['department'].count()\n",
    "print(\"Sewing Count: \\n \",sewing_count)\n",
    "\n",
    "finishing_count=df[df['department']=='finishing']['department'].count()\n",
    "print(\"Finishing Count:\\n \",finishing_count)"
   ]
  },
  {
   "cell_type": "markdown",
   "id": "657551bb",
   "metadata": {},
   "source": [
    "# Mean and standard deviation of actual producivity for sewing and finishing Histogram plot of actual productivity  based on both department and conclusion accordingly"
   ]
  },
  {
   "cell_type": "code",
   "execution_count": 41,
   "id": "f0d68509",
   "metadata": {},
   "outputs": [
    {
     "name": "stdout",
     "output_type": "stream",
     "text": [
      "Mean of Actual Productivity for Sewing:  0.7220130317105644\n",
      "\n",
      "Standard Deviation of Actual Productivity for Sewing:  0.15478432010106713\n",
      "\n",
      "Mean of Actual Productivity for Finishing:  0.7529506683241106\n",
      "\n",
      "Standard Deviation of Actual Productivity for Finishing:  0.1970209830649775\n"
     ]
    }
   ],
   "source": [
    "mean_actual_productivity_sewing=df[df['department']=='sewing']['actual_productivity'].mean()\n",
    "print(\"Mean of Actual Productivity for Sewing: \",mean_actual_productivity_sewing)\n",
    "\n",
    "std_actual_productivity_sewing=df[df['department']=='sewing']['actual_productivity'].std()\n",
    "print(\"\\nStandard Deviation of Actual Productivity for Sewing: \",std_actual_productivity_sewing)\n",
    "\n",
    "\n",
    "mean_actual_productivity_finishing=df[df['department']=='finishing']['actual_productivity'].mean()\n",
    "print(\"\\nMean of Actual Productivity for Finishing: \",mean_actual_productivity_finishing)\n",
    "\n",
    "\n",
    "std_actual_productivity_finishing=df[df['department']=='finishing']['actual_productivity'].std()\n",
    "print(\"\\nStandard Deviation of Actual Productivity for Finishing: \",std_actual_productivity_finishing)"
   ]
  },
  {
   "cell_type": "markdown",
   "id": "f8a89ee0",
   "metadata": {},
   "source": [
    "# Number count for each teams, smv across the year"
   ]
  },
  {
   "cell_type": "code",
   "execution_count": 42,
   "id": "60506325",
   "metadata": {},
   "outputs": [
    {
     "name": "stdout",
     "output_type": "stream",
     "text": [
      "team  smv    month\n",
      "1     3.94   1        23\n",
      "             2        16\n",
      "             3        10\n",
      "      22.52  2        15\n",
      "      22.53  2         2\n",
      "                      ..\n",
      "12    15.26  1        11\n",
      "             2        23\n",
      "             3        10\n",
      "      26.16  1         1\n",
      "      26.87  1         1\n",
      "Length: 205, dtype: int64\n"
     ]
    }
   ],
   "source": [
    "df['month'] = pd.DatetimeIndex(df['date']).month \n",
    "\n",
    "team_smv_count = df.groupby(['team', 'smv', 'month']).size()\n",
    "\n",
    "print(team_smv_count)"
   ]
  },
  {
   "cell_type": "markdown",
   "id": "b8631c56",
   "metadata": {},
   "source": [
    " # Histogram plot of actual productivity based on all working days, team size"
   ]
  },
  {
   "cell_type": "code",
   "execution_count": 43,
   "id": "821ec6d0",
   "metadata": {},
   "outputs": [
    {
     "data": {
      "text/plain": [
       "Text(0.5, 1.0, 'Histogram Plot between Actual Productivity vs Working Day')"
      ]
     },
     "execution_count": 43,
     "metadata": {},
     "output_type": "execute_result"
    },
    {
     "data": {
      "image/png": "[encoded data removed]",
      "text/plain": [
       "<Figure size 640x480 with 1 Axes>"
      ]
     },
     "metadata": {},
     "output_type": "display_data"
    }
   ],
   "source": [
    "sns.histplot(data=df,x=df['actual_productivity'], hue=df['day'])\n",
    "plt.title(\"Histogram Plot between Actual Productivity vs Working Day\")"
   ]
  },
  {
   "cell_type": "code",
   "execution_count": 44,
   "id": "8a4b7383",
   "metadata": {},
   "outputs": [
    {
     "data": {
      "text/plain": [
       "Text(0.5, 1.0, 'Histogram Plot between Actual Productivity vs Team Size')"
      ]
     },
     "execution_count": 44,
     "metadata": {},
     "output_type": "execute_result"
    },
    {
     "data": {
      "image/png": "[encoded data removed]",
      "text/plain": [
       "<Figure size 640x480 with 1 Axes>"
      ]
     },
     "metadata": {},
     "output_type": "display_data"
    }
   ],
   "source": [
    "sns.histplot(data=df,x=df['actual_productivity'], hue=df['team'])\n",
    "plt.title(\"Histogram Plot between Actual Productivity vs Team Size\")"
   ]
  },
  {
   "cell_type": "markdown",
   "id": "910e5dbf",
   "metadata": {},
   "source": [
    "# Find correlation matrix and draw heat map for all variables"
   ]
  },
  {
   "cell_type": "code",
   "execution_count": 45,
   "id": "a56ae60b",
   "metadata": {
    "scrolled": true
   },
   "outputs": [
    {
     "name": "stdout",
     "output_type": "stream",
     "text": [
      "<class 'pandas.core.frame.DataFrame'>\n",
      "RangeIndex: 1197 entries, 0 to 1196\n",
      "Data columns (total 16 columns):\n",
      " #   Column                 Non-Null Count  Dtype  \n",
      "---  ------                 --------------  -----  \n",
      " 0   date                   1197 non-null   object \n",
      " 1   quarter                1197 non-null   object \n",
      " 2   department             1197 non-null   object \n",
      " 3   day                    1197 non-null   object \n",
      " 4   team                   1197 non-null   int64  \n",
      " 5   targeted_productivity  1197 non-null   float64\n",
      " 6   smv                    1197 non-null   float64\n",
      " 7   wip                    691 non-null    float64\n",
      " 8   over_time              1197 non-null   int64  \n",
      " 9   incentive              1197 non-null   int64  \n",
      " 10  idle_time              1197 non-null   float64\n",
      " 11  idle_men               1197 non-null   int64  \n",
      " 12  no_of_style_change     1197 non-null   int64  \n",
      " 13  no_of_workers          1197 non-null   float64\n",
      " 14  actual_productivity    1197 non-null   float64\n",
      " 15  month                  1197 non-null   int32  \n",
      "dtypes: float64(6), int32(1), int64(5), object(4)\n",
      "memory usage: 145.1+ KB\n"
     ]
    }
   ],
   "source": [
    "df.info()"
   ]
  },
  {
   "cell_type": "code",
   "execution_count": 46,
   "id": "24cacd8b",
   "metadata": {},
   "outputs": [
    {
     "data": {
      "text/plain": [
       "<Axes: >"
      ]
     },
     "execution_count": 46,
     "metadata": {},
     "output_type": "execute_result"
    },
    {
     "data": {
      "image/png": "[encoded data removed]",
      "text/plain": [
       "<Figure size 640x480 with 2 Axes>"
      ]
     },
     "metadata": {},
     "output_type": "display_data"
    }
   ],
   "source": [
    "df_new=df.drop(['date','quarter','department','day','team','month'],axis=1)\n",
    "\n",
    "import pandas as pd\n",
    "\n",
    "pd.set_option('display.max_rows', 20)\n",
    "pd.set_option('display.max_columns', 20)\n",
    "pd.set_option('display.width', 120)\n",
    "\n",
    "corr_matrix = df_new.corr()\n",
    "\n",
    "sns.heatmap(corr_matrix, annot=True, cmap='coolwarm', fmt=\".2f\")\n"
   ]
  },
  {
   "cell_type": "markdown",
   "id": "a1a7e0bf",
   "metadata": {},
   "source": [
    "# Conclude (Is the company able to meet target, are they giving incentives based on producitivity, does overtime have any effect on productivity)"
   ]
  },
  {
   "cell_type": "code",
   "execution_count": 47,
   "id": "fdb87ed9",
   "metadata": {},
   "outputs": [],
   "source": [
    "#No significant correlation between actual , targeted prodcutivity with incentives.\")\n",
    "#No significant correlation between actual , targeted prodcutivity with overtime.\")"
   ]
  },
  {
   "cell_type": "markdown",
   "id": "c259a357",
   "metadata": {},
   "source": [
    "# Find the correlation between actual and target productivity for every quarter and for every department. \n",
    "# What do you conclude"
   ]
  },
  {
   "cell_type": "code",
   "execution_count": 48,
   "id": "4cf372df",
   "metadata": {},
   "outputs": [],
   "source": [
    "#No high correlation between actual productivity and target productivity.\")\n",
    "#Therefore we can conclude that the company is not able to meet the target.\")"
   ]
  },
  {
   "cell_type": "markdown",
   "id": "788905b9",
   "metadata": {},
   "source": [
    "11. Test using Z test (take a random sample of more than 30 and assume sigma =.1) whether the finishing department has achieved more acheived producitivity than .75 for a standard deviation of .1. State your null and alternative hypothesis. alpha value is .05\n",
    "\n",
    "12. Test using Z test(take a random sample of more than 30 and assume sigma =.1) whether the sewing department has achieved more producitivit than .75 for a standard deviation of .1. State your null and alternative hypothesis. alpha value is .05.\n",
    "\n",
    "13. Conduct a two sample t test (take a random sample more than 30) to check whether the finishing department has achieved more actual productivtiy than sewing department. State your null and alternative hypothesis \n",
    "\n",
    "14. Conduct a two sample t (take a random sample less than 30) test to check whether the finishing department has achieved obtained higher incentive than sewing department, state your null and alternative hypothesis. In case test fails for normality check, then take a sample more than 30. \n",
    "\n",
    "15. Conduct an ANOVA for comparing productivity for Quarter1, Quarter2, Quarter3, Quarter 4 and accordingly conclude (Assume data is normally distributed)\n",
    "\n",
    "16. The manager has asked you to classifiy low productivity as less than .5, medium between .5 and less than .75 and higher\n",
    "    as greater than or equal to .75. He believes that the percentage of  actual producvity  in  sewing departemnt for   \n",
    "    person classified as low is 30%, for medium is 40% and for high is 30%. USing chi square test can you prove whether his \n",
    "    hypothesis is right or not "
   ]
  },
  {
   "cell_type": "code",
   "execution_count": 49,
   "id": "49202a8a",
   "metadata": {},
   "outputs": [
    {
     "data": {
      "text/html": [
       "<div>\n",
       "<style scoped>\n",
       "    .dataframe tbody tr th:only-of-type {\n",
       "        vertical-align: middle;\n",
       "    }\n",
       "\n",
       "    .dataframe tbody tr th {\n",
       "        vertical-align: top;\n",
       "    }\n",
       "\n",
       "    .dataframe thead th {\n",
       "        text-align: right;\n",
       "    }\n",
       "</style>\n",
       "<table border=\"1\" class=\"dataframe\">\n",
       "  <thead>\n",
       "    <tr style=\"text-align: right;\">\n",
       "      <th></th>\n",
       "      <th>date</th>\n",
       "      <th>quarter</th>\n",
       "      <th>department</th>\n",
       "      <th>day</th>\n",
       "      <th>team</th>\n",
       "      <th>targeted_productivity</th>\n",
       "      <th>smv</th>\n",
       "      <th>wip</th>\n",
       "      <th>over_time</th>\n",
       "      <th>incentive</th>\n",
       "      <th>idle_time</th>\n",
       "      <th>idle_men</th>\n",
       "      <th>no_of_style_change</th>\n",
       "      <th>no_of_workers</th>\n",
       "      <th>actual_productivity</th>\n",
       "      <th>month</th>\n",
       "    </tr>\n",
       "  </thead>\n",
       "  <tbody>\n",
       "    <tr>\n",
       "      <th>0</th>\n",
       "      <td>01/01/15</td>\n",
       "      <td>Quarter1</td>\n",
       "      <td>sewing</td>\n",
       "      <td>Thursday</td>\n",
       "      <td>8</td>\n",
       "      <td>0.80</td>\n",
       "      <td>26.16</td>\n",
       "      <td>1108.0</td>\n",
       "      <td>7080</td>\n",
       "      <td>98</td>\n",
       "      <td>0.0</td>\n",
       "      <td>0</td>\n",
       "      <td>0</td>\n",
       "      <td>59.0</td>\n",
       "      <td>0.940725</td>\n",
       "      <td>1</td>\n",
       "    </tr>\n",
       "    <tr>\n",
       "      <th>1</th>\n",
       "      <td>01/01/15</td>\n",
       "      <td>Quarter1</td>\n",
       "      <td>finishing</td>\n",
       "      <td>Thursday</td>\n",
       "      <td>1</td>\n",
       "      <td>0.75</td>\n",
       "      <td>3.94</td>\n",
       "      <td>NaN</td>\n",
       "      <td>960</td>\n",
       "      <td>0</td>\n",
       "      <td>0.0</td>\n",
       "      <td>0</td>\n",
       "      <td>0</td>\n",
       "      <td>8.0</td>\n",
       "      <td>0.886500</td>\n",
       "      <td>1</td>\n",
       "    </tr>\n",
       "    <tr>\n",
       "      <th>2</th>\n",
       "      <td>01/01/15</td>\n",
       "      <td>Quarter1</td>\n",
       "      <td>sewing</td>\n",
       "      <td>Thursday</td>\n",
       "      <td>11</td>\n",
       "      <td>0.80</td>\n",
       "      <td>11.41</td>\n",
       "      <td>968.0</td>\n",
       "      <td>3660</td>\n",
       "      <td>50</td>\n",
       "      <td>0.0</td>\n",
       "      <td>0</td>\n",
       "      <td>0</td>\n",
       "      <td>30.5</td>\n",
       "      <td>0.800570</td>\n",
       "      <td>1</td>\n",
       "    </tr>\n",
       "    <tr>\n",
       "      <th>3</th>\n",
       "      <td>01/01/15</td>\n",
       "      <td>Quarter1</td>\n",
       "      <td>sewing</td>\n",
       "      <td>Thursday</td>\n",
       "      <td>12</td>\n",
       "      <td>0.80</td>\n",
       "      <td>11.41</td>\n",
       "      <td>968.0</td>\n",
       "      <td>3660</td>\n",
       "      <td>50</td>\n",
       "      <td>0.0</td>\n",
       "      <td>0</td>\n",
       "      <td>0</td>\n",
       "      <td>30.5</td>\n",
       "      <td>0.800570</td>\n",
       "      <td>1</td>\n",
       "    </tr>\n",
       "    <tr>\n",
       "      <th>4</th>\n",
       "      <td>01/01/15</td>\n",
       "      <td>Quarter1</td>\n",
       "      <td>sewing</td>\n",
       "      <td>Thursday</td>\n",
       "      <td>6</td>\n",
       "      <td>0.80</td>\n",
       "      <td>25.90</td>\n",
       "      <td>1170.0</td>\n",
       "      <td>1920</td>\n",
       "      <td>50</td>\n",
       "      <td>0.0</td>\n",
       "      <td>0</td>\n",
       "      <td>0</td>\n",
       "      <td>56.0</td>\n",
       "      <td>0.800382</td>\n",
       "      <td>1</td>\n",
       "    </tr>\n",
       "  </tbody>\n",
       "</table>\n",
       "</div>"
      ],
      "text/plain": [
       "       date   quarter department       day  team  targeted_productivity    smv     wip  over_time  incentive  \\\n",
       "0  01/01/15  Quarter1     sewing  Thursday     8                   0.80  26.16  1108.0       7080         98   \n",
       "1  01/01/15  Quarter1  finishing  Thursday     1                   0.75   3.94     NaN        960          0   \n",
       "2  01/01/15  Quarter1     sewing  Thursday    11                   0.80  11.41   968.0       3660         50   \n",
       "3  01/01/15  Quarter1     sewing  Thursday    12                   0.80  11.41   968.0       3660         50   \n",
       "4  01/01/15  Quarter1     sewing  Thursday     6                   0.80  25.90  1170.0       1920         50   \n",
       "\n",
       "   idle_time  idle_men  no_of_style_change  no_of_workers  actual_productivity  month  \n",
       "0        0.0         0                   0           59.0             0.940725      1  \n",
       "1        0.0         0                   0            8.0             0.886500      1  \n",
       "2        0.0         0                   0           30.5             0.800570      1  \n",
       "3        0.0         0                   0           30.5             0.800570      1  \n",
       "4        0.0         0                   0           56.0             0.800382      1  "
      ]
     },
     "execution_count": 49,
     "metadata": {},
     "output_type": "execute_result"
    }
   ],
   "source": [
    "df.head()"
   ]
  },
  {
   "cell_type": "code",
   "execution_count": 50,
   "id": "113b7fe2",
   "metadata": {},
   "outputs": [
    {
     "name": "stdout",
     "output_type": "stream",
     "text": [
      "H0: Finishing Department has achieved average productivity <= 0.75\n",
      "H1: Finishing Department has achieved average productivity > 0.75 (claim)\n",
      "\n",
      "Critical Value: 1.6448536269514729\n",
      "\n",
      "t-value: 0.33688616122943815, p-value: 0.3681013589531266\n",
      "Test Value |0.33688616122943815| < Critical Value |1.6448536269514729|\n",
      "P Value |0.3681013589531266| > Alpha |0.05|\n",
      "\n",
      "Therefore we cannot reject H0.\n",
      "There is not enough evidence to support the claim that Finishing Department has achieved mean productivity > 0.75\n"
     ]
    }
   ],
   "source": [
    "#11\n",
    "#Given Details\n",
    "#n>30\n",
    "sigma=0.1\n",
    "alpha=0.05\n",
    "mu=0.75\n",
    "\n",
    "#Hypothesis:\n",
    "print(\"H0: Finishing Department has achieved average productivity <= 0.75\")\n",
    "print(\"H1: Finishing Department has achieved average productivity > 0.75 (claim)\")\n",
    "\n",
    "\n",
    "CV=stats.norm.isf(alpha)\n",
    "\n",
    "print(\"\\nCritical Value:\", CV)\n",
    "\n",
    "\n",
    "t_val, p_val= stests.ztest( df[df['department']=='finishing']['actual_productivity'], value=mu, alternative='larger')\n",
    "\n",
    "\n",
    "print(f\"\\nt-value: {t_val}, p-value: {p_val}\")\n",
    "\n",
    "#Decision\n",
    "print(f\"Test Value |{t_val}| < Critical Value |{CV}|\")\n",
    "print(f\"P Value |{p_val}| > Alpha |{alpha}|\")\n",
    "print(\"\\nTherefore we cannot reject H0.\")\n",
    "\n",
    "\n",
    "#Conclusion\n",
    "print(\"There is not enough evidence to support the claim that Finishing Department has achieved mean productivity > 0.75\")\n"
   ]
  },
  {
   "cell_type": "code",
   "execution_count": 51,
   "id": "963cd86b",
   "metadata": {},
   "outputs": [
    {
     "name": "stdout",
     "output_type": "stream",
     "text": [
      "Hypothesis:\n",
      "H0: Sewing department has achieved average productivity <= 0.75\n",
      "H1: Sewing department has achieved average productivity > 0.75 (claim)\n",
      "\n",
      "Critical Value: 1.6448536269514729\n",
      "\n",
      "t-value: -4.753001108226257 , p-value: 0.9999989979037549\n",
      "t-value |-4.753001108226257| < Critical Value |1.6448536269514729|\n",
      "p-value |0.9999989979037549| > alpha |0.05|\n",
      "Therefore we cannot reject H0.\n",
      "There is not enough evidence to support the claim that Sewing department has achieved average productivity > 0.75  \n"
     ]
    }
   ],
   "source": [
    "#12\n",
    "#Given Details\n",
    "#n>30\n",
    "sigma=0.1\n",
    "alpha=0.05\n",
    "mu=0.75\n",
    "\n",
    "print(\"Hypothesis:\")\n",
    "print(\"H0: Sewing department has achieved average productivity <= 0.75\")\n",
    "print(\"H1: Sewing department has achieved average productivity > 0.75 (claim)\")\n",
    "\n",
    "\n",
    "CV=stats.norm.isf(alpha)\n",
    "\n",
    "print(\"\\nCritical Value:\",CV)\n",
    "\n",
    "\n",
    "t_val, p_val= stests.ztest(df[df['department']=='sewing']['actual_productivity'], value=mu, alternative='larger')\n",
    "\n",
    "print(f\"\\nt-value: {t_val} , p-value: {p_val}\")\n",
    "\n",
    "#Decision:\n",
    "print(f\"t-value |{t_val}| < Critical Value |{CV}|\")\n",
    "print(f\"p-value |{p_val}| > alpha |{alpha}|\")\n",
    "print(\"Therefore we cannot reject H0.\")\n",
    "\n",
    "\n",
    "#Conclusion:\n",
    "print(\"There is not enough evidence to support the claim that Sewing department has achieved average productivity > 0.75  \")\n",
    "\n"
   ]
  },
  {
   "cell_type": "code",
   "execution_count": 52,
   "id": "11d95b88",
   "metadata": {},
   "outputs": [
    {
     "name": "stdout",
     "output_type": "stream",
     "text": [
      "H0: Average productivity of the finishing department - Average productivity of the sewing department <=0 \n",
      "H1: Average productivity of the finishing department - Average productivity of the sewing department >0 (claim)\n",
      "As Lavene Test's p-value 2.7982149624090482e-05 < alpha 0.05.\n",
      "Therefore both samples have unequal variances.\n",
      "\n",
      "As Two sample t-test p-value |0.9081774513669003| > alpha |0.05|\n",
      "Therefore, we cannot reject H0. \n",
      "There is not enough evidence to support the claim that Average productivity of the finishing department - Average productivity of the sewing department > 0.\n"
     ]
    }
   ],
   "source": [
    "#13\n",
    "\n",
    "#Given details \n",
    "n1=30\n",
    "n2=30\n",
    "\n",
    "alpha=0.05\n",
    "\n",
    "#Create Two Independent Samples\n",
    "sewing_productivity=df[df['department']=='sewing']['actual_productivity'].head(30)\n",
    "finishing_productivity=df[df['department']=='finishing']['actual_productivity'].head(30)\n",
    "\n",
    "#Hypothesis: \n",
    "print(\"H0: Average productivity of the finishing department - Average productivity of the sewing department <=0 \")    \n",
    "print(\"H1: Average productivity of the finishing department - Average productivity of the sewing department >0 (claim)\")\n",
    "\n",
    "lavene_stat, lavene_p_value = stats.levene(sewing_productivity, finishing_productivity)\n",
    "\n",
    "print(f\"As Lavene Test's p-value {lavene_p_value} < alpha {alpha}.\\nTherefore both samples have unequal variances.\")\n",
    " \n",
    "    \n",
    "t_val,p_val=stats.ttest_ind(sewing_productivity, finishing_productivity,equal_var=False)\n",
    "\n",
    "print(f\"\\nAs Two sample t-test p-value |{p_val}| > alpha |{alpha}|\")\n",
    "print(\"Therefore, we cannot reject H0. \")\n",
    "\n",
    "#Conclusion\n",
    "print(\"There is not enough evidence to support the claim that Average productivity of the finishing department - Average productivity of the sewing department > 0.\")\n",
    "\n"
   ]
  },
  {
   "cell_type": "code",
   "execution_count": 53,
   "id": "537a9caf",
   "metadata": {},
   "outputs": [
    {
     "name": "stdout",
     "output_type": "stream",
     "text": [
      "1.0\n",
      "0.10865028202533722\n",
      "\n",
      "Shapiro Test p-value for both the samples > alpha |0.05|.\n",
      "Therefore the samples are randomly distributed.\n",
      "H0: Average Incentive of Finishing department - Average Incentive Sewing department <=0\n",
      "H1: Average Incentive of Finishing department - Average Incentive Sewing department >  0\n",
      "\n",
      "Lavene Test's p-value |4.3210176080251995e-17| < alpha |0.05|.\n",
      "Therefore both the samples have unequal variances.\n",
      "\n",
      "Two sample t-test p-value: 1.0195268901699233e-21\n",
      "As two sample t-Test p-value |1.0195268901699233e-21| < alpha |0.05|.\n",
      "Therefore we can reject H0.\n",
      "There is enough evidence to support the claim that Average Incentive of Finishing department - Average Incentive Sewing department > 0\n"
     ]
    }
   ],
   "source": [
    "#14\n",
    "\n",
    "#Given Details\n",
    "n1=30\n",
    "n2=30\n",
    "alpha=0.05\n",
    "\n",
    "\n",
    "finishing_incentive=df[df['department']=='finishing']['incentive'].head(60)\n",
    "sewing_incentive=df[df['department']=='sewing']['incentive'].head(300).tail(60)\n",
    "\n",
    "\n",
    "shapiro_finishing_stat,shapiro_finishing_pval=stats.shapiro(finishing_incentive)\n",
    "print(shapiro_finishing_pval)\n",
    "\n",
    "shapiro_sewing_stat,shapiro_sewing_pval=stats.shapiro(sewing_incentive)\n",
    "print(shapiro_sewing_pval)\n",
    "\n",
    "print(f\"\\nShapiro Test p-value for both the samples > alpha |{alpha}|.\\nTherefore the samples are randomly distributed.\")\n",
    "\n",
    "\n",
    "#Hypothesis:\n",
    "print(\"H0: Average Incentive of Finishing department - Average Incentive Sewing department <=0\")\n",
    "print(\"H1: Average Incentive of Finishing department - Average Incentive Sewing department >  0\")\n",
    "\n",
    "\n",
    "lavene_pval, lavene_pval = stats.levene(finishing_incentive,sewing_incentive)\n",
    "\n",
    "print(f\"\\nLavene Test's p-value |{lavene_pval}| < alpha |{alpha}|.\\nTherefore both the samples have unequal variances.\")\n",
    "\n",
    "\n",
    "t_val, p_val=stats.ttest_ind(finishing_incentive, sewing_incentive, equal_var=False)\n",
    "\n",
    "print(\"\\nTwo sample t-test p-value:\",p_val)\n",
    "\n",
    "#Decision\n",
    "print(f\"As two sample t-Test p-value |{p_val}| < alpha |{alpha}|.\\nTherefore we can reject H0.\")\n",
    "      \n",
    "\n",
    "#Conclusion\n",
    "print(\"There is enough evidence to support the claim that Average Incentive of Finishing department - Average Incentive Sewing department > 0\")\n"
   ]
  },
  {
   "cell_type": "code",
   "execution_count": 54,
   "id": "92960235",
   "metadata": {},
   "outputs": [
    {
     "name": "stdout",
     "output_type": "stream",
     "text": [
      "H0: All quareters have equal average productivity \n",
      "H0: Atleast one quareter has different average productivity \n",
      "\n",
      "Critical Value: 2.6123621914367705\n",
      "\n",
      "Levene's p-value for Variance:0.08246483203771338\n",
      "\n",
      "Oneway ANOVA's tvalue:5.274463802636486, p-value:0.0012927759459059219\n",
      "Reject H0 as p-value |0.0012927759459059219|< alpha |0.05| and test-value |5.274463802636486| > critical value |2.6123621914367705| \n",
      "There is enough evidence to support the claim that atleast one quarter has different average productivity\n"
     ]
    }
   ],
   "source": [
    "#15\n",
    "q1= df[df['quarter']=='Quarter1']['actual_productivity']\n",
    "q2= df[df['quarter']=='Quarter2']['actual_productivity']\n",
    "q3= df[df['quarter']=='Quarter3']['actual_productivity']\n",
    "q4= df[df['quarter']=='Quarter4']['actual_productivity']\n",
    "\n",
    "#Hypothesis:\n",
    "print(\"H0: All quareters have equal average productivity \")\n",
    "print(\"H0: Atleast one quareter has different average productivity \")\n",
    "\n",
    "\n",
    "#Calculating Critical Value\n",
    "k=4\n",
    "N=len(df)\n",
    "dfN=k-1\n",
    "dfD=N-k\n",
    "\n",
    "cv=stats.f.isf(0.05,dfN,dfD)\n",
    "print(\"\\nCritical Value:\",cv)\n",
    "\n",
    "#Check for equality of variances\n",
    "variance_tval,variance_pval =stats.levene(q1,q2,q3,q4)\n",
    "print(f\"\\nLevene's p-value for Variance:{variance_pval}\")\n",
    "\n",
    "\n",
    "tval,pval =stats.f_oneway(q1,q2,q3,q4)\n",
    "print(f\"\\nOneway ANOVA's tvalue:{tval}, p-value:{pval}\")\n",
    "\n",
    "#Decision:\n",
    "print(f\"Reject H0 as p-value |{pval}|< alpha |{alpha}| and test-value |{tval}| > critical value |{cv}| \")\n",
    "\n",
    "#Conclusion:\n",
    "print(\"There is enough evidence to support the claim that atleast one quarter has different average productivity\")\n"
   ]
  },
  {
   "cell_type": "code",
   "execution_count": 55,
   "id": "ccd9f09e",
   "metadata": {},
   "outputs": [
    {
     "name": "stdout",
     "output_type": "stream",
     "text": [
      "H0: Actual Productivity and Department are indepenednent\n",
      "H1: Actual Productivity is dependent on Department (Claim)\n"
     ]
    },
    {
     "data": {
      "text/html": [
       "<div>\n",
       "<style scoped>\n",
       "    .dataframe tbody tr th:only-of-type {\n",
       "        vertical-align: middle;\n",
       "    }\n",
       "\n",
       "    .dataframe tbody tr th {\n",
       "        vertical-align: top;\n",
       "    }\n",
       "\n",
       "    .dataframe thead th {\n",
       "        text-align: right;\n",
       "    }\n",
       "</style>\n",
       "<table border=\"1\" class=\"dataframe\">\n",
       "  <thead>\n",
       "    <tr style=\"text-align: right;\">\n",
       "      <th>actual_productivity</th>\n",
       "      <th>0.233705</th>\n",
       "      <th>0.235795</th>\n",
       "      <th>0.238042</th>\n",
       "      <th>0.246250</th>\n",
       "      <th>0.247316</th>\n",
       "      <th>0.249417</th>\n",
       "      <th>0.251399</th>\n",
       "      <th>0.256500</th>\n",
       "      <th>0.258000</th>\n",
       "      <th>0.259375</th>\n",
       "      <th>...</th>\n",
       "      <th>1.033156</th>\n",
       "      <th>1.033570</th>\n",
       "      <th>1.050281</th>\n",
       "      <th>1.050667</th>\n",
       "      <th>1.057963</th>\n",
       "      <th>1.059621</th>\n",
       "      <th>1.096633</th>\n",
       "      <th>1.100484</th>\n",
       "      <th>1.108125</th>\n",
       "      <th>1.120437</th>\n",
       "    </tr>\n",
       "    <tr>\n",
       "      <th>department</th>\n",
       "      <th></th>\n",
       "      <th></th>\n",
       "      <th></th>\n",
       "      <th></th>\n",
       "      <th></th>\n",
       "      <th></th>\n",
       "      <th></th>\n",
       "      <th></th>\n",
       "      <th></th>\n",
       "      <th></th>\n",
       "      <th></th>\n",
       "      <th></th>\n",
       "      <th></th>\n",
       "      <th></th>\n",
       "      <th></th>\n",
       "      <th></th>\n",
       "      <th></th>\n",
       "      <th></th>\n",
       "      <th></th>\n",
       "      <th></th>\n",
       "      <th></th>\n",
       "    </tr>\n",
       "  </thead>\n",
       "  <tbody>\n",
       "    <tr>\n",
       "      <th>finishing</th>\n",
       "      <td>0</td>\n",
       "      <td>1</td>\n",
       "      <td>1</td>\n",
       "      <td>1</td>\n",
       "      <td>1</td>\n",
       "      <td>0</td>\n",
       "      <td>0</td>\n",
       "      <td>1</td>\n",
       "      <td>1</td>\n",
       "      <td>1</td>\n",
       "      <td>...</td>\n",
       "      <td>1</td>\n",
       "      <td>1</td>\n",
       "      <td>0</td>\n",
       "      <td>1</td>\n",
       "      <td>1</td>\n",
       "      <td>1</td>\n",
       "      <td>1</td>\n",
       "      <td>0</td>\n",
       "      <td>1</td>\n",
       "      <td>1</td>\n",
       "    </tr>\n",
       "    <tr>\n",
       "      <th>sewing</th>\n",
       "      <td>1</td>\n",
       "      <td>0</td>\n",
       "      <td>0</td>\n",
       "      <td>0</td>\n",
       "      <td>0</td>\n",
       "      <td>1</td>\n",
       "      <td>1</td>\n",
       "      <td>0</td>\n",
       "      <td>0</td>\n",
       "      <td>0</td>\n",
       "      <td>...</td>\n",
       "      <td>0</td>\n",
       "      <td>0</td>\n",
       "      <td>1</td>\n",
       "      <td>0</td>\n",
       "      <td>0</td>\n",
       "      <td>0</td>\n",
       "      <td>0</td>\n",
       "      <td>1</td>\n",
       "      <td>0</td>\n",
       "      <td>0</td>\n",
       "    </tr>\n",
       "  </tbody>\n",
       "</table>\n",
       "<p>2 rows × 879 columns</p>\n",
       "</div>"
      ],
      "text/plain": [
       "actual_productivity  0.233705  0.235795  0.238042  0.246250  0.247316  0.249417  0.251399  0.256500  0.258000  \\\n",
       "department                                                                                                      \n",
       "finishing                   0         1         1         1         1         0         0         1         1   \n",
       "sewing                      1         0         0         0         0         1         1         0         0   \n",
       "\n",
       "actual_productivity  0.259375  ...  1.033156  1.033570  1.050281  1.050667  1.057963  1.059621  1.096633  1.100484  \\\n",
       "department                     ...                                                                                   \n",
       "finishing                   1  ...         1         1         0         1         1         1         1         0   \n",
       "sewing                      0  ...         0         0         1         0         0         0         0         1   \n",
       "\n",
       "actual_productivity  1.108125  1.120437  \n",
       "department                               \n",
       "finishing                   1         1  \n",
       "sewing                      0         0  \n",
       "\n",
       "[2 rows x 879 columns]"
      ]
     },
     "execution_count": 55,
     "metadata": {},
     "output_type": "execute_result"
    }
   ],
   "source": [
    "#16\n",
    "\n",
    "alpha=0.05\n",
    "\n",
    "#Hypothesis:\n",
    "\n",
    "print(\"H0: Actual Productivity and Department are indepenednent\")\n",
    "print(\"H1: Actual Productivity is dependent on Department (Claim)\")\n",
    "\n",
    "\n",
    "#Get the cross tabulation table \n",
    "observed = pd.crosstab(df['department'],df['actual_productivity'])\n",
    "observed"
   ]
  },
  {
   "cell_type": "code",
   "execution_count": 56,
   "id": "561cda18",
   "metadata": {},
   "outputs": [
    {
     "name": "stdout",
     "output_type": "stream",
     "text": [
      "Columns: 879\n",
      "Rows: 2\n"
     ]
    }
   ],
   "source": [
    "print(\"Columns:\",len(observed.columns))\n",
    "print(\"Rows:\",len(observed))"
   ]
  },
  {
   "cell_type": "code",
   "execution_count": 57,
   "id": "d0a32b13",
   "metadata": {},
   "outputs": [
    {
     "data": {
      "text/plain": [
       "array([[0, 1, 1, ..., 0, 1, 1],\n",
       "       [1, 0, 0, ..., 1, 0, 0]])"
      ]
     },
     "execution_count": 57,
     "metadata": {},
     "output_type": "execute_result"
    }
   ],
   "source": [
    "#Create the values of the table\n",
    "observed_values = observed.values\n",
    "observed_values"
   ]
  },
  {
   "cell_type": "code",
   "execution_count": 58,
   "id": "66c505b7",
   "metadata": {},
   "outputs": [
    {
     "name": "stdout",
     "output_type": "stream",
     "text": [
      "Critical Value =  948.0451836927294\n"
     ]
    }
   ],
   "source": [
    "#Get the critical Value\n",
    "R=879\n",
    "C=2\n",
    "\n",
    "dof=(R-1)*(C-1)\n",
    "\n",
    "cv=chi2.isf(alpha,df=dof)\n",
    "\n",
    "print(\"Critical Value = \", cv)"
   ]
  },
  {
   "cell_type": "code",
   "execution_count": 59,
   "id": "a6a0b436",
   "metadata": {},
   "outputs": [
    {
     "name": "stdout",
     "output_type": "stream",
     "text": [
      "Chi Square Test t-value |1197.0|, p-value |3.379397973696696e-12|\n",
      "Reject H0 since p-value |3.379397973696696e-12| << alpha |0.05| and t-value |1197.0| >> Critical Value |948.0451836927294|\n",
      "There is enough evidence to support the claim that Department and Actual Productivity are related.\n"
     ]
    }
   ],
   "source": [
    "tval, pval, df, expected = chi2_contingency(observed_values, correction=False)\n",
    "print(f\"Chi Square Test t-value |{tval}|, p-value |{pval}|\")\n",
    "\n",
    "#Decision:\n",
    "print(f\"Reject H0 since p-value |{pval}| << alpha |{alpha}| and t-value |{tval}| >> Critical Value |{cv}|\")\n",
    "\n",
    "#Conclusion:\n",
    "print(\"There is enough evidence to support the claim that Department and Actual Productivity are related.\")"
   ]
  },
  {
   "cell_type": "code",
   "execution_count": null,
   "id": "636a57c2",
   "metadata": {},
   "outputs": [],
   "source": []
  }
 ],
 "metadata": {
  "kernelspec": {
   "display_name": "Python 3 (ipykernel)",
   "language": "python",
   "name": "python3"
  },
  "language_info": {
   "codemirror_mode": {
    "name": "ipython",
    "version": 3
   },
   "file_extension": ".py",
   "mimetype": "text/x-python",
   "name": "python",
   "nbconvert_exporter": "python",
   "pygments_lexer": "ipython3",
   "version": "3.11.11"
  }
 },
 "nbformat": 4,
 "nbformat_minor": 5
}
